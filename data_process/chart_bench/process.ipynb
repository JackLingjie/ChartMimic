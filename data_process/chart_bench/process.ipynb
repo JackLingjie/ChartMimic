{
 "cells": [
  {
   "cell_type": "code",
   "execution_count": 3,
   "metadata": {},
   "outputs": [
    {
     "name": "stderr",
     "output_type": "stream",
     "text": [
      "/home/v-lingjiang/miniconda3/envs/chartmimic/lib/python3.9/site-packages/tqdm/auto.py:21: TqdmWarning: IProgress not found. Please update jupyter and ipywidgets. See https://ipywidgets.readthedocs.io/en/stable/user_install.html\n",
      "  from .autonotebook import tqdm as notebook_tqdm\n"
     ]
    }
   ],
   "source": [
    "from datasets import load_dataset\n",
    "\n",
    "ds_train = load_dataset(\"SincereX/ChartBench\", split=\"train_data\")\n",
    "ds_test = load_dataset(\"SincereX/ChartBench\", split=\"test_data\")"
   ]
  },
  {
   "cell_type": "code",
   "execution_count": 11,
   "metadata": {},
   "outputs": [
    {
     "data": {
      "text/plain": [
       "{'id': 0,\n",
       " 'image': './data/train/area/area/chart_0/image.png',\n",
       " 'type': {'chart': 'area', 'image': 'area', 'task': 'CR', 'QA': 'Acc+'},\n",
       " 'conversation': [{'label': 'Yes',\n",
       "   'query': 'This graph is a area chart, instead of pie chart.'},\n",
       "  {'label': 'No',\n",
       "   'query': 'This graph is a pie chart, instead of area chart.'}]}"
      ]
     },
     "execution_count": 11,
     "metadata": {},
     "output_type": "execute_result"
    }
   ],
   "source": [
    "all_data = ds_train + "
   ]
  },
  {
   "cell_type": "code",
   "execution_count": 15,
   "metadata": {},
   "outputs": [
    {
     "data": {
      "text/plain": [
       "68724"
      ]
     },
     "execution_count": 15,
     "metadata": {},
     "output_type": "execute_result"
    }
   ],
   "source": [
    "all_images = set()\n",
    "for item in ds_train:\n",
    "    all_images.add(item['image'])\n",
    "for item in ds_test:\n",
    "    all_images.add(item['image'])\n",
    "len(all_images)"
   ]
  },
  {
   "cell_type": "code",
   "execution_count": 5,
   "metadata": {},
   "outputs": [
    {
     "data": {
      "text/plain": [
       "66624"
      ]
     },
     "execution_count": 5,
     "metadata": {},
     "output_type": "execute_result"
    }
   ],
   "source": [
    "all_images = list(all_images)\n",
    "len(all_images)"
   ]
  },
  {
   "cell_type": "code",
   "execution_count": 16,
   "metadata": {},
   "outputs": [],
   "source": [
    "import os  \n",
    "  \n",
    "# 基础路径  \n",
    "base_path = '/mnt/lingjiejiang/multimodal_code/data/chart_data/ChartBench'  \n",
    "  \n",
    "# # 原始图片路径列表  \n",
    "# all_images = [  \n",
    "#     './data/train/pie/InteSun/chart_461/image.png',  \n",
    "#     './data/train/line/line_multi/chart_57/image.png'  \n",
    "# ]  \n",
    "  \n",
    "# 转换为字典列表  \n",
    "dict_list = []  \n",
    "for image_path in all_images:  \n",
    "    # 分割路径字符串  \n",
    "    parts = image_path.split('/')  \n",
    "      \n",
    "    # 提取目录信息  \n",
    "    category = parts[3]  # 'pie' or 'line'  \n",
    "    image_type = parts[4]  # 'InteSun' or 'line_multi'  \n",
    "      \n",
    "    # 生成完整的图像路径  \n",
    "    full_image_path = os.path.join(base_path, image_path.lstrip('./'))  \n",
    "      \n",
    "    # 组织字典  \n",
    "    image_dict = {  \n",
    "        'image_path': full_image_path,  \n",
    "        'category': category,  \n",
    "        'image_type': image_type  \n",
    "    }  \n",
    "      \n",
    "    # 添加到列表中  \n",
    "    dict_list.append(image_dict)  "
   ]
  },
  {
   "cell_type": "code",
   "execution_count": 28,
   "metadata": {},
   "outputs": [],
   "source": [
    "from collections import defaultdict  \n",
    "import shutil\n",
    "# 创建一个字典来存储每种 image_type 的项目  \n",
    "image_type_dict = defaultdict(list)  \n",
    "  \n",
    "# 将每个项目添加到其 image_type 的列表中  \n",
    "for item in dict_list:  \n",
    "    image_type_dict[item['image_type']].append(item)  \n",
    "  \n",
    "# 复制前两个图像到指定目录  \n",
    "output_directory = \"image_preview\"  \n",
    "for image_type, items in image_type_dict.items():  \n",
    "    # 选择前两个项目  \n",
    "    selected_items = items[:2]  \n",
    "      \n",
    "    # 创建目录  \n",
    "    target_dir = os.path.join(output_directory, image_type)  \n",
    "    os.makedirs(target_dir, exist_ok=True)  \n",
    "      \n",
    "    # 复制图像  \n",
    "    for index, item in enumerate(selected_items):  \n",
    "        target_path = os.path.join(target_dir, f\"image{index}.png\")  \n",
    "        shutil.copy(item['image_path'], target_path)  "
   ]
  },
  {
   "cell_type": "code",
   "execution_count": null,
   "metadata": {},
   "outputs": [],
   "source": []
  },
  {
   "cell_type": "code",
   "execution_count": 30,
   "metadata": {},
   "outputs": [
    {
     "data": {
      "text/plain": [
       "102"
      ]
     },
     "execution_count": 30,
     "metadata": {},
     "output_type": "execute_result"
    }
   ],
   "source": [
    "with open(\"prompts.txt\", \"r\") as f:\n",
    "    prompts = f.readlines()\n",
    "prompts = [prompt.strip() for prompt in prompts]\n",
    "len(prompts)"
   ]
  },
  {
   "cell_type": "code",
   "execution_count": 25,
   "metadata": {},
   "outputs": [
    {
     "data": {
      "text/plain": [
       "{'image_path': '/mnt/lingjiejiang/multimodal_code/data/chart_data/ChartBench/data/test/node_link/node_link_dir/chart_25/image.png',\n",
       " 'category': 'node_link',\n",
       " 'image_type': 'node_link_dir',\n",
       " 'prompt': 'Formulate a matplotlib script that duplicates the diagram from the image. Remember to use figsize=(width, height) for the correct dimensions.'}"
      ]
     },
     "execution_count": 25,
     "metadata": {},
     "output_type": "execute_result"
    }
   ],
   "source": [
    "for item in dict_list:  \n",
    "    item['prompt'] = random.choice(prompts)  \n",
    "dict_list[0]"
   ]
  },
  {
   "cell_type": "code",
   "execution_count": 31,
   "metadata": {},
   "outputs": [
    {
     "data": {
      "text/plain": [
       "[{'image_path': '/mnt/lingjiejiang/multimodal_code/data/chart_data/ChartBench/data/test/node_link/node_link_dir/chart_25/image.png',\n",
       "  'category': 'node_link',\n",
       "  'image_type': 'node_link_dir',\n",
       "  'prompt': 'Formulate a matplotlib script that duplicates the diagram from the image. Remember to use figsize=(width, height) for the correct dimensions.'},\n",
       " {'image_path': '/mnt/lingjiejiang/multimodal_code/data/chart_data/ChartBench/data/train/pie/InteSun/chart_461/image.png',\n",
       "  'category': 'pie',\n",
       "  'image_type': 'InteSun',\n",
       "  'prompt': 'Can you create matplotlib code that replicates the given image, ensuring the dimensions are set with figsize=(width, height)? Pay attention to every visual cue, such as axis formatting, color schemes, and title fonts.'}]"
      ]
     },
     "execution_count": 31,
     "metadata": {},
     "output_type": "execute_result"
    }
   ],
   "source": [
    "dict_list[:2]"
   ]
  },
  {
   "cell_type": "code",
   "execution_count": 32,
   "metadata": {},
   "outputs": [],
   "source": [
    "import json \n",
    "with open(\"/mnt/lingjiejiang/multimodal_code/data/chart_data/ChartBench/image_info_68k.json\", \"w\") as f:\n",
    "    json.dump(dict_list, f)"
   ]
  },
  {
   "cell_type": "code",
   "execution_count": null,
   "metadata": {},
   "outputs": [],
   "source": [
    "with open('chartbench.json', 'w') as f:\n",
    "    for item in dict_list:\n",
    "        f.write(str(item) + '\\n')"
   ]
  },
  {
   "cell_type": "code",
   "execution_count": 21,
   "metadata": {},
   "outputs": [
    {
     "data": {
      "text/plain": [
       "[{'image_path': '/mnt/lingjiejiang/multimodal_code/data/chart_data/ChartBench/data/test/node_link/node_link_dir/chart_25/image.png',\n",
       "  'category': 'node_link',\n",
       "  'image_type': 'node_link_dir'},\n",
       " {'image_path': '/mnt/lingjiejiang/multimodal_code/data/chart_data/ChartBench/data/train/pie/InteSun/chart_461/image.png',\n",
       "  'category': 'pie',\n",
       "  'image_type': 'InteSun'}]"
      ]
     },
     "execution_count": 21,
     "metadata": {},
     "output_type": "execute_result"
    }
   ],
   "source": [
    "dict_list[:2]"
   ]
  },
  {
   "cell_type": "code",
   "execution_count": 18,
   "metadata": {},
   "outputs": [],
   "source": [
    "# import random\n",
    "# # 将数据按 image_type 分类  \n",
    "# image_type_groups = {}  \n",
    "# for item in dict_list:  \n",
    "#     image_type = item['image_type']  \n",
    "#     if image_type not in image_type_groups:  \n",
    "#         image_type_groups[image_type] = []  \n",
    "#     image_type_groups[image_type].append(item)  \n",
    "  \n",
    "# # 随机去掉每个 image_type 的 50 个数据  \n",
    "# filtered_dict_list = []  \n",
    "# for image_type, items in image_type_groups.items():  \n",
    "#     if len(items) > 50:  \n",
    "#         # 随机选择要删除的索引  \n",
    "#         indices_to_remove = random.sample(range(len(items)), 50)  \n",
    "#         # 保留未删除的项  \n",
    "#         filtered_items = [item for i, item in enumerate(items) if i not in indices_to_remove]  \n",
    "#         filtered_dict_list.extend(filtered_items)  \n",
    "#     else:  \n",
    "#         # 如果数量少于或等于50，则不删除  \n",
    "#         filtered_dict_list.extend(items)  \n",
    "# len(filtered_dict_list)"
   ]
  }
 ],
 "metadata": {
  "kernelspec": {
   "display_name": "chartmimic",
   "language": "python",
   "name": "python3"
  },
  "language_info": {
   "codemirror_mode": {
    "name": "ipython",
    "version": 3
   },
   "file_extension": ".py",
   "mimetype": "text/x-python",
   "name": "python",
   "nbconvert_exporter": "python",
   "pygments_lexer": "ipython3",
   "version": "3.9.0"
  }
 },
 "nbformat": 4,
 "nbformat_minor": 2
}
