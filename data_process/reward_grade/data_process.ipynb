{
 "cells": [
  {
   "cell_type": "code",
   "execution_count": 1,
   "metadata": {},
   "outputs": [
    {
     "data": {
      "text/plain": [
       "{'index': 0,\n",
       " 'code_extract': \"import matplotlib.pyplot as plt\\n\\n# Data\\nquarters = ['Q1', 'Q2', 'Q3', 'Q4']\\nrevenue_2022 = [150, 200, 250, 300]\\nrevenue_2023 = [180, 230, 290, 350]\\n\\n# Create the plot\\nplt.figure(figsize=(10, 6))\\nplt.plot(quarters, revenue_2022, 'b-o', label='2022 Revenue')\\nplt.plot(quarters, revenue_2023, 'g--s', label='2023 Revenue')\\n\\n# Highlight the highest revenue point\\nplt.annotate('Highest Revenue', xy=('Q4', 350), xytext=('Q4', 360),\\n             arrowprops=dict(facecolor='black', shrink=0.05))\\n\\n# Labels and title\\nplt.xlabel('Quarter')\\nplt.ylabel('Revenue (in millions)')\\nplt.title('Quarterly Revenue Comparison: 2022 vs 2023', fontweight='bold')\\n\\n# Legend\\nplt.legend()\\n\\n# Grid\\nplt.grid(True)\\n\\n# Show plot\\nplt.show()\",\n",
       " 'generate_raw': \"To reproduce the graph using Matplotlib with the specified dimensions, you can use the following code:\\n\\n```python\\nimport matplotlib.pyplot as plt\\n\\n# Data\\nquarters = ['Q1', 'Q2', 'Q3', 'Q4']\\nrevenue_2022 = [150, 200, 250, 300]\\nrevenue_2023 = [180, 230, 290, 350]\\n\\n# Create the plot\\nplt.figure(figsize=(10, 6))\\nplt.plot(quarters, revenue_2022, 'b-o', label='2022 Revenue')\\nplt.plot(quarters, revenue_2023, 'g--s', label='2023 Revenue')\\n\\n# Highlight the highest revenue point\\nplt.annotate('Highest Revenue', xy=('Q4', 350), xytext=('Q4', 360),\\n             arrowprops=dict(facecolor='black', shrink=0.05))\\n\\n# Labels and title\\nplt.xlabel('Quarter')\\nplt.ylabel('Revenue (in millions)')\\nplt.title('Quarterly Revenue Comparison: 2022 vs 2023', fontweight='bold')\\n\\n# Legend\\nplt.legend()\\n\\n# Grid\\nplt.grid(True)\\n\\n# Show plot\\nplt.show()\\n```\\n\\nThis code sets up the plot with the specified dimensions, plots the data for 2022 and 2023, adds the annotation for the highest revenue point in Q4 2023, and includes labels, title, and a legend.\",\n",
       " 'stop_reason': 'stop',\n",
       " 'model': 'gpt4o',\n",
       " 'evol_text': \"import matplotlib.pyplot as plt\\nimport numpy as np\\n\\n# Create data for the demonstration: quarterly revenue over a year\\nquarters = np.array([1, 2, 3, 4])\\nrevenue_2022 = np.array([150, 200, 250, 300])  # Revenue in millions for 2022\\nrevenue_2023 = np.array([180, 230, 280, 350])  # Revenue in millions for 2023\\n\\n# Create a new figure with a larger size for better presentation\\nfig, ax = plt.subplots(figsize=(10, 6))\\n\\n# Plot the data with enhanced line styles and markers\\nax.plot(quarters, revenue_2022, marker='o', linestyle='-', color='b', linewidth=2, label='2022 Revenue')\\nax.plot(quarters, revenue_2023, marker='s', linestyle='--', color='g', linewidth=2, label='2023 Revenue')\\n\\n# Set axis labels with more descriptive text\\nax.set_xlabel('Quarter', fontsize=12)\\nax.set_ylabel('Revenue (in millions)', fontsize=12)\\n\\n# Add a title with increased font size for emphasis\\nax.set_title('Quarterly Revenue Comparison: 2022 vs 2023', fontsize=14, fontweight='bold')\\n\\n# Add grid lines for improved readability\\nax.grid(True, which='both', linestyle='--', linewidth=0.5)\\n\\n# Customize the x-axis ticks to show quarter names\\nax.set_xticks(quarters)\\nax.set_xticklabels(['Q1', 'Q2', 'Q3', 'Q4'])\\n\\n# Add a legend with a shadow effect for better distinction\\nax.legend(loc='upper left', shadow=True, fontsize=10)\\n\\n# Annotate a significant point for emphasis\\nmax_revenue_2023 = max(revenue_2023)\\nmax_quarter_2023 = quarters[revenue_2023.argmax()]\\nax.annotate('Highest Revenue', xy=(max_quarter_2023, max_revenue_2023),\\n            xytext=(max_quarter_2023 + 0.1, max_revenue_2023 - 20),\\n            arrowprops=dict(facecolor='black', shrink=0.05),\\n            fontsize=10, ha='center')\\n\\n# Tight layout for better spacing\\nplt.tight_layout()\\n\\n# Show the plot\\nplt.show()\",\n",
       " 'gpt_evol_answer': \"To create an optimized and visually appealing line chart using Matplotlib, we'll enhance the original script by adding stylistic improvements, more informative data, and additional chart elements such as a title, gridlines, and annotations. Here's an improved version of the code:\\n\\n```python\\nimport matplotlib.pyplot as plt\\nimport numpy as np\\n\\n# Create data for the demonstration: quarterly revenue over a year\\nquarters = np.array([1, 2, 3, 4])\\nrevenue_2022 = np.array([150, 200, 250, 300])  # Revenue in millions for 2022\\nrevenue_2023 = np.array([180, 230, 280, 350])  # Revenue in millions for 2023\\n\\n# Create a new figure with a larger size for better presentation\\nfig, ax = plt.subplots(figsize=(10, 6))\\n\\n# Plot the data with enhanced line styles and markers\\nax.plot(quarters, revenue_2022, marker='o', linestyle='-', color='b', linewidth=2, label='2022 Revenue')\\nax.plot(quarters, revenue_2023, marker='s', linestyle='--', color='g', linewidth=2, label='2023 Revenue')\\n\\n# Set axis labels with more descriptive text\\nax.set_xlabel('Quarter', fontsize=12)\\nax.set_ylabel('Revenue (in millions)', fontsize=12)\\n\\n# Add a title with increased font size for emphasis\\nax.set_title('Quarterly Revenue Comparison: 2022 vs 2023', fontsize=14, fontweight='bold')\\n\\n# Add grid lines for improved readability\\nax.grid(True, which='both', linestyle='--', linewidth=0.5)\\n\\n# Customize the x-axis ticks to show quarter names\\nax.set_xticks(quarters)\\nax.set_xticklabels(['Q1', 'Q2', 'Q3', 'Q4'])\\n\\n# Add a legend with a shadow effect for better distinction\\nax.legend(loc='upper left', shadow=True, fontsize=10)\\n\\n# Annotate a significant point for emphasis\\nmax_revenue_2023 = max(revenue_2023)\\nmax_quarter_2023 = quarters[revenue_2023.argmax()]\\nax.annotate('Highest Revenue', xy=(max_quarter_2023, max_revenue_2023),\\n            xytext=(max_quarter_2023 + 0.1, max_revenue_2023 - 20),\\n            arrowprops=dict(facecolor='black', shrink=0.05),\\n            fontsize=10, ha='center')\\n\\n# Tight layout for better spacing\\nplt.tight_layout()\\n\\n# Show the plot\\nplt.show()\\n```\\n\\n### Key Enhancements:\\n1. **Data Context**: The data now represents a realistic scenario: quarterly revenues over two years, making the chart more engaging and informative.\\n2. **Stylistic Improvements**:\\n   - Different line styles (`-` for 2022 and `--` for 2023) and markers (`o` for 2022 and `s` for 2023) differentiate the datasets.\\n   - The use of color and line width enhances visual clarity.\\n3. **Annotations**: An annotation highlights the highest revenue point in 2023, providing additional insight.\\n4. **Gridlines**: Adding gridlines improves readability.\\n5. **Legend and Title**: Enhanced legend with shadow for better visualization and a bold title for emphasis.\\n6. **Axis Labels and Ticks**: Descriptive axis labels and custom x-tick labels improve the chart's clarity and presentation.\",\n",
       " 'revised_text': \"import matplotlib.pyplot as plt  \\nimport numpy as np  \\n\\n# Sample data  \\nx = np.linspace(0, 1, 100)  \\ny = x**2  \\n\\n# Create a new figure  \\nfig = plt.figure(figsize=(6.0, 4.0))  \\n\\n# Plot the data  \\nplt.plot(x, y, label='y = x^2')  \\n\\n# Set labels  \\nplt.xlabel('X')  \\nplt.ylabel('Y')  \\n\\n# Add a legend  \\nplt.legend()  \\n\\n# Show the plot  \\nplt.show()\",\n",
       " 'category': 'Line',\n",
       " 'chart_size': [10.0, 6.0],\n",
       " 'max_stars_repo_path': 'giggleliu/tba/hgen/multithreading.py',\n",
       " 'max_stars_repo_name': 'Lynn-015/Test_01',\n",
       " 'max_stars_count': 2,\n",
       " 'id': '22978',\n",
       " 'text': \"#!/usr/bin/python\\nfrom numpy import *\\nfrom mpi4py import MPI\\nfrom matplotlib.pyplot import *\\n#MPI setting\\ntry:\\n    COMM=MPI.COMM_WORLD\\n    SIZE=COMM.Get_size()\\n    RANK=COMM.Get_rank()\\nexcept:\\n    COMM=None\\n    SIZE=1\\n    RANK=0\\n\\n__all__=['mpido']\\n\\ndef mpido(func,inputlist,bcastouputmesh=True):\\n    '''\\n    MPI for list input.\\n\\n    func:\\n        The function defined on inputlist.\\n    inputlist:\\n        The input list.\\n    bcastouputmesh:\\n        broadcast output mesh if True.\\n    '''\\n    N=len(inputlist)\\n    ntask=(N-1)/SIZE+1\\n    datas=[]\\n    for i in xrange(N):\\n        if i/ntask==RANK:\\n            datas.append(func(inputlist[i]))\\n    datal=COMM.gather(datas,root=0)\\n    if RANK==0:\\n        datas=[]\\n        for datai in datal:\\n            datas+=datai\\n    #broadcast mesh\\n    if bcastouputmesh:\\n        datas=COMM.bcast(datas,root=0)\\n    return datas\\n\\ndef test_mpido():\\n    x=linspace(0,1,100)\\n    y=mpido(func=lambda x:x**2,inputlist=x)\\n    if RANK==0:\\n        plot(x,y)\\n        show()\\n\\nif __name__=='__main__':\\n    test_mpido()\\n\",\n",
       " 'source': 'v1',\n",
       " 'images': ['/mnt/lingjiejiang/multimodal_code/data/dpo/chart/gpt4o_images1/000001.jpg'],\n",
       " 'prompt': 'Develop a matplotlib code that reproduces the picture, and ensure the dimensions match by using figsize=(10, 6).',\n",
       " 'messages': [{'content': '<image>\\nDevelop a matplotlib code that reproduces the picture, and ensure the dimensions match by using figsize=(10, 6).',\n",
       "   'role': 'user'},\n",
       "  {'content': \"```python\\nimport matplotlib.pyplot as plt\\n\\n# Data\\nquarters = ['Q1', 'Q2', 'Q3', 'Q4']\\nrevenue_2022 = [150, 200, 250, 300]\\nrevenue_2023 = [180, 230, 290, 350]\\n\\n# Create the plot\\nplt.figure(figsize=(10, 6))\\nplt.plot(quarters, revenue_2022, 'b-o', label='2022 Revenue')\\nplt.plot(quarters, revenue_2023, 'g--s', label='2023 Revenue')\\n\\n# Highlight the highest revenue point\\nplt.annotate('Highest Revenue', xy=('Q4', 350), xytext=('Q4', 360),\\n             arrowprops=dict(facecolor='black', shrink=0.05))\\n\\n# Labels and title\\nplt.xlabel('Quarter')\\nplt.ylabel('Revenue (in millions)')\\nplt.title('Quarterly Revenue Comparison: 2022 vs 2023', fontweight='bold')\\n\\n# Legend\\nplt.legend()\\n\\n# Grid\\nplt.grid(True)\\n\\n# Show plot\\nplt.show()\\n```\",\n",
       "   'role': 'assistant'}],\n",
       " 'gpt_prompt': 'Develop a matplotlib code that reproduces the picture, and ensure the dimensions match by using figsize=(10, 6).',\n",
       " 'type': 'chart',\n",
       " 'formatted_text': \"```python\\nimport matplotlib.pyplot as plt\\n\\n# Data\\nquarters = ['Q1', 'Q2', 'Q3', 'Q4']\\nrevenue_2022 = [150, 200, 250, 300]\\nrevenue_2023 = [180, 230, 290, 350]\\n\\n# Create the plot\\nplt.figure(figsize=(10, 6))\\nplt.plot(quarters, revenue_2022, 'b-o', label='2022 Revenue')\\nplt.plot(quarters, revenue_2023, 'g--s', label='2023 Revenue')\\n\\n# Highlight the highest revenue point\\nplt.annotate('Highest Revenue', xy=('Q4', 350), xytext=('Q4', 360),\\n             arrowprops=dict(facecolor='black', shrink=0.05))\\n\\n# Labels and title\\nplt.xlabel('Quarter')\\nplt.ylabel('Revenue (in millions)')\\nplt.title('Quarterly Revenue Comparison: 2022 vs 2023', fontweight='bold')\\n\\n# Legend\\nplt.legend()\\n\\n# Grid\\nplt.grid(True)\\n\\n# Show plot\\nplt.show()\\n```\"}"
      ]
     },
     "execution_count": 1,
     "metadata": {},
     "output_type": "execute_result"
    }
   ],
   "source": [
    "import json\n",
    "data_path = \"/mnt/lingjiejiang/multimodal_code/data/dpo/chart/github_gpt4o_chart_47k_code.json\"  \n",
    "with open(data_path, \"r\") as f:\n",
    "    data = json.load(f)\n",
    "data[0]"
   ]
  },
  {
   "cell_type": "code",
   "execution_count": 2,
   "metadata": {},
   "outputs": [
    {
     "data": {
      "text/plain": [
       "50476"
      ]
     },
     "execution_count": 2,
     "metadata": {},
     "output_type": "execute_result"
    }
   ],
   "source": [
    "input_path = \"/mnt/lingjiejiang/multimodal_code/data/dpo/chart/chart50k.json\"\n",
    "with open(input_path, \"r\") as f:\n",
    "    chart_origin = json.load(f)\n",
    "len(chart_origin)"
   ]
  },
  {
   "cell_type": "code",
   "execution_count": 5,
   "metadata": {},
   "outputs": [
    {
     "data": {
      "text/plain": [
       "{'index': 0,\n",
       " 'evol_text': \"import matplotlib.pyplot as plt\\nimport numpy as np\\n\\n# Create a more complex dataset\\nx = np.linspace(0, 10, 200)\\ny1 = np.sin(x)  # Original sine wave\\ny2 = np.cos(x)  # Additional cosine wave\\n\\n# Create a new figure with a larger size for better visibility\\nplt.figure(figsize=(10, 6))\\n\\n# Plot the sine wave with enhanced styling\\nplt.plot(x, y1, label='Sine Wave', color='royalblue', linewidth=2, linestyle='-', marker='o', markersize=5, markerfacecolor='orange')\\n\\n# Plot the cosine wave with a contrasting style\\nplt.plot(x, y2, label='Cosine Wave', color='tomato', linewidth=2, linestyle='--', marker='s', markersize=5, markerfacecolor='yellow')\\n\\n# Enhance the chart with titles and labels\\nplt.title('Trigonometric Functions: Sine and Cosine', fontsize=16, fontweight='bold')\\nplt.xlabel('Angle (radians)', fontsize=12)\\nplt.ylabel('Function Value', fontsize=12)\\n\\n# Add a grid for better readability\\nplt.grid(True, which='both', linestyle='--', linewidth=0.5)\\n\\n# Add a legend with a shadow for better distinction\\nplt.legend(loc='upper right', fontsize=12, shadow=True)\\n\\n# Customize x and y axis ticks\\nplt.xticks(np.arange(0, 11, 1))\\nplt.yticks(np.arange(-1, 1.5, 0.5))\\n\\n# Optimize layout to prevent clipping of elements\\nplt.tight_layout()\\n\\n# Show the enhanced plot\\nplt.show()\",\n",
       " 'gpt_evol_answer': \"To create a visually appealing and informative line chart using Matplotlib, we can enhance the original code by improving the aesthetics and adding meaningful details to the plot. Here's an optimized version of the code with improved styling and a more contextually appropriate dataset:\\n\\n```python\\nimport matplotlib.pyplot as plt\\nimport numpy as np\\n\\n# Create a more complex dataset\\nx = np.linspace(0, 10, 200)\\ny1 = np.sin(x)  # Original sine wave\\ny2 = np.cos(x)  # Additional cosine wave\\n\\n# Create a new figure with a larger size for better visibility\\nplt.figure(figsize=(10, 6))\\n\\n# Plot the sine wave with enhanced styling\\nplt.plot(x, y1, label='Sine Wave', color='royalblue', linewidth=2, linestyle='-', marker='o', markersize=5, markerfacecolor='orange')\\n\\n# Plot the cosine wave with a contrasting style\\nplt.plot(x, y2, label='Cosine Wave', color='tomato', linewidth=2, linestyle='--', marker='s', markersize=5, markerfacecolor='yellow')\\n\\n# Enhance the chart with titles and labels\\nplt.title('Trigonometric Functions: Sine and Cosine', fontsize=16, fontweight='bold')\\nplt.xlabel('Angle (radians)', fontsize=12)\\nplt.ylabel('Function Value', fontsize=12)\\n\\n# Add a grid for better readability\\nplt.grid(True, which='both', linestyle='--', linewidth=0.5)\\n\\n# Add a legend with a shadow for better distinction\\nplt.legend(loc='upper right', fontsize=12, shadow=True)\\n\\n# Customize x and y axis ticks\\nplt.xticks(np.arange(0, 11, 1))\\nplt.yticks(np.arange(-1, 1.5, 0.5))\\n\\n# Optimize layout to prevent clipping of elements\\nplt.tight_layout()\\n\\n# Show the enhanced plot\\nplt.show()\\n```\\n\\n### Enhancements Made:\\n\\n1. **Dataset Enrichment**: Added a cosine wave alongside the sine wave for comparison.\\n2. **Figure Size**: Increased the figure size to make the plot more readable.\\n3. **Line Styles and Markers**: Applied distinct line styles, colors, and markers to differentiate the sine and cosine waves.\\n4. **Titles and Labels**: Enhanced the title with a more descriptive name and increased font sizes for better readability.\\n5. **Grid**: Added a subtle grid to improve readability and reference.\\n6. **Legend**: Improved the legend's appearance with a shadow, making it more distinct.\\n7. **Ticks Customization**: Set custom ticks on both axes for clarity and precision.\\n8. **Layout Optimization**: Used `plt.tight_layout()` to ensure that all plot elements are nicely contained within the figure area.\\n\\nThese improvements make the chart not only more visually appealing but also more informative, enhancing the user's ability to interpret the data effectively.\",\n",
       " 'revised_text': \"import matplotlib.pyplot as plt  \\nimport numpy as np  \\n\\n# Sample data  \\nx = np.linspace(0, 10, 100)  \\ny = np.sin(x)  \\n\\n# Create a new figure  \\nplt.figure(figsize=(6.0, 4.0))  \\n\\n# Plot the data  \\nplt.plot(x, y, label='Sine Wave')  \\n\\n# Set labels  \\nplt.xlabel('X-axis')  \\nplt.ylabel('Y-axis')  \\nplt.title('Sine Wave')  \\n\\n# Show the plot  \\nplt.show()\",\n",
       " 'category': 'Line',\n",
       " 'chart_size': [10.0, 6.0],\n",
       " 'max_stars_repo_path': 'talleres_inov_docente/figures/plot_helpers.py',\n",
       " 'max_stars_repo_name': 'jfcaballero/Tutorial-sobre-scikit-learn-abreviado',\n",
       " 'max_stars_count': 576,\n",
       " 'id': '5734',\n",
       " 'text': \"from matplotlib.colors import ListedColormap\\n\\ncm3 = ListedColormap(['#0000aa', '#ff2020', '#50ff50'])\\ncm2 = ListedColormap(['#0000aa', '#ff2020'])\\n\",\n",
       " 'source': 'v1',\n",
       " 'images': ['/mnt/lingjiejiang/multimodal_code/data/chart_data/evol_images1/000001.jpg'],\n",
       " 'prompt': 'Generate a matplotlib script that captures the essence of the picture, setting the size with figsize=(10, 6).',\n",
       " 'messages': [{'content': '<image>\\nGenerate a matplotlib script that captures the essence of the picture, setting the size with figsize=(10, 6).',\n",
       "   'role': 'user'},\n",
       "  {'content': \"```python\\nimport matplotlib.pyplot as plt\\nimport numpy as np\\n\\n# Create a more complex dataset\\nx = np.linspace(0, 10, 200)\\ny1 = np.sin(x)  # Original sine wave\\ny2 = np.cos(x)  # Additional cosine wave\\n\\n# Create a new figure with a larger size for better visibility\\nplt.figure(figsize=(10, 6))\\n\\n# Plot the sine wave with enhanced styling\\nplt.plot(x, y1, label='Sine Wave', color='royalblue', linewidth=2, linestyle='-', marker='o', markersize=5, markerfacecolor='orange')\\n\\n# Plot the cosine wave with a contrasting style\\nplt.plot(x, y2, label='Cosine Wave', color='tomato', linewidth=2, linestyle='--', marker='s', markersize=5, markerfacecolor='yellow')\\n\\n# Enhance the chart with titles and labels\\nplt.title('Trigonometric Functions: Sine and Cosine', fontsize=16, fontweight='bold')\\nplt.xlabel('Angle (radians)', fontsize=12)\\nplt.ylabel('Function Value', fontsize=12)\\n\\n# Add a grid for better readability\\nplt.grid(True, which='both', linestyle='--', linewidth=0.5)\\n\\n# Add a legend with a shadow for better distinction\\nplt.legend(loc='upper right', fontsize=12, shadow=True)\\n\\n# Customize x and y axis ticks\\nplt.xticks(np.arange(0, 11, 1))\\nplt.yticks(np.arange(-1, 1.5, 0.5))\\n\\n# Optimize layout to prevent clipping of elements\\nplt.tight_layout()\\n\\n# Show the enhanced plot\\nplt.show()\\n```\",\n",
       "   'role': 'assistant'}],\n",
       " 'formatted_text': \"```python\\nimport matplotlib.pyplot as plt\\nimport numpy as np\\n\\n# Create a more complex dataset\\nx = np.linspace(0, 10, 200)\\ny1 = np.sin(x)  # Original sine wave\\ny2 = np.cos(x)  # Additional cosine wave\\n\\n# Create a new figure with a larger size for better visibility\\nplt.figure(figsize=(10, 6))\\n\\n# Plot the sine wave with enhanced styling\\nplt.plot(x, y1, label='Sine Wave', color='royalblue', linewidth=2, linestyle='-', marker='o', markersize=5, markerfacecolor='orange')\\n\\n# Plot the cosine wave with a contrasting style\\nplt.plot(x, y2, label='Cosine Wave', color='tomato', linewidth=2, linestyle='--', marker='s', markersize=5, markerfacecolor='yellow')\\n\\n# Enhance the chart with titles and labels\\nplt.title('Trigonometric Functions: Sine and Cosine', fontsize=16, fontweight='bold')\\nplt.xlabel('Angle (radians)', fontsize=12)\\nplt.ylabel('Function Value', fontsize=12)\\n\\n# Add a grid for better readability\\nplt.grid(True, which='both', linestyle='--', linewidth=0.5)\\n\\n# Add a legend with a shadow for better distinction\\nplt.legend(loc='upper right', fontsize=12, shadow=True)\\n\\n# Customize x and y axis ticks\\nplt.xticks(np.arange(0, 11, 1))\\nplt.yticks(np.arange(-1, 1.5, 0.5))\\n\\n# Optimize layout to prevent clipping of elements\\nplt.tight_layout()\\n\\n# Show the enhanced plot\\nplt.show()\\n```\",\n",
       " 'gpt_prompt': 'Generate a matplotlib script that captures the essence of the picture, setting the size with figsize=(10, 6).',\n",
       " 'type': 'chart'}"
      ]
     },
     "execution_count": 5,
     "metadata": {},
     "output_type": "execute_result"
    }
   ],
   "source": [
    "chart_origin[0]"
   ]
  },
  {
   "cell_type": "code",
   "execution_count": 13,
   "metadata": {},
   "outputs": [],
   "source": [
    "for item in chart_origin:\n",
    "    try:\n",
    "    \n",
    "        item[\"revised_text\"]\n",
    "    except Exception as e:\n",
    "        print(item.keys())\n",
    "        break"
   ]
  },
  {
   "cell_type": "code",
   "execution_count": 15,
   "metadata": {},
   "outputs": [
    {
     "data": {
      "text/plain": [
       "{'index': 0,\n",
       " 'code_extract': \"import matplotlib.pyplot as plt\\n\\n# Data\\nquarters = ['Q1', 'Q2', 'Q3', 'Q4']\\nrevenue_2022 = [150, 200, 250, 300]\\nrevenue_2023 = [180, 230, 290, 350]\\n\\n# Create the plot\\nplt.figure(figsize=(10, 6))\\nplt.plot(quarters, revenue_2022, 'b-o', label='2022 Revenue')\\nplt.plot(quarters, revenue_2023, 'g--s', label='2023 Revenue')\\n\\n# Highlight the highest revenue point\\nplt.annotate('Highest Revenue', xy=('Q4', 350), xytext=('Q4', 360),\\n             arrowprops=dict(facecolor='black', shrink=0.05))\\n\\n# Labels and title\\nplt.xlabel('Quarter')\\nplt.ylabel('Revenue (in millions)')\\nplt.title('Quarterly Revenue Comparison: 2022 vs 2023', fontweight='bold')\\n\\n# Legend\\nplt.legend()\\n\\n# Grid\\nplt.grid(True)\\n\\n# Show plot\\nplt.show()\",\n",
       " 'generate_raw': \"To reproduce the graph using Matplotlib with the specified dimensions, you can use the following code:\\n\\n```python\\nimport matplotlib.pyplot as plt\\n\\n# Data\\nquarters = ['Q1', 'Q2', 'Q3', 'Q4']\\nrevenue_2022 = [150, 200, 250, 300]\\nrevenue_2023 = [180, 230, 290, 350]\\n\\n# Create the plot\\nplt.figure(figsize=(10, 6))\\nplt.plot(quarters, revenue_2022, 'b-o', label='2022 Revenue')\\nplt.plot(quarters, revenue_2023, 'g--s', label='2023 Revenue')\\n\\n# Highlight the highest revenue point\\nplt.annotate('Highest Revenue', xy=('Q4', 350), xytext=('Q4', 360),\\n             arrowprops=dict(facecolor='black', shrink=0.05))\\n\\n# Labels and title\\nplt.xlabel('Quarter')\\nplt.ylabel('Revenue (in millions)')\\nplt.title('Quarterly Revenue Comparison: 2022 vs 2023', fontweight='bold')\\n\\n# Legend\\nplt.legend()\\n\\n# Grid\\nplt.grid(True)\\n\\n# Show plot\\nplt.show()\\n```\\n\\nThis code sets up the plot with the specified dimensions, plots the data for 2022 and 2023, adds the annotation for the highest revenue point in Q4 2023, and includes labels, title, and a legend.\",\n",
       " 'stop_reason': 'stop',\n",
       " 'model': 'gpt4o',\n",
       " 'evol_text': \"import matplotlib.pyplot as plt\\nimport numpy as np\\n\\n# Create data for the demonstration: quarterly revenue over a year\\nquarters = np.array([1, 2, 3, 4])\\nrevenue_2022 = np.array([150, 200, 250, 300])  # Revenue in millions for 2022\\nrevenue_2023 = np.array([180, 230, 280, 350])  # Revenue in millions for 2023\\n\\n# Create a new figure with a larger size for better presentation\\nfig, ax = plt.subplots(figsize=(10, 6))\\n\\n# Plot the data with enhanced line styles and markers\\nax.plot(quarters, revenue_2022, marker='o', linestyle='-', color='b', linewidth=2, label='2022 Revenue')\\nax.plot(quarters, revenue_2023, marker='s', linestyle='--', color='g', linewidth=2, label='2023 Revenue')\\n\\n# Set axis labels with more descriptive text\\nax.set_xlabel('Quarter', fontsize=12)\\nax.set_ylabel('Revenue (in millions)', fontsize=12)\\n\\n# Add a title with increased font size for emphasis\\nax.set_title('Quarterly Revenue Comparison: 2022 vs 2023', fontsize=14, fontweight='bold')\\n\\n# Add grid lines for improved readability\\nax.grid(True, which='both', linestyle='--', linewidth=0.5)\\n\\n# Customize the x-axis ticks to show quarter names\\nax.set_xticks(quarters)\\nax.set_xticklabels(['Q1', 'Q2', 'Q3', 'Q4'])\\n\\n# Add a legend with a shadow effect for better distinction\\nax.legend(loc='upper left', shadow=True, fontsize=10)\\n\\n# Annotate a significant point for emphasis\\nmax_revenue_2023 = max(revenue_2023)\\nmax_quarter_2023 = quarters[revenue_2023.argmax()]\\nax.annotate('Highest Revenue', xy=(max_quarter_2023, max_revenue_2023),\\n            xytext=(max_quarter_2023 + 0.1, max_revenue_2023 - 20),\\n            arrowprops=dict(facecolor='black', shrink=0.05),\\n            fontsize=10, ha='center')\\n\\n# Tight layout for better spacing\\nplt.tight_layout()\\n\\n# Show the plot\\nplt.show()\",\n",
       " 'gpt_evol_answer': \"To create an optimized and visually appealing line chart using Matplotlib, we'll enhance the original script by adding stylistic improvements, more informative data, and additional chart elements such as a title, gridlines, and annotations. Here's an improved version of the code:\\n\\n```python\\nimport matplotlib.pyplot as plt\\nimport numpy as np\\n\\n# Create data for the demonstration: quarterly revenue over a year\\nquarters = np.array([1, 2, 3, 4])\\nrevenue_2022 = np.array([150, 200, 250, 300])  # Revenue in millions for 2022\\nrevenue_2023 = np.array([180, 230, 280, 350])  # Revenue in millions for 2023\\n\\n# Create a new figure with a larger size for better presentation\\nfig, ax = plt.subplots(figsize=(10, 6))\\n\\n# Plot the data with enhanced line styles and markers\\nax.plot(quarters, revenue_2022, marker='o', linestyle='-', color='b', linewidth=2, label='2022 Revenue')\\nax.plot(quarters, revenue_2023, marker='s', linestyle='--', color='g', linewidth=2, label='2023 Revenue')\\n\\n# Set axis labels with more descriptive text\\nax.set_xlabel('Quarter', fontsize=12)\\nax.set_ylabel('Revenue (in millions)', fontsize=12)\\n\\n# Add a title with increased font size for emphasis\\nax.set_title('Quarterly Revenue Comparison: 2022 vs 2023', fontsize=14, fontweight='bold')\\n\\n# Add grid lines for improved readability\\nax.grid(True, which='both', linestyle='--', linewidth=0.5)\\n\\n# Customize the x-axis ticks to show quarter names\\nax.set_xticks(quarters)\\nax.set_xticklabels(['Q1', 'Q2', 'Q3', 'Q4'])\\n\\n# Add a legend with a shadow effect for better distinction\\nax.legend(loc='upper left', shadow=True, fontsize=10)\\n\\n# Annotate a significant point for emphasis\\nmax_revenue_2023 = max(revenue_2023)\\nmax_quarter_2023 = quarters[revenue_2023.argmax()]\\nax.annotate('Highest Revenue', xy=(max_quarter_2023, max_revenue_2023),\\n            xytext=(max_quarter_2023 + 0.1, max_revenue_2023 - 20),\\n            arrowprops=dict(facecolor='black', shrink=0.05),\\n            fontsize=10, ha='center')\\n\\n# Tight layout for better spacing\\nplt.tight_layout()\\n\\n# Show the plot\\nplt.show()\\n```\\n\\n### Key Enhancements:\\n1. **Data Context**: The data now represents a realistic scenario: quarterly revenues over two years, making the chart more engaging and informative.\\n2. **Stylistic Improvements**:\\n   - Different line styles (`-` for 2022 and `--` for 2023) and markers (`o` for 2022 and `s` for 2023) differentiate the datasets.\\n   - The use of color and line width enhances visual clarity.\\n3. **Annotations**: An annotation highlights the highest revenue point in 2023, providing additional insight.\\n4. **Gridlines**: Adding gridlines improves readability.\\n5. **Legend and Title**: Enhanced legend with shadow for better visualization and a bold title for emphasis.\\n6. **Axis Labels and Ticks**: Descriptive axis labels and custom x-tick labels improve the chart's clarity and presentation.\",\n",
       " 'revised_text': \"import matplotlib.pyplot as plt  \\nimport numpy as np  \\n\\n# Sample data  \\nx = np.linspace(0, 1, 100)  \\ny = x**2  \\n\\n# Create a new figure  \\nfig = plt.figure(figsize=(6.0, 4.0))  \\n\\n# Plot the data  \\nplt.plot(x, y, label='y = x^2')  \\n\\n# Set labels  \\nplt.xlabel('X')  \\nplt.ylabel('Y')  \\n\\n# Add a legend  \\nplt.legend()  \\n\\n# Show the plot  \\nplt.show()\",\n",
       " 'category': 'Line',\n",
       " 'chart_size': [10.0, 6.0],\n",
       " 'max_stars_repo_path': 'giggleliu/tba/hgen/multithreading.py',\n",
       " 'max_stars_repo_name': 'Lynn-015/Test_01',\n",
       " 'max_stars_count': 2,\n",
       " 'id': '22978',\n",
       " 'text': \"#!/usr/bin/python\\nfrom numpy import *\\nfrom mpi4py import MPI\\nfrom matplotlib.pyplot import *\\n#MPI setting\\ntry:\\n    COMM=MPI.COMM_WORLD\\n    SIZE=COMM.Get_size()\\n    RANK=COMM.Get_rank()\\nexcept:\\n    COMM=None\\n    SIZE=1\\n    RANK=0\\n\\n__all__=['mpido']\\n\\ndef mpido(func,inputlist,bcastouputmesh=True):\\n    '''\\n    MPI for list input.\\n\\n    func:\\n        The function defined on inputlist.\\n    inputlist:\\n        The input list.\\n    bcastouputmesh:\\n        broadcast output mesh if True.\\n    '''\\n    N=len(inputlist)\\n    ntask=(N-1)/SIZE+1\\n    datas=[]\\n    for i in xrange(N):\\n        if i/ntask==RANK:\\n            datas.append(func(inputlist[i]))\\n    datal=COMM.gather(datas,root=0)\\n    if RANK==0:\\n        datas=[]\\n        for datai in datal:\\n            datas+=datai\\n    #broadcast mesh\\n    if bcastouputmesh:\\n        datas=COMM.bcast(datas,root=0)\\n    return datas\\n\\ndef test_mpido():\\n    x=linspace(0,1,100)\\n    y=mpido(func=lambda x:x**2,inputlist=x)\\n    if RANK==0:\\n        plot(x,y)\\n        show()\\n\\nif __name__=='__main__':\\n    test_mpido()\\n\",\n",
       " 'source': 'v1',\n",
       " 'images': ['/mnt/lingjiejiang/multimodal_code/data/dpo/chart/gpt4o_images1/000001.jpg'],\n",
       " 'prompt': 'Develop a matplotlib code that reproduces the picture, and ensure the dimensions match by using figsize=(10, 6).',\n",
       " 'messages': [{'content': '<image>\\nDevelop a matplotlib code that reproduces the picture, and ensure the dimensions match by using figsize=(10, 6).',\n",
       "   'role': 'user'},\n",
       "  {'content': \"```python\\nimport matplotlib.pyplot as plt\\n\\n# Data\\nquarters = ['Q1', 'Q2', 'Q3', 'Q4']\\nrevenue_2022 = [150, 200, 250, 300]\\nrevenue_2023 = [180, 230, 290, 350]\\n\\n# Create the plot\\nplt.figure(figsize=(10, 6))\\nplt.plot(quarters, revenue_2022, 'b-o', label='2022 Revenue')\\nplt.plot(quarters, revenue_2023, 'g--s', label='2023 Revenue')\\n\\n# Highlight the highest revenue point\\nplt.annotate('Highest Revenue', xy=('Q4', 350), xytext=('Q4', 360),\\n             arrowprops=dict(facecolor='black', shrink=0.05))\\n\\n# Labels and title\\nplt.xlabel('Quarter')\\nplt.ylabel('Revenue (in millions)')\\nplt.title('Quarterly Revenue Comparison: 2022 vs 2023', fontweight='bold')\\n\\n# Legend\\nplt.legend()\\n\\n# Grid\\nplt.grid(True)\\n\\n# Show plot\\nplt.show()\\n```\",\n",
       "   'role': 'assistant'}],\n",
       " 'gpt_prompt': 'Develop a matplotlib code that reproduces the picture, and ensure the dimensions match by using figsize=(10, 6).',\n",
       " 'type': 'chart',\n",
       " 'formatted_text': \"```python\\nimport matplotlib.pyplot as plt\\n\\n# Data\\nquarters = ['Q1', 'Q2', 'Q3', 'Q4']\\nrevenue_2022 = [150, 200, 250, 300]\\nrevenue_2023 = [180, 230, 290, 350]\\n\\n# Create the plot\\nplt.figure(figsize=(10, 6))\\nplt.plot(quarters, revenue_2022, 'b-o', label='2022 Revenue')\\nplt.plot(quarters, revenue_2023, 'g--s', label='2023 Revenue')\\n\\n# Highlight the highest revenue point\\nplt.annotate('Highest Revenue', xy=('Q4', 350), xytext=('Q4', 360),\\n             arrowprops=dict(facecolor='black', shrink=0.05))\\n\\n# Labels and title\\nplt.xlabel('Quarter')\\nplt.ylabel('Revenue (in millions)')\\nplt.title('Quarterly Revenue Comparison: 2022 vs 2023', fontweight='bold')\\n\\n# Legend\\nplt.legend()\\n\\n# Grid\\nplt.grid(True)\\n\\n# Show plot\\nplt.show()\\n```\",\n",
       " 'origin_image': '/mnt/lingjiejiang/multimodal_code/data/chart_data/evol_images1/000009.jpg',\n",
       " 'mimic_image': '/mnt/lingjiejiang/multimodal_code/data/dpo/chart/gpt4o_images1/000001.jpg'}"
      ]
     },
     "execution_count": 15,
     "metadata": {},
     "output_type": "execute_result"
    }
   ],
   "source": [
    "text2image = {item[\"revised_text\"]: item[\"images\"][0] for item in chart_origin}\n",
    "for item in data:\n",
    "    text = item[\"revised_text\"]\n",
    "    item[\"origin_image\"] = text2image[text]\n",
    "    item[\"mimic_image\"] = item[\"images\"][0]\n",
    "data[0]"
   ]
  },
  {
   "cell_type": "code",
   "execution_count": 16,
   "metadata": {},
   "outputs": [],
   "source": [
    "with open(\"/mnt/lingjiejiang/multimodal_code/data/dpo/chart/github_gpt4o_chart_47k_code_img.json\", \"w\") as f:\n",
    "    json.dump(data, f, indent=0)"
   ]
  },
  {
   "cell_type": "code",
   "execution_count": 17,
   "metadata": {},
   "outputs": [
    {
     "data": {
      "text/plain": [
       "46977"
      ]
     },
     "execution_count": 17,
     "metadata": {},
     "output_type": "execute_result"
    }
   ],
   "source": [
    "with open(\"/mnt/lingjiejiang/multimodal_code/data/chart_data/ChartBench/chartbench_images_46k_code_dpo.json\", \"r\") as f:\n",
    "    chartbench_data = json.load(f)\n",
    "len(chartbench_data)"
   ]
  },
  {
   "cell_type": "code",
   "execution_count": 18,
   "metadata": {},
   "outputs": [
    {
     "data": {
      "text/plain": [
       "{'index': 0,\n",
       " 'code_text': \"import matplotlib.pyplot as plt\\n\\n# Sample data to mirror the plot\\nyears_china = [2015, 2016, 2017, 2018, 2019, 2020]\\nunits_china = [800, 700, 600, 500, 400, 300]\\nyears_usa = [2015, 2016, 2017, 2018, 2019, 2020]\\nunits_usa = [300, 400, 500, 600, 700, 800]\\n\\nplt.figure(figsize=(12, 8))\\nplt.plot(years_china, units_china, 'o-', label='China', color='black')\\nplt.plot(years_usa, units_usa, 'o', label='USA', color='white', markeredgecolor='black')\\n\\nplt.title('Global Electric Vehicle Sales')\\nplt.xlabel('Year')\\nplt.ylabel('Thousands of Units Sold (China)')\\nplt.xlim(2015, 2021)\\nplt.ylim(300, 900)\\nplt.legend(loc='best')\\n\\nplt.grid(True, linestyle='-.')\\nplt.show()\",\n",
       " 'raw_response': \"To mirror the given plot using matplotlib, you need to reverse the x-axis and y-axis data points and set the appropriate figure size. Below is an example of how you might write this code block:\\n\\n```python\\nimport matplotlib.pyplot as plt\\n\\n# Sample data to mirror the plot\\nyears_china = [2015, 2016, 2017, 2018, 2019, 2020]\\nunits_china = [800, 700, 600, 500, 400, 300]\\nyears_usa = [2015, 2016, 2017, 2018, 2019, 2020]\\nunits_usa = [300, 400, 500, 600, 700, 800]\\n\\nplt.figure(figsize=(12, 8))\\nplt.plot(years_china, units_china, 'o-', label='China', color='black')\\nplt.plot(years_usa, units_usa, 'o', label='USA', color='white', markeredgecolor='black')\\n\\nplt.title('Global Electric Vehicle Sales')\\nplt.xlabel('Year')\\nplt.ylabel('Thousands of Units Sold (China)')\\nplt.xlim(2015, 2021)\\nplt.ylim(300, 900)\\nplt.legend(loc='best')\\n\\nplt.grid(True, linestyle='-.')\\nplt.show()\\n```\\n\\n### Explanation:\\n- The `years_china` and `units_china` arrays are reversed to mirror the x and y axis, respectively.\\n- The `years_usa` and `units_usa` arrays are also altered to follow the same mirroring pattern.\\n- The `figsize` is set to `(12, 8)` to match the dimensions mentioned in the question.\\n- The plot style is adjusted to reflect the original image, including line style, marker style, and grid lines.\",\n",
       " 'stop_reason': 'stop',\n",
       " 'model': 'gpt4o',\n",
       " 'image_path': '/mnt/lingjiejiang/multimodal_code/data/chart_data/ChartBench/data/train/combination/line_line/chart_1667/image.png',\n",
       " 'category': 'combination',\n",
       " 'image_type': 'line_line',\n",
       " 'prompt': 'Formulate a matplotlib code block that mirrors the image, and set the dimensions using figsize=(12, 8).',\n",
       " 'images': ['/mnt/lingjiejiang/multimodal_code/data/chart_data/ChartBench/data/train/combination/line_line/chart_1667/image.png'],\n",
       " 'chart_size': [12.0, 8.0],\n",
       " 'formatted_text': \"```python\\nimport matplotlib.pyplot as plt\\n\\n# Sample data to mirror the plot\\nyears_china = [2015, 2016, 2017, 2018, 2019, 2020]\\nunits_china = [800, 700, 600, 500, 400, 300]\\nyears_usa = [2015, 2016, 2017, 2018, 2019, 2020]\\nunits_usa = [300, 400, 500, 600, 700, 800]\\n\\nplt.figure(figsize=(12, 8))\\nplt.plot(years_china, units_china, 'o-', label='China', color='black')\\nplt.plot(years_usa, units_usa, 'o', label='USA', color='white', markeredgecolor='black')\\n\\nplt.title('Global Electric Vehicle Sales')\\nplt.xlabel('Year')\\nplt.ylabel('Thousands of Units Sold (China)')\\nplt.xlim(2015, 2021)\\nplt.ylim(300, 900)\\nplt.legend(loc='best')\\n\\nplt.grid(True, linestyle='-.')\\nplt.show()\\n```\",\n",
       " 'messages': [{'content': '<image>\\nFormulate a matplotlib code block that mirrors the image, and set the dimensions using figsize=(12, 8).',\n",
       "   'role': 'user'},\n",
       "  {'content': \"```python\\nimport matplotlib.pyplot as plt\\n\\n# Sample data to mirror the plot\\nyears_china = [2015, 2016, 2017, 2018, 2019, 2020]\\nunits_china = [800, 700, 600, 500, 400, 300]\\nyears_usa = [2015, 2016, 2017, 2018, 2019, 2020]\\nunits_usa = [300, 400, 500, 600, 700, 800]\\n\\nplt.figure(figsize=(12, 8))\\nplt.plot(years_china, units_china, 'o-', label='China', color='black')\\nplt.plot(years_usa, units_usa, 'o', label='USA', color='white', markeredgecolor='black')\\n\\nplt.title('Global Electric Vehicle Sales')\\nplt.xlabel('Year')\\nplt.ylabel('Thousands of Units Sold (China)')\\nplt.xlim(2015, 2021)\\nplt.ylim(300, 900)\\nplt.legend(loc='best')\\n\\nplt.grid(True, linestyle='-.')\\nplt.show()\\n```\",\n",
       "   'role': 'assistant'}],\n",
       " 'gpt_prompt': '<image>\\nFormulate a matplotlib code block that mirrors the image, and set the dimensions using figsize=(12, 8).',\n",
       " 'gpt4o_image': '/mnt/lingjiejiang/multimodal_code/data/chart_data/ChartBench/chart_bench_4o_img/mimic_images1/000002.jpg'}"
      ]
     },
     "execution_count": 18,
     "metadata": {},
     "output_type": "execute_result"
    }
   ],
   "source": [
    "chartbench_data[0]"
   ]
  },
  {
   "cell_type": "code",
   "execution_count": 19,
   "metadata": {},
   "outputs": [
    {
     "data": {
      "text/plain": [
       "{'index': 0,\n",
       " 'code_text': \"import matplotlib.pyplot as plt\\n\\n# Sample data to mirror the plot\\nyears_china = [2015, 2016, 2017, 2018, 2019, 2020]\\nunits_china = [800, 700, 600, 500, 400, 300]\\nyears_usa = [2015, 2016, 2017, 2018, 2019, 2020]\\nunits_usa = [300, 400, 500, 600, 700, 800]\\n\\nplt.figure(figsize=(12, 8))\\nplt.plot(years_china, units_china, 'o-', label='China', color='black')\\nplt.plot(years_usa, units_usa, 'o', label='USA', color='white', markeredgecolor='black')\\n\\nplt.title('Global Electric Vehicle Sales')\\nplt.xlabel('Year')\\nplt.ylabel('Thousands of Units Sold (China)')\\nplt.xlim(2015, 2021)\\nplt.ylim(300, 900)\\nplt.legend(loc='best')\\n\\nplt.grid(True, linestyle='-.')\\nplt.show()\",\n",
       " 'raw_response': \"To mirror the given plot using matplotlib, you need to reverse the x-axis and y-axis data points and set the appropriate figure size. Below is an example of how you might write this code block:\\n\\n```python\\nimport matplotlib.pyplot as plt\\n\\n# Sample data to mirror the plot\\nyears_china = [2015, 2016, 2017, 2018, 2019, 2020]\\nunits_china = [800, 700, 600, 500, 400, 300]\\nyears_usa = [2015, 2016, 2017, 2018, 2019, 2020]\\nunits_usa = [300, 400, 500, 600, 700, 800]\\n\\nplt.figure(figsize=(12, 8))\\nplt.plot(years_china, units_china, 'o-', label='China', color='black')\\nplt.plot(years_usa, units_usa, 'o', label='USA', color='white', markeredgecolor='black')\\n\\nplt.title('Global Electric Vehicle Sales')\\nplt.xlabel('Year')\\nplt.ylabel('Thousands of Units Sold (China)')\\nplt.xlim(2015, 2021)\\nplt.ylim(300, 900)\\nplt.legend(loc='best')\\n\\nplt.grid(True, linestyle='-.')\\nplt.show()\\n```\\n\\n### Explanation:\\n- The `years_china` and `units_china` arrays are reversed to mirror the x and y axis, respectively.\\n- The `years_usa` and `units_usa` arrays are also altered to follow the same mirroring pattern.\\n- The `figsize` is set to `(12, 8)` to match the dimensions mentioned in the question.\\n- The plot style is adjusted to reflect the original image, including line style, marker style, and grid lines.\",\n",
       " 'stop_reason': 'stop',\n",
       " 'model': 'gpt4o',\n",
       " 'image_path': '/mnt/lingjiejiang/multimodal_code/data/chart_data/ChartBench/data/train/combination/line_line/chart_1667/image.png',\n",
       " 'category': 'combination',\n",
       " 'image_type': 'line_line',\n",
       " 'prompt': 'Formulate a matplotlib code block that mirrors the image, and set the dimensions using figsize=(12, 8).',\n",
       " 'images': ['/mnt/lingjiejiang/multimodal_code/data/chart_data/ChartBench/data/train/combination/line_line/chart_1667/image.png'],\n",
       " 'chart_size': [12.0, 8.0],\n",
       " 'formatted_text': \"```python\\nimport matplotlib.pyplot as plt\\n\\n# Sample data to mirror the plot\\nyears_china = [2015, 2016, 2017, 2018, 2019, 2020]\\nunits_china = [800, 700, 600, 500, 400, 300]\\nyears_usa = [2015, 2016, 2017, 2018, 2019, 2020]\\nunits_usa = [300, 400, 500, 600, 700, 800]\\n\\nplt.figure(figsize=(12, 8))\\nplt.plot(years_china, units_china, 'o-', label='China', color='black')\\nplt.plot(years_usa, units_usa, 'o', label='USA', color='white', markeredgecolor='black')\\n\\nplt.title('Global Electric Vehicle Sales')\\nplt.xlabel('Year')\\nplt.ylabel('Thousands of Units Sold (China)')\\nplt.xlim(2015, 2021)\\nplt.ylim(300, 900)\\nplt.legend(loc='best')\\n\\nplt.grid(True, linestyle='-.')\\nplt.show()\\n```\",\n",
       " 'messages': [{'content': '<image>\\nFormulate a matplotlib code block that mirrors the image, and set the dimensions using figsize=(12, 8).',\n",
       "   'role': 'user'},\n",
       "  {'content': \"```python\\nimport matplotlib.pyplot as plt\\n\\n# Sample data to mirror the plot\\nyears_china = [2015, 2016, 2017, 2018, 2019, 2020]\\nunits_china = [800, 700, 600, 500, 400, 300]\\nyears_usa = [2015, 2016, 2017, 2018, 2019, 2020]\\nunits_usa = [300, 400, 500, 600, 700, 800]\\n\\nplt.figure(figsize=(12, 8))\\nplt.plot(years_china, units_china, 'o-', label='China', color='black')\\nplt.plot(years_usa, units_usa, 'o', label='USA', color='white', markeredgecolor='black')\\n\\nplt.title('Global Electric Vehicle Sales')\\nplt.xlabel('Year')\\nplt.ylabel('Thousands of Units Sold (China)')\\nplt.xlim(2015, 2021)\\nplt.ylim(300, 900)\\nplt.legend(loc='best')\\n\\nplt.grid(True, linestyle='-.')\\nplt.show()\\n```\",\n",
       "   'role': 'assistant'}],\n",
       " 'gpt_prompt': '<image>\\nFormulate a matplotlib code block that mirrors the image, and set the dimensions using figsize=(12, 8).',\n",
       " 'gpt4o_image': '/mnt/lingjiejiang/multimodal_code/data/chart_data/ChartBench/chart_bench_4o_img/mimic_images1/000002.jpg',\n",
       " 'origin_image': '/mnt/lingjiejiang/multimodal_code/data/chart_data/ChartBench/data/train/combination/line_line/chart_1667/image.png',\n",
       " 'mimic_image': '/mnt/lingjiejiang/multimodal_code/data/chart_data/ChartBench/chart_bench_4o_img/mimic_images1/000002.jpg'}"
      ]
     },
     "execution_count": 19,
     "metadata": {},
     "output_type": "execute_result"
    }
   ],
   "source": [
    "for item in chartbench_data:\n",
    "    item[\"origin_image\"] = item[\"image_path\"]\n",
    "    item[\"mimic_image\"] = item[\"gpt4o_image\"]\n",
    "chartbench_data[0]"
   ]
  },
  {
   "cell_type": "code",
   "execution_count": 20,
   "metadata": {},
   "outputs": [
    {
     "data": {
      "text/plain": [
       "47996"
      ]
     },
     "execution_count": 20,
     "metadata": {},
     "output_type": "execute_result"
    }
   ],
   "source": [
    "len(data)"
   ]
  },
  {
   "cell_type": "code",
   "execution_count": 21,
   "metadata": {},
   "outputs": [
    {
     "data": {
      "text/plain": [
       "94973"
      ]
     },
     "execution_count": 21,
     "metadata": {},
     "output_type": "execute_result"
    }
   ],
   "source": [
    "chart_data = chartbench_data + data\n",
    "len(chart_data)"
   ]
  },
  {
   "cell_type": "code",
   "execution_count": 22,
   "metadata": {},
   "outputs": [],
   "source": [
    "with open(\"/mnt/lingjiejiang/multimodal_code/data/chart_data/ChartBench/chart46k_evol_47k_images_46k_code_dpo_94k.json\", \"w\") as f:\n",
    "    json.dump(chart_data, f, indent=0)"
   ]
  },
  {
   "cell_type": "code",
   "execution_count": 25,
   "metadata": {},
   "outputs": [],
   "source": [
    "import json  \n",
    "  \n",
    "# 读取原始JSON文件  \n",
    "with open('/mnt/lingjiejiang/multimodal_code/data/chart_data/ChartBench/chart46k_evol_47k_images_46k_code_dpo_94k.json', 'r') as f:  \n",
    "    data = json.load(f)  \n",
    "  \n",
    "# 计算每份数据的大小  \n",
    "total_length = len(data)  \n",
    "split_size = total_length // 3  \n",
    "  \n",
    "# 分割数据  \n",
    "data_split_1 = data[:split_size]  \n",
    "data_split_2 = data[split_size:2*split_size]  \n",
    "data_split_3 = data[2*split_size:]  \n",
    "  \n",
    "# 确保最后一个分割包含所有剩余项  \n",
    "# data_split_3.extend(data[2*split_size:])  \n",
    "  \n",
    "# 写入新的JSON文件  \n",
    "with open('/mnt/lingjiejiang/multimodal_code/data/chart_data/ChartBench/chart46k_evol_47k_images_46k_code_dpo_94k_split_1.json', 'w') as f1:  \n",
    "    json.dump(data_split_1, f1, ensure_ascii=False, indent=4)  \n",
    "  \n",
    "with open('/mnt/lingjiejiang/multimodal_code/data/chart_data/ChartBench/chart46k_evol_47k_images_46k_code_dpo_94k_split_2.json', 'w') as f2:  \n",
    "    json.dump(data_split_2, f2, ensure_ascii=False, indent=4)  \n",
    "  \n",
    "with open('/mnt/lingjiejiang/multimodal_code/data/chart_data/ChartBench/chart46k_evol_47k_images_46k_code_dpo_94k_split_3.json', 'w') as f3:  \n",
    "    json.dump(data_split_3, f3, ensure_ascii=False, indent=4)  "
   ]
  },
  {
   "cell_type": "code",
   "execution_count": 26,
   "metadata": {},
   "outputs": [
    {
     "data": {
      "text/plain": [
       "31659"
      ]
     },
     "execution_count": 26,
     "metadata": {},
     "output_type": "execute_result"
    }
   ],
   "source": [
    "with open('/mnt/lingjiejiang/multimodal_code/data/chart_data/ChartBench/chart46k_evol_47k_images_46k_code_dpo_94k_split_3.json', \"r\") as f:\n",
    "    data = json.load(f)\n",
    "len(data)"
   ]
  },
  {
   "cell_type": "markdown",
   "metadata": {},
   "source": [
    "HTML"
   ]
  },
  {
   "cell_type": "code",
   "execution_count": 28,
   "metadata": {},
   "outputs": [
    {
     "data": {
      "text/plain": [
       "{'index': 3,\n",
       " 'code_extract': '<!DOCTYPE html>\\n<html lang=\"en\">\\n<head>\\n    <meta charset=\"UTF-8\">\\n    <meta name=\"viewport\" content=\"width=device-width, initial-scale=1.0\">\\n    <title>Map of Popular Destinations</title>\\n    <style>\\n        body {\\n            margin: 0;\\n            padding: 0;\\n            background-color: #eaeaea;\\n            font-family: Arial, sans-serif;\\n        }\\n\\n        .header {\\n            background-color: red;\\n            color: white;\\n            text-align: center;\\n            padding: 20px;\\n            position: relative;\\n        }\\n\\n        .header img {\\n            position: absolute;\\n            left: 50%;\\n            transform: translateX(-50%);\\n            top: 50%;\\n            width: 20px;\\n            height: 20px;\\n            margin-top: -10px;\\n            margin-left: -70px; /* Adjust based on text width */\\n        }\\n\\n        .content {\\n            display: flex;\\n            justify-content: center;\\n            align-items: center;\\n            margin-top: 50px;\\n        }\\n\\n        .destination {\\n            background-color: blue;\\n            color: white;\\n            width: 300px;\\n            padding: 20px;\\n            margin: 0 10px;\\n            text-align: center;\\n            box-sizing: border-box;\\n        }\\n\\n        .destination h2 {\\n            margin-top: 0;\\n        }\\n\\n        .destination p {\\n            margin: 10px 0 0 0;\\n            color: lightgray;\\n        }\\n    </style>\\n</head>\\n<body>\\n    <div class=\"header\">\\n        <img src=\"rick.jpg\" alt=\"Map Icon\">\\n        Map of Popular Destinations\\n    </div>\\n    <div class=\"content\">\\n        <div class=\"destination\">\\n            <h2>New York</h2>\\n            <p>Experience the vibrant culture and rich history of New York City.</p>\\n        </div>\\n        <div class=\"destination\">\\n            <h2>Paris</h2>\\n            <p>Relax and enjoy the romance of the Eiffel Tower while discovering Parisian charm.</p>\\n        </div>\\n    </div>\\n</body>\\n</html>',\n",
       " 'generate_raw': '```html\\n<!DOCTYPE html>\\n<html lang=\"en\">\\n<head>\\n    <meta charset=\"UTF-8\">\\n    <meta name=\"viewport\" content=\"width=device-width, initial-scale=1.0\">\\n    <title>Map of Popular Destinations</title>\\n    <style>\\n        body {\\n            margin: 0;\\n            padding: 0;\\n            background-color: #eaeaea;\\n            font-family: Arial, sans-serif;\\n        }\\n\\n        .header {\\n            background-color: red;\\n            color: white;\\n            text-align: center;\\n            padding: 20px;\\n            position: relative;\\n        }\\n\\n        .header img {\\n            position: absolute;\\n            left: 50%;\\n            transform: translateX(-50%);\\n            top: 50%;\\n            width: 20px;\\n            height: 20px;\\n            margin-top: -10px;\\n            margin-left: -70px; /* Adjust based on text width */\\n        }\\n\\n        .content {\\n            display: flex;\\n            justify-content: center;\\n            align-items: center;\\n            margin-top: 50px;\\n        }\\n\\n        .destination {\\n            background-color: blue;\\n            color: white;\\n            width: 300px;\\n            padding: 20px;\\n            margin: 0 10px;\\n            text-align: center;\\n            box-sizing: border-box;\\n        }\\n\\n        .destination h2 {\\n            margin-top: 0;\\n        }\\n\\n        .destination p {\\n            margin: 10px 0 0 0;\\n            color: lightgray;\\n        }\\n    </style>\\n</head>\\n<body>\\n    <div class=\"header\">\\n        <img src=\"rick.jpg\" alt=\"Map Icon\">\\n        Map of Popular Destinations\\n    </div>\\n    <div class=\"content\">\\n        <div class=\"destination\">\\n            <h2>New York</h2>\\n            <p>Experience the vibrant culture and rich history of New York City.</p>\\n        </div>\\n        <div class=\"destination\">\\n            <h2>Paris</h2>\\n            <p>Relax and enjoy the romance of the Eiffel Tower while discovering Parisian charm.</p>\\n        </div>\\n    </div>\\n</body>\\n</html>\\n```',\n",
       " 'stop_reason': 'stop',\n",
       " 'model': 'gpt4o',\n",
       " 'id': '10372_11',\n",
       " 'messages': [{'content': '<image>\\nRecreate the website design from the image using HTML and CSS code. Generate code that compliments the architecture of material design.',\n",
       "   'role': 'user'},\n",
       "  {'content': '```html\\n<!DOCTYPE html>\\n<html lang=\"en\">\\n<head>\\n    <meta charset=\"UTF-8\">\\n    <meta name=\"viewport\" content=\"width=device-width, initial-scale=1.0\">\\n    <title>Popular Destinations</title>\\n    <style>\\n        body {\\n            margin: 0;\\n            font-family: Arial, sans-serif;\\n            background-color: #f5f5f5;\\n            color: #333;\\n        }\\n        .container {\\n            width: 100%;\\n            max-width: 1200px;\\n            margin: 0 auto;\\n            text-align: center;\\n        }\\n        .map-section {\\n            background-color: red;\\n            padding: 20px;\\n            margin-bottom: 20px;\\n        }\\n        .map-section img {\\n            width: 20px;\\n            vertical-align: middle;\\n        }\\n        .map-section h2 {\\n            display: inline;\\n            color: white;\\n            font-size: 24px;\\n            margin-left: 10px;\\n        }\\n        .destinations {\\n            display: flex;\\n            justify-content: space-around;\\n            padding: 20px;\\n        }\\n        .destination {\\n            background-color: blue;\\n            width: 45%;\\n            padding: 20px;\\n            box-sizing: border-box;\\n            color: white;\\n        }\\n        .destination img {\\n            width: 20px;\\n            vertical-align: middle;\\n        }\\n        .destination h3 {\\n            margin-top: 0;\\n            font-size: 20px;\\n        }\\n        .destination p {\\n            color: #333;\\n            font-size: 16px;\\n            margin-top: 10px;\\n        }\\n    </style>\\n</head>\\n<body>\\n    <div class=\"container\">\\n        <div class=\"map-section\">\\n            <img src=\"rick.jpg\" alt=\"Map Icon\">\\n            <h2>Map of Popular Destinations</h2>\\n        </div>\\n        <div class=\"destinations\">\\n            <div class=\"destination\">\\n                <img src=\"rick.jpg\" alt=\"New York Icon\">\\n                <h3>New York</h3>\\n                <p>Experience the vibrant culture and rich history of New York City.</p>\\n            </div>\\n            <div class=\"destination\">\\n                <img src=\"rick.jpg\" alt=\"Paris Icon\">\\n                <h3>Paris</h3>\\n                <p>Relax and enjoy the romance of the Eiffel Tower while discovering Parisian charm.</p>\\n            </div>\\n        </div>\\n    </div>\\n</body>\\n</html>\\n```',\n",
       "   'role': 'assistant'}],\n",
       " 'images': ['/mnt/lingjiejiang/multimodal_code/data/Web2code_gpt4o/WebSight_images_new/image_10372_11.png'],\n",
       " 'revised_html': '<!DOCTYPE html>\\n<html lang=\"en\">\\n<head>\\n    <meta charset=\"UTF-8\">\\n    <meta name=\"viewport\" content=\"width=device-width, initial-scale=1.0\">\\n    <title>Popular Destinations</title>\\n    <style>\\n        body {\\n            margin: 0;\\n            font-family: Arial, sans-serif;\\n            background-color: #f5f5f5;\\n            color: #333;\\n        }\\n        .container {\\n            width: 100%;\\n            max-width: 1200px;\\n            margin: 0 auto;\\n            text-align: center;\\n        }\\n        .map-section {\\n            background-color: red;\\n            padding: 20px;\\n            margin-bottom: 20px;\\n        }\\n        .map-section img {\\n            width: 20px;\\n            vertical-align: middle;\\n        }\\n        .map-section h2 {\\n            display: inline;\\n            color: white;\\n            font-size: 24px;\\n            margin-left: 10px;\\n        }\\n        .destinations {\\n            display: flex;\\n            justify-content: space-around;\\n            padding: 20px;\\n        }\\n        .destination {\\n            background-color: blue;\\n            width: 45%;\\n            padding: 20px;\\n            box-sizing: border-box;\\n            color: white;\\n        }\\n        .destination img {\\n            width: 20px;\\n            vertical-align: middle;\\n        }\\n        .destination h3 {\\n            margin-top: 0;\\n            font-size: 20px;\\n        }\\n        .destination p {\\n            color: #333;\\n            font-size: 16px;\\n            margin-top: 10px;\\n        }\\n    </style>\\n</head>\\n<body>\\n    <div class=\"container\">\\n        <div class=\"map-section\">\\n            <img src=\"rick.jpg\" alt=\"Map Icon\">\\n            <h2>Map of Popular Destinations</h2>\\n        </div>\\n        <div class=\"destinations\">\\n            <div class=\"destination\">\\n                <img src=\"rick.jpg\" alt=\"New York Icon\">\\n                <h3>New York</h3>\\n                <p>Experience the vibrant culture and rich history of New York City.</p>\\n            </div>\\n            <div class=\"destination\">\\n                <img src=\"rick.jpg\" alt=\"Paris Icon\">\\n                <h3>Paris</h3>\\n                <p>Relax and enjoy the romance of the Eiffel Tower while discovering Parisian charm.</p>\\n            </div>\\n        </div>\\n    </div>\\n</body>\\n</html>',\n",
       " 'original_html': '<html>\\n<style>\\nbody {\\n    margin: 0;\\n    padding: 0;\\n    font-family: Arial, sans-serif;\\n}\\n\\n#map_centerpiece {\\n    width: 100%;\\n    height: 50vh;\\n    display: flex;\\n    justify-content: center;\\n    align-items: center;\\n    background-color: #F5F5F5;\\n}\\n\\n/* To replace the image with a colored placeholder */\\n#map_centerpiece img {\\n    background-color: #FF0000;\\n    width: 80%;\\n    height: 80%;\\n}\\n\\n#destinations {\\n    display: flex;\\n    flex-wrap: wrap;\\n    justify-content: center;\\n    margin: 20px 0;\\n}\\n\\n.destination {\\n    width: 30%;\\n    margin: 10px;\\n    text-align: center;\\n}\\n\\n/* To replace the image with a colored placeholder */\\n.destination img {\\n    background-color: #0000FF;\\n    width: 100%;\\n    height: 50vh;\\n    margin-bottom: 10px;\\n}\\n</style>\\n<body>\\n    <div id=\"map_centerpiece\">\\n        <img src=\"map.jpg\" alt=\"Map of Popular Destinations\">\\n    </div>\\n    <div id=\"destinations\">\\n        <div class=\"destination\">\\n            <img src=\"new_york.jpg\" alt=\"New York\">\\n            <h2>New York</h2>\\n            <p>Experience the vibrant culture and rich history of New York City.</p>\\n        </div>\\n        <div class=\"destination\">\\n            <img src=\"paris.jpg\" alt=\"Paris\">\\n            <h2>Paris</h2>\\n            <p>Relax and enjoy the romance of the Eiffel Tower while discovering Parisian charm.</p>\\n        </div>\\n       <!-- and so on for other popular destinations -->\\n    </div>\\n</body>\\n</html>',\n",
       " 'gpt_answer': '```html\\n<!DOCTYPE html>\\n<html lang=\"en\">\\n<head>\\n    <meta charset=\"UTF-8\">\\n    <meta name=\"viewport\" content=\"width=device-width, initial-scale=1.0\">\\n    <title>Popular Destinations</title>\\n    <style>\\n        body {\\n            margin: 0;\\n            font-family: Arial, sans-serif;\\n            background-color: #f5f5f5;\\n            color: #333;\\n        }\\n        .container {\\n            width: 100%;\\n            max-width: 1200px;\\n            margin: 0 auto;\\n            text-align: center;\\n        }\\n        .map-section {\\n            background-color: red;\\n            padding: 20px;\\n            margin-bottom: 20px;\\n        }\\n        .map-section img {\\n            width: 20px;\\n            vertical-align: middle;\\n        }\\n        .map-section h2 {\\n            display: inline;\\n            color: white;\\n            font-size: 24px;\\n            margin-left: 10px;\\n        }\\n        .destinations {\\n            display: flex;\\n            justify-content: space-around;\\n            padding: 20px;\\n        }\\n        .destination {\\n            background-color: blue;\\n            width: 45%;\\n            padding: 20px;\\n            box-sizing: border-box;\\n            color: white;\\n        }\\n        .destination img {\\n            width: 20px;\\n            vertical-align: middle;\\n        }\\n        .destination h3 {\\n            margin-top: 0;\\n            font-size: 20px;\\n        }\\n        .destination p {\\n            color: #333;\\n            font-size: 16px;\\n            margin-top: 10px;\\n        }\\n    </style>\\n</head>\\n<body>\\n    <div class=\"container\">\\n        <div class=\"map-section\">\\n            <img src=\"rick.jpg\" alt=\"Map Icon\">\\n            <h2>Map of Popular Destinations</h2>\\n        </div>\\n        <div class=\"destinations\">\\n            <div class=\"destination\">\\n                <img src=\"rick.jpg\" alt=\"New York Icon\">\\n                <h3>New York</h3>\\n                <p>Experience the vibrant culture and rich history of New York City.</p>\\n            </div>\\n            <div class=\"destination\">\\n                <img src=\"rick.jpg\" alt=\"Paris Icon\">\\n                <h3>Paris</h3>\\n                <p>Relax and enjoy the romance of the Eiffel Tower while discovering Parisian charm.</p>\\n            </div>\\n        </div>\\n    </div>\\n</body>\\n</html>\\n```\\n\\nThis HTML and CSS code creates a simple webpage with a map section and two destination sections styled similarly to the provided image. The layout is designed to fit within a single screen without scrolling, and all styles are included within the HTML file.',\n",
       " 'new_img': '/mnt/lingjiejiang/multimodal_code/data/dpo/html/images/WebSight_images_new/image_10372_11.png',\n",
       " 'formatted_html': '```html\\n<!DOCTYPE html>\\n<html lang=\"en\">\\n<head>\\n    <meta charset=\"UTF-8\">\\n    <meta name=\"viewport\" content=\"width=device-width, initial-scale=1.0\">\\n    <title>Popular Destinations</title>\\n    <style>\\n        body {\\n            margin: 0;\\n            font-family: Arial, sans-serif;\\n            background-color: #f5f5f5;\\n            color: #333;\\n        }\\n        .container {\\n            width: 100%;\\n            max-width: 1200px;\\n            margin: 0 auto;\\n            text-align: center;\\n        }\\n        .map-section {\\n            background-color: red;\\n            padding: 20px;\\n            margin-bottom: 20px;\\n        }\\n        .map-section img {\\n            width: 20px;\\n            vertical-align: middle;\\n        }\\n        .map-section h2 {\\n            display: inline;\\n            color: white;\\n            font-size: 24px;\\n            margin-left: 10px;\\n        }\\n        .destinations {\\n            display: flex;\\n            justify-content: space-around;\\n            padding: 20px;\\n        }\\n        .destination {\\n            background-color: blue;\\n            width: 45%;\\n            padding: 20px;\\n            box-sizing: border-box;\\n            color: white;\\n        }\\n        .destination img {\\n            width: 20px;\\n            vertical-align: middle;\\n        }\\n        .destination h3 {\\n            margin-top: 0;\\n            font-size: 20px;\\n        }\\n        .destination p {\\n            color: #333;\\n            font-size: 16px;\\n            margin-top: 10px;\\n        }\\n    </style>\\n</head>\\n<body>\\n    <div class=\"container\">\\n        <div class=\"map-section\">\\n            <img src=\"rick.jpg\" alt=\"Map Icon\">\\n            <h2>Map of Popular Destinations</h2>\\n        </div>\\n        <div class=\"destinations\">\\n            <div class=\"destination\">\\n                <img src=\"rick.jpg\" alt=\"New York Icon\">\\n                <h3>New York</h3>\\n                <p>Experience the vibrant culture and rich history of New York City.</p>\\n            </div>\\n            <div class=\"destination\">\\n                <img src=\"rick.jpg\" alt=\"Paris Icon\">\\n                <h3>Paris</h3>\\n                <p>Relax and enjoy the romance of the Eiffel Tower while discovering Parisian charm.</p>\\n            </div>\\n        </div>\\n    </div>\\n</body>\\n</html>\\n```',\n",
       " 'source': 'gpt4orevised',\n",
       " 'design_prompt': 'You are an expert web developer who specializes in HTML and CSS.\\nA user will provide you with a screenshot of a webpage.\\nYou need to return a single html file that uses HTML and CSS to reproduce the given website.\\nInclude all CSS code in the HTML file itself.\\nIf it involves any images, use \"rick.jpg\" as the placeholder.\\nSome images on the webpage are replaced with a blue rectangle as the placeholder, use \"rick.jpg\" for those as well.\\nDo not hallucinate any dependencies to external files. You do not need to include JavaScript scripts for dynamic interactions.\\nPay attention to things like size, text, position, and color of all the elements, as well as the overall layout.\\nRespond with the content of the HTML+CSS file:\\n',\n",
       " 'gpt_prompt': 'You are an expert web developer who specializes in HTML and CSS.\\nA user will provide you with a screenshot of a webpage.\\nYou need to return a single html file that uses HTML and CSS to reproduce the given website.\\nInclude all CSS code in the HTML file itself.\\nIf it involves any images, use \"rick.jpg\" as the placeholder.\\nSome images on the webpage are replaced with a blue rectangle as the placeholder, use \"rick.jpg\" for those as well.\\nDo not hallucinate any dependencies to external files. You do not need to include JavaScript scripts for dynamic interactions.\\nPay attention to things like size, text, position, and color of all the elements, as well as the overall layout.\\nRespond with the content of the HTML+CSS file:',\n",
       " 'type': 'html'}"
      ]
     },
     "execution_count": 28,
     "metadata": {},
     "output_type": "execute_result"
    }
   ],
   "source": [
    "with open(\"/mnt/lingjiejiang/multimodal_code/data/dpo/html/gpt4o_html_dpo_92k_big_img_filtered.json\", \"r\") as f:  \n",
    "    data = json.load(f)  \n",
    "data[0]"
   ]
  },
  {
   "cell_type": "code",
   "execution_count": 29,
   "metadata": {},
   "outputs": [
    {
     "data": {
      "text/plain": [
       "{'index': 3,\n",
       " 'code_extract': '<!DOCTYPE html>\\n<html lang=\"en\">\\n<head>\\n    <meta charset=\"UTF-8\">\\n    <meta name=\"viewport\" content=\"width=device-width, initial-scale=1.0\">\\n    <title>Map of Popular Destinations</title>\\n    <style>\\n        body {\\n            margin: 0;\\n            padding: 0;\\n            background-color: #eaeaea;\\n            font-family: Arial, sans-serif;\\n        }\\n\\n        .header {\\n            background-color: red;\\n            color: white;\\n            text-align: center;\\n            padding: 20px;\\n            position: relative;\\n        }\\n\\n        .header img {\\n            position: absolute;\\n            left: 50%;\\n            transform: translateX(-50%);\\n            top: 50%;\\n            width: 20px;\\n            height: 20px;\\n            margin-top: -10px;\\n            margin-left: -70px; /* Adjust based on text width */\\n        }\\n\\n        .content {\\n            display: flex;\\n            justify-content: center;\\n            align-items: center;\\n            margin-top: 50px;\\n        }\\n\\n        .destination {\\n            background-color: blue;\\n            color: white;\\n            width: 300px;\\n            padding: 20px;\\n            margin: 0 10px;\\n            text-align: center;\\n            box-sizing: border-box;\\n        }\\n\\n        .destination h2 {\\n            margin-top: 0;\\n        }\\n\\n        .destination p {\\n            margin: 10px 0 0 0;\\n            color: lightgray;\\n        }\\n    </style>\\n</head>\\n<body>\\n    <div class=\"header\">\\n        <img src=\"rick.jpg\" alt=\"Map Icon\">\\n        Map of Popular Destinations\\n    </div>\\n    <div class=\"content\">\\n        <div class=\"destination\">\\n            <h2>New York</h2>\\n            <p>Experience the vibrant culture and rich history of New York City.</p>\\n        </div>\\n        <div class=\"destination\">\\n            <h2>Paris</h2>\\n            <p>Relax and enjoy the romance of the Eiffel Tower while discovering Parisian charm.</p>\\n        </div>\\n    </div>\\n</body>\\n</html>',\n",
       " 'generate_raw': '```html\\n<!DOCTYPE html>\\n<html lang=\"en\">\\n<head>\\n    <meta charset=\"UTF-8\">\\n    <meta name=\"viewport\" content=\"width=device-width, initial-scale=1.0\">\\n    <title>Map of Popular Destinations</title>\\n    <style>\\n        body {\\n            margin: 0;\\n            padding: 0;\\n            background-color: #eaeaea;\\n            font-family: Arial, sans-serif;\\n        }\\n\\n        .header {\\n            background-color: red;\\n            color: white;\\n            text-align: center;\\n            padding: 20px;\\n            position: relative;\\n        }\\n\\n        .header img {\\n            position: absolute;\\n            left: 50%;\\n            transform: translateX(-50%);\\n            top: 50%;\\n            width: 20px;\\n            height: 20px;\\n            margin-top: -10px;\\n            margin-left: -70px; /* Adjust based on text width */\\n        }\\n\\n        .content {\\n            display: flex;\\n            justify-content: center;\\n            align-items: center;\\n            margin-top: 50px;\\n        }\\n\\n        .destination {\\n            background-color: blue;\\n            color: white;\\n            width: 300px;\\n            padding: 20px;\\n            margin: 0 10px;\\n            text-align: center;\\n            box-sizing: border-box;\\n        }\\n\\n        .destination h2 {\\n            margin-top: 0;\\n        }\\n\\n        .destination p {\\n            margin: 10px 0 0 0;\\n            color: lightgray;\\n        }\\n    </style>\\n</head>\\n<body>\\n    <div class=\"header\">\\n        <img src=\"rick.jpg\" alt=\"Map Icon\">\\n        Map of Popular Destinations\\n    </div>\\n    <div class=\"content\">\\n        <div class=\"destination\">\\n            <h2>New York</h2>\\n            <p>Experience the vibrant culture and rich history of New York City.</p>\\n        </div>\\n        <div class=\"destination\">\\n            <h2>Paris</h2>\\n            <p>Relax and enjoy the romance of the Eiffel Tower while discovering Parisian charm.</p>\\n        </div>\\n    </div>\\n</body>\\n</html>\\n```',\n",
       " 'stop_reason': 'stop',\n",
       " 'model': 'gpt4o',\n",
       " 'id': '10372_11',\n",
       " 'messages': [{'content': '<image>\\nRecreate the website design from the image using HTML and CSS code. Generate code that compliments the architecture of material design.',\n",
       "   'role': 'user'},\n",
       "  {'content': '```html\\n<!DOCTYPE html>\\n<html lang=\"en\">\\n<head>\\n    <meta charset=\"UTF-8\">\\n    <meta name=\"viewport\" content=\"width=device-width, initial-scale=1.0\">\\n    <title>Popular Destinations</title>\\n    <style>\\n        body {\\n            margin: 0;\\n            font-family: Arial, sans-serif;\\n            background-color: #f5f5f5;\\n            color: #333;\\n        }\\n        .container {\\n            width: 100%;\\n            max-width: 1200px;\\n            margin: 0 auto;\\n            text-align: center;\\n        }\\n        .map-section {\\n            background-color: red;\\n            padding: 20px;\\n            margin-bottom: 20px;\\n        }\\n        .map-section img {\\n            width: 20px;\\n            vertical-align: middle;\\n        }\\n        .map-section h2 {\\n            display: inline;\\n            color: white;\\n            font-size: 24px;\\n            margin-left: 10px;\\n        }\\n        .destinations {\\n            display: flex;\\n            justify-content: space-around;\\n            padding: 20px;\\n        }\\n        .destination {\\n            background-color: blue;\\n            width: 45%;\\n            padding: 20px;\\n            box-sizing: border-box;\\n            color: white;\\n        }\\n        .destination img {\\n            width: 20px;\\n            vertical-align: middle;\\n        }\\n        .destination h3 {\\n            margin-top: 0;\\n            font-size: 20px;\\n        }\\n        .destination p {\\n            color: #333;\\n            font-size: 16px;\\n            margin-top: 10px;\\n        }\\n    </style>\\n</head>\\n<body>\\n    <div class=\"container\">\\n        <div class=\"map-section\">\\n            <img src=\"rick.jpg\" alt=\"Map Icon\">\\n            <h2>Map of Popular Destinations</h2>\\n        </div>\\n        <div class=\"destinations\">\\n            <div class=\"destination\">\\n                <img src=\"rick.jpg\" alt=\"New York Icon\">\\n                <h3>New York</h3>\\n                <p>Experience the vibrant culture and rich history of New York City.</p>\\n            </div>\\n            <div class=\"destination\">\\n                <img src=\"rick.jpg\" alt=\"Paris Icon\">\\n                <h3>Paris</h3>\\n                <p>Relax and enjoy the romance of the Eiffel Tower while discovering Parisian charm.</p>\\n            </div>\\n        </div>\\n    </div>\\n</body>\\n</html>\\n```',\n",
       "   'role': 'assistant'}],\n",
       " 'images': ['/mnt/lingjiejiang/multimodal_code/data/Web2code_gpt4o/WebSight_images_new/image_10372_11.png'],\n",
       " 'revised_html': '<!DOCTYPE html>\\n<html lang=\"en\">\\n<head>\\n    <meta charset=\"UTF-8\">\\n    <meta name=\"viewport\" content=\"width=device-width, initial-scale=1.0\">\\n    <title>Popular Destinations</title>\\n    <style>\\n        body {\\n            margin: 0;\\n            font-family: Arial, sans-serif;\\n            background-color: #f5f5f5;\\n            color: #333;\\n        }\\n        .container {\\n            width: 100%;\\n            max-width: 1200px;\\n            margin: 0 auto;\\n            text-align: center;\\n        }\\n        .map-section {\\n            background-color: red;\\n            padding: 20px;\\n            margin-bottom: 20px;\\n        }\\n        .map-section img {\\n            width: 20px;\\n            vertical-align: middle;\\n        }\\n        .map-section h2 {\\n            display: inline;\\n            color: white;\\n            font-size: 24px;\\n            margin-left: 10px;\\n        }\\n        .destinations {\\n            display: flex;\\n            justify-content: space-around;\\n            padding: 20px;\\n        }\\n        .destination {\\n            background-color: blue;\\n            width: 45%;\\n            padding: 20px;\\n            box-sizing: border-box;\\n            color: white;\\n        }\\n        .destination img {\\n            width: 20px;\\n            vertical-align: middle;\\n        }\\n        .destination h3 {\\n            margin-top: 0;\\n            font-size: 20px;\\n        }\\n        .destination p {\\n            color: #333;\\n            font-size: 16px;\\n            margin-top: 10px;\\n        }\\n    </style>\\n</head>\\n<body>\\n    <div class=\"container\">\\n        <div class=\"map-section\">\\n            <img src=\"rick.jpg\" alt=\"Map Icon\">\\n            <h2>Map of Popular Destinations</h2>\\n        </div>\\n        <div class=\"destinations\">\\n            <div class=\"destination\">\\n                <img src=\"rick.jpg\" alt=\"New York Icon\">\\n                <h3>New York</h3>\\n                <p>Experience the vibrant culture and rich history of New York City.</p>\\n            </div>\\n            <div class=\"destination\">\\n                <img src=\"rick.jpg\" alt=\"Paris Icon\">\\n                <h3>Paris</h3>\\n                <p>Relax and enjoy the romance of the Eiffel Tower while discovering Parisian charm.</p>\\n            </div>\\n        </div>\\n    </div>\\n</body>\\n</html>',\n",
       " 'original_html': '<html>\\n<style>\\nbody {\\n    margin: 0;\\n    padding: 0;\\n    font-family: Arial, sans-serif;\\n}\\n\\n#map_centerpiece {\\n    width: 100%;\\n    height: 50vh;\\n    display: flex;\\n    justify-content: center;\\n    align-items: center;\\n    background-color: #F5F5F5;\\n}\\n\\n/* To replace the image with a colored placeholder */\\n#map_centerpiece img {\\n    background-color: #FF0000;\\n    width: 80%;\\n    height: 80%;\\n}\\n\\n#destinations {\\n    display: flex;\\n    flex-wrap: wrap;\\n    justify-content: center;\\n    margin: 20px 0;\\n}\\n\\n.destination {\\n    width: 30%;\\n    margin: 10px;\\n    text-align: center;\\n}\\n\\n/* To replace the image with a colored placeholder */\\n.destination img {\\n    background-color: #0000FF;\\n    width: 100%;\\n    height: 50vh;\\n    margin-bottom: 10px;\\n}\\n</style>\\n<body>\\n    <div id=\"map_centerpiece\">\\n        <img src=\"map.jpg\" alt=\"Map of Popular Destinations\">\\n    </div>\\n    <div id=\"destinations\">\\n        <div class=\"destination\">\\n            <img src=\"new_york.jpg\" alt=\"New York\">\\n            <h2>New York</h2>\\n            <p>Experience the vibrant culture and rich history of New York City.</p>\\n        </div>\\n        <div class=\"destination\">\\n            <img src=\"paris.jpg\" alt=\"Paris\">\\n            <h2>Paris</h2>\\n            <p>Relax and enjoy the romance of the Eiffel Tower while discovering Parisian charm.</p>\\n        </div>\\n       <!-- and so on for other popular destinations -->\\n    </div>\\n</body>\\n</html>',\n",
       " 'gpt_answer': '```html\\n<!DOCTYPE html>\\n<html lang=\"en\">\\n<head>\\n    <meta charset=\"UTF-8\">\\n    <meta name=\"viewport\" content=\"width=device-width, initial-scale=1.0\">\\n    <title>Popular Destinations</title>\\n    <style>\\n        body {\\n            margin: 0;\\n            font-family: Arial, sans-serif;\\n            background-color: #f5f5f5;\\n            color: #333;\\n        }\\n        .container {\\n            width: 100%;\\n            max-width: 1200px;\\n            margin: 0 auto;\\n            text-align: center;\\n        }\\n        .map-section {\\n            background-color: red;\\n            padding: 20px;\\n            margin-bottom: 20px;\\n        }\\n        .map-section img {\\n            width: 20px;\\n            vertical-align: middle;\\n        }\\n        .map-section h2 {\\n            display: inline;\\n            color: white;\\n            font-size: 24px;\\n            margin-left: 10px;\\n        }\\n        .destinations {\\n            display: flex;\\n            justify-content: space-around;\\n            padding: 20px;\\n        }\\n        .destination {\\n            background-color: blue;\\n            width: 45%;\\n            padding: 20px;\\n            box-sizing: border-box;\\n            color: white;\\n        }\\n        .destination img {\\n            width: 20px;\\n            vertical-align: middle;\\n        }\\n        .destination h3 {\\n            margin-top: 0;\\n            font-size: 20px;\\n        }\\n        .destination p {\\n            color: #333;\\n            font-size: 16px;\\n            margin-top: 10px;\\n        }\\n    </style>\\n</head>\\n<body>\\n    <div class=\"container\">\\n        <div class=\"map-section\">\\n            <img src=\"rick.jpg\" alt=\"Map Icon\">\\n            <h2>Map of Popular Destinations</h2>\\n        </div>\\n        <div class=\"destinations\">\\n            <div class=\"destination\">\\n                <img src=\"rick.jpg\" alt=\"New York Icon\">\\n                <h3>New York</h3>\\n                <p>Experience the vibrant culture and rich history of New York City.</p>\\n            </div>\\n            <div class=\"destination\">\\n                <img src=\"rick.jpg\" alt=\"Paris Icon\">\\n                <h3>Paris</h3>\\n                <p>Relax and enjoy the romance of the Eiffel Tower while discovering Parisian charm.</p>\\n            </div>\\n        </div>\\n    </div>\\n</body>\\n</html>\\n```\\n\\nThis HTML and CSS code creates a simple webpage with a map section and two destination sections styled similarly to the provided image. The layout is designed to fit within a single screen without scrolling, and all styles are included within the HTML file.',\n",
       " 'new_img': '/mnt/lingjiejiang/multimodal_code/data/dpo/html/images/WebSight_images_new/image_10372_11.png',\n",
       " 'formatted_html': '```html\\n<!DOCTYPE html>\\n<html lang=\"en\">\\n<head>\\n    <meta charset=\"UTF-8\">\\n    <meta name=\"viewport\" content=\"width=device-width, initial-scale=1.0\">\\n    <title>Popular Destinations</title>\\n    <style>\\n        body {\\n            margin: 0;\\n            font-family: Arial, sans-serif;\\n            background-color: #f5f5f5;\\n            color: #333;\\n        }\\n        .container {\\n            width: 100%;\\n            max-width: 1200px;\\n            margin: 0 auto;\\n            text-align: center;\\n        }\\n        .map-section {\\n            background-color: red;\\n            padding: 20px;\\n            margin-bottom: 20px;\\n        }\\n        .map-section img {\\n            width: 20px;\\n            vertical-align: middle;\\n        }\\n        .map-section h2 {\\n            display: inline;\\n            color: white;\\n            font-size: 24px;\\n            margin-left: 10px;\\n        }\\n        .destinations {\\n            display: flex;\\n            justify-content: space-around;\\n            padding: 20px;\\n        }\\n        .destination {\\n            background-color: blue;\\n            width: 45%;\\n            padding: 20px;\\n            box-sizing: border-box;\\n            color: white;\\n        }\\n        .destination img {\\n            width: 20px;\\n            vertical-align: middle;\\n        }\\n        .destination h3 {\\n            margin-top: 0;\\n            font-size: 20px;\\n        }\\n        .destination p {\\n            color: #333;\\n            font-size: 16px;\\n            margin-top: 10px;\\n        }\\n    </style>\\n</head>\\n<body>\\n    <div class=\"container\">\\n        <div class=\"map-section\">\\n            <img src=\"rick.jpg\" alt=\"Map Icon\">\\n            <h2>Map of Popular Destinations</h2>\\n        </div>\\n        <div class=\"destinations\">\\n            <div class=\"destination\">\\n                <img src=\"rick.jpg\" alt=\"New York Icon\">\\n                <h3>New York</h3>\\n                <p>Experience the vibrant culture and rich history of New York City.</p>\\n            </div>\\n            <div class=\"destination\">\\n                <img src=\"rick.jpg\" alt=\"Paris Icon\">\\n                <h3>Paris</h3>\\n                <p>Relax and enjoy the romance of the Eiffel Tower while discovering Parisian charm.</p>\\n            </div>\\n        </div>\\n    </div>\\n</body>\\n</html>\\n```',\n",
       " 'source': 'gpt4orevised',\n",
       " 'design_prompt': 'You are an expert web developer who specializes in HTML and CSS.\\nA user will provide you with a screenshot of a webpage.\\nYou need to return a single html file that uses HTML and CSS to reproduce the given website.\\nInclude all CSS code in the HTML file itself.\\nIf it involves any images, use \"rick.jpg\" as the placeholder.\\nSome images on the webpage are replaced with a blue rectangle as the placeholder, use \"rick.jpg\" for those as well.\\nDo not hallucinate any dependencies to external files. You do not need to include JavaScript scripts for dynamic interactions.\\nPay attention to things like size, text, position, and color of all the elements, as well as the overall layout.\\nRespond with the content of the HTML+CSS file:\\n',\n",
       " 'gpt_prompt': 'You are an expert web developer who specializes in HTML and CSS.\\nA user will provide you with a screenshot of a webpage.\\nYou need to return a single html file that uses HTML and CSS to reproduce the given website.\\nInclude all CSS code in the HTML file itself.\\nIf it involves any images, use \"rick.jpg\" as the placeholder.\\nSome images on the webpage are replaced with a blue rectangle as the placeholder, use \"rick.jpg\" for those as well.\\nDo not hallucinate any dependencies to external files. You do not need to include JavaScript scripts for dynamic interactions.\\nPay attention to things like size, text, position, and color of all the elements, as well as the overall layout.\\nRespond with the content of the HTML+CSS file:',\n",
       " 'type': 'html',\n",
       " 'origin_image': '/mnt/lingjiejiang/multimodal_code/data/Web2code_gpt4o/WebSight_images_new/image_10372_11.png',\n",
       " 'mimic_image': '/mnt/lingjiejiang/multimodal_code/data/dpo/html/images/WebSight_images_new/image_10372_11.png'}"
      ]
     },
     "execution_count": 29,
     "metadata": {},
     "output_type": "execute_result"
    }
   ],
   "source": [
    "for item in data:\n",
    "    item[\"origin_image\"] = item[\"images\"][0]\n",
    "    item[\"mimic_image\"] = item[\"new_img\"]\n",
    "data[0]"
   ]
  },
  {
   "cell_type": "code",
   "execution_count": 30,
   "metadata": {},
   "outputs": [
    {
     "name": "stdout",
     "output_type": "stream",
     "text": [
      "You are an excellent judge at evaluating visualization chart plots. The first image (reference image) is created using ground truth matplotlib code, and the second image (AI-generated image) is created using matplotlib code generated by an AI assistant. Your task is to score how well the AI-generated plot matches the ground truth plot.\n",
      "\n",
      "### Scoring Methodology:\n",
      "The AI-generated image's score is based on the following criteria, totaling a score out of 100 points:\n",
      "\n",
      "1. **Chart Types (20 points)** Does the AI-generated image include all chart types present in the reference image (e.g., line charts, bar charts, etc.)?\n",
      "2. **Layout (10 points)** Does the arrangement of subplots in the AI-generated image match the reference image (e.g., number of rows and columns)?\n",
      "3. **Text Content (20 points)** Does the AI-generated image include all text from the reference image (e.g., titles, annotations, axis labels), excluding axis tick labels?\n",
      "4. **Data (20 points)** How accurately do the data trends in the AI-generated image resemble those in the original image and is the number of data groups the same as in the reference image?\n",
      "5. **Style (20 points)** Does the AI-generated image match the original in terms of colors (line colors, fill colors, etc.), marker types (point shapes, line styles, etc.), legends, grids, and other stylistic details?\n",
      "6. **Clarity (10 points)** Is the AI-generated image clear and free of overlapping elements?\n",
      "\n",
      "### Evaluation:\n",
      "Compare the two images head to head and provide a detailed assessment. Use the following format for your response:\n",
      "\n",
      "\n",
      "---\n",
      "\n",
      "Comments:\n",
      "- Chart Types: ${your comment and subscore}\n",
      "- Layout: ${your comment and subscore}\n",
      "- Text Content: ${your comment and subscore}\n",
      "- Data: ${your comment and subscore}\n",
      "- Style: ${your comment and subscore}\n",
      "- Clarity: ${your comment and subscore}\n",
      "\n",
      "Score: ${your final score out of 100}\n",
      "\n",
      "---\n",
      "\n",
      "Please use the above format to ensure the evaluation is clear and comprehensive.\n",
      "\n"
     ]
    }
   ],
   "source": [
    "PROMPT_TEMPLATE = \"You are an excellent judge at evaluating visualization chart plots. The first image (reference image) is created using ground truth matplotlib code, and the second image (AI-generated image) is created using matplotlib code generated by an AI assistant. Your task is to score how well the AI-generated plot matches the ground truth plot.\\n\\n### Scoring Methodology:\\nThe AI-generated image's score is based on the following criteria, totaling a score out of 100 points:\\n\\n1. **Chart Types (20 points)** Does the AI-generated image include all chart types present in the reference image (e.g., line charts, bar charts, etc.)?\\n2. **Layout (10 points)** Does the arrangement of subplots in the AI-generated image match the reference image (e.g., number of rows and columns)?\\n3. **Text Content (20 points)** Does the AI-generated image include all text from the reference image (e.g., titles, annotations, axis labels), excluding axis tick labels?\\n4. **Data (20 points)** How accurately do the data trends in the AI-generated image resemble those in the original image and is the number of data groups the same as in the reference image?\\n5. **Style (20 points)** Does the AI-generated image match the original in terms of colors (line colors, fill colors, etc.), marker types (point shapes, line styles, etc.), legends, grids, and other stylistic details?\\n6. **Clarity (10 points)** Is the AI-generated image clear and free of overlapping elements?\\n\\n### Evaluation:\\nCompare the two images head to head and provide a detailed assessment. Use the following format for your response:\\n\\n\\n---\\n\\nComments:\\n- Chart Types: ${your comment and subscore}\\n- Layout: ${your comment and subscore}\\n- Text Content: ${your comment and subscore}\\n- Data: ${your comment and subscore}\\n- Style: ${your comment and subscore}\\n- Clarity: ${your comment and subscore}\\n\\nScore: ${your final score out of 100}\\n\\n---\\n\\nPlease use the above format to ensure the evaluation is clear and comprehensive.\\n\"\n",
    "print(PROMPT_TEMPLATE)"
   ]
  },
  {
   "cell_type": "code",
   "execution_count": 31,
   "metadata": {},
   "outputs": [
    {
     "data": {
      "text/plain": [
       "['/mnt/lingjiejiang/multimodal_code/data/dpo/html/gpt4o_html_dpo_92k_big_img_filtered_split1.json',\n",
       " '/mnt/lingjiejiang/multimodal_code/data/dpo/html/gpt4o_html_dpo_92k_big_img_filtered_split2.json',\n",
       " '/mnt/lingjiejiang/multimodal_code/data/dpo/html/gpt4o_html_dpo_92k_big_img_filtered_split3.json']"
      ]
     },
     "execution_count": 31,
     "metadata": {},
     "output_type": "execute_result"
    }
   ],
   "source": [
    "import json\n",
    "import os\n",
    "\n",
    "# 文件路径\n",
    "# input_file = \"/mnt/lingjiejiang/multimodal_code/data/dpo/html/gpt4o_html_dpo_92k_big_img_filtered.json\"\n",
    "output_files = [\n",
    "    \"/mnt/lingjiejiang/multimodal_code/data/dpo/html/gpt4o_html_dpo_92k_big_img_filtered_split1.json\",\n",
    "    \"/mnt/lingjiejiang/multimodal_code/data/dpo/html/gpt4o_html_dpo_92k_big_img_filtered_split2.json\",\n",
    "    \"/mnt/lingjiejiang/multimodal_code/data/dpo/html/gpt4o_html_dpo_92k_big_img_filtered_split3.json\"\n",
    "]\n",
    "\n",
    "# # 读取 JSON 文件\n",
    "# with open(input_file, \"r\") as f:\n",
    "#     data = json.load(f)\n",
    "\n",
    "# 计算切分索引\n",
    "total_items = len(data)\n",
    "split_size = total_items // 3  # 每个部分的大小\n",
    "\n",
    "# 切分数据\n",
    "split_data = [\n",
    "    data[:split_size], \n",
    "    data[split_size: 2 * split_size], \n",
    "    data[2 * split_size:]  # 余下的全部数据放入第三部分，防止除不尽导致数据丢失\n",
    "]\n",
    "\n",
    "# 写入分割后的 JSON 文件\n",
    "for i in range(3):\n",
    "    with open(output_files[i], \"w\") as f:\n",
    "        json.dump(split_data[i], f, indent=4)\n",
    "\n",
    "# 返回分割后的文件路径\n",
    "output_files\n"
   ]
  },
  {
   "cell_type": "code",
   "execution_count": 34,
   "metadata": {},
   "outputs": [
    {
     "data": {
      "text/plain": [
       "30898"
      ]
     },
     "execution_count": 34,
     "metadata": {},
     "output_type": "execute_result"
    }
   ],
   "source": [
    "with open(\"/mnt/lingjiejiang/multimodal_code/data/dpo/html/gpt4o_html_dpo_92k_big_img_filtered_split3.json\", \"r\") as f:\n",
    "    data = json.load(f)\n",
    "len(data)"
   ]
  },
  {
   "cell_type": "code",
   "execution_count": 35,
   "metadata": {},
   "outputs": [
    {
     "data": {
      "text/plain": [
       "{'index': 15841,\n",
       " 'code_extract': '<!DOCTYPE html>\\n<html lang=\"en\">\\n<head>\\n    <meta charset=\"UTF-8\">\\n    <meta name=\"viewport\" content=\"width=device-width, initial-scale=1.0\">\\n    <title>Material Design Sidebar</title>\\n    <style>\\n        body {\\n            margin: 0;\\n            font-family: \\'Roboto\\', sans-serif;\\n            display: flex;\\n            height: 100vh;\\n        }\\n\\n        .sidebar {\\n            width: 250px;\\n            background-color: #e0e0e0; /* Light grey background */\\n            box-shadow: 2px 0 5px rgba(0,0,0,0.1); /* Subtle shadow for depth */\\n            display: flex;\\n            flex-direction: column;\\n            padding: 20px;\\n            box-sizing: border-box;\\n        }\\n\\n        .sidebar-item {\\n            margin-bottom: 20px;\\n            font-size: 16px;\\n            color: #333; /* Dark text for contrast */\\n        }\\n    </style>\\n</head>\\n<body>\\n    <div class=\"sidebar\">\\n        <div class=\"sidebar-item\">Your donation makes a difference</div>\\n        <div class=\"sidebar-item\">Join Our Volunteer Team</div>\\n        <div class=\"sidebar-item\">We stand to improve lives through our work</div>\\n    </div>\\n</body>\\n</html>',\n",
       " 'generate_raw': 'To create a layout similar to the one in the screenshot using HTML and CSS while following the Material Design guidelines, you can use the following code. This example will create a sidebar with some text items, styled to match a simple Material Design look.\\n\\n```html\\n<!DOCTYPE html>\\n<html lang=\"en\">\\n<head>\\n    <meta charset=\"UTF-8\">\\n    <meta name=\"viewport\" content=\"width=device-width, initial-scale=1.0\">\\n    <title>Material Design Sidebar</title>\\n    <style>\\n        body {\\n            margin: 0;\\n            font-family: \\'Roboto\\', sans-serif;\\n            display: flex;\\n            height: 100vh;\\n        }\\n\\n        .sidebar {\\n            width: 250px;\\n            background-color: #e0e0e0; /* Light grey background */\\n            box-shadow: 2px 0 5px rgba(0,0,0,0.1); /* Subtle shadow for depth */\\n            display: flex;\\n            flex-direction: column;\\n            padding: 20px;\\n            box-sizing: border-box;\\n        }\\n\\n        .sidebar-item {\\n            margin-bottom: 20px;\\n            font-size: 16px;\\n            color: #333; /* Dark text for contrast */\\n        }\\n    </style>\\n</head>\\n<body>\\n    <div class=\"sidebar\">\\n        <div class=\"sidebar-item\">Your donation makes a difference</div>\\n        <div class=\"sidebar-item\">Join Our Volunteer Team</div>\\n        <div class=\"sidebar-item\">We stand to improve lives through our work</div>\\n    </div>\\n</body>\\n</html>\\n```\\n\\n### Explanation:\\n\\n- **HTML Structure**: \\n  - The page contains a `<div>` with the class `sidebar` which holds individual items, each in its own `div` with the class `sidebar-item`.\\n  \\n- **CSS Styling**:\\n  - **Body**: Uses Flexbox to make the sidebar fill the entire height of the viewport.\\n  - **Sidebar**: Has a fixed width, a light grey background to emulate Material Design\\'s surface color, and a subtle shadow to provide a sense of elevation and separation from the main content area.\\n  - **Sidebar Items**: Styled with a margin to separate each item and a dark text color to ensure readability.\\n\\nThis code snippet creates a simple, clean sidebar that uses basic principles of Material Design, such as elevation (through shadows) and color contrast. Adjust the styles as needed to better fit specific design requirements or to enhance visual appeal.',\n",
       " 'stop_reason': 'stop',\n",
       " 'model': 'gpt4o',\n",
       " 'id': '4195_6',\n",
       " 'messages': [{'content': '<image>\\nDevelop HTML and CSS code necessary to emulate the layout and visuals of the website as seen in the provided screenshot. Present the script that reflects the spirit of the material design system.',\n",
       "   'role': 'user'},\n",
       "  {'content': '<html>\\n<style>\\nbody {\\n  display: flex;\\n  font-family: Arial, sans-serif;\\n}\\n\\n#sidebar {\\n  width: 200px;\\n  background-color: #e0e0e0;\\n  padding: 10px;\\n}\\n\\n.grid {\\n  display: grid;\\n  grid-template-columns: repeat(3, 1fr);\\n  grid-gap: 10px;\\n}\\n\\n.box {\\n  height: 100px;\\n  background-color: red;\\n}\\n\\n#donation, #volunteer, #mission {\\n  margin-bottom: 10px;\\n}\\n</style>\\n<body>\\n    <div id=\"sidebar\">\\n      <div id=\"donation\">Your donation makes a difference</div>\\n      <div id=\"volunteer\">Join Our Volunteer Team</div>\\n      <div id=\"mission\">We stand to improve lives through our work</div>\\n    </div>\\n    <div id=\"programs\" class=\"grid\">\\n      <div class=\"box\"></div>\\n      <div class=\"box\"></div>\\n      <div class=\"box\"></div>\\n      <div class=\"box\"></div>\\n      <div class=\"box\"></div>\\n      <div class=\"box\"></div>\\n    </div>\\n  </body>\\n</html>',\n",
       "   'role': 'assistant'}],\n",
       " 'images': ['/mnt/lingjiejiang/multimodal_code/data/web2code_new_images/WebSight_images_new/image_4195_6.png'],\n",
       " 'source': 'web2codenoimg',\n",
       " 'gpt_prompt': 'Develop HTML and CSS code necessary to emulate the layout and visuals of the website as seen in the provided screenshot. Present the script that reflects the spirit of the material design system.',\n",
       " 'type': 'html',\n",
       " 'new_img': '/mnt/lingjiejiang/multimodal_code/data/dpo/html/images/../web2code_new_images/WebSight_images_new/image_4195_6.png',\n",
       " 'origin_image': '/mnt/lingjiejiang/multimodal_code/data/web2code_new_images/WebSight_images_new/image_4195_6.png',\n",
       " 'mimic_image': '/mnt/lingjiejiang/multimodal_code/data/dpo/html/images/../web2code_new_images/WebSight_images_new/image_4195_6.png'}"
      ]
     },
     "execution_count": 35,
     "metadata": {},
     "output_type": "execute_result"
    }
   ],
   "source": [
    "data[0]"
   ]
  }
 ],
 "metadata": {
  "kernelspec": {
   "display_name": "chartmimic",
   "language": "python",
   "name": "python3"
  },
  "language_info": {
   "codemirror_mode": {
    "name": "ipython",
    "version": 3
   },
   "file_extension": ".py",
   "mimetype": "text/x-python",
   "name": "python",
   "nbconvert_exporter": "python",
   "pygments_lexer": "ipython3",
   "version": "3.9.0"
  }
 },
 "nbformat": 4,
 "nbformat_minor": 2
}
