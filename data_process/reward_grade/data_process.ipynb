{
 "cells": [
  {
   "cell_type": "code",
   "execution_count": 1,
   "metadata": {},
   "outputs": [
    {
     "data": {
      "text/plain": [
       "{'index': 0,\n",
       " 'code_extract': \"import matplotlib.pyplot as plt\\n\\n# Data\\nquarters = ['Q1', 'Q2', 'Q3', 'Q4']\\nrevenue_2022 = [150, 200, 250, 300]\\nrevenue_2023 = [180, 230, 290, 350]\\n\\n# Create the plot\\nplt.figure(figsize=(10, 6))\\nplt.plot(quarters, revenue_2022, 'b-o', label='2022 Revenue')\\nplt.plot(quarters, revenue_2023, 'g--s', label='2023 Revenue')\\n\\n# Highlight the highest revenue point\\nplt.annotate('Highest Revenue', xy=('Q4', 350), xytext=('Q4', 360),\\n             arrowprops=dict(facecolor='black', shrink=0.05))\\n\\n# Labels and title\\nplt.xlabel('Quarter')\\nplt.ylabel('Revenue (in millions)')\\nplt.title('Quarterly Revenue Comparison: 2022 vs 2023', fontweight='bold')\\n\\n# Legend\\nplt.legend()\\n\\n# Grid\\nplt.grid(True)\\n\\n# Show plot\\nplt.show()\",\n",
       " 'generate_raw': \"To reproduce the graph using Matplotlib with the specified dimensions, you can use the following code:\\n\\n```python\\nimport matplotlib.pyplot as plt\\n\\n# Data\\nquarters = ['Q1', 'Q2', 'Q3', 'Q4']\\nrevenue_2022 = [150, 200, 250, 300]\\nrevenue_2023 = [180, 230, 290, 350]\\n\\n# Create the plot\\nplt.figure(figsize=(10, 6))\\nplt.plot(quarters, revenue_2022, 'b-o', label='2022 Revenue')\\nplt.plot(quarters, revenue_2023, 'g--s', label='2023 Revenue')\\n\\n# Highlight the highest revenue point\\nplt.annotate('Highest Revenue', xy=('Q4', 350), xytext=('Q4', 360),\\n             arrowprops=dict(facecolor='black', shrink=0.05))\\n\\n# Labels and title\\nplt.xlabel('Quarter')\\nplt.ylabel('Revenue (in millions)')\\nplt.title('Quarterly Revenue Comparison: 2022 vs 2023', fontweight='bold')\\n\\n# Legend\\nplt.legend()\\n\\n# Grid\\nplt.grid(True)\\n\\n# Show plot\\nplt.show()\\n```\\n\\nThis code sets up the plot with the specified dimensions, plots the data for 2022 and 2023, adds the annotation for the highest revenue point in Q4 2023, and includes labels, title, and a legend.\",\n",
       " 'stop_reason': 'stop',\n",
       " 'model': 'gpt4o',\n",
       " 'evol_text': \"import matplotlib.pyplot as plt\\nimport numpy as np\\n\\n# Create data for the demonstration: quarterly revenue over a year\\nquarters = np.array([1, 2, 3, 4])\\nrevenue_2022 = np.array([150, 200, 250, 300])  # Revenue in millions for 2022\\nrevenue_2023 = np.array([180, 230, 280, 350])  # Revenue in millions for 2023\\n\\n# Create a new figure with a larger size for better presentation\\nfig, ax = plt.subplots(figsize=(10, 6))\\n\\n# Plot the data with enhanced line styles and markers\\nax.plot(quarters, revenue_2022, marker='o', linestyle='-', color='b', linewidth=2, label='2022 Revenue')\\nax.plot(quarters, revenue_2023, marker='s', linestyle='--', color='g', linewidth=2, label='2023 Revenue')\\n\\n# Set axis labels with more descriptive text\\nax.set_xlabel('Quarter', fontsize=12)\\nax.set_ylabel('Revenue (in millions)', fontsize=12)\\n\\n# Add a title with increased font size for emphasis\\nax.set_title('Quarterly Revenue Comparison: 2022 vs 2023', fontsize=14, fontweight='bold')\\n\\n# Add grid lines for improved readability\\nax.grid(True, which='both', linestyle='--', linewidth=0.5)\\n\\n# Customize the x-axis ticks to show quarter names\\nax.set_xticks(quarters)\\nax.set_xticklabels(['Q1', 'Q2', 'Q3', 'Q4'])\\n\\n# Add a legend with a shadow effect for better distinction\\nax.legend(loc='upper left', shadow=True, fontsize=10)\\n\\n# Annotate a significant point for emphasis\\nmax_revenue_2023 = max(revenue_2023)\\nmax_quarter_2023 = quarters[revenue_2023.argmax()]\\nax.annotate('Highest Revenue', xy=(max_quarter_2023, max_revenue_2023),\\n            xytext=(max_quarter_2023 + 0.1, max_revenue_2023 - 20),\\n            arrowprops=dict(facecolor='black', shrink=0.05),\\n            fontsize=10, ha='center')\\n\\n# Tight layout for better spacing\\nplt.tight_layout()\\n\\n# Show the plot\\nplt.show()\",\n",
       " 'gpt_evol_answer': \"To create an optimized and visually appealing line chart using Matplotlib, we'll enhance the original script by adding stylistic improvements, more informative data, and additional chart elements such as a title, gridlines, and annotations. Here's an improved version of the code:\\n\\n```python\\nimport matplotlib.pyplot as plt\\nimport numpy as np\\n\\n# Create data for the demonstration: quarterly revenue over a year\\nquarters = np.array([1, 2, 3, 4])\\nrevenue_2022 = np.array([150, 200, 250, 300])  # Revenue in millions for 2022\\nrevenue_2023 = np.array([180, 230, 280, 350])  # Revenue in millions for 2023\\n\\n# Create a new figure with a larger size for better presentation\\nfig, ax = plt.subplots(figsize=(10, 6))\\n\\n# Plot the data with enhanced line styles and markers\\nax.plot(quarters, revenue_2022, marker='o', linestyle='-', color='b', linewidth=2, label='2022 Revenue')\\nax.plot(quarters, revenue_2023, marker='s', linestyle='--', color='g', linewidth=2, label='2023 Revenue')\\n\\n# Set axis labels with more descriptive text\\nax.set_xlabel('Quarter', fontsize=12)\\nax.set_ylabel('Revenue (in millions)', fontsize=12)\\n\\n# Add a title with increased font size for emphasis\\nax.set_title('Quarterly Revenue Comparison: 2022 vs 2023', fontsize=14, fontweight='bold')\\n\\n# Add grid lines for improved readability\\nax.grid(True, which='both', linestyle='--', linewidth=0.5)\\n\\n# Customize the x-axis ticks to show quarter names\\nax.set_xticks(quarters)\\nax.set_xticklabels(['Q1', 'Q2', 'Q3', 'Q4'])\\n\\n# Add a legend with a shadow effect for better distinction\\nax.legend(loc='upper left', shadow=True, fontsize=10)\\n\\n# Annotate a significant point for emphasis\\nmax_revenue_2023 = max(revenue_2023)\\nmax_quarter_2023 = quarters[revenue_2023.argmax()]\\nax.annotate('Highest Revenue', xy=(max_quarter_2023, max_revenue_2023),\\n            xytext=(max_quarter_2023 + 0.1, max_revenue_2023 - 20),\\n            arrowprops=dict(facecolor='black', shrink=0.05),\\n            fontsize=10, ha='center')\\n\\n# Tight layout for better spacing\\nplt.tight_layout()\\n\\n# Show the plot\\nplt.show()\\n```\\n\\n### Key Enhancements:\\n1. **Data Context**: The data now represents a realistic scenario: quarterly revenues over two years, making the chart more engaging and informative.\\n2. **Stylistic Improvements**:\\n   - Different line styles (`-` for 2022 and `--` for 2023) and markers (`o` for 2022 and `s` for 2023) differentiate the datasets.\\n   - The use of color and line width enhances visual clarity.\\n3. **Annotations**: An annotation highlights the highest revenue point in 2023, providing additional insight.\\n4. **Gridlines**: Adding gridlines improves readability.\\n5. **Legend and Title**: Enhanced legend with shadow for better visualization and a bold title for emphasis.\\n6. **Axis Labels and Ticks**: Descriptive axis labels and custom x-tick labels improve the chart's clarity and presentation.\",\n",
       " 'revised_text': \"import matplotlib.pyplot as plt  \\nimport numpy as np  \\n\\n# Sample data  \\nx = np.linspace(0, 1, 100)  \\ny = x**2  \\n\\n# Create a new figure  \\nfig = plt.figure(figsize=(6.0, 4.0))  \\n\\n# Plot the data  \\nplt.plot(x, y, label='y = x^2')  \\n\\n# Set labels  \\nplt.xlabel('X')  \\nplt.ylabel('Y')  \\n\\n# Add a legend  \\nplt.legend()  \\n\\n# Show the plot  \\nplt.show()\",\n",
       " 'category': 'Line',\n",
       " 'chart_size': [10.0, 6.0],\n",
       " 'max_stars_repo_path': 'giggleliu/tba/hgen/multithreading.py',\n",
       " 'max_stars_repo_name': 'Lynn-015/Test_01',\n",
       " 'max_stars_count': 2,\n",
       " 'id': '22978',\n",
       " 'text': \"#!/usr/bin/python\\nfrom numpy import *\\nfrom mpi4py import MPI\\nfrom matplotlib.pyplot import *\\n#MPI setting\\ntry:\\n    COMM=MPI.COMM_WORLD\\n    SIZE=COMM.Get_size()\\n    RANK=COMM.Get_rank()\\nexcept:\\n    COMM=None\\n    SIZE=1\\n    RANK=0\\n\\n__all__=['mpido']\\n\\ndef mpido(func,inputlist,bcastouputmesh=True):\\n    '''\\n    MPI for list input.\\n\\n    func:\\n        The function defined on inputlist.\\n    inputlist:\\n        The input list.\\n    bcastouputmesh:\\n        broadcast output mesh if True.\\n    '''\\n    N=len(inputlist)\\n    ntask=(N-1)/SIZE+1\\n    datas=[]\\n    for i in xrange(N):\\n        if i/ntask==RANK:\\n            datas.append(func(inputlist[i]))\\n    datal=COMM.gather(datas,root=0)\\n    if RANK==0:\\n        datas=[]\\n        for datai in datal:\\n            datas+=datai\\n    #broadcast mesh\\n    if bcastouputmesh:\\n        datas=COMM.bcast(datas,root=0)\\n    return datas\\n\\ndef test_mpido():\\n    x=linspace(0,1,100)\\n    y=mpido(func=lambda x:x**2,inputlist=x)\\n    if RANK==0:\\n        plot(x,y)\\n        show()\\n\\nif __name__=='__main__':\\n    test_mpido()\\n\",\n",
       " 'source': 'v1',\n",
       " 'images': ['/mnt/lingjiejiang/multimodal_code/data/dpo/chart/gpt4o_images1/000001.jpg'],\n",
       " 'prompt': 'Develop a matplotlib code that reproduces the picture, and ensure the dimensions match by using figsize=(10, 6).',\n",
       " 'messages': [{'content': '<image>\\nDevelop a matplotlib code that reproduces the picture, and ensure the dimensions match by using figsize=(10, 6).',\n",
       "   'role': 'user'},\n",
       "  {'content': \"```python\\nimport matplotlib.pyplot as plt\\n\\n# Data\\nquarters = ['Q1', 'Q2', 'Q3', 'Q4']\\nrevenue_2022 = [150, 200, 250, 300]\\nrevenue_2023 = [180, 230, 290, 350]\\n\\n# Create the plot\\nplt.figure(figsize=(10, 6))\\nplt.plot(quarters, revenue_2022, 'b-o', label='2022 Revenue')\\nplt.plot(quarters, revenue_2023, 'g--s', label='2023 Revenue')\\n\\n# Highlight the highest revenue point\\nplt.annotate('Highest Revenue', xy=('Q4', 350), xytext=('Q4', 360),\\n             arrowprops=dict(facecolor='black', shrink=0.05))\\n\\n# Labels and title\\nplt.xlabel('Quarter')\\nplt.ylabel('Revenue (in millions)')\\nplt.title('Quarterly Revenue Comparison: 2022 vs 2023', fontweight='bold')\\n\\n# Legend\\nplt.legend()\\n\\n# Grid\\nplt.grid(True)\\n\\n# Show plot\\nplt.show()\\n```\",\n",
       "   'role': 'assistant'}],\n",
       " 'gpt_prompt': 'Develop a matplotlib code that reproduces the picture, and ensure the dimensions match by using figsize=(10, 6).',\n",
       " 'type': 'chart',\n",
       " 'formatted_text': \"```python\\nimport matplotlib.pyplot as plt\\n\\n# Data\\nquarters = ['Q1', 'Q2', 'Q3', 'Q4']\\nrevenue_2022 = [150, 200, 250, 300]\\nrevenue_2023 = [180, 230, 290, 350]\\n\\n# Create the plot\\nplt.figure(figsize=(10, 6))\\nplt.plot(quarters, revenue_2022, 'b-o', label='2022 Revenue')\\nplt.plot(quarters, revenue_2023, 'g--s', label='2023 Revenue')\\n\\n# Highlight the highest revenue point\\nplt.annotate('Highest Revenue', xy=('Q4', 350), xytext=('Q4', 360),\\n             arrowprops=dict(facecolor='black', shrink=0.05))\\n\\n# Labels and title\\nplt.xlabel('Quarter')\\nplt.ylabel('Revenue (in millions)')\\nplt.title('Quarterly Revenue Comparison: 2022 vs 2023', fontweight='bold')\\n\\n# Legend\\nplt.legend()\\n\\n# Grid\\nplt.grid(True)\\n\\n# Show plot\\nplt.show()\\n```\"}"
      ]
     },
     "execution_count": 1,
     "metadata": {},
     "output_type": "execute_result"
    }
   ],
   "source": [
    "import json\n",
    "data_path = \"/mnt/lingjiejiang/multimodal_code/data/dpo/chart/github_gpt4o_chart_47k_code.json\"  \n",
    "with open(data_path, \"r\") as f:\n",
    "    data = json.load(f)\n",
    "data[0]"
   ]
  },
  {
   "cell_type": "code",
   "execution_count": 2,
   "metadata": {},
   "outputs": [
    {
     "data": {
      "text/plain": [
       "50476"
      ]
     },
     "execution_count": 2,
     "metadata": {},
     "output_type": "execute_result"
    }
   ],
   "source": [
    "input_path = \"/mnt/lingjiejiang/multimodal_code/data/dpo/chart/chart50k.json\"\n",
    "with open(input_path, \"r\") as f:\n",
    "    chart_origin = json.load(f)\n",
    "len(chart_origin)"
   ]
  },
  {
   "cell_type": "code",
   "execution_count": 5,
   "metadata": {},
   "outputs": [
    {
     "data": {
      "text/plain": [
       "{'index': 0,\n",
       " 'evol_text': \"import matplotlib.pyplot as plt\\nimport numpy as np\\n\\n# Create a more complex dataset\\nx = np.linspace(0, 10, 200)\\ny1 = np.sin(x)  # Original sine wave\\ny2 = np.cos(x)  # Additional cosine wave\\n\\n# Create a new figure with a larger size for better visibility\\nplt.figure(figsize=(10, 6))\\n\\n# Plot the sine wave with enhanced styling\\nplt.plot(x, y1, label='Sine Wave', color='royalblue', linewidth=2, linestyle='-', marker='o', markersize=5, markerfacecolor='orange')\\n\\n# Plot the cosine wave with a contrasting style\\nplt.plot(x, y2, label='Cosine Wave', color='tomato', linewidth=2, linestyle='--', marker='s', markersize=5, markerfacecolor='yellow')\\n\\n# Enhance the chart with titles and labels\\nplt.title('Trigonometric Functions: Sine and Cosine', fontsize=16, fontweight='bold')\\nplt.xlabel('Angle (radians)', fontsize=12)\\nplt.ylabel('Function Value', fontsize=12)\\n\\n# Add a grid for better readability\\nplt.grid(True, which='both', linestyle='--', linewidth=0.5)\\n\\n# Add a legend with a shadow for better distinction\\nplt.legend(loc='upper right', fontsize=12, shadow=True)\\n\\n# Customize x and y axis ticks\\nplt.xticks(np.arange(0, 11, 1))\\nplt.yticks(np.arange(-1, 1.5, 0.5))\\n\\n# Optimize layout to prevent clipping of elements\\nplt.tight_layout()\\n\\n# Show the enhanced plot\\nplt.show()\",\n",
       " 'gpt_evol_answer': \"To create a visually appealing and informative line chart using Matplotlib, we can enhance the original code by improving the aesthetics and adding meaningful details to the plot. Here's an optimized version of the code with improved styling and a more contextually appropriate dataset:\\n\\n```python\\nimport matplotlib.pyplot as plt\\nimport numpy as np\\n\\n# Create a more complex dataset\\nx = np.linspace(0, 10, 200)\\ny1 = np.sin(x)  # Original sine wave\\ny2 = np.cos(x)  # Additional cosine wave\\n\\n# Create a new figure with a larger size for better visibility\\nplt.figure(figsize=(10, 6))\\n\\n# Plot the sine wave with enhanced styling\\nplt.plot(x, y1, label='Sine Wave', color='royalblue', linewidth=2, linestyle='-', marker='o', markersize=5, markerfacecolor='orange')\\n\\n# Plot the cosine wave with a contrasting style\\nplt.plot(x, y2, label='Cosine Wave', color='tomato', linewidth=2, linestyle='--', marker='s', markersize=5, markerfacecolor='yellow')\\n\\n# Enhance the chart with titles and labels\\nplt.title('Trigonometric Functions: Sine and Cosine', fontsize=16, fontweight='bold')\\nplt.xlabel('Angle (radians)', fontsize=12)\\nplt.ylabel('Function Value', fontsize=12)\\n\\n# Add a grid for better readability\\nplt.grid(True, which='both', linestyle='--', linewidth=0.5)\\n\\n# Add a legend with a shadow for better distinction\\nplt.legend(loc='upper right', fontsize=12, shadow=True)\\n\\n# Customize x and y axis ticks\\nplt.xticks(np.arange(0, 11, 1))\\nplt.yticks(np.arange(-1, 1.5, 0.5))\\n\\n# Optimize layout to prevent clipping of elements\\nplt.tight_layout()\\n\\n# Show the enhanced plot\\nplt.show()\\n```\\n\\n### Enhancements Made:\\n\\n1. **Dataset Enrichment**: Added a cosine wave alongside the sine wave for comparison.\\n2. **Figure Size**: Increased the figure size to make the plot more readable.\\n3. **Line Styles and Markers**: Applied distinct line styles, colors, and markers to differentiate the sine and cosine waves.\\n4. **Titles and Labels**: Enhanced the title with a more descriptive name and increased font sizes for better readability.\\n5. **Grid**: Added a subtle grid to improve readability and reference.\\n6. **Legend**: Improved the legend's appearance with a shadow, making it more distinct.\\n7. **Ticks Customization**: Set custom ticks on both axes for clarity and precision.\\n8. **Layout Optimization**: Used `plt.tight_layout()` to ensure that all plot elements are nicely contained within the figure area.\\n\\nThese improvements make the chart not only more visually appealing but also more informative, enhancing the user's ability to interpret the data effectively.\",\n",
       " 'revised_text': \"import matplotlib.pyplot as plt  \\nimport numpy as np  \\n\\n# Sample data  \\nx = np.linspace(0, 10, 100)  \\ny = np.sin(x)  \\n\\n# Create a new figure  \\nplt.figure(figsize=(6.0, 4.0))  \\n\\n# Plot the data  \\nplt.plot(x, y, label='Sine Wave')  \\n\\n# Set labels  \\nplt.xlabel('X-axis')  \\nplt.ylabel('Y-axis')  \\nplt.title('Sine Wave')  \\n\\n# Show the plot  \\nplt.show()\",\n",
       " 'category': 'Line',\n",
       " 'chart_size': [10.0, 6.0],\n",
       " 'max_stars_repo_path': 'talleres_inov_docente/figures/plot_helpers.py',\n",
       " 'max_stars_repo_name': 'jfcaballero/Tutorial-sobre-scikit-learn-abreviado',\n",
       " 'max_stars_count': 576,\n",
       " 'id': '5734',\n",
       " 'text': \"from matplotlib.colors import ListedColormap\\n\\ncm3 = ListedColormap(['#0000aa', '#ff2020', '#50ff50'])\\ncm2 = ListedColormap(['#0000aa', '#ff2020'])\\n\",\n",
       " 'source': 'v1',\n",
       " 'images': ['/mnt/lingjiejiang/multimodal_code/data/chart_data/evol_images1/000001.jpg'],\n",
       " 'prompt': 'Generate a matplotlib script that captures the essence of the picture, setting the size with figsize=(10, 6).',\n",
       " 'messages': [{'content': '<image>\\nGenerate a matplotlib script that captures the essence of the picture, setting the size with figsize=(10, 6).',\n",
       "   'role': 'user'},\n",
       "  {'content': \"```python\\nimport matplotlib.pyplot as plt\\nimport numpy as np\\n\\n# Create a more complex dataset\\nx = np.linspace(0, 10, 200)\\ny1 = np.sin(x)  # Original sine wave\\ny2 = np.cos(x)  # Additional cosine wave\\n\\n# Create a new figure with a larger size for better visibility\\nplt.figure(figsize=(10, 6))\\n\\n# Plot the sine wave with enhanced styling\\nplt.plot(x, y1, label='Sine Wave', color='royalblue', linewidth=2, linestyle='-', marker='o', markersize=5, markerfacecolor='orange')\\n\\n# Plot the cosine wave with a contrasting style\\nplt.plot(x, y2, label='Cosine Wave', color='tomato', linewidth=2, linestyle='--', marker='s', markersize=5, markerfacecolor='yellow')\\n\\n# Enhance the chart with titles and labels\\nplt.title('Trigonometric Functions: Sine and Cosine', fontsize=16, fontweight='bold')\\nplt.xlabel('Angle (radians)', fontsize=12)\\nplt.ylabel('Function Value', fontsize=12)\\n\\n# Add a grid for better readability\\nplt.grid(True, which='both', linestyle='--', linewidth=0.5)\\n\\n# Add a legend with a shadow for better distinction\\nplt.legend(loc='upper right', fontsize=12, shadow=True)\\n\\n# Customize x and y axis ticks\\nplt.xticks(np.arange(0, 11, 1))\\nplt.yticks(np.arange(-1, 1.5, 0.5))\\n\\n# Optimize layout to prevent clipping of elements\\nplt.tight_layout()\\n\\n# Show the enhanced plot\\nplt.show()\\n```\",\n",
       "   'role': 'assistant'}],\n",
       " 'formatted_text': \"```python\\nimport matplotlib.pyplot as plt\\nimport numpy as np\\n\\n# Create a more complex dataset\\nx = np.linspace(0, 10, 200)\\ny1 = np.sin(x)  # Original sine wave\\ny2 = np.cos(x)  # Additional cosine wave\\n\\n# Create a new figure with a larger size for better visibility\\nplt.figure(figsize=(10, 6))\\n\\n# Plot the sine wave with enhanced styling\\nplt.plot(x, y1, label='Sine Wave', color='royalblue', linewidth=2, linestyle='-', marker='o', markersize=5, markerfacecolor='orange')\\n\\n# Plot the cosine wave with a contrasting style\\nplt.plot(x, y2, label='Cosine Wave', color='tomato', linewidth=2, linestyle='--', marker='s', markersize=5, markerfacecolor='yellow')\\n\\n# Enhance the chart with titles and labels\\nplt.title('Trigonometric Functions: Sine and Cosine', fontsize=16, fontweight='bold')\\nplt.xlabel('Angle (radians)', fontsize=12)\\nplt.ylabel('Function Value', fontsize=12)\\n\\n# Add a grid for better readability\\nplt.grid(True, which='both', linestyle='--', linewidth=0.5)\\n\\n# Add a legend with a shadow for better distinction\\nplt.legend(loc='upper right', fontsize=12, shadow=True)\\n\\n# Customize x and y axis ticks\\nplt.xticks(np.arange(0, 11, 1))\\nplt.yticks(np.arange(-1, 1.5, 0.5))\\n\\n# Optimize layout to prevent clipping of elements\\nplt.tight_layout()\\n\\n# Show the enhanced plot\\nplt.show()\\n```\",\n",
       " 'gpt_prompt': 'Generate a matplotlib script that captures the essence of the picture, setting the size with figsize=(10, 6).',\n",
       " 'type': 'chart'}"
      ]
     },
     "execution_count": 5,
     "metadata": {},
     "output_type": "execute_result"
    }
   ],
   "source": [
    "chart_origin[0]"
   ]
  },
  {
   "cell_type": "code",
   "execution_count": 13,
   "metadata": {},
   "outputs": [],
   "source": [
    "for item in chart_origin:\n",
    "    try:\n",
    "    \n",
    "        item[\"revised_text\"]\n",
    "    except Exception as e:\n",
    "        print(item.keys())\n",
    "        break"
   ]
  },
  {
   "cell_type": "code",
   "execution_count": 15,
   "metadata": {},
   "outputs": [
    {
     "data": {
      "text/plain": [
       "{'index': 0,\n",
       " 'code_extract': \"import matplotlib.pyplot as plt\\n\\n# Data\\nquarters = ['Q1', 'Q2', 'Q3', 'Q4']\\nrevenue_2022 = [150, 200, 250, 300]\\nrevenue_2023 = [180, 230, 290, 350]\\n\\n# Create the plot\\nplt.figure(figsize=(10, 6))\\nplt.plot(quarters, revenue_2022, 'b-o', label='2022 Revenue')\\nplt.plot(quarters, revenue_2023, 'g--s', label='2023 Revenue')\\n\\n# Highlight the highest revenue point\\nplt.annotate('Highest Revenue', xy=('Q4', 350), xytext=('Q4', 360),\\n             arrowprops=dict(facecolor='black', shrink=0.05))\\n\\n# Labels and title\\nplt.xlabel('Quarter')\\nplt.ylabel('Revenue (in millions)')\\nplt.title('Quarterly Revenue Comparison: 2022 vs 2023', fontweight='bold')\\n\\n# Legend\\nplt.legend()\\n\\n# Grid\\nplt.grid(True)\\n\\n# Show plot\\nplt.show()\",\n",
       " 'generate_raw': \"To reproduce the graph using Matplotlib with the specified dimensions, you can use the following code:\\n\\n```python\\nimport matplotlib.pyplot as plt\\n\\n# Data\\nquarters = ['Q1', 'Q2', 'Q3', 'Q4']\\nrevenue_2022 = [150, 200, 250, 300]\\nrevenue_2023 = [180, 230, 290, 350]\\n\\n# Create the plot\\nplt.figure(figsize=(10, 6))\\nplt.plot(quarters, revenue_2022, 'b-o', label='2022 Revenue')\\nplt.plot(quarters, revenue_2023, 'g--s', label='2023 Revenue')\\n\\n# Highlight the highest revenue point\\nplt.annotate('Highest Revenue', xy=('Q4', 350), xytext=('Q4', 360),\\n             arrowprops=dict(facecolor='black', shrink=0.05))\\n\\n# Labels and title\\nplt.xlabel('Quarter')\\nplt.ylabel('Revenue (in millions)')\\nplt.title('Quarterly Revenue Comparison: 2022 vs 2023', fontweight='bold')\\n\\n# Legend\\nplt.legend()\\n\\n# Grid\\nplt.grid(True)\\n\\n# Show plot\\nplt.show()\\n```\\n\\nThis code sets up the plot with the specified dimensions, plots the data for 2022 and 2023, adds the annotation for the highest revenue point in Q4 2023, and includes labels, title, and a legend.\",\n",
       " 'stop_reason': 'stop',\n",
       " 'model': 'gpt4o',\n",
       " 'evol_text': \"import matplotlib.pyplot as plt\\nimport numpy as np\\n\\n# Create data for the demonstration: quarterly revenue over a year\\nquarters = np.array([1, 2, 3, 4])\\nrevenue_2022 = np.array([150, 200, 250, 300])  # Revenue in millions for 2022\\nrevenue_2023 = np.array([180, 230, 280, 350])  # Revenue in millions for 2023\\n\\n# Create a new figure with a larger size for better presentation\\nfig, ax = plt.subplots(figsize=(10, 6))\\n\\n# Plot the data with enhanced line styles and markers\\nax.plot(quarters, revenue_2022, marker='o', linestyle='-', color='b', linewidth=2, label='2022 Revenue')\\nax.plot(quarters, revenue_2023, marker='s', linestyle='--', color='g', linewidth=2, label='2023 Revenue')\\n\\n# Set axis labels with more descriptive text\\nax.set_xlabel('Quarter', fontsize=12)\\nax.set_ylabel('Revenue (in millions)', fontsize=12)\\n\\n# Add a title with increased font size for emphasis\\nax.set_title('Quarterly Revenue Comparison: 2022 vs 2023', fontsize=14, fontweight='bold')\\n\\n# Add grid lines for improved readability\\nax.grid(True, which='both', linestyle='--', linewidth=0.5)\\n\\n# Customize the x-axis ticks to show quarter names\\nax.set_xticks(quarters)\\nax.set_xticklabels(['Q1', 'Q2', 'Q3', 'Q4'])\\n\\n# Add a legend with a shadow effect for better distinction\\nax.legend(loc='upper left', shadow=True, fontsize=10)\\n\\n# Annotate a significant point for emphasis\\nmax_revenue_2023 = max(revenue_2023)\\nmax_quarter_2023 = quarters[revenue_2023.argmax()]\\nax.annotate('Highest Revenue', xy=(max_quarter_2023, max_revenue_2023),\\n            xytext=(max_quarter_2023 + 0.1, max_revenue_2023 - 20),\\n            arrowprops=dict(facecolor='black', shrink=0.05),\\n            fontsize=10, ha='center')\\n\\n# Tight layout for better spacing\\nplt.tight_layout()\\n\\n# Show the plot\\nplt.show()\",\n",
       " 'gpt_evol_answer': \"To create an optimized and visually appealing line chart using Matplotlib, we'll enhance the original script by adding stylistic improvements, more informative data, and additional chart elements such as a title, gridlines, and annotations. Here's an improved version of the code:\\n\\n```python\\nimport matplotlib.pyplot as plt\\nimport numpy as np\\n\\n# Create data for the demonstration: quarterly revenue over a year\\nquarters = np.array([1, 2, 3, 4])\\nrevenue_2022 = np.array([150, 200, 250, 300])  # Revenue in millions for 2022\\nrevenue_2023 = np.array([180, 230, 280, 350])  # Revenue in millions for 2023\\n\\n# Create a new figure with a larger size for better presentation\\nfig, ax = plt.subplots(figsize=(10, 6))\\n\\n# Plot the data with enhanced line styles and markers\\nax.plot(quarters, revenue_2022, marker='o', linestyle='-', color='b', linewidth=2, label='2022 Revenue')\\nax.plot(quarters, revenue_2023, marker='s', linestyle='--', color='g', linewidth=2, label='2023 Revenue')\\n\\n# Set axis labels with more descriptive text\\nax.set_xlabel('Quarter', fontsize=12)\\nax.set_ylabel('Revenue (in millions)', fontsize=12)\\n\\n# Add a title with increased font size for emphasis\\nax.set_title('Quarterly Revenue Comparison: 2022 vs 2023', fontsize=14, fontweight='bold')\\n\\n# Add grid lines for improved readability\\nax.grid(True, which='both', linestyle='--', linewidth=0.5)\\n\\n# Customize the x-axis ticks to show quarter names\\nax.set_xticks(quarters)\\nax.set_xticklabels(['Q1', 'Q2', 'Q3', 'Q4'])\\n\\n# Add a legend with a shadow effect for better distinction\\nax.legend(loc='upper left', shadow=True, fontsize=10)\\n\\n# Annotate a significant point for emphasis\\nmax_revenue_2023 = max(revenue_2023)\\nmax_quarter_2023 = quarters[revenue_2023.argmax()]\\nax.annotate('Highest Revenue', xy=(max_quarter_2023, max_revenue_2023),\\n            xytext=(max_quarter_2023 + 0.1, max_revenue_2023 - 20),\\n            arrowprops=dict(facecolor='black', shrink=0.05),\\n            fontsize=10, ha='center')\\n\\n# Tight layout for better spacing\\nplt.tight_layout()\\n\\n# Show the plot\\nplt.show()\\n```\\n\\n### Key Enhancements:\\n1. **Data Context**: The data now represents a realistic scenario: quarterly revenues over two years, making the chart more engaging and informative.\\n2. **Stylistic Improvements**:\\n   - Different line styles (`-` for 2022 and `--` for 2023) and markers (`o` for 2022 and `s` for 2023) differentiate the datasets.\\n   - The use of color and line width enhances visual clarity.\\n3. **Annotations**: An annotation highlights the highest revenue point in 2023, providing additional insight.\\n4. **Gridlines**: Adding gridlines improves readability.\\n5. **Legend and Title**: Enhanced legend with shadow for better visualization and a bold title for emphasis.\\n6. **Axis Labels and Ticks**: Descriptive axis labels and custom x-tick labels improve the chart's clarity and presentation.\",\n",
       " 'revised_text': \"import matplotlib.pyplot as plt  \\nimport numpy as np  \\n\\n# Sample data  \\nx = np.linspace(0, 1, 100)  \\ny = x**2  \\n\\n# Create a new figure  \\nfig = plt.figure(figsize=(6.0, 4.0))  \\n\\n# Plot the data  \\nplt.plot(x, y, label='y = x^2')  \\n\\n# Set labels  \\nplt.xlabel('X')  \\nplt.ylabel('Y')  \\n\\n# Add a legend  \\nplt.legend()  \\n\\n# Show the plot  \\nplt.show()\",\n",
       " 'category': 'Line',\n",
       " 'chart_size': [10.0, 6.0],\n",
       " 'max_stars_repo_path': 'giggleliu/tba/hgen/multithreading.py',\n",
       " 'max_stars_repo_name': 'Lynn-015/Test_01',\n",
       " 'max_stars_count': 2,\n",
       " 'id': '22978',\n",
       " 'text': \"#!/usr/bin/python\\nfrom numpy import *\\nfrom mpi4py import MPI\\nfrom matplotlib.pyplot import *\\n#MPI setting\\ntry:\\n    COMM=MPI.COMM_WORLD\\n    SIZE=COMM.Get_size()\\n    RANK=COMM.Get_rank()\\nexcept:\\n    COMM=None\\n    SIZE=1\\n    RANK=0\\n\\n__all__=['mpido']\\n\\ndef mpido(func,inputlist,bcastouputmesh=True):\\n    '''\\n    MPI for list input.\\n\\n    func:\\n        The function defined on inputlist.\\n    inputlist:\\n        The input list.\\n    bcastouputmesh:\\n        broadcast output mesh if True.\\n    '''\\n    N=len(inputlist)\\n    ntask=(N-1)/SIZE+1\\n    datas=[]\\n    for i in xrange(N):\\n        if i/ntask==RANK:\\n            datas.append(func(inputlist[i]))\\n    datal=COMM.gather(datas,root=0)\\n    if RANK==0:\\n        datas=[]\\n        for datai in datal:\\n            datas+=datai\\n    #broadcast mesh\\n    if bcastouputmesh:\\n        datas=COMM.bcast(datas,root=0)\\n    return datas\\n\\ndef test_mpido():\\n    x=linspace(0,1,100)\\n    y=mpido(func=lambda x:x**2,inputlist=x)\\n    if RANK==0:\\n        plot(x,y)\\n        show()\\n\\nif __name__=='__main__':\\n    test_mpido()\\n\",\n",
       " 'source': 'v1',\n",
       " 'images': ['/mnt/lingjiejiang/multimodal_code/data/dpo/chart/gpt4o_images1/000001.jpg'],\n",
       " 'prompt': 'Develop a matplotlib code that reproduces the picture, and ensure the dimensions match by using figsize=(10, 6).',\n",
       " 'messages': [{'content': '<image>\\nDevelop a matplotlib code that reproduces the picture, and ensure the dimensions match by using figsize=(10, 6).',\n",
       "   'role': 'user'},\n",
       "  {'content': \"```python\\nimport matplotlib.pyplot as plt\\n\\n# Data\\nquarters = ['Q1', 'Q2', 'Q3', 'Q4']\\nrevenue_2022 = [150, 200, 250, 300]\\nrevenue_2023 = [180, 230, 290, 350]\\n\\n# Create the plot\\nplt.figure(figsize=(10, 6))\\nplt.plot(quarters, revenue_2022, 'b-o', label='2022 Revenue')\\nplt.plot(quarters, revenue_2023, 'g--s', label='2023 Revenue')\\n\\n# Highlight the highest revenue point\\nplt.annotate('Highest Revenue', xy=('Q4', 350), xytext=('Q4', 360),\\n             arrowprops=dict(facecolor='black', shrink=0.05))\\n\\n# Labels and title\\nplt.xlabel('Quarter')\\nplt.ylabel('Revenue (in millions)')\\nplt.title('Quarterly Revenue Comparison: 2022 vs 2023', fontweight='bold')\\n\\n# Legend\\nplt.legend()\\n\\n# Grid\\nplt.grid(True)\\n\\n# Show plot\\nplt.show()\\n```\",\n",
       "   'role': 'assistant'}],\n",
       " 'gpt_prompt': 'Develop a matplotlib code that reproduces the picture, and ensure the dimensions match by using figsize=(10, 6).',\n",
       " 'type': 'chart',\n",
       " 'formatted_text': \"```python\\nimport matplotlib.pyplot as plt\\n\\n# Data\\nquarters = ['Q1', 'Q2', 'Q3', 'Q4']\\nrevenue_2022 = [150, 200, 250, 300]\\nrevenue_2023 = [180, 230, 290, 350]\\n\\n# Create the plot\\nplt.figure(figsize=(10, 6))\\nplt.plot(quarters, revenue_2022, 'b-o', label='2022 Revenue')\\nplt.plot(quarters, revenue_2023, 'g--s', label='2023 Revenue')\\n\\n# Highlight the highest revenue point\\nplt.annotate('Highest Revenue', xy=('Q4', 350), xytext=('Q4', 360),\\n             arrowprops=dict(facecolor='black', shrink=0.05))\\n\\n# Labels and title\\nplt.xlabel('Quarter')\\nplt.ylabel('Revenue (in millions)')\\nplt.title('Quarterly Revenue Comparison: 2022 vs 2023', fontweight='bold')\\n\\n# Legend\\nplt.legend()\\n\\n# Grid\\nplt.grid(True)\\n\\n# Show plot\\nplt.show()\\n```\",\n",
       " 'origin_image': '/mnt/lingjiejiang/multimodal_code/data/chart_data/evol_images1/000009.jpg',\n",
       " 'mimic_image': '/mnt/lingjiejiang/multimodal_code/data/dpo/chart/gpt4o_images1/000001.jpg'}"
      ]
     },
     "execution_count": 15,
     "metadata": {},
     "output_type": "execute_result"
    }
   ],
   "source": [
    "text2image = {item[\"revised_text\"]: item[\"images\"][0] for item in chart_origin}\n",
    "for item in data:\n",
    "    text = item[\"revised_text\"]\n",
    "    item[\"origin_image\"] = text2image[text]\n",
    "    item[\"mimic_image\"] = item[\"images\"][0]\n",
    "data[0]"
   ]
  },
  {
   "cell_type": "code",
   "execution_count": 16,
   "metadata": {},
   "outputs": [],
   "source": [
    "with open(\"/mnt/lingjiejiang/multimodal_code/data/dpo/chart/github_gpt4o_chart_47k_code_img.json\", \"w\") as f:\n",
    "    json.dump(data, f, indent=0)"
   ]
  },
  {
   "cell_type": "code",
   "execution_count": 17,
   "metadata": {},
   "outputs": [
    {
     "data": {
      "text/plain": [
       "46977"
      ]
     },
     "execution_count": 17,
     "metadata": {},
     "output_type": "execute_result"
    }
   ],
   "source": [
    "with open(\"/mnt/lingjiejiang/multimodal_code/data/chart_data/ChartBench/chartbench_images_46k_code_dpo.json\", \"r\") as f:\n",
    "    chartbench_data = json.load(f)\n",
    "len(chartbench_data)"
   ]
  },
  {
   "cell_type": "code",
   "execution_count": 18,
   "metadata": {},
   "outputs": [
    {
     "data": {
      "text/plain": [
       "{'index': 0,\n",
       " 'code_text': \"import matplotlib.pyplot as plt\\n\\n# Sample data to mirror the plot\\nyears_china = [2015, 2016, 2017, 2018, 2019, 2020]\\nunits_china = [800, 700, 600, 500, 400, 300]\\nyears_usa = [2015, 2016, 2017, 2018, 2019, 2020]\\nunits_usa = [300, 400, 500, 600, 700, 800]\\n\\nplt.figure(figsize=(12, 8))\\nplt.plot(years_china, units_china, 'o-', label='China', color='black')\\nplt.plot(years_usa, units_usa, 'o', label='USA', color='white', markeredgecolor='black')\\n\\nplt.title('Global Electric Vehicle Sales')\\nplt.xlabel('Year')\\nplt.ylabel('Thousands of Units Sold (China)')\\nplt.xlim(2015, 2021)\\nplt.ylim(300, 900)\\nplt.legend(loc='best')\\n\\nplt.grid(True, linestyle='-.')\\nplt.show()\",\n",
       " 'raw_response': \"To mirror the given plot using matplotlib, you need to reverse the x-axis and y-axis data points and set the appropriate figure size. Below is an example of how you might write this code block:\\n\\n```python\\nimport matplotlib.pyplot as plt\\n\\n# Sample data to mirror the plot\\nyears_china = [2015, 2016, 2017, 2018, 2019, 2020]\\nunits_china = [800, 700, 600, 500, 400, 300]\\nyears_usa = [2015, 2016, 2017, 2018, 2019, 2020]\\nunits_usa = [300, 400, 500, 600, 700, 800]\\n\\nplt.figure(figsize=(12, 8))\\nplt.plot(years_china, units_china, 'o-', label='China', color='black')\\nplt.plot(years_usa, units_usa, 'o', label='USA', color='white', markeredgecolor='black')\\n\\nplt.title('Global Electric Vehicle Sales')\\nplt.xlabel('Year')\\nplt.ylabel('Thousands of Units Sold (China)')\\nplt.xlim(2015, 2021)\\nplt.ylim(300, 900)\\nplt.legend(loc='best')\\n\\nplt.grid(True, linestyle='-.')\\nplt.show()\\n```\\n\\n### Explanation:\\n- The `years_china` and `units_china` arrays are reversed to mirror the x and y axis, respectively.\\n- The `years_usa` and `units_usa` arrays are also altered to follow the same mirroring pattern.\\n- The `figsize` is set to `(12, 8)` to match the dimensions mentioned in the question.\\n- The plot style is adjusted to reflect the original image, including line style, marker style, and grid lines.\",\n",
       " 'stop_reason': 'stop',\n",
       " 'model': 'gpt4o',\n",
       " 'image_path': '/mnt/lingjiejiang/multimodal_code/data/chart_data/ChartBench/data/train/combination/line_line/chart_1667/image.png',\n",
       " 'category': 'combination',\n",
       " 'image_type': 'line_line',\n",
       " 'prompt': 'Formulate a matplotlib code block that mirrors the image, and set the dimensions using figsize=(12, 8).',\n",
       " 'images': ['/mnt/lingjiejiang/multimodal_code/data/chart_data/ChartBench/data/train/combination/line_line/chart_1667/image.png'],\n",
       " 'chart_size': [12.0, 8.0],\n",
       " 'formatted_text': \"```python\\nimport matplotlib.pyplot as plt\\n\\n# Sample data to mirror the plot\\nyears_china = [2015, 2016, 2017, 2018, 2019, 2020]\\nunits_china = [800, 700, 600, 500, 400, 300]\\nyears_usa = [2015, 2016, 2017, 2018, 2019, 2020]\\nunits_usa = [300, 400, 500, 600, 700, 800]\\n\\nplt.figure(figsize=(12, 8))\\nplt.plot(years_china, units_china, 'o-', label='China', color='black')\\nplt.plot(years_usa, units_usa, 'o', label='USA', color='white', markeredgecolor='black')\\n\\nplt.title('Global Electric Vehicle Sales')\\nplt.xlabel('Year')\\nplt.ylabel('Thousands of Units Sold (China)')\\nplt.xlim(2015, 2021)\\nplt.ylim(300, 900)\\nplt.legend(loc='best')\\n\\nplt.grid(True, linestyle='-.')\\nplt.show()\\n```\",\n",
       " 'messages': [{'content': '<image>\\nFormulate a matplotlib code block that mirrors the image, and set the dimensions using figsize=(12, 8).',\n",
       "   'role': 'user'},\n",
       "  {'content': \"```python\\nimport matplotlib.pyplot as plt\\n\\n# Sample data to mirror the plot\\nyears_china = [2015, 2016, 2017, 2018, 2019, 2020]\\nunits_china = [800, 700, 600, 500, 400, 300]\\nyears_usa = [2015, 2016, 2017, 2018, 2019, 2020]\\nunits_usa = [300, 400, 500, 600, 700, 800]\\n\\nplt.figure(figsize=(12, 8))\\nplt.plot(years_china, units_china, 'o-', label='China', color='black')\\nplt.plot(years_usa, units_usa, 'o', label='USA', color='white', markeredgecolor='black')\\n\\nplt.title('Global Electric Vehicle Sales')\\nplt.xlabel('Year')\\nplt.ylabel('Thousands of Units Sold (China)')\\nplt.xlim(2015, 2021)\\nplt.ylim(300, 900)\\nplt.legend(loc='best')\\n\\nplt.grid(True, linestyle='-.')\\nplt.show()\\n```\",\n",
       "   'role': 'assistant'}],\n",
       " 'gpt_prompt': '<image>\\nFormulate a matplotlib code block that mirrors the image, and set the dimensions using figsize=(12, 8).',\n",
       " 'gpt4o_image': '/mnt/lingjiejiang/multimodal_code/data/chart_data/ChartBench/chart_bench_4o_img/mimic_images1/000002.jpg'}"
      ]
     },
     "execution_count": 18,
     "metadata": {},
     "output_type": "execute_result"
    }
   ],
   "source": [
    "chartbench_data[0]"
   ]
  },
  {
   "cell_type": "code",
   "execution_count": 19,
   "metadata": {},
   "outputs": [
    {
     "data": {
      "text/plain": [
       "{'index': 0,\n",
       " 'code_text': \"import matplotlib.pyplot as plt\\n\\n# Sample data to mirror the plot\\nyears_china = [2015, 2016, 2017, 2018, 2019, 2020]\\nunits_china = [800, 700, 600, 500, 400, 300]\\nyears_usa = [2015, 2016, 2017, 2018, 2019, 2020]\\nunits_usa = [300, 400, 500, 600, 700, 800]\\n\\nplt.figure(figsize=(12, 8))\\nplt.plot(years_china, units_china, 'o-', label='China', color='black')\\nplt.plot(years_usa, units_usa, 'o', label='USA', color='white', markeredgecolor='black')\\n\\nplt.title('Global Electric Vehicle Sales')\\nplt.xlabel('Year')\\nplt.ylabel('Thousands of Units Sold (China)')\\nplt.xlim(2015, 2021)\\nplt.ylim(300, 900)\\nplt.legend(loc='best')\\n\\nplt.grid(True, linestyle='-.')\\nplt.show()\",\n",
       " 'raw_response': \"To mirror the given plot using matplotlib, you need to reverse the x-axis and y-axis data points and set the appropriate figure size. Below is an example of how you might write this code block:\\n\\n```python\\nimport matplotlib.pyplot as plt\\n\\n# Sample data to mirror the plot\\nyears_china = [2015, 2016, 2017, 2018, 2019, 2020]\\nunits_china = [800, 700, 600, 500, 400, 300]\\nyears_usa = [2015, 2016, 2017, 2018, 2019, 2020]\\nunits_usa = [300, 400, 500, 600, 700, 800]\\n\\nplt.figure(figsize=(12, 8))\\nplt.plot(years_china, units_china, 'o-', label='China', color='black')\\nplt.plot(years_usa, units_usa, 'o', label='USA', color='white', markeredgecolor='black')\\n\\nplt.title('Global Electric Vehicle Sales')\\nplt.xlabel('Year')\\nplt.ylabel('Thousands of Units Sold (China)')\\nplt.xlim(2015, 2021)\\nplt.ylim(300, 900)\\nplt.legend(loc='best')\\n\\nplt.grid(True, linestyle='-.')\\nplt.show()\\n```\\n\\n### Explanation:\\n- The `years_china` and `units_china` arrays are reversed to mirror the x and y axis, respectively.\\n- The `years_usa` and `units_usa` arrays are also altered to follow the same mirroring pattern.\\n- The `figsize` is set to `(12, 8)` to match the dimensions mentioned in the question.\\n- The plot style is adjusted to reflect the original image, including line style, marker style, and grid lines.\",\n",
       " 'stop_reason': 'stop',\n",
       " 'model': 'gpt4o',\n",
       " 'image_path': '/mnt/lingjiejiang/multimodal_code/data/chart_data/ChartBench/data/train/combination/line_line/chart_1667/image.png',\n",
       " 'category': 'combination',\n",
       " 'image_type': 'line_line',\n",
       " 'prompt': 'Formulate a matplotlib code block that mirrors the image, and set the dimensions using figsize=(12, 8).',\n",
       " 'images': ['/mnt/lingjiejiang/multimodal_code/data/chart_data/ChartBench/data/train/combination/line_line/chart_1667/image.png'],\n",
       " 'chart_size': [12.0, 8.0],\n",
       " 'formatted_text': \"```python\\nimport matplotlib.pyplot as plt\\n\\n# Sample data to mirror the plot\\nyears_china = [2015, 2016, 2017, 2018, 2019, 2020]\\nunits_china = [800, 700, 600, 500, 400, 300]\\nyears_usa = [2015, 2016, 2017, 2018, 2019, 2020]\\nunits_usa = [300, 400, 500, 600, 700, 800]\\n\\nplt.figure(figsize=(12, 8))\\nplt.plot(years_china, units_china, 'o-', label='China', color='black')\\nplt.plot(years_usa, units_usa, 'o', label='USA', color='white', markeredgecolor='black')\\n\\nplt.title('Global Electric Vehicle Sales')\\nplt.xlabel('Year')\\nplt.ylabel('Thousands of Units Sold (China)')\\nplt.xlim(2015, 2021)\\nplt.ylim(300, 900)\\nplt.legend(loc='best')\\n\\nplt.grid(True, linestyle='-.')\\nplt.show()\\n```\",\n",
       " 'messages': [{'content': '<image>\\nFormulate a matplotlib code block that mirrors the image, and set the dimensions using figsize=(12, 8).',\n",
       "   'role': 'user'},\n",
       "  {'content': \"```python\\nimport matplotlib.pyplot as plt\\n\\n# Sample data to mirror the plot\\nyears_china = [2015, 2016, 2017, 2018, 2019, 2020]\\nunits_china = [800, 700, 600, 500, 400, 300]\\nyears_usa = [2015, 2016, 2017, 2018, 2019, 2020]\\nunits_usa = [300, 400, 500, 600, 700, 800]\\n\\nplt.figure(figsize=(12, 8))\\nplt.plot(years_china, units_china, 'o-', label='China', color='black')\\nplt.plot(years_usa, units_usa, 'o', label='USA', color='white', markeredgecolor='black')\\n\\nplt.title('Global Electric Vehicle Sales')\\nplt.xlabel('Year')\\nplt.ylabel('Thousands of Units Sold (China)')\\nplt.xlim(2015, 2021)\\nplt.ylim(300, 900)\\nplt.legend(loc='best')\\n\\nplt.grid(True, linestyle='-.')\\nplt.show()\\n```\",\n",
       "   'role': 'assistant'}],\n",
       " 'gpt_prompt': '<image>\\nFormulate a matplotlib code block that mirrors the image, and set the dimensions using figsize=(12, 8).',\n",
       " 'gpt4o_image': '/mnt/lingjiejiang/multimodal_code/data/chart_data/ChartBench/chart_bench_4o_img/mimic_images1/000002.jpg',\n",
       " 'origin_image': '/mnt/lingjiejiang/multimodal_code/data/chart_data/ChartBench/data/train/combination/line_line/chart_1667/image.png',\n",
       " 'mimic_image': '/mnt/lingjiejiang/multimodal_code/data/chart_data/ChartBench/chart_bench_4o_img/mimic_images1/000002.jpg'}"
      ]
     },
     "execution_count": 19,
     "metadata": {},
     "output_type": "execute_result"
    }
   ],
   "source": [
    "for item in chartbench_data:\n",
    "    item[\"origin_image\"] = item[\"image_path\"]\n",
    "    item[\"mimic_image\"] = item[\"gpt4o_image\"]\n",
    "chartbench_data[0]"
   ]
  },
  {
   "cell_type": "code",
   "execution_count": 20,
   "metadata": {},
   "outputs": [
    {
     "data": {
      "text/plain": [
       "47996"
      ]
     },
     "execution_count": 20,
     "metadata": {},
     "output_type": "execute_result"
    }
   ],
   "source": [
    "len(data)"
   ]
  },
  {
   "cell_type": "code",
   "execution_count": 21,
   "metadata": {},
   "outputs": [
    {
     "data": {
      "text/plain": [
       "94973"
      ]
     },
     "execution_count": 21,
     "metadata": {},
     "output_type": "execute_result"
    }
   ],
   "source": [
    "chart_data = chartbench_data + data\n",
    "len(chart_data)"
   ]
  },
  {
   "cell_type": "code",
   "execution_count": 22,
   "metadata": {},
   "outputs": [],
   "source": [
    "with open(\"/mnt/lingjiejiang/multimodal_code/data/chart_data/ChartBench/chart46k_evol_47k_images_46k_code_dpo_94k.json\", \"w\") as f:\n",
    "    json.dump(chart_data, f, indent=0)"
   ]
  },
  {
   "cell_type": "code",
   "execution_count": 23,
   "metadata": {},
   "outputs": [],
   "source": [
    "import json  \n",
    "  \n",
    "# 读取原始JSON文件  \n",
    "with open('/mnt/lingjiejiang/multimodal_code/data/chart_data/ChartBench/chart46k_evol_47k_images_46k_code_dpo_94k.json', 'r') as f:  \n",
    "    data = json.load(f)  \n",
    "  \n",
    "# 计算每份数据的大小  \n",
    "total_length = len(data)  \n",
    "split_size = total_length // 3  \n",
    "  \n",
    "# 分割数据  \n",
    "data_split_1 = data[:split_size]  \n",
    "data_split_2 = data[split_size:2*split_size]  \n",
    "data_split_3 = data[2*split_size:]  \n",
    "  \n",
    "# 确保最后一个分割包含所有剩余项  \n",
    "data_split_3.extend(data[2*split_size:])  \n",
    "  \n",
    "# 写入新的JSON文件  \n",
    "with open('/mnt/lingjiejiang/multimodal_code/data/chart_data/ChartBench/chart46k_evol_47k_images_46k_code_dpo_94k_split_1.json', 'w') as f1:  \n",
    "    json.dump(data_split_1, f1, ensure_ascii=False, indent=4)  \n",
    "  \n",
    "with open('/mnt/lingjiejiang/multimodal_code/data/chart_data/ChartBench/chart46k_evol_47k_images_46k_code_dpo_94k_split_2.json', 'w') as f2:  \n",
    "    json.dump(data_split_2, f2, ensure_ascii=False, indent=4)  \n",
    "  \n",
    "with open('/mnt/lingjiejiang/multimodal_code/data/chart_data/ChartBench/chart46k_evol_47k_images_46k_code_dpo_94k_split_3.json', 'w') as f3:  \n",
    "    json.dump(data_split_3, f3, ensure_ascii=False, indent=4)  "
   ]
  }
 ],
 "metadata": {
  "kernelspec": {
   "display_name": "chartmimic",
   "language": "python",
   "name": "python3"
  },
  "language_info": {
   "codemirror_mode": {
    "name": "ipython",
    "version": 3
   },
   "file_extension": ".py",
   "mimetype": "text/x-python",
   "name": "python",
   "nbconvert_exporter": "python",
   "pygments_lexer": "ipython3",
   "version": "3.9.0"
  }
 },
 "nbformat": 4,
 "nbformat_minor": 2
}
