{
 "cells": [
  {
   "cell_type": "code",
   "execution_count": 2,
   "metadata": {},
   "outputs": [],
   "source": [
    "import json\n",
    "data_path1 = f\"/mnt/lingjiejiang/multimodal_code/data/dpo/html/web100k.json\"\n",
    "data_path2 = \"/mnt/lingjiejiang/multimodal_code/data/dpo/chart/chart50k.json\"\n",
    "with open(data_path1, \"r\") as f:\n",
    "    data1 = json.load(f)\n",
    "with open(data_path2, \"r\") as f:\n",
    "    data2 = json.load(f)\n"
   ]
  },
  {
   "cell_type": "code",
   "execution_count": 5,
   "metadata": {},
   "outputs": [],
   "source": [
    "merged_data = data1 + data2\n",
    "with open(\"/mnt/lingjiejiang/multimodal_code/data/dpo/merged_html_chart_150k.json\", \"w\") as f:\n",
    "    json.dump(merged_data, f)"
   ]
  },
  {
   "cell_type": "code",
   "execution_count": 6,
   "metadata": {},
   "outputs": [
    {
     "data": {
      "text/plain": [
       "150476"
      ]
     },
     "execution_count": 6,
     "metadata": {},
     "output_type": "execute_result"
    }
   ],
   "source": [
    "with open(\"/mnt/lingjiejiang/multimodal_code/data/dpo/merged_html_chart_150k.json\", \"r\") as f:\n",
    "    merged_data = json.load(f)\n",
    "len(merged_data)"
   ]
  },
  {
   "cell_type": "markdown",
   "metadata": {},
   "source": [
    "### generated data"
   ]
  },
  {
   "cell_type": "code",
   "execution_count": 4,
   "metadata": {},
   "outputs": [
    {
     "data": {
      "text/plain": [
       "(50000, 50000)"
      ]
     },
     "execution_count": 4,
     "metadata": {},
     "output_type": "execute_result"
    }
   ],
   "source": [
    "html_path1 = \"/mnt/lingjiejiang/multimodal_code/data/dpo/html/generate1/final_output.json\"\n",
    "html_path2 = \"/mnt/lingjiejiang/multimodal_code/data/dpo/html/generate2/final_output.json\"\n",
    "\n",
    "with open(html_path1, \"r\") as f:\n",
    "    html_data1 = json.load(f)\n",
    "with open(html_path2, \"r\") as f:\n",
    "    html_data2 = json.load(f)\n",
    "len(html_data1), len(html_data2)"
   ]
  },
  {
   "cell_type": "code",
   "execution_count": 5,
   "metadata": {},
   "outputs": [
    {
     "data": {
      "text/plain": [
       "100000"
      ]
     },
     "execution_count": 5,
     "metadata": {},
     "output_type": "execute_result"
    }
   ],
   "source": [
    "html_data = html_data1 + html_data2\n",
    "len(html_data)"
   ]
  },
  {
   "cell_type": "code",
   "execution_count": 12,
   "metadata": {},
   "outputs": [
    {
     "data": {
      "text/plain": [
       "92847"
      ]
     },
     "execution_count": 12,
     "metadata": {},
     "output_type": "execute_result"
    }
   ],
   "source": [
    "def filter_data(data):\n",
    "    new_data = []\n",
    "    for d in data:\n",
    "        if d[\"stop_reason\"] == \"stop\" and d[\"generate_raw\"] != \"\":\n",
    "            new_data.append(d)\n",
    "    return new_data\n",
    "notempty_html_data = filter_data(html_data)\n",
    "len(notempty_html_data)"
   ]
  },
  {
   "cell_type": "code",
   "execution_count": 13,
   "metadata": {},
   "outputs": [
    {
     "data": {
      "text/plain": [
       "92755"
      ]
     },
     "execution_count": 13,
     "metadata": {},
     "output_type": "execute_result"
    }
   ],
   "source": [
    "def filter_data(data):\n",
    "    new_data = []\n",
    "    for d in data:\n",
    "        if d[\"stop_reason\"] == \"stop\" and d[\"generate_raw\"] != \"\" and d[\"code_extract\"] != \"\":\n",
    "            new_data.append(d)\n",
    "    return new_data\n",
    "notempty_html_data = filter_data(html_data)\n",
    "len(notempty_html_data)"
   ]
  },
  {
   "cell_type": "code",
   "execution_count": 34,
   "metadata": {},
   "outputs": [
    {
     "data": {
      "text/plain": [
       "92755"
      ]
     },
     "execution_count": 34,
     "metadata": {},
     "output_type": "execute_result"
    }
   ],
   "source": [
    "len(notempty_html_data)"
   ]
  },
  {
   "cell_type": "code",
   "execution_count": 39,
   "metadata": {},
   "outputs": [],
   "source": [
    "with open(\"/mnt/lingjiejiang/multimodal_code/data/dpo/html/gpt4o_html_filtered_92k.json\", \"w\") as f:\n",
    "    json.dump(notempty_html_data, f)"
   ]
  },
  {
   "cell_type": "code",
   "execution_count": null,
   "metadata": {},
   "outputs": [
    {
     "data": {
      "text/plain": [
       "{'index': 3,\n",
       " 'code_extract': '<!DOCTYPE html>\\n<html lang=\"en\">\\n<head>\\n    <meta charset=\"UTF-8\">\\n    <meta name=\"viewport\" content=\"width=device-width, initial-scale=1.0\">\\n    <title>Map of Popular Destinations</title>\\n    <style>\\n        body {\\n            margin: 0;\\n            padding: 0;\\n            background-color: #eaeaea;\\n            font-family: Arial, sans-serif;\\n        }\\n\\n        .header {\\n            background-color: red;\\n            color: white;\\n            text-align: center;\\n            padding: 20px;\\n            position: relative;\\n        }\\n\\n        .header img {\\n            position: absolute;\\n            left: 50%;\\n            transform: translateX(-50%);\\n            top: 50%;\\n            width: 20px;\\n            height: 20px;\\n            margin-top: -10px;\\n            margin-left: -70px; /* Adjust based on text width */\\n        }\\n\\n        .content {\\n            display: flex;\\n            justify-content: center;\\n            align-items: center;\\n            margin-top: 50px;\\n        }\\n\\n        .destination {\\n            background-color: blue;\\n            color: white;\\n            width: 300px;\\n            padding: 20px;\\n            margin: 0 10px;\\n            text-align: center;\\n            box-sizing: border-box;\\n        }\\n\\n        .destination h2 {\\n            margin-top: 0;\\n        }\\n\\n        .destination p {\\n            margin: 10px 0 0 0;\\n            color: lightgray;\\n        }\\n    </style>\\n</head>\\n<body>\\n    <div class=\"header\">\\n        <img src=\"rick.jpg\" alt=\"Map Icon\">\\n        Map of Popular Destinations\\n    </div>\\n    <div class=\"content\">\\n        <div class=\"destination\">\\n            <h2>New York</h2>\\n            <p>Experience the vibrant culture and rich history of New York City.</p>\\n        </div>\\n        <div class=\"destination\">\\n            <h2>Paris</h2>\\n            <p>Relax and enjoy the romance of the Eiffel Tower while discovering Parisian charm.</p>\\n        </div>\\n    </div>\\n</body>\\n</html>',\n",
       " 'generate_raw': '```html\\n<!DOCTYPE html>\\n<html lang=\"en\">\\n<head>\\n    <meta charset=\"UTF-8\">\\n    <meta name=\"viewport\" content=\"width=device-width, initial-scale=1.0\">\\n    <title>Map of Popular Destinations</title>\\n    <style>\\n        body {\\n            margin: 0;\\n            padding: 0;\\n            background-color: #eaeaea;\\n            font-family: Arial, sans-serif;\\n        }\\n\\n        .header {\\n            background-color: red;\\n            color: white;\\n            text-align: center;\\n            padding: 20px;\\n            position: relative;\\n        }\\n\\n        .header img {\\n            position: absolute;\\n            left: 50%;\\n            transform: translateX(-50%);\\n            top: 50%;\\n            width: 20px;\\n            height: 20px;\\n            margin-top: -10px;\\n            margin-left: -70px; /* Adjust based on text width */\\n        }\\n\\n        .content {\\n            display: flex;\\n            justify-content: center;\\n            align-items: center;\\n            margin-top: 50px;\\n        }\\n\\n        .destination {\\n            background-color: blue;\\n            color: white;\\n            width: 300px;\\n            padding: 20px;\\n            margin: 0 10px;\\n            text-align: center;\\n            box-sizing: border-box;\\n        }\\n\\n        .destination h2 {\\n            margin-top: 0;\\n        }\\n\\n        .destination p {\\n            margin: 10px 0 0 0;\\n            color: lightgray;\\n        }\\n    </style>\\n</head>\\n<body>\\n    <div class=\"header\">\\n        <img src=\"rick.jpg\" alt=\"Map Icon\">\\n        Map of Popular Destinations\\n    </div>\\n    <div class=\"content\">\\n        <div class=\"destination\">\\n            <h2>New York</h2>\\n            <p>Experience the vibrant culture and rich history of New York City.</p>\\n        </div>\\n        <div class=\"destination\">\\n            <h2>Paris</h2>\\n            <p>Relax and enjoy the romance of the Eiffel Tower while discovering Parisian charm.</p>\\n        </div>\\n    </div>\\n</body>\\n</html>\\n```',\n",
       " 'stop_reason': 'stop',\n",
       " 'model': 'gpt4o',\n",
       " 'id': '10372_11',\n",
       " 'messages': [{'content': '<image>\\nRecreate the website design from the image using HTML and CSS code. Generate code that compliments the architecture of material design.',\n",
       "   'role': 'user'},\n",
       "  {'content': '```html\\n<!DOCTYPE html>\\n<html lang=\"en\">\\n<head>\\n    <meta charset=\"UTF-8\">\\n    <meta name=\"viewport\" content=\"width=device-width, initial-scale=1.0\">\\n    <title>Popular Destinations</title>\\n    <style>\\n        body {\\n            margin: 0;\\n            font-family: Arial, sans-serif;\\n            background-color: #f5f5f5;\\n            color: #333;\\n        }\\n        .container {\\n            width: 100%;\\n            max-width: 1200px;\\n            margin: 0 auto;\\n            text-align: center;\\n        }\\n        .map-section {\\n            background-color: red;\\n            padding: 20px;\\n            margin-bottom: 20px;\\n        }\\n        .map-section img {\\n            width: 20px;\\n            vertical-align: middle;\\n        }\\n        .map-section h2 {\\n            display: inline;\\n            color: white;\\n            font-size: 24px;\\n            margin-left: 10px;\\n        }\\n        .destinations {\\n            display: flex;\\n            justify-content: space-around;\\n            padding: 20px;\\n        }\\n        .destination {\\n            background-color: blue;\\n            width: 45%;\\n            padding: 20px;\\n            box-sizing: border-box;\\n            color: white;\\n        }\\n        .destination img {\\n            width: 20px;\\n            vertical-align: middle;\\n        }\\n        .destination h3 {\\n            margin-top: 0;\\n            font-size: 20px;\\n        }\\n        .destination p {\\n            color: #333;\\n            font-size: 16px;\\n            margin-top: 10px;\\n        }\\n    </style>\\n</head>\\n<body>\\n    <div class=\"container\">\\n        <div class=\"map-section\">\\n            <img src=\"rick.jpg\" alt=\"Map Icon\">\\n            <h2>Map of Popular Destinations</h2>\\n        </div>\\n        <div class=\"destinations\">\\n            <div class=\"destination\">\\n                <img src=\"rick.jpg\" alt=\"New York Icon\">\\n                <h3>New York</h3>\\n                <p>Experience the vibrant culture and rich history of New York City.</p>\\n            </div>\\n            <div class=\"destination\">\\n                <img src=\"rick.jpg\" alt=\"Paris Icon\">\\n                <h3>Paris</h3>\\n                <p>Relax and enjoy the romance of the Eiffel Tower while discovering Parisian charm.</p>\\n            </div>\\n        </div>\\n    </div>\\n</body>\\n</html>\\n```',\n",
       "   'role': 'assistant'}],\n",
       " 'images': ['/mnt/lingjiejiang/multimodal_code/data/Web2code_gpt4o/WebSight_images_new/image_10372_11.png'],\n",
       " 'revised_html': '<!DOCTYPE html>\\n<html lang=\"en\">\\n<head>\\n    <meta charset=\"UTF-8\">\\n    <meta name=\"viewport\" content=\"width=device-width, initial-scale=1.0\">\\n    <title>Popular Destinations</title>\\n    <style>\\n        body {\\n            margin: 0;\\n            font-family: Arial, sans-serif;\\n            background-color: #f5f5f5;\\n            color: #333;\\n        }\\n        .container {\\n            width: 100%;\\n            max-width: 1200px;\\n            margin: 0 auto;\\n            text-align: center;\\n        }\\n        .map-section {\\n            background-color: red;\\n            padding: 20px;\\n            margin-bottom: 20px;\\n        }\\n        .map-section img {\\n            width: 20px;\\n            vertical-align: middle;\\n        }\\n        .map-section h2 {\\n            display: inline;\\n            color: white;\\n            font-size: 24px;\\n            margin-left: 10px;\\n        }\\n        .destinations {\\n            display: flex;\\n            justify-content: space-around;\\n            padding: 20px;\\n        }\\n        .destination {\\n            background-color: blue;\\n            width: 45%;\\n            padding: 20px;\\n            box-sizing: border-box;\\n            color: white;\\n        }\\n        .destination img {\\n            width: 20px;\\n            vertical-align: middle;\\n        }\\n        .destination h3 {\\n            margin-top: 0;\\n            font-size: 20px;\\n        }\\n        .destination p {\\n            color: #333;\\n            font-size: 16px;\\n            margin-top: 10px;\\n        }\\n    </style>\\n</head>\\n<body>\\n    <div class=\"container\">\\n        <div class=\"map-section\">\\n            <img src=\"rick.jpg\" alt=\"Map Icon\">\\n            <h2>Map of Popular Destinations</h2>\\n        </div>\\n        <div class=\"destinations\">\\n            <div class=\"destination\">\\n                <img src=\"rick.jpg\" alt=\"New York Icon\">\\n                <h3>New York</h3>\\n                <p>Experience the vibrant culture and rich history of New York City.</p>\\n            </div>\\n            <div class=\"destination\">\\n                <img src=\"rick.jpg\" alt=\"Paris Icon\">\\n                <h3>Paris</h3>\\n                <p>Relax and enjoy the romance of the Eiffel Tower while discovering Parisian charm.</p>\\n            </div>\\n        </div>\\n    </div>\\n</body>\\n</html>',\n",
       " 'original_html': '<html>\\n<style>\\nbody {\\n    margin: 0;\\n    padding: 0;\\n    font-family: Arial, sans-serif;\\n}\\n\\n#map_centerpiece {\\n    width: 100%;\\n    height: 50vh;\\n    display: flex;\\n    justify-content: center;\\n    align-items: center;\\n    background-color: #F5F5F5;\\n}\\n\\n/* To replace the image with a colored placeholder */\\n#map_centerpiece img {\\n    background-color: #FF0000;\\n    width: 80%;\\n    height: 80%;\\n}\\n\\n#destinations {\\n    display: flex;\\n    flex-wrap: wrap;\\n    justify-content: center;\\n    margin: 20px 0;\\n}\\n\\n.destination {\\n    width: 30%;\\n    margin: 10px;\\n    text-align: center;\\n}\\n\\n/* To replace the image with a colored placeholder */\\n.destination img {\\n    background-color: #0000FF;\\n    width: 100%;\\n    height: 50vh;\\n    margin-bottom: 10px;\\n}\\n</style>\\n<body>\\n    <div id=\"map_centerpiece\">\\n        <img src=\"map.jpg\" alt=\"Map of Popular Destinations\">\\n    </div>\\n    <div id=\"destinations\">\\n        <div class=\"destination\">\\n            <img src=\"new_york.jpg\" alt=\"New York\">\\n            <h2>New York</h2>\\n            <p>Experience the vibrant culture and rich history of New York City.</p>\\n        </div>\\n        <div class=\"destination\">\\n            <img src=\"paris.jpg\" alt=\"Paris\">\\n            <h2>Paris</h2>\\n            <p>Relax and enjoy the romance of the Eiffel Tower while discovering Parisian charm.</p>\\n        </div>\\n       <!-- and so on for other popular destinations -->\\n    </div>\\n</body>\\n</html>',\n",
       " 'gpt_answer': '```html\\n<!DOCTYPE html>\\n<html lang=\"en\">\\n<head>\\n    <meta charset=\"UTF-8\">\\n    <meta name=\"viewport\" content=\"width=device-width, initial-scale=1.0\">\\n    <title>Popular Destinations</title>\\n    <style>\\n        body {\\n            margin: 0;\\n            font-family: Arial, sans-serif;\\n            background-color: #f5f5f5;\\n            color: #333;\\n        }\\n        .container {\\n            width: 100%;\\n            max-width: 1200px;\\n            margin: 0 auto;\\n            text-align: center;\\n        }\\n        .map-section {\\n            background-color: red;\\n            padding: 20px;\\n            margin-bottom: 20px;\\n        }\\n        .map-section img {\\n            width: 20px;\\n            vertical-align: middle;\\n        }\\n        .map-section h2 {\\n            display: inline;\\n            color: white;\\n            font-size: 24px;\\n            margin-left: 10px;\\n        }\\n        .destinations {\\n            display: flex;\\n            justify-content: space-around;\\n            padding: 20px;\\n        }\\n        .destination {\\n            background-color: blue;\\n            width: 45%;\\n            padding: 20px;\\n            box-sizing: border-box;\\n            color: white;\\n        }\\n        .destination img {\\n            width: 20px;\\n            vertical-align: middle;\\n        }\\n        .destination h3 {\\n            margin-top: 0;\\n            font-size: 20px;\\n        }\\n        .destination p {\\n            color: #333;\\n            font-size: 16px;\\n            margin-top: 10px;\\n        }\\n    </style>\\n</head>\\n<body>\\n    <div class=\"container\">\\n        <div class=\"map-section\">\\n            <img src=\"rick.jpg\" alt=\"Map Icon\">\\n            <h2>Map of Popular Destinations</h2>\\n        </div>\\n        <div class=\"destinations\">\\n            <div class=\"destination\">\\n                <img src=\"rick.jpg\" alt=\"New York Icon\">\\n                <h3>New York</h3>\\n                <p>Experience the vibrant culture and rich history of New York City.</p>\\n            </div>\\n            <div class=\"destination\">\\n                <img src=\"rick.jpg\" alt=\"Paris Icon\">\\n                <h3>Paris</h3>\\n                <p>Relax and enjoy the romance of the Eiffel Tower while discovering Parisian charm.</p>\\n            </div>\\n        </div>\\n    </div>\\n</body>\\n</html>\\n```\\n\\nThis HTML and CSS code creates a simple webpage with a map section and two destination sections styled similarly to the provided image. The layout is designed to fit within a single screen without scrolling, and all styles are included within the HTML file.',\n",
       " 'new_img': '/mnt/lingjiejiang/multimodal_code/data/dpo/html/images/WebSight_images_new/image_10372_11.png',\n",
       " 'formatted_html': '```html\\n<!DOCTYPE html>\\n<html lang=\"en\">\\n<head>\\n    <meta charset=\"UTF-8\">\\n    <meta name=\"viewport\" content=\"width=device-width, initial-scale=1.0\">\\n    <title>Popular Destinations</title>\\n    <style>\\n        body {\\n            margin: 0;\\n            font-family: Arial, sans-serif;\\n            background-color: #f5f5f5;\\n            color: #333;\\n        }\\n        .container {\\n            width: 100%;\\n            max-width: 1200px;\\n            margin: 0 auto;\\n            text-align: center;\\n        }\\n        .map-section {\\n            background-color: red;\\n            padding: 20px;\\n            margin-bottom: 20px;\\n        }\\n        .map-section img {\\n            width: 20px;\\n            vertical-align: middle;\\n        }\\n        .map-section h2 {\\n            display: inline;\\n            color: white;\\n            font-size: 24px;\\n            margin-left: 10px;\\n        }\\n        .destinations {\\n            display: flex;\\n            justify-content: space-around;\\n            padding: 20px;\\n        }\\n        .destination {\\n            background-color: blue;\\n            width: 45%;\\n            padding: 20px;\\n            box-sizing: border-box;\\n            color: white;\\n        }\\n        .destination img {\\n            width: 20px;\\n            vertical-align: middle;\\n        }\\n        .destination h3 {\\n            margin-top: 0;\\n            font-size: 20px;\\n        }\\n        .destination p {\\n            color: #333;\\n            font-size: 16px;\\n            margin-top: 10px;\\n        }\\n    </style>\\n</head>\\n<body>\\n    <div class=\"container\">\\n        <div class=\"map-section\">\\n            <img src=\"rick.jpg\" alt=\"Map Icon\">\\n            <h2>Map of Popular Destinations</h2>\\n        </div>\\n        <div class=\"destinations\">\\n            <div class=\"destination\">\\n                <img src=\"rick.jpg\" alt=\"New York Icon\">\\n                <h3>New York</h3>\\n                <p>Experience the vibrant culture and rich history of New York City.</p>\\n            </div>\\n            <div class=\"destination\">\\n                <img src=\"rick.jpg\" alt=\"Paris Icon\">\\n                <h3>Paris</h3>\\n                <p>Relax and enjoy the romance of the Eiffel Tower while discovering Parisian charm.</p>\\n            </div>\\n        </div>\\n    </div>\\n</body>\\n</html>\\n```',\n",
       " 'source': 'gpt4orevised',\n",
       " 'design_prompt': 'You are an expert web developer who specializes in HTML and CSS.\\nA user will provide you with a screenshot of a webpage.\\nYou need to return a single html file that uses HTML and CSS to reproduce the given website.\\nInclude all CSS code in the HTML file itself.\\nIf it involves any images, use \"rick.jpg\" as the placeholder.\\nSome images on the webpage are replaced with a blue rectangle as the placeholder, use \"rick.jpg\" for those as well.\\nDo not hallucinate any dependencies to external files. You do not need to include JavaScript scripts for dynamic interactions.\\nPay attention to things like size, text, position, and color of all the elements, as well as the overall layout.\\nRespond with the content of the HTML+CSS file:\\n',\n",
       " 'gpt_prompt': 'You are an expert web developer who specializes in HTML and CSS.\\nA user will provide you with a screenshot of a webpage.\\nYou need to return a single html file that uses HTML and CSS to reproduce the given website.\\nInclude all CSS code in the HTML file itself.\\nIf it involves any images, use \"rick.jpg\" as the placeholder.\\nSome images on the webpage are replaced with a blue rectangle as the placeholder, use \"rick.jpg\" for those as well.\\nDo not hallucinate any dependencies to external files. You do not need to include JavaScript scripts for dynamic interactions.\\nPay attention to things like size, text, position, and color of all the elements, as well as the overall layout.\\nRespond with the content of the HTML+CSS file:',\n",
       " 'type': 'html'}"
      ]
     },
     "execution_count": 40,
     "metadata": {},
     "output_type": "execute_result"
    }
   ],
   "source": []
  },
  {
   "cell_type": "code",
   "execution_count": 38,
   "metadata": {},
   "outputs": [
    {
     "data": {
      "text/plain": [
       "{'index': 3,\n",
       " 'code_extract': '<!DOCTYPE html>\\n<html lang=\"en\">\\n<head>\\n    <meta charset=\"UTF-8\">\\n    <meta name=\"viewport\" content=\"width=device-width, initial-scale=1.0\">\\n    <title>Map of Popular Destinations</title>\\n    <style>\\n        body {\\n            margin: 0;\\n            padding: 0;\\n            background-color: #eaeaea;\\n            font-family: Arial, sans-serif;\\n        }\\n\\n        .header {\\n            background-color: red;\\n            color: white;\\n            text-align: center;\\n            padding: 20px;\\n            position: relative;\\n        }\\n\\n        .header img {\\n            position: absolute;\\n            left: 50%;\\n            transform: translateX(-50%);\\n            top: 50%;\\n            width: 20px;\\n            height: 20px;\\n            margin-top: -10px;\\n            margin-left: -70px; /* Adjust based on text width */\\n        }\\n\\n        .content {\\n            display: flex;\\n            justify-content: center;\\n            align-items: center;\\n            margin-top: 50px;\\n        }\\n\\n        .destination {\\n            background-color: blue;\\n            color: white;\\n            width: 300px;\\n            padding: 20px;\\n            margin: 0 10px;\\n            text-align: center;\\n            box-sizing: border-box;\\n        }\\n\\n        .destination h2 {\\n            margin-top: 0;\\n        }\\n\\n        .destination p {\\n            margin: 10px 0 0 0;\\n            color: lightgray;\\n        }\\n    </style>\\n</head>\\n<body>\\n    <div class=\"header\">\\n        <img src=\"rick.jpg\" alt=\"Map Icon\">\\n        Map of Popular Destinations\\n    </div>\\n    <div class=\"content\">\\n        <div class=\"destination\">\\n            <h2>New York</h2>\\n            <p>Experience the vibrant culture and rich history of New York City.</p>\\n        </div>\\n        <div class=\"destination\">\\n            <h2>Paris</h2>\\n            <p>Relax and enjoy the romance of the Eiffel Tower while discovering Parisian charm.</p>\\n        </div>\\n    </div>\\n</body>\\n</html>',\n",
       " 'generate_raw': '```html\\n<!DOCTYPE html>\\n<html lang=\"en\">\\n<head>\\n    <meta charset=\"UTF-8\">\\n    <meta name=\"viewport\" content=\"width=device-width, initial-scale=1.0\">\\n    <title>Map of Popular Destinations</title>\\n    <style>\\n        body {\\n            margin: 0;\\n            padding: 0;\\n            background-color: #eaeaea;\\n            font-family: Arial, sans-serif;\\n        }\\n\\n        .header {\\n            background-color: red;\\n            color: white;\\n            text-align: center;\\n            padding: 20px;\\n            position: relative;\\n        }\\n\\n        .header img {\\n            position: absolute;\\n            left: 50%;\\n            transform: translateX(-50%);\\n            top: 50%;\\n            width: 20px;\\n            height: 20px;\\n            margin-top: -10px;\\n            margin-left: -70px; /* Adjust based on text width */\\n        }\\n\\n        .content {\\n            display: flex;\\n            justify-content: center;\\n            align-items: center;\\n            margin-top: 50px;\\n        }\\n\\n        .destination {\\n            background-color: blue;\\n            color: white;\\n            width: 300px;\\n            padding: 20px;\\n            margin: 0 10px;\\n            text-align: center;\\n            box-sizing: border-box;\\n        }\\n\\n        .destination h2 {\\n            margin-top: 0;\\n        }\\n\\n        .destination p {\\n            margin: 10px 0 0 0;\\n            color: lightgray;\\n        }\\n    </style>\\n</head>\\n<body>\\n    <div class=\"header\">\\n        <img src=\"rick.jpg\" alt=\"Map Icon\">\\n        Map of Popular Destinations\\n    </div>\\n    <div class=\"content\">\\n        <div class=\"destination\">\\n            <h2>New York</h2>\\n            <p>Experience the vibrant culture and rich history of New York City.</p>\\n        </div>\\n        <div class=\"destination\">\\n            <h2>Paris</h2>\\n            <p>Relax and enjoy the romance of the Eiffel Tower while discovering Parisian charm.</p>\\n        </div>\\n    </div>\\n</body>\\n</html>\\n```',\n",
       " 'stop_reason': 'stop',\n",
       " 'model': 'gpt4o',\n",
       " 'id': '10372_11',\n",
       " 'messages': [{'content': '<image>\\nRecreate the website design from the image using HTML and CSS code. Generate code that compliments the architecture of material design.',\n",
       "   'role': 'user'},\n",
       "  {'content': '```html\\n<!DOCTYPE html>\\n<html lang=\"en\">\\n<head>\\n    <meta charset=\"UTF-8\">\\n    <meta name=\"viewport\" content=\"width=device-width, initial-scale=1.0\">\\n    <title>Popular Destinations</title>\\n    <style>\\n        body {\\n            margin: 0;\\n            font-family: Arial, sans-serif;\\n            background-color: #f5f5f5;\\n            color: #333;\\n        }\\n        .container {\\n            width: 100%;\\n            max-width: 1200px;\\n            margin: 0 auto;\\n            text-align: center;\\n        }\\n        .map-section {\\n            background-color: red;\\n            padding: 20px;\\n            margin-bottom: 20px;\\n        }\\n        .map-section img {\\n            width: 20px;\\n            vertical-align: middle;\\n        }\\n        .map-section h2 {\\n            display: inline;\\n            color: white;\\n            font-size: 24px;\\n            margin-left: 10px;\\n        }\\n        .destinations {\\n            display: flex;\\n            justify-content: space-around;\\n            padding: 20px;\\n        }\\n        .destination {\\n            background-color: blue;\\n            width: 45%;\\n            padding: 20px;\\n            box-sizing: border-box;\\n            color: white;\\n        }\\n        .destination img {\\n            width: 20px;\\n            vertical-align: middle;\\n        }\\n        .destination h3 {\\n            margin-top: 0;\\n            font-size: 20px;\\n        }\\n        .destination p {\\n            color: #333;\\n            font-size: 16px;\\n            margin-top: 10px;\\n        }\\n    </style>\\n</head>\\n<body>\\n    <div class=\"container\">\\n        <div class=\"map-section\">\\n            <img src=\"rick.jpg\" alt=\"Map Icon\">\\n            <h2>Map of Popular Destinations</h2>\\n        </div>\\n        <div class=\"destinations\">\\n            <div class=\"destination\">\\n                <img src=\"rick.jpg\" alt=\"New York Icon\">\\n                <h3>New York</h3>\\n                <p>Experience the vibrant culture and rich history of New York City.</p>\\n            </div>\\n            <div class=\"destination\">\\n                <img src=\"rick.jpg\" alt=\"Paris Icon\">\\n                <h3>Paris</h3>\\n                <p>Relax and enjoy the romance of the Eiffel Tower while discovering Parisian charm.</p>\\n            </div>\\n        </div>\\n    </div>\\n</body>\\n</html>\\n```',\n",
       "   'role': 'assistant'}],\n",
       " 'images': ['/mnt/lingjiejiang/multimodal_code/data/Web2code_gpt4o/WebSight_images_new/image_10372_11.png'],\n",
       " 'revised_html': '<!DOCTYPE html>\\n<html lang=\"en\">\\n<head>\\n    <meta charset=\"UTF-8\">\\n    <meta name=\"viewport\" content=\"width=device-width, initial-scale=1.0\">\\n    <title>Popular Destinations</title>\\n    <style>\\n        body {\\n            margin: 0;\\n            font-family: Arial, sans-serif;\\n            background-color: #f5f5f5;\\n            color: #333;\\n        }\\n        .container {\\n            width: 100%;\\n            max-width: 1200px;\\n            margin: 0 auto;\\n            text-align: center;\\n        }\\n        .map-section {\\n            background-color: red;\\n            padding: 20px;\\n            margin-bottom: 20px;\\n        }\\n        .map-section img {\\n            width: 20px;\\n            vertical-align: middle;\\n        }\\n        .map-section h2 {\\n            display: inline;\\n            color: white;\\n            font-size: 24px;\\n            margin-left: 10px;\\n        }\\n        .destinations {\\n            display: flex;\\n            justify-content: space-around;\\n            padding: 20px;\\n        }\\n        .destination {\\n            background-color: blue;\\n            width: 45%;\\n            padding: 20px;\\n            box-sizing: border-box;\\n            color: white;\\n        }\\n        .destination img {\\n            width: 20px;\\n            vertical-align: middle;\\n        }\\n        .destination h3 {\\n            margin-top: 0;\\n            font-size: 20px;\\n        }\\n        .destination p {\\n            color: #333;\\n            font-size: 16px;\\n            margin-top: 10px;\\n        }\\n    </style>\\n</head>\\n<body>\\n    <div class=\"container\">\\n        <div class=\"map-section\">\\n            <img src=\"rick.jpg\" alt=\"Map Icon\">\\n            <h2>Map of Popular Destinations</h2>\\n        </div>\\n        <div class=\"destinations\">\\n            <div class=\"destination\">\\n                <img src=\"rick.jpg\" alt=\"New York Icon\">\\n                <h3>New York</h3>\\n                <p>Experience the vibrant culture and rich history of New York City.</p>\\n            </div>\\n            <div class=\"destination\">\\n                <img src=\"rick.jpg\" alt=\"Paris Icon\">\\n                <h3>Paris</h3>\\n                <p>Relax and enjoy the romance of the Eiffel Tower while discovering Parisian charm.</p>\\n            </div>\\n        </div>\\n    </div>\\n</body>\\n</html>',\n",
       " 'original_html': '<html>\\n<style>\\nbody {\\n    margin: 0;\\n    padding: 0;\\n    font-family: Arial, sans-serif;\\n}\\n\\n#map_centerpiece {\\n    width: 100%;\\n    height: 50vh;\\n    display: flex;\\n    justify-content: center;\\n    align-items: center;\\n    background-color: #F5F5F5;\\n}\\n\\n/* To replace the image with a colored placeholder */\\n#map_centerpiece img {\\n    background-color: #FF0000;\\n    width: 80%;\\n    height: 80%;\\n}\\n\\n#destinations {\\n    display: flex;\\n    flex-wrap: wrap;\\n    justify-content: center;\\n    margin: 20px 0;\\n}\\n\\n.destination {\\n    width: 30%;\\n    margin: 10px;\\n    text-align: center;\\n}\\n\\n/* To replace the image with a colored placeholder */\\n.destination img {\\n    background-color: #0000FF;\\n    width: 100%;\\n    height: 50vh;\\n    margin-bottom: 10px;\\n}\\n</style>\\n<body>\\n    <div id=\"map_centerpiece\">\\n        <img src=\"map.jpg\" alt=\"Map of Popular Destinations\">\\n    </div>\\n    <div id=\"destinations\">\\n        <div class=\"destination\">\\n            <img src=\"new_york.jpg\" alt=\"New York\">\\n            <h2>New York</h2>\\n            <p>Experience the vibrant culture and rich history of New York City.</p>\\n        </div>\\n        <div class=\"destination\">\\n            <img src=\"paris.jpg\" alt=\"Paris\">\\n            <h2>Paris</h2>\\n            <p>Relax and enjoy the romance of the Eiffel Tower while discovering Parisian charm.</p>\\n        </div>\\n       <!-- and so on for other popular destinations -->\\n    </div>\\n</body>\\n</html>',\n",
       " 'gpt_answer': '```html\\n<!DOCTYPE html>\\n<html lang=\"en\">\\n<head>\\n    <meta charset=\"UTF-8\">\\n    <meta name=\"viewport\" content=\"width=device-width, initial-scale=1.0\">\\n    <title>Popular Destinations</title>\\n    <style>\\n        body {\\n            margin: 0;\\n            font-family: Arial, sans-serif;\\n            background-color: #f5f5f5;\\n            color: #333;\\n        }\\n        .container {\\n            width: 100%;\\n            max-width: 1200px;\\n            margin: 0 auto;\\n            text-align: center;\\n        }\\n        .map-section {\\n            background-color: red;\\n            padding: 20px;\\n            margin-bottom: 20px;\\n        }\\n        .map-section img {\\n            width: 20px;\\n            vertical-align: middle;\\n        }\\n        .map-section h2 {\\n            display: inline;\\n            color: white;\\n            font-size: 24px;\\n            margin-left: 10px;\\n        }\\n        .destinations {\\n            display: flex;\\n            justify-content: space-around;\\n            padding: 20px;\\n        }\\n        .destination {\\n            background-color: blue;\\n            width: 45%;\\n            padding: 20px;\\n            box-sizing: border-box;\\n            color: white;\\n        }\\n        .destination img {\\n            width: 20px;\\n            vertical-align: middle;\\n        }\\n        .destination h3 {\\n            margin-top: 0;\\n            font-size: 20px;\\n        }\\n        .destination p {\\n            color: #333;\\n            font-size: 16px;\\n            margin-top: 10px;\\n        }\\n    </style>\\n</head>\\n<body>\\n    <div class=\"container\">\\n        <div class=\"map-section\">\\n            <img src=\"rick.jpg\" alt=\"Map Icon\">\\n            <h2>Map of Popular Destinations</h2>\\n        </div>\\n        <div class=\"destinations\">\\n            <div class=\"destination\">\\n                <img src=\"rick.jpg\" alt=\"New York Icon\">\\n                <h3>New York</h3>\\n                <p>Experience the vibrant culture and rich history of New York City.</p>\\n            </div>\\n            <div class=\"destination\">\\n                <img src=\"rick.jpg\" alt=\"Paris Icon\">\\n                <h3>Paris</h3>\\n                <p>Relax and enjoy the romance of the Eiffel Tower while discovering Parisian charm.</p>\\n            </div>\\n        </div>\\n    </div>\\n</body>\\n</html>\\n```\\n\\nThis HTML and CSS code creates a simple webpage with a map section and two destination sections styled similarly to the provided image. The layout is designed to fit within a single screen without scrolling, and all styles are included within the HTML file.',\n",
       " 'new_img': '/mnt/lingjiejiang/multimodal_code/data/dpo/html/images/WebSight_images_new/image_10372_11.png',\n",
       " 'formatted_html': '```html\\n<!DOCTYPE html>\\n<html lang=\"en\">\\n<head>\\n    <meta charset=\"UTF-8\">\\n    <meta name=\"viewport\" content=\"width=device-width, initial-scale=1.0\">\\n    <title>Popular Destinations</title>\\n    <style>\\n        body {\\n            margin: 0;\\n            font-family: Arial, sans-serif;\\n            background-color: #f5f5f5;\\n            color: #333;\\n        }\\n        .container {\\n            width: 100%;\\n            max-width: 1200px;\\n            margin: 0 auto;\\n            text-align: center;\\n        }\\n        .map-section {\\n            background-color: red;\\n            padding: 20px;\\n            margin-bottom: 20px;\\n        }\\n        .map-section img {\\n            width: 20px;\\n            vertical-align: middle;\\n        }\\n        .map-section h2 {\\n            display: inline;\\n            color: white;\\n            font-size: 24px;\\n            margin-left: 10px;\\n        }\\n        .destinations {\\n            display: flex;\\n            justify-content: space-around;\\n            padding: 20px;\\n        }\\n        .destination {\\n            background-color: blue;\\n            width: 45%;\\n            padding: 20px;\\n            box-sizing: border-box;\\n            color: white;\\n        }\\n        .destination img {\\n            width: 20px;\\n            vertical-align: middle;\\n        }\\n        .destination h3 {\\n            margin-top: 0;\\n            font-size: 20px;\\n        }\\n        .destination p {\\n            color: #333;\\n            font-size: 16px;\\n            margin-top: 10px;\\n        }\\n    </style>\\n</head>\\n<body>\\n    <div class=\"container\">\\n        <div class=\"map-section\">\\n            <img src=\"rick.jpg\" alt=\"Map Icon\">\\n            <h2>Map of Popular Destinations</h2>\\n        </div>\\n        <div class=\"destinations\">\\n            <div class=\"destination\">\\n                <img src=\"rick.jpg\" alt=\"New York Icon\">\\n                <h3>New York</h3>\\n                <p>Experience the vibrant culture and rich history of New York City.</p>\\n            </div>\\n            <div class=\"destination\">\\n                <img src=\"rick.jpg\" alt=\"Paris Icon\">\\n                <h3>Paris</h3>\\n                <p>Relax and enjoy the romance of the Eiffel Tower while discovering Parisian charm.</p>\\n            </div>\\n        </div>\\n    </div>\\n</body>\\n</html>\\n```',\n",
       " 'source': 'gpt4orevised',\n",
       " 'design_prompt': 'You are an expert web developer who specializes in HTML and CSS.\\nA user will provide you with a screenshot of a webpage.\\nYou need to return a single html file that uses HTML and CSS to reproduce the given website.\\nInclude all CSS code in the HTML file itself.\\nIf it involves any images, use \"rick.jpg\" as the placeholder.\\nSome images on the webpage are replaced with a blue rectangle as the placeholder, use \"rick.jpg\" for those as well.\\nDo not hallucinate any dependencies to external files. You do not need to include JavaScript scripts for dynamic interactions.\\nPay attention to things like size, text, position, and color of all the elements, as well as the overall layout.\\nRespond with the content of the HTML+CSS file:\\n',\n",
       " 'gpt_prompt': 'You are an expert web developer who specializes in HTML and CSS.\\nA user will provide you with a screenshot of a webpage.\\nYou need to return a single html file that uses HTML and CSS to reproduce the given website.\\nInclude all CSS code in the HTML file itself.\\nIf it involves any images, use \"rick.jpg\" as the placeholder.\\nSome images on the webpage are replaced with a blue rectangle as the placeholder, use \"rick.jpg\" for those as well.\\nDo not hallucinate any dependencies to external files. You do not need to include JavaScript scripts for dynamic interactions.\\nPay attention to things like size, text, position, and color of all the elements, as well as the overall layout.\\nRespond with the content of the HTML+CSS file:',\n",
       " 'type': 'html'}"
      ]
     },
     "execution_count": 38,
     "metadata": {},
     "output_type": "execute_result"
    }
   ],
   "source": [
    "import os\n",
    "notempty_html_data[0]\n",
    "base_dir = \"/mnt/lingjiejiang/multimodal_code/data/Web2code_gpt4o/\"\n",
    "new_path = \"/mnt/lingjiejiang/multimodal_code/data/dpo/html/images/\"\n",
    "for item in notempty_html_data:\n",
    "    img_path = item[\"images\"][0]\n",
    "    item[\"new_img\"] = os.path.join(new_path, os.path.relpath(img_path, base_dir))\n",
    "notempty_html_data[0]"
   ]
  },
  {
   "cell_type": "code",
   "execution_count": 44,
   "metadata": {},
   "outputs": [
    {
     "data": {
      "text/plain": [
       "{'index': 3,\n",
       " 'code_extract': '<!DOCTYPE html>\\n<html lang=\"en\">\\n<head>\\n    <meta charset=\"UTF-8\">\\n    <meta name=\"viewport\" content=\"width=device-width, initial-scale=1.0\">\\n    <title>Map of Popular Destinations</title>\\n    <style>\\n        body {\\n            margin: 0;\\n            padding: 0;\\n            background-color: #eaeaea;\\n            font-family: Arial, sans-serif;\\n        }\\n\\n        .header {\\n            background-color: red;\\n            color: white;\\n            text-align: center;\\n            padding: 20px;\\n            position: relative;\\n        }\\n\\n        .header img {\\n            position: absolute;\\n            left: 50%;\\n            transform: translateX(-50%);\\n            top: 50%;\\n            width: 20px;\\n            height: 20px;\\n            margin-top: -10px;\\n            margin-left: -70px; /* Adjust based on text width */\\n        }\\n\\n        .content {\\n            display: flex;\\n            justify-content: center;\\n            align-items: center;\\n            margin-top: 50px;\\n        }\\n\\n        .destination {\\n            background-color: blue;\\n            color: white;\\n            width: 300px;\\n            padding: 20px;\\n            margin: 0 10px;\\n            text-align: center;\\n            box-sizing: border-box;\\n        }\\n\\n        .destination h2 {\\n            margin-top: 0;\\n        }\\n\\n        .destination p {\\n            margin: 10px 0 0 0;\\n            color: lightgray;\\n        }\\n    </style>\\n</head>\\n<body>\\n    <div class=\"header\">\\n        <img src=\"rick.jpg\" alt=\"Map Icon\">\\n        Map of Popular Destinations\\n    </div>\\n    <div class=\"content\">\\n        <div class=\"destination\">\\n            <h2>New York</h2>\\n            <p>Experience the vibrant culture and rich history of New York City.</p>\\n        </div>\\n        <div class=\"destination\">\\n            <h2>Paris</h2>\\n            <p>Relax and enjoy the romance of the Eiffel Tower while discovering Parisian charm.</p>\\n        </div>\\n    </div>\\n</body>\\n</html>',\n",
       " 'generate_raw': '```html\\n<!DOCTYPE html>\\n<html lang=\"en\">\\n<head>\\n    <meta charset=\"UTF-8\">\\n    <meta name=\"viewport\" content=\"width=device-width, initial-scale=1.0\">\\n    <title>Map of Popular Destinations</title>\\n    <style>\\n        body {\\n            margin: 0;\\n            padding: 0;\\n            background-color: #eaeaea;\\n            font-family: Arial, sans-serif;\\n        }\\n\\n        .header {\\n            background-color: red;\\n            color: white;\\n            text-align: center;\\n            padding: 20px;\\n            position: relative;\\n        }\\n\\n        .header img {\\n            position: absolute;\\n            left: 50%;\\n            transform: translateX(-50%);\\n            top: 50%;\\n            width: 20px;\\n            height: 20px;\\n            margin-top: -10px;\\n            margin-left: -70px; /* Adjust based on text width */\\n        }\\n\\n        .content {\\n            display: flex;\\n            justify-content: center;\\n            align-items: center;\\n            margin-top: 50px;\\n        }\\n\\n        .destination {\\n            background-color: blue;\\n            color: white;\\n            width: 300px;\\n            padding: 20px;\\n            margin: 0 10px;\\n            text-align: center;\\n            box-sizing: border-box;\\n        }\\n\\n        .destination h2 {\\n            margin-top: 0;\\n        }\\n\\n        .destination p {\\n            margin: 10px 0 0 0;\\n            color: lightgray;\\n        }\\n    </style>\\n</head>\\n<body>\\n    <div class=\"header\">\\n        <img src=\"rick.jpg\" alt=\"Map Icon\">\\n        Map of Popular Destinations\\n    </div>\\n    <div class=\"content\">\\n        <div class=\"destination\">\\n            <h2>New York</h2>\\n            <p>Experience the vibrant culture and rich history of New York City.</p>\\n        </div>\\n        <div class=\"destination\">\\n            <h2>Paris</h2>\\n            <p>Relax and enjoy the romance of the Eiffel Tower while discovering Parisian charm.</p>\\n        </div>\\n    </div>\\n</body>\\n</html>\\n```',\n",
       " 'stop_reason': 'stop',\n",
       " 'model': 'gpt4o',\n",
       " 'id': '10372_11',\n",
       " 'messages': [{'content': '<image>\\nRecreate the website design from the image using HTML and CSS code. Generate code that compliments the architecture of material design.',\n",
       "   'role': 'user'},\n",
       "  {'content': '```html\\n<!DOCTYPE html>\\n<html lang=\"en\">\\n<head>\\n    <meta charset=\"UTF-8\">\\n    <meta name=\"viewport\" content=\"width=device-width, initial-scale=1.0\">\\n    <title>Popular Destinations</title>\\n    <style>\\n        body {\\n            margin: 0;\\n            font-family: Arial, sans-serif;\\n            background-color: #f5f5f5;\\n            color: #333;\\n        }\\n        .container {\\n            width: 100%;\\n            max-width: 1200px;\\n            margin: 0 auto;\\n            text-align: center;\\n        }\\n        .map-section {\\n            background-color: red;\\n            padding: 20px;\\n            margin-bottom: 20px;\\n        }\\n        .map-section img {\\n            width: 20px;\\n            vertical-align: middle;\\n        }\\n        .map-section h2 {\\n            display: inline;\\n            color: white;\\n            font-size: 24px;\\n            margin-left: 10px;\\n        }\\n        .destinations {\\n            display: flex;\\n            justify-content: space-around;\\n            padding: 20px;\\n        }\\n        .destination {\\n            background-color: blue;\\n            width: 45%;\\n            padding: 20px;\\n            box-sizing: border-box;\\n            color: white;\\n        }\\n        .destination img {\\n            width: 20px;\\n            vertical-align: middle;\\n        }\\n        .destination h3 {\\n            margin-top: 0;\\n            font-size: 20px;\\n        }\\n        .destination p {\\n            color: #333;\\n            font-size: 16px;\\n            margin-top: 10px;\\n        }\\n    </style>\\n</head>\\n<body>\\n    <div class=\"container\">\\n        <div class=\"map-section\">\\n            <img src=\"rick.jpg\" alt=\"Map Icon\">\\n            <h2>Map of Popular Destinations</h2>\\n        </div>\\n        <div class=\"destinations\">\\n            <div class=\"destination\">\\n                <img src=\"rick.jpg\" alt=\"New York Icon\">\\n                <h3>New York</h3>\\n                <p>Experience the vibrant culture and rich history of New York City.</p>\\n            </div>\\n            <div class=\"destination\">\\n                <img src=\"rick.jpg\" alt=\"Paris Icon\">\\n                <h3>Paris</h3>\\n                <p>Relax and enjoy the romance of the Eiffel Tower while discovering Parisian charm.</p>\\n            </div>\\n        </div>\\n    </div>\\n</body>\\n</html>\\n```',\n",
       "   'role': 'assistant'}],\n",
       " 'images': ['/mnt/lingjiejiang/multimodal_code/data/Web2code_gpt4o/WebSight_images_new/image_10372_11.png'],\n",
       " 'revised_html': '<!DOCTYPE html>\\n<html lang=\"en\">\\n<head>\\n    <meta charset=\"UTF-8\">\\n    <meta name=\"viewport\" content=\"width=device-width, initial-scale=1.0\">\\n    <title>Popular Destinations</title>\\n    <style>\\n        body {\\n            margin: 0;\\n            font-family: Arial, sans-serif;\\n            background-color: #f5f5f5;\\n            color: #333;\\n        }\\n        .container {\\n            width: 100%;\\n            max-width: 1200px;\\n            margin: 0 auto;\\n            text-align: center;\\n        }\\n        .map-section {\\n            background-color: red;\\n            padding: 20px;\\n            margin-bottom: 20px;\\n        }\\n        .map-section img {\\n            width: 20px;\\n            vertical-align: middle;\\n        }\\n        .map-section h2 {\\n            display: inline;\\n            color: white;\\n            font-size: 24px;\\n            margin-left: 10px;\\n        }\\n        .destinations {\\n            display: flex;\\n            justify-content: space-around;\\n            padding: 20px;\\n        }\\n        .destination {\\n            background-color: blue;\\n            width: 45%;\\n            padding: 20px;\\n            box-sizing: border-box;\\n            color: white;\\n        }\\n        .destination img {\\n            width: 20px;\\n            vertical-align: middle;\\n        }\\n        .destination h3 {\\n            margin-top: 0;\\n            font-size: 20px;\\n        }\\n        .destination p {\\n            color: #333;\\n            font-size: 16px;\\n            margin-top: 10px;\\n        }\\n    </style>\\n</head>\\n<body>\\n    <div class=\"container\">\\n        <div class=\"map-section\">\\n            <img src=\"rick.jpg\" alt=\"Map Icon\">\\n            <h2>Map of Popular Destinations</h2>\\n        </div>\\n        <div class=\"destinations\">\\n            <div class=\"destination\">\\n                <img src=\"rick.jpg\" alt=\"New York Icon\">\\n                <h3>New York</h3>\\n                <p>Experience the vibrant culture and rich history of New York City.</p>\\n            </div>\\n            <div class=\"destination\">\\n                <img src=\"rick.jpg\" alt=\"Paris Icon\">\\n                <h3>Paris</h3>\\n                <p>Relax and enjoy the romance of the Eiffel Tower while discovering Parisian charm.</p>\\n            </div>\\n        </div>\\n    </div>\\n</body>\\n</html>',\n",
       " 'original_html': '<html>\\n<style>\\nbody {\\n    margin: 0;\\n    padding: 0;\\n    font-family: Arial, sans-serif;\\n}\\n\\n#map_centerpiece {\\n    width: 100%;\\n    height: 50vh;\\n    display: flex;\\n    justify-content: center;\\n    align-items: center;\\n    background-color: #F5F5F5;\\n}\\n\\n/* To replace the image with a colored placeholder */\\n#map_centerpiece img {\\n    background-color: #FF0000;\\n    width: 80%;\\n    height: 80%;\\n}\\n\\n#destinations {\\n    display: flex;\\n    flex-wrap: wrap;\\n    justify-content: center;\\n    margin: 20px 0;\\n}\\n\\n.destination {\\n    width: 30%;\\n    margin: 10px;\\n    text-align: center;\\n}\\n\\n/* To replace the image with a colored placeholder */\\n.destination img {\\n    background-color: #0000FF;\\n    width: 100%;\\n    height: 50vh;\\n    margin-bottom: 10px;\\n}\\n</style>\\n<body>\\n    <div id=\"map_centerpiece\">\\n        <img src=\"map.jpg\" alt=\"Map of Popular Destinations\">\\n    </div>\\n    <div id=\"destinations\">\\n        <div class=\"destination\">\\n            <img src=\"new_york.jpg\" alt=\"New York\">\\n            <h2>New York</h2>\\n            <p>Experience the vibrant culture and rich history of New York City.</p>\\n        </div>\\n        <div class=\"destination\">\\n            <img src=\"paris.jpg\" alt=\"Paris\">\\n            <h2>Paris</h2>\\n            <p>Relax and enjoy the romance of the Eiffel Tower while discovering Parisian charm.</p>\\n        </div>\\n       <!-- and so on for other popular destinations -->\\n    </div>\\n</body>\\n</html>',\n",
       " 'gpt_answer': '```html\\n<!DOCTYPE html>\\n<html lang=\"en\">\\n<head>\\n    <meta charset=\"UTF-8\">\\n    <meta name=\"viewport\" content=\"width=device-width, initial-scale=1.0\">\\n    <title>Popular Destinations</title>\\n    <style>\\n        body {\\n            margin: 0;\\n            font-family: Arial, sans-serif;\\n            background-color: #f5f5f5;\\n            color: #333;\\n        }\\n        .container {\\n            width: 100%;\\n            max-width: 1200px;\\n            margin: 0 auto;\\n            text-align: center;\\n        }\\n        .map-section {\\n            background-color: red;\\n            padding: 20px;\\n            margin-bottom: 20px;\\n        }\\n        .map-section img {\\n            width: 20px;\\n            vertical-align: middle;\\n        }\\n        .map-section h2 {\\n            display: inline;\\n            color: white;\\n            font-size: 24px;\\n            margin-left: 10px;\\n        }\\n        .destinations {\\n            display: flex;\\n            justify-content: space-around;\\n            padding: 20px;\\n        }\\n        .destination {\\n            background-color: blue;\\n            width: 45%;\\n            padding: 20px;\\n            box-sizing: border-box;\\n            color: white;\\n        }\\n        .destination img {\\n            width: 20px;\\n            vertical-align: middle;\\n        }\\n        .destination h3 {\\n            margin-top: 0;\\n            font-size: 20px;\\n        }\\n        .destination p {\\n            color: #333;\\n            font-size: 16px;\\n            margin-top: 10px;\\n        }\\n    </style>\\n</head>\\n<body>\\n    <div class=\"container\">\\n        <div class=\"map-section\">\\n            <img src=\"rick.jpg\" alt=\"Map Icon\">\\n            <h2>Map of Popular Destinations</h2>\\n        </div>\\n        <div class=\"destinations\">\\n            <div class=\"destination\">\\n                <img src=\"rick.jpg\" alt=\"New York Icon\">\\n                <h3>New York</h3>\\n                <p>Experience the vibrant culture and rich history of New York City.</p>\\n            </div>\\n            <div class=\"destination\">\\n                <img src=\"rick.jpg\" alt=\"Paris Icon\">\\n                <h3>Paris</h3>\\n                <p>Relax and enjoy the romance of the Eiffel Tower while discovering Parisian charm.</p>\\n            </div>\\n        </div>\\n    </div>\\n</body>\\n</html>\\n```\\n\\nThis HTML and CSS code creates a simple webpage with a map section and two destination sections styled similarly to the provided image. The layout is designed to fit within a single screen without scrolling, and all styles are included within the HTML file.',\n",
       " 'new_img': '/mnt/lingjiejiang/multimodal_code/data/dpo/html/images/WebSight_images_new/image_10372_11.png',\n",
       " 'formatted_html': '```html\\n<!DOCTYPE html>\\n<html lang=\"en\">\\n<head>\\n    <meta charset=\"UTF-8\">\\n    <meta name=\"viewport\" content=\"width=device-width, initial-scale=1.0\">\\n    <title>Popular Destinations</title>\\n    <style>\\n        body {\\n            margin: 0;\\n            font-family: Arial, sans-serif;\\n            background-color: #f5f5f5;\\n            color: #333;\\n        }\\n        .container {\\n            width: 100%;\\n            max-width: 1200px;\\n            margin: 0 auto;\\n            text-align: center;\\n        }\\n        .map-section {\\n            background-color: red;\\n            padding: 20px;\\n            margin-bottom: 20px;\\n        }\\n        .map-section img {\\n            width: 20px;\\n            vertical-align: middle;\\n        }\\n        .map-section h2 {\\n            display: inline;\\n            color: white;\\n            font-size: 24px;\\n            margin-left: 10px;\\n        }\\n        .destinations {\\n            display: flex;\\n            justify-content: space-around;\\n            padding: 20px;\\n        }\\n        .destination {\\n            background-color: blue;\\n            width: 45%;\\n            padding: 20px;\\n            box-sizing: border-box;\\n            color: white;\\n        }\\n        .destination img {\\n            width: 20px;\\n            vertical-align: middle;\\n        }\\n        .destination h3 {\\n            margin-top: 0;\\n            font-size: 20px;\\n        }\\n        .destination p {\\n            color: #333;\\n            font-size: 16px;\\n            margin-top: 10px;\\n        }\\n    </style>\\n</head>\\n<body>\\n    <div class=\"container\">\\n        <div class=\"map-section\">\\n            <img src=\"rick.jpg\" alt=\"Map Icon\">\\n            <h2>Map of Popular Destinations</h2>\\n        </div>\\n        <div class=\"destinations\">\\n            <div class=\"destination\">\\n                <img src=\"rick.jpg\" alt=\"New York Icon\">\\n                <h3>New York</h3>\\n                <p>Experience the vibrant culture and rich history of New York City.</p>\\n            </div>\\n            <div class=\"destination\">\\n                <img src=\"rick.jpg\" alt=\"Paris Icon\">\\n                <h3>Paris</h3>\\n                <p>Relax and enjoy the romance of the Eiffel Tower while discovering Parisian charm.</p>\\n            </div>\\n        </div>\\n    </div>\\n</body>\\n</html>\\n```',\n",
       " 'source': 'gpt4orevised',\n",
       " 'design_prompt': 'You are an expert web developer who specializes in HTML and CSS.\\nA user will provide you with a screenshot of a webpage.\\nYou need to return a single html file that uses HTML and CSS to reproduce the given website.\\nInclude all CSS code in the HTML file itself.\\nIf it involves any images, use \"rick.jpg\" as the placeholder.\\nSome images on the webpage are replaced with a blue rectangle as the placeholder, use \"rick.jpg\" for those as well.\\nDo not hallucinate any dependencies to external files. You do not need to include JavaScript scripts for dynamic interactions.\\nPay attention to things like size, text, position, and color of all the elements, as well as the overall layout.\\nRespond with the content of the HTML+CSS file:\\n',\n",
       " 'gpt_prompt': 'You are an expert web developer who specializes in HTML and CSS.\\nA user will provide you with a screenshot of a webpage.\\nYou need to return a single html file that uses HTML and CSS to reproduce the given website.\\nInclude all CSS code in the HTML file itself.\\nIf it involves any images, use \"rick.jpg\" as the placeholder.\\nSome images on the webpage are replaced with a blue rectangle as the placeholder, use \"rick.jpg\" for those as well.\\nDo not hallucinate any dependencies to external files. You do not need to include JavaScript scripts for dynamic interactions.\\nPay attention to things like size, text, position, and color of all the elements, as well as the overall layout.\\nRespond with the content of the HTML+CSS file:',\n",
       " 'type': 'html'}"
      ]
     },
     "execution_count": 44,
     "metadata": {},
     "output_type": "execute_result"
    }
   ],
   "source": [
    "with open(\"/mnt/lingjiejiang/multimodal_code/data/dpo/html/gpt4o_html_filtered_92k.json\", \"r\") as f:\n",
    "    notempty_html_data = json.load(f)\n",
    "notempty_html_data[0]"
   ]
  },
  {
   "cell_type": "code",
   "execution_count": 41,
   "metadata": {},
   "outputs": [
    {
     "name": "stdout",
     "output_type": "stream",
     "text": [
      "数据分割完成，已保存到 3 个 JSON 文件中。\n"
     ]
    }
   ],
   "source": [
    "import json\n",
    "\n",
    "# 读取 JSON 文件\n",
    "input_path = \"/mnt/lingjiejiang/multimodal_code/data/dpo/html/gpt4o_html_filtered_92k.json\"\n",
    "output_paths = [\n",
    "    \"/mnt/lingjiejiang/multimodal_code/data/dpo/html/gpt4o_html_filtered_92k_split1.json\",\n",
    "    \"/mnt/lingjiejiang/multimodal_code/data/dpo/html/gpt4o_html_filtered_92k_split2.json\",\n",
    "    \"/mnt/lingjiejiang/multimodal_code/data/dpo/html/gpt4o_html_filtered_92k_split3.json\"\n",
    "]\n",
    "\n",
    "# 加载数据\n",
    "with open(input_path, \"r\") as f:\n",
    "    notempty_html_data = json.load(f)\n",
    "\n",
    "# 计算每个部分的大小\n",
    "n = len(notempty_html_data)\n",
    "split_size = n // 3\n",
    "\n",
    "# 分割数据\n",
    "split_data = [\n",
    "    notempty_html_data[:split_size],\n",
    "    notempty_html_data[split_size: 2 * split_size],\n",
    "    notempty_html_data[2 * split_size:]\n",
    "]\n",
    "\n",
    "# 保存分割后的数据\n",
    "for i in range(3):\n",
    "    with open(output_paths[i], \"w\") as f:\n",
    "        json.dump(split_data[i], f, indent=4)\n",
    "\n",
    "print(\"数据分割完成，已保存到 3 个 JSON 文件中。\")"
   ]
  },
  {
   "cell_type": "code",
   "execution_count": 42,
   "metadata": {},
   "outputs": [
    {
     "data": {
      "text/plain": [
       "30919"
      ]
     },
     "execution_count": 42,
     "metadata": {},
     "output_type": "execute_result"
    }
   ],
   "source": [
    "with open(\"/mnt/lingjiejiang/multimodal_code/data/dpo/html/gpt4o_html_filtered_92k_split3.json\", \"r\") as f:\n",
    "    data = json.load(f)\n",
    "len(data)"
   ]
  },
  {
   "cell_type": "code",
   "execution_count": 43,
   "metadata": {},
   "outputs": [
    {
     "data": {
      "text/plain": [
       "[{'index': 15822,\n",
       "  'code_extract': '<!DOCTYPE html>\\n<html lang=\"en\">\\n<head>\\n    <meta charset=\"UTF-8\">\\n    <meta name=\"viewport\" content=\"width=device-width, initial-scale=1.0\">\\n    <title>My Simple Website</title>\\n    <style>\\n        body {\\n            font-family: \\'Roboto\\', sans-serif;\\n            margin: 0;\\n            padding: 0;\\n            background-color: #f5f5f5;\\n        }\\n        header {\\n            background-color: #ffffff;\\n            box-shadow: 0 2px 4px rgba(0, 0, 0, 0.1);\\n            padding: 15px;\\n            text-align: center;\\n        }\\n        header h1 {\\n            margin: 0;\\n            font-size: 24px;\\n            font-weight: bold;\\n        }\\n        nav {\\n            margin-top: 10px;\\n        }\\n        nav a {\\n            margin: 0 15px;\\n            text-decoration: none;\\n            color: #333;\\n            font-weight: 500;\\n        }\\n        main {\\n            padding: 20px;\\n            text-align: center;\\n        }\\n        #image {\\n            width: 100%;\\n            height: 200px;\\n            background-color: #e0e0e0;\\n            margin: 20px 0;\\n        }\\n        footer {\\n            background-color: #ffffff;\\n            box-shadow: 0 -2px 4px rgba(0, 0, 0, 0.1);\\n            padding: 10px;\\n            text-align: center;\\n            position: fixed;\\n            width: 100%;\\n            bottom: 0;\\n        }\\n    </style>\\n</head>\\n<body>\\n\\n<header>\\n    <h1><a href=\"#\">My Simple Website</a></h1>\\n    <nav>\\n        <a href=\"#\">Home</a>\\n        <a href=\"#\">About</a>\\n        <a href=\"#\">Contact</a>\\n    </nav>\\n</header>\\n\\n<main>\\n    <p>Welcome to our simple website. Here, we strive to bring you the most minimalistic experience in web browsing. Enjoy your stay.</p>\\n    <div id=\"image\"><!-- Empty div to display image --></div>\\n</main>\\n\\n<footer>\\n    Contact us: info@simplewebsite.com | 123-456-7890\\n</footer>\\n\\n</body>\\n</html>',\n",
       "  'generate_raw': 'To create an HTML layout resembling the given screenshot with principles of Material Design, you can use the following code. This example includes a navigation bar, a main content area, and a footer. Material Design principles include the use of shadows, spacing, and a clean, minimalistic aesthetic.\\n\\n```html\\n<!DOCTYPE html>\\n<html lang=\"en\">\\n<head>\\n    <meta charset=\"UTF-8\">\\n    <meta name=\"viewport\" content=\"width=device-width, initial-scale=1.0\">\\n    <title>My Simple Website</title>\\n    <style>\\n        body {\\n            font-family: \\'Roboto\\', sans-serif;\\n            margin: 0;\\n            padding: 0;\\n            background-color: #f5f5f5;\\n        }\\n        header {\\n            background-color: #ffffff;\\n            box-shadow: 0 2px 4px rgba(0, 0, 0, 0.1);\\n            padding: 15px;\\n            text-align: center;\\n        }\\n        header h1 {\\n            margin: 0;\\n            font-size: 24px;\\n            font-weight: bold;\\n        }\\n        nav {\\n            margin-top: 10px;\\n        }\\n        nav a {\\n            margin: 0 15px;\\n            text-decoration: none;\\n            color: #333;\\n            font-weight: 500;\\n        }\\n        main {\\n            padding: 20px;\\n            text-align: center;\\n        }\\n        #image {\\n            width: 100%;\\n            height: 200px;\\n            background-color: #e0e0e0;\\n            margin: 20px 0;\\n        }\\n        footer {\\n            background-color: #ffffff;\\n            box-shadow: 0 -2px 4px rgba(0, 0, 0, 0.1);\\n            padding: 10px;\\n            text-align: center;\\n            position: fixed;\\n            width: 100%;\\n            bottom: 0;\\n        }\\n    </style>\\n</head>\\n<body>\\n\\n<header>\\n    <h1><a href=\"#\">My Simple Website</a></h1>\\n    <nav>\\n        <a href=\"#\">Home</a>\\n        <a href=\"#\">About</a>\\n        <a href=\"#\">Contact</a>\\n    </nav>\\n</header>\\n\\n<main>\\n    <p>Welcome to our simple website. Here, we strive to bring you the most minimalistic experience in web browsing. Enjoy your stay.</p>\\n    <div id=\"image\"><!-- Empty div to display image --></div>\\n</main>\\n\\n<footer>\\n    Contact us: info@simplewebsite.com | 123-456-7890\\n</footer>\\n\\n</body>\\n</html>\\n```\\n\\n### Explanation:\\n1. **Header**: Contains the website title and a navigation menu. It uses a shadow to create a sense of elevation, typical of Material Design.\\n2. **Main Content**: Includes a welcome message and a placeholder div for an image. The div has a background color to indicate it is an image placeholder.\\n3. **Footer**: Provides contact information and is fixed at the bottom of the page, using a similar shadow effect as the header.\\n4. **Styling**: The use of spacing, shadows, and a neutral color palette adheres to Material Design principles. The Roboto font is often used in Material Design for its clean and modern look. \\n\\nThis structure ensures a responsive, clean, and simple design tailored to the screenshot provided.',\n",
       "  'stop_reason': 'stop',\n",
       "  'model': 'gpt4o',\n",
       "  'id': '4632_4',\n",
       "  'messages': [{'content': '<image>\\nInterpret the layout of the given webpage screenshot and tailor your HTML code to resemble it. Explore code which stands for the principles of material design.',\n",
       "    'role': 'user'},\n",
       "   {'content': '<html>\\n<style>\\n\\U000f0000体\\U000f0000 {\\n  font-family: Arial, sans-serif;\\n  margin: 0;\\n  padding: 0;\\n}\\n#header {\\n  text-align: center;\\n  background-color: #f8f8f8;\\n  padding: 20px;\\n}\\n#header nav a {\\n  margin: 0 10px;\\n}\\n#content {\\n  display: flex;\\n  justify-content: space-around;\\n  padding: 20px 0;\\n}\\n#image {\\n  width: 200px;\\n  height: 200px;\\n  background-color: #ddd;\\n}\\n#footer {\\n  background-color: #f8f8f8;\\n  text-align: center;\\n  padding: 10px;\\n  position: fixed;\\n  bottom: 0;\\n  width: 100%;\\n}\\n</style>\\n<body>\\n    <div id=\"header\">\\n      <h1><\\U000f0000a href=\"#\">My Simple Website\\U000f0000/a></h1>\\n      <nav>\\n        <\\U000f0000a href=\"#\">Home\\U000f0000/a>\\n        <\\U000f0000a href=\"#\">About\\U000f0000/a>\\n        <\\U000f0000a href=\"#\">Contact\\U000f0000/a>\\n      </nav>\\n    </div>\\n    <div id=\"content\">\\n      <p>Welcome to our simple website. Here, we strive to bring you the most minimalistic experience in web browsing. Enjoy your stay.</p>\\n      <\\U000f0000 div id=\"image\"><\\U0010fc00-- Empty div to display image --><\\U00060000/div\\U000f0000>\\n    </div>\\n    <div id=\"footer\">\\n      <p>Contact us: info@simplewebsite.com | 123-456-7890</p>\\n    </div>\\n  </body>\\n</html>',\n",
       "    'role': 'assistant'}],\n",
       "  'images': ['/mnt/lingjiejiang/multimodal_code/data/web2code_new_images/WebSight_images_new/image_4632_4.png'],\n",
       "  'source': 'web2codenoimg',\n",
       "  'gpt_prompt': 'Interpret the layout of the given webpage screenshot and tailor your HTML code to resemble it. Explore code which stands for the principles of material design.',\n",
       "  'type': 'html',\n",
       "  'new_img': '/mnt/lingjiejiang/multimodal_code/data/dpo/html/images/../web2code_new_images/WebSight_images_new/image_4632_4.png'},\n",
       " {'index': 15827,\n",
       "  'code_extract': '<!DOCTYPE html>\\n<html lang=\"en\">\\n<head>\\n    <meta charset=\"UTF-8\">\\n    <meta name=\"viewport\" content=\"width=device-width, initial-scale=1.0\">\\n    <title>Company Page</title>\\n    <style>\\n        body, html {\\n            margin: 0;\\n            padding: 0;\\n            font-family: \\'Roboto\\', sans-serif;\\n        }\\n        .header {\\n            background-color: #b3d9e9;\\n            display: flex;\\n            justify-content: center;\\n            align-items: center;\\n            height: 300px;\\n            color: white;\\n            font-size: 2em;\\n        }\\n        .navbar {\\n            display: flex;\\n            justify-content: center;\\n            background-color: white;\\n            padding: 10px 0;\\n            box-shadow: 0 2px 4px rgba(0, 0, 0, 0.1);\\n        }\\n        .navbar a {\\n            margin: 0 15px;\\n            text-decoration: none;\\n            color: #212121;\\n            font-weight: 500;\\n        }\\n        .navbar a:hover {\\n            color: #00796b;\\n        }\\n    </style>\\n</head>\\n<body>\\n    <div class=\"header\">\\n        Company Logo\\n    </div>\\n    <div class=\"navbar\">\\n        <a href=\"#skincare\">Skincare</a>\\n        <a href=\"#makeup\">Makeup</a>\\n        <a href=\"#hair-products\">Hair Products</a>\\n    </div>\\n</body>\\n</html>',\n",
       "  'generate_raw': 'Below is an HTML script that follows the principles of material design to mirror the layout in the image you provided. This script includes a basic structure with styling for the company logo and a navigation bar.\\n\\n```html\\n<!DOCTYPE html>\\n<html lang=\"en\">\\n<head>\\n    <meta charset=\"UTF-8\">\\n    <meta name=\"viewport\" content=\"width=device-width, initial-scale=1.0\">\\n    <title>Company Page</title>\\n    <style>\\n        body, html {\\n            margin: 0;\\n            padding: 0;\\n            font-family: \\'Roboto\\', sans-serif;\\n        }\\n        .header {\\n            background-color: #b3d9e9;\\n            display: flex;\\n            justify-content: center;\\n            align-items: center;\\n            height: 300px;\\n            color: white;\\n            font-size: 2em;\\n        }\\n        .navbar {\\n            display: flex;\\n            justify-content: center;\\n            background-color: white;\\n            padding: 10px 0;\\n            box-shadow: 0 2px 4px rgba(0, 0, 0, 0.1);\\n        }\\n        .navbar a {\\n            margin: 0 15px;\\n            text-decoration: none;\\n            color: #212121;\\n            font-weight: 500;\\n        }\\n        .navbar a:hover {\\n            color: #00796b;\\n        }\\n    </style>\\n</head>\\n<body>\\n    <div class=\"header\">\\n        Company Logo\\n    </div>\\n    <div class=\"navbar\">\\n        <a href=\"#skincare\">Skincare</a>\\n        <a href=\"#makeup\">Makeup</a>\\n        <a href=\"#hair-products\">Hair Products</a>\\n    </div>\\n</body>\\n</html>\\n```\\n\\n### Explanation:\\n\\n- **Header Section**: The header section is styled with a light blue background (`#b3d9e9`) and centered text using Flexbox to represent the \"Company Logo\" area. The height is set to `300px` to create a large banner area.\\n\\n- **Navigation Bar**: The navigation bar is created using Flexbox to center the links horizontally. It has a white background with a shadow to give a floating effect, consistent with material design principles. Links are styled with a hover effect for interactivity.\\n\\n- **Styling**: The styles are kept minimal and clean, adhering to material design\\'s focus on clean, bold colors, and simple, intuitive layouts.',\n",
       "  'stop_reason': 'stop',\n",
       "  'model': 'gpt4o',\n",
       "  'id': '2200_11',\n",
       "  'messages': [{'content': '<image>\\nObserving the layout and design in the image, fashion the HTML script. Arrange the code abiding by the principles of material design.',\n",
       "    'role': 'user'},\n",
       "   {'content': '<html>\\n<style>\\nbody {\\n    margin: 0;\\n    padding: 0;\\n    display: flex;\\n    flex-direction: column;\\n    align-items: center;\\n}\\n\\n/* Hero styles */\\n#hero {\\n    width: 100%;\\n    height: 500px;\\n    display: flex;\\n    justify-content: center;\\n    align-items: center;\\n    background-color: lightblue;\\n}\\n\\n#logo {\\n    font-size: 48px;\\n    color: white;\\n}\\n\\n/* Categories styles */\\n#categories {\\n    margin-top: 50px;\\n    display: flex;\\n    gap: 20px;\\n}\\n\\n#categories a {\\n    text-decoration: none;\\n    color: black;\\n    font-size: 24px;\\n}\\n</style>\\n<body>\\n    <div id=\"hero\">\\n        <div id=\"logo\">Company Logo</div>\\n    </div>\\n    <div id=\"categories\">\\n        <a href=\"skincare.html\">Skincare</a>\\n        <a href=\"makeup.html\">Makeup</a>\\n        <a href=\"hair.html\">Hair products</a>\\n    </div>\\n</body>\\n</html>',\n",
       "    'role': 'assistant'}],\n",
       "  'images': ['/mnt/lingjiejiang/multimodal_code/data/web2code_new_images/WebSight_images_new/image_2200_11.png'],\n",
       "  'source': 'web2codenoimg',\n",
       "  'gpt_prompt': 'Observing the layout and design in the image, fashion the HTML script. Arrange the code abiding by the principles of material design.',\n",
       "  'type': 'html',\n",
       "  'new_img': '/mnt/lingjiejiang/multimodal_code/data/dpo/html/images/../web2code_new_images/WebSight_images_new/image_2200_11.png'}]"
      ]
     },
     "execution_count": 43,
     "metadata": {},
     "output_type": "execute_result"
    }
   ],
   "source": [
    "data[:2]"
   ]
  },
  {
   "cell_type": "markdown",
   "metadata": {},
   "source": [
    "## chart path1"
   ]
  },
  {
   "cell_type": "code",
   "execution_count": 16,
   "metadata": {},
   "outputs": [
    {
     "data": {
      "text/plain": [
       "2476"
      ]
     },
     "execution_count": 16,
     "metadata": {},
     "output_type": "execute_result"
    }
   ],
   "source": [
    "chatr_path1 = \"/mnt/lingjiejiang/multimodal_code/data/dpo/chart/generate1/intermediate_batch_49.json\"\n",
    "with open(chatr_path1, \"r\") as f:\n",
    "    chart_data1 = json.load(f)\n",
    "len(chart_data1)\n",
    "chatr_path2 = \"/mnt/lingjiejiang/multimodal_code/data/dpo/chart/generate1_supply/final_output.json\"\n",
    "with open(chatr_path2, \"r\") as f:\n",
    "    chart_data2 = json.load(f)\n",
    "len(chart_data2)"
   ]
  },
  {
   "cell_type": "code",
   "execution_count": 18,
   "metadata": {},
   "outputs": [
    {
     "data": {
      "text/plain": [
       "[{'index': 8,\n",
       "  'code_extract': \"import matplotlib.pyplot as plt\\n\\n# Data\\nquarters = ['Q1', 'Q2', 'Q3', 'Q4']\\nrevenue_2022 = [150, 200, 250, 300]\\nrevenue_2023 = [180, 230, 290, 350]\\n\\n# Create the plot\\nplt.figure(figsize=(10, 6))\\nplt.plot(quarters, revenue_2022, 'b-o', label='2022 Revenue')\\nplt.plot(quarters, revenue_2023, 'g--s', label='2023 Revenue')\\n\\n# Highlight the highest revenue point\\nplt.annotate('Highest Revenue', xy=('Q4', 350), xytext=('Q4', 360),\\n             arrowprops=dict(facecolor='black', shrink=0.05))\\n\\n# Labels and title\\nplt.xlabel('Quarter')\\nplt.ylabel('Revenue (in millions)')\\nplt.title('Quarterly Revenue Comparison: 2022 vs 2023', fontweight='bold')\\n\\n# Legend\\nplt.legend()\\n\\n# Grid\\nplt.grid(True)\\n\\n# Show plot\\nplt.show()\",\n",
       "  'generate_raw': \"To reproduce the graph using Matplotlib with the specified dimensions, you can use the following code:\\n\\n```python\\nimport matplotlib.pyplot as plt\\n\\n# Data\\nquarters = ['Q1', 'Q2', 'Q3', 'Q4']\\nrevenue_2022 = [150, 200, 250, 300]\\nrevenue_2023 = [180, 230, 290, 350]\\n\\n# Create the plot\\nplt.figure(figsize=(10, 6))\\nplt.plot(quarters, revenue_2022, 'b-o', label='2022 Revenue')\\nplt.plot(quarters, revenue_2023, 'g--s', label='2023 Revenue')\\n\\n# Highlight the highest revenue point\\nplt.annotate('Highest Revenue', xy=('Q4', 350), xytext=('Q4', 360),\\n             arrowprops=dict(facecolor='black', shrink=0.05))\\n\\n# Labels and title\\nplt.xlabel('Quarter')\\nplt.ylabel('Revenue (in millions)')\\nplt.title('Quarterly Revenue Comparison: 2022 vs 2023', fontweight='bold')\\n\\n# Legend\\nplt.legend()\\n\\n# Grid\\nplt.grid(True)\\n\\n# Show plot\\nplt.show()\\n```\\n\\nThis code sets up the plot with the specified dimensions, plots the data for 2022 and 2023, adds the annotation for the highest revenue point in Q4 2023, and includes labels, title, and a legend.\",\n",
       "  'stop_reason': 'stop',\n",
       "  'model': 'gpt4o',\n",
       "  'evol_text': \"import matplotlib.pyplot as plt\\nimport numpy as np\\n\\n# Create data for the demonstration: quarterly revenue over a year\\nquarters = np.array([1, 2, 3, 4])\\nrevenue_2022 = np.array([150, 200, 250, 300])  # Revenue in millions for 2022\\nrevenue_2023 = np.array([180, 230, 280, 350])  # Revenue in millions for 2023\\n\\n# Create a new figure with a larger size for better presentation\\nfig, ax = plt.subplots(figsize=(10, 6))\\n\\n# Plot the data with enhanced line styles and markers\\nax.plot(quarters, revenue_2022, marker='o', linestyle='-', color='b', linewidth=2, label='2022 Revenue')\\nax.plot(quarters, revenue_2023, marker='s', linestyle='--', color='g', linewidth=2, label='2023 Revenue')\\n\\n# Set axis labels with more descriptive text\\nax.set_xlabel('Quarter', fontsize=12)\\nax.set_ylabel('Revenue (in millions)', fontsize=12)\\n\\n# Add a title with increased font size for emphasis\\nax.set_title('Quarterly Revenue Comparison: 2022 vs 2023', fontsize=14, fontweight='bold')\\n\\n# Add grid lines for improved readability\\nax.grid(True, which='both', linestyle='--', linewidth=0.5)\\n\\n# Customize the x-axis ticks to show quarter names\\nax.set_xticks(quarters)\\nax.set_xticklabels(['Q1', 'Q2', 'Q3', 'Q4'])\\n\\n# Add a legend with a shadow effect for better distinction\\nax.legend(loc='upper left', shadow=True, fontsize=10)\\n\\n# Annotate a significant point for emphasis\\nmax_revenue_2023 = max(revenue_2023)\\nmax_quarter_2023 = quarters[revenue_2023.argmax()]\\nax.annotate('Highest Revenue', xy=(max_quarter_2023, max_revenue_2023),\\n            xytext=(max_quarter_2023 + 0.1, max_revenue_2023 - 20),\\n            arrowprops=dict(facecolor='black', shrink=0.05),\\n            fontsize=10, ha='center')\\n\\n# Tight layout for better spacing\\nplt.tight_layout()\\n\\n# Show the plot\\nplt.show()\",\n",
       "  'gpt_evol_answer': \"To create an optimized and visually appealing line chart using Matplotlib, we'll enhance the original script by adding stylistic improvements, more informative data, and additional chart elements such as a title, gridlines, and annotations. Here's an improved version of the code:\\n\\n```python\\nimport matplotlib.pyplot as plt\\nimport numpy as np\\n\\n# Create data for the demonstration: quarterly revenue over a year\\nquarters = np.array([1, 2, 3, 4])\\nrevenue_2022 = np.array([150, 200, 250, 300])  # Revenue in millions for 2022\\nrevenue_2023 = np.array([180, 230, 280, 350])  # Revenue in millions for 2023\\n\\n# Create a new figure with a larger size for better presentation\\nfig, ax = plt.subplots(figsize=(10, 6))\\n\\n# Plot the data with enhanced line styles and markers\\nax.plot(quarters, revenue_2022, marker='o', linestyle='-', color='b', linewidth=2, label='2022 Revenue')\\nax.plot(quarters, revenue_2023, marker='s', linestyle='--', color='g', linewidth=2, label='2023 Revenue')\\n\\n# Set axis labels with more descriptive text\\nax.set_xlabel('Quarter', fontsize=12)\\nax.set_ylabel('Revenue (in millions)', fontsize=12)\\n\\n# Add a title with increased font size for emphasis\\nax.set_title('Quarterly Revenue Comparison: 2022 vs 2023', fontsize=14, fontweight='bold')\\n\\n# Add grid lines for improved readability\\nax.grid(True, which='both', linestyle='--', linewidth=0.5)\\n\\n# Customize the x-axis ticks to show quarter names\\nax.set_xticks(quarters)\\nax.set_xticklabels(['Q1', 'Q2', 'Q3', 'Q4'])\\n\\n# Add a legend with a shadow effect for better distinction\\nax.legend(loc='upper left', shadow=True, fontsize=10)\\n\\n# Annotate a significant point for emphasis\\nmax_revenue_2023 = max(revenue_2023)\\nmax_quarter_2023 = quarters[revenue_2023.argmax()]\\nax.annotate('Highest Revenue', xy=(max_quarter_2023, max_revenue_2023),\\n            xytext=(max_quarter_2023 + 0.1, max_revenue_2023 - 20),\\n            arrowprops=dict(facecolor='black', shrink=0.05),\\n            fontsize=10, ha='center')\\n\\n# Tight layout for better spacing\\nplt.tight_layout()\\n\\n# Show the plot\\nplt.show()\\n```\\n\\n### Key Enhancements:\\n1. **Data Context**: The data now represents a realistic scenario: quarterly revenues over two years, making the chart more engaging and informative.\\n2. **Stylistic Improvements**:\\n   - Different line styles (`-` for 2022 and `--` for 2023) and markers (`o` for 2022 and `s` for 2023) differentiate the datasets.\\n   - The use of color and line width enhances visual clarity.\\n3. **Annotations**: An annotation highlights the highest revenue point in 2023, providing additional insight.\\n4. **Gridlines**: Adding gridlines improves readability.\\n5. **Legend and Title**: Enhanced legend with shadow for better visualization and a bold title for emphasis.\\n6. **Axis Labels and Ticks**: Descriptive axis labels and custom x-tick labels improve the chart's clarity and presentation.\",\n",
       "  'revised_text': \"import matplotlib.pyplot as plt  \\nimport numpy as np  \\n\\n# Sample data  \\nx = np.linspace(0, 1, 100)  \\ny = x**2  \\n\\n# Create a new figure  \\nfig = plt.figure(figsize=(6.0, 4.0))  \\n\\n# Plot the data  \\nplt.plot(x, y, label='y = x^2')  \\n\\n# Set labels  \\nplt.xlabel('X')  \\nplt.ylabel('Y')  \\n\\n# Add a legend  \\nplt.legend()  \\n\\n# Show the plot  \\nplt.show()\",\n",
       "  'category': 'Line',\n",
       "  'chart_size': [10.0, 6.0],\n",
       "  'max_stars_repo_path': 'giggleliu/tba/hgen/multithreading.py',\n",
       "  'max_stars_repo_name': 'Lynn-015/Test_01',\n",
       "  'max_stars_count': 2,\n",
       "  'id': '22978',\n",
       "  'text': \"#!/usr/bin/python\\nfrom numpy import *\\nfrom mpi4py import MPI\\nfrom matplotlib.pyplot import *\\n#MPI setting\\ntry:\\n    COMM=MPI.COMM_WORLD\\n    SIZE=COMM.Get_size()\\n    RANK=COMM.Get_rank()\\nexcept:\\n    COMM=None\\n    SIZE=1\\n    RANK=0\\n\\n__all__=['mpido']\\n\\ndef mpido(func,inputlist,bcastouputmesh=True):\\n    '''\\n    MPI for list input.\\n\\n    func:\\n        The function defined on inputlist.\\n    inputlist:\\n        The input list.\\n    bcastouputmesh:\\n        broadcast output mesh if True.\\n    '''\\n    N=len(inputlist)\\n    ntask=(N-1)/SIZE+1\\n    datas=[]\\n    for i in xrange(N):\\n        if i/ntask==RANK:\\n            datas.append(func(inputlist[i]))\\n    datal=COMM.gather(datas,root=0)\\n    if RANK==0:\\n        datas=[]\\n        for datai in datal:\\n            datas+=datai\\n    #broadcast mesh\\n    if bcastouputmesh:\\n        datas=COMM.bcast(datas,root=0)\\n    return datas\\n\\ndef test_mpido():\\n    x=linspace(0,1,100)\\n    y=mpido(func=lambda x:x**2,inputlist=x)\\n    if RANK==0:\\n        plot(x,y)\\n        show()\\n\\nif __name__=='__main__':\\n    test_mpido()\\n\",\n",
       "  'source': 'v1',\n",
       "  'images': ['/mnt/lingjiejiang/multimodal_code/data/chart_data/evol_images1/000009.jpg'],\n",
       "  'prompt': 'Develop a matplotlib code that reproduces the picture, and ensure the dimensions match by using figsize=(10, 6).',\n",
       "  'messages': [{'content': '<image>\\nDevelop a matplotlib code that reproduces the picture, and ensure the dimensions match by using figsize=(10, 6).',\n",
       "    'role': 'user'},\n",
       "   {'content': \"```python\\nimport matplotlib.pyplot as plt\\nimport numpy as np\\n\\n# Create data for the demonstration: quarterly revenue over a year\\nquarters = np.array([1, 2, 3, 4])\\nrevenue_2022 = np.array([150, 200, 250, 300])  # Revenue in millions for 2022\\nrevenue_2023 = np.array([180, 230, 280, 350])  # Revenue in millions for 2023\\n\\n# Create a new figure with a larger size for better presentation\\nfig, ax = plt.subplots(figsize=(10, 6))\\n\\n# Plot the data with enhanced line styles and markers\\nax.plot(quarters, revenue_2022, marker='o', linestyle='-', color='b', linewidth=2, label='2022 Revenue')\\nax.plot(quarters, revenue_2023, marker='s', linestyle='--', color='g', linewidth=2, label='2023 Revenue')\\n\\n# Set axis labels with more descriptive text\\nax.set_xlabel('Quarter', fontsize=12)\\nax.set_ylabel('Revenue (in millions)', fontsize=12)\\n\\n# Add a title with increased font size for emphasis\\nax.set_title('Quarterly Revenue Comparison: 2022 vs 2023', fontsize=14, fontweight='bold')\\n\\n# Add grid lines for improved readability\\nax.grid(True, which='both', linestyle='--', linewidth=0.5)\\n\\n# Customize the x-axis ticks to show quarter names\\nax.set_xticks(quarters)\\nax.set_xticklabels(['Q1', 'Q2', 'Q3', 'Q4'])\\n\\n# Add a legend with a shadow effect for better distinction\\nax.legend(loc='upper left', shadow=True, fontsize=10)\\n\\n# Annotate a significant point for emphasis\\nmax_revenue_2023 = max(revenue_2023)\\nmax_quarter_2023 = quarters[revenue_2023.argmax()]\\nax.annotate('Highest Revenue', xy=(max_quarter_2023, max_revenue_2023),\\n            xytext=(max_quarter_2023 + 0.1, max_revenue_2023 - 20),\\n            arrowprops=dict(facecolor='black', shrink=0.05),\\n            fontsize=10, ha='center')\\n\\n# Tight layout for better spacing\\nplt.tight_layout()\\n\\n# Show the plot\\nplt.show()\\n```\",\n",
       "    'role': 'assistant'}],\n",
       "  'formatted_text': \"```python\\nimport matplotlib.pyplot as plt\\nimport numpy as np\\n\\n# Create data for the demonstration: quarterly revenue over a year\\nquarters = np.array([1, 2, 3, 4])\\nrevenue_2022 = np.array([150, 200, 250, 300])  # Revenue in millions for 2022\\nrevenue_2023 = np.array([180, 230, 280, 350])  # Revenue in millions for 2023\\n\\n# Create a new figure with a larger size for better presentation\\nfig, ax = plt.subplots(figsize=(10, 6))\\n\\n# Plot the data with enhanced line styles and markers\\nax.plot(quarters, revenue_2022, marker='o', linestyle='-', color='b', linewidth=2, label='2022 Revenue')\\nax.plot(quarters, revenue_2023, marker='s', linestyle='--', color='g', linewidth=2, label='2023 Revenue')\\n\\n# Set axis labels with more descriptive text\\nax.set_xlabel('Quarter', fontsize=12)\\nax.set_ylabel('Revenue (in millions)', fontsize=12)\\n\\n# Add a title with increased font size for emphasis\\nax.set_title('Quarterly Revenue Comparison: 2022 vs 2023', fontsize=14, fontweight='bold')\\n\\n# Add grid lines for improved readability\\nax.grid(True, which='both', linestyle='--', linewidth=0.5)\\n\\n# Customize the x-axis ticks to show quarter names\\nax.set_xticks(quarters)\\nax.set_xticklabels(['Q1', 'Q2', 'Q3', 'Q4'])\\n\\n# Add a legend with a shadow effect for better distinction\\nax.legend(loc='upper left', shadow=True, fontsize=10)\\n\\n# Annotate a significant point for emphasis\\nmax_revenue_2023 = max(revenue_2023)\\nmax_quarter_2023 = quarters[revenue_2023.argmax()]\\nax.annotate('Highest Revenue', xy=(max_quarter_2023, max_revenue_2023),\\n            xytext=(max_quarter_2023 + 0.1, max_revenue_2023 - 20),\\n            arrowprops=dict(facecolor='black', shrink=0.05),\\n            fontsize=10, ha='center')\\n\\n# Tight layout for better spacing\\nplt.tight_layout()\\n\\n# Show the plot\\nplt.show()\\n```\",\n",
       "  'gpt_prompt': 'Develop a matplotlib code that reproduces the picture, and ensure the dimensions match by using figsize=(10, 6).',\n",
       "  'type': 'chart'}]"
      ]
     },
     "execution_count": 18,
     "metadata": {},
     "output_type": "execute_result"
    }
   ],
   "source": [
    "chart_data1[:1]"
   ]
  },
  {
   "cell_type": "code",
   "execution_count": 24,
   "metadata": {},
   "outputs": [
    {
     "data": {
      "text/plain": [
       "52425"
      ]
     },
     "execution_count": 24,
     "metadata": {},
     "output_type": "execute_result"
    }
   ],
   "source": [
    "index_1 = set([d[\"gpt_prompt\"] for d in chart_data1])\n",
    "merged_data = chart_data1\n",
    "for d in chart_data2:\n",
    "    if d[\"gpt_prompt\"] not in index_1:\n",
    "        merged_data.append(d)\n",
    "len(merged_data)"
   ]
  },
  {
   "cell_type": "code",
   "execution_count": 27,
   "metadata": {},
   "outputs": [
    {
     "data": {
      "text/plain": [
       "50476"
      ]
     },
     "execution_count": 27,
     "metadata": {},
     "output_type": "execute_result"
    }
   ],
   "source": [
    "merged_data = chart_data1 + chart_data2\n",
    "uni_merged_data = []\n",
    "uni_prompts = set()\n",
    "for d in merged_data:\n",
    "    if d[\"images\"][0] not in uni_prompts:\n",
    "        uni_prompts.add(d[\"images\"][0])\n",
    "        uni_merged_data.append(d)\n",
    "len(uni_merged_data)"
   ]
  },
  {
   "cell_type": "code",
   "execution_count": 29,
   "metadata": {},
   "outputs": [
    {
     "data": {
      "text/plain": [
       "50472"
      ]
     },
     "execution_count": 29,
     "metadata": {},
     "output_type": "execute_result"
    }
   ],
   "source": [
    "def filter_data(data):\n",
    "    new_data = []\n",
    "    for d in data:\n",
    "        if d[\"stop_reason\"] == \"stop\" and d[\"generate_raw\"] != \"\" and d[\"code_extract\"] != \"\":\n",
    "            new_data.append(d)\n",
    "    return new_data\n",
    "notempty_chart_data = filter_data(uni_merged_data)\n",
    "len(notempty_chart_data)"
   ]
  },
  {
   "cell_type": "code",
   "execution_count": 30,
   "metadata": {},
   "outputs": [
    {
     "data": {
      "text/plain": [
       "50472"
      ]
     },
     "execution_count": 30,
     "metadata": {},
     "output_type": "execute_result"
    }
   ],
   "source": [
    "with open(\"/mnt/lingjiejiang/multimodal_code/data/dpo/chart/gpt4o_chart_50k.json\", \"w\") as f:\n",
    "    json.dump(notempty_chart_data, f)\n",
    "with open(\"/mnt/lingjiejiang/multimodal_code/data/dpo/chart/gpt4o_chart_50k.json\", \"r\") as f:\n",
    "    notempty_chart_data = json.load(f)\n",
    "len(notempty_chart_data)"
   ]
  },
  {
   "cell_type": "code",
   "execution_count": 31,
   "metadata": {},
   "outputs": [
    {
     "data": {
      "text/plain": [
       "[{'index': 8,\n",
       "  'code_extract': \"import matplotlib.pyplot as plt\\n\\n# Data\\nquarters = ['Q1', 'Q2', 'Q3', 'Q4']\\nrevenue_2022 = [150, 200, 250, 300]\\nrevenue_2023 = [180, 230, 290, 350]\\n\\n# Create the plot\\nplt.figure(figsize=(10, 6))\\nplt.plot(quarters, revenue_2022, 'b-o', label='2022 Revenue')\\nplt.plot(quarters, revenue_2023, 'g--s', label='2023 Revenue')\\n\\n# Highlight the highest revenue point\\nplt.annotate('Highest Revenue', xy=('Q4', 350), xytext=('Q4', 360),\\n             arrowprops=dict(facecolor='black', shrink=0.05))\\n\\n# Labels and title\\nplt.xlabel('Quarter')\\nplt.ylabel('Revenue (in millions)')\\nplt.title('Quarterly Revenue Comparison: 2022 vs 2023', fontweight='bold')\\n\\n# Legend\\nplt.legend()\\n\\n# Grid\\nplt.grid(True)\\n\\n# Show plot\\nplt.show()\",\n",
       "  'generate_raw': \"To reproduce the graph using Matplotlib with the specified dimensions, you can use the following code:\\n\\n```python\\nimport matplotlib.pyplot as plt\\n\\n# Data\\nquarters = ['Q1', 'Q2', 'Q3', 'Q4']\\nrevenue_2022 = [150, 200, 250, 300]\\nrevenue_2023 = [180, 230, 290, 350]\\n\\n# Create the plot\\nplt.figure(figsize=(10, 6))\\nplt.plot(quarters, revenue_2022, 'b-o', label='2022 Revenue')\\nplt.plot(quarters, revenue_2023, 'g--s', label='2023 Revenue')\\n\\n# Highlight the highest revenue point\\nplt.annotate('Highest Revenue', xy=('Q4', 350), xytext=('Q4', 360),\\n             arrowprops=dict(facecolor='black', shrink=0.05))\\n\\n# Labels and title\\nplt.xlabel('Quarter')\\nplt.ylabel('Revenue (in millions)')\\nplt.title('Quarterly Revenue Comparison: 2022 vs 2023', fontweight='bold')\\n\\n# Legend\\nplt.legend()\\n\\n# Grid\\nplt.grid(True)\\n\\n# Show plot\\nplt.show()\\n```\\n\\nThis code sets up the plot with the specified dimensions, plots the data for 2022 and 2023, adds the annotation for the highest revenue point in Q4 2023, and includes labels, title, and a legend.\",\n",
       "  'stop_reason': 'stop',\n",
       "  'model': 'gpt4o',\n",
       "  'evol_text': \"import matplotlib.pyplot as plt\\nimport numpy as np\\n\\n# Create data for the demonstration: quarterly revenue over a year\\nquarters = np.array([1, 2, 3, 4])\\nrevenue_2022 = np.array([150, 200, 250, 300])  # Revenue in millions for 2022\\nrevenue_2023 = np.array([180, 230, 280, 350])  # Revenue in millions for 2023\\n\\n# Create a new figure with a larger size for better presentation\\nfig, ax = plt.subplots(figsize=(10, 6))\\n\\n# Plot the data with enhanced line styles and markers\\nax.plot(quarters, revenue_2022, marker='o', linestyle='-', color='b', linewidth=2, label='2022 Revenue')\\nax.plot(quarters, revenue_2023, marker='s', linestyle='--', color='g', linewidth=2, label='2023 Revenue')\\n\\n# Set axis labels with more descriptive text\\nax.set_xlabel('Quarter', fontsize=12)\\nax.set_ylabel('Revenue (in millions)', fontsize=12)\\n\\n# Add a title with increased font size for emphasis\\nax.set_title('Quarterly Revenue Comparison: 2022 vs 2023', fontsize=14, fontweight='bold')\\n\\n# Add grid lines for improved readability\\nax.grid(True, which='both', linestyle='--', linewidth=0.5)\\n\\n# Customize the x-axis ticks to show quarter names\\nax.set_xticks(quarters)\\nax.set_xticklabels(['Q1', 'Q2', 'Q3', 'Q4'])\\n\\n# Add a legend with a shadow effect for better distinction\\nax.legend(loc='upper left', shadow=True, fontsize=10)\\n\\n# Annotate a significant point for emphasis\\nmax_revenue_2023 = max(revenue_2023)\\nmax_quarter_2023 = quarters[revenue_2023.argmax()]\\nax.annotate('Highest Revenue', xy=(max_quarter_2023, max_revenue_2023),\\n            xytext=(max_quarter_2023 + 0.1, max_revenue_2023 - 20),\\n            arrowprops=dict(facecolor='black', shrink=0.05),\\n            fontsize=10, ha='center')\\n\\n# Tight layout for better spacing\\nplt.tight_layout()\\n\\n# Show the plot\\nplt.show()\",\n",
       "  'gpt_evol_answer': \"To create an optimized and visually appealing line chart using Matplotlib, we'll enhance the original script by adding stylistic improvements, more informative data, and additional chart elements such as a title, gridlines, and annotations. Here's an improved version of the code:\\n\\n```python\\nimport matplotlib.pyplot as plt\\nimport numpy as np\\n\\n# Create data for the demonstration: quarterly revenue over a year\\nquarters = np.array([1, 2, 3, 4])\\nrevenue_2022 = np.array([150, 200, 250, 300])  # Revenue in millions for 2022\\nrevenue_2023 = np.array([180, 230, 280, 350])  # Revenue in millions for 2023\\n\\n# Create a new figure with a larger size for better presentation\\nfig, ax = plt.subplots(figsize=(10, 6))\\n\\n# Plot the data with enhanced line styles and markers\\nax.plot(quarters, revenue_2022, marker='o', linestyle='-', color='b', linewidth=2, label='2022 Revenue')\\nax.plot(quarters, revenue_2023, marker='s', linestyle='--', color='g', linewidth=2, label='2023 Revenue')\\n\\n# Set axis labels with more descriptive text\\nax.set_xlabel('Quarter', fontsize=12)\\nax.set_ylabel('Revenue (in millions)', fontsize=12)\\n\\n# Add a title with increased font size for emphasis\\nax.set_title('Quarterly Revenue Comparison: 2022 vs 2023', fontsize=14, fontweight='bold')\\n\\n# Add grid lines for improved readability\\nax.grid(True, which='both', linestyle='--', linewidth=0.5)\\n\\n# Customize the x-axis ticks to show quarter names\\nax.set_xticks(quarters)\\nax.set_xticklabels(['Q1', 'Q2', 'Q3', 'Q4'])\\n\\n# Add a legend with a shadow effect for better distinction\\nax.legend(loc='upper left', shadow=True, fontsize=10)\\n\\n# Annotate a significant point for emphasis\\nmax_revenue_2023 = max(revenue_2023)\\nmax_quarter_2023 = quarters[revenue_2023.argmax()]\\nax.annotate('Highest Revenue', xy=(max_quarter_2023, max_revenue_2023),\\n            xytext=(max_quarter_2023 + 0.1, max_revenue_2023 - 20),\\n            arrowprops=dict(facecolor='black', shrink=0.05),\\n            fontsize=10, ha='center')\\n\\n# Tight layout for better spacing\\nplt.tight_layout()\\n\\n# Show the plot\\nplt.show()\\n```\\n\\n### Key Enhancements:\\n1. **Data Context**: The data now represents a realistic scenario: quarterly revenues over two years, making the chart more engaging and informative.\\n2. **Stylistic Improvements**:\\n   - Different line styles (`-` for 2022 and `--` for 2023) and markers (`o` for 2022 and `s` for 2023) differentiate the datasets.\\n   - The use of color and line width enhances visual clarity.\\n3. **Annotations**: An annotation highlights the highest revenue point in 2023, providing additional insight.\\n4. **Gridlines**: Adding gridlines improves readability.\\n5. **Legend and Title**: Enhanced legend with shadow for better visualization and a bold title for emphasis.\\n6. **Axis Labels and Ticks**: Descriptive axis labels and custom x-tick labels improve the chart's clarity and presentation.\",\n",
       "  'revised_text': \"import matplotlib.pyplot as plt  \\nimport numpy as np  \\n\\n# Sample data  \\nx = np.linspace(0, 1, 100)  \\ny = x**2  \\n\\n# Create a new figure  \\nfig = plt.figure(figsize=(6.0, 4.0))  \\n\\n# Plot the data  \\nplt.plot(x, y, label='y = x^2')  \\n\\n# Set labels  \\nplt.xlabel('X')  \\nplt.ylabel('Y')  \\n\\n# Add a legend  \\nplt.legend()  \\n\\n# Show the plot  \\nplt.show()\",\n",
       "  'category': 'Line',\n",
       "  'chart_size': [10.0, 6.0],\n",
       "  'max_stars_repo_path': 'giggleliu/tba/hgen/multithreading.py',\n",
       "  'max_stars_repo_name': 'Lynn-015/Test_01',\n",
       "  'max_stars_count': 2,\n",
       "  'id': '22978',\n",
       "  'text': \"#!/usr/bin/python\\nfrom numpy import *\\nfrom mpi4py import MPI\\nfrom matplotlib.pyplot import *\\n#MPI setting\\ntry:\\n    COMM=MPI.COMM_WORLD\\n    SIZE=COMM.Get_size()\\n    RANK=COMM.Get_rank()\\nexcept:\\n    COMM=None\\n    SIZE=1\\n    RANK=0\\n\\n__all__=['mpido']\\n\\ndef mpido(func,inputlist,bcastouputmesh=True):\\n    '''\\n    MPI for list input.\\n\\n    func:\\n        The function defined on inputlist.\\n    inputlist:\\n        The input list.\\n    bcastouputmesh:\\n        broadcast output mesh if True.\\n    '''\\n    N=len(inputlist)\\n    ntask=(N-1)/SIZE+1\\n    datas=[]\\n    for i in xrange(N):\\n        if i/ntask==RANK:\\n            datas.append(func(inputlist[i]))\\n    datal=COMM.gather(datas,root=0)\\n    if RANK==0:\\n        datas=[]\\n        for datai in datal:\\n            datas+=datai\\n    #broadcast mesh\\n    if bcastouputmesh:\\n        datas=COMM.bcast(datas,root=0)\\n    return datas\\n\\ndef test_mpido():\\n    x=linspace(0,1,100)\\n    y=mpido(func=lambda x:x**2,inputlist=x)\\n    if RANK==0:\\n        plot(x,y)\\n        show()\\n\\nif __name__=='__main__':\\n    test_mpido()\\n\",\n",
       "  'source': 'v1',\n",
       "  'images': ['/mnt/lingjiejiang/multimodal_code/data/chart_data/evol_images1/000009.jpg'],\n",
       "  'prompt': 'Develop a matplotlib code that reproduces the picture, and ensure the dimensions match by using figsize=(10, 6).',\n",
       "  'messages': [{'content': '<image>\\nDevelop a matplotlib code that reproduces the picture, and ensure the dimensions match by using figsize=(10, 6).',\n",
       "    'role': 'user'},\n",
       "   {'content': \"```python\\nimport matplotlib.pyplot as plt\\nimport numpy as np\\n\\n# Create data for the demonstration: quarterly revenue over a year\\nquarters = np.array([1, 2, 3, 4])\\nrevenue_2022 = np.array([150, 200, 250, 300])  # Revenue in millions for 2022\\nrevenue_2023 = np.array([180, 230, 280, 350])  # Revenue in millions for 2023\\n\\n# Create a new figure with a larger size for better presentation\\nfig, ax = plt.subplots(figsize=(10, 6))\\n\\n# Plot the data with enhanced line styles and markers\\nax.plot(quarters, revenue_2022, marker='o', linestyle='-', color='b', linewidth=2, label='2022 Revenue')\\nax.plot(quarters, revenue_2023, marker='s', linestyle='--', color='g', linewidth=2, label='2023 Revenue')\\n\\n# Set axis labels with more descriptive text\\nax.set_xlabel('Quarter', fontsize=12)\\nax.set_ylabel('Revenue (in millions)', fontsize=12)\\n\\n# Add a title with increased font size for emphasis\\nax.set_title('Quarterly Revenue Comparison: 2022 vs 2023', fontsize=14, fontweight='bold')\\n\\n# Add grid lines for improved readability\\nax.grid(True, which='both', linestyle='--', linewidth=0.5)\\n\\n# Customize the x-axis ticks to show quarter names\\nax.set_xticks(quarters)\\nax.set_xticklabels(['Q1', 'Q2', 'Q3', 'Q4'])\\n\\n# Add a legend with a shadow effect for better distinction\\nax.legend(loc='upper left', shadow=True, fontsize=10)\\n\\n# Annotate a significant point for emphasis\\nmax_revenue_2023 = max(revenue_2023)\\nmax_quarter_2023 = quarters[revenue_2023.argmax()]\\nax.annotate('Highest Revenue', xy=(max_quarter_2023, max_revenue_2023),\\n            xytext=(max_quarter_2023 + 0.1, max_revenue_2023 - 20),\\n            arrowprops=dict(facecolor='black', shrink=0.05),\\n            fontsize=10, ha='center')\\n\\n# Tight layout for better spacing\\nplt.tight_layout()\\n\\n# Show the plot\\nplt.show()\\n```\",\n",
       "    'role': 'assistant'}],\n",
       "  'formatted_text': \"```python\\nimport matplotlib.pyplot as plt\\nimport numpy as np\\n\\n# Create data for the demonstration: quarterly revenue over a year\\nquarters = np.array([1, 2, 3, 4])\\nrevenue_2022 = np.array([150, 200, 250, 300])  # Revenue in millions for 2022\\nrevenue_2023 = np.array([180, 230, 280, 350])  # Revenue in millions for 2023\\n\\n# Create a new figure with a larger size for better presentation\\nfig, ax = plt.subplots(figsize=(10, 6))\\n\\n# Plot the data with enhanced line styles and markers\\nax.plot(quarters, revenue_2022, marker='o', linestyle='-', color='b', linewidth=2, label='2022 Revenue')\\nax.plot(quarters, revenue_2023, marker='s', linestyle='--', color='g', linewidth=2, label='2023 Revenue')\\n\\n# Set axis labels with more descriptive text\\nax.set_xlabel('Quarter', fontsize=12)\\nax.set_ylabel('Revenue (in millions)', fontsize=12)\\n\\n# Add a title with increased font size for emphasis\\nax.set_title('Quarterly Revenue Comparison: 2022 vs 2023', fontsize=14, fontweight='bold')\\n\\n# Add grid lines for improved readability\\nax.grid(True, which='both', linestyle='--', linewidth=0.5)\\n\\n# Customize the x-axis ticks to show quarter names\\nax.set_xticks(quarters)\\nax.set_xticklabels(['Q1', 'Q2', 'Q3', 'Q4'])\\n\\n# Add a legend with a shadow effect for better distinction\\nax.legend(loc='upper left', shadow=True, fontsize=10)\\n\\n# Annotate a significant point for emphasis\\nmax_revenue_2023 = max(revenue_2023)\\nmax_quarter_2023 = quarters[revenue_2023.argmax()]\\nax.annotate('Highest Revenue', xy=(max_quarter_2023, max_revenue_2023),\\n            xytext=(max_quarter_2023 + 0.1, max_revenue_2023 - 20),\\n            arrowprops=dict(facecolor='black', shrink=0.05),\\n            fontsize=10, ha='center')\\n\\n# Tight layout for better spacing\\nplt.tight_layout()\\n\\n# Show the plot\\nplt.show()\\n```\",\n",
       "  'gpt_prompt': 'Develop a matplotlib code that reproduces the picture, and ensure the dimensions match by using figsize=(10, 6).',\n",
       "  'type': 'chart'},\n",
       " {'index': 3,\n",
       "  'code_extract': \"import matplotlib.pyplot as plt\\nimport numpy as np\\n\\n# Data preparation\\nx = np.linspace(0, 10, 100)\\ny1 = np.sin(x)\\ny2 = np.cos(x)\\n\\n# Plotting\\nplt.figure(figsize=(10, 6))\\nplt.plot(x, y1, 'b-o', label='Sine Wave')\\nplt.plot(x, y2, 'r-s', label='Cosine Wave')\\n\\n# Adding annotations\\nplt.annotate('Sine peak', xy=(1.57, 1), xytext=(2, 1.5),\\n             arrowprops=dict(facecolor='black', shrink=0.05))\\nplt.annotate('Cosine peak', xy=(0, 1), xytext=(1, 1.5),\\n             arrowprops=dict(facecolor='black', shrink=0.05))\\n\\n# Adding labels and title\\nplt.title('Sine and Cosine Waves', fontsize=20, fontweight='bold', color='teal')\\nplt.xlabel('Angle [radians]')\\nplt.ylabel('Function value')\\n\\n# Adding legend\\nplt.legend(loc='upper right')\\n\\n# Adding grid\\nplt.grid(True)\\n\\n# Display plot\\nplt.show()\",\n",
       "  'generate_raw': \"To replicate the given image using Matplotlib, you can use the following code:\\n\\n```python\\nimport matplotlib.pyplot as plt\\nimport numpy as np\\n\\n# Data preparation\\nx = np.linspace(0, 10, 100)\\ny1 = np.sin(x)\\ny2 = np.cos(x)\\n\\n# Plotting\\nplt.figure(figsize=(10, 6))\\nplt.plot(x, y1, 'b-o', label='Sine Wave')\\nplt.plot(x, y2, 'r-s', label='Cosine Wave')\\n\\n# Adding annotations\\nplt.annotate('Sine peak', xy=(1.57, 1), xytext=(2, 1.5),\\n             arrowprops=dict(facecolor='black', shrink=0.05))\\nplt.annotate('Cosine peak', xy=(0, 1), xytext=(1, 1.5),\\n             arrowprops=dict(facecolor='black', shrink=0.05))\\n\\n# Adding labels and title\\nplt.title('Sine and Cosine Waves', fontsize=20, fontweight='bold', color='teal')\\nplt.xlabel('Angle [radians]')\\nplt.ylabel('Function value')\\n\\n# Adding legend\\nplt.legend(loc='upper right')\\n\\n# Adding grid\\nplt.grid(True)\\n\\n# Display plot\\nplt.show()\\n```\\n\\nThis code sets up a plot with the sine and cosine functions, adds annotations for the peaks, customizes labels, title, legend, and includes a grid for clarity.\",\n",
       "  'stop_reason': 'stop',\n",
       "  'model': 'gpt4o',\n",
       "  'evol_text': \"import matplotlib.pyplot as plt\\nimport numpy as np\\n\\n# Create example data \\nx = np.linspace(0, 10, 200)  # Increased data points for smoother lines\\ny1 = np.sin(x)\\ny2 = np.cos(x)\\n\\n# Create a figure and axis\\nfig, ax = plt.subplots(figsize=(10, 6))  # Adjusted figure size for better presentation\\n\\n# Plot the data with enhancements\\nax.plot(x, y1, label='Sine Wave', color='royalblue', linestyle='-', linewidth=2, marker='o', markersize=5, markerfacecolor='white')\\nax.plot(x, y2, label='Cosine Wave', color='tomato', linestyle='--', linewidth=2, marker='s', markersize=5, markerfacecolor='white')\\n\\n# Add a grid for better readability\\nax.grid(True, which='both', linestyle='--', linewidth=0.5, alpha=0.7)\\n\\n# Set title and labels with enhanced formatting\\nax.set_title('Sine and Cosine Waves', fontsize=16, fontweight='bold', color='darkslategray')\\nax.set_xlabel('Angle [radians]', fontsize=12, color='dimgray')\\nax.set_ylabel('Function value', fontsize=12, color='dimgray')\\n\\n# Customize ticks\\nax.xaxis.set_ticks(np.arange(0, 11, 1))\\nax.yaxis.set_ticks(np.arange(-1, 1.5, 0.5))\\n\\n# Add a legend with a shadow effect\\nax.legend(loc='upper right', fontsize=10, shadow=True)\\n\\n# Add annotations to highlight key points\\nax.annotate('Sine peak', xy=(np.pi/2, 1), xytext=(np.pi/2 + 1, 1.2),\\n             arrowprops=dict(facecolor='black', arrowstyle='->'), fontsize=10, color='darkslategray')\\nax.annotate('Cosine peak', xy=(0, 1), xytext=(1, 1.2),\\n             arrowprops=dict(facecolor='black', arrowstyle='->'), fontsize=10, color='darkslategray')\\n\\n# Show the plot\\nplt.tight_layout()  # Adjust layout for tight fit\\nplt.show()\",\n",
       "  'gpt_evol_answer': \"Here's an optimized version of your Matplotlib plotting script that enhances both performance and visual appeal. I've added elements such as custom colors, markers, line styles, and improved labeling to make the chart more engaging and informative.\\n\\n```python\\nimport matplotlib.pyplot as plt\\nimport numpy as np\\n\\n# Create example data \\nx = np.linspace(0, 10, 200)  # Increased data points for smoother lines\\ny1 = np.sin(x)\\ny2 = np.cos(x)\\n\\n# Create a figure and axis\\nfig, ax = plt.subplots(figsize=(10, 6))  # Adjusted figure size for better presentation\\n\\n# Plot the data with enhancements\\nax.plot(x, y1, label='Sine Wave', color='royalblue', linestyle='-', linewidth=2, marker='o', markersize=5, markerfacecolor='white')\\nax.plot(x, y2, label='Cosine Wave', color='tomato', linestyle='--', linewidth=2, marker='s', markersize=5, markerfacecolor='white')\\n\\n# Add a grid for better readability\\nax.grid(True, which='both', linestyle='--', linewidth=0.5, alpha=0.7)\\n\\n# Set title and labels with enhanced formatting\\nax.set_title('Sine and Cosine Waves', fontsize=16, fontweight='bold', color='darkslategray')\\nax.set_xlabel('Angle [radians]', fontsize=12, color='dimgray')\\nax.set_ylabel('Function value', fontsize=12, color='dimgray')\\n\\n# Customize ticks\\nax.xaxis.set_ticks(np.arange(0, 11, 1))\\nax.yaxis.set_ticks(np.arange(-1, 1.5, 0.5))\\n\\n# Add a legend with a shadow effect\\nax.legend(loc='upper right', fontsize=10, shadow=True)\\n\\n# Add annotations to highlight key points\\nax.annotate('Sine peak', xy=(np.pi/2, 1), xytext=(np.pi/2 + 1, 1.2),\\n             arrowprops=dict(facecolor='black', arrowstyle='->'), fontsize=10, color='darkslategray')\\nax.annotate('Cosine peak', xy=(0, 1), xytext=(1, 1.2),\\n             arrowprops=dict(facecolor='black', arrowstyle='->'), fontsize=10, color='darkslategray')\\n\\n# Show the plot\\nplt.tight_layout()  # Adjust layout for tight fit\\nplt.show()\\n```\\n\\n### Key Enhancements:\\n- **Data Density:** Increased the number of data points for smoother lines.\\n- **Plot Dimensions:** Expanded the plot size (`figsize`) to provide a better aspect ratio and accommodate more detail.\\n- **Aesthetic Customization:** Incorporated different line styles, colors, and markers to distinguish between data series.\\n- **Grid and Ticks:** Added a grid and customized tick marks for improved readability.\\n- **Annotations:** Included annotations to highlight significant points on the curves.\\n- **Title and Labels:** Used enhanced formatting for the title and labels to improve clarity and emphasis.\\n- **Legend:** Positioned and styled the legend for better integration with the chart, including a shadow effect for depth.\\n\\nThese enhancements collectively improve the chart's clarity, visual appeal, and informative value.\",\n",
       "  'revised_text': \"import matplotlib.pyplot as plt\\nimport numpy as np\\n\\n# Sample data\\nx = np.linspace(0, 10, 100)\\ny = np.sin(x)\\n\\n# Create a new figure\\nfig = plt.figure(figsize=(6.0, 4.0))\\n\\n# Plot the data\\nplt.plot(x, y, label='Sine Wave')\\n\\n# Set labels\\nplt.xlabel('X-axis')\\nplt.ylabel('Y-axis')\\n\\n# Add a legend\\nplt.legend()\\n\\n# Show the plot\\nplt.show()\",\n",
       "  'category': 'Line',\n",
       "  'chart_size': [10.0, 6.0],\n",
       "  'max_stars_repo_path': 'src/utils.py',\n",
       "  'max_stars_repo_name': 'f-grimaldi/explain_ML',\n",
       "  'max_stars_count': 1,\n",
       "  'id': '3656',\n",
       "  'text': \"from matplotlib import colors\\nimport numpy as np\\n\\nclass SaveOutput:\\n    def __init__(self):\\n        self.outputs = []\\n\\n    def __call__(self, module, module_in, module_out):\\n        self.outputs.append(module_out)\\n\\n    def clear(self):\\n        self.outputs = []\\n\\nclass MidpointNormalize(colors.Normalize):\\n    def __init__(self, vmin=None, vmax=None, vcenter=None, clip=False):\\n        self.vcenter = vcenter\\n        colors.Normalize.__init__(self, vmin, vmax, clip)\\n\\n    def __call__(self, value, clip=None):\\n        # I'm ignoring masked values and all kinds of edge cases to make a\\n        # simple example...\\n        x, y = [self.vmin, self.vcenter, self.vmax], [self.vmin, self.vcenter, self.vmax]\\n        return np.ma.masked_array(np.interp(value, x, y))\\n\",\n",
       "  'source': 'v1',\n",
       "  'images': ['/mnt/lingjiejiang/multimodal_code/data/chart_data/evol_images1/000004.jpg'],\n",
       "  'prompt': \"Please generate the matplotlib code that mirrors the given image. It's crucial to set the figsize to (10, 6) for accurate sizing.\",\n",
       "  'messages': [{'content': \"<image>\\nPlease generate the matplotlib code that mirrors the given image. It's crucial to set the figsize to (10, 6) for accurate sizing.\",\n",
       "    'role': 'user'},\n",
       "   {'content': \"```python\\nimport matplotlib.pyplot as plt\\nimport numpy as np\\n\\n# Create example data \\nx = np.linspace(0, 10, 200)  # Increased data points for smoother lines\\ny1 = np.sin(x)\\ny2 = np.cos(x)\\n\\n# Create a figure and axis\\nfig, ax = plt.subplots(figsize=(10, 6))  # Adjusted figure size for better presentation\\n\\n# Plot the data with enhancements\\nax.plot(x, y1, label='Sine Wave', color='royalblue', linestyle='-', linewidth=2, marker='o', markersize=5, markerfacecolor='white')\\nax.plot(x, y2, label='Cosine Wave', color='tomato', linestyle='--', linewidth=2, marker='s', markersize=5, markerfacecolor='white')\\n\\n# Add a grid for better readability\\nax.grid(True, which='both', linestyle='--', linewidth=0.5, alpha=0.7)\\n\\n# Set title and labels with enhanced formatting\\nax.set_title('Sine and Cosine Waves', fontsize=16, fontweight='bold', color='darkslategray')\\nax.set_xlabel('Angle [radians]', fontsize=12, color='dimgray')\\nax.set_ylabel('Function value', fontsize=12, color='dimgray')\\n\\n# Customize ticks\\nax.xaxis.set_ticks(np.arange(0, 11, 1))\\nax.yaxis.set_ticks(np.arange(-1, 1.5, 0.5))\\n\\n# Add a legend with a shadow effect\\nax.legend(loc='upper right', fontsize=10, shadow=True)\\n\\n# Add annotations to highlight key points\\nax.annotate('Sine peak', xy=(np.pi/2, 1), xytext=(np.pi/2 + 1, 1.2),\\n             arrowprops=dict(facecolor='black', arrowstyle='->'), fontsize=10, color='darkslategray')\\nax.annotate('Cosine peak', xy=(0, 1), xytext=(1, 1.2),\\n             arrowprops=dict(facecolor='black', arrowstyle='->'), fontsize=10, color='darkslategray')\\n\\n# Show the plot\\nplt.tight_layout()  # Adjust layout for tight fit\\nplt.show()\\n```\",\n",
       "    'role': 'assistant'}],\n",
       "  'formatted_text': \"```python\\nimport matplotlib.pyplot as plt\\nimport numpy as np\\n\\n# Create example data \\nx = np.linspace(0, 10, 200)  # Increased data points for smoother lines\\ny1 = np.sin(x)\\ny2 = np.cos(x)\\n\\n# Create a figure and axis\\nfig, ax = plt.subplots(figsize=(10, 6))  # Adjusted figure size for better presentation\\n\\n# Plot the data with enhancements\\nax.plot(x, y1, label='Sine Wave', color='royalblue', linestyle='-', linewidth=2, marker='o', markersize=5, markerfacecolor='white')\\nax.plot(x, y2, label='Cosine Wave', color='tomato', linestyle='--', linewidth=2, marker='s', markersize=5, markerfacecolor='white')\\n\\n# Add a grid for better readability\\nax.grid(True, which='both', linestyle='--', linewidth=0.5, alpha=0.7)\\n\\n# Set title and labels with enhanced formatting\\nax.set_title('Sine and Cosine Waves', fontsize=16, fontweight='bold', color='darkslategray')\\nax.set_xlabel('Angle [radians]', fontsize=12, color='dimgray')\\nax.set_ylabel('Function value', fontsize=12, color='dimgray')\\n\\n# Customize ticks\\nax.xaxis.set_ticks(np.arange(0, 11, 1))\\nax.yaxis.set_ticks(np.arange(-1, 1.5, 0.5))\\n\\n# Add a legend with a shadow effect\\nax.legend(loc='upper right', fontsize=10, shadow=True)\\n\\n# Add annotations to highlight key points\\nax.annotate('Sine peak', xy=(np.pi/2, 1), xytext=(np.pi/2 + 1, 1.2),\\n             arrowprops=dict(facecolor='black', arrowstyle='->'), fontsize=10, color='darkslategray')\\nax.annotate('Cosine peak', xy=(0, 1), xytext=(1, 1.2),\\n             arrowprops=dict(facecolor='black', arrowstyle='->'), fontsize=10, color='darkslategray')\\n\\n# Show the plot\\nplt.tight_layout()  # Adjust layout for tight fit\\nplt.show()\\n```\",\n",
       "  'gpt_prompt': \"Please generate the matplotlib code that mirrors the given image. It's crucial to set the figsize to (10, 6) for accurate sizing.\",\n",
       "  'type': 'chart'}]"
      ]
     },
     "execution_count": 31,
     "metadata": {},
     "output_type": "execute_result"
    }
   ],
   "source": [
    "notempty_chart_data[:2]"
   ]
  }
 ],
 "metadata": {
  "kernelspec": {
   "display_name": "chartmimic",
   "language": "python",
   "name": "python3"
  },
  "language_info": {
   "codemirror_mode": {
    "name": "ipython",
    "version": 3
   },
   "file_extension": ".py",
   "mimetype": "text/x-python",
   "name": "python",
   "nbconvert_exporter": "python",
   "pygments_lexer": "ipython3",
   "version": "3.9.0"
  }
 },
 "nbformat": 4,
 "nbformat_minor": 2
}
