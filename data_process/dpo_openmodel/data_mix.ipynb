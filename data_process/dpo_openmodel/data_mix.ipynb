{
 "cells": [
  {
   "cell_type": "code",
   "execution_count": 1,
   "metadata": {},
   "outputs": [],
   "source": [
    "import json\n",
    "data_path1 = f\"/mnt/lingjiejiang/multimodal_code/data/dpo/html/web100k.json\"\n",
    "data_path2 = \"/mnt/lingjiejiang/multimodal_code/data/dpo/chart/chart50k.json\"\n",
    "with open(data_path1, \"r\") as f:\n",
    "    data1 = json.load(f)\n",
    "with open(data_path2, \"r\") as f:\n",
    "    data2 = json.load(f)\n"
   ]
  },
  {
   "cell_type": "code",
   "execution_count": 5,
   "metadata": {},
   "outputs": [],
   "source": [
    "merged_data = data1 + data2\n",
    "with open(\"/mnt/lingjiejiang/multimodal_code/data/dpo/merged_html_chart_150k.json\", \"w\") as f:\n",
    "    json.dump(merged_data, f)"
   ]
  },
  {
   "cell_type": "code",
   "execution_count": 6,
   "metadata": {},
   "outputs": [
    {
     "data": {
      "text/plain": [
       "150476"
      ]
     },
     "execution_count": 6,
     "metadata": {},
     "output_type": "execute_result"
    }
   ],
   "source": [
    "with open(\"/mnt/lingjiejiang/multimodal_code/data/dpo/merged_html_chart_150k.json\", \"r\") as f:\n",
    "    merged_data = json.load(f)\n",
    "len(merged_data)"
   ]
  }
 ],
 "metadata": {
  "kernelspec": {
   "display_name": "chartmimic",
   "language": "python",
   "name": "python3"
  },
  "language_info": {
   "codemirror_mode": {
    "name": "ipython",
    "version": 3
   },
   "file_extension": ".py",
   "mimetype": "text/x-python",
   "name": "python",
   "nbconvert_exporter": "python",
   "pygments_lexer": "ipython3",
   "version": "3.9.0"
  }
 },
 "nbformat": 4,
 "nbformat_minor": 2
}
