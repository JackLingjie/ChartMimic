{
 "cells": [
  {
   "cell_type": "code",
   "execution_count": 1,
   "metadata": {},
   "outputs": [
    {
     "data": {
      "text/plain": [
       "58"
      ]
     },
     "execution_count": 1,
     "metadata": {},
     "output_type": "execute_result"
    }
   ],
   "source": [
    "with open(\"prompts.txt\") as f:\n",
    "    prompts = f.readlines()\n",
    "len(prompts)"
   ]
  },
  {
   "cell_type": "code",
   "execution_count": 9,
   "metadata": {},
   "outputs": [
    {
     "data": {
      "text/plain": [
       "58"
      ]
     },
     "execution_count": 9,
     "metadata": {},
     "output_type": "execute_result"
    }
   ],
   "source": [
    "len(set(prompts))"
   ]
  },
  {
   "cell_type": "markdown",
   "metadata": {},
   "source": [
    "### image size filter"
   ]
  },
  {
   "cell_type": "code",
   "execution_count": 35,
   "metadata": {},
   "outputs": [
    {
     "name": "stdout",
     "output_type": "stream",
     "text": [
      "Max Width: 2988\n",
      "Max Height: 1429\n",
      "Max Pixels: 2829636\n"
     ]
    }
   ],
   "source": [
    "import os  \n",
    "from PIL import Image  \n",
    "  \n",
    "def get_image_dimensions(image_path):  \n",
    "    with Image.open(image_path) as img:  \n",
    "        return img.width, img.height  \n",
    "  \n",
    "def find_max_dimensions_and_pixels(directory):  \n",
    "    max_width = 0  \n",
    "    max_height = 0  \n",
    "    max_pixels = 0  \n",
    "  \n",
    "    for filename in os.listdir(directory):  \n",
    "        if filename.endswith('.png'):  \n",
    "            image_path = os.path.join(directory, filename)  \n",
    "            try:  \n",
    "                width, height = get_image_dimensions(image_path)  \n",
    "                pixels = width * height  \n",
    "  \n",
    "                if width > max_width:  \n",
    "                    max_width = width  \n",
    "                if height > max_height:  \n",
    "                    max_height = height  \n",
    "                if pixels > max_pixels:  \n",
    "                    max_pixels = pixels  \n",
    "  \n",
    "            except Exception as e:  \n",
    "                print(f\"Could not process image {image_path}: {e}\")  \n",
    "  \n",
    "    return max_width, max_height, max_pixels  \n",
    "  \n",
    "# 指定您的目录路径  \n",
    "directory = '/home/v-lingjiang/project/ChartMimic/dataset/ori_500'  \n",
    "  \n",
    "# 获取最大尺寸和像素数  \n",
    "max_width, max_height, max_pixels = find_max_dimensions_and_pixels(directory)  \n",
    "  \n",
    "print(f\"Max Width: {max_width}\")  \n",
    "print(f\"Max Height: {max_height}\")  \n",
    "print(f\"Max Pixels: {max_pixels}\")  "
   ]
  },
  {
   "cell_type": "code",
   "execution_count": 7,
   "metadata": {},
   "outputs": [
    {
     "data": {
      "text/plain": [
       "[\"Imagine you're tasked with replicating a scientific graph using Python's matplotlib. The image dimensions should be set using figsize=({width}, {height}). How would you construct the necessary code?\\n\",\n",
       " 'Could you craft a Python script using matplotlib to replicate the visual representation provided in the attached image? Ensure the figure size matches the original by setting figsize=({width}, {height}).\\n']"
      ]
     },
     "execution_count": 7,
     "metadata": {},
     "output_type": "execute_result"
    }
   ],
   "source": [
    "prompts[:2]"
   ]
  },
  {
   "cell_type": "code",
   "execution_count": 37,
   "metadata": {},
   "outputs": [],
   "source": [
    "import json\n",
    "save_path = \"/mnt/lingjiejiang/multimodal_code/data/chart_data/revised_data_existing_images_123k.json\"\n",
    "with open(save_path, 'r') as f:\n",
    "    data = json.load(f)"
   ]
  },
  {
   "cell_type": "code",
   "execution_count": 39,
   "metadata": {},
   "outputs": [
    {
     "name": "stderr",
     "output_type": "stream",
     "text": [
      "  3%|▎         | 3167/123715 [01:01<38:45, 51.83it/s]  \n"
     ]
    },
    {
     "ename": "KeyboardInterrupt",
     "evalue": "",
     "output_type": "error",
     "traceback": [
      "\u001b[0;31m---------------------------------------------------------------------------\u001b[0m",
      "\u001b[0;31mKeyboardInterrupt\u001b[0m                         Traceback (most recent call last)",
      "Cell \u001b[0;32mIn[39], line 23\u001b[0m\n\u001b[1;32m     21\u001b[0m \u001b[38;5;28;01mif\u001b[39;00m image_path:  \n\u001b[1;32m     22\u001b[0m     \u001b[38;5;28;01mtry\u001b[39;00m:  \n\u001b[0;32m---> 23\u001b[0m         \u001b[38;5;28;01mwith\u001b[39;00m \u001b[43mImage\u001b[49m\u001b[38;5;241;43m.\u001b[39;49m\u001b[43mopen\u001b[49m\u001b[43m(\u001b[49m\u001b[43mimage_path\u001b[49m\u001b[43m)\u001b[49m \u001b[38;5;28;01mas\u001b[39;00m img:  \n\u001b[1;32m     24\u001b[0m             \u001b[38;5;66;03m# 检查图片尺寸  \u001b[39;00m\n\u001b[1;32m     25\u001b[0m             \u001b[38;5;28;01mif\u001b[39;00m img\u001b[38;5;241m.\u001b[39mwidth \u001b[38;5;241m>\u001b[39m MAX_WIDTH \u001b[38;5;129;01mor\u001b[39;00m img\u001b[38;5;241m.\u001b[39mheight \u001b[38;5;241m>\u001b[39m MAX_HEIGHT \u001b[38;5;129;01mor\u001b[39;00m (img\u001b[38;5;241m.\u001b[39mwidth \u001b[38;5;241m*\u001b[39m img\u001b[38;5;241m.\u001b[39mheight) \u001b[38;5;241m>\u001b[39m MAX_PIXELS:  \n\u001b[1;32m     26\u001b[0m                 keep_item \u001b[38;5;241m=\u001b[39m \u001b[38;5;28;01mFalse\u001b[39;00m  \n",
      "File \u001b[0;32m~/miniconda3/envs/chartmimic/lib/python3.9/site-packages/PIL/Image.py:3428\u001b[0m, in \u001b[0;36mopen\u001b[0;34m(fp, mode, formats)\u001b[0m\n\u001b[1;32m   3426\u001b[0m filename: \u001b[38;5;28mstr\u001b[39m \u001b[38;5;241m|\u001b[39m \u001b[38;5;28mbytes\u001b[39m \u001b[38;5;241m=\u001b[39m \u001b[38;5;124m\"\u001b[39m\u001b[38;5;124m\"\u001b[39m\n\u001b[1;32m   3427\u001b[0m \u001b[38;5;28;01mif\u001b[39;00m is_path(fp):\n\u001b[0;32m-> 3428\u001b[0m     filename \u001b[38;5;241m=\u001b[39m \u001b[43mos\u001b[49m\u001b[38;5;241;43m.\u001b[39;49m\u001b[43mpath\u001b[49m\u001b[38;5;241;43m.\u001b[39;49m\u001b[43mrealpath\u001b[49m\u001b[43m(\u001b[49m\u001b[43mos\u001b[49m\u001b[38;5;241;43m.\u001b[39;49m\u001b[43mfspath\u001b[49m\u001b[43m(\u001b[49m\u001b[43mfp\u001b[49m\u001b[43m)\u001b[49m\u001b[43m)\u001b[49m\n\u001b[1;32m   3430\u001b[0m \u001b[38;5;28;01mif\u001b[39;00m filename:\n\u001b[1;32m   3431\u001b[0m     fp \u001b[38;5;241m=\u001b[39m builtins\u001b[38;5;241m.\u001b[39mopen(filename, \u001b[38;5;124m\"\u001b[39m\u001b[38;5;124mrb\u001b[39m\u001b[38;5;124m\"\u001b[39m)\n",
      "File \u001b[0;32m~/miniconda3/envs/chartmimic/lib/python3.9/posixpath.py:391\u001b[0m, in \u001b[0;36mrealpath\u001b[0;34m(filename)\u001b[0m\n\u001b[1;32m    388\u001b[0m \u001b[38;5;250m    \u001b[39m\u001b[38;5;124;03m\"\"\"Return the canonical path of the specified filename, eliminating any\u001b[39;00m\n\u001b[1;32m    389\u001b[0m \u001b[38;5;124;03msymbolic links encountered in the path.\"\"\"\u001b[39;00m\n\u001b[1;32m    390\u001b[0m     filename \u001b[38;5;241m=\u001b[39m os\u001b[38;5;241m.\u001b[39mfspath(filename)\n\u001b[0;32m--> 391\u001b[0m     path, ok \u001b[38;5;241m=\u001b[39m \u001b[43m_joinrealpath\u001b[49m\u001b[43m(\u001b[49m\u001b[43mfilename\u001b[49m\u001b[43m[\u001b[49m\u001b[43m:\u001b[49m\u001b[38;5;241;43m0\u001b[39;49m\u001b[43m]\u001b[49m\u001b[43m,\u001b[49m\u001b[43m \u001b[49m\u001b[43mfilename\u001b[49m\u001b[43m,\u001b[49m\u001b[43m \u001b[49m\u001b[43m{\u001b[49m\u001b[43m}\u001b[49m\u001b[43m)\u001b[49m\n\u001b[1;32m    392\u001b[0m     \u001b[38;5;28;01mreturn\u001b[39;00m abspath(path)\n",
      "File \u001b[0;32m~/miniconda3/envs/chartmimic/lib/python3.9/posixpath.py:425\u001b[0m, in \u001b[0;36m_joinrealpath\u001b[0;34m(path, rest, seen)\u001b[0m\n\u001b[1;32m    423\u001b[0m     \u001b[38;5;28;01mcontinue\u001b[39;00m\n\u001b[1;32m    424\u001b[0m newpath \u001b[38;5;241m=\u001b[39m join(path, name)\n\u001b[0;32m--> 425\u001b[0m \u001b[38;5;28;01mif\u001b[39;00m \u001b[38;5;129;01mnot\u001b[39;00m \u001b[43mislink\u001b[49m\u001b[43m(\u001b[49m\u001b[43mnewpath\u001b[49m\u001b[43m)\u001b[49m:\n\u001b[1;32m    426\u001b[0m     path \u001b[38;5;241m=\u001b[39m newpath\n\u001b[1;32m    427\u001b[0m     \u001b[38;5;28;01mcontinue\u001b[39;00m\n",
      "File \u001b[0;32m~/miniconda3/envs/chartmimic/lib/python3.9/posixpath.py:167\u001b[0m, in \u001b[0;36mislink\u001b[0;34m(path)\u001b[0m\n\u001b[1;32m    165\u001b[0m \u001b[38;5;250m\u001b[39m\u001b[38;5;124;03m\"\"\"Test whether a path is a symbolic link\"\"\"\u001b[39;00m\n\u001b[1;32m    166\u001b[0m \u001b[38;5;28;01mtry\u001b[39;00m:\n\u001b[0;32m--> 167\u001b[0m     st \u001b[38;5;241m=\u001b[39m \u001b[43mos\u001b[49m\u001b[38;5;241;43m.\u001b[39;49m\u001b[43mlstat\u001b[49m\u001b[43m(\u001b[49m\u001b[43mpath\u001b[49m\u001b[43m)\u001b[49m\n\u001b[1;32m    168\u001b[0m \u001b[38;5;28;01mexcept\u001b[39;00m (\u001b[38;5;167;01mOSError\u001b[39;00m, \u001b[38;5;167;01mValueError\u001b[39;00m, \u001b[38;5;167;01mAttributeError\u001b[39;00m):\n\u001b[1;32m    169\u001b[0m     \u001b[38;5;28;01mreturn\u001b[39;00m \u001b[38;5;28;01mFalse\u001b[39;00m\n",
      "\u001b[0;31mKeyboardInterrupt\u001b[0m: "
     ]
    }
   ],
   "source": [
    "import json  \n",
    "from PIL import Image  \n",
    "from tqdm import tqdm  \n",
    "  \n",
    "# 设置合理的最大像素数和最大宽高  \n",
    "2829636\n",
    "MAX_PIXELS = 3000000  # 例如：2560 * 1440  \n",
    "MAX_WIDTH = 1500  \n",
    "MAX_HEIGHT = 1500 \n",
    "  \n",
    "# 读取JSON文件  \n",
    "save_path = \"/mnt/lingjiejiang/multimodal_code/data/chart_data/revised_data_existing_images_123k.json\"  \n",
    "with open(save_path, 'r') as f:  \n",
    "    data = json.load(f)  \n",
    "  \n",
    "# 遍历每个数据项  \n",
    "filtered_data = []  \n",
    "for item in tqdm(data):  \n",
    "    keep_item = True  \n",
    "    image_path = item.get('images')  \n",
    "    if image_path:  \n",
    "        try:  \n",
    "            with Image.open(image_path) as img:  \n",
    "                # 检查图片尺寸  \n",
    "                if img.width > MAX_WIDTH or img.height > MAX_HEIGHT or (img.width * img.height) > MAX_PIXELS:  \n",
    "                    keep_item = False  \n",
    "                    # print(f\"Image {image_path} exceeds size limits and will be removed.\")  \n",
    "        except Exception as e:  \n",
    "            print(f\"Could not process image {image_path}: {e}\")  \n",
    "            keep_item = False  \n",
    "    if keep_item:  \n",
    "        filtered_data.append(item)  \n",
    "  \n",
    "# 输出过滤后的数据长度  \n",
    "print(f\"Number of items after filtering: {len(filtered_data)}\")  \n",
    "  \n",
    "# 将过滤后的数据保存回JSON文件  \n",
    "filtered_save_path = f\"/mnt/lingjiejiang/multimodal_code/data/chart_data/revised_data_{len(filtered_data) // 1000}k_big_img_filtered.json\"  \n",
    "with open(filtered_save_path, \"w\") as f:  \n",
    "    json.dump(filtered_data, f, indent=0)  "
   ]
  },
  {
   "cell_type": "code",
   "execution_count": 1,
   "metadata": {},
   "outputs": [],
   "source": [
    "# filtered_data = [2] * 123000\n",
    "# f\"/mnt/lingjiejiang/multimodal_code/data/chart_data/revised_data_existing_images_{len(filtered_data) // 1000}k_filtered.json\"  "
   ]
  },
  {
   "cell_type": "code",
   "execution_count": 3,
   "metadata": {},
   "outputs": [
    {
     "data": {
      "text/plain": [
       "52475"
      ]
     },
     "execution_count": 3,
     "metadata": {},
     "output_type": "execute_result"
    }
   ],
   "source": [
    "import json\n",
    "filtered_path = \"/mnt/lingjiejiang/multimodal_code/data/chart_data/revised_data_52k_big_img_filtered.json\"\n",
    "with open(filtered_path, 'r') as f:\n",
    "    filtered_data = json.load(f)\n",
    "len(filtered_data)"
   ]
  },
  {
   "cell_type": "code",
   "execution_count": 5,
   "metadata": {},
   "outputs": [
    {
     "data": {
      "text/plain": [
       "[{'index': 3,\n",
       "  'revised_text': \"import matplotlib.pyplot as plt  \\nimport numpy as np  \\nfrom matplotlib import cm  \\n\\n# Sample Hamiltonian matrix\\nH = np.array([[1, 2, 3, 4], [2, 5, 6, 7], [3, 6, 8, 9], [4, 7, 9, 10]])\\n\\n# Plot the absolute value of the Hamiltonian matrix\\nplt.figure(figsize=(6.0, 4.0))  \\nplt.matshow(abs(H), cmap=cm.jet, fignum=1)  \\nplt.title('Hamiltonian')  \\nplt.colorbar()  \\nplt.show()\",\n",
       "  'category': 'Heatmap',\n",
       "  'chart_size': [6.0, 4.0],\n",
       "  'gpt_answer': \"<REVISED CODE BEGIN>  \\nimport matplotlib.pyplot as plt  \\nimport numpy as np  \\nfrom matplotlib import cm  \\n\\n# Sample Hamiltonian matrix\\nH = np.array([[1, 2, 3, 4], [2, 5, 6, 7], [3, 6, 8, 9], [4, 7, 9, 10]])\\n\\n# Plot the absolute value of the Hamiltonian matrix\\nplt.figure(figsize=(6.0, 4.0))  \\nplt.matshow(abs(H), cmap=cm.jet, fignum=1)  \\nplt.title('Hamiltonian')  \\nplt.colorbar()  \\nplt.show()  \\n<REVISED CODE END>  \\n\\n<CATEGORY>: [Heatmap]  \\n<CHART SIZE>: (6.0, 4.0)  \",\n",
       "  'max_stars_repo_path': 'cw_EPR.py',\n",
       "  'max_stars_repo_name': 'tkeller12/spin_physics',\n",
       "  'max_stars_count': 0,\n",
       "  'id': '2234',\n",
       "  'text': \"# <NAME>\\n# S = 1/2, I = 1/2\\n# Spin 1/2 electron coupled to spin 1/2 nuclei\\n\\nimport numpy as np\\nfrom scipy.linalg import expm\\nfrom matplotlib.pylab import *\\nfrom matplotlib import cm\\n\\nsigma_x = 0.5*np.r_[[[0, 1],[1, 0]]]\\nsigma_y = 0.5*np.r_[[[0,-1j],[1j, 0]]]\\nsigma_z = 0.5*np.r_[[[1, 0],[0, -1]]]\\nIdentity = np.eye(2)\\n\\n\\nSx = np.kron(sigma_x, Identity)\\nSy = np.kron(sigma_y, Identity)\\nSz = np.kron(sigma_z, Identity)\\n\\nIx = np.kron(Identity, sigma_x)\\nIy = np.kron(Identity, sigma_y)\\nIz = np.kron(Identity, sigma_z)\\n\\nSxIx = np.kron(sigma_x,sigma_z)\\n\\nSxIx2 = np.dot(Sx,Iz)\\n\\nprint(SxIx)\\nprint(SxIx2)\\nprint(np.allclose(SxIx,SxIx2))\\nomega_S = 1.76e11 # rad / (s * T)\\nomega_I = 267.522e6 # rad / (s * T)\\nAiso = 2*np.pi * 50.e6 # Isotropic Hyperfine coupling rad / s\\n\\nB0 = 0.35# T\\n\\nH = omega_S/(2.*np.pi)*B0*Sz + omega_I/(2.*np.pi)*B0*Iz + Aiso * np.dot(Sz,Iz)\\n#H = omega_S/(2.*np.pi)*B0*Sz + omega_I/(2.*np.pi)*B0*Iz + Aiso * (np.dot(Sx,Ix) + np.dot(Sy,Iy) + np.dot(Sz,Iz))\\n\\nprint('Hamiltonian:')\\nprint(H)\\nout = np.linalg.eig(H)\\n\\nE = out[0]\\nprint(E)\\n\\nE12 = E[0] - E[1]\\nE34 = E[2] - E[3]\\nE13 = E[0] - E[2]\\nE24 = E[1] - E[3]\\nprint(E12)\\nprint(E34)\\nprint(E13)\\nprint(E24)\\n\\nprint('Nuclear')\\nprint('%0.05f MHz'%(E12 / 1e6))\\nprint('%0.05f MHz'%(E34 / 1e6))\\nprint('Electron')\\nprint('%0.05f GHz'%(E13 / 1e9))\\nprint('%0.05f GHz'%(E24 / 1e9))\\n\\nmatshow(abs(H), cmap = cm.jet)\\ntitle('Hamiltonian')\\nshow()\\n\",\n",
       "  'lang': 'python',\n",
       "  'formatted_text': \"```python\\nimport matplotlib.pyplot as plt  \\nimport numpy as np  \\nfrom matplotlib import cm  \\n\\n# Sample Hamiltonian matrix\\nH = np.array([[1, 2, 3, 4], [2, 5, 6, 7], [3, 6, 8, 9], [4, 7, 9, 10]])\\n\\n# Plot the absolute value of the Hamiltonian matrix\\nplt.figure(figsize=(6.0, 4.0))  \\nplt.matshow(abs(H), cmap=cm.jet, fignum=1)  \\nplt.title('Hamiltonian')  \\nplt.colorbar()  \\nplt.show()\\n```\",\n",
       "  'source': 'v1',\n",
       "  'images': '/mnt/lingjiejiang/multimodal_code/data/chart_data/github_images/images_split1/000004.jpg'},\n",
       " {'index': 5,\n",
       "  'revised_text': \"import matplotlib.pyplot as plt  \\nimport numpy as np  \\n\\n# Sample data\\nx0 = np.random.normal(0, 1, 100)\\nx1 = np.random.normal(1, 1, 100)\\n\\n# Create a new figure\\nfig = plt.figure(figsize=(6.0, 4.0))  \\nax = fig.add_subplot(111)  \\n\\n# Plot the data\\nax.scatter(x0, x1, c='blue', s=6, label='Sample Data')  \\n\\n# Set labels\\nax.set_xlabel('X-axis')  \\nax.set_ylabel('Y-axis')  \\n\\n# Add a legend\\nax.legend()  \\n\\n# Show the plot\\nplt.show()\",\n",
       "  'category': 'Scatters',\n",
       "  'chart_size': [6.0, 4.0],\n",
       "  'gpt_answer': \"<REVISED CODE BEGIN>  \\nimport matplotlib.pyplot as plt  \\nimport numpy as np  \\n\\n# Sample data\\nx0 = np.random.normal(0, 1, 100)\\nx1 = np.random.normal(1, 1, 100)\\n\\n# Create a new figure\\nfig = plt.figure(figsize=(6.0, 4.0))  \\nax = fig.add_subplot(111)  \\n\\n# Plot the data\\nax.scatter(x0, x1, c='blue', s=6, label='Sample Data')  \\n\\n# Set labels\\nax.set_xlabel('X-axis')  \\nax.set_ylabel('Y-axis')  \\n\\n# Add a legend\\nax.legend()  \\n\\n# Show the plot\\nplt.show()  \\n<REVISED CODE END>  \\n\\n<CATEGORY>: [Scatters]  \\n<CHART SIZE>: (6.0, 4.0)  \",\n",
       "  'max_stars_repo_path': 'Assignment1/Q4/q4.py',\n",
       "  'max_stars_repo_name': 'NavneelSinghal/COL774',\n",
       "  'max_stars_count': 0,\n",
       "  'id': '12310',\n",
       "  'text': 'import matplotlib\\nimport matplotlib.pyplot as plt\\nimport matplotlib.animation as animation\\nmatplotlib.use(\\'Agg\\')\\n\\nimport math\\nimport numpy as np\\nimport sys\\nfrom os.path import join, isfile\\n\\nimport warnings\\nwarnings.filterwarnings(\"ignore\")\\n\\ndef gda(x, y):\\n\\n    x = x.T\\n    y = y.T\\n\\n    # phi = P(y = 1)\\n    # mu[i] = mean of the feature vectors of the ith class\\n    # sigma = common co-variance matrix\\n    # M[i] = number of data points of class i\\n    phi, mu, sigma, M = 0, np.array([0., 0.]), 0, np.array([0, 0])\\n\\n    m = y.shape[0]\\n\\n    M[1] = np.sum(y)\\n    M[0] = m - M[1]\\n\\n    phi = M[1] / m\\n\\n    mu = np.array([np.sum(np.array([x[j] for j in range(m) if y[j] == i]), axis=0) / M[i] for i in range(2)])\\n\\n    sigma = np.sum(np.array([np.outer(x[i] - mu[y[i]], x[i] - mu[y[i]]) for i in range(m)]), axis=0).astype(float) / m\\n\\n    return phi, mu, sigma\\n\\ndef gda_general(x, y):\\n\\n    x = x.T\\n    y = y.T\\n\\n    # phi = P(y = 1)\\n    # mu[i] = mean of the feature vectors of the ith class\\n    # sigma[i] = co-variance matrix for the ith class\\n    # M[i] = number of data points of class i\\n    phi, mu, sigma, M = 0, np.array([0., 0.]), 0, np.array([0, 0])\\n\\n    m = y.shape[0]\\n\\n    M[1] = np.sum(y)\\n    M[0] = m - M[1]\\n\\n    phi = M[1] / m\\n\\n    mu = np.array([np.sum(np.array([x[j] for j in range(m) if y[j] == i]), axis=0) / M[i] for i in range(2)])\\n\\n    sigma = np.array([np.sum(np.array([np.outer(x[i] - mu[k], x[i] - mu[k]) for i in range(m) if y[i] == k]), axis=0) / M[k] for k in range(2)]).astype(float)\\n\\n    return phi, mu, sigma\\n\\ndef main():\\n\\n    # read command-line arguments\\n    data_dir = sys.argv[1]\\n    out_dir = sys.argv[2]\\n    part = sys.argv[3]\\n\\n    # check for existence of input files\\n    for c in [\\'x\\', \\'y\\']:\\n        if not isfile(join(data_dir, \\'q4\\' + c + \\'.dat\\')):\\n            raise Exception(\\'q4\\' + c + \\'.dat not found\\')\\n\\n    # read from csv file\\n    x = np.array(np.genfromtxt(join(data_dir, \\'q4x.dat\\'))).T\\n    y = np.array([0 if yi == \\'Alaska\\' else 1 for yi in np.loadtxt(join(data_dir, \\'q4y.dat\\'), dtype=str)])\\n\\n    # normalisation\\n    x_mean = np.array([0.0] * 2)\\n    x_stddev = np.array([0.0] * 2)\\n    for i in range(2):\\n        x_mean[i] = np.mean(x[i])\\n        x[i] -= np.full_like(x[i], np.mean(x[i]))\\n        x_stddev[i] = np.sqrt(np.sum(x[i] ** 2) / x[i].shape[0])\\n        x[i] /= np.sqrt(np.sum(x[i] ** 2) / x[i].shape[0])\\n\\n    # part A\\n\\n    # running GDA with common co-variance matrix\\n    phi, mu, sigma = gda(x, y)\\n\\n\\n    if part == \\'a\\':\\n        output_file = open(join(out_dir, \\'4aoutput.txt\\'), mode=\\'w\\')\\n        output_file.write(\\'phi = \\' + str(phi) + \\'\\\\n\\')\\n        output_file.write(\\'mu[0] = \\' + str(mu[0]) + \\'\\\\n\\')\\n        output_file.write(\\'mu[1] = \\' + str(mu[1]) + \\'\\\\n\\')\\n        output_file.write(\\'sigma = \\\\n\\' + str(sigma) + \\'\\\\n\\')\\n        output_file.close()\\n        print(\\'phi = \\' + str(phi))\\n        print(\\'mu[0] = \\' + str(mu[0]))\\n        print(\\'mu[1] = \\' + str(mu[1]))\\n        print(\\'sigma = \\\\n\\' + str(sigma))\\n        return 0\\n\\n    # part B, C\\n\\n    fig4b, ax4b = plt.subplots()\\n\\n    # filter by y-values\\n    x0, x1 = [], []\\n    for i in range(y.shape[0]):\\n        if y[i] == 0:\\n            x0.append([x[0][i], x[1][i]])\\n        else:\\n            x1.append([x[0][i], x[1][i]])\\n    x0 = np.array(x0).T\\n    x1 = np.array(x1).T\\n\\n    # plot classes\\n    alaska = ax4b.scatter(x0[0] * x_stddev[0] + x_mean[0], x0[1] * x_stddev[1] + x_mean[1], c=\\'red\\', s=6)\\n    canada = ax4b.scatter(x1[0] * x_stddev[0] + x_mean[0], x1[1] * x_stddev[1] + x_mean[1], c=\\'blue\\', s=6)\\n    ax4b.set_xlabel(\\'Fresh water ring dia.\\')\\n    ax4b.set_ylabel(\\'Marine water ring dia.\\')\\n    fig4b.legend((alaska, canada), (\\'Alaska\\', \\'Canada\\'))\\n    if part == \\'b\\':\\n        fig4b.savefig(join(out_dir, \\'1b_plot.png\\'))\\n        plt.show()\\n        return 0\\n\\n    # linear boundary computation - equation in report\\n    sigma_inverse = np.linalg.inv(sigma)\\n    theta = np.array([0., 0., 0.])\\n    theta[0] = np.log(phi / (1 - phi))\\n    for i in range(2):\\n        mui = np.array([mu[i]])\\n        theta[0] += ((-1) ** i) * np.matmul(np.matmul(mui, sigma_inverse), mui.T)\\n    theta[1:] = np.matmul(np.array([mu[1] - mu[0]]), sigma_inverse)\\n\\n    # plotting the boundary\\n    rx = np.arange(-3, 4)\\n    ry = (-theta[0] - theta[1] * rx) / theta[2]\\n    ax4b.plot(rx * x_stddev[0] + x_mean[0], ry * x_stddev[1] + x_mean[1])\\n    #plt.show()\\n\\n    if part == \\'c\\':\\n        fig4b.savefig(join(out_dir, \\'1c_plot.png\\'))\\n        plt.show()\\n        return 0\\n\\n    # part D\\n\\n    # running generalised GDA\\n    phi, mu, sigma = gda_general(x, y)\\n\\n    if part == \\'d\\':\\n        output_file = open(join(out_dir, \\'4doutput.txt\\'), mode=\\'w\\')\\n        output_file.write(\\'phi = \\' + str(phi) + \\'\\\\n\\')\\n        output_file.write(\\'mu[0] = \\' + str(mu[0]) + \\'\\\\n\\')\\n        output_file.write(\\'mu[1] = \\' + str(mu[1]) + \\'\\\\n\\')\\n        output_file.write(\\'sigma[0] = \\\\n\\' + str(sigma[0]) + \\'\\\\n\\')\\n        output_file.write(\\'sigma[1] = \\\\n\\' + str(sigma[1]) + \\'\\\\n\\')\\n        output_file.close()\\n        print(\\'phi = \\' + str(phi))\\n        print(\\'mu[0] = \\' + str(mu[0]))\\n        print(\\'mu[1] = \\' + str(mu[1]))\\n        print(\\'sigma[0] = \\\\n\\' + str(sigma[0]))\\n        print(\\'sigma[1] = \\\\n\\' + str(sigma[1]))\\n        return 0\\n\\n    # part E\\n\\n    # quadratic boundary computation - equation in report\\n    constant = np.log(phi / (1 - phi)) + np.log(np.linalg.det(sigma[0]) / np.linalg.det(sigma[1])) / 2\\n    linear = 0\\n    quadratic = 0\\n    for i in range(2):\\n        sigma_inverse = np.linalg.inv(sigma[i])\\n        mui = np.array([mu[i]])\\n        prod = np.matmul(mui, sigma_inverse)\\n        constant += ((-1) ** i) * np.matmul(prod, mui.T) / 2\\n        linear += ((-1) ** (i + 1)) * prod\\n        quadratic += ((-1) ** i) * sigma_inverse / 2\\n    constant = constant[0][0]\\n    linear = linear[0]\\n    # note that here x transposed is the feature vector (as x is a row vector)\\n    # and similarly mu[i] is also a row vector, which explains the equations above\\n    # equation is x * quadratic * x.T + linear * x.T + constant = 0\\n\\n    # plotting the quadratic boundary\\n    Z = 0\\n    X, Y = np.meshgrid(np.linspace(-4, 4, 100), np.linspace(-4, 4, 100))\\n    Z += quadratic[0, 0] * (X ** 2) + (quadratic[0, 1] + quadratic[1, 0]) * X * Y + (quadratic[1, 1]) * (Y ** 2)\\n    Z += linear[0] * X + linear[1] * Y\\n    Z += constant\\n    ax4b.contour(X * x_stddev[0] + x_mean[0], Y * x_stddev[1] + x_mean[1], Z, 0)\\n    if part == \\'e\\':\\n        fig4b.savefig(join(out_dir, \\'1e_plot.png\\'))\\n        plt.show()\\n\\n    # part F - in the report\\n\\n    return 0\\n\\nif __name__ == \\'__main__\\':\\n    main()\\n',\n",
       "  'lang': 'python',\n",
       "  'formatted_text': \"```python\\nimport matplotlib.pyplot as plt  \\nimport numpy as np  \\n\\n# Sample data\\nx0 = np.random.normal(0, 1, 100)\\nx1 = np.random.normal(1, 1, 100)\\n\\n# Create a new figure\\nfig = plt.figure(figsize=(6.0, 4.0))  \\nax = fig.add_subplot(111)  \\n\\n# Plot the data\\nax.scatter(x0, x1, c='blue', s=6, label='Sample Data')  \\n\\n# Set labels\\nax.set_xlabel('X-axis')  \\nax.set_ylabel('Y-axis')  \\n\\n# Add a legend\\nax.legend()  \\n\\n# Show the plot\\nplt.show()\\n```\",\n",
       "  'source': 'v1',\n",
       "  'images': '/mnt/lingjiejiang/multimodal_code/data/chart_data/github_images/images_split1/000006.jpg'}]"
      ]
     },
     "execution_count": 5,
     "metadata": {},
     "output_type": "execute_result"
    }
   ],
   "source": [
    "filtered_data[:2]"
   ]
  },
  {
   "cell_type": "code",
   "execution_count": 6,
   "metadata": {},
   "outputs": [],
   "source": [
    "import json  \n",
    "import random  \n",
    "  \n",
    "# 路径到你的JSON数据文件  \n",
    "data_path = \"/mnt/lingjiejiang/multimodal_code/data/chart_data/revised_data_52k_big_img_filtered.json\"   \n",
    "output_path = \"/mnt/lingjiejiang/multimodal_code/data/chart_data/revised_data_existing_images_52k_sharegpt_format.json\"    \n",
    "\n",
    "# 读取JSON数据  \n",
    "with open(data_path, 'r') as f:  \n",
    "    data = json.load(f)  \n",
    "  \n",
    "# 读取提示  \n",
    "with open(\"prompts.txt\") as f:  \n",
    "    prompts = f.readlines()  \n",
    "  \n",
    "# 对每个数据项进行处理  \n",
    "for item in data:  \n",
    "    # 随机选择一个提示  \n",
    "    selected_prompt = random.choice(prompts)  \n",
    "      \n",
    "    # 获取当前数据项的chart_size  \n",
    "    chart_size = item.get('chart_size', [6.0, 12.0])  \n",
    "      \n",
    "    # 检查每个尺寸是否为整数  \n",
    "    width = int(chart_size[0]) if chart_size[0].is_integer() else chart_size[0]  \n",
    "    height = int(chart_size[1]) if chart_size[1].is_integer() else chart_size[1]  \n",
    "      \n",
    "    # 替换提示中的{width}和{height}  \n",
    "    new_prompt = selected_prompt.replace('{width}', str(width)).replace('{height}', str(height))  \n",
    "      \n",
    "    # 将新提示存入数据项的'prompt'键中  \n",
    "    item['prompt'] = new_prompt.strip()  \n",
    "\n",
    "    # 添加 messages 键  \n",
    "    item['messages'] = [  \n",
    "        {  \n",
    "            'content': '<image>\\n' + new_prompt,  \n",
    "            'role': 'user'  \n",
    "        },  \n",
    "        {  \n",
    "            'content': item.get('formatted_text', ''),  \n",
    "            'role': 'assistant'  \n",
    "        }  \n",
    "    ]    \n",
    "\n",
    "    item[\"images\"] = [item[\"images\"]]\n",
    "    item.pop(\"gpt_answer\")\n",
    "    item.pop(\"lang\")\n",
    "# 如果需要，可以将修改后的数据保存回文件  \n",
    "with open(output_path, 'w') as f:  \n",
    "    json.dump(data, f, indent=0)  \n",
    "  \n",
    "# 打印第一个数据项以验证输出  \n",
    "# print(data[0])  "
   ]
  },
  {
   "cell_type": "code",
   "execution_count": 8,
   "metadata": {},
   "outputs": [
    {
     "data": {
      "text/plain": [
       "[{'index': 3,\n",
       "  'revised_text': \"import matplotlib.pyplot as plt  \\nimport numpy as np  \\nfrom matplotlib import cm  \\n\\n# Sample Hamiltonian matrix\\nH = np.array([[1, 2, 3, 4], [2, 5, 6, 7], [3, 6, 8, 9], [4, 7, 9, 10]])\\n\\n# Plot the absolute value of the Hamiltonian matrix\\nplt.figure(figsize=(6.0, 4.0))  \\nplt.matshow(abs(H), cmap=cm.jet, fignum=1)  \\nplt.title('Hamiltonian')  \\nplt.colorbar()  \\nplt.show()\",\n",
       "  'category': 'Heatmap',\n",
       "  'chart_size': [6.0, 4.0],\n",
       "  'max_stars_repo_path': 'cw_EPR.py',\n",
       "  'max_stars_repo_name': 'tkeller12/spin_physics',\n",
       "  'max_stars_count': 0,\n",
       "  'id': '2234',\n",
       "  'text': \"# <NAME>\\n# S = 1/2, I = 1/2\\n# Spin 1/2 electron coupled to spin 1/2 nuclei\\n\\nimport numpy as np\\nfrom scipy.linalg import expm\\nfrom matplotlib.pylab import *\\nfrom matplotlib import cm\\n\\nsigma_x = 0.5*np.r_[[[0, 1],[1, 0]]]\\nsigma_y = 0.5*np.r_[[[0,-1j],[1j, 0]]]\\nsigma_z = 0.5*np.r_[[[1, 0],[0, -1]]]\\nIdentity = np.eye(2)\\n\\n\\nSx = np.kron(sigma_x, Identity)\\nSy = np.kron(sigma_y, Identity)\\nSz = np.kron(sigma_z, Identity)\\n\\nIx = np.kron(Identity, sigma_x)\\nIy = np.kron(Identity, sigma_y)\\nIz = np.kron(Identity, sigma_z)\\n\\nSxIx = np.kron(sigma_x,sigma_z)\\n\\nSxIx2 = np.dot(Sx,Iz)\\n\\nprint(SxIx)\\nprint(SxIx2)\\nprint(np.allclose(SxIx,SxIx2))\\nomega_S = 1.76e11 # rad / (s * T)\\nomega_I = 267.522e6 # rad / (s * T)\\nAiso = 2*np.pi * 50.e6 # Isotropic Hyperfine coupling rad / s\\n\\nB0 = 0.35# T\\n\\nH = omega_S/(2.*np.pi)*B0*Sz + omega_I/(2.*np.pi)*B0*Iz + Aiso * np.dot(Sz,Iz)\\n#H = omega_S/(2.*np.pi)*B0*Sz + omega_I/(2.*np.pi)*B0*Iz + Aiso * (np.dot(Sx,Ix) + np.dot(Sy,Iy) + np.dot(Sz,Iz))\\n\\nprint('Hamiltonian:')\\nprint(H)\\nout = np.linalg.eig(H)\\n\\nE = out[0]\\nprint(E)\\n\\nE12 = E[0] - E[1]\\nE34 = E[2] - E[3]\\nE13 = E[0] - E[2]\\nE24 = E[1] - E[3]\\nprint(E12)\\nprint(E34)\\nprint(E13)\\nprint(E24)\\n\\nprint('Nuclear')\\nprint('%0.05f MHz'%(E12 / 1e6))\\nprint('%0.05f MHz'%(E34 / 1e6))\\nprint('Electron')\\nprint('%0.05f GHz'%(E13 / 1e9))\\nprint('%0.05f GHz'%(E24 / 1e9))\\n\\nmatshow(abs(H), cmap = cm.jet)\\ntitle('Hamiltonian')\\nshow()\\n\",\n",
       "  'formatted_text': \"```python\\nimport matplotlib.pyplot as plt  \\nimport numpy as np  \\nfrom matplotlib import cm  \\n\\n# Sample Hamiltonian matrix\\nH = np.array([[1, 2, 3, 4], [2, 5, 6, 7], [3, 6, 8, 9], [4, 7, 9, 10]])\\n\\n# Plot the absolute value of the Hamiltonian matrix\\nplt.figure(figsize=(6.0, 4.0))  \\nplt.matshow(abs(H), cmap=cm.jet, fignum=1)  \\nplt.title('Hamiltonian')  \\nplt.colorbar()  \\nplt.show()\\n```\",\n",
       "  'source': 'v1',\n",
       "  'images': ['/mnt/lingjiejiang/multimodal_code/data/chart_data/github_images/images_split1/000004.jpg'],\n",
       "  'prompt': 'Please script the equivalent matplotlib code in Python to reproduce the image, taking care to use figsize=(6, 4) to set the dimensions.',\n",
       "  'messages': [{'content': '<image>\\nPlease script the equivalent matplotlib code in Python to reproduce the image, taking care to use figsize=(6, 4) to set the dimensions.\\n',\n",
       "    'role': 'user'},\n",
       "   {'content': \"```python\\nimport matplotlib.pyplot as plt  \\nimport numpy as np  \\nfrom matplotlib import cm  \\n\\n# Sample Hamiltonian matrix\\nH = np.array([[1, 2, 3, 4], [2, 5, 6, 7], [3, 6, 8, 9], [4, 7, 9, 10]])\\n\\n# Plot the absolute value of the Hamiltonian matrix\\nplt.figure(figsize=(6.0, 4.0))  \\nplt.matshow(abs(H), cmap=cm.jet, fignum=1)  \\nplt.title('Hamiltonian')  \\nplt.colorbar()  \\nplt.show()\\n```\",\n",
       "    'role': 'assistant'}]},\n",
       " {'index': 5,\n",
       "  'revised_text': \"import matplotlib.pyplot as plt  \\nimport numpy as np  \\n\\n# Sample data\\nx0 = np.random.normal(0, 1, 100)\\nx1 = np.random.normal(1, 1, 100)\\n\\n# Create a new figure\\nfig = plt.figure(figsize=(6.0, 4.0))  \\nax = fig.add_subplot(111)  \\n\\n# Plot the data\\nax.scatter(x0, x1, c='blue', s=6, label='Sample Data')  \\n\\n# Set labels\\nax.set_xlabel('X-axis')  \\nax.set_ylabel('Y-axis')  \\n\\n# Add a legend\\nax.legend()  \\n\\n# Show the plot\\nplt.show()\",\n",
       "  'category': 'Scatters',\n",
       "  'chart_size': [6.0, 4.0],\n",
       "  'max_stars_repo_path': 'Assignment1/Q4/q4.py',\n",
       "  'max_stars_repo_name': 'NavneelSinghal/COL774',\n",
       "  'max_stars_count': 0,\n",
       "  'id': '12310',\n",
       "  'text': 'import matplotlib\\nimport matplotlib.pyplot as plt\\nimport matplotlib.animation as animation\\nmatplotlib.use(\\'Agg\\')\\n\\nimport math\\nimport numpy as np\\nimport sys\\nfrom os.path import join, isfile\\n\\nimport warnings\\nwarnings.filterwarnings(\"ignore\")\\n\\ndef gda(x, y):\\n\\n    x = x.T\\n    y = y.T\\n\\n    # phi = P(y = 1)\\n    # mu[i] = mean of the feature vectors of the ith class\\n    # sigma = common co-variance matrix\\n    # M[i] = number of data points of class i\\n    phi, mu, sigma, M = 0, np.array([0., 0.]), 0, np.array([0, 0])\\n\\n    m = y.shape[0]\\n\\n    M[1] = np.sum(y)\\n    M[0] = m - M[1]\\n\\n    phi = M[1] / m\\n\\n    mu = np.array([np.sum(np.array([x[j] for j in range(m) if y[j] == i]), axis=0) / M[i] for i in range(2)])\\n\\n    sigma = np.sum(np.array([np.outer(x[i] - mu[y[i]], x[i] - mu[y[i]]) for i in range(m)]), axis=0).astype(float) / m\\n\\n    return phi, mu, sigma\\n\\ndef gda_general(x, y):\\n\\n    x = x.T\\n    y = y.T\\n\\n    # phi = P(y = 1)\\n    # mu[i] = mean of the feature vectors of the ith class\\n    # sigma[i] = co-variance matrix for the ith class\\n    # M[i] = number of data points of class i\\n    phi, mu, sigma, M = 0, np.array([0., 0.]), 0, np.array([0, 0])\\n\\n    m = y.shape[0]\\n\\n    M[1] = np.sum(y)\\n    M[0] = m - M[1]\\n\\n    phi = M[1] / m\\n\\n    mu = np.array([np.sum(np.array([x[j] for j in range(m) if y[j] == i]), axis=0) / M[i] for i in range(2)])\\n\\n    sigma = np.array([np.sum(np.array([np.outer(x[i] - mu[k], x[i] - mu[k]) for i in range(m) if y[i] == k]), axis=0) / M[k] for k in range(2)]).astype(float)\\n\\n    return phi, mu, sigma\\n\\ndef main():\\n\\n    # read command-line arguments\\n    data_dir = sys.argv[1]\\n    out_dir = sys.argv[2]\\n    part = sys.argv[3]\\n\\n    # check for existence of input files\\n    for c in [\\'x\\', \\'y\\']:\\n        if not isfile(join(data_dir, \\'q4\\' + c + \\'.dat\\')):\\n            raise Exception(\\'q4\\' + c + \\'.dat not found\\')\\n\\n    # read from csv file\\n    x = np.array(np.genfromtxt(join(data_dir, \\'q4x.dat\\'))).T\\n    y = np.array([0 if yi == \\'Alaska\\' else 1 for yi in np.loadtxt(join(data_dir, \\'q4y.dat\\'), dtype=str)])\\n\\n    # normalisation\\n    x_mean = np.array([0.0] * 2)\\n    x_stddev = np.array([0.0] * 2)\\n    for i in range(2):\\n        x_mean[i] = np.mean(x[i])\\n        x[i] -= np.full_like(x[i], np.mean(x[i]))\\n        x_stddev[i] = np.sqrt(np.sum(x[i] ** 2) / x[i].shape[0])\\n        x[i] /= np.sqrt(np.sum(x[i] ** 2) / x[i].shape[0])\\n\\n    # part A\\n\\n    # running GDA with common co-variance matrix\\n    phi, mu, sigma = gda(x, y)\\n\\n\\n    if part == \\'a\\':\\n        output_file = open(join(out_dir, \\'4aoutput.txt\\'), mode=\\'w\\')\\n        output_file.write(\\'phi = \\' + str(phi) + \\'\\\\n\\')\\n        output_file.write(\\'mu[0] = \\' + str(mu[0]) + \\'\\\\n\\')\\n        output_file.write(\\'mu[1] = \\' + str(mu[1]) + \\'\\\\n\\')\\n        output_file.write(\\'sigma = \\\\n\\' + str(sigma) + \\'\\\\n\\')\\n        output_file.close()\\n        print(\\'phi = \\' + str(phi))\\n        print(\\'mu[0] = \\' + str(mu[0]))\\n        print(\\'mu[1] = \\' + str(mu[1]))\\n        print(\\'sigma = \\\\n\\' + str(sigma))\\n        return 0\\n\\n    # part B, C\\n\\n    fig4b, ax4b = plt.subplots()\\n\\n    # filter by y-values\\n    x0, x1 = [], []\\n    for i in range(y.shape[0]):\\n        if y[i] == 0:\\n            x0.append([x[0][i], x[1][i]])\\n        else:\\n            x1.append([x[0][i], x[1][i]])\\n    x0 = np.array(x0).T\\n    x1 = np.array(x1).T\\n\\n    # plot classes\\n    alaska = ax4b.scatter(x0[0] * x_stddev[0] + x_mean[0], x0[1] * x_stddev[1] + x_mean[1], c=\\'red\\', s=6)\\n    canada = ax4b.scatter(x1[0] * x_stddev[0] + x_mean[0], x1[1] * x_stddev[1] + x_mean[1], c=\\'blue\\', s=6)\\n    ax4b.set_xlabel(\\'Fresh water ring dia.\\')\\n    ax4b.set_ylabel(\\'Marine water ring dia.\\')\\n    fig4b.legend((alaska, canada), (\\'Alaska\\', \\'Canada\\'))\\n    if part == \\'b\\':\\n        fig4b.savefig(join(out_dir, \\'1b_plot.png\\'))\\n        plt.show()\\n        return 0\\n\\n    # linear boundary computation - equation in report\\n    sigma_inverse = np.linalg.inv(sigma)\\n    theta = np.array([0., 0., 0.])\\n    theta[0] = np.log(phi / (1 - phi))\\n    for i in range(2):\\n        mui = np.array([mu[i]])\\n        theta[0] += ((-1) ** i) * np.matmul(np.matmul(mui, sigma_inverse), mui.T)\\n    theta[1:] = np.matmul(np.array([mu[1] - mu[0]]), sigma_inverse)\\n\\n    # plotting the boundary\\n    rx = np.arange(-3, 4)\\n    ry = (-theta[0] - theta[1] * rx) / theta[2]\\n    ax4b.plot(rx * x_stddev[0] + x_mean[0], ry * x_stddev[1] + x_mean[1])\\n    #plt.show()\\n\\n    if part == \\'c\\':\\n        fig4b.savefig(join(out_dir, \\'1c_plot.png\\'))\\n        plt.show()\\n        return 0\\n\\n    # part D\\n\\n    # running generalised GDA\\n    phi, mu, sigma = gda_general(x, y)\\n\\n    if part == \\'d\\':\\n        output_file = open(join(out_dir, \\'4doutput.txt\\'), mode=\\'w\\')\\n        output_file.write(\\'phi = \\' + str(phi) + \\'\\\\n\\')\\n        output_file.write(\\'mu[0] = \\' + str(mu[0]) + \\'\\\\n\\')\\n        output_file.write(\\'mu[1] = \\' + str(mu[1]) + \\'\\\\n\\')\\n        output_file.write(\\'sigma[0] = \\\\n\\' + str(sigma[0]) + \\'\\\\n\\')\\n        output_file.write(\\'sigma[1] = \\\\n\\' + str(sigma[1]) + \\'\\\\n\\')\\n        output_file.close()\\n        print(\\'phi = \\' + str(phi))\\n        print(\\'mu[0] = \\' + str(mu[0]))\\n        print(\\'mu[1] = \\' + str(mu[1]))\\n        print(\\'sigma[0] = \\\\n\\' + str(sigma[0]))\\n        print(\\'sigma[1] = \\\\n\\' + str(sigma[1]))\\n        return 0\\n\\n    # part E\\n\\n    # quadratic boundary computation - equation in report\\n    constant = np.log(phi / (1 - phi)) + np.log(np.linalg.det(sigma[0]) / np.linalg.det(sigma[1])) / 2\\n    linear = 0\\n    quadratic = 0\\n    for i in range(2):\\n        sigma_inverse = np.linalg.inv(sigma[i])\\n        mui = np.array([mu[i]])\\n        prod = np.matmul(mui, sigma_inverse)\\n        constant += ((-1) ** i) * np.matmul(prod, mui.T) / 2\\n        linear += ((-1) ** (i + 1)) * prod\\n        quadratic += ((-1) ** i) * sigma_inverse / 2\\n    constant = constant[0][0]\\n    linear = linear[0]\\n    # note that here x transposed is the feature vector (as x is a row vector)\\n    # and similarly mu[i] is also a row vector, which explains the equations above\\n    # equation is x * quadratic * x.T + linear * x.T + constant = 0\\n\\n    # plotting the quadratic boundary\\n    Z = 0\\n    X, Y = np.meshgrid(np.linspace(-4, 4, 100), np.linspace(-4, 4, 100))\\n    Z += quadratic[0, 0] * (X ** 2) + (quadratic[0, 1] + quadratic[1, 0]) * X * Y + (quadratic[1, 1]) * (Y ** 2)\\n    Z += linear[0] * X + linear[1] * Y\\n    Z += constant\\n    ax4b.contour(X * x_stddev[0] + x_mean[0], Y * x_stddev[1] + x_mean[1], Z, 0)\\n    if part == \\'e\\':\\n        fig4b.savefig(join(out_dir, \\'1e_plot.png\\'))\\n        plt.show()\\n\\n    # part F - in the report\\n\\n    return 0\\n\\nif __name__ == \\'__main__\\':\\n    main()\\n',\n",
       "  'formatted_text': \"```python\\nimport matplotlib.pyplot as plt  \\nimport numpy as np  \\n\\n# Sample data\\nx0 = np.random.normal(0, 1, 100)\\nx1 = np.random.normal(1, 1, 100)\\n\\n# Create a new figure\\nfig = plt.figure(figsize=(6.0, 4.0))  \\nax = fig.add_subplot(111)  \\n\\n# Plot the data\\nax.scatter(x0, x1, c='blue', s=6, label='Sample Data')  \\n\\n# Set labels\\nax.set_xlabel('X-axis')  \\nax.set_ylabel('Y-axis')  \\n\\n# Add a legend\\nax.legend()  \\n\\n# Show the plot\\nplt.show()\\n```\",\n",
       "  'source': 'v1',\n",
       "  'images': ['/mnt/lingjiejiang/multimodal_code/data/chart_data/github_images/images_split1/000006.jpg'],\n",
       "  'prompt': 'How can you create Python code with matplotlib to reproduce this image, and make sure to use figsize=(6, 4) to set the correct dimensions?',\n",
       "  'messages': [{'content': '<image>\\nHow can you create Python code with matplotlib to reproduce this image, and make sure to use figsize=(6, 4) to set the correct dimensions?\\n',\n",
       "    'role': 'user'},\n",
       "   {'content': \"```python\\nimport matplotlib.pyplot as plt  \\nimport numpy as np  \\n\\n# Sample data\\nx0 = np.random.normal(0, 1, 100)\\nx1 = np.random.normal(1, 1, 100)\\n\\n# Create a new figure\\nfig = plt.figure(figsize=(6.0, 4.0))  \\nax = fig.add_subplot(111)  \\n\\n# Plot the data\\nax.scatter(x0, x1, c='blue', s=6, label='Sample Data')  \\n\\n# Set labels\\nax.set_xlabel('X-axis')  \\nax.set_ylabel('Y-axis')  \\n\\n# Add a legend\\nax.legend()  \\n\\n# Show the plot\\nplt.show()\\n```\",\n",
       "    'role': 'assistant'}]}]"
      ]
     },
     "execution_count": 8,
     "metadata": {},
     "output_type": "execute_result"
    }
   ],
   "source": [
    "# len(data)\n",
    "data[:2]"
   ]
  },
  {
   "cell_type": "code",
   "execution_count": 1,
   "metadata": {},
   "outputs": [
    {
     "data": {
      "text/plain": [
       "52475"
      ]
     },
     "execution_count": 1,
     "metadata": {},
     "output_type": "execute_result"
    }
   ],
   "source": [
    "import json\n",
    "output_path = \"/mnt/lingjiejiang/multimodal_code/data/chart_data/revised_data_existing_images_52k_sharegpt_format.json\"    \n",
    "with open(output_path, 'r') as f:\n",
    "    data = json.load(f)\n",
    "len(data)"
   ]
  },
  {
   "cell_type": "code",
   "execution_count": 4,
   "metadata": {},
   "outputs": [
    {
     "data": {
      "image/png": "[encoded data removed]",
      "text/plain": [
       "<Figure size 1000x800 with 1 Axes>"
      ]
     },
     "metadata": {},
     "output_type": "display_data"
    }
   ],
   "source": [
    "import json  \n",
    "from collections import Counter  \n",
    "import matplotlib.pyplot as plt  \n",
    "  \n",
    "# 读取 JSON 数据  \n",
    "output_path = \"/mnt/lingjiejiang/multimodal_code/data/chart_data/revised_data_existing_images_52k_sharegpt_format.json\"  \n",
    "with open(output_path, 'r') as f:  \n",
    "    data = json.load(f)  \n",
    "  \n",
    "# 假设每个数据项中有一个 'category' 字段  \n",
    "# 过滤掉单词超过10个的类别  \n",
    "categories = [item['category'] for item in data if len(item['category'].split()) <= 10]  \n",
    "  \n",
    "# 统计每个类别的数量  \n",
    "category_counts = Counter(categories)  \n",
    "  \n",
    "# 将类别数量按从大到小排序  \n",
    "sorted_category_counts = category_counts.most_common()  \n",
    "  \n",
    "# 将结果写入文件  \n",
    "with open('category_counts.txt', 'w') as f:  \n",
    "    for category, count in sorted_category_counts:  \n",
    "        f.write(f\"{category}: {count}\\n\")  \n",
    "  \n",
    "# 绘制饼图  \n",
    "labels, sizes = zip(*sorted_category_counts)  \n",
    "plt.figure(figsize=(10, 8))  \n",
    "plt.pie(sizes, labels=labels, autopct='%1.1f%%', startangle=140)  \n",
    "plt.axis('equal')  # Equal aspect ratio ensures that pie is drawn as a circle.  \n",
    "plt.title('Category Distribution')  \n",
    "plt.show()  "
   ]
  },
  {
   "cell_type": "code",
   "execution_count": 7,
   "metadata": {},
   "outputs": [],
   "source": [
    "import json  \n",
    "import os  \n",
    "import shutil  \n",
    "from collections import defaultdict  \n",
    "import random  \n",
    "import re  \n",
    "  \n",
    "# 读取 JSON 数据  \n",
    "output_path = \"/mnt/lingjiejiang/multimodal_code/data/chart_data/revised_data_existing_images_52k_sharegpt_format.json\"  \n",
    "with open(output_path, 'r') as f:  \n",
    "    data = json.load(f)  \n",
    "  \n",
    "# 定义一个函数来检查类别名称是否合法  \n",
    "def is_valid_category(category):  \n",
    "    # 允许字母、数字、下划线和空格  \n",
    "    return bool(re.match(r'^[A-Za-z0-9_ ]+$', category))  \n",
    "  \n",
    "# 按类别分组数据，只包括合法的类别  \n",
    "category_dict = defaultdict(list)  \n",
    "for item in data:  \n",
    "    if is_valid_category(item['category']):  \n",
    "        category_dict[item['category']].append(item)  \n",
    "  \n",
    "# 创建目标目录并处理每个类别  \n",
    "for category, items in category_dict.items():  \n",
    "    # 随机抽取3个项目  \n",
    "    selected_items = random.sample(items, min(10, len(items)))  \n",
    "  \n",
    "    # 创建目录，如果不存在  \n",
    "    category_path = os.path.join('img_preview', category)  \n",
    "    os.makedirs(category_path, exist_ok=True)  \n",
    "  \n",
    "    for item in selected_items:  \n",
    "        # 获取图片路径和目标路径  \n",
    "        image_path = item['images'][0]  \n",
    "        image_name = os.path.basename(image_path)  \n",
    "        base_name, _ = os.path.splitext(image_name)  \n",
    "        py_file_name = f\"{base_name}.py\"  \n",
    "        target_image_path = os.path.join(category_path, image_name)  \n",
    "        target_py_path = os.path.join(category_path, py_file_name)  \n",
    "  \n",
    "        # 复制图片  \n",
    "        shutil.copy(image_path, target_image_path)  \n",
    "  \n",
    "        # 写入 formatted_text  \n",
    "        with open(target_py_path, 'w') as py_file:  \n",
    "            py_file.write(item['formatted_text'])  \n",
    "  "
   ]
  },
  {
   "cell_type": "code",
   "execution_count": 9,
   "metadata": {},
   "outputs": [],
   "source": [
    "import json  \n",
    "import os  \n",
    "import shutil  \n",
    "from collections import defaultdict  \n",
    "import random  \n",
    "import re  \n",
    "  \n",
    "# 读取 JSON 数据  \n",
    "output_path = \"/mnt/lingjiejiang/multimodal_code/data/chart_data/revised_data_existing_images_52k_sharegpt_format.json\"  \n",
    "with open(output_path, 'r') as f:  \n",
    "    data = json.load(f)  \n",
    "  \n",
    "# 定义合法类别的集合  \n",
    "valid_categories = {  \n",
    "    'Bar', 'Line', 'ErrorBar', 'Heatmap', 'Box', 'Scatters', 'Hist', 'Radar',   \n",
    "    '3D', 'Pie', 'ErrorPoint', 'Violin', 'Area', 'Contour', 'Density', 'Graph',   \n",
    "    'Quiver', 'Treemap', 'Combination', 'HR', 'Multidiff', 'PIP'  \n",
    "}  \n",
    "  \n",
    "# 定义一个函数来检查类别名称是否合法  \n",
    "def is_valid_category(category):  \n",
    "    return bool(re.match(r'^[A-Za-z0-9_ ]+$', category))  \n",
    "  \n",
    "# 收集所有符合条件的类别  \n",
    "all_categories = set()  \n",
    "category_dict = defaultdict(list)  \n",
    "  \n",
    "for item in data:  \n",
    "    category = item['category']  \n",
    "    if is_valid_category(category):  \n",
    "        all_categories.add(category)  \n",
    "        if category in valid_categories:  \n",
    "            category_dict[category].append(item)  \n",
    "  \n",
    "# 创建目标目录并处理每个类别  \n",
    "img_filter_path = 'img_filter'  \n",
    "os.makedirs(img_filter_path, exist_ok=True)  \n",
    "  \n",
    "for category, items in category_dict.items():  \n",
    "    # 随机抽取3个项目  \n",
    "    selected_items = random.sample(items, min(5, len(items)))  \n",
    "  \n",
    "    # 创建目录，如果不存在  \n",
    "    category_path = os.path.join(img_filter_path, category)  \n",
    "    os.makedirs(category_path, exist_ok=True)  \n",
    "  \n",
    "    for item in selected_items:  \n",
    "        # 获取图片路径和目标路径  \n",
    "        image_path = item['images'][0]  \n",
    "        image_name = os.path.basename(image_path)  \n",
    "        base_name, _ = os.path.splitext(image_name)  \n",
    "        py_file_name = f\"{base_name}.py\"  \n",
    "        target_image_path = os.path.join(category_path, image_name)  \n",
    "        target_py_path = os.path.join(category_path, py_file_name)  \n",
    "  \n",
    "        # 复制图片  \n",
    "        shutil.copy(image_path, target_image_path)  \n",
    "  \n",
    "        # 写入 formatted_text  \n",
    "        with open(target_py_path, 'w') as py_file:  \n",
    "            py_file.write(item['formatted_text'])  \n",
    "  \n",
    "# 记录未出现过的合法类别  \n",
    "unused_categories = valid_categories - all_categories  \n",
    "  \n",
    "with open('unused_categories.txt', 'w') as f:  \n",
    "    for category in unused_categories:  \n",
    "        f.write(f\"{category}\\n\")  "
   ]
  },
  {
   "cell_type": "code",
   "execution_count": 5,
   "metadata": {},
   "outputs": [
    {
     "data": {
      "text/plain": [
       "[{'index': 3,\n",
       "  'revised_text': \"import matplotlib.pyplot as plt  \\nimport numpy as np  \\nfrom matplotlib import cm  \\n\\n# Sample Hamiltonian matrix\\nH = np.array([[1, 2, 3, 4], [2, 5, 6, 7], [3, 6, 8, 9], [4, 7, 9, 10]])\\n\\n# Plot the absolute value of the Hamiltonian matrix\\nplt.figure(figsize=(6.0, 4.0))  \\nplt.matshow(abs(H), cmap=cm.jet, fignum=1)  \\nplt.title('Hamiltonian')  \\nplt.colorbar()  \\nplt.show()\",\n",
       "  'category': 'Heatmap',\n",
       "  'chart_size': [6.0, 4.0],\n",
       "  'max_stars_repo_path': 'cw_EPR.py',\n",
       "  'max_stars_repo_name': 'tkeller12/spin_physics',\n",
       "  'max_stars_count': 0,\n",
       "  'id': '2234',\n",
       "  'text': \"# <NAME>\\n# S = 1/2, I = 1/2\\n# Spin 1/2 electron coupled to spin 1/2 nuclei\\n\\nimport numpy as np\\nfrom scipy.linalg import expm\\nfrom matplotlib.pylab import *\\nfrom matplotlib import cm\\n\\nsigma_x = 0.5*np.r_[[[0, 1],[1, 0]]]\\nsigma_y = 0.5*np.r_[[[0,-1j],[1j, 0]]]\\nsigma_z = 0.5*np.r_[[[1, 0],[0, -1]]]\\nIdentity = np.eye(2)\\n\\n\\nSx = np.kron(sigma_x, Identity)\\nSy = np.kron(sigma_y, Identity)\\nSz = np.kron(sigma_z, Identity)\\n\\nIx = np.kron(Identity, sigma_x)\\nIy = np.kron(Identity, sigma_y)\\nIz = np.kron(Identity, sigma_z)\\n\\nSxIx = np.kron(sigma_x,sigma_z)\\n\\nSxIx2 = np.dot(Sx,Iz)\\n\\nprint(SxIx)\\nprint(SxIx2)\\nprint(np.allclose(SxIx,SxIx2))\\nomega_S = 1.76e11 # rad / (s * T)\\nomega_I = 267.522e6 # rad / (s * T)\\nAiso = 2*np.pi * 50.e6 # Isotropic Hyperfine coupling rad / s\\n\\nB0 = 0.35# T\\n\\nH = omega_S/(2.*np.pi)*B0*Sz + omega_I/(2.*np.pi)*B0*Iz + Aiso * np.dot(Sz,Iz)\\n#H = omega_S/(2.*np.pi)*B0*Sz + omega_I/(2.*np.pi)*B0*Iz + Aiso * (np.dot(Sx,Ix) + np.dot(Sy,Iy) + np.dot(Sz,Iz))\\n\\nprint('Hamiltonian:')\\nprint(H)\\nout = np.linalg.eig(H)\\n\\nE = out[0]\\nprint(E)\\n\\nE12 = E[0] - E[1]\\nE34 = E[2] - E[3]\\nE13 = E[0] - E[2]\\nE24 = E[1] - E[3]\\nprint(E12)\\nprint(E34)\\nprint(E13)\\nprint(E24)\\n\\nprint('Nuclear')\\nprint('%0.05f MHz'%(E12 / 1e6))\\nprint('%0.05f MHz'%(E34 / 1e6))\\nprint('Electron')\\nprint('%0.05f GHz'%(E13 / 1e9))\\nprint('%0.05f GHz'%(E24 / 1e9))\\n\\nmatshow(abs(H), cmap = cm.jet)\\ntitle('Hamiltonian')\\nshow()\\n\",\n",
       "  'formatted_text': \"```python\\nimport matplotlib.pyplot as plt  \\nimport numpy as np  \\nfrom matplotlib import cm  \\n\\n# Sample Hamiltonian matrix\\nH = np.array([[1, 2, 3, 4], [2, 5, 6, 7], [3, 6, 8, 9], [4, 7, 9, 10]])\\n\\n# Plot the absolute value of the Hamiltonian matrix\\nplt.figure(figsize=(6.0, 4.0))  \\nplt.matshow(abs(H), cmap=cm.jet, fignum=1)  \\nplt.title('Hamiltonian')  \\nplt.colorbar()  \\nplt.show()\\n```\",\n",
       "  'source': 'v1',\n",
       "  'images': ['/mnt/lingjiejiang/multimodal_code/data/chart_data/github_images/images_split1/000004.jpg'],\n",
       "  'prompt': 'Please script the equivalent matplotlib code in Python to reproduce the image, taking care to use figsize=(6, 4) to set the dimensions.',\n",
       "  'messages': [{'content': '<image>\\nPlease script the equivalent matplotlib code in Python to reproduce the image, taking care to use figsize=(6, 4) to set the dimensions.\\n',\n",
       "    'role': 'user'},\n",
       "   {'content': \"```python\\nimport matplotlib.pyplot as plt  \\nimport numpy as np  \\nfrom matplotlib import cm  \\n\\n# Sample Hamiltonian matrix\\nH = np.array([[1, 2, 3, 4], [2, 5, 6, 7], [3, 6, 8, 9], [4, 7, 9, 10]])\\n\\n# Plot the absolute value of the Hamiltonian matrix\\nplt.figure(figsize=(6.0, 4.0))  \\nplt.matshow(abs(H), cmap=cm.jet, fignum=1)  \\nplt.title('Hamiltonian')  \\nplt.colorbar()  \\nplt.show()\\n```\",\n",
       "    'role': 'assistant'}]},\n",
       " {'index': 5,\n",
       "  'revised_text': \"import matplotlib.pyplot as plt  \\nimport numpy as np  \\n\\n# Sample data\\nx0 = np.random.normal(0, 1, 100)\\nx1 = np.random.normal(1, 1, 100)\\n\\n# Create a new figure\\nfig = plt.figure(figsize=(6.0, 4.0))  \\nax = fig.add_subplot(111)  \\n\\n# Plot the data\\nax.scatter(x0, x1, c='blue', s=6, label='Sample Data')  \\n\\n# Set labels\\nax.set_xlabel('X-axis')  \\nax.set_ylabel('Y-axis')  \\n\\n# Add a legend\\nax.legend()  \\n\\n# Show the plot\\nplt.show()\",\n",
       "  'category': 'Scatters',\n",
       "  'chart_size': [6.0, 4.0],\n",
       "  'max_stars_repo_path': 'Assignment1/Q4/q4.py',\n",
       "  'max_stars_repo_name': 'NavneelSinghal/COL774',\n",
       "  'max_stars_count': 0,\n",
       "  'id': '12310',\n",
       "  'text': 'import matplotlib\\nimport matplotlib.pyplot as plt\\nimport matplotlib.animation as animation\\nmatplotlib.use(\\'Agg\\')\\n\\nimport math\\nimport numpy as np\\nimport sys\\nfrom os.path import join, isfile\\n\\nimport warnings\\nwarnings.filterwarnings(\"ignore\")\\n\\ndef gda(x, y):\\n\\n    x = x.T\\n    y = y.T\\n\\n    # phi = P(y = 1)\\n    # mu[i] = mean of the feature vectors of the ith class\\n    # sigma = common co-variance matrix\\n    # M[i] = number of data points of class i\\n    phi, mu, sigma, M = 0, np.array([0., 0.]), 0, np.array([0, 0])\\n\\n    m = y.shape[0]\\n\\n    M[1] = np.sum(y)\\n    M[0] = m - M[1]\\n\\n    phi = M[1] / m\\n\\n    mu = np.array([np.sum(np.array([x[j] for j in range(m) if y[j] == i]), axis=0) / M[i] for i in range(2)])\\n\\n    sigma = np.sum(np.array([np.outer(x[i] - mu[y[i]], x[i] - mu[y[i]]) for i in range(m)]), axis=0).astype(float) / m\\n\\n    return phi, mu, sigma\\n\\ndef gda_general(x, y):\\n\\n    x = x.T\\n    y = y.T\\n\\n    # phi = P(y = 1)\\n    # mu[i] = mean of the feature vectors of the ith class\\n    # sigma[i] = co-variance matrix for the ith class\\n    # M[i] = number of data points of class i\\n    phi, mu, sigma, M = 0, np.array([0., 0.]), 0, np.array([0, 0])\\n\\n    m = y.shape[0]\\n\\n    M[1] = np.sum(y)\\n    M[0] = m - M[1]\\n\\n    phi = M[1] / m\\n\\n    mu = np.array([np.sum(np.array([x[j] for j in range(m) if y[j] == i]), axis=0) / M[i] for i in range(2)])\\n\\n    sigma = np.array([np.sum(np.array([np.outer(x[i] - mu[k], x[i] - mu[k]) for i in range(m) if y[i] == k]), axis=0) / M[k] for k in range(2)]).astype(float)\\n\\n    return phi, mu, sigma\\n\\ndef main():\\n\\n    # read command-line arguments\\n    data_dir = sys.argv[1]\\n    out_dir = sys.argv[2]\\n    part = sys.argv[3]\\n\\n    # check for existence of input files\\n    for c in [\\'x\\', \\'y\\']:\\n        if not isfile(join(data_dir, \\'q4\\' + c + \\'.dat\\')):\\n            raise Exception(\\'q4\\' + c + \\'.dat not found\\')\\n\\n    # read from csv file\\n    x = np.array(np.genfromtxt(join(data_dir, \\'q4x.dat\\'))).T\\n    y = np.array([0 if yi == \\'Alaska\\' else 1 for yi in np.loadtxt(join(data_dir, \\'q4y.dat\\'), dtype=str)])\\n\\n    # normalisation\\n    x_mean = np.array([0.0] * 2)\\n    x_stddev = np.array([0.0] * 2)\\n    for i in range(2):\\n        x_mean[i] = np.mean(x[i])\\n        x[i] -= np.full_like(x[i], np.mean(x[i]))\\n        x_stddev[i] = np.sqrt(np.sum(x[i] ** 2) / x[i].shape[0])\\n        x[i] /= np.sqrt(np.sum(x[i] ** 2) / x[i].shape[0])\\n\\n    # part A\\n\\n    # running GDA with common co-variance matrix\\n    phi, mu, sigma = gda(x, y)\\n\\n\\n    if part == \\'a\\':\\n        output_file = open(join(out_dir, \\'4aoutput.txt\\'), mode=\\'w\\')\\n        output_file.write(\\'phi = \\' + str(phi) + \\'\\\\n\\')\\n        output_file.write(\\'mu[0] = \\' + str(mu[0]) + \\'\\\\n\\')\\n        output_file.write(\\'mu[1] = \\' + str(mu[1]) + \\'\\\\n\\')\\n        output_file.write(\\'sigma = \\\\n\\' + str(sigma) + \\'\\\\n\\')\\n        output_file.close()\\n        print(\\'phi = \\' + str(phi))\\n        print(\\'mu[0] = \\' + str(mu[0]))\\n        print(\\'mu[1] = \\' + str(mu[1]))\\n        print(\\'sigma = \\\\n\\' + str(sigma))\\n        return 0\\n\\n    # part B, C\\n\\n    fig4b, ax4b = plt.subplots()\\n\\n    # filter by y-values\\n    x0, x1 = [], []\\n    for i in range(y.shape[0]):\\n        if y[i] == 0:\\n            x0.append([x[0][i], x[1][i]])\\n        else:\\n            x1.append([x[0][i], x[1][i]])\\n    x0 = np.array(x0).T\\n    x1 = np.array(x1).T\\n\\n    # plot classes\\n    alaska = ax4b.scatter(x0[0] * x_stddev[0] + x_mean[0], x0[1] * x_stddev[1] + x_mean[1], c=\\'red\\', s=6)\\n    canada = ax4b.scatter(x1[0] * x_stddev[0] + x_mean[0], x1[1] * x_stddev[1] + x_mean[1], c=\\'blue\\', s=6)\\n    ax4b.set_xlabel(\\'Fresh water ring dia.\\')\\n    ax4b.set_ylabel(\\'Marine water ring dia.\\')\\n    fig4b.legend((alaska, canada), (\\'Alaska\\', \\'Canada\\'))\\n    if part == \\'b\\':\\n        fig4b.savefig(join(out_dir, \\'1b_plot.png\\'))\\n        plt.show()\\n        return 0\\n\\n    # linear boundary computation - equation in report\\n    sigma_inverse = np.linalg.inv(sigma)\\n    theta = np.array([0., 0., 0.])\\n    theta[0] = np.log(phi / (1 - phi))\\n    for i in range(2):\\n        mui = np.array([mu[i]])\\n        theta[0] += ((-1) ** i) * np.matmul(np.matmul(mui, sigma_inverse), mui.T)\\n    theta[1:] = np.matmul(np.array([mu[1] - mu[0]]), sigma_inverse)\\n\\n    # plotting the boundary\\n    rx = np.arange(-3, 4)\\n    ry = (-theta[0] - theta[1] * rx) / theta[2]\\n    ax4b.plot(rx * x_stddev[0] + x_mean[0], ry * x_stddev[1] + x_mean[1])\\n    #plt.show()\\n\\n    if part == \\'c\\':\\n        fig4b.savefig(join(out_dir, \\'1c_plot.png\\'))\\n        plt.show()\\n        return 0\\n\\n    # part D\\n\\n    # running generalised GDA\\n    phi, mu, sigma = gda_general(x, y)\\n\\n    if part == \\'d\\':\\n        output_file = open(join(out_dir, \\'4doutput.txt\\'), mode=\\'w\\')\\n        output_file.write(\\'phi = \\' + str(phi) + \\'\\\\n\\')\\n        output_file.write(\\'mu[0] = \\' + str(mu[0]) + \\'\\\\n\\')\\n        output_file.write(\\'mu[1] = \\' + str(mu[1]) + \\'\\\\n\\')\\n        output_file.write(\\'sigma[0] = \\\\n\\' + str(sigma[0]) + \\'\\\\n\\')\\n        output_file.write(\\'sigma[1] = \\\\n\\' + str(sigma[1]) + \\'\\\\n\\')\\n        output_file.close()\\n        print(\\'phi = \\' + str(phi))\\n        print(\\'mu[0] = \\' + str(mu[0]))\\n        print(\\'mu[1] = \\' + str(mu[1]))\\n        print(\\'sigma[0] = \\\\n\\' + str(sigma[0]))\\n        print(\\'sigma[1] = \\\\n\\' + str(sigma[1]))\\n        return 0\\n\\n    # part E\\n\\n    # quadratic boundary computation - equation in report\\n    constant = np.log(phi / (1 - phi)) + np.log(np.linalg.det(sigma[0]) / np.linalg.det(sigma[1])) / 2\\n    linear = 0\\n    quadratic = 0\\n    for i in range(2):\\n        sigma_inverse = np.linalg.inv(sigma[i])\\n        mui = np.array([mu[i]])\\n        prod = np.matmul(mui, sigma_inverse)\\n        constant += ((-1) ** i) * np.matmul(prod, mui.T) / 2\\n        linear += ((-1) ** (i + 1)) * prod\\n        quadratic += ((-1) ** i) * sigma_inverse / 2\\n    constant = constant[0][0]\\n    linear = linear[0]\\n    # note that here x transposed is the feature vector (as x is a row vector)\\n    # and similarly mu[i] is also a row vector, which explains the equations above\\n    # equation is x * quadratic * x.T + linear * x.T + constant = 0\\n\\n    # plotting the quadratic boundary\\n    Z = 0\\n    X, Y = np.meshgrid(np.linspace(-4, 4, 100), np.linspace(-4, 4, 100))\\n    Z += quadratic[0, 0] * (X ** 2) + (quadratic[0, 1] + quadratic[1, 0]) * X * Y + (quadratic[1, 1]) * (Y ** 2)\\n    Z += linear[0] * X + linear[1] * Y\\n    Z += constant\\n    ax4b.contour(X * x_stddev[0] + x_mean[0], Y * x_stddev[1] + x_mean[1], Z, 0)\\n    if part == \\'e\\':\\n        fig4b.savefig(join(out_dir, \\'1e_plot.png\\'))\\n        plt.show()\\n\\n    # part F - in the report\\n\\n    return 0\\n\\nif __name__ == \\'__main__\\':\\n    main()\\n',\n",
       "  'formatted_text': \"```python\\nimport matplotlib.pyplot as plt  \\nimport numpy as np  \\n\\n# Sample data\\nx0 = np.random.normal(0, 1, 100)\\nx1 = np.random.normal(1, 1, 100)\\n\\n# Create a new figure\\nfig = plt.figure(figsize=(6.0, 4.0))  \\nax = fig.add_subplot(111)  \\n\\n# Plot the data\\nax.scatter(x0, x1, c='blue', s=6, label='Sample Data')  \\n\\n# Set labels\\nax.set_xlabel('X-axis')  \\nax.set_ylabel('Y-axis')  \\n\\n# Add a legend\\nax.legend()  \\n\\n# Show the plot\\nplt.show()\\n```\",\n",
       "  'source': 'v1',\n",
       "  'images': ['/mnt/lingjiejiang/multimodal_code/data/chart_data/github_images/images_split1/000006.jpg'],\n",
       "  'prompt': 'How can you create Python code with matplotlib to reproduce this image, and make sure to use figsize=(6, 4) to set the correct dimensions?',\n",
       "  'messages': [{'content': '<image>\\nHow can you create Python code with matplotlib to reproduce this image, and make sure to use figsize=(6, 4) to set the correct dimensions?\\n',\n",
       "    'role': 'user'},\n",
       "   {'content': \"```python\\nimport matplotlib.pyplot as plt  \\nimport numpy as np  \\n\\n# Sample data\\nx0 = np.random.normal(0, 1, 100)\\nx1 = np.random.normal(1, 1, 100)\\n\\n# Create a new figure\\nfig = plt.figure(figsize=(6.0, 4.0))  \\nax = fig.add_subplot(111)  \\n\\n# Plot the data\\nax.scatter(x0, x1, c='blue', s=6, label='Sample Data')  \\n\\n# Set labels\\nax.set_xlabel('X-axis')  \\nax.set_ylabel('Y-axis')  \\n\\n# Add a legend\\nax.legend()  \\n\\n# Show the plot\\nplt.show()\\n```\",\n",
       "    'role': 'assistant'}]}]"
      ]
     },
     "execution_count": 5,
     "metadata": {},
     "output_type": "execute_result"
    }
   ],
   "source": [
    "import json  \n",
    "import os  \n",
    "import shutil  \n",
    "import re  \n",
    "  \n",
    "# 读取 JSON 数据  \n",
    "output_path = \"/mnt/lingjiejiang/multimodal_code/data/chart_data/revised_data_existing_images_52k_sharegpt_format.json\"  \n",
    "with open(output_path, 'r') as f:  \n",
    "    data = json.load(f)  \n",
    "  \n",
    "# 定义合法类别的集合  \n",
    "valid_categories = {  \n",
    "    'Bar', 'Line', 'ErrorBar', 'Heatmap', 'Box', 'Scatters', 'Hist', 'Radar',   \n",
    "    '3D', 'Pie', 'ErrorPoint', 'Violin', 'Area', 'Contour', 'Density', 'Graph',   \n",
    "    'Quiver', 'Treemap', 'Combination', 'HR', 'Multidiff', 'PIP'  \n",
    "}  \n",
    "  \n",
    "# 定义一个函数来检查类别名称是否合法  \n",
    "def is_valid_category(category):  \n",
    "    return bool(re.match(r'^[A-Za-z0-9_ ]+$', category))  \n",
    "  \n",
    "# 创建目标目录  \n",
    "img_filter_path = 'img_filter'  \n",
    "os.makedirs(img_filter_path, exist_ok=True)  \n",
    "  \n",
    "# 筛选和处理数据  \n",
    "for item in data:  \n",
    "    category = item['category']  \n",
    "    if is_valid_category(category) and category in valid_categories:  \n",
    "        # 创建目录，如果不存在  \n",
    "        category_path = os.path.join(img_filter_path, category)  \n",
    "        os.makedirs(category_path, exist_ok=True)  \n",
    "  \n",
    "        # 获取图片路径和目标路径  \n",
    "        image_path = item['images'][0]  \n",
    "        image_name = os.path.basename(image_path)  \n",
    "        base_name, _ = os.path.splitext(image_name)  \n",
    "        py_file_name = f\"{base_name}.py\"  \n",
    "        target_image_path = os.path.join(category_path, image_name)  \n",
    "        target_py_path = os.path.join(category_path, py_file_name)  \n",
    "  \n",
    "        # 复制图片  \n",
    "        shutil.copy(image_path, target_image_path)  \n",
    "  \n",
    "        # 写入 formatted_text  \n",
    "        with open(target_py_path, 'w') as py_file:  \n",
    "            py_file.write(item['formatted_text'])  "
   ]
  },
  {
   "cell_type": "code",
   "execution_count": 1,
   "metadata": {},
   "outputs": [
    {
     "name": "stdout",
     "output_type": "stream",
     "text": [
      "Filtered 52000 items from the dataset.\n"
     ]
    }
   ],
   "source": [
    "import json  \n",
    "import re  \n",
    "# 读取 JSON 数据  \n",
    "output_path = \"/mnt/lingjiejiang/multimodal_code/data/chart_data/revised_data_existing_images_52k_sharegpt_format.json\"  \n",
    "with open(output_path, 'r') as f:  \n",
    "    data = json.load(f)  \n",
    "  \n",
    "# 定义合法类别的集合  \n",
    "# valid_categories = {  \n",
    "#     'Bar', 'Line', 'ErrorBar', 'Heatmap', 'Box', 'Scatters', 'Hist', 'Radar',   \n",
    "#     '3D', 'Pie', 'ErrorPoint', 'Violin', 'Area', 'Contour', 'Density', 'Graph',   \n",
    "#     'Quiver', 'Treemap', 'Combination', 'HR', 'Multidiff', 'PIP'  \n",
    "# }  \n",
    "valid_categories = {  \n",
    "    'Bar', 'Line', 'ErrorBar', 'Heatmap', 'Box', 'Scatters', 'Hist', 'Radar',   \n",
    "    '3D', 'Pie', 'ErrorPoint', 'Violin', 'Area', 'Contour', 'Density', 'Graph',   \n",
    "    'Quiver', 'Treemap', 'Combination', 'Multidiff', 'PIP'  \n",
    "}  \n",
    "# 定义一个函数来检查类别名称是否合法  \n",
    "def is_valid_category(category):  \n",
    "    return bool(re.match(r'^[A-Za-z0-9_ ]+$', category))  \n",
    "  \n",
    "# 筛选出符合条件的项目  \n",
    "filtered_items = [  \n",
    "    item for item in data  \n",
    "    if is_valid_category(item['category']) and item['category'] in valid_categories  \n",
    "]  \n",
    "  \n",
    "# 现在，filtered_items 包含所有符合条件的项目  \n",
    "print(f\"Filtered {len(filtered_items)} items from the dataset.\")  "
   ]
  },
  {
   "cell_type": "code",
   "execution_count": 21,
   "metadata": {},
   "outputs": [
    {
     "name": "stdout",
     "output_type": "stream",
     "text": [
      "Filtered 122489 items from the dataset.\n"
     ]
    }
   ],
   "source": [
    "import json\n",
    "save_path = \"/mnt/lingjiejiang/multimodal_code/data/chart_data/revised_data_existing_images_123k.json\"\n",
    "with open(save_path, 'r') as f:\n",
    "    data = json.load(f)\n",
    "valid_categories = {  \n",
    "    'Bar', 'Line', 'ErrorBar', 'Heatmap', 'Box', 'Scatters', 'Hist', 'Radar',   \n",
    "    '3D', 'Pie', 'ErrorPoint', 'Violin', 'Area', 'Contour', 'Density', 'Graph',   \n",
    "    'Quiver', 'Treemap', 'Combination', 'Multidiff', 'PIP'  \n",
    "}  \n",
    "# 定义一个函数来检查类别名称是否合法  \n",
    "def is_valid_category(category):  \n",
    "    return bool(re.match(r'^[A-Za-z0-9_ ]+$', category))  \n",
    "  \n",
    "# 筛选出符合条件的项目  \n",
    "filtered_items = [  \n",
    "    item for item in data  \n",
    "    if is_valid_category(item['category']) and item['category'] in valid_categories  \n",
    "]  \n",
    "  \n",
    "# 现在，filtered_items 包含所有符合条件的项目  \n",
    "print(f\"Filtered {len(filtered_items)} items from the dataset.\")  "
   ]
  },
  {
   "cell_type": "code",
   "execution_count": 24,
   "metadata": {},
   "outputs": [
    {
     "data": {
      "text/plain": [
       "123715"
      ]
     },
     "execution_count": 24,
     "metadata": {},
     "output_type": "execute_result"
    }
   ],
   "source": [
    "len(data)"
   ]
  },
  {
   "cell_type": "code",
   "execution_count": 25,
   "metadata": {},
   "outputs": [
    {
     "data": {
      "text/plain": [
       "[{'index': 0,\n",
       "  'revised_text': \"import matplotlib.pyplot as plt  \\nimport numpy as np  \\n\\n# Sample data\\nnp.random.seed(0)\\nmatrix = np.random.rand(10, 10)\\n\\n# Create a new figure\\nplt.figure(figsize=(6, 12))\\n\\n# Plot the heatmap\\nplt.imshow(matrix, cmap='viridis', aspect='auto')\\n\\n# Set ticks\\nplt.xticks(np.arange(10))\\nplt.yticks(np.arange(10))\\n\\n# Show the plot\\nplt.show()\",\n",
       "  'category': 'Heatmap',\n",
       "  'chart_size': [6.0, 12.0],\n",
       "  'gpt_answer': \"<REVISED CODE BEGIN>  \\nimport matplotlib.pyplot as plt  \\nimport numpy as np  \\n\\n# Sample data\\nnp.random.seed(0)\\nmatrix = np.random.rand(10, 10)\\n\\n# Create a new figure\\nplt.figure(figsize=(6, 12))\\n\\n# Plot the heatmap\\nplt.imshow(matrix, cmap='viridis', aspect='auto')\\n\\n# Set ticks\\nplt.xticks(np.arange(10))\\nplt.yticks(np.arange(10))\\n\\n# Show the plot\\nplt.show()  \\n<REVISED CODE END>  \\n\\n<CATEGORY>: [Heatmap]  \\n<CHART SIZE>: (6, 12)  \",\n",
       "  'max_stars_repo_path': 'ml_datasets/utils.py',\n",
       "  'max_stars_repo_name': 'abkoesdw/ml-datasets',\n",
       "  'max_stars_count': 1,\n",
       "  'id': '2963',\n",
       "  'text': 'import matplotlib.pyplot as plt\\nimport matplotlib.gridspec as gridspec\\nimport sys\\nimport numpy as np\\nfrom matplotlib.colors import LinearSegmentedColormap\\nfrom matplotlib.colors import BoundaryNorm\\n\\n\\ndef plot_images(\\n    num_sample_perclass=10, x=None, y=None, labels=None, title=None, cmap=None\\n):\\n    grid_x = num_sample_perclass + 1\\n    grid_y = len(labels)\\n\\n    plt.figure(figsize=(grid_y, grid_x))\\n    gs1 = gridspec.GridSpec(grid_y, grid_x)\\n    gs1.update(wspace=0.025, hspace=0.05)\\n\\n    font = {\"family\": \"serif\", \"weight\": \"bold\"}\\n\\n    plt.suptitle(title)\\n    j = 0\\n    for i in range(grid_y):\\n        idxs = [0] + list(np.where(y == list(labels.keys())[i])[0][: grid_x - 1])\\n        label = labels[list(labels.keys())[i]]\\n\\n        for k, idx in enumerate(idxs):\\n            ax1 = plt.subplot(gs1[j])\\n\\n            if k == 0:\\n                ax1.text(0, 0.25, label, ha=\"right\", wrap=True, fontdict=font)\\n\\n            else:\\n                ax1.imshow(x[idx, ...], cmap=cmap)\\n\\n            plt.axis(\"off\")\\n            j += 1\\n\\n    plt.show()\\n\\n\\ndef plot_2D(x, y, title, axis=\"off\"):\\n    BLUE, ORANGE = \"#57B5E8\", \"#E69E00\"\\n    plt.figure(figsize=(8, 8))\\n    plt.scatter(\\n        x[:, 0],\\n        x[:, 1],\\n        s=18,\\n        facecolors=\"none\",\\n        edgecolors=np.array([BLUE, ORANGE])[y],\\n    )\\n    if axis == \"off\":\\n        plt.axis(\"off\")\\n    elif axis == \"on\":\\n        plt.xlabel(\"x_1\")\\n        plt.ylabel(\"x_2\")\\n    else:\\n        print(\"incorrect values for arg: axis (on or off only)\")\\n        sys.exit()\\n\\n    plt.title(title)\\n    plt.show()\\n\\n\\ndef plot_dna(df, label):\\n    matrix = df.values\\n    col_names = df.columns\\n    rows = np.arange(matrix.shape[0])\\n    cols = np.arange(matrix.shape[1])\\n    np.random.seed(3)\\n    np.random.shuffle(rows)\\n    np.random.shuffle(cols)\\n\\n    matrix = matrix[:, cols[:100]].T\\n    matrix = matrix[:, rows]\\n    col_names = col_names[cols[:100]]\\n    label = label[rows]\\n    mat_min = np.min(matrix)\\n    mat_max = np.max(matrix)\\n    mat_min = -np.max([np.abs(mat_min), mat_max])\\n    mat_max = np.max([np.abs(mat_min), mat_max])\\n    matrix = np.ma.masked_where(np.abs(matrix) <= 0.3, matrix)\\n\\n    plt.figure(figsize=(6, 12))\\n    cmap_list = [\"red\", \"darkred\", \"green\", \"lime\", \"lightgreen\"]\\n    cmap = LinearSegmentedColormap.from_list(\"Custom cmap\", cmap_list, len(cmap_list))\\n    cmap.set_bad(\"black\")\\n\\n    bounds = np.linspace(\\n        mat_min + 6, mat_max - 6, 5\\n    )  # np.arange(mat_min + 6, mat_max - 6, 0.1)\\n    idx = np.searchsorted(bounds, 0)\\n\\n    bounds = np.insert(bounds, idx, 0)\\n    norm = BoundaryNorm(bounds, cmap.N)\\n\\n    plt.imshow(matrix, cmap=cmap, norm=norm)\\n    plt.xticks(np.arange(len(label)))\\n    plt.yticks(np.arange(len(col_names)))\\n    ax = plt.gca()\\n    ax.set_xticklabels(label, rotation=90)\\n    ax.set_yticklabels(col_names)\\n    ax.yaxis.tick_right()\\n    ax.tick_params(axis=u\"both\", which=u\"both\", labelsize=5, length=0.0)\\n    plt.tight_layout()\\n    fig = plt.gcf()\\n    # fig.set_size_inches((6, 12), forward=False)\\n    # fig.savefig(\"img/dna.png\", dpi=200)\\n    plt.show()\\n',\n",
       "  'lang': 'python',\n",
       "  'formatted_text': \"```python\\nimport matplotlib.pyplot as plt  \\nimport numpy as np  \\n\\n# Sample data\\nnp.random.seed(0)\\nmatrix = np.random.rand(10, 10)\\n\\n# Create a new figure\\nplt.figure(figsize=(6, 12))\\n\\n# Plot the heatmap\\nplt.imshow(matrix, cmap='viridis', aspect='auto')\\n\\n# Set ticks\\nplt.xticks(np.arange(10))\\nplt.yticks(np.arange(10))\\n\\n# Show the plot\\nplt.show()\\n```\",\n",
       "  'source': 'v1',\n",
       "  'images': '/mnt/lingjiejiang/multimodal_code/data/chart_data/github_images/images_split1/000001.jpg'},\n",
       " {'index': 1,\n",
       "  'revised_text': \"import matplotlib.pyplot as plt  \\nimport numpy as np  \\n\\n# Sample data\\nx = np.linspace(0, 10, 100)\\ny = np.sin(x)\\n\\n# Create a new figure\\nfig = plt.figure(figsize=(10.0, 6.0))\\n\\n# Plot the data\\nplt.plot(x, y, label='Sine Wave')\\n\\n# Set labels\\nplt.xlabel('X')\\nplt.ylabel('Y')\\nplt.title('Sine Wave')\\n\\n# Add a legend\\nplt.legend()\\n\\n# Show the plot\\nplt.show()\",\n",
       "  'category': 'Line',\n",
       "  'chart_size': [10.0, 6.0],\n",
       "  'gpt_answer': \"<REVISED CODE BEGIN>  \\nimport matplotlib.pyplot as plt  \\nimport numpy as np  \\n\\n# Sample data\\nx = np.linspace(0, 10, 100)\\ny = np.sin(x)\\n\\n# Create a new figure\\nfig = plt.figure(figsize=(10.0, 6.0))\\n\\n# Plot the data\\nplt.plot(x, y, label='Sine Wave')\\n\\n# Set labels\\nplt.xlabel('X')\\nplt.ylabel('Y')\\nplt.title('Sine Wave')\\n\\n# Add a legend\\nplt.legend()\\n\\n# Show the plot\\nplt.show()  \\n<REVISED CODE END>  \\n\\n<CATEGORY>: [Line]  \\n<CHART SIZE>: (10.0, 6.0)  \",\n",
       "  'max_stars_repo_path': '05-Intro-to-SpaCy/scripts/choropleth.py',\n",
       "  'max_stars_repo_name': 'henchc/Rediscovering-Text-as-Data',\n",
       "  'max_stars_count': 15,\n",
       "  'id': '7338',\n",
       "  'text': 'def us_choropleth(t):\\n    import matplotlib.cm\\n    from matplotlib.patches import Polygon\\n    from matplotlib.collections import PatchCollection\\n    from matplotlib.colors import Normalize\\n    import shapefile\\n    import matplotlib.pyplot as plt\\n    from mpl_toolkits.basemap import Basemap\\n    import numpy as np\\n    import random\\n    import pandas as pd\\n    from collections import Counter\\n\\n    plt.title(\"NER\", fontsize=12)\\n\\n    us_locations_map = Basemap(\\n        resolution=\"l\",\\n        llcrnrlon=-128.94,\\n        llcrnrlat=23.52,\\n        urcrnrlon=-60.12,\\n        urcrnrlat=50.93,\\n        lat_0=37.26,\\n        lon_0=-94.53)\\n    us_locations_map.drawmapboundary(\\n        fill_color=\"#46bcec\")  # Fills in the oceans\\n    us_locations_map.fillcontinents(\\n        color=\"#eabc77\",\\n        lake_color=\"#46bcec\")  # Defines the continents\\n    us_locations_map.drawcoastlines()\\n\\n    fig = matplotlib.pyplot.gcf()\\n    fig.set_size_inches(15.5, 12.5)  # Sets the size of the map\\n\\n    # Converts the coordinates to map points\\n    lons, lats = us_locations_map(t[\"longitude\"], t[\"latitude\"])\\n    us_locations_map.scatter(\\n        lons,\\n        lats,\\n        color=\"black\",\\n        zorder=10)  # Draws the points on the map\\n\\n    # Labels each point with the location name\\n    for i in range(t.num_rows):\\n        lat_lon = (\\n            t.row(i).item(\"longitude\") + .2,\\n            t.row(i).item(\"latitude\") - .1)\\n        plt.annotate(np.array(t.row(i).item(\"name\")), lat_lon, fontsize=10)\\n\\n    # Here we are reading in a shape file, which places state boundary\\n    # information for our Basemap\\n    us_locations_map.readshapefile(\\n        \"data/us_shapefiles/cb_2016_us_state_20m\", \"us_states\")\\n\\n    state_names = []\\n    for shape_dict in us_locations_map.us_states_info:\\n        state_names.append(shape_dict[\\'NAME\\'])\\n\\n    ax = plt.gca()  # get current axes instance\\n    cmap = plt.get_cmap(\\'Reds\\')\\n\\n    names = []\\n    shapes = []\\n    counts = []\\n\\n    state_counts = Counter(t[\"state\"])\\n\\n    for index, state in enumerate(state_names):\\n        seg = us_locations_map.us_states[index]\\n        poly = Polygon(seg)\\n        names.append(state)\\n        shapes.append(poly)\\n        if state in t[\\'state\\']:\\n            counts.append(state_counts[state])\\n        else:\\n            counts.append(0)\\n\\n    # Loading our lists into the DataFrame\\n    shape_table = pd.DataFrame()\\n    shape_table[\"State Name\"] = np.array(names)\\n    shape_table[\"Shapes\"] = np.array(shapes)\\n    shape_table[\"Count\"] = np.array(counts)\\n\\n    pc = PatchCollection(shape_table[\"Shapes\"], zorder=2)\\n    norm = Normalize()\\n\\n    pc.set_facecolor(cmap(norm(shape_table[\\'Count\\'].fillna(0).values)))\\n    pc.set_edgecolor(\"black\")\\n    ax.add_collection(pc)\\n\\n    # Adds colorbar showing the scale\\n    mapper = matplotlib.cm.ScalarMappable(norm=norm, cmap=cmap)\\n    mapper.set_array(shape_table[\\'Count\\'])\\n    plt.colorbar(mapper, shrink=0.4)\\n',\n",
       "  'lang': 'python',\n",
       "  'formatted_text': \"```python\\nimport matplotlib.pyplot as plt  \\nimport numpy as np  \\n\\n# Sample data\\nx = np.linspace(0, 10, 100)\\ny = np.sin(x)\\n\\n# Create a new figure\\nfig = plt.figure(figsize=(10.0, 6.0))\\n\\n# Plot the data\\nplt.plot(x, y, label='Sine Wave')\\n\\n# Set labels\\nplt.xlabel('X')\\nplt.ylabel('Y')\\nplt.title('Sine Wave')\\n\\n# Add a legend\\nplt.legend()\\n\\n# Show the plot\\nplt.show()\\n```\",\n",
       "  'source': 'v1',\n",
       "  'images': '/mnt/lingjiejiang/multimodal_code/data/chart_data/github_images/images_split1/000002.jpg'}]"
      ]
     },
     "execution_count": 25,
     "metadata": {},
     "output_type": "execute_result"
    }
   ],
   "source": [
    "data[:2]"
   ]
  },
  {
   "cell_type": "code",
   "execution_count": 26,
   "metadata": {},
   "outputs": [],
   "source": [
    "import json  \n",
    "import re  \n",
    "  \n",
    "# 定义要检查的随机函数、wordcloud 调用和 misc 导入语句的正则表达式  \n",
    "random_patterns = re.compile(r'\\brandn\\b|\\brandom\\b|\\brand\\b')  \n",
    "wordcloud_patterns = re.compile(r'\\bwordcloud\\b', re.IGNORECASE)  \n",
    "misc_patterns = re.compile(r'\\bimport\\s+.*misc\\b|\\bfrom\\s+.*misc\\s+import\\b', re.IGNORECASE)  \n",
    "  \n",
    "  \n",
    "\n",
    "# 过滤掉包含随机函数调用、wordcloud 调用和 misc 导入的项  \n",
    "filtered_rand_data = [  \n",
    "    item for item in filtered_items  \n",
    "    if not random_patterns.search(item.get('revised_text', '') )  \n",
    "    and not wordcloud_patterns.search(item.get('revised_text', ''))  \n",
    "    and not misc_patterns.search(item.get('revised_text', '') )  \n",
    "] \n",
    "\n"
   ]
  },
  {
   "cell_type": "code",
   "execution_count": 32,
   "metadata": {},
   "outputs": [
    {
     "data": {
      "text/plain": [
       "75569"
      ]
     },
     "execution_count": 32,
     "metadata": {},
     "output_type": "execute_result"
    }
   ],
   "source": [
    "len(filtered_rand_data)"
   ]
  },
  {
   "cell_type": "code",
   "execution_count": 33,
   "metadata": {},
   "outputs": [
    {
     "data": {
      "text/plain": [
       "75569"
      ]
     },
     "execution_count": 33,
     "metadata": {},
     "output_type": "execute_result"
    }
   ],
   "source": [
    "categories_to_check = [  \n",
    "    \"Bar\", \"Line\", \"ErrorBar\", \"Heatmap\", \"Box\", \"Scatters\", \"Hist\", \"Radar\",  \n",
    "    \"3D\", \"Pie\", \"ErrorPoint\", \"Violin\", \"Area\", \"Contour\", \"Density\", \"Graph\",  \n",
    "    \"Quiver\", \"Treemap\", \"Combination\", \"HR\", \"Multidiff\", \"PIP\"  \n",
    "]  \n",
    "filter_data = []\n",
    "for item in filtered_rand_data:\n",
    "    if item[\"category\"] in valid_categories:\n",
    "        filter_data.append(item)\n",
    "len(filter_data)"
   ]
  },
  {
   "cell_type": "code",
   "execution_count": 37,
   "metadata": {},
   "outputs": [
    {
     "name": "stdout",
     "output_type": "stream",
     "text": [
      "统计结果已写入 category_statistics_all.txt\n"
     ]
    }
   ],
   "source": [
    "import json  \n",
    "from collections import Counter  \n",
    "  \n",
    "# # 示例数据  \n",
    "# data = [  \n",
    "#     {'category': 'Heatmap', 'id': '2234'},  \n",
    "#     {'category': 'Line', 'id': '2235'},  \n",
    "#     {'category': 'Bar', 'id': '2236'},  \n",
    "#     # 更多数据...  \n",
    "# ]  \n",
    "  \n",
    "# 需要检查的类别列表  \n",
    "categories_to_check = [  \n",
    "    \"Bar\", \"Line\", \"ErrorBar\", \"Heatmap\", \"Box\", \"Scatters\", \"Hist\", \"Radar\",  \n",
    "    \"3D\", \"Pie\", \"ErrorPoint\", \"Violin\", \"Area\", \"Contour\", \"Density\", \"Graph\",  \n",
    "    \"Quiver\", \"Treemap\", \"Combination\", \"HR\", \"Multidiff\", \"PIP\"  \n",
    "]  \n",
    "  \n",
    "# 统计每个类别的数量  \n",
    "category_counts = Counter(item['category'] for item in filter_data)  \n",
    "  \n",
    "# 找出没有出现的类别  \n",
    "categories_not_in_data = [category for category in categories_to_check if category not in category_counts]  \n",
    "  \n",
    "# 输出结果到文件  \n",
    "output_path = 'category_statistics_all.txt'  \n",
    "with open(output_path, 'w') as file:  \n",
    "    file.write(\"Category Counts:\\n\")  \n",
    "    for category, count in category_counts.items():  \n",
    "        file.write(f\"{category}: {count}\\n\")  \n",
    "    file.write(\"\\nCategories not in data:\\n\")  \n",
    "    for category in categories_not_in_data:  \n",
    "        file.write(f\"{category}\\n\")  \n",
    "  \n",
    "print(f\"统计结果已写入 {output_path}\")  "
   ]
  },
  {
   "cell_type": "code",
   "execution_count": 36,
   "metadata": {},
   "outputs": [],
   "source": [
    "with open(\"/mnt/lingjiejiang/multimodal_code/data/chart_data/revised_75k_filtered.json\", 'w') as f:\n",
    "    json.dump(filter_data, f, indent=0)"
   ]
  },
  {
   "cell_type": "code",
   "execution_count": 28,
   "metadata": {},
   "outputs": [],
   "source": [
    "# 定义匹配并替换 print 函数调用的正则表达式  \n",
    "print_patterns = re.compile(r'\\bprint\\s*\\(.*?\\)', re.IGNORECASE)  \n",
    "# 定义替换 print 函数调用的函数  \n",
    "def replace_print(text):  \n",
    "    return re.sub(print_patterns, 'REMOVED', text) \n",
    "\n",
    "for item in filtered_rand_data:\n",
    "    item['revised_text'] = replace_print(item['revised_text'])\n"
   ]
  },
  {
   "cell_type": "code",
   "execution_count": 9,
   "metadata": {},
   "outputs": [
    {
     "data": {
      "text/plain": [
       "30479"
      ]
     },
     "execution_count": 9,
     "metadata": {},
     "output_type": "execute_result"
    }
   ],
   "source": [
    "len(filtered_rand_data )"
   ]
  },
  {
   "cell_type": "code",
   "execution_count": 34,
   "metadata": {},
   "outputs": [
    {
     "data": {
      "text/plain": [
       "[{'index': 3,\n",
       "  'revised_text': \"import matplotlib.pyplot as plt  \\nimport numpy as np  \\nfrom matplotlib import cm  \\n\\n# Sample Hamiltonian matrix\\nH = np.array([[1, 2, 3, 4], [2, 5, 6, 7], [3, 6, 8, 9], [4, 7, 9, 10]])\\n\\n# Plot the absolute value of the Hamiltonian matrix\\nplt.figure(figsize=(6.0, 4.0))  \\nplt.matshow(abs(H), cmap=cm.jet, fignum=1)  \\nplt.title('Hamiltonian')  \\nplt.colorbar()  \\nplt.show()\",\n",
       "  'category': 'Heatmap',\n",
       "  'chart_size': [6.0, 4.0],\n",
       "  'max_stars_repo_path': 'cw_EPR.py',\n",
       "  'max_stars_repo_name': 'tkeller12/spin_physics',\n",
       "  'max_stars_count': 0,\n",
       "  'id': '2234',\n",
       "  'text': \"# <NAME>\\n# S = 1/2, I = 1/2\\n# Spin 1/2 electron coupled to spin 1/2 nuclei\\n\\nimport numpy as np\\nfrom scipy.linalg import expm\\nfrom matplotlib.pylab import *\\nfrom matplotlib import cm\\n\\nsigma_x = 0.5*np.r_[[[0, 1],[1, 0]]]\\nsigma_y = 0.5*np.r_[[[0,-1j],[1j, 0]]]\\nsigma_z = 0.5*np.r_[[[1, 0],[0, -1]]]\\nIdentity = np.eye(2)\\n\\n\\nSx = np.kron(sigma_x, Identity)\\nSy = np.kron(sigma_y, Identity)\\nSz = np.kron(sigma_z, Identity)\\n\\nIx = np.kron(Identity, sigma_x)\\nIy = np.kron(Identity, sigma_y)\\nIz = np.kron(Identity, sigma_z)\\n\\nSxIx = np.kron(sigma_x,sigma_z)\\n\\nSxIx2 = np.dot(Sx,Iz)\\n\\nprint(SxIx)\\nprint(SxIx2)\\nprint(np.allclose(SxIx,SxIx2))\\nomega_S = 1.76e11 # rad / (s * T)\\nomega_I = 267.522e6 # rad / (s * T)\\nAiso = 2*np.pi * 50.e6 # Isotropic Hyperfine coupling rad / s\\n\\nB0 = 0.35# T\\n\\nH = omega_S/(2.*np.pi)*B0*Sz + omega_I/(2.*np.pi)*B0*Iz + Aiso * np.dot(Sz,Iz)\\n#H = omega_S/(2.*np.pi)*B0*Sz + omega_I/(2.*np.pi)*B0*Iz + Aiso * (np.dot(Sx,Ix) + np.dot(Sy,Iy) + np.dot(Sz,Iz))\\n\\nprint('Hamiltonian:')\\nprint(H)\\nout = np.linalg.eig(H)\\n\\nE = out[0]\\nprint(E)\\n\\nE12 = E[0] - E[1]\\nE34 = E[2] - E[3]\\nE13 = E[0] - E[2]\\nE24 = E[1] - E[3]\\nprint(E12)\\nprint(E34)\\nprint(E13)\\nprint(E24)\\n\\nprint('Nuclear')\\nprint('%0.05f MHz'%(E12 / 1e6))\\nprint('%0.05f MHz'%(E34 / 1e6))\\nprint('Electron')\\nprint('%0.05f GHz'%(E13 / 1e9))\\nprint('%0.05f GHz'%(E24 / 1e9))\\n\\nmatshow(abs(H), cmap = cm.jet)\\ntitle('Hamiltonian')\\nshow()\\n\",\n",
       "  'formatted_text': \"```python\\nimport matplotlib.pyplot as plt  \\nimport numpy as np  \\nfrom matplotlib import cm  \\n\\n# Sample Hamiltonian matrix\\nH = np.array([[1, 2, 3, 4], [2, 5, 6, 7], [3, 6, 8, 9], [4, 7, 9, 10]])\\n\\n# Plot the absolute value of the Hamiltonian matrix\\nplt.figure(figsize=(6.0, 4.0))  \\nplt.matshow(abs(H), cmap=cm.jet, fignum=1)  \\nplt.title('Hamiltonian')  \\nplt.colorbar()  \\nplt.show()\\n```\",\n",
       "  'source': 'v1',\n",
       "  'images': ['/mnt/lingjiejiang/multimodal_code/data/chart_data/github_images/images_split1/000004.jpg'],\n",
       "  'prompt': 'Please script the equivalent matplotlib code in Python to reproduce the image, taking care to use figsize=(6, 4) to set the dimensions.',\n",
       "  'messages': [{'content': '<image>\\nPlease script the equivalent matplotlib code in Python to reproduce the image, taking care to use figsize=(6, 4) to set the dimensions.\\n',\n",
       "    'role': 'user'},\n",
       "   {'content': \"```python\\nimport matplotlib.pyplot as plt  \\nimport numpy as np  \\nfrom matplotlib import cm  \\n\\n# Sample Hamiltonian matrix\\nH = np.array([[1, 2, 3, 4], [2, 5, 6, 7], [3, 6, 8, 9], [4, 7, 9, 10]])\\n\\n# Plot the absolute value of the Hamiltonian matrix\\nplt.figure(figsize=(6.0, 4.0))  \\nplt.matshow(abs(H), cmap=cm.jet, fignum=1)  \\nplt.title('Hamiltonian')  \\nplt.colorbar()  \\nplt.show()\\n```\",\n",
       "    'role': 'assistant'}]},\n",
       " {'index': 7,\n",
       "  'revised_text': \"import matplotlib.pyplot as plt  \\nimport numpy as np  \\n\\n# Sample data  \\nx = np.linspace(0, 10, 100)  \\ny = np.sin(x)  \\n\\n# Create a new figure  \\nplt.figure(figsize=(6.0, 4.0))  \\n\\n# Plot the data  \\nplt.plot(x, y, label='Sine Wave')  \\n\\n# Set labels  \\nplt.xlabel('X-axis')  \\nplt.ylabel('Y-axis')  \\nplt.title('Sine Wave')  \\n\\n# Show the plot  \\nplt.show()\",\n",
       "  'category': 'Line',\n",
       "  'chart_size': [6.0, 4.0],\n",
       "  'max_stars_repo_path': 'talleres_inov_docente/figures/plot_helpers.py',\n",
       "  'max_stars_repo_name': 'jfcaballero/Tutorial-sobre-scikit-learn-abreviado',\n",
       "  'max_stars_count': 576,\n",
       "  'id': '5734',\n",
       "  'text': \"from matplotlib.colors import ListedColormap\\n\\ncm3 = ListedColormap(['#0000aa', '#ff2020', '#50ff50'])\\ncm2 = ListedColormap(['#0000aa', '#ff2020'])\\n\",\n",
       "  'formatted_text': \"```python\\nimport matplotlib.pyplot as plt  \\nimport numpy as np  \\n\\n# Sample data  \\nx = np.linspace(0, 10, 100)  \\ny = np.sin(x)  \\n\\n# Create a new figure  \\nplt.figure(figsize=(6.0, 4.0))  \\n\\n# Plot the data  \\nplt.plot(x, y, label='Sine Wave')  \\n\\n# Set labels  \\nplt.xlabel('X-axis')  \\nplt.ylabel('Y-axis')  \\nplt.title('Sine Wave')  \\n\\n# Show the plot  \\nplt.show()\\n```\",\n",
       "  'source': 'v1',\n",
       "  'images': ['/mnt/lingjiejiang/multimodal_code/data/chart_data/github_images/images_split1/000008.jpg'],\n",
       "  'prompt': 'You are an expert Python developer who specializes in writing matplotlib code based on a given picture. I found a very nice picture in a STEM paper, but there is no corresponding source code available. I need your help to generate the Python code that can reproduce the picture based on the picture I provide.\\\\nNote that it is necessary to use figsize=(6, 4) to set the image size to match the original size.\\\\nNow, please give me the matplotlib code that reproduces the picture below.',\n",
       "  'messages': [{'content': '<image>\\nYou are an expert Python developer who specializes in writing matplotlib code based on a given picture. I found a very nice picture in a STEM paper, but there is no corresponding source code available. I need your help to generate the Python code that can reproduce the picture based on the picture I provide.\\\\nNote that it is necessary to use figsize=(6, 4) to set the image size to match the original size.\\\\nNow, please give me the matplotlib code that reproduces the picture below.\\n',\n",
       "    'role': 'user'},\n",
       "   {'content': \"```python\\nimport matplotlib.pyplot as plt  \\nimport numpy as np  \\n\\n# Sample data  \\nx = np.linspace(0, 10, 100)  \\ny = np.sin(x)  \\n\\n# Create a new figure  \\nplt.figure(figsize=(6.0, 4.0))  \\n\\n# Plot the data  \\nplt.plot(x, y, label='Sine Wave')  \\n\\n# Set labels  \\nplt.xlabel('X-axis')  \\nplt.ylabel('Y-axis')  \\nplt.title('Sine Wave')  \\n\\n# Show the plot  \\nplt.show()\\n```\",\n",
       "    'role': 'assistant'}]}]"
      ]
     },
     "execution_count": 34,
     "metadata": {},
     "output_type": "execute_result"
    }
   ],
   "source": [
    "filtered_rand_data[:2]"
   ]
  },
  {
   "cell_type": "code",
   "execution_count": 12,
   "metadata": {},
   "outputs": [],
   "source": [
    "output_filter_path = \"/mnt/lingjiejiang/multimodal_code/data/chart_data/revised_30k_filtered.json\"\n",
    "with open(output_filter_path, 'w') as f:\n",
    "    json.dump(filtered_rand_data, f, indent=0)"
   ]
  },
  {
   "cell_type": "code",
   "execution_count": 14,
   "metadata": {},
   "outputs": [
    {
     "data": {
      "text/plain": [
       "[{'index': 3,\n",
       "  'revised_text': \"import matplotlib.pyplot as plt  \\nimport numpy as np  \\nfrom matplotlib import cm  \\n\\n# Sample Hamiltonian matrix\\nH = np.array([[1, 2, 3, 4], [2, 5, 6, 7], [3, 6, 8, 9], [4, 7, 9, 10]])\\n\\n# Plot the absolute value of the Hamiltonian matrix\\nplt.figure(figsize=(6.0, 4.0))  \\nplt.matshow(abs(H), cmap=cm.jet, fignum=1)  \\nplt.title('Hamiltonian')  \\nplt.colorbar()  \\nplt.show()\",\n",
       "  'category': 'Heatmap',\n",
       "  'chart_size': [6.0, 4.0],\n",
       "  'max_stars_repo_path': 'cw_EPR.py',\n",
       "  'max_stars_repo_name': 'tkeller12/spin_physics',\n",
       "  'max_stars_count': 0,\n",
       "  'id': '2234',\n",
       "  'text': \"# <NAME>\\n# S = 1/2, I = 1/2\\n# Spin 1/2 electron coupled to spin 1/2 nuclei\\n\\nimport numpy as np\\nfrom scipy.linalg import expm\\nfrom matplotlib.pylab import *\\nfrom matplotlib import cm\\n\\nsigma_x = 0.5*np.r_[[[0, 1],[1, 0]]]\\nsigma_y = 0.5*np.r_[[[0,-1j],[1j, 0]]]\\nsigma_z = 0.5*np.r_[[[1, 0],[0, -1]]]\\nIdentity = np.eye(2)\\n\\n\\nSx = np.kron(sigma_x, Identity)\\nSy = np.kron(sigma_y, Identity)\\nSz = np.kron(sigma_z, Identity)\\n\\nIx = np.kron(Identity, sigma_x)\\nIy = np.kron(Identity, sigma_y)\\nIz = np.kron(Identity, sigma_z)\\n\\nSxIx = np.kron(sigma_x,sigma_z)\\n\\nSxIx2 = np.dot(Sx,Iz)\\n\\nprint(SxIx)\\nprint(SxIx2)\\nprint(np.allclose(SxIx,SxIx2))\\nomega_S = 1.76e11 # rad / (s * T)\\nomega_I = 267.522e6 # rad / (s * T)\\nAiso = 2*np.pi * 50.e6 # Isotropic Hyperfine coupling rad / s\\n\\nB0 = 0.35# T\\n\\nH = omega_S/(2.*np.pi)*B0*Sz + omega_I/(2.*np.pi)*B0*Iz + Aiso * np.dot(Sz,Iz)\\n#H = omega_S/(2.*np.pi)*B0*Sz + omega_I/(2.*np.pi)*B0*Iz + Aiso * (np.dot(Sx,Ix) + np.dot(Sy,Iy) + np.dot(Sz,Iz))\\n\\nprint('Hamiltonian:')\\nprint(H)\\nout = np.linalg.eig(H)\\n\\nE = out[0]\\nprint(E)\\n\\nE12 = E[0] - E[1]\\nE34 = E[2] - E[3]\\nE13 = E[0] - E[2]\\nE24 = E[1] - E[3]\\nprint(E12)\\nprint(E34)\\nprint(E13)\\nprint(E24)\\n\\nprint('Nuclear')\\nprint('%0.05f MHz'%(E12 / 1e6))\\nprint('%0.05f MHz'%(E34 / 1e6))\\nprint('Electron')\\nprint('%0.05f GHz'%(E13 / 1e9))\\nprint('%0.05f GHz'%(E24 / 1e9))\\n\\nmatshow(abs(H), cmap = cm.jet)\\ntitle('Hamiltonian')\\nshow()\\n\",\n",
       "  'formatted_text': \"```python\\nimport matplotlib.pyplot as plt  \\nimport numpy as np  \\nfrom matplotlib import cm  \\n\\n# Sample Hamiltonian matrix\\nH = np.array([[1, 2, 3, 4], [2, 5, 6, 7], [3, 6, 8, 9], [4, 7, 9, 10]])\\n\\n# Plot the absolute value of the Hamiltonian matrix\\nplt.figure(figsize=(6.0, 4.0))  \\nplt.matshow(abs(H), cmap=cm.jet, fignum=1)  \\nplt.title('Hamiltonian')  \\nplt.colorbar()  \\nplt.show()\\n```\",\n",
       "  'source': 'v1',\n",
       "  'images': ['/mnt/lingjiejiang/multimodal_code/data/chart_data/github_images/images_split1/000004.jpg'],\n",
       "  'prompt': 'Please script the equivalent matplotlib code in Python to reproduce the image, taking care to use figsize=(6, 4) to set the dimensions.',\n",
       "  'messages': [{'content': '<image>\\nPlease script the equivalent matplotlib code in Python to reproduce the image, taking care to use figsize=(6, 4) to set the dimensions.\\n',\n",
       "    'role': 'user'},\n",
       "   {'content': \"```python\\nimport matplotlib.pyplot as plt  \\nimport numpy as np  \\nfrom matplotlib import cm  \\n\\n# Sample Hamiltonian matrix\\nH = np.array([[1, 2, 3, 4], [2, 5, 6, 7], [3, 6, 8, 9], [4, 7, 9, 10]])\\n\\n# Plot the absolute value of the Hamiltonian matrix\\nplt.figure(figsize=(6.0, 4.0))  \\nplt.matshow(abs(H), cmap=cm.jet, fignum=1)  \\nplt.title('Hamiltonian')  \\nplt.colorbar()  \\nplt.show()\\n```\",\n",
       "    'role': 'assistant'}]},\n",
       " {'index': 7,\n",
       "  'revised_text': \"import matplotlib.pyplot as plt  \\nimport numpy as np  \\n\\n# Sample data  \\nx = np.linspace(0, 10, 100)  \\ny = np.sin(x)  \\n\\n# Create a new figure  \\nplt.figure(figsize=(6.0, 4.0))  \\n\\n# Plot the data  \\nplt.plot(x, y, label='Sine Wave')  \\n\\n# Set labels  \\nplt.xlabel('X-axis')  \\nplt.ylabel('Y-axis')  \\nplt.title('Sine Wave')  \\n\\n# Show the plot  \\nplt.show()\",\n",
       "  'category': 'Line',\n",
       "  'chart_size': [6.0, 4.0],\n",
       "  'max_stars_repo_path': 'talleres_inov_docente/figures/plot_helpers.py',\n",
       "  'max_stars_repo_name': 'jfcaballero/Tutorial-sobre-scikit-learn-abreviado',\n",
       "  'max_stars_count': 576,\n",
       "  'id': '5734',\n",
       "  'text': \"from matplotlib.colors import ListedColormap\\n\\ncm3 = ListedColormap(['#0000aa', '#ff2020', '#50ff50'])\\ncm2 = ListedColormap(['#0000aa', '#ff2020'])\\n\",\n",
       "  'formatted_text': \"```python\\nimport matplotlib.pyplot as plt  \\nimport numpy as np  \\n\\n# Sample data  \\nx = np.linspace(0, 10, 100)  \\ny = np.sin(x)  \\n\\n# Create a new figure  \\nplt.figure(figsize=(6.0, 4.0))  \\n\\n# Plot the data  \\nplt.plot(x, y, label='Sine Wave')  \\n\\n# Set labels  \\nplt.xlabel('X-axis')  \\nplt.ylabel('Y-axis')  \\nplt.title('Sine Wave')  \\n\\n# Show the plot  \\nplt.show()\\n```\",\n",
       "  'source': 'v1',\n",
       "  'images': ['/mnt/lingjiejiang/multimodal_code/data/chart_data/github_images/images_split1/000008.jpg'],\n",
       "  'prompt': 'You are an expert Python developer who specializes in writing matplotlib code based on a given picture. I found a very nice picture in a STEM paper, but there is no corresponding source code available. I need your help to generate the Python code that can reproduce the picture based on the picture I provide.\\\\nNote that it is necessary to use figsize=(6, 4) to set the image size to match the original size.\\\\nNow, please give me the matplotlib code that reproduces the picture below.',\n",
       "  'messages': [{'content': '<image>\\nYou are an expert Python developer who specializes in writing matplotlib code based on a given picture. I found a very nice picture in a STEM paper, but there is no corresponding source code available. I need your help to generate the Python code that can reproduce the picture based on the picture I provide.\\\\nNote that it is necessary to use figsize=(6, 4) to set the image size to match the original size.\\\\nNow, please give me the matplotlib code that reproduces the picture below.\\n',\n",
       "    'role': 'user'},\n",
       "   {'content': \"```python\\nimport matplotlib.pyplot as plt  \\nimport numpy as np  \\n\\n# Sample data  \\nx = np.linspace(0, 10, 100)  \\ny = np.sin(x)  \\n\\n# Create a new figure  \\nplt.figure(figsize=(6.0, 4.0))  \\n\\n# Plot the data  \\nplt.plot(x, y, label='Sine Wave')  \\n\\n# Set labels  \\nplt.xlabel('X-axis')  \\nplt.ylabel('Y-axis')  \\nplt.title('Sine Wave')  \\n\\n# Show the plot  \\nplt.show()\\n```\",\n",
       "    'role': 'assistant'}]}]"
      ]
     },
     "execution_count": 14,
     "metadata": {},
     "output_type": "execute_result"
    }
   ],
   "source": []
  },
  {
   "cell_type": "code",
   "execution_count": 17,
   "metadata": {},
   "outputs": [
    {
     "name": "stdout",
     "output_type": "stream",
     "text": [
      "统计结果已写入 category_statistics.txt\n"
     ]
    }
   ],
   "source": [
    "import json  \n",
    "from collections import Counter  \n",
    "  \n",
    "# # 示例数据  \n",
    "# data = [  \n",
    "#     {'category': 'Heatmap', 'id': '2234'},  \n",
    "#     {'category': 'Line', 'id': '2235'},  \n",
    "#     {'category': 'Bar', 'id': '2236'},  \n",
    "#     # 更多数据...  \n",
    "# ]  \n",
    "  \n",
    "# 需要检查的类别列表  \n",
    "categories_to_check = [  \n",
    "    \"Bar\", \"Line\", \"ErrorBar\", \"Heatmap\", \"Box\", \"Scatters\", \"Hist\", \"Radar\",  \n",
    "    \"3D\", \"Pie\", \"ErrorPoint\", \"Violin\", \"Area\", \"Contour\", \"Density\", \"Graph\",  \n",
    "    \"Quiver\", \"Treemap\", \"Combination\", \"HR\", \"Multidiff\", \"PIP\"  \n",
    "]  \n",
    "  \n",
    "# 统计每个类别的数量  \n",
    "category_counts = Counter(item['category'] for item in data)  \n",
    "  \n",
    "# 找出没有出现的类别  \n",
    "categories_not_in_data = [category for category in categories_to_check if category not in category_counts]  \n",
    "  \n",
    "# 输出结果到文件  \n",
    "output_path = 'category_statistics.txt'  \n",
    "with open(output_path, 'w') as file:  \n",
    "    file.write(\"Category Counts:\\n\")  \n",
    "    for category, count in category_counts.items():  \n",
    "        file.write(f\"{category}: {count}\\n\")  \n",
    "    file.write(\"\\nCategories not in data:\\n\")  \n",
    "    for category in categories_not_in_data:  \n",
    "        file.write(f\"{category}\\n\")  \n",
    "  \n",
    "print(f\"统计结果已写入 {output_path}\")  "
   ]
  },
  {
   "cell_type": "code",
   "execution_count": 32,
   "metadata": {},
   "outputs": [],
   "source": [
    "import json  \n",
    "import os  \n",
    "import shutil  \n",
    "from collections import defaultdict  \n",
    "import random  \n",
    "import re  \n",
    "  \n",
    "# 读取 JSON 数据  \n",
    "# output_path = \"/mnt/lingjiejiang/multimodal_code/data/chart_data/revised_data_existing_images_52k_sharegpt_format.json\"  \n",
    "# with open(output_path, 'r') as f:  \n",
    "#     data = json.load(f)  \n",
    "  \n",
    "# 定义一个函数来检查类别名称是否合法  \n",
    "def is_valid_category(category):  \n",
    "    # 允许字母、数字、下划线和空格  \n",
    "    return bool(re.match(r'^[A-Za-z0-9_ ]+$', category))  \n",
    "  \n",
    "# 按类别分组数据，只包括合法的类别  \n",
    "category_dict = defaultdict(list)  \n",
    "for item in filtered_rand_data:  \n",
    "    if is_valid_category(item['category']):  \n",
    "        category_dict[item['category']].append(item)  \n",
    "  \n",
    "# 创建目标目录并处理每个类别  \n",
    "for category, items in category_dict.items():  \n",
    "    # 随机抽取3个项目  \n",
    "    selected_items = random.sample(items, min(10, len(items)))  \n",
    "  \n",
    "    # 创建目录，如果不存在  \n",
    "    category_path = \"img_preview_sample10\"\n",
    "    code_path = \"code_preview_sample10\"\n",
    "    os.makedirs(category_path, exist_ok=True)  \n",
    "    os.makedirs(code_path, exist_ok=True)    \n",
    "    for item in selected_items:  \n",
    "        # 获取图片路径和目标路径  \n",
    "        image_path = item['images'][0]  \n",
    "        image_name = os.path.basename(image_path)  \n",
    "        base_name, _ = os.path.splitext(image_name)  \n",
    "        py_file_name = f\"{base_name}.py\"  \n",
    "        target_image_path = os.path.join(category_path, image_name)  \n",
    "        target_py_path = os.path.join(code_path, py_file_name)  \n",
    "  \n",
    "        # 复制图片  \n",
    "        shutil.copy(image_path, target_image_path)  \n",
    "  \n",
    "        # 写入 formatted_text  \n",
    "        with open(target_py_path, 'w') as py_file:  \n",
    "            py_file.write(item['formatted_text'])  \n",
    "  "
   ]
  },
  {
   "cell_type": "code",
   "execution_count": 24,
   "metadata": {},
   "outputs": [
    {
     "data": {
      "text/plain": [
       "123715"
      ]
     },
     "execution_count": 24,
     "metadata": {},
     "output_type": "execute_result"
    }
   ],
   "source": [
    "len([item for item in data if item[\"prompt\"] != \"\"])"
   ]
  },
  {
   "cell_type": "code",
   "execution_count": 25,
   "metadata": {},
   "outputs": [
    {
     "data": {
      "text/plain": [
       "123715"
      ]
     },
     "execution_count": 25,
     "metadata": {},
     "output_type": "execute_result"
    }
   ],
   "source": [
    "len([item for item in data if item[\"formatted_text\"] != \"\"])"
   ]
  },
  {
   "cell_type": "markdown",
   "metadata": {},
   "source": [
    "### check wrap"
   ]
  },
  {
   "cell_type": "code",
   "execution_count": 21,
   "metadata": {},
   "outputs": [],
   "source": [
    "import re\n",
    "\n",
    "# 定义正则表达式来查找被 python 包裹的代码  \n",
    "pattern = re.compile(r\"```python(.*?)```\", re.DOTALL)  \n",
    "\n",
    "temp = []\n",
    "# 遍历数据并替换 revised_text 中被包裹的代码  \n",
    "for item in data:  \n",
    "    revised_text = item.get('revised_text', '')  \n",
    "    match = pattern.search(revised_text)  \n",
    "    if match:  \n",
    "\n",
    "        # 提取包裹的代码  \n",
    "        code_content = match.group(1)  \n",
    "        # 用提取的代码替换 revised_text  \n",
    "        temp.append([item[\"revised_text\"], code_content.strip()  ])\n",
    "        # print(\"here\")\n",
    "        # item['revised_text'] = code_content.strip()  \n"
   ]
  },
  {
   "cell_type": "code",
   "execution_count": 22,
   "metadata": {},
   "outputs": [
    {
     "data": {
      "text/plain": [
       "[]"
      ]
     },
     "execution_count": 22,
     "metadata": {},
     "output_type": "execute_result"
    }
   ],
   "source": [
    "temp"
   ]
  },
  {
   "cell_type": "code",
   "execution_count": null,
   "metadata": {},
   "outputs": [],
   "source": [
    "\n",
    "for idx, item in enumerate(data):\n",
    "    reviesd_text = item.get(\"revised_text\", \"\").strip()\n",
    "    formatted_text = f\"```python\\n{reviesd_text}\\n```\"\n",
    "    item[\"formatted_text\"] = formatted_text\n",
    "    item[\"index\"] = idx"
   ]
  },
  {
   "cell_type": "markdown",
   "metadata": {},
   "source": [
    "### Chart mimic filter"
   ]
  },
  {
   "cell_type": "code",
   "execution_count": 1,
   "metadata": {},
   "outputs": [
    {
     "name": "stdout",
     "output_type": "stream",
     "text": [
      "Files with random calls (excluding np.random.seed(0)):\n",
      "/home/v-lingjiang/project/ChartMimic/dataset/ori_500/scatter_17.py\n",
      "/home/v-lingjiang/project/ChartMimic/dataset/ori_500/CB_26.py\n",
      "/home/v-lingjiang/project/ChartMimic/dataset/ori_500/hist_14.py\n",
      "/home/v-lingjiang/project/ChartMimic/dataset/ori_500/graph_2.py\n",
      "/home/v-lingjiang/project/ChartMimic/dataset/ori_500/hist_1.py\n",
      "/home/v-lingjiang/project/ChartMimic/dataset/ori_500/hist_15.py\n",
      "/home/v-lingjiang/project/ChartMimic/dataset/ori_500/hist_11.py\n",
      "/home/v-lingjiang/project/ChartMimic/dataset/ori_500/CB_16.py\n",
      "/home/v-lingjiang/project/ChartMimic/dataset/ori_500/hist_17.py\n",
      "/home/v-lingjiang/project/ChartMimic/dataset/ori_500/violin_6.py\n",
      "/home/v-lingjiang/project/ChartMimic/dataset/ori_500/bar_44.py\n",
      "/home/v-lingjiang/project/ChartMimic/dataset/ori_500/bar_97.py\n",
      "/home/v-lingjiang/project/ChartMimic/dataset/ori_500/bar_98.py\n",
      "/home/v-lingjiang/project/ChartMimic/dataset/ori_500/violin_5.py\n",
      "/home/v-lingjiang/project/ChartMimic/dataset/ori_500/line_2.py\n",
      "/home/v-lingjiang/project/ChartMimic/dataset/ori_500/multidiff_14.py\n",
      "/home/v-lingjiang/project/ChartMimic/dataset/ori_500/line_41.py\n",
      "/home/v-lingjiang/project/ChartMimic/dataset/ori_500/multidiff_2.py\n",
      "/home/v-lingjiang/project/ChartMimic/dataset/ori_500/line_67.py\n",
      "/home/v-lingjiang/project/ChartMimic/dataset/ori_500/HR_20.py\n",
      "/home/v-lingjiang/project/ChartMimic/dataset/ori_500/box_8.py\n",
      "/home/v-lingjiang/project/ChartMimic/dataset/ori_500/box_5.py\n",
      "/home/v-lingjiang/project/ChartMimic/dataset/ori_500/box_16.py\n",
      "/home/v-lingjiang/project/ChartMimic/dataset/ori_500/heatmap_16.py\n",
      "/home/v-lingjiang/project/ChartMimic/dataset/ori_500/violin_9.py\n",
      "/home/v-lingjiang/project/ChartMimic/dataset/ori_500/density_3.py\n",
      "/home/v-lingjiang/project/ChartMimic/dataset/ori_500/CB_20.py\n",
      "/home/v-lingjiang/project/ChartMimic/dataset/ori_500/box_3.py\n",
      "/home/v-lingjiang/project/ChartMimic/dataset/ori_500/scatter_8.py\n",
      "/home/v-lingjiang/project/ChartMimic/dataset/ori_500/line_15.py\n",
      "/home/v-lingjiang/project/ChartMimic/dataset/ori_500/line_44.py\n",
      "/home/v-lingjiang/project/ChartMimic/dataset/ori_500/line_78.py\n",
      "/home/v-lingjiang/project/ChartMimic/dataset/ori_500/box_15.py\n",
      "/home/v-lingjiang/project/ChartMimic/dataset/ori_500/line_65.py\n",
      "/home/v-lingjiang/project/ChartMimic/dataset/ori_500/line_60.py\n",
      "/home/v-lingjiang/project/ChartMimic/dataset/ori_500/hist_4.py\n",
      "/home/v-lingjiang/project/ChartMimic/dataset/ori_500/errorbar_3.py\n",
      "/home/v-lingjiang/project/ChartMimic/dataset/ori_500/line_40.py\n",
      "/home/v-lingjiang/project/ChartMimic/dataset/ori_500/HR_22.py\n",
      "/home/v-lingjiang/project/ChartMimic/dataset/ori_500/radar_4.py\n",
      "/home/v-lingjiang/project/ChartMimic/dataset/ori_500/line_69.py\n",
      "/home/v-lingjiang/project/ChartMimic/dataset/ori_500/bar_69.py\n",
      "/home/v-lingjiang/project/ChartMimic/dataset/ori_500/bar_71.py\n",
      "/home/v-lingjiang/project/ChartMimic/dataset/ori_500/box_4.py\n",
      "/home/v-lingjiang/project/ChartMimic/dataset/ori_500/hist_13.py\n",
      "/home/v-lingjiang/project/ChartMimic/dataset/ori_500/box_17.py\n",
      "/home/v-lingjiang/project/ChartMimic/dataset/ori_500/CB_6.py\n",
      "/home/v-lingjiang/project/ChartMimic/dataset/ori_500/heatmap_17.py\n",
      "/home/v-lingjiang/project/ChartMimic/dataset/ori_500/hist_9.py\n",
      "/home/v-lingjiang/project/ChartMimic/dataset/ori_500/box_23.py\n",
      "/home/v-lingjiang/project/ChartMimic/dataset/ori_500/multidiff_8.py\n",
      "/home/v-lingjiang/project/ChartMimic/dataset/ori_500/hist_19.py\n",
      "/home/v-lingjiang/project/ChartMimic/dataset/ori_500/line_66.py\n",
      "/home/v-lingjiang/project/ChartMimic/dataset/ori_500/heatmap_30.py\n",
      "/home/v-lingjiang/project/ChartMimic/dataset/ori_500/errorpoint_8.py\n",
      "/home/v-lingjiang/project/ChartMimic/dataset/ori_500/PIP_7.py\n",
      "/home/v-lingjiang/project/ChartMimic/dataset/ori_500/scatter_24.py\n",
      "/home/v-lingjiang/project/ChartMimic/dataset/ori_500/CB_22.py\n",
      "/home/v-lingjiang/project/ChartMimic/dataset/ori_500/line_48.py\n",
      "/home/v-lingjiang/project/ChartMimic/dataset/ori_500/box_24.py\n",
      "/home/v-lingjiang/project/ChartMimic/dataset/ori_500/violin_8.py\n",
      "/home/v-lingjiang/project/ChartMimic/dataset/ori_500/line_61.py\n",
      "/home/v-lingjiang/project/ChartMimic/dataset/ori_500/line_74.py\n",
      "/home/v-lingjiang/project/ChartMimic/dataset/ori_500/bar_94.py\n",
      "/home/v-lingjiang/project/ChartMimic/dataset/ori_500/bar_100.py\n",
      "/home/v-lingjiang/project/ChartMimic/dataset/ori_500/violin_3.py\n",
      "/home/v-lingjiang/project/ChartMimic/dataset/ori_500/multidiff_19.py\n",
      "/home/v-lingjiang/project/ChartMimic/dataset/ori_500/line_75.py\n",
      "/home/v-lingjiang/project/ChartMimic/dataset/ori_500/line_77.py\n",
      "/home/v-lingjiang/project/ChartMimic/dataset/ori_500/heatmap_25.py\n",
      "/home/v-lingjiang/project/ChartMimic/dataset/ori_500/density_1.py\n",
      "/home/v-lingjiang/project/ChartMimic/dataset/ori_500/errorbar_12.py\n",
      "/home/v-lingjiang/project/ChartMimic/dataset/ori_500/hist_18.py\n",
      "/home/v-lingjiang/project/ChartMimic/dataset/ori_500/heatmap_3.py\n",
      "/home/v-lingjiang/project/ChartMimic/dataset/ori_500/PIP_10.py\n",
      "/home/v-lingjiang/project/ChartMimic/dataset/ori_500/hist_10.py\n",
      "/home/v-lingjiang/project/ChartMimic/dataset/ori_500/box_25.py\n",
      "/home/v-lingjiang/project/ChartMimic/dataset/ori_500/multidiff_6.py\n",
      "/home/v-lingjiang/project/ChartMimic/dataset/ori_500/PIP_8.py\n",
      "/home/v-lingjiang/project/ChartMimic/dataset/ori_500/errorpoint_9.py\n",
      "/home/v-lingjiang/project/ChartMimic/dataset/ori_500/line_20.py\n",
      "/home/v-lingjiang/project/ChartMimic/dataset/ori_500/violin_1.py\n",
      "/home/v-lingjiang/project/ChartMimic/dataset/ori_500/scatter_25.py\n",
      "/home/v-lingjiang/project/ChartMimic/dataset/ori_500/CB_11.py\n",
      "/home/v-lingjiang/project/ChartMimic/dataset/ori_500/line_68.py\n",
      "/home/v-lingjiang/project/ChartMimic/dataset/ori_500/multidiff_20.py\n",
      "/home/v-lingjiang/project/ChartMimic/dataset/ori_500/multidiff_16.py\n",
      "/home/v-lingjiang/project/ChartMimic/dataset/ori_500/HR_18.py\n",
      "/home/v-lingjiang/project/ChartMimic/dataset/ori_500/density_4.py\n",
      "/home/v-lingjiang/project/ChartMimic/dataset/ori_500/HR_7.py\n",
      "/home/v-lingjiang/project/ChartMimic/dataset/ori_500/CB_27.py\n",
      "/home/v-lingjiang/project/ChartMimic/dataset/ori_500/hist_20.py\n",
      "/home/v-lingjiang/project/ChartMimic/dataset/ori_500/bar_65.py\n",
      "/home/v-lingjiang/project/ChartMimic/dataset/ori_500/box_14.py\n",
      "/home/v-lingjiang/project/ChartMimic/dataset/ori_500/box_19.py\n",
      "/home/v-lingjiang/project/ChartMimic/dataset/ori_500/hist_12.py\n",
      "/home/v-lingjiang/project/ChartMimic/dataset/ori_500/line_63.py\n",
      "/home/v-lingjiang/project/ChartMimic/dataset/ori_500/heatmap_26.py\n",
      "/home/v-lingjiang/project/ChartMimic/dataset/ori_500/CB_28.py\n",
      "/home/v-lingjiang/project/ChartMimic/dataset/ori_500/bar_22.py\n",
      "/home/v-lingjiang/project/ChartMimic/dataset/ori_500/bar_88.py\n",
      "/home/v-lingjiang/project/ChartMimic/dataset/ori_500/PIP_9.py\n",
      "/home/v-lingjiang/project/ChartMimic/dataset/ori_500/line_70.py\n",
      "/home/v-lingjiang/project/ChartMimic/dataset/ori_500/CB_21.py\n",
      "/home/v-lingjiang/project/ChartMimic/dataset/ori_500/violin_10.py\n",
      "/home/v-lingjiang/project/ChartMimic/dataset/ori_500/box_9.py\n",
      "/home/v-lingjiang/project/ChartMimic/dataset/ori_500/box_18.py\n",
      "/home/v-lingjiang/project/ChartMimic/dataset/ori_500/bar_66.py\n",
      "/home/v-lingjiang/project/ChartMimic/dataset/ori_500/heatmap_9.py\n",
      "/home/v-lingjiang/project/ChartMimic/dataset/ori_500/multidiff_3.py\n",
      "/home/v-lingjiang/project/ChartMimic/dataset/ori_500/density_5.py\n",
      "/home/v-lingjiang/project/ChartMimic/dataset/ori_500/multidiff_9.py\n",
      "/home/v-lingjiang/project/ChartMimic/dataset/ori_500/bar_73.py\n",
      "/home/v-lingjiang/project/ChartMimic/dataset/ori_500/bar_34.py\n",
      "/home/v-lingjiang/project/ChartMimic/dataset/ori_500/box_22.py\n",
      "/home/v-lingjiang/project/ChartMimic/dataset/ori_500/box_10.py\n",
      "/home/v-lingjiang/project/ChartMimic/dataset/ori_500/hist_5.py\n",
      "/home/v-lingjiang/project/ChartMimic/dataset/ori_500/line_79.py\n",
      "/home/v-lingjiang/project/ChartMimic/dataset/ori_500/multidiff_18.py\n",
      "/home/v-lingjiang/project/ChartMimic/dataset/ori_500/HR_3.py\n",
      "/home/v-lingjiang/project/ChartMimic/dataset/ori_500/bar_59.py\n",
      "/home/v-lingjiang/project/ChartMimic/dataset/ori_500/CB_1.py\n",
      "/home/v-lingjiang/project/ChartMimic/dataset/ori_500/PIP_1.py\n",
      "/home/v-lingjiang/project/ChartMimic/dataset/ori_500/CB_5.py\n",
      "/home/v-lingjiang/project/ChartMimic/dataset/ori_500/HR_8.py\n",
      "/home/v-lingjiang/project/ChartMimic/dataset/ori_500/line_53.py\n",
      "/home/v-lingjiang/project/ChartMimic/dataset/ori_500/line_58.py\n",
      "/home/v-lingjiang/project/ChartMimic/dataset/ori_500/box_6.py\n",
      "/home/v-lingjiang/project/ChartMimic/dataset/ori_500/multidiff_23.py\n",
      "/home/v-lingjiang/project/ChartMimic/dataset/ori_500/box_1.py\n",
      "/home/v-lingjiang/project/ChartMimic/dataset/ori_500/violin_2.py\n",
      "/home/v-lingjiang/project/ChartMimic/dataset/ori_500/bar_64.py\n",
      "/home/v-lingjiang/project/ChartMimic/dataset/ori_500/heatmap_4.py\n",
      "/home/v-lingjiang/project/ChartMimic/dataset/ori_500/multidiff_13.py\n",
      "/home/v-lingjiang/project/ChartMimic/dataset/ori_500/line_50.py\n",
      "/home/v-lingjiang/project/ChartMimic/dataset/ori_500/box_21.py\n",
      "/home/v-lingjiang/project/ChartMimic/dataset/ori_500/CB_10.py\n",
      "/home/v-lingjiang/project/ChartMimic/dataset/ori_500/multidiff_22.py\n",
      "/home/v-lingjiang/project/ChartMimic/dataset/ori_500/hist_6.py\n",
      "/home/v-lingjiang/project/ChartMimic/dataset/ori_500/box_20.py\n",
      "/home/v-lingjiang/project/ChartMimic/dataset/ori_500/line_59.py\n",
      "/home/v-lingjiang/project/ChartMimic/dataset/ori_500/errorpoint_1.py\n",
      "/home/v-lingjiang/project/ChartMimic/dataset/ori_500/heatmap_27.py\n",
      "/home/v-lingjiang/project/ChartMimic/dataset/ori_500/scatter_21.py\n",
      "/home/v-lingjiang/project/ChartMimic/dataset/ori_500/bar_76.py\n",
      "/home/v-lingjiang/project/ChartMimic/dataset/ori_500/box_13.py\n",
      "/home/v-lingjiang/project/ChartMimic/dataset/ori_500/errorbar_24.py\n",
      "/home/v-lingjiang/project/ChartMimic/dataset/ori_500/CB_12.py\n",
      "/home/v-lingjiang/project/ChartMimic/dataset/ori_500/box_2.py\n",
      "/home/v-lingjiang/project/ChartMimic/dataset/ori_500/CB_3.py\n",
      "/home/v-lingjiang/project/ChartMimic/dataset/ori_500/multidiff_10.py\n",
      "/home/v-lingjiang/project/ChartMimic/dataset/ori_500/HR_9.py\n",
      "/home/v-lingjiang/project/ChartMimic/dataset/ori_500/heatmap_14.py\n",
      "/home/v-lingjiang/project/ChartMimic/dataset/ori_500/violin_7.py\n",
      "/home/v-lingjiang/project/ChartMimic/dataset/ori_500/CB_14.py\n",
      "/home/v-lingjiang/project/ChartMimic/dataset/ori_500/heatmap_18.py\n",
      "/home/v-lingjiang/project/ChartMimic/dataset/ori_500/line_31.py\n",
      "/home/v-lingjiang/project/ChartMimic/dataset/ori_500/errorbar_20.py\n",
      "/home/v-lingjiang/project/ChartMimic/dataset/ori_500/hist_16.py\n",
      "/home/v-lingjiang/project/ChartMimic/dataset/ori_500/hist_2.py\n",
      "/home/v-lingjiang/project/ChartMimic/dataset/ori_500/hist_3.py\n",
      "/home/v-lingjiang/project/ChartMimic/dataset/ori_500/errorpoint_10.py\n",
      "/home/v-lingjiang/project/ChartMimic/dataset/ori_500/scatter_20.py\n",
      "/home/v-lingjiang/project/ChartMimic/dataset/ori_500/errorbar_16.py\n",
      "/home/v-lingjiang/project/ChartMimic/dataset/ori_500/multidiff_21.py\n",
      "/home/v-lingjiang/project/ChartMimic/dataset/ori_500/CB_24.py\n",
      "/home/v-lingjiang/project/ChartMimic/dataset/ori_500/CB_8.py\n",
      "/home/v-lingjiang/project/ChartMimic/dataset/ori_500/box_7.py\n",
      "/home/v-lingjiang/project/ChartMimic/dataset/ori_500/violin_4.py\n",
      "/home/v-lingjiang/project/ChartMimic/dataset/ori_500/HR_17.py\n",
      "/home/v-lingjiang/project/ChartMimic/dataset/ori_500/scatter_6.py\n"
     ]
    }
   ],
   "source": [
    "import os  \n",
    "import ast  \n",
    "  \n",
    "def find_random_calls_in_file(file_path):  \n",
    "    with open(file_path, 'r', encoding='utf-8') as file:  \n",
    "        node = ast.parse(file.read(), filename=file_path)  \n",
    "        for n in ast.walk(node):  \n",
    "            if isinstance(n, ast.Call) and isinstance(n.func, ast.Attribute):  \n",
    "                # Check if the function call is related to random  \n",
    "                func_parts = []  \n",
    "                current = n.func  \n",
    "                while isinstance(current, ast.Attribute):  \n",
    "                    func_parts.append(current.attr)  \n",
    "                    current = current.value  \n",
    "                if isinstance(current, ast.Name):  \n",
    "                    func_parts.append(current.id)  \n",
    "                  \n",
    "                # Reverse to get the correct order  \n",
    "                func_name = '.'.join(reversed(func_parts))  \n",
    "  \n",
    "                # Check if it's a random function call and not np.random.seed(0)  \n",
    "                if func_name.startswith('random') or (func_name.startswith('np.random') and func_name != 'np.random.seed'):  \n",
    "                    return True  \n",
    "    return False  \n",
    "  \n",
    "def find_files_with_random_calls(directory):  \n",
    "    random_files = []  \n",
    "    for root, _, files in os.walk(directory):  \n",
    "        for file in files:  \n",
    "            if file.endswith('.py'):  \n",
    "                file_path = os.path.join(root, file)  \n",
    "                if find_random_calls_in_file(file_path):  \n",
    "                    random_files.append(file_path)  \n",
    "    return random_files  \n",
    "  \n",
    "# Specify the directory  \n",
    "directory = '/home/v-lingjiang/project/ChartMimic/dataset/ori_500'  \n",
    "random_files = find_files_with_random_calls(directory)  \n",
    "  \n",
    "print(\"Files with random calls (excluding np.random.seed(0)):\")  \n",
    "for file in random_files:  \n",
    "    print(file)  "
   ]
  },
  {
   "cell_type": "code",
   "execution_count": 3,
   "metadata": {},
   "outputs": [
    {
     "name": "stdout",
     "output_type": "stream",
     "text": [
      "Files with imshow calls:\n",
      "/home/v-lingjiang/project/ChartMimic/dataset/ori_500/heatmap_2.py\n",
      "/home/v-lingjiang/project/ChartMimic/dataset/ori_500/heatmap_16.py\n",
      "/home/v-lingjiang/project/ChartMimic/dataset/ori_500/multidiff_25.py\n",
      "/home/v-lingjiang/project/ChartMimic/dataset/ori_500/heatmap_17.py\n",
      "/home/v-lingjiang/project/ChartMimic/dataset/ori_500/HR_6.py\n",
      "/home/v-lingjiang/project/ChartMimic/dataset/ori_500/heatmap_23.py\n",
      "/home/v-lingjiang/project/ChartMimic/dataset/ori_500/heatmap_25.py\n",
      "/home/v-lingjiang/project/ChartMimic/dataset/ori_500/multidiff_7.py\n",
      "/home/v-lingjiang/project/ChartMimic/dataset/ori_500/heatmap_26.py\n",
      "/home/v-lingjiang/project/ChartMimic/dataset/ori_500/heatmap_28.py\n",
      "/home/v-lingjiang/project/ChartMimic/dataset/ori_500/heatmap_9.py\n",
      "/home/v-lingjiang/project/ChartMimic/dataset/ori_500/heatmap_22.py\n",
      "/home/v-lingjiang/project/ChartMimic/dataset/ori_500/multidiff_15.py\n",
      "/home/v-lingjiang/project/ChartMimic/dataset/ori_500/heatmap_4.py\n",
      "/home/v-lingjiang/project/ChartMimic/dataset/ori_500/multidiff_13.py\n",
      "/home/v-lingjiang/project/ChartMimic/dataset/ori_500/heatmap_24.py\n",
      "/home/v-lingjiang/project/ChartMimic/dataset/ori_500/heatmap_6.py\n",
      "/home/v-lingjiang/project/ChartMimic/dataset/ori_500/multidiff_10.py\n",
      "/home/v-lingjiang/project/ChartMimic/dataset/ori_500/heatmap_20.py\n",
      "/home/v-lingjiang/project/ChartMimic/dataset/ori_500/heatmap_18.py\n",
      "/home/v-lingjiang/project/ChartMimic/dataset/ori_500/heatmap_29.py\n",
      "/home/v-lingjiang/project/ChartMimic/dataset/ori_500/heatmap_12.py\n",
      "/home/v-lingjiang/project/ChartMimic/dataset/ori_500/heatmap_5.py\n",
      "/home/v-lingjiang/project/ChartMimic/dataset/ori_500/multidiff_11.py\n"
     ]
    }
   ],
   "source": [
    "import os  \n",
    "import ast  \n",
    "  \n",
    "def find_imshow_calls_in_file(file_path):  \n",
    "    with open(file_path, 'r', encoding='utf-8') as file:  \n",
    "        try:  \n",
    "            node = ast.parse(file.read(), filename=file_path)  \n",
    "            for n in ast.walk(node):  \n",
    "                if isinstance(n, ast.Call) and isinstance(n.func, ast.Attribute):  \n",
    "                    # Check if the function call is imshow  \n",
    "                    func_parts = []  \n",
    "                    current = n.func  \n",
    "                    while isinstance(current, ast.Attribute):  \n",
    "                        func_parts.append(current.attr)  \n",
    "                        current = current.value  \n",
    "                    if isinstance(current, ast.Name):  \n",
    "                        func_parts.append(current.id)  \n",
    "                      \n",
    "                    # Reverse to get the correct order  \n",
    "                    func_name = '.'.join(reversed(func_parts))  \n",
    "  \n",
    "                    # Check if it's an imshow call  \n",
    "                    if func_name.endswith('imshow'):  \n",
    "                        return True  \n",
    "        except SyntaxError:  \n",
    "            # If there's a syntax error in the file, skip it  \n",
    "            pass  \n",
    "    return False  \n",
    "  \n",
    "def find_files_with_imshow_calls(directory):  \n",
    "    imshow_files = []  \n",
    "    for root, _, files in os.walk(directory):  \n",
    "        for file in files:  \n",
    "            if file.endswith('.py'):  \n",
    "                file_path = os.path.join(root, file)  \n",
    "                if find_imshow_calls_in_file(file_path):  \n",
    "                    imshow_files.append(file_path)  \n",
    "    return imshow_files  \n",
    "  \n",
    "# Specify the directory  \n",
    "directory = '/home/v-lingjiang/project/ChartMimic/dataset/ori_500'  \n",
    "imshow_files = find_files_with_imshow_calls(directory)  \n",
    "  \n",
    "print(\"Files with imshow calls:\")  \n",
    "for file in imshow_files:  \n",
    "    print(file)  "
   ]
  },
  {
   "cell_type": "markdown",
   "metadata": {},
   "source": [
    "## seaborn check"
   ]
  },
  {
   "cell_type": "code",
   "execution_count": 13,
   "metadata": {},
   "outputs": [
    {
     "name": "stdout",
     "output_type": "stream",
     "text": [
      "Files with seaborn imports:\n"
     ]
    }
   ],
   "source": [
    "import os  \n",
    "import ast  \n",
    "  \n",
    "def find_seaborn_import_in_file(file_path):  \n",
    "    with open(file_path, 'r', encoding='utf-8') as file:  \n",
    "        try:  \n",
    "            node = ast.parse(file.read(), filename=file_path)  \n",
    "            for n in ast.walk(node):  \n",
    "                # Check for import statements  \n",
    "                if isinstance(n, ast.Import):  \n",
    "                    for alias in n.names:  \n",
    "                        if alias.name == 'seaborn':  \n",
    "                            return True  \n",
    "                # Check for from ... import statements  \n",
    "                elif isinstance(n, ast.ImportFrom):  \n",
    "                    if n.module == 'seaborn':  \n",
    "                        return True  \n",
    "        except SyntaxError:  \n",
    "            # If there's a syntax error in the file, skip it  \n",
    "            pass  \n",
    "    return False  \n",
    "  \n",
    "def find_files_with_seaborn_import(directory):  \n",
    "    seaborn_files = []  \n",
    "    for root, _, files in os.walk(directory):  \n",
    "        for file in files:  \n",
    "            if file.endswith('.py'):  \n",
    "                file_path = os.path.join(root, file)  \n",
    "                if find_seaborn_import_in_file(file_path):  \n",
    "                    seaborn_files.append(file_path)  \n",
    "    return seaborn_files  \n",
    "  \n",
    "# Specify the directory  \n",
    "directory = '/home/v-lingjiang/project/ChartMimic/dataset/ori_500'  \n",
    "seaborn_files = find_files_with_seaborn_import(directory)  \n",
    "  \n",
    "print(\"Files with seaborn imports:\")  \n",
    "for file in seaborn_files:  \n",
    "    print(file)  "
   ]
  },
  {
   "cell_type": "markdown",
   "metadata": {},
   "source": [
    "### wordcloud"
   ]
  },
  {
   "cell_type": "code",
   "execution_count": 15,
   "metadata": {},
   "outputs": [
    {
     "name": "stdout",
     "output_type": "stream",
     "text": [
      "Files with wordcloud calls:\n"
     ]
    }
   ],
   "source": [
    "import os  \n",
    "import ast  \n",
    "  \n",
    "def find_wordcloud_calls_in_file(file_path):  \n",
    "    with open(file_path, 'r', encoding='utf-8') as file:  \n",
    "        try:  \n",
    "            node = ast.parse(file.read(), filename=file_path)  \n",
    "            for n in ast.walk(node):  \n",
    "                if isinstance(n, ast.Call) and isinstance(n.func, ast.Attribute):  \n",
    "                    # Check if the function call is wordcloud  \n",
    "                    func_parts = []  \n",
    "                    current = n.func  \n",
    "                    while isinstance(current, ast.Attribute):  \n",
    "                        func_parts.append(current.attr)  \n",
    "                        current = current.value  \n",
    "                    if isinstance(current, ast.Name):  \n",
    "                        func_parts.append(current.id)  \n",
    "                      \n",
    "                    # Reverse to get the correct order  \n",
    "                    func_name = '.'.join(reversed(func_parts))  \n",
    "  \n",
    "                    # Check if it's a wordcloud call  \n",
    "                    if 'wordcloud' in func_name.lower():  \n",
    "                        return True  \n",
    "        except SyntaxError:  \n",
    "            # If there's a syntax error in the file, skip it  \n",
    "            pass  \n",
    "    return False  \n",
    "  \n",
    "def find_files_with_wordcloud_calls(directory):  \n",
    "    wordcloud_files = []  \n",
    "    for root, _, files in os.walk(directory):  \n",
    "        for file in files:  \n",
    "            if file.endswith('.py'):  \n",
    "                file_path = os.path.join(root, file)  \n",
    "                if find_wordcloud_calls_in_file(file_path):  \n",
    "                    wordcloud_files.append(file_path)  \n",
    "    return wordcloud_files  \n",
    "  \n",
    "# Specify the directory  \n",
    "directory = '/home/v-lingjiang/project/ChartMimic/dataset/ori_500'  \n",
    "wordcloud_files = find_files_with_wordcloud_calls(directory)  \n",
    "  \n",
    "print(\"Files with wordcloud calls:\")  \n",
    "for file in wordcloud_files:  \n",
    "    print(file)  "
   ]
  }
 ],
 "metadata": {
  "kernelspec": {
   "display_name": "chartmimic",
   "language": "python",
   "name": "python3"
  },
  "language_info": {
   "codemirror_mode": {
    "name": "ipython",
    "version": 3
   },
   "file_extension": ".py",
   "mimetype": "text/x-python",
   "name": "python",
   "nbconvert_exporter": "python",
   "pygments_lexer": "ipython3",
   "version": "3.9.0"
  }
 },
 "nbformat": 4,
 "nbformat_minor": 2
}
