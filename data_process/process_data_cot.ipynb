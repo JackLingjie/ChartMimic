{
 "cells": [
  {
   "cell_type": "code",
   "execution_count": 4,
   "metadata": {},
   "outputs": [
    {
     "data": {
      "text/plain": [
       "129262"
      ]
     },
     "execution_count": 4,
     "metadata": {},
     "output_type": "execute_result"
    }
   ],
   "source": [
    "revised_path = \"/mnt/lingjiejiang/multimodal_code/data/chart_data/revised_code/final_output.json\"\n",
    "with open(revised_path, 'r') as f:\n",
    "    revised_data = json.load(f)\n",
    "len(revised_data)"
   ]
  },
  {
   "cell_type": "code",
   "execution_count": 9,
   "metadata": {},
   "outputs": [
    {
     "data": {
      "text/plain": [
       "96396"
      ]
     },
     "execution_count": 9,
     "metadata": {},
     "output_type": "execute_result"
    }
   ],
   "source": [
    "inempty_data = [item for item in revised_data if item[\"revised_text\"] != \"\"]\n",
    "len(inempty_data)"
   ]
  },
  {
   "cell_type": "code",
   "execution_count": 10,
   "metadata": {},
   "outputs": [
    {
     "data": {
      "text/plain": [
       "32866"
      ]
     },
     "execution_count": 10,
     "metadata": {},
     "output_type": "execute_result"
    }
   ],
   "source": [
    "empty_data = [item for item in revised_data if item[\"revised_text\"] == \"\"]\n",
    "len(empty_data)"
   ]
  },
  {
   "cell_type": "code",
   "execution_count": 11,
   "metadata": {},
   "outputs": [],
   "source": [
    "save_path = '/mnt/lingjiejiang/multimodal_code/data/chart_data/github_chart/merged_empty_data.json'\n",
    "with open(save_path, 'w') as outfile:  \n",
    "    json.dump(empty_data, outfile, indent=4)"
   ]
  },
  {
   "cell_type": "code",
   "execution_count": 12,
   "metadata": {},
   "outputs": [
    {
     "data": {
      "text/plain": [
       "32866"
      ]
     },
     "execution_count": 12,
     "metadata": {},
     "output_type": "execute_result"
    }
   ],
   "source": [
    "with open(save_path, 'r') as f:\n",
    "    empty_data = json.load(f)\n",
    "len(empty_data)"
   ]
  },
  {
   "cell_type": "code",
   "execution_count": 3,
   "metadata": {},
   "outputs": [
    {
     "data": {
      "text/plain": [
       "(13407, 13407, 13407)"
      ]
     },
     "execution_count": 3,
     "metadata": {},
     "output_type": "execute_result"
    }
   ],
   "source": [
    "import json\n",
    "data_1_path = \"/mnt/lingjiejiang/multimodal_code/data/chart_data/chart_code_cot_1/final_output.json\"\n",
    "data_2_path = \"/mnt/lingjiejiang/multimodal_code/data/chart_data/chart_code_cot_2/final_output.json\"\n",
    "data_3_path = \"/mnt/lingjiejiang/multimodal_code/data/chart_data/chart_code_cot_3/final_output.json\"\n",
    "# seed_data_path = \"/mnt/lingjiejiang/multimodal_code/data/chart_data/chart_code_evol_sampled_seed_4k_supply/final_output_empty.json\"\n",
    "\n",
    "def load_data(data_path):\n",
    "    with open(data_path, 'r') as f:\n",
    "        data = json.load(f)\n",
    "    return data\n",
    "\n",
    "data_1 = load_data(data_1_path)\n",
    "data_2 = load_data(data_2_path)\n",
    "data_3 = load_data(data_3_path)\n",
    "# seed_data = load_data(seed_data_path)\n",
    "len(data_1), len(data_2), len(data_3)"
   ]
  },
  {
   "cell_type": "code",
   "execution_count": 4,
   "metadata": {},
   "outputs": [
    {
     "data": {
      "text/plain": [
       "40221"
      ]
     },
     "execution_count": 4,
     "metadata": {},
     "output_type": "execute_result"
    }
   ],
   "source": [
    "merged_data = data_1 + data_2 + data_3\n",
    "len(merged_data)"
   ]
  },
  {
   "cell_type": "code",
   "execution_count": 5,
   "metadata": {},
   "outputs": [
    {
     "data": {
      "text/plain": [
       "{'index': 4,\n",
       " 'cot_text': \"import matplotlib.pyplot as plt\\nimport numpy as np\\n\\n# Data generation\\nx = np.arange(0, 25, 1)  # Months from 0 to 24\\ny = 55 + 10 * np.sin(x * np.pi / 6)  # Sine function for stock price oscillation\\n\\n# Plotting\\nfig, ax = plt.subplots(figsize=(10, 6))\\nax.plot(x, y, label='Stock Price', color='blue', marker='o', markerfacecolor='orange', linewidth=2)\\n\\n# Labels and Title\\nax.set_title('Hypothetical Stock Price Over Two Years', fontsize=14, fontweight='bold')\\nax.set_xlabel('Time (Months)')\\nax.set_ylabel('Stock Price ($)')\\n\\n# Grid\\nax.grid(True, linestyle='--', linewidth=0.5)\\n\\n# Legend\\nax.legend(loc='upper left')\\n\\n# Show the plot\\nplt.show()\",\n",
       " 'gpt_cot_answer_raw_answer': 'To reproduce the given chart using matplotlib, let\\'s analyze the various elements of the chart:\\n\\n1. **Chart Type**: The chart is a line plot with data points marked by circular markers.\\n\\n2. **Data**: The x-axis represents time in months from 0 to 24, and the y-axis represents stock prices in a fluctuating manner. The data seems to represent a periodic pattern, suggesting a sine or cosine function.\\n\\n3. **Title**: The title of the chart is \"Hypothetical Stock Price Over Two Years\", centered at the top with a font size that appears to be bold.\\n\\n4. **Axes Labels**:\\n   - X-axis: \"Time (Months)\"\\n   - Y-axis: \"Stock Price ($)\"\\n\\n5. **Legend**: Positioned in the upper left corner inside the plot, with the label \"Stock Price\".\\n\\n6. **Grid**: The grid is displayed with dashed lines.\\n\\n7. **Colors and Styles**:\\n   - The line plot is blue with circular markers outlined in orange.\\n   - The line width is moderately thick.\\n   - The markers are filled with a light color.\\n\\n8. **Figure Size**: The desired figure size is (10, 6).\\n\\nLet\\'s now create the Python code using matplotlib to reproduce this chart.\\n\\n```python\\nimport matplotlib.pyplot as plt\\nimport numpy as np\\n\\n# Data generation\\nx = np.arange(0, 25, 1)  # Months from 0 to 24\\ny = 55 + 10 * np.sin(x * np.pi / 6)  # Sine function for stock price oscillation\\n\\n# Plotting\\nfig, ax = plt.subplots(figsize=(10, 6))\\nax.plot(x, y, label=\\'Stock Price\\', color=\\'blue\\', marker=\\'o\\', markerfacecolor=\\'orange\\', linewidth=2)\\n\\n# Labels and Title\\nax.set_title(\\'Hypothetical Stock Price Over Two Years\\', fontsize=14, fontweight=\\'bold\\')\\nax.set_xlabel(\\'Time (Months)\\')\\nax.set_ylabel(\\'Stock Price ($)\\')\\n\\n# Grid\\nax.grid(True, linestyle=\\'--\\', linewidth=0.5)\\n\\n# Legend\\nax.legend(loc=\\'upper left\\')\\n\\n# Show the plot\\nplt.show()\\n```\\n\\nThis code snippet should create a plot closely matching the provided image, considering all the specified elements.',\n",
       " 'stop_reason': 'stop',\n",
       " 'evol_text': \"import matplotlib.pyplot as plt\\nimport numpy as np\\nfrom matplotlib.ticker import MultipleLocator, FormatStrFormatter\\n\\n# New data representing a financial trend over time\\n# Time in months\\nmonths = np.arange(0, 24, 0.5)\\n# Hypothetical stock prices following a sinusoidal pattern with a trend\\nstock_prices = 50 + 10 * np.sin(0.25 * np.pi * months) + 0.5 * months\\n\\n# Create a figure and axis with an improved aspect ratio\\nfig, ax = plt.subplots(figsize=(10, 6))\\n\\n# Plot the data with enhanced styling\\nax.plot(months, stock_prices, color='dodgerblue', linewidth=2, linestyle='-', marker='o', markersize=5, \\n        markerfacecolor='orange', label='Stock Price')\\n\\n# Add title and labels with improved fonts\\nax.set_title('Hypothetical Stock Price Over Two Years', fontsize=16, fontweight='bold')\\nax.set_xlabel('Time (Months)', fontsize=12)\\nax.set_ylabel('Stock Price ($)', fontsize=12)\\n\\n# Set major and minor locators and formatters\\nax.xaxis.set_major_locator(MultipleLocator(4))\\nax.xaxis.set_major_formatter(FormatStrFormatter('%d'))\\nax.xaxis.set_minor_locator(MultipleLocator(1))\\nax.yaxis.set_major_locator(MultipleLocator(10))\\nax.yaxis.set_minor_locator(MultipleLocator(2))\\n\\n# Add grid lines for better readability\\nax.grid(which='major', color='gray', linestyle='--', linewidth=0.5)\\nax.grid(which='minor', color='lightgray', linestyle=':', linewidth=0.5)\\n\\n# Add a legend\\nax.legend(loc='upper left', fontsize=10)\\n\\n# Enhance layout\\nplt.tight_layout()\\n\\n# Show the plot\\nplt.show()\",\n",
       " 'gpt_evol_answer': \"To enhance the visual appeal and clarity of the line chart, we'll make several modifications to the original script. We'll improve the styling by adding meaningful colors, markers, and line styles. We'll also add a title, axis labels, a legend, and grid lines to make the chart more informative and visually engaging. Furthermore, I will adjust the figure size to create a more balanced and aesthetically pleasing layout. Here's the optimized code:\\n\\n```python\\nimport matplotlib.pyplot as plt\\nimport numpy as np\\nfrom matplotlib.ticker import MultipleLocator, FormatStrFormatter\\n\\n# New data representing a financial trend over time\\n# Time in months\\nmonths = np.arange(0, 24, 0.5)\\n# Hypothetical stock prices following a sinusoidal pattern with a trend\\nstock_prices = 50 + 10 * np.sin(0.25 * np.pi * months) + 0.5 * months\\n\\n# Create a figure and axis with an improved aspect ratio\\nfig, ax = plt.subplots(figsize=(10, 6))\\n\\n# Plot the data with enhanced styling\\nax.plot(months, stock_prices, color='dodgerblue', linewidth=2, linestyle='-', marker='o', markersize=5, \\n        markerfacecolor='orange', label='Stock Price')\\n\\n# Add title and labels with improved fonts\\nax.set_title('Hypothetical Stock Price Over Two Years', fontsize=16, fontweight='bold')\\nax.set_xlabel('Time (Months)', fontsize=12)\\nax.set_ylabel('Stock Price ($)', fontsize=12)\\n\\n# Set major and minor locators and formatters\\nax.xaxis.set_major_locator(MultipleLocator(4))\\nax.xaxis.set_major_formatter(FormatStrFormatter('%d'))\\nax.xaxis.set_minor_locator(MultipleLocator(1))\\nax.yaxis.set_major_locator(MultipleLocator(10))\\nax.yaxis.set_minor_locator(MultipleLocator(2))\\n\\n# Add grid lines for better readability\\nax.grid(which='major', color='gray', linestyle='--', linewidth=0.5)\\nax.grid(which='minor', color='lightgray', linestyle=':', linewidth=0.5)\\n\\n# Add a legend\\nax.legend(loc='upper left', fontsize=10)\\n\\n# Enhance layout\\nplt.tight_layout()\\n\\n# Show the plot\\nplt.show()\\n```\\n\\n### Key Enhancements:\\n- **Data**: The data now represents a hypothetical stock price trend over two years, providing a realistic context for a line chart.\\n- **Styling**: The line is styled with a distinct color (`dodgerblue`), markers (`o`), and a secondary color for the markers (`orange`) to improve visual interest.\\n- **Labels and Title**: Added a descriptive title and axis labels with appropriate fonts and sizes to make the chart more informative.\\n- **Layout**: The figure size is adjusted to a wider aspect ratio for better visibility and balance.\\n- **Grid**: Major and minor grid lines add clarity to the chart, helping to trace values accurately.\\n- **Legend**: A legend is included to describe the line, even though there's only one line, to demonstrate best practices for charts with multiple lines.\",\n",
       " 'revised_text': \"import matplotlib.pyplot as plt  \\nimport numpy as np  \\nfrom matplotlib.ticker import MultipleLocator, FormatStrFormatter\\n\\n# Sample data\\nt = np.arange(0.0, 100.0, 0.1)\\ns = np.sin(0.1 * np.pi * t) * np.exp(-t * 0.01)\\n\\n# Create a new figure\\nfig = plt.figure(figsize=(6.0, 4.0))\\nax = fig.add_subplot(111)\\n\\n# Plot the data\\nax.plot(t, s)\\n\\n# Set major and minor locators and formatters\\nmajorLocator = MultipleLocator(20)\\nmajorFormatter = FormatStrFormatter('%d')\\nminorLocator = MultipleLocator(5)\\n\\nax.xaxis.set_major_locator(majorLocator)\\nax.xaxis.set_major_formatter(majorFormatter)\\nax.xaxis.set_minor_locator(minorLocator)\\n\\n# Show the plot\\nplt.show()\",\n",
       " 'category': 'Line',\n",
       " 'chart_size': [10.0, 6.0],\n",
       " 'max_stars_repo_path': 'examples/pylab_examples/major_minor_demo1.py',\n",
       " 'max_stars_repo_name': 'pierre-haessig/matplotlib',\n",
       " 'max_stars_count': 1,\n",
       " 'id': '66391',\n",
       " 'text': '#!/usr/bin/env python\\n\"\"\"\\nDemonstrate how to use major and minor tickers.\\n\\nThe two relevant userland classes are Locators and Formatters.\\nLocators determine where the ticks are and formatters control the\\nformatting of ticks.\\n\\nMinor ticks are off by default (NullLocator and NullFormatter).  You\\ncan turn minor ticks on w/o labels by setting the minor locator.  You\\ncan also turn labeling on for the minor ticker by setting the minor\\nformatter\\n\\nMake a plot with major ticks that are multiples of 20 and minor ticks\\nthat are multiples of 5.  Label major ticks with %d formatting but\\ndon\\'t label minor ticks\\n\\nThe MultipleLocator ticker class is used to place ticks on multiples of\\nsome base.  The FormatStrFormatter uses a string format string (eg\\n\\'%d\\' or \\'%1.2f\\' or \\'%1.1f cm\\' ) to format the tick\\n\\nThe pylab interface grid command changes the grid settings of the\\nmajor ticks of the y and y axis together.  If you want to control the\\ngrid of the minor ticks for a given axis, use for example\\n\\n  ax.xaxis.grid(True, which=\\'minor\\')\\n\\nNote, you should not use the same locator between different Axis\\nbecause the locator stores references to the Axis data and view limits\\n\\n\"\"\"\\n\\nfrom pylab import *\\nfrom matplotlib.ticker import MultipleLocator, FormatStrFormatter\\n\\nmajorLocator   = MultipleLocator(20)\\nmajorFormatter = FormatStrFormatter(\\'%d\\')\\nminorLocator   = MultipleLocator(5)\\n\\n\\nt = arange(0.0, 100.0, 0.1)\\ns = sin(0.1*pi*t)*exp(-t*0.01)\\n\\nax = subplot(111)\\nplot(t,s)\\n\\nax.xaxis.set_major_locator(majorLocator)\\nax.xaxis.set_major_formatter(majorFormatter)\\n\\n#for the minor ticks, use no labels; default NullFormatter\\nax.xaxis.set_minor_locator(minorLocator)\\n\\nshow()\\n',\n",
       " 'source': 'v1',\n",
       " 'images': ['/mnt/lingjiejiang/multimodal_code/data/chart_data/evol_images1/000005.jpg'],\n",
       " 'prompt': 'Could you design matplotlib code to reproduce this picture, taking care to use figsize=(10, 6) for the dimensions?',\n",
       " 'messages': [{'content': '<image>\\nCould you design matplotlib code to reproduce this picture, taking care to use figsize=(10, 6) for the dimensions?\\n',\n",
       "   'role': 'user'},\n",
       "  {'content': \"```python\\nimport matplotlib.pyplot as plt\\nimport numpy as np\\nfrom matplotlib.ticker import MultipleLocator, FormatStrFormatter\\n\\n# New data representing a financial trend over time\\n# Time in months\\nmonths = np.arange(0, 24, 0.5)\\n# Hypothetical stock prices following a sinusoidal pattern with a trend\\nstock_prices = 50 + 10 * np.sin(0.25 * np.pi * months) + 0.5 * months\\n\\n# Create a figure and axis with an improved aspect ratio\\nfig, ax = plt.subplots(figsize=(10, 6))\\n\\n# Plot the data with enhanced styling\\nax.plot(months, stock_prices, color='dodgerblue', linewidth=2, linestyle='-', marker='o', markersize=5, \\n        markerfacecolor='orange', label='Stock Price')\\n\\n# Add title and labels with improved fonts\\nax.set_title('Hypothetical Stock Price Over Two Years', fontsize=16, fontweight='bold')\\nax.set_xlabel('Time (Months)', fontsize=12)\\nax.set_ylabel('Stock Price ($)', fontsize=12)\\n\\n# Set major and minor locators and formatters\\nax.xaxis.set_major_locator(MultipleLocator(4))\\nax.xaxis.set_major_formatter(FormatStrFormatter('%d'))\\nax.xaxis.set_minor_locator(MultipleLocator(1))\\nax.yaxis.set_major_locator(MultipleLocator(10))\\nax.yaxis.set_minor_locator(MultipleLocator(2))\\n\\n# Add grid lines for better readability\\nax.grid(which='major', color='gray', linestyle='--', linewidth=0.5)\\nax.grid(which='minor', color='lightgray', linestyle=':', linewidth=0.5)\\n\\n# Add a legend\\nax.legend(loc='upper left', fontsize=10)\\n\\n# Enhance layout\\nplt.tight_layout()\\n\\n# Show the plot\\nplt.show()\\n```\",\n",
       "   'role': 'assistant'}],\n",
       " 'formatted_text': \"```python\\nimport matplotlib.pyplot as plt\\nimport numpy as np\\nfrom matplotlib.ticker import MultipleLocator, FormatStrFormatter\\n\\n# New data representing a financial trend over time\\n# Time in months\\nmonths = np.arange(0, 24, 0.5)\\n# Hypothetical stock prices following a sinusoidal pattern with a trend\\nstock_prices = 50 + 10 * np.sin(0.25 * np.pi * months) + 0.5 * months\\n\\n# Create a figure and axis with an improved aspect ratio\\nfig, ax = plt.subplots(figsize=(10, 6))\\n\\n# Plot the data with enhanced styling\\nax.plot(months, stock_prices, color='dodgerblue', linewidth=2, linestyle='-', marker='o', markersize=5, \\n        markerfacecolor='orange', label='Stock Price')\\n\\n# Add title and labels with improved fonts\\nax.set_title('Hypothetical Stock Price Over Two Years', fontsize=16, fontweight='bold')\\nax.set_xlabel('Time (Months)', fontsize=12)\\nax.set_ylabel('Stock Price ($)', fontsize=12)\\n\\n# Set major and minor locators and formatters\\nax.xaxis.set_major_locator(MultipleLocator(4))\\nax.xaxis.set_major_formatter(FormatStrFormatter('%d'))\\nax.xaxis.set_minor_locator(MultipleLocator(1))\\nax.yaxis.set_major_locator(MultipleLocator(10))\\nax.yaxis.set_minor_locator(MultipleLocator(2))\\n\\n# Add grid lines for better readability\\nax.grid(which='major', color='gray', linestyle='--', linewidth=0.5)\\nax.grid(which='minor', color='lightgray', linestyle=':', linewidth=0.5)\\n\\n# Add a legend\\nax.legend(loc='upper left', fontsize=10)\\n\\n# Enhance layout\\nplt.tight_layout()\\n\\n# Show the plot\\nplt.show()\\n```\"}"
      ]
     },
     "execution_count": 5,
     "metadata": {},
     "output_type": "execute_result"
    }
   ],
   "source": [
    "merged_data[0]"
   ]
  },
  {
   "cell_type": "code",
   "execution_count": 11,
   "metadata": {},
   "outputs": [
    {
     "data": {
      "text/plain": [
       "0"
      ]
     },
     "execution_count": 11,
     "metadata": {},
     "output_type": "execute_result"
    }
   ],
   "source": [
    "import re\n",
    "merged_data[:2]\n",
    "def extract_python_code(gpt_answer):  \n",
    "    # Use regex to find the code block marked with ```python  \n",
    "    match = re.search(r\"```python(.*?)```\", gpt_answer, re.DOTALL)  \n",
    "    return match.group(1).strip() if match else \"\"  \n",
    " \n",
    "temp = []\n",
    "for item in merged_data:\n",
    "    match = re.search(r\"```python(.*?)```\", item[\"cot_text\"], re.DOTALL) \n",
    "    if match:\n",
    "        temp.append(item)\n",
    "len(temp)"
   ]
  },
  {
   "cell_type": "code",
   "execution_count": 8,
   "metadata": {},
   "outputs": [
    {
     "name": "stdout",
     "output_type": "stream",
     "text": [
      "Len of filtered_empty_data: 40221\n"
     ]
    }
   ],
   "source": [
    "# import re\n",
    "# merged_data[:2]\n",
    "# def extract_python_code(gpt_answer):  \n",
    "#     # Use regex to find the code block marked with ```python  \n",
    "#     match = re.search(r\"```python(.*?)```\", gpt_answer, re.DOTALL)  \n",
    "#     return match.group(1).strip() if match else \"\"  \n",
    " \n",
    "# temp = []\n",
    "# for item in merged_data:\n",
    "#     match = re.search(r\"```python(.*?)```\", item[\"evol_text\"], re.DOTALL) \n",
    "#     if match:\n",
    "#         temp.append(item)\n",
    "\n",
    "filtered_empty_data = [item for item in merged_data if item[\"gpt_cot_answer_raw_answer\"].strip() != \"\" or item[\"stop_reason\"] != \"stop\"]\n",
    "\n",
    "print(f\"Len of filtered_empty_data: {len(filtered_empty_data)}\")"
   ]
  },
  {
   "cell_type": "code",
   "execution_count": 10,
   "metadata": {},
   "outputs": [
    {
     "data": {
      "text/plain": [
       "40221"
      ]
     },
     "execution_count": 10,
     "metadata": {},
     "output_type": "execute_result"
    }
   ],
   "source": [
    "filtered_data = [item for item in filtered_empty_data if 'xkcd()' not in item[\"gpt_cot_answer_raw_answer\"]] \n",
    "for idx, item in enumerate(filtered_data):\n",
    "    item[\"index\"] = idx\n",
    "len(filtered_data)"
   ]
  },
  {
   "cell_type": "code",
   "execution_count": null,
   "metadata": {},
   "outputs": [],
   "source": []
  },
  {
   "cell_type": "code",
   "execution_count": 12,
   "metadata": {},
   "outputs": [],
   "source": [
    "base_dir = \"/mnt/lingjiejiang/multimodal_code/data/chart_data/cot_images\"  \n",
    "split_size = 22000  \n",
    "  \n",
    "for item in filtered_data:  \n",
    "    index = item[\"index\"]  \n",
    "    index_name = f\"{index + 1:06d}\"  \n",
    "    item[\"cot_text\"] = item[\"cot_text\"].strip()\n",
    "    # 计算当前文件应该放到哪个目录  \n",
    "    split_index = index // split_size + 1  \n",
    "    directory = f\"{base_dir}{split_index}\"  \n",
    "      \n",
    "    # 创建该目录的路径  \n",
    "    item[\"images\"] = f\"{directory}/{index_name}.jpg\"  "
   ]
  },
  {
   "cell_type": "code",
   "execution_count": 13,
   "metadata": {},
   "outputs": [
    {
     "data": {
      "text/plain": [
       "{'index': 20000,\n",
       " 'cot_text': \"import numpy as np\\nimport matplotlib.pyplot as plt\\n\\n# Generate data\\nt = np.arange(0.0, 6.0, 0.2)\\ny = np.exp(-t) * np.cos(2 * np.pi * t)\\n\\n# Create the plot\\nplt.figure(figsize=(10, 6))\\nplt.plot(t, y, linestyle='-', color='teal', marker='o', markerfacecolor='orange', label='Sine Decay')\\n\\n# Title and labels\\nplt.title('Damped Sine Wave Over Time', fontsize=16, color='green', fontweight='bold')\\nplt.xlabel('Time (seconds)', fontsize=12, color='blue')\\nplt.ylabel('Amplitude', fontsize=12, color='blue')\\n\\n# Legend\\nplt.legend(loc='upper right')\\n\\n# Grid\\nplt.grid(True)\\n\\n# Show the plot\\nplt.show()\",\n",
       " 'gpt_cot_answer_raw_answer': 'To reproduce the provided image using matplotlib, let\\'s analyze the chart elements first:\\n\\n1. **Chart Type**: The chart is a line plot with markers. The line is smooth and continuous, representing a damped sine wave.\\n\\n2. **Title**: The chart title is \"Damped Sine Wave Over Time\", bold and colored in green.\\n\\n3. **Legend**: There is a legend in the top-right corner labeled \"Sine Decay\".\\n\\n4. **Axes Labels**:\\n   - X-axis labeled as \"Time (seconds)\" and colored in blue.\\n   - Y-axis labeled as \"Amplitude\" and colored in blue.\\n\\n5. **Data and Plot Style**:\\n   - The sine wave is plotted with a teal line color and circles as markers. The markers have an orange fill.\\n\\n6. **Grid**: The plot has grid lines.\\n\\n7. **Layout and Dimensions**: The figure size is specified as `(10, 6)`.\\n\\nBased on these observations, we will use numpy to generate the damped sine wave data and matplotlib to create the plot. Here\\'s the complete code:\\n\\n```python\\nimport numpy as np\\nimport matplotlib.pyplot as plt\\n\\n# Generate data\\nt = np.arange(0.0, 6.0, 0.2)\\ny = np.exp(-t) * np.cos(2 * np.pi * t)\\n\\n# Create the plot\\nplt.figure(figsize=(10, 6))\\nplt.plot(t, y, linestyle=\\'-\\', color=\\'teal\\', marker=\\'o\\', markerfacecolor=\\'orange\\', label=\\'Sine Decay\\')\\n\\n# Title and labels\\nplt.title(\\'Damped Sine Wave Over Time\\', fontsize=16, color=\\'green\\', fontweight=\\'bold\\')\\nplt.xlabel(\\'Time (seconds)\\', fontsize=12, color=\\'blue\\')\\nplt.ylabel(\\'Amplitude\\', fontsize=12, color=\\'blue\\')\\n\\n# Legend\\nplt.legend(loc=\\'upper right\\')\\n\\n# Grid\\nplt.grid(True)\\n\\n# Show the plot\\nplt.show()\\n```\\n\\nThis code will generate a plot similar to the provided image, considering the elements we\\'ve analyzed.',\n",
       " 'stop_reason': 'stop',\n",
       " 'evol_text': \"import matplotlib.pyplot as plt\\nimport numpy as np\\n\\n# Define data\\ntime = np.linspace(0, 6, 100)\\n# Create a sine wave pattern to simulate a smooth transition over time\\nvalue = np.sin(time * np.pi) * np.exp(-0.3 * time)\\n\\n# Create a new figure with enhanced size for better clarity\\nfig, ax = plt.subplots(figsize=(10, 6))\\n\\n# Plot the data with improved visual features\\nax.plot(time, value, color='teal', linestyle='-', linewidth=2, marker='o', markersize=6, markerfacecolor='coral', label='Sine Decay')\\n\\n# Set labels with descriptive text\\nax.set_xlabel('Time (seconds)', fontsize=12, color='darkblue')\\nax.set_ylabel('Amplitude', fontsize=12, color='darkblue')\\nax.set_title('Damped Sine Wave Over Time', fontsize=16, fontweight='bold', color='darkgreen')\\n\\n# Add grid for better readability\\nax.grid(True, which='both', linestyle='--', linewidth=0.5)\\n\\n# Customize ticks\\nax.xaxis.set_major_locator(plt.MaxNLocator(7))\\nax.yaxis.set_major_locator(plt.MaxNLocator(7))\\nax.tick_params(axis='both', which='major', labelsize=10, labelcolor='darkred')\\n\\n# Add a legend with a larger font size\\nax.legend(loc='upper right', fontsize=10)\\n\\n# Enhance the plot's appearance with a tight layout\\nplt.tight_layout()\\n\\n# Show the plot\\nplt.show()\",\n",
       " 'gpt_evol_answer': \"Below is an optimized and enhanced Python script using Matplotlib to create an aesthetically appealing line chart. I've incorporated various elements to enrich the chart's narrative and visual appeal:\\n\\n```python\\nimport matplotlib.pyplot as plt\\nimport numpy as np\\n\\n# Define data\\ntime = np.linspace(0, 6, 100)\\n# Create a sine wave pattern to simulate a smooth transition over time\\nvalue = np.sin(time * np.pi) * np.exp(-0.3 * time)\\n\\n# Create a new figure with enhanced size for better clarity\\nfig, ax = plt.subplots(figsize=(10, 6))\\n\\n# Plot the data with improved visual features\\nax.plot(time, value, color='teal', linestyle='-', linewidth=2, marker='o', markersize=6, markerfacecolor='coral', label='Sine Decay')\\n\\n# Set labels with descriptive text\\nax.set_xlabel('Time (seconds)', fontsize=12, color='darkblue')\\nax.set_ylabel('Amplitude', fontsize=12, color='darkblue')\\nax.set_title('Damped Sine Wave Over Time', fontsize=16, fontweight='bold', color='darkgreen')\\n\\n# Add grid for better readability\\nax.grid(True, which='both', linestyle='--', linewidth=0.5)\\n\\n# Customize ticks\\nax.xaxis.set_major_locator(plt.MaxNLocator(7))\\nax.yaxis.set_major_locator(plt.MaxNLocator(7))\\nax.tick_params(axis='both', which='major', labelsize=10, labelcolor='darkred')\\n\\n# Add a legend with a larger font size\\nax.legend(loc='upper right', fontsize=10)\\n\\n# Enhance the plot's appearance with a tight layout\\nplt.tight_layout()\\n\\n# Show the plot\\nplt.show()\\n```\\n\\n### Key Improvements and Features:\\n\\n1. **Data Generation**: I used a damped sine wave to create a more visually interesting dataset that demonstrates a smooth transition over time, avoiding randomness.\\n\\n2. **Figure Size and Clarity**: Increased the figure size for better visual clarity and readability.\\n\\n3. **Line and Marker Customization**: Enhanced the line by using a distinct color (`teal`), increased the line width for prominence, and added coral-colored markers to highlight data points.\\n\\n4. **Descriptive Labels and Title**: Improved the axis labels and title with more descriptive text and adjusted their font sizes and colors for better aesthetics.\\n\\n5. **Grid and Ticks**: Added a grid with dashed lines for easy reference, and customized tick parameters to improve readability.\\n\\n6. **Legend**: Positioned the legend more effectively and increased its font size for clarity.\\n\\n7. **Tight Layout**: Used `plt.tight_layout()` to ensure that all elements are properly spaced without overlapping, enhancing overall presentation.\\n\\nThese enhancements create a visually appealing and informative plot, suitable for demonstrating Matplotlib's capabilities in a formal setting.\",\n",
       " 'revised_text': \"import matplotlib.pyplot as plt  \\nimport numpy as np  \\n\\n# Sample data\\n_time = np.linspace(0, 6, 8)\\ny = [-0.0497, -0.0497, -0.0538, -0.2458, -0.1562, -0.4433, -0.5805, -1]\\n\\n# Create a new figure\\nfig = plt.figure(figsize=(6.4, 4.8))\\n\\n# Plot the data\\nplt.plot(_time, y,'bo-', label='Data Points')\\n\\n# Set labels\\nplt.xlabel('Time')\\nplt.ylabel('Value')\\nplt.title('Sample Line Plot')\\n\\n# Add a legend\\nplt.legend()\\n\\n# Show the plot\\nplt.show()\",\n",
       " 'category': 'Line',\n",
       " 'chart_size': [10.0, 6.0],\n",
       " 'max_stars_repo_path': 'scripts/test/prueba.py',\n",
       " 'max_stars_repo_name': 'javalosv/avalos_intera',\n",
       " 'max_stars_count': 1,\n",
       " 'id': '11715315',\n",
       " 'text': \"import matplotlib.pyplot as plt\\nfrom scipy.interpolate import splprep, splev\\nfrom scipy import interpolate\\n\\n\\nimport numpy as np\\nx=np.linspace(0, 6, 8)\\na=[-0.0497081518,-0.0497081518 ,   -0.0537617656 ,  -0.245754079 ,   -0.1561610521,   -0.4432674925 ,  -0.5804805548,   -0.9952186238]\\nFPO=0\\nFPN=0\\n\\nn=len(a);\\nh=[]\\nfor i in range(n):\\n    h.append(x[n+1]-x[n])\\n\\n\\n\\n\\n\\n\\n\\n\\n#sp_0 = interpolate.CubicSpline(_time, y,bc_type=((1, 0.0), (1, 0.0)))\\nts = np.linspace(_time[0], _time[-1], (_time[-1]-_time[0])*_f) \\nq0= sp_0(ts)\\n\\n#tck, u = splprep([ts, q0])\\n#new_points = splev(u, tck)\\n\\n#fig, ax = plt.subplots()\\n#ax.plot(_time, y, 'ro')\\n#ax.plot(ts, q0, 'bo')\\n#ax.plot(new_points[0], new_points[1], 'r-')\\n#plt.show()\\n\\n\\n\\nv0=[]\\nfor n in range(len(q0)-1):\\n        v0.append((q0[n+1]-q0[n])*_f)\\nv0.append(v0[-1]) \\n\\n\\n\\n\\nplt.subplot(2, 1, 1)\\nplt.plot(_time, y, 'bo')\\nplt.plot(ts,q0,'r-')\\n\\nplt.subplot(2, 1, 2)\\nplt.plot(ts,v0,'r-')\\n\\n\\n\\n\\n\\n\\nplt.show()\",\n",
       " 'source': 'v2',\n",
       " 'images': '/mnt/lingjiejiang/multimodal_code/data/chart_data/cot_images1/020001.jpg',\n",
       " 'prompt': 'Can you provide a matplotlib code snippet that emulates the provided picture, ensuring the dimensions are set with figsize=(10, 6)?',\n",
       " 'messages': [{'content': '<image>\\nCan you provide a matplotlib code snippet that emulates the provided picture, ensuring the dimensions are set with figsize=(10, 6)?\\n',\n",
       "   'role': 'user'},\n",
       "  {'content': \"```python\\nimport matplotlib.pyplot as plt\\nimport numpy as np\\n\\n# Define data\\ntime = np.linspace(0, 6, 100)\\n# Create a sine wave pattern to simulate a smooth transition over time\\nvalue = np.sin(time * np.pi) * np.exp(-0.3 * time)\\n\\n# Create a new figure with enhanced size for better clarity\\nfig, ax = plt.subplots(figsize=(10, 6))\\n\\n# Plot the data with improved visual features\\nax.plot(time, value, color='teal', linestyle='-', linewidth=2, marker='o', markersize=6, markerfacecolor='coral', label='Sine Decay')\\n\\n# Set labels with descriptive text\\nax.set_xlabel('Time (seconds)', fontsize=12, color='darkblue')\\nax.set_ylabel('Amplitude', fontsize=12, color='darkblue')\\nax.set_title('Damped Sine Wave Over Time', fontsize=16, fontweight='bold', color='darkgreen')\\n\\n# Add grid for better readability\\nax.grid(True, which='both', linestyle='--', linewidth=0.5)\\n\\n# Customize ticks\\nax.xaxis.set_major_locator(plt.MaxNLocator(7))\\nax.yaxis.set_major_locator(plt.MaxNLocator(7))\\nax.tick_params(axis='both', which='major', labelsize=10, labelcolor='darkred')\\n\\n# Add a legend with a larger font size\\nax.legend(loc='upper right', fontsize=10)\\n\\n# Enhance the plot's appearance with a tight layout\\nplt.tight_layout()\\n\\n# Show the plot\\nplt.show()\\n```\",\n",
       "   'role': 'assistant'}],\n",
       " 'formatted_text': \"```python\\nimport matplotlib.pyplot as plt\\nimport numpy as np\\n\\n# Define data\\ntime = np.linspace(0, 6, 100)\\n# Create a sine wave pattern to simulate a smooth transition over time\\nvalue = np.sin(time * np.pi) * np.exp(-0.3 * time)\\n\\n# Create a new figure with enhanced size for better clarity\\nfig, ax = plt.subplots(figsize=(10, 6))\\n\\n# Plot the data with improved visual features\\nax.plot(time, value, color='teal', linestyle='-', linewidth=2, marker='o', markersize=6, markerfacecolor='coral', label='Sine Decay')\\n\\n# Set labels with descriptive text\\nax.set_xlabel('Time (seconds)', fontsize=12, color='darkblue')\\nax.set_ylabel('Amplitude', fontsize=12, color='darkblue')\\nax.set_title('Damped Sine Wave Over Time', fontsize=16, fontweight='bold', color='darkgreen')\\n\\n# Add grid for better readability\\nax.grid(True, which='both', linestyle='--', linewidth=0.5)\\n\\n# Customize ticks\\nax.xaxis.set_major_locator(plt.MaxNLocator(7))\\nax.yaxis.set_major_locator(plt.MaxNLocator(7))\\nax.tick_params(axis='both', which='major', labelsize=10, labelcolor='darkred')\\n\\n# Add a legend with a larger font size\\nax.legend(loc='upper right', fontsize=10)\\n\\n# Enhance the plot's appearance with a tight layout\\nplt.tight_layout()\\n\\n# Show the plot\\nplt.show()\\n```\"}"
      ]
     },
     "execution_count": 13,
     "metadata": {},
     "output_type": "execute_result"
    }
   ],
   "source": [
    "filtered_data[20000]"
   ]
  },
  {
   "cell_type": "code",
   "execution_count": 14,
   "metadata": {},
   "outputs": [
    {
     "data": {
      "text/plain": [
       "{'index': 25001,\n",
       " 'cot_text': \"import matplotlib.pyplot as plt\\nimport numpy as np\\n\\n# Data\\nfeatures = ['Feature B', 'Feature D', 'Feature C', 'Feature E', 'Feature A']\\nimportance_scores = [0.30, 0.25, 0.20, 0.15, 0.10]\\n\\n# Colors\\ncolors = ['#2c3e50', '#3498db', '#1abc9c', '#2ecc71', '#bada55']\\n\\n# Plotting\\nfig, ax = plt.subplots(figsize=(10, 6))\\nbars = ax.bar(features, importance_scores, color=colors, edgecolor='black')\\n\\n# Adding text annotations\\nfor bar in bars:\\n    yval = bar.get_height()\\n    ax.text(bar.get_x() + bar.get_width()/2, yval, f'{yval:.2f}', ha='center', va='bottom')\\n\\n# Title and labels\\nax.set_title('Feature Importance Analysis', fontsize=16, fontweight='bold')\\nax.set_xlabel('Features')\\nax.set_ylabel('Importance Score')\\n\\n# Rotating x-tick labels\\nplt.xticks(rotation=10)\\n\\n# Adding grid\\nax.yaxis.grid(True, linestyle='--', alpha=0.7)\\n\\nplt.tight_layout()\\nplt.show()\",\n",
       " 'gpt_cot_answer_raw_answer': '### Analysis of the Chart Elements\\n\\n1. **Chart Type**: The chart is a bar plot which displays the importance scores of various features.\\n\\n2. **Data**: The features and their importance scores can be deduced from the chart as:\\n   - Feature B: 0.30\\n   - Feature D: 0.25\\n   - Feature C: 0.20\\n   - Feature E: 0.15\\n   - Feature A: 0.10\\n\\n3. **Labels**:\\n   - X-axis: \"Features\"\\n   - Y-axis: \"Importance Score\"\\n   - The title of the chart is \"Feature Importance Analysis\"\\n\\n4. **Text**: The scores are displayed above each bar, centered and with a slight margin from the top of the bars.\\n\\n5. **Layout**:\\n   - The bars are ordered from highest to lowest based on their importance scores.\\n   - The x-tick labels (feature names) are rotated slightly for better readability.\\n\\n6. **Colors**: The bars have a gradient of blue to green:\\n   - Feature B is dark blue\\n   - Feature D is a lighter shade of blue\\n   - Feature C is teal\\n   - Feature E is greenish teal\\n   - Feature A is light green\\n\\n7. **Size**: The figure size is specified as `(10, 6)`.\\n\\n8. **Grid**: There is a horizontal grid in the background which is light grey.\\n\\n### Complete Matplotlib Code\\n\\n```python\\nimport matplotlib.pyplot as plt\\nimport numpy as np\\n\\n# Data\\nfeatures = [\\'Feature B\\', \\'Feature D\\', \\'Feature C\\', \\'Feature E\\', \\'Feature A\\']\\nimportance_scores = [0.30, 0.25, 0.20, 0.15, 0.10]\\n\\n# Colors\\ncolors = [\\'#2c3e50\\', \\'#3498db\\', \\'#1abc9c\\', \\'#2ecc71\\', \\'#bada55\\']\\n\\n# Plotting\\nfig, ax = plt.subplots(figsize=(10, 6))\\nbars = ax.bar(features, importance_scores, color=colors, edgecolor=\\'black\\')\\n\\n# Adding text annotations\\nfor bar in bars:\\n    yval = bar.get_height()\\n    ax.text(bar.get_x() + bar.get_width()/2, yval, f\\'{yval:.2f}\\', ha=\\'center\\', va=\\'bottom\\')\\n\\n# Title and labels\\nax.set_title(\\'Feature Importance Analysis\\', fontsize=16, fontweight=\\'bold\\')\\nax.set_xlabel(\\'Features\\')\\nax.set_ylabel(\\'Importance Score\\')\\n\\n# Rotating x-tick labels\\nplt.xticks(rotation=10)\\n\\n# Adding grid\\nax.yaxis.grid(True, linestyle=\\'--\\', alpha=0.7)\\n\\nplt.tight_layout()\\nplt.show()\\n```\\n\\nThis code should accurately reproduce the provided image by using matplotlib\\'s functionalities to set the bar colors, add annotations, and configure the layout and style of the chart.',\n",
       " 'stop_reason': 'stop',\n",
       " 'evol_text': \"import matplotlib.pyplot as plt\\nimport numpy as np\\n\\n# New sample data for feature importance\\nfeatures = np.array(['Feature A', 'Feature B', 'Feature C', 'Feature D', 'Feature E'])\\nimportance_scores = np.array([0.1, 0.3, 0.2, 0.25, 0.15])\\n\\n# Sort the features by importance scores in descending order\\nindices_sorted = np.argsort(importance_scores)[::-1]\\nfeatures_sorted = features[indices_sorted]\\nimportance_sorted = importance_scores[indices_sorted]\\n\\n# Create a color gradient based on importance\\ncolors = plt.cm.viridis(np.linspace(0.2, 0.8, len(features)))\\n\\n# Plotting feature importance\\nplt.figure(figsize=(10, 6))\\nbars = plt.bar(features_sorted, importance_sorted, color=colors, edgecolor='black')\\n\\n# Add data labels\\nfor bar in bars:\\n    yval = bar.get_height()\\n    plt.text(bar.get_x() + bar.get_width()/2, yval, f'{yval:.2f}', va='bottom', ha='center', fontsize=10)\\n\\n# Add title and labels\\nplt.title('Feature Importance Analysis', fontsize=16, fontweight='bold')\\nplt.xlabel('Features', fontsize=12)\\nplt.ylabel('Importance Score', fontsize=12)\\n\\n# Add a grid for easier reading\\nplt.grid(axis='y', linestyle='--', alpha=0.7)\\n\\n# Enhance the x-axis labels\\nplt.xticks(rotation=45, ha='right', fontsize=10)\\n\\nplt.tight_layout()\\nplt.show()\",\n",
       " 'gpt_evol_answer': \"Here is an optimized version of the script using only Matplotlib and NumPy. I have enhanced the visual appeal and clarity of the chart by adding meaningful modifications such as color gradients, data labels, and a more informative title and axis labels. I have also removed the dependency on Seaborn, as requested.\\n\\n```python\\nimport matplotlib.pyplot as plt\\nimport numpy as np\\n\\n# New sample data for feature importance\\nfeatures = np.array(['Feature A', 'Feature B', 'Feature C', 'Feature D', 'Feature E'])\\nimportance_scores = np.array([0.1, 0.3, 0.2, 0.25, 0.15])\\n\\n# Sort the features by importance scores in descending order\\nindices_sorted = np.argsort(importance_scores)[::-1]\\nfeatures_sorted = features[indices_sorted]\\nimportance_sorted = importance_scores[indices_sorted]\\n\\n# Create a color gradient based on importance\\ncolors = plt.cm.viridis(np.linspace(0.2, 0.8, len(features)))\\n\\n# Plotting feature importance\\nplt.figure(figsize=(10, 6))\\nbars = plt.bar(features_sorted, importance_sorted, color=colors, edgecolor='black')\\n\\n# Add data labels\\nfor bar in bars:\\n    yval = bar.get_height()\\n    plt.text(bar.get_x() + bar.get_width()/2, yval, f'{yval:.2f}', va='bottom', ha='center', fontsize=10)\\n\\n# Add title and labels\\nplt.title('Feature Importance Analysis', fontsize=16, fontweight='bold')\\nplt.xlabel('Features', fontsize=12)\\nplt.ylabel('Importance Score', fontsize=12)\\n\\n# Add a grid for easier reading\\nplt.grid(axis='y', linestyle='--', alpha=0.7)\\n\\n# Enhance the x-axis labels\\nplt.xticks(rotation=45, ha='right', fontsize=10)\\n\\nplt.tight_layout()\\nplt.show()\\n```\\n\\n### Explanation of Optimizations:\\n\\n1. **Data Sorting:** The features and their corresponding importance scores are sorted in descending order based on importance scores for better readability.\\n\\n2. **Color Gradient:** A color gradient is applied using `plt.cm.viridis` to make the bar chart visually appealing and help differentiate between feature bars.\\n\\n3. **Data Labels:** Each bar now has a data label showing the exact importance score, which makes the chart more informative.\\n\\n4. **Chart Title and Axis Labels:** Enhanced the title and axis labels for clarity and impact, using larger fonts and bold text.\\n\\n5. **Grid Lines:** Added grid lines to the y-axis to assist in accurately reading the bar heights.\\n\\n6. **Axis Ticks:** Rotated the x-axis labels slightly to prevent overlap and ensure clarity.\\n\\nWith these changes, the chart is not only more visually appealing but also more informative and easier to read.\",\n",
       " 'revised_text': \"import matplotlib.pyplot as plt  \\nimport numpy as np  \\nimport seaborn as sns  \\n\\n# Sample data for feature importance\\nfeatures = np.array(['Feature1', 'Feature2', 'Feature3', 'Feature4', 'Feature5'])\\nfeatures_importance = np.array([0.1, 0.3, 0.2, 0.25, 0.15])\\nfeatures_array_ordered = features[np.argsort(features_importance)[::-1]]\\n\\n# Plotting feature importance\\nplt.figure(figsize=(16, 10))\\nsns.barplot(y=features_array_ordered, x=np.sort(features_importance)[::-1], orient='h')\\nplt.title('Feature Importance')\\nplt.xlabel('Importance')\\nplt.ylabel('Features')\\nplt.show()\",\n",
       " 'category': 'Bar',\n",
       " 'chart_size': [10.0, 6.0],\n",
       " 'gpt_answer': \"<REVISED CODE BEGIN>  \\nimport matplotlib.pyplot as plt  \\nimport numpy as np  \\nimport seaborn as sns  \\n\\n# Sample data for feature importance\\nfeatures = np.array(['Feature1', 'Feature2', 'Feature3', 'Feature4', 'Feature5'])\\nfeatures_importance = np.array([0.1, 0.3, 0.2, 0.25, 0.15])\\nfeatures_array_ordered = features[np.argsort(features_importance)[::-1]]\\n\\n# Plotting feature importance\\nplt.figure(figsize=(16, 10))\\nsns.barplot(y=features_array_ordered, x=np.sort(features_importance)[::-1], orient='h')\\nplt.title('Feature Importance')\\nplt.xlabel('Importance')\\nplt.ylabel('Features')\\nplt.show()  \\n<REVISED CODE END>  \\n\\n<CATEGORY>: [Bar]  \\n<CHART SIZE>: (16, 10)  \",\n",
       " 'max_stars_repo_path': 'python/2-Covid19-Mexico-Modelling.py',\n",
       " 'max_stars_repo_name': 'sergiomlop/Covid-19-situation-Mexico',\n",
       " 'max_stars_count': 1,\n",
       " 'id': '6807416',\n",
       " 'text': '<reponame>sergiomlop/Covid-19-situation-Mexico<filename>python/2-Covid19-Mexico-Modelling.py<gh_stars>1-10\\n##### Import packages\\n# Basic packages\\nimport pandas as pd\\nimport numpy as np\\nimport matplotlib.pyplot as plt\\nimport seaborn as sns\\n\\n# Modelling packages\\nfrom sklearn.impute import SimpleImputer\\nfrom imblearn.under_sampling import RandomUnderSampler\\n\\nfrom sklearn.model_selection import train_test_split\\nfrom sklearn.metrics import accuracy_score\\nfrom sklearn.metrics import plot_confusion_matrix\\nfrom sklearn.metrics import classification_report\\n\\nfrom sklearn.ensemble import RandomForestClassifier\\nfrom sklearn.linear_model import LogisticRegression\\n\\n# Other packages\\nfrom datetime import datetime\\nfrom collections import Counter\\n\\n# To avoid warnings\\nimport warnings\\nwarnings.filterwarnings(\"ignore\")\\n\\n\\n# # The objective of creating a prediction model based on Machine Learning Algorithms is to __check the probability of dying if you are COVID-19 confirmed__\\n\\n\\n\\n\\n##### Import data\\n# Check the csv\\'s path before running it\\n\\ndf_est = pd.read_csv(\"CoordEstados.csv\", encoding = \"ISO-8859-1\") # Mexican states data\\ndf_cov = pd.read_csv(\"14.11.20 - COVID19MEXICO.csv\", encoding = \"ISO-8859-1\") # Covid-19 data\\n\\n\\n# # Data Preparation\\n\\n\\n\\n\\n##### Create a new column with the time difference between been positive in COVID-19 and die\\n# If the person didn\\'t die, time difference is 0\\n\\ndf_cov[\\'FECHA_SINTOMAS\\'] = df_cov[\\'FECHA_SINTOMAS\\'].apply(lambda x: datetime.strptime(x, \\'%Y-%m-%d\\'))\\ndf_cov[\\'FECHA_DEF\\'] = df_cov[\\'FECHA_DEF\\'].replace(\\'9999-99-99\\', \\'2001-01-01\\')\\n\\ndf_cov[\\'FECHA_DEF\\'] = df_cov[\\'FECHA_DEF\\'].apply(lambda x: datetime.strptime(x, \\'%Y-%m-%d\\'))\\ndf_cov[\\'DIFERENCIA\\'] = df_cov[\\'FECHA_DEF\\'].sub(df_cov[\\'FECHA_SINTOMAS\\'], axis=0)\\n\\ndf_cov[\\'DIFERENCIA\\'] = df_cov[\\'DIFERENCIA\\'] / np.timedelta64(1, \\'D\\')\\ndf_cov.loc[df_cov[\\'DIFERENCIA\\']<0,\\'DIFERENCIA\\'] = 0\\n\\n\\n\\n\\n\\n##### Create a new column with boolean value: 0 if the person doesn\\'t have any disease, ≠ 0 otherwise\\n# Change the classification method from 1 yes 2 no to 1 yes 0 no. In this case, unknown values will be considered as no.\\n\\nill_name = [\\'DIABETES\\',\\'EPOC\\',\\'ASMA\\',\\'INMUSUPR\\',\\'HIPERTENSION\\',\\'OTRA_COM\\',\\'CARDIOVASCULAR\\',\\'OBESIDAD\\',\\'RENAL_CRONICA\\']\\ndf_cov[ill_name] = df_cov[ill_name].replace([2,98],0)\\n\\ndf_cov[\\'n_ENFERMEDADES\\'] = df_cov[ill_name].sum(axis = 1)\\n\\n\\n\\n\\n\\n##### Create a new column (target) with boolean value: 0 if the person doesn\\'t die, 1 otherwise\\n\\ndf_cov.loc[df_cov[\\'DIFERENCIA\\']==0,\\'MORTALIDAD\\'] = 0\\ndf_cov.loc[df_cov[\\'DIFERENCIA\\']!=0,\\'MORTALIDAD\\'] = 1\\n\\n\\n\\n\\n\\n##### Replacing missing values with NaNs\\n\\ndf_cov.replace([97,98,99],np.nan,inplace=True)\\ndf_cov.isnull().sum()/len(df_cov)*100\\n\\n\\n\\n\\n\\n##### Deleting columns with NaNs > 0.8\\n\\ndf_cov.drop(columns=[\\'INTUBADO\\', \\'MIGRANTE\\', \\'UCI\\'], inplace = True)\\n\\n\\n\\n\\n\\n##### Using SimpleImputer for missing values\\n\\nimputer = SimpleImputer(missing_values=np.nan, strategy=\\'most_frequent\\')\\ndf_cov_imputer = imputer.fit_transform(df_cov)\\n\\ndf_cov = pd.DataFrame(df_cov_imputer, columns = df_cov.columns)\\ndf_cov.isnull().sum()/len(df_cov)*100\\n\\n\\n\\n\\n\\n##### Selecting all the columns to use to modelling (also the target)\\n\\nfeatures = list(df_cov)\\nremove = [\\'FECHA_ACTUALIZACION\\', \\'ID_REGISTRO\\', \\'FECHA_INGRESO\\',\\'FECHA_SINTOMAS\\',\\'FECHA_DEF\\',\\'HABLA_LENGUA_INDIG\\',\\'CLASIFICACION_FINAL\\',\\n          \\'PAIS_NACIONALIDAD\\',\\'RESULTADO_LAB\\',\\'PAIS_ORIGEN\\',\\'NACIONALIDAD\\',\\'EMBARAZO\\',\\'DIFERENCIA\\',\\'MORTALIDAD\\']\\n\\nfor col in remove:\\n    features.remove(col)\\n\\n\\n# # Modelling\\n\\n\\n\\n\\n##### Creation of x and y\\n\\nX = df_cov[features].values.astype(\\'int\\')\\ny = df_cov[\\'MORTALIDAD\\'].values.astype(\\'int\\')\\n\\n\\n\\n\\n\\n##### Creation of X and y split -- train and test\\n\\nX_train, X_test, y_train, y_test = train_test_split(X, y, test_size=0.4, stratify=y)\\n\\n\\n# ## Random Forest\\n\\n\\n\\n\\n##### Random Forest\\n\\nclf = RandomForestClassifier()\\nclf.fit(X_train, y_train)\\n\\nyhat = clf.predict(X_test)\\nprint(\\'Accuracy score: \\',accuracy_score(y_test,yhat))\\n\\n\\n\\n\\n\\n##### Classification Report\\n\\nprint(classification_report(y_test, yhat, digits=3))\\n\\n\\n\\n\\n\\n##### Confussion Matrix\\n\\nplot_confusion_matrix(clf, X_test, y_test,\\n                             display_labels=[0,1],\\n                             cmap=plt.cm.Blues,\\n                             normalize=\"true\")\\nplt.title(\\'Confussion matrix on how the \\\\n model can predict mortality\\')\\nplt.show()\\n\\n\\n\\n\\n\\n##### Feature Importance\\n\\nfeatures_importance = clf.feature_importances_\\nfeatures_array = np.array(features)\\nfeatures_array_ordered = features_array[(features_importance).argsort()[::-1]]\\nfeatures_array_ordered\\n\\nplt.figure(figsize=(16,10))\\nsns.barplot(y = features_array, x = features_importance, orient=\\'h\\', order=features_array_ordered[:50])\\n\\nplt.show()\\n\\n\\n# ## Logistic Regression\\n\\n\\n\\n\\n##### Logistic Regression\\n\\nclf = LogisticRegression(solver=\\'liblinear\\')\\nclf.fit(X_train, y_train)\\n\\nyhat = clf.predict(X_test)\\nprint(\\'Accuracy score: \\',accuracy_score(y_test,yhat))\\n\\n\\n\\n\\n\\n##### Classification Report\\n\\nprint(classification_report(y_test, yhat, digits=3))\\n\\n\\n\\n\\n\\n##### Confussion Matrix\\n\\nplot_confusion_matrix(clf, X_test, y_test,\\n                             display_labels=[0,1],\\n                             cmap=plt.cm.Blues,\\n                             normalize=\"true\")\\nplt.title(\\'Confussion matrix on how the \\\\n model can predict mortality\\')\\nplt.show()\\n\\n\\n# ## UnderSampling\\n\\n\\n\\n\\n##### Undersampling to create sintetic data to improve class balance.\\n# Increase minority class size until its size represent 80% of major class size\\n\\nundersampling = RandomUnderSampler(sampling_strategy=0.8) \\nX_balance, y_balance = undersampling.fit_resample(X, y)\\nCounter(y_balance)\\n\\n\\n\\n\\n\\n##### Creation of X and y split -- train and test applying undersampling\\n\\nX_train, X_test, y_train, y_test = train_test_split(X_balance, y_balance, test_size=0.4)\\n\\n\\n# ## Random Forest with UnderSampling\\n\\n\\n\\n\\n##### Random Forest with UnderSampling\\n\\nclf = RandomForestClassifier()\\nclf.fit(X_train, y_train)\\n\\nyhat = clf.predict(X_test)\\nprint(\\'Accuracy score: \\',accuracy_score(y_test,yhat))\\n\\n\\n\\n\\n\\n##### Classification Report\\n\\nprint(classification_report(y_test, yhat, digits=3))\\n\\n\\n\\n\\n\\n##### Confussion Matrix\\n\\nplot_confusion_matrix(clf, X_test, y_test,\\n                             display_labels=[0,1],\\n                             cmap=plt.cm.Blues,\\n                             normalize=\"true\")\\nplt.title(\\'Confussion matrix on how the \\\\n model can predict mortality\\')\\nplt.show()\\n\\n\\n\\n\\n\\n##### Feature Importance\\n\\nfeatures_importance = clf.feature_importances_\\nfeatures_array = np.array(features)\\nfeatures_array_ordered = features_array[(features_importance).argsort()[::-1]]\\nfeatures_array_ordered\\n\\nplt.figure(figsize=(16,10))\\nsns.barplot(y = features_array, x = features_importance, orient=\\'h\\', order=features_array_ordered[:50])\\n\\nplt.show()\\n\\n\\n# ## Logistic Regression with UnderSampling\\n\\n\\n\\n\\n##### Logistic Regression with UnderSampling\\n\\nclf = LogisticRegression(solver=\\'liblinear\\')\\nclf.fit(X_train, y_train)\\n\\nyhat = clf.predict(X_test)\\nprint(\\'Accuracy score: \\',accuracy_score(y_test,yhat))\\n\\n\\n\\n\\n\\n##### Classification Report\\n\\nprint(classification_report(y_test, yhat, digits=3))\\n\\n\\n\\n\\n\\n##### Confussion Matrix\\n\\nplot_confusion_matrix(clf, X_test, y_test,\\n                             display_labels=[0,1],\\n                             cmap=plt.cm.Blues,\\n                             normalize=\"true\")\\nplt.title(\\'Confussion matrix on how the \\\\n model can predict mortality\\')\\nplt.show()\\n\\n',\n",
       " 'lang': 'python',\n",
       " 'source': 'v1',\n",
       " 'images': '/mnt/lingjiejiang/multimodal_code/data/chart_data/cot_images2/025002.jpg',\n",
       " 'formatted_text': \"```python\\nimport matplotlib.pyplot as plt\\nimport numpy as np\\n\\n# New sample data for feature importance\\nfeatures = np.array(['Feature A', 'Feature B', 'Feature C', 'Feature D', 'Feature E'])\\nimportance_scores = np.array([0.1, 0.3, 0.2, 0.25, 0.15])\\n\\n# Sort the features by importance scores in descending order\\nindices_sorted = np.argsort(importance_scores)[::-1]\\nfeatures_sorted = features[indices_sorted]\\nimportance_sorted = importance_scores[indices_sorted]\\n\\n# Create a color gradient based on importance\\ncolors = plt.cm.viridis(np.linspace(0.2, 0.8, len(features)))\\n\\n# Plotting feature importance\\nplt.figure(figsize=(10, 6))\\nbars = plt.bar(features_sorted, importance_sorted, color=colors, edgecolor='black')\\n\\n# Add data labels\\nfor bar in bars:\\n    yval = bar.get_height()\\n    plt.text(bar.get_x() + bar.get_width()/2, yval, f'{yval:.2f}', va='bottom', ha='center', fontsize=10)\\n\\n# Add title and labels\\nplt.title('Feature Importance Analysis', fontsize=16, fontweight='bold')\\nplt.xlabel('Features', fontsize=12)\\nplt.ylabel('Importance Score', fontsize=12)\\n\\n# Add a grid for easier reading\\nplt.grid(axis='y', linestyle='--', alpha=0.7)\\n\\n# Enhance the x-axis labels\\nplt.xticks(rotation=45, ha='right', fontsize=10)\\n\\nplt.tight_layout()\\nplt.show()\\n```\",\n",
       " 'prompt': 'Use your matplotlib expertise to generate Python code that matches the image, applying figsize=(10, 6) for the correct dimensions.',\n",
       " 'messages': [{'content': '<image>\\nUse your matplotlib expertise to generate Python code that matches the image, applying figsize=(10, 6) for the correct dimensions.\\n',\n",
       "   'role': 'user'},\n",
       "  {'content': \"```python\\nimport matplotlib.pyplot as plt\\nimport numpy as np\\n\\n# New sample data for feature importance\\nfeatures = np.array(['Feature A', 'Feature B', 'Feature C', 'Feature D', 'Feature E'])\\nimportance_scores = np.array([0.1, 0.3, 0.2, 0.25, 0.15])\\n\\n# Sort the features by importance scores in descending order\\nindices_sorted = np.argsort(importance_scores)[::-1]\\nfeatures_sorted = features[indices_sorted]\\nimportance_sorted = importance_scores[indices_sorted]\\n\\n# Create a color gradient based on importance\\ncolors = plt.cm.viridis(np.linspace(0.2, 0.8, len(features)))\\n\\n# Plotting feature importance\\nplt.figure(figsize=(10, 6))\\nbars = plt.bar(features_sorted, importance_sorted, color=colors, edgecolor='black')\\n\\n# Add data labels\\nfor bar in bars:\\n    yval = bar.get_height()\\n    plt.text(bar.get_x() + bar.get_width()/2, yval, f'{yval:.2f}', va='bottom', ha='center', fontsize=10)\\n\\n# Add title and labels\\nplt.title('Feature Importance Analysis', fontsize=16, fontweight='bold')\\nplt.xlabel('Features', fontsize=12)\\nplt.ylabel('Importance Score', fontsize=12)\\n\\n# Add a grid for easier reading\\nplt.grid(axis='y', linestyle='--', alpha=0.7)\\n\\n# Enhance the x-axis labels\\nplt.xticks(rotation=45, ha='right', fontsize=10)\\n\\nplt.tight_layout()\\nplt.show()\\n```\",\n",
       "   'role': 'assistant'}]}"
      ]
     },
     "execution_count": 14,
     "metadata": {},
     "output_type": "execute_result"
    }
   ],
   "source": [
    "filtered_data[25001]"
   ]
  },
  {
   "cell_type": "code",
   "execution_count": 15,
   "metadata": {},
   "outputs": [],
   "source": [
    "filtered_data_path = \"/mnt/lingjiejiang/multimodal_code/data/chart_data/cot_data_filter_40k.json\"\n",
    "with open(filtered_data_path, 'w') as outfile:\n",
    "    json.dump(filtered_data, outfile, indent=0)"
   ]
  },
  {
   "cell_type": "code",
   "execution_count": 16,
   "metadata": {},
   "outputs": [
    {
     "data": {
      "text/plain": [
       "[{'index': 0,\n",
       "  'cot_text': \"import matplotlib.pyplot as plt\\nimport numpy as np\\n\\n# Data generation\\nx = np.arange(0, 25, 1)  # Months from 0 to 24\\ny = 55 + 10 * np.sin(x * np.pi / 6)  # Sine function for stock price oscillation\\n\\n# Plotting\\nfig, ax = plt.subplots(figsize=(10, 6))\\nax.plot(x, y, label='Stock Price', color='blue', marker='o', markerfacecolor='orange', linewidth=2)\\n\\n# Labels and Title\\nax.set_title('Hypothetical Stock Price Over Two Years', fontsize=14, fontweight='bold')\\nax.set_xlabel('Time (Months)')\\nax.set_ylabel('Stock Price ($)')\\n\\n# Grid\\nax.grid(True, linestyle='--', linewidth=0.5)\\n\\n# Legend\\nax.legend(loc='upper left')\\n\\n# Show the plot\\nplt.show()\",\n",
       "  'gpt_cot_answer_raw_answer': 'To reproduce the given chart using matplotlib, let\\'s analyze the various elements of the chart:\\n\\n1. **Chart Type**: The chart is a line plot with data points marked by circular markers.\\n\\n2. **Data**: The x-axis represents time in months from 0 to 24, and the y-axis represents stock prices in a fluctuating manner. The data seems to represent a periodic pattern, suggesting a sine or cosine function.\\n\\n3. **Title**: The title of the chart is \"Hypothetical Stock Price Over Two Years\", centered at the top with a font size that appears to be bold.\\n\\n4. **Axes Labels**:\\n   - X-axis: \"Time (Months)\"\\n   - Y-axis: \"Stock Price ($)\"\\n\\n5. **Legend**: Positioned in the upper left corner inside the plot, with the label \"Stock Price\".\\n\\n6. **Grid**: The grid is displayed with dashed lines.\\n\\n7. **Colors and Styles**:\\n   - The line plot is blue with circular markers outlined in orange.\\n   - The line width is moderately thick.\\n   - The markers are filled with a light color.\\n\\n8. **Figure Size**: The desired figure size is (10, 6).\\n\\nLet\\'s now create the Python code using matplotlib to reproduce this chart.\\n\\n```python\\nimport matplotlib.pyplot as plt\\nimport numpy as np\\n\\n# Data generation\\nx = np.arange(0, 25, 1)  # Months from 0 to 24\\ny = 55 + 10 * np.sin(x * np.pi / 6)  # Sine function for stock price oscillation\\n\\n# Plotting\\nfig, ax = plt.subplots(figsize=(10, 6))\\nax.plot(x, y, label=\\'Stock Price\\', color=\\'blue\\', marker=\\'o\\', markerfacecolor=\\'orange\\', linewidth=2)\\n\\n# Labels and Title\\nax.set_title(\\'Hypothetical Stock Price Over Two Years\\', fontsize=14, fontweight=\\'bold\\')\\nax.set_xlabel(\\'Time (Months)\\')\\nax.set_ylabel(\\'Stock Price ($)\\')\\n\\n# Grid\\nax.grid(True, linestyle=\\'--\\', linewidth=0.5)\\n\\n# Legend\\nax.legend(loc=\\'upper left\\')\\n\\n# Show the plot\\nplt.show()\\n```\\n\\nThis code snippet should create a plot closely matching the provided image, considering all the specified elements.',\n",
       "  'stop_reason': 'stop',\n",
       "  'evol_text': \"import matplotlib.pyplot as plt\\nimport numpy as np\\nfrom matplotlib.ticker import MultipleLocator, FormatStrFormatter\\n\\n# New data representing a financial trend over time\\n# Time in months\\nmonths = np.arange(0, 24, 0.5)\\n# Hypothetical stock prices following a sinusoidal pattern with a trend\\nstock_prices = 50 + 10 * np.sin(0.25 * np.pi * months) + 0.5 * months\\n\\n# Create a figure and axis with an improved aspect ratio\\nfig, ax = plt.subplots(figsize=(10, 6))\\n\\n# Plot the data with enhanced styling\\nax.plot(months, stock_prices, color='dodgerblue', linewidth=2, linestyle='-', marker='o', markersize=5, \\n        markerfacecolor='orange', label='Stock Price')\\n\\n# Add title and labels with improved fonts\\nax.set_title('Hypothetical Stock Price Over Two Years', fontsize=16, fontweight='bold')\\nax.set_xlabel('Time (Months)', fontsize=12)\\nax.set_ylabel('Stock Price ($)', fontsize=12)\\n\\n# Set major and minor locators and formatters\\nax.xaxis.set_major_locator(MultipleLocator(4))\\nax.xaxis.set_major_formatter(FormatStrFormatter('%d'))\\nax.xaxis.set_minor_locator(MultipleLocator(1))\\nax.yaxis.set_major_locator(MultipleLocator(10))\\nax.yaxis.set_minor_locator(MultipleLocator(2))\\n\\n# Add grid lines for better readability\\nax.grid(which='major', color='gray', linestyle='--', linewidth=0.5)\\nax.grid(which='minor', color='lightgray', linestyle=':', linewidth=0.5)\\n\\n# Add a legend\\nax.legend(loc='upper left', fontsize=10)\\n\\n# Enhance layout\\nplt.tight_layout()\\n\\n# Show the plot\\nplt.show()\",\n",
       "  'gpt_evol_answer': \"To enhance the visual appeal and clarity of the line chart, we'll make several modifications to the original script. We'll improve the styling by adding meaningful colors, markers, and line styles. We'll also add a title, axis labels, a legend, and grid lines to make the chart more informative and visually engaging. Furthermore, I will adjust the figure size to create a more balanced and aesthetically pleasing layout. Here's the optimized code:\\n\\n```python\\nimport matplotlib.pyplot as plt\\nimport numpy as np\\nfrom matplotlib.ticker import MultipleLocator, FormatStrFormatter\\n\\n# New data representing a financial trend over time\\n# Time in months\\nmonths = np.arange(0, 24, 0.5)\\n# Hypothetical stock prices following a sinusoidal pattern with a trend\\nstock_prices = 50 + 10 * np.sin(0.25 * np.pi * months) + 0.5 * months\\n\\n# Create a figure and axis with an improved aspect ratio\\nfig, ax = plt.subplots(figsize=(10, 6))\\n\\n# Plot the data with enhanced styling\\nax.plot(months, stock_prices, color='dodgerblue', linewidth=2, linestyle='-', marker='o', markersize=5, \\n        markerfacecolor='orange', label='Stock Price')\\n\\n# Add title and labels with improved fonts\\nax.set_title('Hypothetical Stock Price Over Two Years', fontsize=16, fontweight='bold')\\nax.set_xlabel('Time (Months)', fontsize=12)\\nax.set_ylabel('Stock Price ($)', fontsize=12)\\n\\n# Set major and minor locators and formatters\\nax.xaxis.set_major_locator(MultipleLocator(4))\\nax.xaxis.set_major_formatter(FormatStrFormatter('%d'))\\nax.xaxis.set_minor_locator(MultipleLocator(1))\\nax.yaxis.set_major_locator(MultipleLocator(10))\\nax.yaxis.set_minor_locator(MultipleLocator(2))\\n\\n# Add grid lines for better readability\\nax.grid(which='major', color='gray', linestyle='--', linewidth=0.5)\\nax.grid(which='minor', color='lightgray', linestyle=':', linewidth=0.5)\\n\\n# Add a legend\\nax.legend(loc='upper left', fontsize=10)\\n\\n# Enhance layout\\nplt.tight_layout()\\n\\n# Show the plot\\nplt.show()\\n```\\n\\n### Key Enhancements:\\n- **Data**: The data now represents a hypothetical stock price trend over two years, providing a realistic context for a line chart.\\n- **Styling**: The line is styled with a distinct color (`dodgerblue`), markers (`o`), and a secondary color for the markers (`orange`) to improve visual interest.\\n- **Labels and Title**: Added a descriptive title and axis labels with appropriate fonts and sizes to make the chart more informative.\\n- **Layout**: The figure size is adjusted to a wider aspect ratio for better visibility and balance.\\n- **Grid**: Major and minor grid lines add clarity to the chart, helping to trace values accurately.\\n- **Legend**: A legend is included to describe the line, even though there's only one line, to demonstrate best practices for charts with multiple lines.\",\n",
       "  'revised_text': \"import matplotlib.pyplot as plt  \\nimport numpy as np  \\nfrom matplotlib.ticker import MultipleLocator, FormatStrFormatter\\n\\n# Sample data\\nt = np.arange(0.0, 100.0, 0.1)\\ns = np.sin(0.1 * np.pi * t) * np.exp(-t * 0.01)\\n\\n# Create a new figure\\nfig = plt.figure(figsize=(6.0, 4.0))\\nax = fig.add_subplot(111)\\n\\n# Plot the data\\nax.plot(t, s)\\n\\n# Set major and minor locators and formatters\\nmajorLocator = MultipleLocator(20)\\nmajorFormatter = FormatStrFormatter('%d')\\nminorLocator = MultipleLocator(5)\\n\\nax.xaxis.set_major_locator(majorLocator)\\nax.xaxis.set_major_formatter(majorFormatter)\\nax.xaxis.set_minor_locator(minorLocator)\\n\\n# Show the plot\\nplt.show()\",\n",
       "  'category': 'Line',\n",
       "  'chart_size': [10.0, 6.0],\n",
       "  'max_stars_repo_path': 'examples/pylab_examples/major_minor_demo1.py',\n",
       "  'max_stars_repo_name': 'pierre-haessig/matplotlib',\n",
       "  'max_stars_count': 1,\n",
       "  'id': '66391',\n",
       "  'text': '#!/usr/bin/env python\\n\"\"\"\\nDemonstrate how to use major and minor tickers.\\n\\nThe two relevant userland classes are Locators and Formatters.\\nLocators determine where the ticks are and formatters control the\\nformatting of ticks.\\n\\nMinor ticks are off by default (NullLocator and NullFormatter).  You\\ncan turn minor ticks on w/o labels by setting the minor locator.  You\\ncan also turn labeling on for the minor ticker by setting the minor\\nformatter\\n\\nMake a plot with major ticks that are multiples of 20 and minor ticks\\nthat are multiples of 5.  Label major ticks with %d formatting but\\ndon\\'t label minor ticks\\n\\nThe MultipleLocator ticker class is used to place ticks on multiples of\\nsome base.  The FormatStrFormatter uses a string format string (eg\\n\\'%d\\' or \\'%1.2f\\' or \\'%1.1f cm\\' ) to format the tick\\n\\nThe pylab interface grid command changes the grid settings of the\\nmajor ticks of the y and y axis together.  If you want to control the\\ngrid of the minor ticks for a given axis, use for example\\n\\n  ax.xaxis.grid(True, which=\\'minor\\')\\n\\nNote, you should not use the same locator between different Axis\\nbecause the locator stores references to the Axis data and view limits\\n\\n\"\"\"\\n\\nfrom pylab import *\\nfrom matplotlib.ticker import MultipleLocator, FormatStrFormatter\\n\\nmajorLocator   = MultipleLocator(20)\\nmajorFormatter = FormatStrFormatter(\\'%d\\')\\nminorLocator   = MultipleLocator(5)\\n\\n\\nt = arange(0.0, 100.0, 0.1)\\ns = sin(0.1*pi*t)*exp(-t*0.01)\\n\\nax = subplot(111)\\nplot(t,s)\\n\\nax.xaxis.set_major_locator(majorLocator)\\nax.xaxis.set_major_formatter(majorFormatter)\\n\\n#for the minor ticks, use no labels; default NullFormatter\\nax.xaxis.set_minor_locator(minorLocator)\\n\\nshow()\\n',\n",
       "  'source': 'v1',\n",
       "  'images': '/mnt/lingjiejiang/multimodal_code/data/chart_data/cot_images1/000001.jpg',\n",
       "  'prompt': 'Could you design matplotlib code to reproduce this picture, taking care to use figsize=(10, 6) for the dimensions?',\n",
       "  'messages': [{'content': '<image>\\nCould you design matplotlib code to reproduce this picture, taking care to use figsize=(10, 6) for the dimensions?\\n',\n",
       "    'role': 'user'},\n",
       "   {'content': \"```python\\nimport matplotlib.pyplot as plt\\nimport numpy as np\\nfrom matplotlib.ticker import MultipleLocator, FormatStrFormatter\\n\\n# New data representing a financial trend over time\\n# Time in months\\nmonths = np.arange(0, 24, 0.5)\\n# Hypothetical stock prices following a sinusoidal pattern with a trend\\nstock_prices = 50 + 10 * np.sin(0.25 * np.pi * months) + 0.5 * months\\n\\n# Create a figure and axis with an improved aspect ratio\\nfig, ax = plt.subplots(figsize=(10, 6))\\n\\n# Plot the data with enhanced styling\\nax.plot(months, stock_prices, color='dodgerblue', linewidth=2, linestyle='-', marker='o', markersize=5, \\n        markerfacecolor='orange', label='Stock Price')\\n\\n# Add title and labels with improved fonts\\nax.set_title('Hypothetical Stock Price Over Two Years', fontsize=16, fontweight='bold')\\nax.set_xlabel('Time (Months)', fontsize=12)\\nax.set_ylabel('Stock Price ($)', fontsize=12)\\n\\n# Set major and minor locators and formatters\\nax.xaxis.set_major_locator(MultipleLocator(4))\\nax.xaxis.set_major_formatter(FormatStrFormatter('%d'))\\nax.xaxis.set_minor_locator(MultipleLocator(1))\\nax.yaxis.set_major_locator(MultipleLocator(10))\\nax.yaxis.set_minor_locator(MultipleLocator(2))\\n\\n# Add grid lines for better readability\\nax.grid(which='major', color='gray', linestyle='--', linewidth=0.5)\\nax.grid(which='minor', color='lightgray', linestyle=':', linewidth=0.5)\\n\\n# Add a legend\\nax.legend(loc='upper left', fontsize=10)\\n\\n# Enhance layout\\nplt.tight_layout()\\n\\n# Show the plot\\nplt.show()\\n```\",\n",
       "    'role': 'assistant'}],\n",
       "  'formatted_text': \"```python\\nimport matplotlib.pyplot as plt\\nimport numpy as np\\nfrom matplotlib.ticker import MultipleLocator, FormatStrFormatter\\n\\n# New data representing a financial trend over time\\n# Time in months\\nmonths = np.arange(0, 24, 0.5)\\n# Hypothetical stock prices following a sinusoidal pattern with a trend\\nstock_prices = 50 + 10 * np.sin(0.25 * np.pi * months) + 0.5 * months\\n\\n# Create a figure and axis with an improved aspect ratio\\nfig, ax = plt.subplots(figsize=(10, 6))\\n\\n# Plot the data with enhanced styling\\nax.plot(months, stock_prices, color='dodgerblue', linewidth=2, linestyle='-', marker='o', markersize=5, \\n        markerfacecolor='orange', label='Stock Price')\\n\\n# Add title and labels with improved fonts\\nax.set_title('Hypothetical Stock Price Over Two Years', fontsize=16, fontweight='bold')\\nax.set_xlabel('Time (Months)', fontsize=12)\\nax.set_ylabel('Stock Price ($)', fontsize=12)\\n\\n# Set major and minor locators and formatters\\nax.xaxis.set_major_locator(MultipleLocator(4))\\nax.xaxis.set_major_formatter(FormatStrFormatter('%d'))\\nax.xaxis.set_minor_locator(MultipleLocator(1))\\nax.yaxis.set_major_locator(MultipleLocator(10))\\nax.yaxis.set_minor_locator(MultipleLocator(2))\\n\\n# Add grid lines for better readability\\nax.grid(which='major', color='gray', linestyle='--', linewidth=0.5)\\nax.grid(which='minor', color='lightgray', linestyle=':', linewidth=0.5)\\n\\n# Add a legend\\nax.legend(loc='upper left', fontsize=10)\\n\\n# Enhance layout\\nplt.tight_layout()\\n\\n# Show the plot\\nplt.show()\\n```\"},\n",
       " {'index': 1,\n",
       "  'cot_text': \"import numpy as np\\nimport matplotlib.pyplot as plt\\n\\n# Define the x range from 0 to 10\\nx = np.linspace(0, 10, 100)\\n\\n# Calculate the y values for sine, cosine, and tangent\\ny1 = np.sin(x)\\ny2 = np.cos(x)\\ny3 = np.tan(x)\\n\\n# Create a figure and axis\\nfig, ax = plt.subplots(figsize=(10, 6))\\n\\n# Plot each function with specific styles\\nax.plot(x, y1, 'b-o', label='Sine Wave')     # Blue line with circle markers\\nax.plot(x, y2, 'orange', marker='s', label='Cosine Wave')  # Orange line with square markers\\nax.plot(x, y3, 'g--', marker='^', label='Tangent Wave')    # Green dashed line with triangle markers\\n\\n# Set the y-axis limit to ensure tangent function doesn't go out of bounds\\nax.set_ylim(-2, 2)\\n\\n# Adding gridlines\\nax.grid(True)\\n\\n# Set labels and title\\nax.set_xlabel('Angle (radians)')\\nax.set_ylabel('Value')\\nax.set_title('Trigonometric Functions')\\n\\n# Add a legend\\nax.legend()\\n\\n# Display the plot\\nplt.show()\",\n",
       "  'gpt_cot_answer_raw_answer': 'To generate the provided image using Python and matplotlib, let\\'s analyze its elements:\\n\\n1. **Chart Type**: This is a line chart with three different trigonometric functions - sine, cosine, and tangent.\\n2. **Data**:\\n   - The x-axis represents angles in radians, likely ranging from 0 to 10.\\n   - The y-axis represents the values of the trigonometric functions.\\n3. **Line Styles and Markers**:\\n   - **Sine Wave**: Blue solid line with circle markers (`o`).\\n   - **Cosine Wave**: Orange solid line with square markers (`s`).\\n   - **Tangent Wave**: Green dashed line with triangle markers (`^`).\\n4. **Colors**: \\n   - Sine is blue, cosine is orange, and tangent is green.\\n5. **Layout**:\\n   - The grid is enabled, helping to visualize the values.\\n   - The `figsize` is set to (10, 6) for proper dimension matching.\\n6. **Labels**:\\n   - The x-axis is labeled \"Angle (radians)\".\\n   - The y-axis is labeled \"Value\".\\n7. **Title**: The title of the chart is \"Trigonometric Functions\".\\n8. **Legend**: A legend is provided at the top right corner, describing each wave.\\n\\nHere\\'s the complete code to reproduce the chart:\\n\\n```python\\nimport numpy as np\\nimport matplotlib.pyplot as plt\\n\\n# Define the x range from 0 to 10\\nx = np.linspace(0, 10, 100)\\n\\n# Calculate the y values for sine, cosine, and tangent\\ny1 = np.sin(x)\\ny2 = np.cos(x)\\ny3 = np.tan(x)\\n\\n# Create a figure and axis\\nfig, ax = plt.subplots(figsize=(10, 6))\\n\\n# Plot each function with specific styles\\nax.plot(x, y1, \\'b-o\\', label=\\'Sine Wave\\')     # Blue line with circle markers\\nax.plot(x, y2, \\'orange\\', marker=\\'s\\', label=\\'Cosine Wave\\')  # Orange line with square markers\\nax.plot(x, y3, \\'g--\\', marker=\\'^\\', label=\\'Tangent Wave\\')    # Green dashed line with triangle markers\\n\\n# Set the y-axis limit to ensure tangent function doesn\\'t go out of bounds\\nax.set_ylim(-2, 2)\\n\\n# Adding gridlines\\nax.grid(True)\\n\\n# Set labels and title\\nax.set_xlabel(\\'Angle (radians)\\')\\nax.set_ylabel(\\'Value\\')\\nax.set_title(\\'Trigonometric Functions\\')\\n\\n# Add a legend\\nax.legend()\\n\\n# Display the plot\\nplt.show()\\n```\\n\\nThis code will generate a plot similar to the provided image, with the specified labels, lines, markers, and colors.',\n",
       "  'stop_reason': 'stop',\n",
       "  'evol_text': \"import matplotlib.pyplot as plt\\nimport numpy as np\\n\\n# Create sample data\\nx = np.linspace(0, 10, 100)\\ny1 = np.sin(x)  # Sine wave\\ny2 = np.cos(x)  # Cosine wave\\ny3 = np.tan(x)  # Tangent wave, limited to avoid extreme values\\n\\n# Create a new figure\\nfig, ax = plt.subplots(figsize=(10, 6))\\n\\n# Plot the data with different styles\\nax.plot(x, y1, color='royalblue', linewidth=2, linestyle='-', marker='o', markersize=5, label='Sine Wave')\\nax.plot(x, y2, color='darkorange', linewidth=2, linestyle='--', marker='s', markersize=5, label='Cosine Wave')\\nax.plot(x, y3, color='green', linewidth=2, linestyle=':', marker='^', markersize=5, label='Tangent Wave', alpha=0.7)\\nax.set_ylim(-2, 2)  # Limit y-axis to avoid displaying extreme tangent values\\n\\n# Set labels\\nax.set_xlabel('Angle (radians)', fontsize=12, fontweight='bold')\\nax.set_ylabel('Value', fontsize=12, fontweight='bold')\\nax.set_title('Trigonometric Functions', fontsize=14, fontweight='bold')\\n\\n# Add grid for better readability\\nax.grid(True, linestyle='--', alpha=0.6)\\n\\n# Add a legend\\nax.legend(loc='upper right', fontsize=10)\\n\\n# Improve layout\\nplt.tight_layout()\\n\\n# Show the plot\\nplt.show()\",\n",
       "  'gpt_evol_answer': \"Below is an optimized and enhanced version of the original code. The improvements include the use of multiple line styles, customized markers, a grid for better readability, and more detailed labels and title. The data is crafted to demonstrate a scenario of comparing mathematical functions.\\n\\n```python\\nimport matplotlib.pyplot as plt\\nimport numpy as np\\n\\n# Create sample data\\nx = np.linspace(0, 10, 100)\\ny1 = np.sin(x)  # Sine wave\\ny2 = np.cos(x)  # Cosine wave\\ny3 = np.tan(x)  # Tangent wave, limited to avoid extreme values\\n\\n# Create a new figure\\nfig, ax = plt.subplots(figsize=(10, 6))\\n\\n# Plot the data with different styles\\nax.plot(x, y1, color='royalblue', linewidth=2, linestyle='-', marker='o', markersize=5, label='Sine Wave')\\nax.plot(x, y2, color='darkorange', linewidth=2, linestyle='--', marker='s', markersize=5, label='Cosine Wave')\\nax.plot(x, y3, color='green', linewidth=2, linestyle=':', marker='^', markersize=5, label='Tangent Wave', alpha=0.7)\\nax.set_ylim(-2, 2)  # Limit y-axis to avoid displaying extreme tangent values\\n\\n# Set labels\\nax.set_xlabel('Angle (radians)', fontsize=12, fontweight='bold')\\nax.set_ylabel('Value', fontsize=12, fontweight='bold')\\nax.set_title('Trigonometric Functions', fontsize=14, fontweight='bold')\\n\\n# Add grid for better readability\\nax.grid(True, linestyle='--', alpha=0.6)\\n\\n# Add a legend\\nax.legend(loc='upper right', fontsize=10)\\n\\n# Improve layout\\nplt.tight_layout()\\n\\n# Show the plot\\nplt.show()\\n```\\n\\n### Key Enhancements:\\n- **Multiple Lines**: Added cosine and tangent waves to compare different trigonometric functions.\\n- **Line Styles and Markers**: Used different line styles (`-`, `--`, `:`) and markers (`o`, `s`, `^`) to differentiate the lines.\\n- **Axis Limits**: Set the y-axis limit to avoid extreme tangent values, ensuring the plot remains readable.\\n- **Grid**: Added a grid to improve readability and help users follow the lines across the plot.\\n- **Labels and Titles**: Enhanced axis labels and title with detailed descriptions and formatted with bold fonts.\\n- **Legend Placement**: Positioned the legend in the upper right corner for better visibility.\\n\\nThis enriched chart provides a more informative and visually appealing representation of the data.\",\n",
       "  'revised_text': \"import matplotlib.pyplot as plt  \\nimport numpy as np  \\n\\n# Sample data\\nx = np.linspace(0, 10, 100)\\ny = np.sin(x)\\n\\n# Create a new figure\\nfig = plt.figure(figsize=(7.5, 6))\\n\\n# Plot the data\\nplt.plot(x, y, color='blue', label='Sine Wave')\\n\\n# Set labels\\nplt.xlabel('X')\\nplt.ylabel('Y')\\nplt.title('Sine Wave')\\n\\n# Add a legend\\nplt.legend()\\n\\n# Show the plot\\nplt.show()\",\n",
       "  'category': 'Line',\n",
       "  'chart_size': [10.0, 6.0],\n",
       "  'max_stars_repo_path': 'src/utils.py',\n",
       "  'max_stars_repo_name': 'mmin0/SigDFP',\n",
       "  'max_stars_count': 0,\n",
       "  'id': '18481',\n",
       "  'text': '\\n\\nimport torch\\nimport matplotlib\\nmatplotlib.use(\"Agg\")\\nimport matplotlib.pyplot as plt\\nfrom matplotlib.legend_handler import HandlerTuple\\nfrom matplotlib.ticker import FormatStrFormatter\\n#from tqdm import tqdm\\n\\nmatplotlib.rcParams[\\'pdf.fonttype\\'] = 42\\nmatplotlib.rcParams[\\'ps.fonttype\\'] = 42\\n\\n\\nplt.rc(\\'xtick\\', labelsize=22)    # fontsize of the tick labels\\nplt.rc(\\'ytick\\', labelsize=22)\\nplt.rc(\\'legend\\', fontsize=25) \\nplt.rc(\\'axes\\', labelsize=25)\\nplt.rcParams[\"figure.figsize\"] = (7.5, 6)\\ncolors = [\\'lightcoral\\', \\'mediumseagreen\\', \\'darkorange\\']\\n\\ndef epoch_time(start_time, end_time):\\n    elap_time = end_time - start_time\\n    elap_min = elap_time//60\\n    elap_sec = elap_time % 60\\n    return elap_min, elap_sec\\n\\n\\ndef train(model, dataloader, optimizer, criterion, initial, prev_m, device, depth=4):\\n    \"\"\"\\n    train model for alpha for one loop over dataloader\\n    \"\"\"\\n    epoch_loss = 0\\n    \\n    model.train() # set model to train mode\\n    i = 0\\n    for batch in dataloader:\\n        optimizer.zero_grad()\\n    \\n        bm, cn = batch\\n        \\n        X = model(bm.to(device), \\n                  cn.to(device), \\n                  prev_m[i*dataloader.batch_size:(i+1)*dataloader.batch_size], \\n                  initial[i*dataloader.batch_size:(i+1)*dataloader.batch_size].to(device))\\n        strategy = model.strategy\\n        loss = criterion(X, prev_m[i*dataloader.batch_size:(i+1)*dataloader.batch_size], strategy)\\n        \\n        loss.backward(retain_graph=True)\\n        optimizer.step()\\n\\n        epoch_loss += loss.item()\\n        i+=1\\n    return epoch_loss/len(dataloader)\\n\\n\\ndef evaluate(model, dataloader, criterion, initial, prev_m, device, depth=4):\\n    \\n    epoch_loss = 0\\n    #initialize\\n    #N = prev_m.size()[0] - 1\\n    #m = torch.zeros(N+1, 1, device=device)\\n    #sigs = torch.zeros(signatory.signature_channels(2, depth), device=device)\\n    model.eval() # set model to train mode\\n    i = 0\\n    for batch in dataloader:\\n        bm, cn = batch\\n        X = model(bm.to(device), \\n                  cn.to(device), \\n                  prev_m[i*dataloader.batch_size:(i+1)*dataloader.batch_size], \\n                  initial[i*dataloader.batch_size:(i+1)*dataloader.batch_size].to(device))\\n        strategy = model.strategy\\n        loss = criterion(X, prev_m[i*dataloader.batch_size:(i+1)*dataloader.batch_size], strategy)\\n\\n        epoch_loss += loss.item()\\n        i+=1\\n    return epoch_loss/len(dataloader)\\n\\n\\n\\ndef train1(model, dataloader, optimizer, criterion, initial, prev_m, device, depth=4):\\n    \"\"\"\\n    train model for alpha for one loop over dataloader\\n    \"\"\"\\n    epoch_loss = 0\\n    \\n    model.train() # set model to train mode\\n    i = 0\\n    for batch in dataloader:\\n        \\n        optimizer.zero_grad()\\n    \\n        bm, cn, typeVec = batch\\n        \\n        X = model(bm.to(device), \\n                  cn.to(device), \\n                  typeVec.to(device),\\n                  prev_m[i*dataloader.batch_size:(i+1)*dataloader.batch_size], \\n                  initial[i*dataloader.batch_size:(i+1)*dataloader.batch_size].to(device))\\n        strategy = model.strategy\\n        loss = criterion(X, prev_m[i*dataloader.batch_size:(i+1)*dataloader.batch_size], strategy)\\n        \\n        loss.backward(retain_graph=True)\\n        optimizer.step()\\n\\n        epoch_loss += loss.item()\\n        i+=1\\n    return epoch_loss/len(dataloader)\\n\\n\\ndef evaluate1(model, dataloader, criterion, initial, prev_m, device, depth=4):\\n    \\n    epoch_loss = 0\\n    model.eval() # set model to train mode\\n    i = 0\\n    for batch in dataloader:\\n        \\n        bm, cn, typeVec = batch\\n        X = model(bm.to(device), \\n                  cn.to(device),\\n                  typeVec.to(device),\\n                  prev_m[i*dataloader.batch_size:(i+1)*dataloader.batch_size], \\n                  initial[i*dataloader.batch_size:(i+1)*dataloader.batch_size].to(device))\\n        strategy = model.strategy\\n        loss = criterion(X, prev_m[i*dataloader.batch_size:(i+1)*dataloader.batch_size], strategy)\\n\\n        epoch_loss += loss.item()\\n        \\n        i+=1\\n    return epoch_loss/len(dataloader)\\n\\n\\n\\n\\ndef train2(model, dataloader, optimizer, criterion, initial, prev_m, prev_c, device, depth=4):\\n    \"\"\"\\n    train model for alpha for one loop over dataloader\\n    \"\"\"\\n    epoch_loss = 0\\n    \\n    model.train() # set model to train mode\\n    i = 0\\n    for batch in dataloader:\\n        \\n        optimizer.zero_grad()\\n    \\n        bm, cn, typeVec = batch\\n        \\n        X = model(bm.to(device), \\n                  cn.to(device), \\n                  typeVec.to(device),\\n                  prev_m[i*dataloader.batch_size:(i+1)*dataloader.batch_size],\\n                  prev_c[i*dataloader.batch_size:(i+1)*dataloader.batch_size],\\n                  initial[i*dataloader.batch_size:(i+1)*dataloader.batch_size].to(device))\\n        strategy = model.strategy\\n        \\n        loss = criterion(X, prev_m[i*dataloader.batch_size:(i+1)*dataloader.batch_size], \\n                        strategy, prev_c[i*dataloader.batch_size:(i+1)*dataloader.batch_size])\\n        \\n        loss.backward(retain_graph=True)\\n        optimizer.step()\\n\\n        epoch_loss += loss.item()\\n        i+=1\\n    return epoch_loss/len(dataloader)\\n\\n\\ndef evaluate2(model, dataloader, criterion, initial, prev_m, prev_c, device, depth=4):\\n    \\n    epoch_loss = 0\\n    #initialize\\n    #N = prev_m.size()[0] - 1\\n    #m = torch.zeros(N+1, 1, device=device)\\n    #sigs = torch.zeros(signatory.signature_channels(2, depth), device=device)\\n    model.eval() # set model to train mode\\n    i = 0\\n    \\n    for batch in dataloader:\\n    \\n        bm, cn, typeVec = batch\\n        \\n        X = model(bm.to(device), \\n                  cn.to(device), \\n                  typeVec.to(device),\\n                  prev_m[i*dataloader.batch_size:(i+1)*dataloader.batch_size], \\n                  prev_c[i*dataloader.batch_size:(i+1)*dataloader.batch_size],\\n                  initial[i*dataloader.batch_size:(i+1)*dataloader.batch_size].to(device))\\n        strategy = model.strategy\\n        loss = criterion(X, prev_m[i*dataloader.batch_size:(i+1)*dataloader.batch_size], \\n                        strategy, prev_c[i*dataloader.batch_size:(i+1)*dataloader.batch_size])\\n        \\n        epoch_loss += loss.item()\\n        \\n        i+=1\\n    return epoch_loss/len(dataloader)\\n\\n\\ndef plotErrors(error, target_addr, title, filename):\\n    fig = plt.figure()\\n    plt.title(title)\\n    plt.xlabel(\"FP rounds\")\\n    plt.ylabel(\"Errors\")\\n    plt.plot(error, color=\\'blue\\')\\n    fig.savefig(target_addr+\\'/\\'+filename+\\'.pdf\\')\\n    \\ndef plotUtil(util, ylim, ytrue, target_addr, title, filename, ins_loc=None, ins_ylim=None, cost=False):\\n    \\n    if cost:\\n        n = len(util)\\n        fig, ax = plt.subplots(figsize=(7.5, 6))\\n        if title:\\n            plt.title(title)\\n        if ylim:\\n            ax.set_ylim(ylim)\\n        ax.set_xlabel(r\"FP iterations $n$\")\\n        ax.set_ylabel(\"validation cost\")\\n        l1 = ax.axhline(ytrue, color=\"indianred\", ls=\"--\")\\n        l2, = ax.plot(util, color=\\'darkcyan\\', ls=\"-\")\\n        if ins_loc:\\n            axins = ax.inset_axes(ins_loc)\\n        if ins_ylim:\\n            axins.set_ylim(ins_ylim)\\n        axins.plot(range(n-50, n), util[-50:], color=\\'darkcyan\\', ls=\"-\")\\n        axins.axhline(ytrue, color=\"indianred\", ls=\"--\")\\n        \\n        ax.indicate_inset_zoom(axins)\\n        ax.legend((l1, l2), (\"true cost\", \"validation cost\"), loc=\"upper center\")\\n        plt.tight_layout()\\n        fig.savefig(target_addr+\\'/\\'+filename+\\'.pdf\\')\\n    else:\\n        n = len(util)\\n        fig, ax = plt.subplots(figsize=(7.5, 6))\\n        if title:\\n            plt.title(title)\\n        if ylim:\\n            ax.set_ylim(ylim)\\n        ax.set_xlabel(r\"FP iterations $n$\")\\n        ax.set_ylabel(\"validation utility\")\\n        l1 = ax.axhline(ytrue, color=\"indianred\", ls=\"--\")\\n        l2, = ax.plot(util, color=\\'darkcyan\\', ls=\"-\")\\n        if ins_loc:\\n            axins = ax.inset_axes(ins_loc)\\n        if ins_ylim:\\n            axins.set_ylim(ins_ylim)\\n        axins.plot(range(n-50, n), util[-50:], color=\\'darkcyan\\', ls=\"-\")\\n        axins.axhline(ytrue, color=\"indianred\", ls=\"--\")\\n        \\n        ax.indicate_inset_zoom(axins)\\n        ax.legend((l1, l2), (\"true utility\", \"validation utility\"), loc=\"upper center\")\\n        plt.tight_layout()\\n        fig.savefig(target_addr+\\'/\\'+filename+\\'.pdf\\')\\n\\n\\n\\ndef plotMeanDiff_bencmarkvspredicted(data, target_addr, title, filename, ylim=None, label1=None, label2=None, ylabel=None, legendloc=None, round_=False):\\n    fig = plt.figure()\\n    if title:\\n        plt.title(title)\\n    x, next_m, m = data\\n    if ylim:\\n        plt.ylim(ylim)\\n    c = len(next_m)\\n    lines = []\\n    lines_pred = []\\n    for i in range(c):\\n        l, = plt.plot(x, next_m[i], color=colors[i])\\n        lines.append(l)\\n    for i in range(c):\\n        l, = plt.plot(x, m[i], color=colors[i], ls=\\'--\\', marker=\\'.\\')\\n        lines_pred.append(l)\\n    #plt.plot(x, next_m-m, label=\\'diff\\')\\n    plt.xlabel(r\"time $t$\")\\n    if ylabel:\\n        plt.ylabel(ylabel)\\n    if legendloc:\\n        plt.legend([tuple(lines), tuple(lines_pred)], [label1, label2],\\n                loc=legendloc, ncol=2, handler_map={tuple: HandlerTuple(ndivide=None)})\\n    else:\\n        plt.legend([tuple(lines), tuple(lines_pred)], [label1, label2],\\n                loc=\"upper left\", ncol=2, handler_map={tuple: HandlerTuple(ndivide=None)})\\n    if round_:\\n        plt.gca().yaxis.set_major_formatter(FormatStrFormatter(\\'%.2f\\'))\\n    plt.tight_layout()\\n    fig.savefig(target_addr+\\'/\\'+filename+\\'.pdf\\')\\n    \\n\\ndef L2distance(x, y):\\n    b, N, _ = x.size()\\n    return ((torch.sum(torch.pow(x - y, 2))/N/b)**0.5).item()\\n\\ndef plotSDE(benchmark, predicted, target_addr, title, filename, ylim=None, label1=None, label2=None, legendloc=None):\\n    \"\"\"\\n    input:\\n        benchmark -- list[paths]\\n        predicted -- list[paths]\\n    \"\"\"\\n    fig = plt.figure()\\n    if title:\\n        plt.title(title)\\n    if ylim:\\n        plt.ylim(ylim)\\n    t = [i/100 for i in range(101)]\\n    c = len(benchmark)\\n    lines = []\\n    lines_pred = []\\n    for i in range(c):\\n        l, = plt.plot(t, benchmark[i], color=colors[i], ls=\\'-\\')\\n        lines.append(l)\\n    for i in range(c):\\n        l, = plt.plot(t, predicted[i], color=colors[i], ls=\\'--\\', marker=\\'.\\')\\n        lines_pred.append(l)\\n    if legendloc:\\n        plt.legend([tuple(lines), tuple(lines_pred)], [label1, label2],\\n                loc=legendloc, ncol=2, handler_map={tuple: HandlerTuple(ndivide=None)})\\n    else:\\n        plt.legend([tuple(lines), tuple(lines_pred)], [label1, label2],\\n                loc=\"upper left\", ncol=2, handler_map={tuple: HandlerTuple(ndivide=None)})\\n    plt.xlabel(r\"time $t$\")\\n    plt.ylabel(r\"$X_t$ and $\\\\widehat{X}_t$\")\\n    plt.tight_layout()\\n    fig.savefig(target_addr+\\'/\\'+filename+\\'.pdf\\')\\n    \\n\\n    \\ndef plotC(benchmark, predicted, target_addr, title, filename, label1=None, label2=None, ylabel=None):\\n    \"\"\"\\n    input:\\n        benchmark -- list[paths]\\n        predicted -- list[paths]\\n    \"\"\"\\n    t = [i/100 for i in range(100)]\\n    fig = plt.figure()\\n    if title:\\n        plt.title(title)\\n    c = len(benchmark)\\n    lines = []\\n    lines_pred = []\\n    for i in range(c):\\n        l, = plt.plot(t, benchmark[i], color=colors[i], ls=\\'-\\')\\n        lines.append(l)\\n    for i in range(c):\\n        l, = plt.plot(t, predicted[i], color=colors[i], ls=\\'--\\', marker=\\'.\\')\\n        lines_pred.append(l)\\n    plt.legend([tuple(lines), tuple(lines_pred)], [label1, label2], \\n                loc=\"upper left\",ncol=2, handler_map={tuple: HandlerTuple(ndivide=None)})\\n    plt.xlabel(r\"time $t$\")\\n    if ylabel:\\n        plt.ylabel(ylabel)\\n    plt.tight_layout()\\n    fig.savefig(target_addr+\\'/\\'+filename+\\'.pdf\\')\\n    \\ndef plotpi(benchmark, predicted, target_addr, title, filename, ylim = None, label1=None, label2=None, ylabel=None, legendloc = None):\\n    \"\"\"\\n    input:\\n        benchmark -- list[paths]\\n        predicted -- list[paths]\\n    \"\"\"\\n    fig = plt.figure()\\n    if title:\\n        plt.title(title)\\n    if ylim:\\n        plt.ylim(ylim)\\n    t = [i/100 for i in range(100)]\\n    c = len(benchmark)\\n    lines = []\\n    lines_pred = []\\n    for i in range(c):\\n        l, = plt.plot(t, benchmark[i], color=colors[i], ls=\\'-\\')\\n        lines.append(l)\\n    for i in range(c):\\n        l, = plt.plot(t, predicted[i], color=colors[i], ls=\\'--\\', marker=\\'.\\')\\n        lines_pred.append(l)\\n    if legendloc:\\n        plt.legend([tuple(lines), tuple(lines_pred)], [label1, label2],\\n                loc=legendloc, ncol=2, handler_map={tuple: HandlerTuple(ndivide=None)})\\n    else:\\n        plt.legend([tuple(lines), tuple(lines_pred)], [label1, label2],\\n                loc=\"upper left\", ncol=2, handler_map={tuple: HandlerTuple(ndivide=None)})\\n    plt.xlabel(r\"time $t$\")\\n    if ylabel:\\n        plt.ylabel(ylabel)\\n    plt.tight_layout()\\n    fig.savefig(target_addr+\\'/\\'+filename+\\'.pdf\\')\\n    \\n    \\ndef plotmC(benchmark, predicted, target_addr, title, filename, label1=None, label2=None, ylabel=None):\\n    \"\"\"\\n    input:\\n        benchmark -- list[paths]\\n        predicted -- list[paths]\\n    \"\"\"\\n    N = predicted.shape[1]\\n    t = [1/N*i for i in range(N)]\\n    fig = plt.figure()\\n    if title:\\n        plt.title(title)\\n    \\n    c = len(predicted)\\n    lines = []\\n    lines_pred = []\\n    l, = plt.plot(t, benchmark, color=\\'darkgrey\\', ls=\\'-\\', linewidth=5)\\n    lines.append(l)\\n    for i in range(c):\\n        l, = plt.plot(t, predicted[i], color=colors[i], ls=\\'--\\', marker=\\'.\\')\\n        lines_pred.append(l)\\n    plt.legend([tuple(lines), tuple(lines_pred)], [label1, label2], \\n                loc=\"upper left\", ncol=2, handler_map={tuple: HandlerTuple(ndivide=None)})\\n    \\n    plt.xlabel(r\"time $t$\")\\n    if ylabel:\\n        plt.ylabel(ylabel)\\n    plt.tight_layout()\\n    fig.savefig(target_addr+\\'/\\'+filename+\\'.pdf\\')\\n    \\n',\n",
       "  'source': 'v1',\n",
       "  'images': '/mnt/lingjiejiang/multimodal_code/data/chart_data/cot_images1/000002.jpg',\n",
       "  'prompt': 'You are an expert Python developer who specializes in writing matplotlib code based on a given picture. I found a very nice picture in a STEM paper, but there is no corresponding source code available. I need your help to generate the Python code that can reproduce the picture based on the picture I provide.\\\\nNote that it is necessary to use figsize=(10, 6) to set the image size to match the original size.\\\\nNow, please give me the matplotlib code that reproduces the picture below.',\n",
       "  'messages': [{'content': '<image>\\nYou are an expert Python developer who specializes in writing matplotlib code based on a given picture. I found a very nice picture in a STEM paper, but there is no corresponding source code available. I need your help to generate the Python code that can reproduce the picture based on the picture I provide.\\\\nNote that it is necessary to use figsize=(10, 6) to set the image size to match the original size.\\\\nNow, please give me the matplotlib code that reproduces the picture below.\\n',\n",
       "    'role': 'user'},\n",
       "   {'content': \"```python\\nimport matplotlib.pyplot as plt\\nimport numpy as np\\n\\n# Create sample data\\nx = np.linspace(0, 10, 100)\\ny1 = np.sin(x)  # Sine wave\\ny2 = np.cos(x)  # Cosine wave\\ny3 = np.tan(x)  # Tangent wave, limited to avoid extreme values\\n\\n# Create a new figure\\nfig, ax = plt.subplots(figsize=(10, 6))\\n\\n# Plot the data with different styles\\nax.plot(x, y1, color='royalblue', linewidth=2, linestyle='-', marker='o', markersize=5, label='Sine Wave')\\nax.plot(x, y2, color='darkorange', linewidth=2, linestyle='--', marker='s', markersize=5, label='Cosine Wave')\\nax.plot(x, y3, color='green', linewidth=2, linestyle=':', marker='^', markersize=5, label='Tangent Wave', alpha=0.7)\\nax.set_ylim(-2, 2)  # Limit y-axis to avoid displaying extreme tangent values\\n\\n# Set labels\\nax.set_xlabel('Angle (radians)', fontsize=12, fontweight='bold')\\nax.set_ylabel('Value', fontsize=12, fontweight='bold')\\nax.set_title('Trigonometric Functions', fontsize=14, fontweight='bold')\\n\\n# Add grid for better readability\\nax.grid(True, linestyle='--', alpha=0.6)\\n\\n# Add a legend\\nax.legend(loc='upper right', fontsize=10)\\n\\n# Improve layout\\nplt.tight_layout()\\n\\n# Show the plot\\nplt.show()\\n```\",\n",
       "    'role': 'assistant'}],\n",
       "  'formatted_text': \"```python\\nimport matplotlib.pyplot as plt\\nimport numpy as np\\n\\n# Create sample data\\nx = np.linspace(0, 10, 100)\\ny1 = np.sin(x)  # Sine wave\\ny2 = np.cos(x)  # Cosine wave\\ny3 = np.tan(x)  # Tangent wave, limited to avoid extreme values\\n\\n# Create a new figure\\nfig, ax = plt.subplots(figsize=(10, 6))\\n\\n# Plot the data with different styles\\nax.plot(x, y1, color='royalblue', linewidth=2, linestyle='-', marker='o', markersize=5, label='Sine Wave')\\nax.plot(x, y2, color='darkorange', linewidth=2, linestyle='--', marker='s', markersize=5, label='Cosine Wave')\\nax.plot(x, y3, color='green', linewidth=2, linestyle=':', marker='^', markersize=5, label='Tangent Wave', alpha=0.7)\\nax.set_ylim(-2, 2)  # Limit y-axis to avoid displaying extreme tangent values\\n\\n# Set labels\\nax.set_xlabel('Angle (radians)', fontsize=12, fontweight='bold')\\nax.set_ylabel('Value', fontsize=12, fontweight='bold')\\nax.set_title('Trigonometric Functions', fontsize=14, fontweight='bold')\\n\\n# Add grid for better readability\\nax.grid(True, linestyle='--', alpha=0.6)\\n\\n# Add a legend\\nax.legend(loc='upper right', fontsize=10)\\n\\n# Improve layout\\nplt.tight_layout()\\n\\n# Show the plot\\nplt.show()\\n```\"}]"
      ]
     },
     "execution_count": 16,
     "metadata": {},
     "output_type": "execute_result"
    }
   ],
   "source": [
    "filtered_data[:2]"
   ]
  },
  {
   "cell_type": "markdown",
   "metadata": {},
   "source": [
    "### output code files"
   ]
  },
  {
   "cell_type": "code",
   "execution_count": 17,
   "metadata": {},
   "outputs": [
    {
     "name": "stderr",
     "output_type": "stream",
     "text": [
      "Processing Files: 100%|██████████| 40221/40221 [14:52<00:00, 45.04it/s]  "
     ]
    },
    {
     "name": "stdout",
     "output_type": "stream",
     "text": [
      "处理完成，前 1000000 个文件已保存。\n"
     ]
    },
    {
     "name": "stderr",
     "output_type": "stream",
     "text": [
      "\n"
     ]
    }
   ],
   "source": [
    "import os  \n",
    "import json  \n",
    "from tqdm import tqdm\n",
    "\n",
    "# 设置目录路径  \n",
    "# directory_path = '/mnt/lingjiejiang/multimodal_code/data/chart_data/github_chart'  \n",
    "output_file_path = \"/mnt/lingjiejiang/multimodal_code/data/chart_data/cot_data_filter_40k.json\"\n",
    "# save_directory_path = 'ourdata_revise/code'  \n",
    "\n",
    "base_dir = \"/mnt/lingjiejiang/multimodal_code/data/chart_data/\"\n",
    "# 确保保存目录存在  \n",
    "# os.makedirs(save_directory_path, exist_ok=True)  \n",
    "  \n",
    "# 读取 JSON 数据  \n",
    "with open(output_file_path, 'r') as f:  \n",
    "    chart_data = json.load(f)  \n",
    "  \n",
    "# chart_data = chart_data[:10]\n",
    "# 更新 ID 并保存前 50 个文本到文件  \n",
    "for idx, item in tqdm(enumerate(chart_data), desc=\"Processing Files\", total=len(chart_data)):  \n",
    "    # 更新 ID 为五位数格式  \n",
    "    # index = item['index']\n",
    "    # item['id'] = f\"{index + 1:06d}\"  \n",
    "    \n",
    "    # 只处理前 1000000 个项目  \n",
    "    # if idx < 1000:  \n",
    "    # 获取文本内容  \n",
    "    text_content = item['cot_text']  \n",
    "    \n",
    "    # 保存文件路径  \n",
    "    # file_path = os.path.join(save_directory_path, f\"{item['id']}.py\")  \n",
    "    file_path = item[\"images\"].replace(\".jpg\", \".py\")\n",
    "    file_path = os.path.join(\"/mnt/lingjiejiang/multimodal_code/data/chart_data/github_cot_code\",\n",
    "                                os.path.relpath(item[\"images\"], base_dir)).replace(\".jpg\", \".py\")\n",
    "    directory = os.path.dirname(file_path)\n",
    "    os.makedirs(directory, exist_ok=True)\n",
    "    # 写入文本到文件  \n",
    "    with open(file_path, 'w') as py_file:  \n",
    "        py_file.write(text_content)  \n",
    "  \n",
    "print(\"处理完成，前 1000000 个文件已保存。\")  "
   ]
  },
  {
   "cell_type": "markdown",
   "metadata": {},
   "source": [
    "### check images existence"
   ]
  },
  {
   "cell_type": "code",
   "execution_count": 18,
   "metadata": {},
   "outputs": [
    {
     "name": "stderr",
     "output_type": "stream",
     "text": [
      "Checking image paths: 100%|██████████| 40221/40221 [03:43<00:00, 180.07it/s]\n"
     ]
    },
    {
     "name": "stdout",
     "output_type": "stream",
     "text": [
      "Filtered 39398 items with existing image paths.\n"
     ]
    }
   ],
   "source": [
    "import os  \n",
    "import json  \n",
    "from tqdm import tqdm  \n",
    "  \n",
    "# 设置目录路径  \n",
    "# directory_path = '/mnt/lingjiejiang/multimodal_code/data/chart_data/github_chart'  \n",
    "output_file_path = \"/mnt/lingjiejiang/multimodal_code/data/chart_data/cot_data_filter_40k.json\"\n",
    "  \n",
    "# 读取JSON数据  \n",
    "with open(output_file_path, 'r') as f:  \n",
    "    chart_data = json.load(f)  \n",
    "  \n",
    "# 初始化一个新的列表来存储存在的项  \n",
    "existing_items = []  \n",
    "  \n",
    "# 遍历所有项目，检查images路径是否存在  \n",
    "for item in tqdm(chart_data, desc=\"Checking image paths\"):  \n",
    "    image_path = item.get('images', None)  \n",
    "    if image_path and os.path.exists(image_path):  \n",
    "        existing_items.append(item)  \n",
    "  \n",
    "# 将存在的项写入到一个新的JSON文件  \n",
    "filtered_output_path = f\"/mnt/lingjiejiang/multimodal_code/data/chart_data/cot_existing_images_{len(existing_items) // 1000}k.json\"  \n",
    "with open(filtered_output_path, 'w') as f:  \n",
    "    json.dump(existing_items, f, indent=0)  \n",
    "  \n",
    "print(f\"Filtered {len(existing_items)} items with existing image paths.\")  \n",
    "print(f\"Saved to {filtered_output_path}\")"
   ]
  },
  {
   "cell_type": "code",
   "execution_count": 19,
   "metadata": {},
   "outputs": [
    {
     "name": "stdout",
     "output_type": "stream",
     "text": [
      "Saved to /mnt/lingjiejiang/multimodal_code/data/chart_data/cot_existing_images_39k.json\n"
     ]
    }
   ],
   "source": [
    "print(f\"Saved to {filtered_output_path}\")"
   ]
  },
  {
   "cell_type": "markdown",
   "metadata": {},
   "source": [
    "### filter image size"
   ]
  },
  {
   "cell_type": "code",
   "execution_count": 21,
   "metadata": {},
   "outputs": [
    {
     "name": "stderr",
     "output_type": "stream",
     "text": [
      "100%|██████████| 39398/39398 [07:20<00:00, 89.45it/s]  \n"
     ]
    },
    {
     "name": "stdout",
     "output_type": "stream",
     "text": [
      "Number of items after filtering: 39398\n",
      "Filtered data saved to /mnt/lingjiejiang/multimodal_code/data/chart_data/cot_data_39k_big_img_filtered.json\n"
     ]
    }
   ],
   "source": [
    "import json  \n",
    "from PIL import Image  \n",
    "from tqdm import tqdm  \n",
    "  \n",
    "# 设置合理的最大像素数和最大宽高  \n",
    "MAX_PIXELS = 4259840  # 例如：2560 * 1440  \n",
    "MAX_WIDTH = 2500  \n",
    "MAX_HEIGHT = 2000 \n",
    "\n",
    "  \n",
    "# 读取JSON文件  \n",
    "save_path = \"/mnt/lingjiejiang/multimodal_code/data/chart_data/cot_existing_images_39k.json\"  \n",
    "with open(save_path, 'r') as f:  \n",
    "    data = json.load(f)  \n",
    "  \n",
    "# 遍历每个数据项  \n",
    "filtered_data = []  \n",
    "for item in tqdm(data):  \n",
    "    keep_item = True  \n",
    "    image_path = item.get('images')  \n",
    "    if image_path:  \n",
    "        try:  \n",
    "            with Image.open(image_path) as img:  \n",
    "                # 检查图片尺寸  \n",
    "                if img.width > MAX_WIDTH or img.height > MAX_HEIGHT or (img.width * img.height) > MAX_PIXELS:  \n",
    "                    keep_item = False  \n",
    "                    # print(f\"Image {image_path} exceeds size limits and will be removed.\")  \n",
    "        except Exception as e:  \n",
    "            print(f\"Could not process image {image_path}: {e}\")  \n",
    "            keep_item = False  \n",
    "    if keep_item:  \n",
    "        filtered_data.append(item)  \n",
    "  \n",
    "# 输出过滤后的数据长度  \n",
    "print(f\"Number of items after filtering: {len(filtered_data)}\")  \n",
    "  \n",
    "# 将过滤后的数据保存回JSON文件  \n",
    "filtered_save_path = f\"/mnt/lingjiejiang/multimodal_code/data/chart_data/cot_data_{len(filtered_data) // 1000}k_big_img_filtered.json\"  \n",
    "with open(filtered_save_path, \"w\") as f:  \n",
    "    json.dump(filtered_data, f, indent=0)  \n",
    "print(f\"Filtered data saved to {filtered_save_path}\")"
   ]
  },
  {
   "cell_type": "markdown",
   "metadata": {},
   "source": [
    "### fill figsize"
   ]
  },
  {
   "cell_type": "code",
   "execution_count": 22,
   "metadata": {},
   "outputs": [],
   "source": [
    "import json  \n",
    "import re  \n",
    "  \n",
    "# Define the path to the JSON file  \n",
    "filtered_path = \"/mnt/lingjiejiang/multimodal_code/data/chart_data/cot_data_39k_big_img_filtered.json\"  \n",
    "  \n",
    "# Load the JSON data  \n",
    "with open(filtered_path, 'r') as f:  \n",
    "    filtered_data = json.load(f)  \n",
    "  \n",
    "# Function to extract figsize values  \n",
    "def extract_figsize(evol_text):  \n",
    "    # Updated regex to match floating-point numbers  \n",
    "    match = re.search(r'figsize=\\((\\d+(\\.\\d+)?),\\s*(\\d+(\\.\\d+)?)\\)', evol_text)  \n",
    "    if match:  \n",
    "        width, height = match.groups()[::2]  # Extract only the numbers, skipping the decimal parts  \n",
    "        return [float(width), float(height)]  \n",
    "    return None  \n",
    "  \n",
    "# List to collect items without figsize  \n",
    "items_without_figsize = []\n",
    "items_with_figsize = []  \n",
    "  \n",
    "# Process each item  \n",
    "for item in filtered_data:  \n",
    "    evol_text = item.get('cot_text', '')  \n",
    "      \n",
    "    figsize_values = extract_figsize(evol_text)  \n",
    "    if figsize_values:  \n",
    "        item['chart_size'] = figsize_values  \n",
    "        items_with_figsize.append(item)\n",
    "    else:  \n",
    "        items_without_figsize.append(item)  \n",
    "  "
   ]
  },
  {
   "cell_type": "code",
   "execution_count": 23,
   "metadata": {},
   "outputs": [
    {
     "data": {
      "text/plain": [
       "(39344, 54)"
      ]
     },
     "execution_count": 23,
     "metadata": {},
     "output_type": "execute_result"
    }
   ],
   "source": [
    "len(items_with_figsize), len(items_without_figsize)"
   ]
  },
  {
   "cell_type": "markdown",
   "metadata": {},
   "source": [
    "### formatted the traning data"
   ]
  },
  {
   "cell_type": "code",
   "execution_count": 24,
   "metadata": {},
   "outputs": [
    {
     "data": {
      "text/plain": [
       "[{'index': 0,\n",
       "  'cot_text': \"import matplotlib.pyplot as plt\\nimport numpy as np\\n\\n# Data generation\\nx = np.arange(0, 25, 1)  # Months from 0 to 24\\ny = 55 + 10 * np.sin(x * np.pi / 6)  # Sine function for stock price oscillation\\n\\n# Plotting\\nfig, ax = plt.subplots(figsize=(10, 6))\\nax.plot(x, y, label='Stock Price', color='blue', marker='o', markerfacecolor='orange', linewidth=2)\\n\\n# Labels and Title\\nax.set_title('Hypothetical Stock Price Over Two Years', fontsize=14, fontweight='bold')\\nax.set_xlabel('Time (Months)')\\nax.set_ylabel('Stock Price ($)')\\n\\n# Grid\\nax.grid(True, linestyle='--', linewidth=0.5)\\n\\n# Legend\\nax.legend(loc='upper left')\\n\\n# Show the plot\\nplt.show()\",\n",
       "  'gpt_cot_answer_raw_answer': 'To reproduce the given chart using matplotlib, let\\'s analyze the various elements of the chart:\\n\\n1. **Chart Type**: The chart is a line plot with data points marked by circular markers.\\n\\n2. **Data**: The x-axis represents time in months from 0 to 24, and the y-axis represents stock prices in a fluctuating manner. The data seems to represent a periodic pattern, suggesting a sine or cosine function.\\n\\n3. **Title**: The title of the chart is \"Hypothetical Stock Price Over Two Years\", centered at the top with a font size that appears to be bold.\\n\\n4. **Axes Labels**:\\n   - X-axis: \"Time (Months)\"\\n   - Y-axis: \"Stock Price ($)\"\\n\\n5. **Legend**: Positioned in the upper left corner inside the plot, with the label \"Stock Price\".\\n\\n6. **Grid**: The grid is displayed with dashed lines.\\n\\n7. **Colors and Styles**:\\n   - The line plot is blue with circular markers outlined in orange.\\n   - The line width is moderately thick.\\n   - The markers are filled with a light color.\\n\\n8. **Figure Size**: The desired figure size is (10, 6).\\n\\nLet\\'s now create the Python code using matplotlib to reproduce this chart.\\n\\n```python\\nimport matplotlib.pyplot as plt\\nimport numpy as np\\n\\n# Data generation\\nx = np.arange(0, 25, 1)  # Months from 0 to 24\\ny = 55 + 10 * np.sin(x * np.pi / 6)  # Sine function for stock price oscillation\\n\\n# Plotting\\nfig, ax = plt.subplots(figsize=(10, 6))\\nax.plot(x, y, label=\\'Stock Price\\', color=\\'blue\\', marker=\\'o\\', markerfacecolor=\\'orange\\', linewidth=2)\\n\\n# Labels and Title\\nax.set_title(\\'Hypothetical Stock Price Over Two Years\\', fontsize=14, fontweight=\\'bold\\')\\nax.set_xlabel(\\'Time (Months)\\')\\nax.set_ylabel(\\'Stock Price ($)\\')\\n\\n# Grid\\nax.grid(True, linestyle=\\'--\\', linewidth=0.5)\\n\\n# Legend\\nax.legend(loc=\\'upper left\\')\\n\\n# Show the plot\\nplt.show()\\n```\\n\\nThis code snippet should create a plot closely matching the provided image, considering all the specified elements.',\n",
       "  'stop_reason': 'stop',\n",
       "  'evol_text': \"import matplotlib.pyplot as plt\\nimport numpy as np\\nfrom matplotlib.ticker import MultipleLocator, FormatStrFormatter\\n\\n# New data representing a financial trend over time\\n# Time in months\\nmonths = np.arange(0, 24, 0.5)\\n# Hypothetical stock prices following a sinusoidal pattern with a trend\\nstock_prices = 50 + 10 * np.sin(0.25 * np.pi * months) + 0.5 * months\\n\\n# Create a figure and axis with an improved aspect ratio\\nfig, ax = plt.subplots(figsize=(10, 6))\\n\\n# Plot the data with enhanced styling\\nax.plot(months, stock_prices, color='dodgerblue', linewidth=2, linestyle='-', marker='o', markersize=5, \\n        markerfacecolor='orange', label='Stock Price')\\n\\n# Add title and labels with improved fonts\\nax.set_title('Hypothetical Stock Price Over Two Years', fontsize=16, fontweight='bold')\\nax.set_xlabel('Time (Months)', fontsize=12)\\nax.set_ylabel('Stock Price ($)', fontsize=12)\\n\\n# Set major and minor locators and formatters\\nax.xaxis.set_major_locator(MultipleLocator(4))\\nax.xaxis.set_major_formatter(FormatStrFormatter('%d'))\\nax.xaxis.set_minor_locator(MultipleLocator(1))\\nax.yaxis.set_major_locator(MultipleLocator(10))\\nax.yaxis.set_minor_locator(MultipleLocator(2))\\n\\n# Add grid lines for better readability\\nax.grid(which='major', color='gray', linestyle='--', linewidth=0.5)\\nax.grid(which='minor', color='lightgray', linestyle=':', linewidth=0.5)\\n\\n# Add a legend\\nax.legend(loc='upper left', fontsize=10)\\n\\n# Enhance layout\\nplt.tight_layout()\\n\\n# Show the plot\\nplt.show()\",\n",
       "  'gpt_evol_answer': \"To enhance the visual appeal and clarity of the line chart, we'll make several modifications to the original script. We'll improve the styling by adding meaningful colors, markers, and line styles. We'll also add a title, axis labels, a legend, and grid lines to make the chart more informative and visually engaging. Furthermore, I will adjust the figure size to create a more balanced and aesthetically pleasing layout. Here's the optimized code:\\n\\n```python\\nimport matplotlib.pyplot as plt\\nimport numpy as np\\nfrom matplotlib.ticker import MultipleLocator, FormatStrFormatter\\n\\n# New data representing a financial trend over time\\n# Time in months\\nmonths = np.arange(0, 24, 0.5)\\n# Hypothetical stock prices following a sinusoidal pattern with a trend\\nstock_prices = 50 + 10 * np.sin(0.25 * np.pi * months) + 0.5 * months\\n\\n# Create a figure and axis with an improved aspect ratio\\nfig, ax = plt.subplots(figsize=(10, 6))\\n\\n# Plot the data with enhanced styling\\nax.plot(months, stock_prices, color='dodgerblue', linewidth=2, linestyle='-', marker='o', markersize=5, \\n        markerfacecolor='orange', label='Stock Price')\\n\\n# Add title and labels with improved fonts\\nax.set_title('Hypothetical Stock Price Over Two Years', fontsize=16, fontweight='bold')\\nax.set_xlabel('Time (Months)', fontsize=12)\\nax.set_ylabel('Stock Price ($)', fontsize=12)\\n\\n# Set major and minor locators and formatters\\nax.xaxis.set_major_locator(MultipleLocator(4))\\nax.xaxis.set_major_formatter(FormatStrFormatter('%d'))\\nax.xaxis.set_minor_locator(MultipleLocator(1))\\nax.yaxis.set_major_locator(MultipleLocator(10))\\nax.yaxis.set_minor_locator(MultipleLocator(2))\\n\\n# Add grid lines for better readability\\nax.grid(which='major', color='gray', linestyle='--', linewidth=0.5)\\nax.grid(which='minor', color='lightgray', linestyle=':', linewidth=0.5)\\n\\n# Add a legend\\nax.legend(loc='upper left', fontsize=10)\\n\\n# Enhance layout\\nplt.tight_layout()\\n\\n# Show the plot\\nplt.show()\\n```\\n\\n### Key Enhancements:\\n- **Data**: The data now represents a hypothetical stock price trend over two years, providing a realistic context for a line chart.\\n- **Styling**: The line is styled with a distinct color (`dodgerblue`), markers (`o`), and a secondary color for the markers (`orange`) to improve visual interest.\\n- **Labels and Title**: Added a descriptive title and axis labels with appropriate fonts and sizes to make the chart more informative.\\n- **Layout**: The figure size is adjusted to a wider aspect ratio for better visibility and balance.\\n- **Grid**: Major and minor grid lines add clarity to the chart, helping to trace values accurately.\\n- **Legend**: A legend is included to describe the line, even though there's only one line, to demonstrate best practices for charts with multiple lines.\",\n",
       "  'revised_text': \"import matplotlib.pyplot as plt  \\nimport numpy as np  \\nfrom matplotlib.ticker import MultipleLocator, FormatStrFormatter\\n\\n# Sample data\\nt = np.arange(0.0, 100.0, 0.1)\\ns = np.sin(0.1 * np.pi * t) * np.exp(-t * 0.01)\\n\\n# Create a new figure\\nfig = plt.figure(figsize=(6.0, 4.0))\\nax = fig.add_subplot(111)\\n\\n# Plot the data\\nax.plot(t, s)\\n\\n# Set major and minor locators and formatters\\nmajorLocator = MultipleLocator(20)\\nmajorFormatter = FormatStrFormatter('%d')\\nminorLocator = MultipleLocator(5)\\n\\nax.xaxis.set_major_locator(majorLocator)\\nax.xaxis.set_major_formatter(majorFormatter)\\nax.xaxis.set_minor_locator(minorLocator)\\n\\n# Show the plot\\nplt.show()\",\n",
       "  'category': 'Line',\n",
       "  'chart_size': [10.0, 6.0],\n",
       "  'max_stars_repo_path': 'examples/pylab_examples/major_minor_demo1.py',\n",
       "  'max_stars_repo_name': 'pierre-haessig/matplotlib',\n",
       "  'max_stars_count': 1,\n",
       "  'id': '66391',\n",
       "  'text': '#!/usr/bin/env python\\n\"\"\"\\nDemonstrate how to use major and minor tickers.\\n\\nThe two relevant userland classes are Locators and Formatters.\\nLocators determine where the ticks are and formatters control the\\nformatting of ticks.\\n\\nMinor ticks are off by default (NullLocator and NullFormatter).  You\\ncan turn minor ticks on w/o labels by setting the minor locator.  You\\ncan also turn labeling on for the minor ticker by setting the minor\\nformatter\\n\\nMake a plot with major ticks that are multiples of 20 and minor ticks\\nthat are multiples of 5.  Label major ticks with %d formatting but\\ndon\\'t label minor ticks\\n\\nThe MultipleLocator ticker class is used to place ticks on multiples of\\nsome base.  The FormatStrFormatter uses a string format string (eg\\n\\'%d\\' or \\'%1.2f\\' or \\'%1.1f cm\\' ) to format the tick\\n\\nThe pylab interface grid command changes the grid settings of the\\nmajor ticks of the y and y axis together.  If you want to control the\\ngrid of the minor ticks for a given axis, use for example\\n\\n  ax.xaxis.grid(True, which=\\'minor\\')\\n\\nNote, you should not use the same locator between different Axis\\nbecause the locator stores references to the Axis data and view limits\\n\\n\"\"\"\\n\\nfrom pylab import *\\nfrom matplotlib.ticker import MultipleLocator, FormatStrFormatter\\n\\nmajorLocator   = MultipleLocator(20)\\nmajorFormatter = FormatStrFormatter(\\'%d\\')\\nminorLocator   = MultipleLocator(5)\\n\\n\\nt = arange(0.0, 100.0, 0.1)\\ns = sin(0.1*pi*t)*exp(-t*0.01)\\n\\nax = subplot(111)\\nplot(t,s)\\n\\nax.xaxis.set_major_locator(majorLocator)\\nax.xaxis.set_major_formatter(majorFormatter)\\n\\n#for the minor ticks, use no labels; default NullFormatter\\nax.xaxis.set_minor_locator(minorLocator)\\n\\nshow()\\n',\n",
       "  'source': 'v1',\n",
       "  'images': '/mnt/lingjiejiang/multimodal_code/data/chart_data/cot_images1/000001.jpg',\n",
       "  'prompt': 'Could you design matplotlib code to reproduce this picture, taking care to use figsize=(10, 6) for the dimensions?',\n",
       "  'messages': [{'content': '<image>\\nCould you design matplotlib code to reproduce this picture, taking care to use figsize=(10, 6) for the dimensions?\\n',\n",
       "    'role': 'user'},\n",
       "   {'content': \"```python\\nimport matplotlib.pyplot as plt\\nimport numpy as np\\nfrom matplotlib.ticker import MultipleLocator, FormatStrFormatter\\n\\n# New data representing a financial trend over time\\n# Time in months\\nmonths = np.arange(0, 24, 0.5)\\n# Hypothetical stock prices following a sinusoidal pattern with a trend\\nstock_prices = 50 + 10 * np.sin(0.25 * np.pi * months) + 0.5 * months\\n\\n# Create a figure and axis with an improved aspect ratio\\nfig, ax = plt.subplots(figsize=(10, 6))\\n\\n# Plot the data with enhanced styling\\nax.plot(months, stock_prices, color='dodgerblue', linewidth=2, linestyle='-', marker='o', markersize=5, \\n        markerfacecolor='orange', label='Stock Price')\\n\\n# Add title and labels with improved fonts\\nax.set_title('Hypothetical Stock Price Over Two Years', fontsize=16, fontweight='bold')\\nax.set_xlabel('Time (Months)', fontsize=12)\\nax.set_ylabel('Stock Price ($)', fontsize=12)\\n\\n# Set major and minor locators and formatters\\nax.xaxis.set_major_locator(MultipleLocator(4))\\nax.xaxis.set_major_formatter(FormatStrFormatter('%d'))\\nax.xaxis.set_minor_locator(MultipleLocator(1))\\nax.yaxis.set_major_locator(MultipleLocator(10))\\nax.yaxis.set_minor_locator(MultipleLocator(2))\\n\\n# Add grid lines for better readability\\nax.grid(which='major', color='gray', linestyle='--', linewidth=0.5)\\nax.grid(which='minor', color='lightgray', linestyle=':', linewidth=0.5)\\n\\n# Add a legend\\nax.legend(loc='upper left', fontsize=10)\\n\\n# Enhance layout\\nplt.tight_layout()\\n\\n# Show the plot\\nplt.show()\\n```\",\n",
       "    'role': 'assistant'}],\n",
       "  'formatted_text': \"```python\\nimport matplotlib.pyplot as plt\\nimport numpy as np\\nfrom matplotlib.ticker import MultipleLocator, FormatStrFormatter\\n\\n# New data representing a financial trend over time\\n# Time in months\\nmonths = np.arange(0, 24, 0.5)\\n# Hypothetical stock prices following a sinusoidal pattern with a trend\\nstock_prices = 50 + 10 * np.sin(0.25 * np.pi * months) + 0.5 * months\\n\\n# Create a figure and axis with an improved aspect ratio\\nfig, ax = plt.subplots(figsize=(10, 6))\\n\\n# Plot the data with enhanced styling\\nax.plot(months, stock_prices, color='dodgerblue', linewidth=2, linestyle='-', marker='o', markersize=5, \\n        markerfacecolor='orange', label='Stock Price')\\n\\n# Add title and labels with improved fonts\\nax.set_title('Hypothetical Stock Price Over Two Years', fontsize=16, fontweight='bold')\\nax.set_xlabel('Time (Months)', fontsize=12)\\nax.set_ylabel('Stock Price ($)', fontsize=12)\\n\\n# Set major and minor locators and formatters\\nax.xaxis.set_major_locator(MultipleLocator(4))\\nax.xaxis.set_major_formatter(FormatStrFormatter('%d'))\\nax.xaxis.set_minor_locator(MultipleLocator(1))\\nax.yaxis.set_major_locator(MultipleLocator(10))\\nax.yaxis.set_minor_locator(MultipleLocator(2))\\n\\n# Add grid lines for better readability\\nax.grid(which='major', color='gray', linestyle='--', linewidth=0.5)\\nax.grid(which='minor', color='lightgray', linestyle=':', linewidth=0.5)\\n\\n# Add a legend\\nax.legend(loc='upper left', fontsize=10)\\n\\n# Enhance layout\\nplt.tight_layout()\\n\\n# Show the plot\\nplt.show()\\n```\"},\n",
       " {'index': 1,\n",
       "  'cot_text': \"import numpy as np\\nimport matplotlib.pyplot as plt\\n\\n# Define the x range from 0 to 10\\nx = np.linspace(0, 10, 100)\\n\\n# Calculate the y values for sine, cosine, and tangent\\ny1 = np.sin(x)\\ny2 = np.cos(x)\\ny3 = np.tan(x)\\n\\n# Create a figure and axis\\nfig, ax = plt.subplots(figsize=(10, 6))\\n\\n# Plot each function with specific styles\\nax.plot(x, y1, 'b-o', label='Sine Wave')     # Blue line with circle markers\\nax.plot(x, y2, 'orange', marker='s', label='Cosine Wave')  # Orange line with square markers\\nax.plot(x, y3, 'g--', marker='^', label='Tangent Wave')    # Green dashed line with triangle markers\\n\\n# Set the y-axis limit to ensure tangent function doesn't go out of bounds\\nax.set_ylim(-2, 2)\\n\\n# Adding gridlines\\nax.grid(True)\\n\\n# Set labels and title\\nax.set_xlabel('Angle (radians)')\\nax.set_ylabel('Value')\\nax.set_title('Trigonometric Functions')\\n\\n# Add a legend\\nax.legend()\\n\\n# Display the plot\\nplt.show()\",\n",
       "  'gpt_cot_answer_raw_answer': 'To generate the provided image using Python and matplotlib, let\\'s analyze its elements:\\n\\n1. **Chart Type**: This is a line chart with three different trigonometric functions - sine, cosine, and tangent.\\n2. **Data**:\\n   - The x-axis represents angles in radians, likely ranging from 0 to 10.\\n   - The y-axis represents the values of the trigonometric functions.\\n3. **Line Styles and Markers**:\\n   - **Sine Wave**: Blue solid line with circle markers (`o`).\\n   - **Cosine Wave**: Orange solid line with square markers (`s`).\\n   - **Tangent Wave**: Green dashed line with triangle markers (`^`).\\n4. **Colors**: \\n   - Sine is blue, cosine is orange, and tangent is green.\\n5. **Layout**:\\n   - The grid is enabled, helping to visualize the values.\\n   - The `figsize` is set to (10, 6) for proper dimension matching.\\n6. **Labels**:\\n   - The x-axis is labeled \"Angle (radians)\".\\n   - The y-axis is labeled \"Value\".\\n7. **Title**: The title of the chart is \"Trigonometric Functions\".\\n8. **Legend**: A legend is provided at the top right corner, describing each wave.\\n\\nHere\\'s the complete code to reproduce the chart:\\n\\n```python\\nimport numpy as np\\nimport matplotlib.pyplot as plt\\n\\n# Define the x range from 0 to 10\\nx = np.linspace(0, 10, 100)\\n\\n# Calculate the y values for sine, cosine, and tangent\\ny1 = np.sin(x)\\ny2 = np.cos(x)\\ny3 = np.tan(x)\\n\\n# Create a figure and axis\\nfig, ax = plt.subplots(figsize=(10, 6))\\n\\n# Plot each function with specific styles\\nax.plot(x, y1, \\'b-o\\', label=\\'Sine Wave\\')     # Blue line with circle markers\\nax.plot(x, y2, \\'orange\\', marker=\\'s\\', label=\\'Cosine Wave\\')  # Orange line with square markers\\nax.plot(x, y3, \\'g--\\', marker=\\'^\\', label=\\'Tangent Wave\\')    # Green dashed line with triangle markers\\n\\n# Set the y-axis limit to ensure tangent function doesn\\'t go out of bounds\\nax.set_ylim(-2, 2)\\n\\n# Adding gridlines\\nax.grid(True)\\n\\n# Set labels and title\\nax.set_xlabel(\\'Angle (radians)\\')\\nax.set_ylabel(\\'Value\\')\\nax.set_title(\\'Trigonometric Functions\\')\\n\\n# Add a legend\\nax.legend()\\n\\n# Display the plot\\nplt.show()\\n```\\n\\nThis code will generate a plot similar to the provided image, with the specified labels, lines, markers, and colors.',\n",
       "  'stop_reason': 'stop',\n",
       "  'evol_text': \"import matplotlib.pyplot as plt\\nimport numpy as np\\n\\n# Create sample data\\nx = np.linspace(0, 10, 100)\\ny1 = np.sin(x)  # Sine wave\\ny2 = np.cos(x)  # Cosine wave\\ny3 = np.tan(x)  # Tangent wave, limited to avoid extreme values\\n\\n# Create a new figure\\nfig, ax = plt.subplots(figsize=(10, 6))\\n\\n# Plot the data with different styles\\nax.plot(x, y1, color='royalblue', linewidth=2, linestyle='-', marker='o', markersize=5, label='Sine Wave')\\nax.plot(x, y2, color='darkorange', linewidth=2, linestyle='--', marker='s', markersize=5, label='Cosine Wave')\\nax.plot(x, y3, color='green', linewidth=2, linestyle=':', marker='^', markersize=5, label='Tangent Wave', alpha=0.7)\\nax.set_ylim(-2, 2)  # Limit y-axis to avoid displaying extreme tangent values\\n\\n# Set labels\\nax.set_xlabel('Angle (radians)', fontsize=12, fontweight='bold')\\nax.set_ylabel('Value', fontsize=12, fontweight='bold')\\nax.set_title('Trigonometric Functions', fontsize=14, fontweight='bold')\\n\\n# Add grid for better readability\\nax.grid(True, linestyle='--', alpha=0.6)\\n\\n# Add a legend\\nax.legend(loc='upper right', fontsize=10)\\n\\n# Improve layout\\nplt.tight_layout()\\n\\n# Show the plot\\nplt.show()\",\n",
       "  'gpt_evol_answer': \"Below is an optimized and enhanced version of the original code. The improvements include the use of multiple line styles, customized markers, a grid for better readability, and more detailed labels and title. The data is crafted to demonstrate a scenario of comparing mathematical functions.\\n\\n```python\\nimport matplotlib.pyplot as plt\\nimport numpy as np\\n\\n# Create sample data\\nx = np.linspace(0, 10, 100)\\ny1 = np.sin(x)  # Sine wave\\ny2 = np.cos(x)  # Cosine wave\\ny3 = np.tan(x)  # Tangent wave, limited to avoid extreme values\\n\\n# Create a new figure\\nfig, ax = plt.subplots(figsize=(10, 6))\\n\\n# Plot the data with different styles\\nax.plot(x, y1, color='royalblue', linewidth=2, linestyle='-', marker='o', markersize=5, label='Sine Wave')\\nax.plot(x, y2, color='darkorange', linewidth=2, linestyle='--', marker='s', markersize=5, label='Cosine Wave')\\nax.plot(x, y3, color='green', linewidth=2, linestyle=':', marker='^', markersize=5, label='Tangent Wave', alpha=0.7)\\nax.set_ylim(-2, 2)  # Limit y-axis to avoid displaying extreme tangent values\\n\\n# Set labels\\nax.set_xlabel('Angle (radians)', fontsize=12, fontweight='bold')\\nax.set_ylabel('Value', fontsize=12, fontweight='bold')\\nax.set_title('Trigonometric Functions', fontsize=14, fontweight='bold')\\n\\n# Add grid for better readability\\nax.grid(True, linestyle='--', alpha=0.6)\\n\\n# Add a legend\\nax.legend(loc='upper right', fontsize=10)\\n\\n# Improve layout\\nplt.tight_layout()\\n\\n# Show the plot\\nplt.show()\\n```\\n\\n### Key Enhancements:\\n- **Multiple Lines**: Added cosine and tangent waves to compare different trigonometric functions.\\n- **Line Styles and Markers**: Used different line styles (`-`, `--`, `:`) and markers (`o`, `s`, `^`) to differentiate the lines.\\n- **Axis Limits**: Set the y-axis limit to avoid extreme tangent values, ensuring the plot remains readable.\\n- **Grid**: Added a grid to improve readability and help users follow the lines across the plot.\\n- **Labels and Titles**: Enhanced axis labels and title with detailed descriptions and formatted with bold fonts.\\n- **Legend Placement**: Positioned the legend in the upper right corner for better visibility.\\n\\nThis enriched chart provides a more informative and visually appealing representation of the data.\",\n",
       "  'revised_text': \"import matplotlib.pyplot as plt  \\nimport numpy as np  \\n\\n# Sample data\\nx = np.linspace(0, 10, 100)\\ny = np.sin(x)\\n\\n# Create a new figure\\nfig = plt.figure(figsize=(7.5, 6))\\n\\n# Plot the data\\nplt.plot(x, y, color='blue', label='Sine Wave')\\n\\n# Set labels\\nplt.xlabel('X')\\nplt.ylabel('Y')\\nplt.title('Sine Wave')\\n\\n# Add a legend\\nplt.legend()\\n\\n# Show the plot\\nplt.show()\",\n",
       "  'category': 'Line',\n",
       "  'chart_size': [10.0, 6.0],\n",
       "  'max_stars_repo_path': 'src/utils.py',\n",
       "  'max_stars_repo_name': 'mmin0/SigDFP',\n",
       "  'max_stars_count': 0,\n",
       "  'id': '18481',\n",
       "  'text': '\\n\\nimport torch\\nimport matplotlib\\nmatplotlib.use(\"Agg\")\\nimport matplotlib.pyplot as plt\\nfrom matplotlib.legend_handler import HandlerTuple\\nfrom matplotlib.ticker import FormatStrFormatter\\n#from tqdm import tqdm\\n\\nmatplotlib.rcParams[\\'pdf.fonttype\\'] = 42\\nmatplotlib.rcParams[\\'ps.fonttype\\'] = 42\\n\\n\\nplt.rc(\\'xtick\\', labelsize=22)    # fontsize of the tick labels\\nplt.rc(\\'ytick\\', labelsize=22)\\nplt.rc(\\'legend\\', fontsize=25) \\nplt.rc(\\'axes\\', labelsize=25)\\nplt.rcParams[\"figure.figsize\"] = (7.5, 6)\\ncolors = [\\'lightcoral\\', \\'mediumseagreen\\', \\'darkorange\\']\\n\\ndef epoch_time(start_time, end_time):\\n    elap_time = end_time - start_time\\n    elap_min = elap_time//60\\n    elap_sec = elap_time % 60\\n    return elap_min, elap_sec\\n\\n\\ndef train(model, dataloader, optimizer, criterion, initial, prev_m, device, depth=4):\\n    \"\"\"\\n    train model for alpha for one loop over dataloader\\n    \"\"\"\\n    epoch_loss = 0\\n    \\n    model.train() # set model to train mode\\n    i = 0\\n    for batch in dataloader:\\n        optimizer.zero_grad()\\n    \\n        bm, cn = batch\\n        \\n        X = model(bm.to(device), \\n                  cn.to(device), \\n                  prev_m[i*dataloader.batch_size:(i+1)*dataloader.batch_size], \\n                  initial[i*dataloader.batch_size:(i+1)*dataloader.batch_size].to(device))\\n        strategy = model.strategy\\n        loss = criterion(X, prev_m[i*dataloader.batch_size:(i+1)*dataloader.batch_size], strategy)\\n        \\n        loss.backward(retain_graph=True)\\n        optimizer.step()\\n\\n        epoch_loss += loss.item()\\n        i+=1\\n    return epoch_loss/len(dataloader)\\n\\n\\ndef evaluate(model, dataloader, criterion, initial, prev_m, device, depth=4):\\n    \\n    epoch_loss = 0\\n    #initialize\\n    #N = prev_m.size()[0] - 1\\n    #m = torch.zeros(N+1, 1, device=device)\\n    #sigs = torch.zeros(signatory.signature_channels(2, depth), device=device)\\n    model.eval() # set model to train mode\\n    i = 0\\n    for batch in dataloader:\\n        bm, cn = batch\\n        X = model(bm.to(device), \\n                  cn.to(device), \\n                  prev_m[i*dataloader.batch_size:(i+1)*dataloader.batch_size], \\n                  initial[i*dataloader.batch_size:(i+1)*dataloader.batch_size].to(device))\\n        strategy = model.strategy\\n        loss = criterion(X, prev_m[i*dataloader.batch_size:(i+1)*dataloader.batch_size], strategy)\\n\\n        epoch_loss += loss.item()\\n        i+=1\\n    return epoch_loss/len(dataloader)\\n\\n\\n\\ndef train1(model, dataloader, optimizer, criterion, initial, prev_m, device, depth=4):\\n    \"\"\"\\n    train model for alpha for one loop over dataloader\\n    \"\"\"\\n    epoch_loss = 0\\n    \\n    model.train() # set model to train mode\\n    i = 0\\n    for batch in dataloader:\\n        \\n        optimizer.zero_grad()\\n    \\n        bm, cn, typeVec = batch\\n        \\n        X = model(bm.to(device), \\n                  cn.to(device), \\n                  typeVec.to(device),\\n                  prev_m[i*dataloader.batch_size:(i+1)*dataloader.batch_size], \\n                  initial[i*dataloader.batch_size:(i+1)*dataloader.batch_size].to(device))\\n        strategy = model.strategy\\n        loss = criterion(X, prev_m[i*dataloader.batch_size:(i+1)*dataloader.batch_size], strategy)\\n        \\n        loss.backward(retain_graph=True)\\n        optimizer.step()\\n\\n        epoch_loss += loss.item()\\n        i+=1\\n    return epoch_loss/len(dataloader)\\n\\n\\ndef evaluate1(model, dataloader, criterion, initial, prev_m, device, depth=4):\\n    \\n    epoch_loss = 0\\n    model.eval() # set model to train mode\\n    i = 0\\n    for batch in dataloader:\\n        \\n        bm, cn, typeVec = batch\\n        X = model(bm.to(device), \\n                  cn.to(device),\\n                  typeVec.to(device),\\n                  prev_m[i*dataloader.batch_size:(i+1)*dataloader.batch_size], \\n                  initial[i*dataloader.batch_size:(i+1)*dataloader.batch_size].to(device))\\n        strategy = model.strategy\\n        loss = criterion(X, prev_m[i*dataloader.batch_size:(i+1)*dataloader.batch_size], strategy)\\n\\n        epoch_loss += loss.item()\\n        \\n        i+=1\\n    return epoch_loss/len(dataloader)\\n\\n\\n\\n\\ndef train2(model, dataloader, optimizer, criterion, initial, prev_m, prev_c, device, depth=4):\\n    \"\"\"\\n    train model for alpha for one loop over dataloader\\n    \"\"\"\\n    epoch_loss = 0\\n    \\n    model.train() # set model to train mode\\n    i = 0\\n    for batch in dataloader:\\n        \\n        optimizer.zero_grad()\\n    \\n        bm, cn, typeVec = batch\\n        \\n        X = model(bm.to(device), \\n                  cn.to(device), \\n                  typeVec.to(device),\\n                  prev_m[i*dataloader.batch_size:(i+1)*dataloader.batch_size],\\n                  prev_c[i*dataloader.batch_size:(i+1)*dataloader.batch_size],\\n                  initial[i*dataloader.batch_size:(i+1)*dataloader.batch_size].to(device))\\n        strategy = model.strategy\\n        \\n        loss = criterion(X, prev_m[i*dataloader.batch_size:(i+1)*dataloader.batch_size], \\n                        strategy, prev_c[i*dataloader.batch_size:(i+1)*dataloader.batch_size])\\n        \\n        loss.backward(retain_graph=True)\\n        optimizer.step()\\n\\n        epoch_loss += loss.item()\\n        i+=1\\n    return epoch_loss/len(dataloader)\\n\\n\\ndef evaluate2(model, dataloader, criterion, initial, prev_m, prev_c, device, depth=4):\\n    \\n    epoch_loss = 0\\n    #initialize\\n    #N = prev_m.size()[0] - 1\\n    #m = torch.zeros(N+1, 1, device=device)\\n    #sigs = torch.zeros(signatory.signature_channels(2, depth), device=device)\\n    model.eval() # set model to train mode\\n    i = 0\\n    \\n    for batch in dataloader:\\n    \\n        bm, cn, typeVec = batch\\n        \\n        X = model(bm.to(device), \\n                  cn.to(device), \\n                  typeVec.to(device),\\n                  prev_m[i*dataloader.batch_size:(i+1)*dataloader.batch_size], \\n                  prev_c[i*dataloader.batch_size:(i+1)*dataloader.batch_size],\\n                  initial[i*dataloader.batch_size:(i+1)*dataloader.batch_size].to(device))\\n        strategy = model.strategy\\n        loss = criterion(X, prev_m[i*dataloader.batch_size:(i+1)*dataloader.batch_size], \\n                        strategy, prev_c[i*dataloader.batch_size:(i+1)*dataloader.batch_size])\\n        \\n        epoch_loss += loss.item()\\n        \\n        i+=1\\n    return epoch_loss/len(dataloader)\\n\\n\\ndef plotErrors(error, target_addr, title, filename):\\n    fig = plt.figure()\\n    plt.title(title)\\n    plt.xlabel(\"FP rounds\")\\n    plt.ylabel(\"Errors\")\\n    plt.plot(error, color=\\'blue\\')\\n    fig.savefig(target_addr+\\'/\\'+filename+\\'.pdf\\')\\n    \\ndef plotUtil(util, ylim, ytrue, target_addr, title, filename, ins_loc=None, ins_ylim=None, cost=False):\\n    \\n    if cost:\\n        n = len(util)\\n        fig, ax = plt.subplots(figsize=(7.5, 6))\\n        if title:\\n            plt.title(title)\\n        if ylim:\\n            ax.set_ylim(ylim)\\n        ax.set_xlabel(r\"FP iterations $n$\")\\n        ax.set_ylabel(\"validation cost\")\\n        l1 = ax.axhline(ytrue, color=\"indianred\", ls=\"--\")\\n        l2, = ax.plot(util, color=\\'darkcyan\\', ls=\"-\")\\n        if ins_loc:\\n            axins = ax.inset_axes(ins_loc)\\n        if ins_ylim:\\n            axins.set_ylim(ins_ylim)\\n        axins.plot(range(n-50, n), util[-50:], color=\\'darkcyan\\', ls=\"-\")\\n        axins.axhline(ytrue, color=\"indianred\", ls=\"--\")\\n        \\n        ax.indicate_inset_zoom(axins)\\n        ax.legend((l1, l2), (\"true cost\", \"validation cost\"), loc=\"upper center\")\\n        plt.tight_layout()\\n        fig.savefig(target_addr+\\'/\\'+filename+\\'.pdf\\')\\n    else:\\n        n = len(util)\\n        fig, ax = plt.subplots(figsize=(7.5, 6))\\n        if title:\\n            plt.title(title)\\n        if ylim:\\n            ax.set_ylim(ylim)\\n        ax.set_xlabel(r\"FP iterations $n$\")\\n        ax.set_ylabel(\"validation utility\")\\n        l1 = ax.axhline(ytrue, color=\"indianred\", ls=\"--\")\\n        l2, = ax.plot(util, color=\\'darkcyan\\', ls=\"-\")\\n        if ins_loc:\\n            axins = ax.inset_axes(ins_loc)\\n        if ins_ylim:\\n            axins.set_ylim(ins_ylim)\\n        axins.plot(range(n-50, n), util[-50:], color=\\'darkcyan\\', ls=\"-\")\\n        axins.axhline(ytrue, color=\"indianred\", ls=\"--\")\\n        \\n        ax.indicate_inset_zoom(axins)\\n        ax.legend((l1, l2), (\"true utility\", \"validation utility\"), loc=\"upper center\")\\n        plt.tight_layout()\\n        fig.savefig(target_addr+\\'/\\'+filename+\\'.pdf\\')\\n\\n\\n\\ndef plotMeanDiff_bencmarkvspredicted(data, target_addr, title, filename, ylim=None, label1=None, label2=None, ylabel=None, legendloc=None, round_=False):\\n    fig = plt.figure()\\n    if title:\\n        plt.title(title)\\n    x, next_m, m = data\\n    if ylim:\\n        plt.ylim(ylim)\\n    c = len(next_m)\\n    lines = []\\n    lines_pred = []\\n    for i in range(c):\\n        l, = plt.plot(x, next_m[i], color=colors[i])\\n        lines.append(l)\\n    for i in range(c):\\n        l, = plt.plot(x, m[i], color=colors[i], ls=\\'--\\', marker=\\'.\\')\\n        lines_pred.append(l)\\n    #plt.plot(x, next_m-m, label=\\'diff\\')\\n    plt.xlabel(r\"time $t$\")\\n    if ylabel:\\n        plt.ylabel(ylabel)\\n    if legendloc:\\n        plt.legend([tuple(lines), tuple(lines_pred)], [label1, label2],\\n                loc=legendloc, ncol=2, handler_map={tuple: HandlerTuple(ndivide=None)})\\n    else:\\n        plt.legend([tuple(lines), tuple(lines_pred)], [label1, label2],\\n                loc=\"upper left\", ncol=2, handler_map={tuple: HandlerTuple(ndivide=None)})\\n    if round_:\\n        plt.gca().yaxis.set_major_formatter(FormatStrFormatter(\\'%.2f\\'))\\n    plt.tight_layout()\\n    fig.savefig(target_addr+\\'/\\'+filename+\\'.pdf\\')\\n    \\n\\ndef L2distance(x, y):\\n    b, N, _ = x.size()\\n    return ((torch.sum(torch.pow(x - y, 2))/N/b)**0.5).item()\\n\\ndef plotSDE(benchmark, predicted, target_addr, title, filename, ylim=None, label1=None, label2=None, legendloc=None):\\n    \"\"\"\\n    input:\\n        benchmark -- list[paths]\\n        predicted -- list[paths]\\n    \"\"\"\\n    fig = plt.figure()\\n    if title:\\n        plt.title(title)\\n    if ylim:\\n        plt.ylim(ylim)\\n    t = [i/100 for i in range(101)]\\n    c = len(benchmark)\\n    lines = []\\n    lines_pred = []\\n    for i in range(c):\\n        l, = plt.plot(t, benchmark[i], color=colors[i], ls=\\'-\\')\\n        lines.append(l)\\n    for i in range(c):\\n        l, = plt.plot(t, predicted[i], color=colors[i], ls=\\'--\\', marker=\\'.\\')\\n        lines_pred.append(l)\\n    if legendloc:\\n        plt.legend([tuple(lines), tuple(lines_pred)], [label1, label2],\\n                loc=legendloc, ncol=2, handler_map={tuple: HandlerTuple(ndivide=None)})\\n    else:\\n        plt.legend([tuple(lines), tuple(lines_pred)], [label1, label2],\\n                loc=\"upper left\", ncol=2, handler_map={tuple: HandlerTuple(ndivide=None)})\\n    plt.xlabel(r\"time $t$\")\\n    plt.ylabel(r\"$X_t$ and $\\\\widehat{X}_t$\")\\n    plt.tight_layout()\\n    fig.savefig(target_addr+\\'/\\'+filename+\\'.pdf\\')\\n    \\n\\n    \\ndef plotC(benchmark, predicted, target_addr, title, filename, label1=None, label2=None, ylabel=None):\\n    \"\"\"\\n    input:\\n        benchmark -- list[paths]\\n        predicted -- list[paths]\\n    \"\"\"\\n    t = [i/100 for i in range(100)]\\n    fig = plt.figure()\\n    if title:\\n        plt.title(title)\\n    c = len(benchmark)\\n    lines = []\\n    lines_pred = []\\n    for i in range(c):\\n        l, = plt.plot(t, benchmark[i], color=colors[i], ls=\\'-\\')\\n        lines.append(l)\\n    for i in range(c):\\n        l, = plt.plot(t, predicted[i], color=colors[i], ls=\\'--\\', marker=\\'.\\')\\n        lines_pred.append(l)\\n    plt.legend([tuple(lines), tuple(lines_pred)], [label1, label2], \\n                loc=\"upper left\",ncol=2, handler_map={tuple: HandlerTuple(ndivide=None)})\\n    plt.xlabel(r\"time $t$\")\\n    if ylabel:\\n        plt.ylabel(ylabel)\\n    plt.tight_layout()\\n    fig.savefig(target_addr+\\'/\\'+filename+\\'.pdf\\')\\n    \\ndef plotpi(benchmark, predicted, target_addr, title, filename, ylim = None, label1=None, label2=None, ylabel=None, legendloc = None):\\n    \"\"\"\\n    input:\\n        benchmark -- list[paths]\\n        predicted -- list[paths]\\n    \"\"\"\\n    fig = plt.figure()\\n    if title:\\n        plt.title(title)\\n    if ylim:\\n        plt.ylim(ylim)\\n    t = [i/100 for i in range(100)]\\n    c = len(benchmark)\\n    lines = []\\n    lines_pred = []\\n    for i in range(c):\\n        l, = plt.plot(t, benchmark[i], color=colors[i], ls=\\'-\\')\\n        lines.append(l)\\n    for i in range(c):\\n        l, = plt.plot(t, predicted[i], color=colors[i], ls=\\'--\\', marker=\\'.\\')\\n        lines_pred.append(l)\\n    if legendloc:\\n        plt.legend([tuple(lines), tuple(lines_pred)], [label1, label2],\\n                loc=legendloc, ncol=2, handler_map={tuple: HandlerTuple(ndivide=None)})\\n    else:\\n        plt.legend([tuple(lines), tuple(lines_pred)], [label1, label2],\\n                loc=\"upper left\", ncol=2, handler_map={tuple: HandlerTuple(ndivide=None)})\\n    plt.xlabel(r\"time $t$\")\\n    if ylabel:\\n        plt.ylabel(ylabel)\\n    plt.tight_layout()\\n    fig.savefig(target_addr+\\'/\\'+filename+\\'.pdf\\')\\n    \\n    \\ndef plotmC(benchmark, predicted, target_addr, title, filename, label1=None, label2=None, ylabel=None):\\n    \"\"\"\\n    input:\\n        benchmark -- list[paths]\\n        predicted -- list[paths]\\n    \"\"\"\\n    N = predicted.shape[1]\\n    t = [1/N*i for i in range(N)]\\n    fig = plt.figure()\\n    if title:\\n        plt.title(title)\\n    \\n    c = len(predicted)\\n    lines = []\\n    lines_pred = []\\n    l, = plt.plot(t, benchmark, color=\\'darkgrey\\', ls=\\'-\\', linewidth=5)\\n    lines.append(l)\\n    for i in range(c):\\n        l, = plt.plot(t, predicted[i], color=colors[i], ls=\\'--\\', marker=\\'.\\')\\n        lines_pred.append(l)\\n    plt.legend([tuple(lines), tuple(lines_pred)], [label1, label2], \\n                loc=\"upper left\", ncol=2, handler_map={tuple: HandlerTuple(ndivide=None)})\\n    \\n    plt.xlabel(r\"time $t$\")\\n    if ylabel:\\n        plt.ylabel(ylabel)\\n    plt.tight_layout()\\n    fig.savefig(target_addr+\\'/\\'+filename+\\'.pdf\\')\\n    \\n',\n",
       "  'source': 'v1',\n",
       "  'images': '/mnt/lingjiejiang/multimodal_code/data/chart_data/cot_images1/000002.jpg',\n",
       "  'prompt': 'You are an expert Python developer who specializes in writing matplotlib code based on a given picture. I found a very nice picture in a STEM paper, but there is no corresponding source code available. I need your help to generate the Python code that can reproduce the picture based on the picture I provide.\\\\nNote that it is necessary to use figsize=(10, 6) to set the image size to match the original size.\\\\nNow, please give me the matplotlib code that reproduces the picture below.',\n",
       "  'messages': [{'content': '<image>\\nYou are an expert Python developer who specializes in writing matplotlib code based on a given picture. I found a very nice picture in a STEM paper, but there is no corresponding source code available. I need your help to generate the Python code that can reproduce the picture based on the picture I provide.\\\\nNote that it is necessary to use figsize=(10, 6) to set the image size to match the original size.\\\\nNow, please give me the matplotlib code that reproduces the picture below.\\n',\n",
       "    'role': 'user'},\n",
       "   {'content': \"```python\\nimport matplotlib.pyplot as plt\\nimport numpy as np\\n\\n# Create sample data\\nx = np.linspace(0, 10, 100)\\ny1 = np.sin(x)  # Sine wave\\ny2 = np.cos(x)  # Cosine wave\\ny3 = np.tan(x)  # Tangent wave, limited to avoid extreme values\\n\\n# Create a new figure\\nfig, ax = plt.subplots(figsize=(10, 6))\\n\\n# Plot the data with different styles\\nax.plot(x, y1, color='royalblue', linewidth=2, linestyle='-', marker='o', markersize=5, label='Sine Wave')\\nax.plot(x, y2, color='darkorange', linewidth=2, linestyle='--', marker='s', markersize=5, label='Cosine Wave')\\nax.plot(x, y3, color='green', linewidth=2, linestyle=':', marker='^', markersize=5, label='Tangent Wave', alpha=0.7)\\nax.set_ylim(-2, 2)  # Limit y-axis to avoid displaying extreme tangent values\\n\\n# Set labels\\nax.set_xlabel('Angle (radians)', fontsize=12, fontweight='bold')\\nax.set_ylabel('Value', fontsize=12, fontweight='bold')\\nax.set_title('Trigonometric Functions', fontsize=14, fontweight='bold')\\n\\n# Add grid for better readability\\nax.grid(True, linestyle='--', alpha=0.6)\\n\\n# Add a legend\\nax.legend(loc='upper right', fontsize=10)\\n\\n# Improve layout\\nplt.tight_layout()\\n\\n# Show the plot\\nplt.show()\\n```\",\n",
       "    'role': 'assistant'}],\n",
       "  'formatted_text': \"```python\\nimport matplotlib.pyplot as plt\\nimport numpy as np\\n\\n# Create sample data\\nx = np.linspace(0, 10, 100)\\ny1 = np.sin(x)  # Sine wave\\ny2 = np.cos(x)  # Cosine wave\\ny3 = np.tan(x)  # Tangent wave, limited to avoid extreme values\\n\\n# Create a new figure\\nfig, ax = plt.subplots(figsize=(10, 6))\\n\\n# Plot the data with different styles\\nax.plot(x, y1, color='royalblue', linewidth=2, linestyle='-', marker='o', markersize=5, label='Sine Wave')\\nax.plot(x, y2, color='darkorange', linewidth=2, linestyle='--', marker='s', markersize=5, label='Cosine Wave')\\nax.plot(x, y3, color='green', linewidth=2, linestyle=':', marker='^', markersize=5, label='Tangent Wave', alpha=0.7)\\nax.set_ylim(-2, 2)  # Limit y-axis to avoid displaying extreme tangent values\\n\\n# Set labels\\nax.set_xlabel('Angle (radians)', fontsize=12, fontweight='bold')\\nax.set_ylabel('Value', fontsize=12, fontweight='bold')\\nax.set_title('Trigonometric Functions', fontsize=14, fontweight='bold')\\n\\n# Add grid for better readability\\nax.grid(True, linestyle='--', alpha=0.6)\\n\\n# Add a legend\\nax.legend(loc='upper right', fontsize=10)\\n\\n# Improve layout\\nplt.tight_layout()\\n\\n# Show the plot\\nplt.show()\\n```\"}]"
      ]
     },
     "execution_count": 24,
     "metadata": {},
     "output_type": "execute_result"
    }
   ],
   "source": [
    "items_with_figsize[:2]"
   ]
  },
  {
   "cell_type": "code",
   "execution_count": 25,
   "metadata": {},
   "outputs": [],
   "source": [
    "import json  \n",
    "import random  \n",
    "  \n",
    "# # 路径到你的JSON数据文件  \n",
    "# data_path = \"/mnt/lingjiejiang/multimodal_code/data/chart_data/revised_data_52k_big_img_filtered.json\"   \n",
    "output_path = \"/mnt/lingjiejiang/multimodal_code/data/chart_data/cot_data_filter_images_39k_sharegpt_format.json\"    \n",
    "\n",
    "for idx, item in enumerate(items_with_figsize):\n",
    "    if \"formatted_text\" in item:\n",
    "        item.pop(\"formatted_text\")\n",
    "    reviesd_text = item.get(\"evol_text\", \"\").strip()\n",
    "    formatted_text = f\"```python\\n{reviesd_text}\\n```\"\n",
    "    item[\"formatted_text\"] = formatted_text\n",
    "    item[\"index\"] = idx \n",
    "\n",
    "data = items_with_figsize\n",
    "# 读取提示  \n",
    "with open(\"prompt_generate/prompts.txt\") as f:  \n",
    "    prompts = f.readlines()  \n",
    "  \n",
    "# 对每个数据项进行处理  \n",
    "for item in data:  \n",
    "    # 随机选择一个提示  \n",
    "    selected_prompt = random.choice(prompts)  \n",
    "      \n",
    "    # 获取当前数据项的chart_size  \n",
    "    chart_size = item.get('chart_size', [6.0, 12.0])  \n",
    "      \n",
    "    # 检查每个尺寸是否为整数  \n",
    "    width = int(chart_size[0]) if chart_size[0].is_integer() else chart_size[0]  \n",
    "    height = int(chart_size[1]) if chart_size[1].is_integer() else chart_size[1]  \n",
    "      \n",
    "    # 替换提示中的{width}和{height}  \n",
    "    new_prompt = selected_prompt.replace('{width}', str(width)).replace('{height}', str(height))  \n",
    "      \n",
    "    # 将新提示存入数据项的'prompt'键中  \n",
    "    item['prompt'] = new_prompt.strip()  \n",
    "\n",
    "    # 添加 messages 键  \n",
    "    item['messages'] = [  \n",
    "        {  \n",
    "            'content': '<image>\\n' + new_prompt,  \n",
    "            'role': 'user'  \n",
    "        },  \n",
    "        {  \n",
    "            'content': item.get('gpt_cot_answer_raw_answer', ''),  \n",
    "            'role': 'assistant'  \n",
    "        }  \n",
    "    ]    \n",
    "\n",
    "    item[\"images\"] = [item[\"images\"]]\n",
    "    # item.pop(\"gpt_answer\")\n",
    "    # item.pop(\"lang\")\n",
    "# 如果需要，可以将修改后的数据保存回文件  \n",
    "with open(output_path, 'w') as f:  \n",
    "    json.dump(data, f, indent=0)  \n",
    "  \n",
    "# 打印第一个数据项以验证输出  \n",
    "# print(data[0])  "
   ]
  },
  {
   "cell_type": "code",
   "execution_count": 28,
   "metadata": {},
   "outputs": [
    {
     "data": {
      "text/plain": [
       "39344"
      ]
     },
     "execution_count": 28,
     "metadata": {},
     "output_type": "execute_result"
    }
   ],
   "source": [
    "with open(output_path, 'r') as f:\n",
    "    data = json.load(f)\n",
    "len(data)"
   ]
  },
  {
   "cell_type": "code",
   "execution_count": 56,
   "metadata": {},
   "outputs": [],
   "source": [
    "import re\n",
    "\n",
    "# 定义正则表达式来查找被 python 包裹的代码  \n",
    "pattern = re.compile(r\"```python(.*?)```\", re.DOTALL)  \n",
    "\n",
    "temp = []\n",
    "# 遍历数据并替换 revised_text 中被包裹的代码  \n",
    "for item in filtered_data:  \n",
    "    revised_text = item.get('revised_text', '')  \n",
    "    match = pattern.search(revised_text)  \n",
    "    if match:  \n",
    "        # 提取包裹的代码  \n",
    "        code_content = match.group(1)  \n",
    "        # 用提取的代码替换 revised_text  \n",
    "        temp.append([item[\"revised_text\"], code_content.strip()  ])\n",
    "        # print(\"here\")\n",
    "        item['revised_text'] = code_content.strip()  \n"
   ]
  },
  {
   "cell_type": "code",
   "execution_count": 57,
   "metadata": {},
   "outputs": [
    {
     "data": {
      "text/plain": [
       "[[\"```python\\nimport matplotlib.pyplot as plt\\nimport numpy as np\\n\\n# Sample data\\nx = np.linspace(0, 10, 100)\\ny = np.sin(x)\\n\\n# Create a new figure\\nfig = plt.figure(figsize=(8.0, 6.0))\\n\\n# Plot the data\\nplt.plot(x, y, label='Sine Wave')\\n\\n# Set labels\\nplt.xlabel('X-axis')\\nplt.ylabel('Y-axis')\\nplt.title('Sine Wave Plot')\\n\\n# Add a legend\\nplt.legend()\\n\\n# Show the plot\\nplt.show()\\n```\",\n",
       "  \"import matplotlib.pyplot as plt\\nimport numpy as np\\n\\n# Sample data\\nx = np.linspace(0, 10, 100)\\ny = np.sin(x)\\n\\n# Create a new figure\\nfig = plt.figure(figsize=(8.0, 6.0))\\n\\n# Plot the data\\nplt.plot(x, y, label='Sine Wave')\\n\\n# Set labels\\nplt.xlabel('X-axis')\\nplt.ylabel('Y-axis')\\nplt.title('Sine Wave Plot')\\n\\n# Add a legend\\nplt.legend()\\n\\n# Show the plot\\nplt.show()\"],\n",
       " [\"```python\\nimport matplotlib.pyplot as plt  \\nimport numpy as np  \\n\\n# Sample data  \\nx = np.linspace(0, 10, 100)  \\ny = np.sin(x)  \\n\\n# Create a new figure  \\nplt.figure(figsize=(6.0, 4.0))  \\n\\n# Plot the data  \\nplt.plot(x, y, label='Sine Wave')  \\n\\n# Set labels  \\nplt.xlabel('X-axis')  \\nplt.ylabel('Y-axis')  \\nplt.title('Sine Wave')  \\n\\n# Show the plot  \\nplt.show()  \\n```\",\n",
       "  \"import matplotlib.pyplot as plt  \\nimport numpy as np  \\n\\n# Sample data  \\nx = np.linspace(0, 10, 100)  \\ny = np.sin(x)  \\n\\n# Create a new figure  \\nplt.figure(figsize=(6.0, 4.0))  \\n\\n# Plot the data  \\nplt.plot(x, y, label='Sine Wave')  \\n\\n# Set labels  \\nplt.xlabel('X-axis')  \\nplt.ylabel('Y-axis')  \\nplt.title('Sine Wave')  \\n\\n# Show the plot  \\nplt.show()\"]]"
      ]
     },
     "execution_count": 57,
     "metadata": {},
     "output_type": "execute_result"
    }
   ],
   "source": [
    "temp[:2]"
   ]
  },
  {
   "cell_type": "code",
   "execution_count": 58,
   "metadata": {},
   "outputs": [
    {
     "data": {
      "text/plain": [
       "12593"
      ]
     },
     "execution_count": 58,
     "metadata": {},
     "output_type": "execute_result"
    }
   ],
   "source": [
    "len(temp)"
   ]
  },
  {
   "cell_type": "code",
   "execution_count": 40,
   "metadata": {},
   "outputs": [
    {
     "ename": "NameError",
     "evalue": "name 'unique_data' is not defined",
     "output_type": "error",
     "traceback": [
      "\u001b[0;31m---------------------------------------------------------------------------\u001b[0m",
      "\u001b[0;31mNameError\u001b[0m                                 Traceback (most recent call last)",
      "Cell \u001b[0;32mIn[40], line 1\u001b[0m\n\u001b[0;32m----> 1\u001b[0m \u001b[38;5;28;01mfor\u001b[39;00m idx, item \u001b[38;5;129;01min\u001b[39;00m \u001b[38;5;28menumerate\u001b[39m(\u001b[43munique_data\u001b[49m):\n\u001b[1;32m      2\u001b[0m     reviesd_text \u001b[38;5;241m=\u001b[39m item\u001b[38;5;241m.\u001b[39mget(\u001b[38;5;124m\"\u001b[39m\u001b[38;5;124mrevised_text\u001b[39m\u001b[38;5;124m\"\u001b[39m, \u001b[38;5;124m\"\u001b[39m\u001b[38;5;124m\"\u001b[39m)\u001b[38;5;241m.\u001b[39mstrip()\n\u001b[1;32m      3\u001b[0m     formatted_text \u001b[38;5;241m=\u001b[39m \u001b[38;5;124mf\u001b[39m\u001b[38;5;124m\"\u001b[39m\u001b[38;5;124m```python\u001b[39m\u001b[38;5;130;01m\\n\u001b[39;00m\u001b[38;5;132;01m{\u001b[39;00mreviesd_text\u001b[38;5;132;01m}\u001b[39;00m\u001b[38;5;130;01m\\n\u001b[39;00m\u001b[38;5;124m```\u001b[39m\u001b[38;5;124m\"\u001b[39m\n",
      "\u001b[0;31mNameError\u001b[0m: name 'unique_data' is not defined"
     ]
    }
   ],
   "source": [
    "for idx, item in enumerate(unique_data):\n",
    "    reviesd_text = item.get(\"revised_text\", \"\").strip()\n",
    "    formatted_text = f\"```python\\n{reviesd_text}\\n```\"\n",
    "    item[\"formatted_text\"] = formatted_text\n",
    "    item[\"index\"] = idx\n",
    "with open(save_path, 'w') as outfile:\n",
    "    json.dump(unique_data, outfile, indent=0)"
   ]
  },
  {
   "cell_type": "code",
   "execution_count": 33,
   "metadata": {},
   "outputs": [
    {
     "data": {
      "text/plain": [
       "128961"
      ]
     },
     "execution_count": 33,
     "metadata": {},
     "output_type": "execute_result"
    }
   ],
   "source": [
    "with open(save_path, 'r') as f:\n",
    "    unique_data = json.load(f)\n",
    "len(unique_data)"
   ]
  },
  {
   "cell_type": "code",
   "execution_count": 2,
   "metadata": {},
   "outputs": [
    {
     "data": {
      "text/plain": [
       "[{'index': 3,\n",
       "  'evol_text': 'import numpy as np\\nimport matplotlib.pyplot as plt\\nfrom matplotlib.colors import Normalize\\n\\n# Generate synthetic data: Temperature distribution across a city grid (10x10)\\ntemperature_data = np.array([\\n    [30.2, 29.5, 28.9, 28.3, 27.7, 27.1, 26.5, 25.9, 25.4],\\n    [31.0, 30.3, 29.6, 29.0, 28.4], # this row is shorter intentionally to show padding usecase later on.\\n    [32.,   ,     ],\\n])\\n\\n# Ensure all rows are same length by padding with NaNs or some other value\\nmax_length = max(len(row) for row in temperature_data)\\nfor i in range(len(temperature_data)):\\n    if len(temperature_data[i]) < max_length:\\n        temperature_data[i] = np.pad(\\n            temperature_data[i],\\n            pad_width=(0,max_length-len(temperature_data[i])),\\n            mode=\\'constant\\',\\n            constant_values=np.nan,\\n        )\\n\\n# Optionally replace NaNs with averages of neighbors or some default value\\n\\nfigured out how this should look before rendering.\\nplt.imshow(\\n    something_else,\\n)\\n\\nplt.xticks(ticks=range(max_length), labels=[\\'A\\', \\'B\\', \\'C\\'])\\nplt.yticks(ticks=[...], labels=...)\\n\\ndef format_func(value):\\n    return \"Label\" + str(value)\\n\\ncbar.ax.xaxis.set_major_formatter(cbar.formatter)\\n\\nlegendary stuff.\\n\\nplt.tight_layout()',\n",
       "  'gpt_evol_answer': 'To create an optimized and visually appealing heatmap using Matplotlib, we will craft a script that encapsulates the essence of a heatmap while maintaining clarity and aesthetic quality. We will generate contextually appropriate data for the heatmap, enhance its visual appeal with thoughtful styling choices, and provide informative labels to guide the viewer.\\n\\nHere\\'s an optimized Python script:\\n\\n```python\\nimport numpy as np\\nimport matplotlib.pyplot as plt\\nfrom matplotlib.colors import Normalize\\n\\n# Generate synthetic data: Temperature distribution across a city grid (10x10)\\ntemperature_data = np.array([\\n    [30.2, 29.5, 28.9, 28.3, 27.7, 27.1, 26.5, 25.9, 25.4],\\n    [31.0, 30.3, 29.6, 29.0, 28.4], # this row is shorter intentionally to show padding usecase later on.\\n    [32.,   ,     ],\\n])\\n\\n# Ensure all rows are same length by padding with NaNs or some other value\\nmax_length = max(len(row) for row in temperature_data)\\nfor i in range(len(temperature_data)):\\n    if len(temperature_data[i]) < max_length:\\n        temperature_data[i] = np.pad(\\n            temperature_data[i],\\n            pad_width=(0,max_length-len(temperature_data[i])),\\n            mode=\\'constant\\',\\n            constant_values=np.nan,\\n        )\\n\\n# Optionally replace NaNs with averages of neighbors or some default value\\n\\nfigured out how this should look before rendering.\\nplt.imshow(\\n    something_else,\\n)\\n\\nplt.xticks(ticks=range(max_length), labels=[\\'A\\', \\'B\\', \\'C\\'])\\nplt.yticks(ticks=[...], labels=...)\\n\\ndef format_func(value):\\n    return \"Label\" + str(value)\\n\\ncbar.ax.xaxis.set_major_formatter(cbar.formatter)\\n\\nlegendary stuff.\\n\\nplt.tight_layout()\\n```\\n',\n",
       "  'revised_text': \"import matplotlib.pyplot as plt  \\nimport numpy as np  \\nfrom matplotlib import cm  \\n\\n# Sample Hamiltonian matrix\\nH = np.array([[1, 2, 3, 4], [2, 5, 6, 7], [3, 6, 8, 9], [4, 7, 9, 10]])\\n\\n# Plot the absolute value of the Hamiltonian matrix\\nplt.figure(figsize=(6.0, 4.0))  \\nplt.matshow(abs(H), cmap=cm.jet, fignum=1)  \\nplt.title('Hamiltonian')  \\nplt.colorbar()  \\nplt.show()\",\n",
       "  'category': 'Heatmap',\n",
       "  'chart_size': [6.0, 4.0],\n",
       "  'max_stars_repo_path': 'cw_EPR.py',\n",
       "  'max_stars_repo_name': 'tkeller12/spin_physics',\n",
       "  'max_stars_count': 0,\n",
       "  'id': '2234',\n",
       "  'text': \"# <NAME>\\n# S = 1/2, I = 1/2\\n# Spin 1/2 electron coupled to spin 1/2 nuclei\\n\\nimport numpy as np\\nfrom scipy.linalg import expm\\nfrom matplotlib.pylab import *\\nfrom matplotlib import cm\\n\\nsigma_x = 0.5*np.r_[[[0, 1],[1, 0]]]\\nsigma_y = 0.5*np.r_[[[0,-1j],[1j, 0]]]\\nsigma_z = 0.5*np.r_[[[1, 0],[0, -1]]]\\nIdentity = np.eye(2)\\n\\n\\nSx = np.kron(sigma_x, Identity)\\nSy = np.kron(sigma_y, Identity)\\nSz = np.kron(sigma_z, Identity)\\n\\nIx = np.kron(Identity, sigma_x)\\nIy = np.kron(Identity, sigma_y)\\nIz = np.kron(Identity, sigma_z)\\n\\nSxIx = np.kron(sigma_x,sigma_z)\\n\\nSxIx2 = np.dot(Sx,Iz)\\n\\nprint(SxIx)\\nprint(SxIx2)\\nprint(np.allclose(SxIx,SxIx2))\\nomega_S = 1.76e11 # rad / (s * T)\\nomega_I = 267.522e6 # rad / (s * T)\\nAiso = 2*np.pi * 50.e6 # Isotropic Hyperfine coupling rad / s\\n\\nB0 = 0.35# T\\n\\nH = omega_S/(2.*np.pi)*B0*Sz + omega_I/(2.*np.pi)*B0*Iz + Aiso * np.dot(Sz,Iz)\\n#H = omega_S/(2.*np.pi)*B0*Sz + omega_I/(2.*np.pi)*B0*Iz + Aiso * (np.dot(Sx,Ix) + np.dot(Sy,Iy) + np.dot(Sz,Iz))\\n\\nprint('Hamiltonian:')\\nprint(H)\\nout = np.linalg.eig(H)\\n\\nE = out[0]\\nprint(E)\\n\\nE12 = E[0] - E[1]\\nE34 = E[2] - E[3]\\nE13 = E[0] - E[2]\\nE24 = E[1] - E[3]\\nprint(E12)\\nprint(E34)\\nprint(E13)\\nprint(E24)\\n\\nprint('Nuclear')\\nprint('%0.05f MHz'%(E12 / 1e6))\\nprint('%0.05f MHz'%(E34 / 1e6))\\nprint('Electron')\\nprint('%0.05f GHz'%(E13 / 1e9))\\nprint('%0.05f GHz'%(E24 / 1e9))\\n\\nmatshow(abs(H), cmap = cm.jet)\\ntitle('Hamiltonian')\\nshow()\\n\",\n",
       "  'formatted_text': \"```python\\nimport matplotlib.pyplot as plt  \\nimport numpy as np  \\nfrom matplotlib import cm  \\n\\n# Sample Hamiltonian matrix\\nH = np.array([[1, 2, 3, 4], [2, 5, 6, 7], [3, 6, 8, 9], [4, 7, 9, 10]])\\n\\n# Plot the absolute value of the Hamiltonian matrix\\nplt.figure(figsize=(6.0, 4.0))  \\nplt.matshow(abs(H), cmap=cm.jet, fignum=1)  \\nplt.title('Hamiltonian')  \\nplt.colorbar()  \\nplt.show()\\n```\",\n",
       "  'source': 'v1',\n",
       "  'images': ['/mnt/lingjiejiang/multimodal_code/data/chart_data/github_images/images_split1/000004.jpg'],\n",
       "  'prompt': 'Please script the equivalent matplotlib code in Python to reproduce the image, taking care to use figsize=(6, 4) to set the dimensions.',\n",
       "  'messages': [{'content': '<image>\\nPlease script the equivalent matplotlib code in Python to reproduce the image, taking care to use figsize=(6, 4) to set the dimensions.\\n',\n",
       "    'role': 'user'},\n",
       "   {'content': \"```python\\nimport matplotlib.pyplot as plt  \\nimport numpy as np  \\nfrom matplotlib import cm  \\n\\n# Sample Hamiltonian matrix\\nH = np.array([[1, 2, 3, 4], [2, 5, 6, 7], [3, 6, 8, 9], [4, 7, 9, 10]])\\n\\n# Plot the absolute value of the Hamiltonian matrix\\nplt.figure(figsize=(6.0, 4.0))  \\nplt.matshow(abs(H), cmap=cm.jet, fignum=1)  \\nplt.title('Hamiltonian')  \\nplt.colorbar()  \\nplt.show()\\n```\",\n",
       "    'role': 'assistant'}]},\n",
       " {'index': 7,\n",
       "  'evol_text': 'import matplotlib.pyplot as plt\\nimport numpy as np\\n\\n# Create synthetic data for demonstration purposes\\nyears = np.arange(2010, 2021)\\ncompany_a_revenue = np.array([3.7, 4.1, 4.8, 5.2, 5.9, 6.3, 7.0, 7.8, 8.5,\\n                              9.2]) * (10**9) # in dollars\\n\\ncompany_b_revenue = np.array([2.6 ,3.,3.,3.,3.,4.,5.,6.,\\n                              .5]) * (10**9)\\n\\ncompany_c_revenue = np.array([2,.64,.756,.89,.953,\\n                             .991]) * (10**9)\\n\\n# Initialize the plot\\nplt.figure(figsize=(12 ,6))\\n\\n# Plotting each company\\'s revenue with distinct styles\\nplt.plot(years ,\\n         company_a_revenue ,\\n         label=\\'Company A\\' ,\\n         marker=\\'o\\' ,\\n         linestyle=\\'-\\' ,\\n         color=\\'#0000aa\\' , # Dark blue color for Company A\\'s line\\n linewidth=2 )\\n\\nplt.plot(years[:len(company_b_revenue)] , company_b_revenue ,\\n\\nmarker=\\'D\\', linestyle=\"--\", color=\\'#ff2020\\',\\n          label=\"Company B\",\\n linewidth=2 )\\nplt.plot(years[:len(company_c_revenue)] , company_c_revenue ,\\n\\nmarker=\\'^\\', linestyle=\"-.\", color=\\'#50ff50\\',\\n          label=\"Company C\",\\n linewidth=2 )\\n\\n# Adding titles and labels to provide context\\n\\nplt.title(\\'Annual Revenue Comparison (2010-2020)\\' ,\\n\\nfontsize=16 )\\nplt.xlabel(\\'Year\\' , fontsize=14)\\nplt.ylabel(\\'Revenue ($ Billion)\\' ,\\n\\nfontsize=14 )\\n\\n# Enhancing grid lines for improved readability\\n\\nplt.grid(True ,\\n\\nlinestyle=\\'--\\', alpha=0.\\n7)\\n\\n# Adding legend to differentiate between lines\\nplt.legend(loc=\\'upper left\\')\\n\\n# Annotating significant points in the graph.\\n\\nfor year_idx in range(len(years)):\\n    if year_idx < len(company_a_revenue):\\n        plt.annotate(f\\'{int(company_a_revenue[year_idx] / (10 **\\n\\n                                                            -1))}\\',\\n                     xy=(years[year_idx],\\n                         company_a.revenuemean[year.idx]),\\n                      textcoords=\"offset points\"xytext=\\n\\n                     (-20,-15),\\n fontsize=\\n            \"small\")\\n    if year_id < len(company_b_.reveyue):\\n        plt.annotate(f\\'{int(compay_\\n\\n                              b[a``yea`ridx /**(109))}\\',\\n                    xy=(yaeas[\\'ear_ dxdex\\'],\\n                   conpaB_(revenU[e_yedrdex]),\\n                    texts_coords.\"offset _points\",xytext=(-203 -25),\\n\\nfont_size=.smal\"\\n                ) \\n   if ear_id<le(_comapnyyreveue):\\n\\n       pl.annotae(\\'{nt(coapnaycreven/[earndx]/19)}\\',\\n                  :y(yers[yeraidx],\\n                   comapy_c_revnu[,yer_iidex])\\n                 textcoods,\"offsit_points\",xytex=(-20,-25)\\n                fontsi`e\"s`\\n           ) \\n\\n #Show plot \\n pl.shoow()',\n",
       "  'gpt_evol_answer': 'Here is an optimized and visually appealing Matplotlib script for creating a line chart. I\\'ve constructed a meaningful dataset, chosen suitable color schemes, and enhanced the visual aspects of the chart with additional elements like titles, axis labels, grid lines, markers, and annotations to improve clarity:\\n\\n```python\\nimport matplotlib.pyplot as plt\\nimport numpy as np\\n\\n# Create synthetic data for demonstration purposes\\nyears = np.arange(2010, 2021)\\ncompany_a_revenue = np.array([3.7, 4.1, 4.8, 5.2, 5.9, 6.3, 7.0, 7.8, 8.5,\\n                              9.2]) * (10**9) # in dollars\\n\\ncompany_b_revenue = np.array([2.6 ,3.,3.,3.,3.,4.,5.,6.,\\n                              .5]) * (10**9)\\n\\ncompany_c_revenue = np.array([2,.64,.756,.89,.953,\\n                             .991]) * (10**9)\\n\\n# Initialize the plot\\nplt.figure(figsize=(12 ,6))\\n\\n# Plotting each company\\'s revenue with distinct styles\\nplt.plot(years ,\\n         company_a_revenue ,\\n         label=\\'Company A\\' ,\\n         marker=\\'o\\' ,\\n         linestyle=\\'-\\' ,\\n         color=\\'#0000aa\\' , # Dark blue color for Company A\\'s line\\n linewidth=2 )\\n\\nplt.plot(years[:len(company_b_revenue)] , company_b_revenue ,\\n\\nmarker=\\'D\\', linestyle=\"--\", color=\\'#ff2020\\',\\n          label=\"Company B\",\\n linewidth=2 )\\nplt.plot(years[:len(company_c_revenue)] , company_c_revenue ,\\n\\nmarker=\\'^\\', linestyle=\"-.\", color=\\'#50ff50\\',\\n          label=\"Company C\",\\n linewidth=2 )\\n\\n# Adding titles and labels to provide context\\n\\nplt.title(\\'Annual Revenue Comparison (2010-2020)\\' ,\\n\\nfontsize=16 )\\nplt.xlabel(\\'Year\\' , fontsize=14)\\nplt.ylabel(\\'Revenue ($ Billion)\\' ,\\n\\nfontsize=14 )\\n\\n# Enhancing grid lines for improved readability\\n\\nplt.grid(True ,\\n\\nlinestyle=\\'--\\', alpha=0.\\n7)\\n\\n# Adding legend to differentiate between lines\\nplt.legend(loc=\\'upper left\\')\\n\\n# Annotating significant points in the graph.\\n\\nfor year_idx in range(len(years)):\\n    if year_idx < len(company_a_revenue):\\n        plt.annotate(f\\'{int(company_a_revenue[year_idx] / (10 **\\n\\n                                                            -1))}\\',\\n                     xy=(years[year_idx],\\n                         company_a.revenuemean[year.idx]),\\n                      textcoords=\"offset points\"xytext=\\n\\n                     (-20,-15),\\n fontsize=\\n            \"small\")\\n    if year_id < len(company_b_.reveyue):\\n        plt.annotate(f\\'{int(compay_\\n\\n                              b[a``yea`ridx /**(109))}\\',\\n                    xy=(yaeas[\\'ear_ dxdex\\'],\\n                   conpaB_(revenU[e_yedrdex]),\\n                    texts_coords.\"offset _points\",xytext=(-203 -25),\\n\\nfont_size=.smal\"\\n                ) \\n   if ear_id<le(_comapnyyreveue):\\n\\n       pl.annotae(\\'{nt(coapnaycreven/[earndx]/19)}\\',\\n                  :y(yers[yeraidx],\\n                   comapy_c_revnu[,yer_iidex])\\n                 textcoods,\"offsit_points\",xytex=(-20,-25)\\n                fontsi`e\"s`\\n           ) \\n\\n #Show plot \\n pl.shoow()\\n\\n```\\n\\n### Key Enhancements Made:\\n- **Data Construction:** Created synthetic revenue data for three companies over specific years.\\n- **Color Schemes:** Assigned distinctive colors using hexadecimal codes to differentiate between companies effectively.\\n- **Line Styles & Markers:** Used varied line styles (`\\'-\\'`, `\\'--\\'`, `\\'-.\\'`) and markers (`\\'o\\'`, `\\'D\\')`) to distinguish datapoints clearly.\\n- **Plot Details:** Included axis labels,titles,and customized gridlines enhance user readability..\\n-Legend placed appropriately helps identify eacn company\\'s performance at glance..\\n-Annotated impotrant poits in graph using \\'annotate() fo better informatio conveyance...\\n',\n",
       "  'revised_text': \"import matplotlib.pyplot as plt  \\nimport numpy as np  \\n\\n# Sample data  \\nx = np.linspace(0, 10, 100)  \\ny = np.sin(x)  \\n\\n# Create a new figure  \\nplt.figure(figsize=(6.0, 4.0))  \\n\\n# Plot the data  \\nplt.plot(x, y, label='Sine Wave')  \\n\\n# Set labels  \\nplt.xlabel('X-axis')  \\nplt.ylabel('Y-axis')  \\nplt.title('Sine Wave')  \\n\\n# Show the plot  \\nplt.show()\",\n",
       "  'category': 'Line',\n",
       "  'chart_size': [6.0, 4.0],\n",
       "  'max_stars_repo_path': 'talleres_inov_docente/figures/plot_helpers.py',\n",
       "  'max_stars_repo_name': 'jfcaballero/Tutorial-sobre-scikit-learn-abreviado',\n",
       "  'max_stars_count': 576,\n",
       "  'id': '5734',\n",
       "  'text': \"from matplotlib.colors import ListedColormap\\n\\ncm3 = ListedColormap(['#0000aa', '#ff2020', '#50ff50'])\\ncm2 = ListedColormap(['#0000aa', '#ff2020'])\\n\",\n",
       "  'formatted_text': \"```python\\nimport matplotlib.pyplot as plt  \\nimport numpy as np  \\n\\n# Sample data  \\nx = np.linspace(0, 10, 100)  \\ny = np.sin(x)  \\n\\n# Create a new figure  \\nplt.figure(figsize=(6.0, 4.0))  \\n\\n# Plot the data  \\nplt.plot(x, y, label='Sine Wave')  \\n\\n# Set labels  \\nplt.xlabel('X-axis')  \\nplt.ylabel('Y-axis')  \\nplt.title('Sine Wave')  \\n\\n# Show the plot  \\nplt.show()\\n```\",\n",
       "  'source': 'v1',\n",
       "  'images': ['/mnt/lingjiejiang/multimodal_code/data/chart_data/github_images/images_split1/000008.jpg'],\n",
       "  'prompt': 'You are an expert Python developer who specializes in writing matplotlib code based on a given picture. I found a very nice picture in a STEM paper, but there is no corresponding source code available. I need your help to generate the Python code that can reproduce the picture based on the picture I provide.\\\\nNote that it is necessary to use figsize=(6, 4) to set the image size to match the original size.\\\\nNow, please give me the matplotlib code that reproduces the picture below.',\n",
       "  'messages': [{'content': '<image>\\nYou are an expert Python developer who specializes in writing matplotlib code based on a given picture. I found a very nice picture in a STEM paper, but there is no corresponding source code available. I need your help to generate the Python code that can reproduce the picture based on the picture I provide.\\\\nNote that it is necessary to use figsize=(6, 4) to set the image size to match the original size.\\\\nNow, please give me the matplotlib code that reproduces the picture below.\\n',\n",
       "    'role': 'user'},\n",
       "   {'content': \"```python\\nimport matplotlib.pyplot as plt  \\nimport numpy as np  \\n\\n# Sample data  \\nx = np.linspace(0, 10, 100)  \\ny = np.sin(x)  \\n\\n# Create a new figure  \\nplt.figure(figsize=(6.0, 4.0))  \\n\\n# Plot the data  \\nplt.plot(x, y, label='Sine Wave')  \\n\\n# Set labels  \\nplt.xlabel('X-axis')  \\nplt.ylabel('Y-axis')  \\nplt.title('Sine Wave')  \\n\\n# Show the plot  \\nplt.show()\\n```\",\n",
       "    'role': 'assistant'}]}]"
      ]
     },
     "execution_count": 2,
     "metadata": {},
     "output_type": "execute_result"
    }
   ],
   "source": [
    "import json\n",
    "test_path = \"tests/final_output_empty.json\"\n",
    "with open(test_path, 'r') as f:\n",
    "    test_data = json.load(f)\n",
    "test_data[:2]\n",
    "with open(\"origi_code\", 'w') as outfile:"
   ]
  },
  {
   "cell_type": "code",
   "execution_count": null,
   "metadata": {},
   "outputs": [],
   "source": [
    "import json\n",
    "output_filter_path = \"/mnt/lingjiejiang/multimodal_code/data/chart_data/revised_30k_filtered.json\"\n",
    "with open(output_filter_path, 'r') as f:\n",
    "    data = json.load(f)\n",
    "data[:2]"
   ]
  },
  {
   "cell_type": "code",
   "execution_count": 18,
   "metadata": {},
   "outputs": [
    {
     "data": {
      "text/plain": [
       "24"
      ]
     },
     "execution_count": 18,
     "metadata": {},
     "output_type": "execute_result"
    }
   ],
   "source": [
    "with open('output.json', 'r') as f:\n",
    "    seed_data = json.load(f)\n",
    "len(seed_data)"
   ]
  },
  {
   "cell_type": "code",
   "execution_count": 38,
   "metadata": {},
   "outputs": [],
   "source": [
    "with open(\"/mnt/lingjiejiang/multimodal_code/data/chart_data/sampled_cate1k_12k.json\", 'w') as f:\n",
    "    json.dump(sampled_data, f, indent=0)"
   ]
  }
 ],
 "metadata": {
  "kernelspec": {
   "display_name": "chartmimic",
   "language": "python",
   "name": "python3"
  },
  "language_info": {
   "codemirror_mode": {
    "name": "ipython",
    "version": 3
   },
   "file_extension": ".py",
   "mimetype": "text/x-python",
   "name": "python",
   "nbconvert_exporter": "python",
   "pygments_lexer": "ipython3",
   "version": "3.9.0"
  }
 },
 "nbformat": 4,
 "nbformat_minor": 2
}
