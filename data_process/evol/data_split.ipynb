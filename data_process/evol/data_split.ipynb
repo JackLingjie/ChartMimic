{
 "cells": [
  {
   "cell_type": "code",
   "execution_count": 1,
   "metadata": {},
   "outputs": [],
   "source": [
    "import json\n",
    "with open(\"/mnt/lingjiejiang/multimodal_code/data/chart_data/direct_revised_39k.json\", 'r') as f:\n",
    "    raw_data = json.load(f)"
   ]
  },
  {
   "cell_type": "code",
   "execution_count": 2,
   "metadata": {},
   "outputs": [
    {
     "name": "stdout",
     "output_type": "stream",
     "text": [
      "数据已成功切分并保存。\n"
     ]
    }
   ],
   "source": [
    "import json  \n",
    "  \n",
    "# 读取原始数据  \n",
    "with open(\"/mnt/lingjiejiang/multimodal_code/data/chart_data/direct_revised_39k.json\", 'r') as f:  \n",
    "    raw_data = json.load(f)  \n",
    "  \n",
    "# 计算每份数据的大小  \n",
    "total_length = len(raw_data)  \n",
    "split_size = total_length // 3  \n",
    "  \n",
    "# 切分数据  \n",
    "split_data_1 = raw_data[:split_size]  \n",
    "split_data_2 = raw_data[split_size:2*split_size]  \n",
    "split_data_3 = raw_data[2*split_size:]  \n",
    "  \n",
    "# 保存切分后的数据  \n",
    "with open(\"/mnt/lingjiejiang/multimodal_code/data/chart_data/direct_revised_39k_split_1.json\", 'w') as f1:  \n",
    "    json.dump(split_data_1, f1)  \n",
    "  \n",
    "with open(\"/mnt/lingjiejiang/multimodal_code/data/chart_data/direct_revised_39k_split_2.json\", 'w') as f2:  \n",
    "    json.dump(split_data_2, f2)  \n",
    "  \n",
    "with open(\"/mnt/lingjiejiang/multimodal_code/data/chart_data/direct_revised_39k_split_3.json\", 'w') as f3:  \n",
    "    json.dump(split_data_3, f3)  \n",
    "  \n",
    "print(\"数据已成功切分并保存。\")  "
   ]
  },
  {
   "cell_type": "code",
   "execution_count": 1,
   "metadata": {},
   "outputs": [
    {
     "name": "stdout",
     "output_type": "stream",
     "text": [
      "数据已成功切分并保存。\n"
     ]
    }
   ],
   "source": []
  }
 ],
 "metadata": {
  "kernelspec": {
   "display_name": "chartmimic",
   "language": "python",
   "name": "python3"
  },
  "language_info": {
   "codemirror_mode": {
    "name": "ipython",
    "version": 3
   },
   "file_extension": ".py",
   "mimetype": "text/x-python",
   "name": "python",
   "nbconvert_exporter": "python",
   "pygments_lexer": "ipython3",
   "version": "3.9.0"
  }
 },
 "nbformat": 4,
 "nbformat_minor": 2
}
