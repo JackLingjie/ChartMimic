{
 "cells": [
  {
   "cell_type": "code",
   "execution_count": 2,
   "metadata": {},
   "outputs": [
    {
     "data": {
      "text/plain": [
       "17181"
      ]
     },
     "execution_count": 2,
     "metadata": {},
     "output_type": "execute_result"
    }
   ],
   "source": [
    "import json\n",
    "revised_path = \"/mnt/lingjiejiang/multimodal_code/data/chart_data/ChartBench/chart_bench_1/final_output.json\"\n",
    "with open(revised_path, 'r') as f:\n",
    "    revised_data = json.load(f)\n",
    "len(revised_data)"
   ]
  },
  {
   "cell_type": "code",
   "execution_count": 5,
   "metadata": {},
   "outputs": [],
   "source": [
    "# revised_data[:10]"
   ]
  },
  {
   "cell_type": "code",
   "execution_count": 9,
   "metadata": {},
   "outputs": [
    {
     "data": {
      "text/plain": [
       "96396"
      ]
     },
     "execution_count": 9,
     "metadata": {},
     "output_type": "execute_result"
    }
   ],
   "source": [
    "inempty_data = [item for item in revised_data if item[\"revised_text\"] != \"\"]\n",
    "len(inempty_data)"
   ]
  },
  {
   "cell_type": "code",
   "execution_count": 10,
   "metadata": {},
   "outputs": [
    {
     "data": {
      "text/plain": [
       "32866"
      ]
     },
     "execution_count": 10,
     "metadata": {},
     "output_type": "execute_result"
    }
   ],
   "source": [
    "empty_data = [item for item in revised_data if item[\"revised_text\"] == \"\"]\n",
    "len(empty_data)"
   ]
  },
  {
   "cell_type": "code",
   "execution_count": 11,
   "metadata": {},
   "outputs": [],
   "source": [
    "save_path = '/mnt/lingjiejiang/multimodal_code/data/chart_data/github_chart/merged_empty_data.json'\n",
    "with open(save_path, 'w') as outfile:  \n",
    "    json.dump(empty_data, outfile, indent=4)"
   ]
  },
  {
   "cell_type": "code",
   "execution_count": 12,
   "metadata": {},
   "outputs": [
    {
     "data": {
      "text/plain": [
       "32866"
      ]
     },
     "execution_count": 12,
     "metadata": {},
     "output_type": "execute_result"
    }
   ],
   "source": [
    "with open(save_path, 'r') as f:\n",
    "    empty_data = json.load(f)\n",
    "len(empty_data)"
   ]
  },
  {
   "cell_type": "code",
   "execution_count": 6,
   "metadata": {},
   "outputs": [
    {
     "data": {
      "text/plain": [
       "(17181, 17181, 17181, 17181)"
      ]
     },
     "execution_count": 6,
     "metadata": {},
     "output_type": "execute_result"
    }
   ],
   "source": [
    "import json\n",
    "data_1_path = \"/mnt/lingjiejiang/multimodal_code/data/chart_data/ChartBench/chart_bench_1/final_output.json\"\n",
    "data_2_path = \"/mnt/lingjiejiang/multimodal_code/data/chart_data/ChartBench/chart_bench_2/final_output.json\"\n",
    "data_3_path = \"/mnt/lingjiejiang/multimodal_code/data/chart_data/ChartBench/chart_bench_3/final_output.json\"\n",
    "data_4_path = \"/mnt/lingjiejiang/multimodal_code/data/chart_data/ChartBench/chart_bench_4/final_output.json\"\n",
    "# seed_data_path = \"/mnt/lingjiejiang/multimodal_code/data/chart_data/chart_code_evol_sampled_seed_4k_supply/final_output_empty.json\"\n",
    "\n",
    "def load_data(data_path):\n",
    "    with open(data_path, 'r') as f:\n",
    "        data = json.load(f)\n",
    "    return data\n",
    "\n",
    "data_1 = load_data(data_1_path)\n",
    "data_2 = load_data(data_2_path)\n",
    "data_3 = load_data(data_3_path)\n",
    "data_4 = load_data(data_4_path)\n",
    "# seed_data = load_data(seed_data_path)\n",
    "len(data_1), len(data_2), len(data_3), len(data_4)"
   ]
  },
  {
   "cell_type": "code",
   "execution_count": 10,
   "metadata": {},
   "outputs": [
    {
     "data": {
      "text/plain": [
       "68724"
      ]
     },
     "execution_count": 10,
     "metadata": {},
     "output_type": "execute_result"
    }
   ],
   "source": [
    "merged_data = data_1 + data_2 + data_3 + data_4 \n",
    "len(merged_data)"
   ]
  },
  {
   "cell_type": "markdown",
   "metadata": {},
   "source": [
    "###\n",
    "filter import library"
   ]
  },
  {
   "cell_type": "code",
   "execution_count": null,
   "metadata": {},
   "outputs": [],
   "source": [
    "import json  \n",
    "import re  \n",
    "  \n",
    "# 定义要检查的随机函数、wordcloud 调用、misc 导入语句和 seaborn 导入语句的正则表达式  \n",
    "random_patterns = re.compile(r'\\brandn\\b|\\brandom\\b|\\brand\\b')  \n",
    "wordcloud_patterns = re.compile(r'\\bwordcloud\\b', re.IGNORECASE)  \n",
    "misc_patterns = re.compile(r'\\bimport\\s+.*misc\\b|\\bfrom\\s+.*misc\\s+import\\b', re.IGNORECASE)  \n",
    "seaborn_patterns = re.compile(r'\\bimport\\s+seaborn\\b|\\bfrom\\s+seaborn\\s+import\\b', re.IGNORECASE)  \n",
    "  \n",
    "# 定义要检查的 matplotlib 导入语句的正则表达式  \n",
    "matplotlib_patterns = re.compile(r'\\bimport\\s+matplotlib\\b|\\bfrom\\s+matplotlib\\s+import\\b', re.IGNORECASE)  \n",
    "  \n",
    "# 过滤掉不包含 matplotlib 导入的项，并且包含随机函数调用、wordcloud 调用、misc 导入和 seaborn 导入的项  \n",
    "filtered_data = [  \n",
    "    item for item in merged_data  \n",
    "    if matplotlib_patterns.search(item.get('raw_response', ''))  \n",
    "    and not random_patterns.search(item.get('raw_response', ''))  \n",
    "    and not wordcloud_patterns.search(item.get('raw_response', ''))  \n",
    "    and not misc_patterns.search(item.get('raw_response', ''))  \n",
    "    and not seaborn_patterns.search(item.get('raw_response', ''))  \n",
    "]  "
   ]
  },
  {
   "cell_type": "code",
   "execution_count": 18,
   "metadata": {},
   "outputs": [],
   "source": [
    "import json  \n",
    "import re  \n",
    "  \n",
    "# 定义要检查的随机函数、wordcloud 调用和 misc 导入语句的正则表达式  \n",
    "random_patterns = re.compile(r'\\brandn\\b|\\brandom\\b|\\brand\\b')  \n",
    "wordcloud_patterns = re.compile(r'\\bwordcloud\\b', re.IGNORECASE)  \n",
    "misc_patterns = re.compile(r'\\bimport\\s+.*misc\\b|\\bfrom\\s+.*misc\\s+import\\b', re.IGNORECASE)  \n",
    "seaborn_patterns = re.compile(r'\\bimport\\s+seaborn\\b|\\bfrom\\s+seaborn\\s+import\\b', re.IGNORECASE)  \n",
    "  \n",
    "# 过滤掉包含随机函数调用、wordcloud 调用、misc 导入和 seaborn 导入的项  \n",
    "filtered_rand_data = [  \n",
    "    item for item in merged_data  \n",
    "    if not random_patterns.search(item.get('raw_response', ''))  \n",
    "    and not wordcloud_patterns.search(item.get('raw_response', ''))  \n",
    "    and not misc_patterns.search(item.get('raw_response', ''))  \n",
    "    and not seaborn_patterns.search(item.get('raw_response', ''))  \n",
    "]\n"
   ]
  },
  {
   "cell_type": "code",
   "execution_count": 19,
   "metadata": {},
   "outputs": [
    {
     "data": {
      "text/plain": [
       "64246"
      ]
     },
     "execution_count": 19,
     "metadata": {},
     "output_type": "execute_result"
    }
   ],
   "source": [
    "len(filtered_rand_data)"
   ]
  },
  {
   "cell_type": "code",
   "execution_count": 15,
   "metadata": {},
   "outputs": [
    {
     "data": {
      "text/plain": [
       "0"
      ]
     },
     "execution_count": 15,
     "metadata": {},
     "output_type": "execute_result"
    }
   ],
   "source": [
    "import re\n",
    "merged_data[:2]\n",
    "def extract_python_code(gpt_answer):  \n",
    "    # Use regex to find the code block marked with ```python  \n",
    "    match = re.search(r\"```python(.*?)```\", gpt_answer, re.DOTALL)  \n",
    "    return match.group(1).strip() if match else \"\"  \n",
    " \n",
    "temp = []\n",
    "for item in merged_data:\n",
    "    match = re.search(r\"```python(.*?)```\", item[\"code_text\"], re.DOTALL) \n",
    "    if match:\n",
    "        temp.append(item)\n",
    "len(temp)"
   ]
  },
  {
   "cell_type": "code",
   "execution_count": 20,
   "metadata": {},
   "outputs": [
    {
     "name": "stdout",
     "output_type": "stream",
     "text": [
      "Len of filtered_empty_data: 64246\n"
     ]
    }
   ],
   "source": [
    "# import re\n",
    "# merged_data[:2]\n",
    "# def extract_python_code(gpt_answer):  \n",
    "#     # Use regex to find the code block marked with ```python  \n",
    "#     match = re.search(r\"```python(.*?)```\", gpt_answer, re.DOTALL)  \n",
    "#     return match.group(1).strip() if match else \"\"  \n",
    " \n",
    "# temp = []\n",
    "# for item in merged_data:\n",
    "#     match = re.search(r\"```python(.*?)```\", item[\"evol_text\"], re.DOTALL) \n",
    "#     if match:\n",
    "#         temp.append(item)\n",
    "\n",
    "filtered_empty_data = [item for item in filtered_rand_data if item[\"code_text\"].strip() != \"\" or item[\"stop_reason\"] != \"stop\"]\n",
    "\n",
    "print(f\"Len of filtered_empty_data: {len(filtered_empty_data)}\")"
   ]
  },
  {
   "cell_type": "code",
   "execution_count": 21,
   "metadata": {},
   "outputs": [
    {
     "data": {
      "text/plain": [
       "64035"
      ]
     },
     "execution_count": 21,
     "metadata": {},
     "output_type": "execute_result"
    }
   ],
   "source": [
    "filtered_data = [item for item in filtered_empty_data if 'xkcd()' not in item[\"code_text\"] and \"seaborn\" not in item[\"code_text\"]] \n",
    "for idx, item in enumerate(filtered_data):\n",
    "    item[\"index\"] = idx\n",
    "len(filtered_data)"
   ]
  },
  {
   "cell_type": "code",
   "execution_count": 22,
   "metadata": {},
   "outputs": [
    {
     "data": {
      "text/plain": [
       "[{'index': 0,\n",
       "  'code_text': 'import matplotlib.pyplot as plt\\n\\n# Data\\nyears = [2015, 2016, 2017, 2018, 2019, 2020, 2021]\\nusa_energy = [500, 490, 480, 470, 460, 450, 440]\\ngermany_energy = [300, 290, 280, 270, 260, 250, 240]\\n\\n# Plot\\nplt.figure(figsize=(15, 8))\\nplt.plot(years, usa_energy, \\'o-\\', label=\\'USA\\', color=\\'tab:blue\\')\\nplt.plot(years, germany_energy, \\'o-\\', label=\\'Germany\\', color=\\'lightgrey\\')\\n\\n# Annotations\\nfor i, txt in enumerate(usa_energy):\\n    plt.annotate(f\\'{txt:.1f}\\', (years[i], usa_energy[i]), textcoords=\"offset points\", xytext=(0,10), ha=\\'center\\')\\n\\nfor i, txt in enumerate(germany_energy):\\n    plt.annotate(f\\'{txt:.1f}\\', (years[i], germany_energy[i]), textcoords=\"offset points\", xytext=(0,10), ha=\\'center\\')\\n\\n# Labels and title\\nplt.xlabel(\\'Year\\')\\nplt.ylabel(\\'Energy Usage (in TWh)\\')\\nplt.title(\\'Annual Energy Consumption\\')\\nplt.legend()\\n\\n# Show plot\\nplt.show()',\n",
       "  'raw_response': 'To reproduce the given plot using matplotlib, we\\'ll create a line chart with two sets of data: one for the USA and another for Germany. We\\'ll set markers on the data points and annotate them with their values. Here\\'s the Python code to achieve this:\\n\\n```python\\nimport matplotlib.pyplot as plt\\n\\n# Data\\nyears = [2015, 2016, 2017, 2018, 2019, 2020, 2021]\\nusa_energy = [500, 490, 480, 470, 460, 450, 440]\\ngermany_energy = [300, 290, 280, 270, 260, 250, 240]\\n\\n# Plot\\nplt.figure(figsize=(15, 8))\\nplt.plot(years, usa_energy, \\'o-\\', label=\\'USA\\', color=\\'tab:blue\\')\\nplt.plot(years, germany_energy, \\'o-\\', label=\\'Germany\\', color=\\'lightgrey\\')\\n\\n# Annotations\\nfor i, txt in enumerate(usa_energy):\\n    plt.annotate(f\\'{txt:.1f}\\', (years[i], usa_energy[i]), textcoords=\"offset points\", xytext=(0,10), ha=\\'center\\')\\n\\nfor i, txt in enumerate(germany_energy):\\n    plt.annotate(f\\'{txt:.1f}\\', (years[i], germany_energy[i]), textcoords=\"offset points\", xytext=(0,10), ha=\\'center\\')\\n\\n# Labels and title\\nplt.xlabel(\\'Year\\')\\nplt.ylabel(\\'Energy Usage (in TWh)\\')\\nplt.title(\\'Annual Energy Consumption\\')\\nplt.legend()\\n\\n# Show plot\\nplt.show()\\n```\\n\\nThis code sets up the plot with markers for each data point, annotates each point with its respective value, and uses the specified `figsize` to match the original image dimensions. Adjust the colors and other stylistic details as needed to match the original plot exactly.',\n",
       "  'stop_reason': 'stop',\n",
       "  'model': 'gpt4o',\n",
       "  'image_path': '/mnt/lingjiejiang/multimodal_code/data/chart_data/ChartBench/data/train/line/line_multi_wi_anno/chart_999/image.png',\n",
       "  'category': 'line',\n",
       "  'image_type': 'line_multi_wi_anno',\n",
       "  'prompt': 'You are an expert Python developer who specializes in writing matplotlib code based on a given picture. I found a very nice picture in a STEM paper, but there is no corresponding source code available. I need your help to generate the Python code that can reproduce the picture based on the picture I provide.\\\\nNote that it is necessary to use figsize=(width, height) to set the image size to match the original size.\\\\nNow, please give me the matplotlib code that reproduces the picture below.'},\n",
       " {'index': 1,\n",
       "  'code_text': \"import matplotlib.pyplot as plt\\n\\n# Sample data to mirror the plot\\nyears_china = [2015, 2016, 2017, 2018, 2019, 2020]\\nunits_china = [800, 700, 600, 500, 400, 300]\\nyears_usa = [2015, 2016, 2017, 2018, 2019, 2020]\\nunits_usa = [300, 400, 500, 600, 700, 800]\\n\\nplt.figure(figsize=(12, 8))\\nplt.plot(years_china, units_china, 'o-', label='China', color='black')\\nplt.plot(years_usa, units_usa, 'o', label='USA', color='white', markeredgecolor='black')\\n\\nplt.title('Global Electric Vehicle Sales')\\nplt.xlabel('Year')\\nplt.ylabel('Thousands of Units Sold (China)')\\nplt.xlim(2015, 2021)\\nplt.ylim(300, 900)\\nplt.legend(loc='best')\\n\\nplt.grid(True, linestyle='-.')\\nplt.show()\",\n",
       "  'raw_response': \"To mirror the given plot using matplotlib, you need to reverse the x-axis and y-axis data points and set the appropriate figure size. Below is an example of how you might write this code block:\\n\\n```python\\nimport matplotlib.pyplot as plt\\n\\n# Sample data to mirror the plot\\nyears_china = [2015, 2016, 2017, 2018, 2019, 2020]\\nunits_china = [800, 700, 600, 500, 400, 300]\\nyears_usa = [2015, 2016, 2017, 2018, 2019, 2020]\\nunits_usa = [300, 400, 500, 600, 700, 800]\\n\\nplt.figure(figsize=(12, 8))\\nplt.plot(years_china, units_china, 'o-', label='China', color='black')\\nplt.plot(years_usa, units_usa, 'o', label='USA', color='white', markeredgecolor='black')\\n\\nplt.title('Global Electric Vehicle Sales')\\nplt.xlabel('Year')\\nplt.ylabel('Thousands of Units Sold (China)')\\nplt.xlim(2015, 2021)\\nplt.ylim(300, 900)\\nplt.legend(loc='best')\\n\\nplt.grid(True, linestyle='-.')\\nplt.show()\\n```\\n\\n### Explanation:\\n- The `years_china` and `units_china` arrays are reversed to mirror the x and y axis, respectively.\\n- The `years_usa` and `units_usa` arrays are also altered to follow the same mirroring pattern.\\n- The `figsize` is set to `(12, 8)` to match the dimensions mentioned in the question.\\n- The plot style is adjusted to reflect the original image, including line style, marker style, and grid lines.\",\n",
       "  'stop_reason': 'stop',\n",
       "  'model': 'gpt4o',\n",
       "  'image_path': '/mnt/lingjiejiang/multimodal_code/data/chart_data/ChartBench/data/train/combination/line_line/chart_1667/image.png',\n",
       "  'category': 'combination',\n",
       "  'image_type': 'line_line',\n",
       "  'prompt': 'Formulate a matplotlib code block that mirrors the image, and set the dimensions using figsize=(width, height).'}]"
      ]
     },
     "execution_count": 22,
     "metadata": {},
     "output_type": "execute_result"
    }
   ],
   "source": [
    "filtered_data[:2]"
   ]
  },
  {
   "cell_type": "code",
   "execution_count": 23,
   "metadata": {},
   "outputs": [],
   "source": [
    "base_dir = \"/mnt/lingjiejiang/multimodal_code/data/chart_data/ChartBench/chart_bench_4o_img/mimic_images\"  \n",
    "split_size = 33000  \n",
    "  \n",
    "for item in filtered_data:  \n",
    "    index = item[\"index\"]  \n",
    "    index_name = f\"{index + 1:06d}\"  \n",
    "    item[\"code_text\"] = item[\"code_text\"].strip()\n",
    "    # 计算当前文件应该放到哪个目录  \n",
    "    split_index = index // split_size + 1  \n",
    "    directory = f\"{base_dir}{split_index}\"  \n",
    "      \n",
    "    # 创建该目录的路径  \n",
    "    item[\"images\"] = f\"{directory}/{index_name}.jpg\"  "
   ]
  },
  {
   "cell_type": "code",
   "execution_count": 25,
   "metadata": {},
   "outputs": [
    {
     "data": {
      "text/plain": [
       "{'index': 33000,\n",
       " 'code_text': \"import matplotlib.pyplot as plt\\nimport numpy as np\\n\\n# Data\\nsubjects = ['Math', 'Science', 'English', 'History', 'Art']\\naverage_scores = [85, 78, 82, 77, 90]\\nerror = [5, 7, 3, 8, 10]\\n\\n# Create the plot\\nplt.figure(figsize=(12, 9))\\nplt.errorbar(subjects, average_scores, yerr=error, fmt='-o')\\n\\n# Add titles and labels\\nplt.title('Average Scores by Subject')\\nplt.xlabel('Subjects')\\nplt.ylabel('Average Score')\\n\\n# Show the plot\\nplt.show()\",\n",
       " 'raw_response': \"Certainly! Below is the Python code using matplotlib that recreates the image you provided. It includes the `figsize` parameter to ensure size precision.\\n\\n```python\\nimport matplotlib.pyplot as plt\\nimport numpy as np\\n\\n# Data\\nsubjects = ['Math', 'Science', 'English', 'History', 'Art']\\naverage_scores = [85, 78, 82, 77, 90]\\nerror = [5, 7, 3, 8, 10]\\n\\n# Create the plot\\nplt.figure(figsize=(12, 9))\\nplt.errorbar(subjects, average_scores, yerr=error, fmt='-o')\\n\\n# Add titles and labels\\nplt.title('Average Scores by Subject')\\nplt.xlabel('Subjects')\\nplt.ylabel('Average Score')\\n\\n# Show the plot\\nplt.show()\\n```\\n\\nThis script uses `errorbar` to plot the average scores with error bars, matching the provided image. Adjustments to the `figsize`, line, and marker styles are made to closely resemble the appearance of the original image.\",\n",
       " 'stop_reason': 'stop',\n",
       " 'model': 'gpt4o',\n",
       " 'image_path': '/mnt/lingjiejiang/multimodal_code/data/chart_data/ChartBench/data/train/line/line_err/chart_256/image.png',\n",
       " 'category': 'line',\n",
       " 'image_type': 'line_err',\n",
       " 'prompt': 'Please examine the attached image and produce the Python code with matplotlib to recreate it. Ensure to apply figsize=(width, height) for size precision.',\n",
       " 'images': '/mnt/lingjiejiang/multimodal_code/data/chart_data/ChartBench/chart_bench_4o_img/mimic_images2/033001.jpg'}"
      ]
     },
     "execution_count": 25,
     "metadata": {},
     "output_type": "execute_result"
    }
   ],
   "source": [
    "filtered_data[33000]"
   ]
  },
  {
   "cell_type": "code",
   "execution_count": 28,
   "metadata": {},
   "outputs": [
    {
     "data": {
      "text/plain": [
       "{'index': 25001,\n",
       " 'code_text': \"import matplotlib.pyplot as plt\\nimport numpy as np\\n\\n# Sample data\\nmonths = ['January', 'February', 'March']\\nsales = [150, 200, 250]\\nmarketing = [100, 150, 200]\\n\\n# Convert string labels to a range of integers\\nx = np.arange(len(months))\\n\\n# Plot settings\\nfig = plt.figure(figsize=(10, 8))\\nax = fig.add_subplot(111, projection='3d')\\n\\n# Bar width\\nwidth = 0.4\\n\\n# Plot sales data\\nax.bar(x, sales, zs=0, zdir='y', width=width, color='darkblue', edgecolor='w', label='Sales')\\n\\n# Plot marketing data on top of sales data\\nax.bar(x, marketing, zs=0, zdir='y', width=width, bottom=sales, color='saddlebrown', edgecolor='w', label='Marketing')\\n\\n# Customize the view angle\\nax.view_init(elev=20, azim=-60)\\n\\n# Set the labels\\nax.set_xlabel('Month')\\nax.set_ylabel('')\\nax.set_zlabel('Tasks Completed')\\nax.set_xticks(x)\\nax.set_xticklabels(months)\\n\\n# Add a title\\nplt.title('Employee Productivity by Department (stack 3D bar plot)')\\n\\n# Add a legend\\nplt.legend()\\n\\n# Show the plot\\nplt.show()\",\n",
       " 'raw_response': \"To recreate the 3D stacked bar plot shown in the image using Python and Matplotlib, you can use the following code:\\n\\n```python\\nimport matplotlib.pyplot as plt\\nimport numpy as np\\n\\n# Sample data\\nmonths = ['January', 'February', 'March']\\nsales = [150, 200, 250]\\nmarketing = [100, 150, 200]\\n\\n# Convert string labels to a range of integers\\nx = np.arange(len(months))\\n\\n# Plot settings\\nfig = plt.figure(figsize=(10, 8))\\nax = fig.add_subplot(111, projection='3d')\\n\\n# Bar width\\nwidth = 0.4\\n\\n# Plot sales data\\nax.bar(x, sales, zs=0, zdir='y', width=width, color='darkblue', edgecolor='w', label='Sales')\\n\\n# Plot marketing data on top of sales data\\nax.bar(x, marketing, zs=0, zdir='y', width=width, bottom=sales, color='saddlebrown', edgecolor='w', label='Marketing')\\n\\n# Customize the view angle\\nax.view_init(elev=20, azim=-60)\\n\\n# Set the labels\\nax.set_xlabel('Month')\\nax.set_ylabel('')\\nax.set_zlabel('Tasks Completed')\\nax.set_xticks(x)\\nax.set_xticklabels(months)\\n\\n# Add a title\\nplt.title('Employee Productivity by Department (stack 3D bar plot)')\\n\\n# Add a legend\\nplt.legend()\\n\\n# Show the plot\\nplt.show()\\n```\\n\\nThis code will generate a 3D stacked bar plot similar to the one you provided in the image. It uses the `bar` method from the `Axes3D` object in Matplotlib to create each set of bars, stacks them using the `bottom` parameter, and sets up the view to match the perspective seen in the image. Adjust the `figsize` and `view_init` parameters if you need to refine the appearance further.\",\n",
       " 'stop_reason': 'stop',\n",
       " 'model': 'gpt4o',\n",
       " 'image_path': '/mnt/lingjiejiang/multimodal_code/data/chart_data/ChartBench/data/train/bar/threeD_stacked/chart_1533/image.png',\n",
       " 'category': 'bar',\n",
       " 'image_type': 'threeD_stacked',\n",
       " 'prompt': 'Use your matplotlib expertise to generate Python code that matches the image, applying figsize=(width, height) for the correct dimensions.',\n",
       " 'images': '/mnt/lingjiejiang/multimodal_code/data/chart_data/ChartBench/chart_bench_4o_img/mimic_images1/025002.jpg'}"
      ]
     },
     "execution_count": 28,
     "metadata": {},
     "output_type": "execute_result"
    }
   ],
   "source": [
    "filtered_data[25001]"
   ]
  },
  {
   "cell_type": "code",
   "execution_count": 26,
   "metadata": {},
   "outputs": [],
   "source": [
    "filtered_data_path = \"/mnt/lingjiejiang/multimodal_code/data/chart_data/ChartBench/charbench_4o_revised_64k.json\"\n",
    "with open(filtered_data_path, 'w') as outfile:\n",
    "    json.dump(filtered_data, outfile, indent=0)"
   ]
  },
  {
   "cell_type": "code",
   "execution_count": 27,
   "metadata": {},
   "outputs": [
    {
     "data": {
      "text/plain": [
       "64035"
      ]
     },
     "execution_count": 27,
     "metadata": {},
     "output_type": "execute_result"
    }
   ],
   "source": [
    "with open(filtered_data_path, 'r') as f:\n",
    "    filtered_data = json.load(f)\n",
    "len(filtered_data)"
   ]
  },
  {
   "cell_type": "markdown",
   "metadata": {},
   "source": [
    "### output code files"
   ]
  },
  {
   "cell_type": "code",
   "execution_count": 17,
   "metadata": {},
   "outputs": [
    {
     "name": "stderr",
     "output_type": "stream",
     "text": [
      "Processing Files: 100%|██████████| 40221/40221 [14:52<00:00, 45.04it/s]  "
     ]
    },
    {
     "name": "stdout",
     "output_type": "stream",
     "text": [
      "处理完成，前 1000000 个文件已保存。\n"
     ]
    },
    {
     "name": "stderr",
     "output_type": "stream",
     "text": [
      "\n"
     ]
    }
   ],
   "source": [
    "import os  \n",
    "import json  \n",
    "from tqdm import tqdm\n",
    "\n",
    "# 设置目录路径  \n",
    "# directory_path = '/mnt/lingjiejiang/multimodal_code/data/chart_data/github_chart'  \n",
    "output_file_path = \"/mnt/lingjiejiang/multimodal_code/data/chart_data/ChartBench/charbench_4o_revised_64k.json\"\n",
    "# save_directory_path = 'ourdata_revise/code'  \n",
    "\n",
    "base_dir = \"/mnt/lingjiejiang/multimodal_code/data/chart_data/ChartBench/chart_bench_4o_img\"\n",
    "# 确保保存目录存在  \n",
    "# os.makedirs(save_directory_path, exist_ok=True)  \n",
    "  \n",
    "# 读取 JSON 数据  \n",
    "with open(output_file_path, 'r') as f:  \n",
    "    chart_data = json.load(f)  \n",
    "  \n",
    "# chart_data = chart_data[:10]\n",
    "# 更新 ID 并保存前 50 个文本到文件  \n",
    "for idx, item in tqdm(enumerate(chart_data), desc=\"Processing Files\", total=len(chart_data)):  \n",
    "    # 更新 ID 为五位数格式  \n",
    "    # index = item['index']\n",
    "    # item['id'] = f\"{index + 1:06d}\"  \n",
    "    \n",
    "    # 只处理前 1000000 个项目  \n",
    "    # if idx < 1000:  \n",
    "    # 获取文本内容  \n",
    "    text_content = item['code_text']  \n",
    "    \n",
    "    # 保存文件路径  \n",
    "    # file_path = os.path.join(save_directory_path, f\"{item['id']}.py\")  \n",
    "    file_path = item[\"images\"].replace(\".jpg\", \".py\")\n",
    "    file_path = os.path.join(\"/mnt/lingjiejiang/multimodal_code/data/chart_data/ChartBench/gpt4o_code\",\n",
    "                                os.path.relpath(item[\"images\"], base_dir)).replace(\".jpg\", \".py\")\n",
    "    directory = os.path.dirname(file_path)\n",
    "    os.makedirs(directory, exist_ok=True)\n",
    "    # 写入文本到文件  \n",
    "    with open(file_path, 'w') as py_file:  \n",
    "        py_file.write(text_content)  \n",
    "  \n",
    "print(\"处理完成，前 1000000 个文件已保存。\")  "
   ]
  },
  {
   "cell_type": "markdown",
   "metadata": {},
   "source": [
    "### check images existence"
   ]
  },
  {
   "cell_type": "code",
   "execution_count": 2,
   "metadata": {},
   "outputs": [
    {
     "data": {
      "text/plain": [
       "{'index': 0,\n",
       " 'code_text': 'import matplotlib.pyplot as plt\\n\\n# Data\\nyears = [2015, 2016, 2017, 2018, 2019, 2020, 2021]\\nusa_energy = [500, 490, 480, 470, 460, 450, 440]\\ngermany_energy = [300, 290, 280, 270, 260, 250, 240]\\n\\n# Plot\\nplt.figure(figsize=(15, 8))\\nplt.plot(years, usa_energy, \\'o-\\', label=\\'USA\\', color=\\'tab:blue\\')\\nplt.plot(years, germany_energy, \\'o-\\', label=\\'Germany\\', color=\\'lightgrey\\')\\n\\n# Annotations\\nfor i, txt in enumerate(usa_energy):\\n    plt.annotate(f\\'{txt:.1f}\\', (years[i], usa_energy[i]), textcoords=\"offset points\", xytext=(0,10), ha=\\'center\\')\\n\\nfor i, txt in enumerate(germany_energy):\\n    plt.annotate(f\\'{txt:.1f}\\', (years[i], germany_energy[i]), textcoords=\"offset points\", xytext=(0,10), ha=\\'center\\')\\n\\n# Labels and title\\nplt.xlabel(\\'Year\\')\\nplt.ylabel(\\'Energy Usage (in TWh)\\')\\nplt.title(\\'Annual Energy Consumption\\')\\nplt.legend()\\n\\n# Show plot\\nplt.show()',\n",
       " 'raw_response': 'To reproduce the given plot using matplotlib, we\\'ll create a line chart with two sets of data: one for the USA and another for Germany. We\\'ll set markers on the data points and annotate them with their values. Here\\'s the Python code to achieve this:\\n\\n```python\\nimport matplotlib.pyplot as plt\\n\\n# Data\\nyears = [2015, 2016, 2017, 2018, 2019, 2020, 2021]\\nusa_energy = [500, 490, 480, 470, 460, 450, 440]\\ngermany_energy = [300, 290, 280, 270, 260, 250, 240]\\n\\n# Plot\\nplt.figure(figsize=(15, 8))\\nplt.plot(years, usa_energy, \\'o-\\', label=\\'USA\\', color=\\'tab:blue\\')\\nplt.plot(years, germany_energy, \\'o-\\', label=\\'Germany\\', color=\\'lightgrey\\')\\n\\n# Annotations\\nfor i, txt in enumerate(usa_energy):\\n    plt.annotate(f\\'{txt:.1f}\\', (years[i], usa_energy[i]), textcoords=\"offset points\", xytext=(0,10), ha=\\'center\\')\\n\\nfor i, txt in enumerate(germany_energy):\\n    plt.annotate(f\\'{txt:.1f}\\', (years[i], germany_energy[i]), textcoords=\"offset points\", xytext=(0,10), ha=\\'center\\')\\n\\n# Labels and title\\nplt.xlabel(\\'Year\\')\\nplt.ylabel(\\'Energy Usage (in TWh)\\')\\nplt.title(\\'Annual Energy Consumption\\')\\nplt.legend()\\n\\n# Show plot\\nplt.show()\\n```\\n\\nThis code sets up the plot with markers for each data point, annotates each point with its respective value, and uses the specified `figsize` to match the original image dimensions. Adjust the colors and other stylistic details as needed to match the original plot exactly.',\n",
       " 'stop_reason': 'stop',\n",
       " 'model': 'gpt4o',\n",
       " 'image_path': '/mnt/lingjiejiang/multimodal_code/data/chart_data/ChartBench/data/train/line/line_multi_wi_anno/chart_999/image.png',\n",
       " 'category': 'line',\n",
       " 'image_type': 'line_multi_wi_anno',\n",
       " 'prompt': 'You are an expert Python developer who specializes in writing matplotlib code based on a given picture. I found a very nice picture in a STEM paper, but there is no corresponding source code available. I need your help to generate the Python code that can reproduce the picture based on the picture I provide.\\\\nNote that it is necessary to use figsize=(width, height) to set the image size to match the original size.\\\\nNow, please give me the matplotlib code that reproduces the picture below.',\n",
       " 'images': '/mnt/lingjiejiang/multimodal_code/data/chart_data/ChartBench/chart_bench_4o_img/mimic_images1/000001.jpg'}"
      ]
     },
     "execution_count": 2,
     "metadata": {},
     "output_type": "execute_result"
    }
   ],
   "source": [
    "import json\n",
    "output_file_path = \"/mnt/lingjiejiang/multimodal_code/data/chart_data/ChartBench/charbench_4o_revised_64k.json\"\n",
    "  \n",
    "# 读取JSON数据  \n",
    "with open(output_file_path, 'r') as f:  \n",
    "    chart_data = json.load(f)  \n",
    "chart_data[0]"
   ]
  },
  {
   "cell_type": "code",
   "execution_count": 3,
   "metadata": {},
   "outputs": [
    {
     "name": "stderr",
     "output_type": "stream",
     "text": [
      "Checking image paths: 100%|██████████| 64035/64035 [05:33<00:00, 192.09it/s] \n"
     ]
    },
    {
     "name": "stdout",
     "output_type": "stream",
     "text": [
      "Filtered 61786 items with existing image paths.\n",
      "Saved to /mnt/lingjiejiang/multimodal_code/data/chart_data/ChartBench/cot_existing_images_61k.json\n"
     ]
    }
   ],
   "source": [
    "import os  \n",
    "import json  \n",
    "from tqdm import tqdm  \n",
    "  \n",
    "# 设置目录路径  \n",
    "# directory_path = '/mnt/lingjiejiang/multimodal_code/data/chart_data/github_chart'  \n",
    "output_file_path = \"/mnt/lingjiejiang/multimodal_code/data/chart_data/ChartBench/charbench_4o_revised_64k.json\"\n",
    "  \n",
    "# 读取JSON数据  \n",
    "with open(output_file_path, 'r') as f:  \n",
    "    chart_data = json.load(f)  \n",
    "  \n",
    "# 初始化一个新的列表来存储存在的项  \n",
    "existing_items = []  \n",
    "  \n",
    "# 遍历所有项目，检查images路径是否存在  \n",
    "for item in tqdm(chart_data, desc=\"Checking image paths\"):  \n",
    "    image_path = item.get('images', None)  \n",
    "    if image_path and os.path.exists(image_path):  \n",
    "        existing_items.append(item)  \n",
    "  \n",
    "# 将存在的项写入到一个新的JSON文件  \n",
    "filtered_output_path = f\"/mnt/lingjiejiang/multimodal_code/data/chart_data/ChartBench/cot_existing_images_{len(existing_items) // 1000}k.json\"  \n",
    "with open(filtered_output_path, 'w') as f:  \n",
    "    json.dump(existing_items, f, indent=0)  \n",
    "  \n",
    "print(f\"Filtered {len(existing_items)} items with existing image paths.\")  \n",
    "print(f\"Saved to {filtered_output_path}\")"
   ]
  },
  {
   "cell_type": "code",
   "execution_count": 4,
   "metadata": {},
   "outputs": [
    {
     "data": {
      "text/plain": [
       "61786"
      ]
     },
     "execution_count": 4,
     "metadata": {},
     "output_type": "execute_result"
    }
   ],
   "source": [
    "import json  \n",
    "import re  \n",
    "  \n",
    "# 定义要检查的随机函数、wordcloud 调用、misc 导入语句和 seaborn 导入语句的正则表达式  \n",
    "random_patterns = re.compile(r'\\brandn\\b|\\brandom\\b|\\brand\\b')  \n",
    "wordcloud_patterns = re.compile(r'\\bwordcloud\\b', re.IGNORECASE)  \n",
    "misc_patterns = re.compile(r'\\bimport\\s+.*misc\\b|\\bfrom\\s+.*misc\\s+import\\b', re.IGNORECASE)  \n",
    "seaborn_patterns = re.compile(r'\\bimport\\s+seaborn\\b|\\bfrom\\s+seaborn\\s+import\\b', re.IGNORECASE)  \n",
    "  \n",
    "# 定义要检查的 matplotlib 导入语句的正则表达式  \n",
    "matplotlib_patterns = re.compile(r'\\bimport\\s+matplotlib\\b|\\bfrom\\s+matplotlib\\s+import\\b', re.IGNORECASE)  \n",
    "  \n",
    "# 过滤掉不包含 matplotlib 导入的项，并且包含随机函数调用、wordcloud 调用、misc 导入和 seaborn 导入的项  \n",
    "filtered_data = [  \n",
    "    item for item in existing_items  \n",
    "    if matplotlib_patterns.search(item.get('raw_response', ''))  \n",
    "    and not random_patterns.search(item.get('raw_response', ''))  \n",
    "    and not wordcloud_patterns.search(item.get('raw_response', ''))  \n",
    "    and not misc_patterns.search(item.get('raw_response', ''))  \n",
    "    and not seaborn_patterns.search(item.get('raw_response', ''))  \n",
    "]  \n",
    "len(filtered_data)"
   ]
  },
  {
   "cell_type": "code",
   "execution_count": 5,
   "metadata": {},
   "outputs": [
    {
     "name": "stdout",
     "output_type": "stream",
     "text": [
      "Saved to /mnt/lingjiejiang/multimodal_code/data/chart_data/ChartBench/cot_existing_images_61k.json\n"
     ]
    }
   ],
   "source": [
    "print(f\"Saved to {filtered_output_path}\")"
   ]
  },
  {
   "cell_type": "markdown",
   "metadata": {},
   "source": [
    "### filter image size"
   ]
  },
  {
   "cell_type": "code",
   "execution_count": 6,
   "metadata": {},
   "outputs": [
    {
     "name": "stderr",
     "output_type": "stream",
     "text": [
      "  1%|▏         | 913/61786 [00:14<16:31, 61.41it/s]  \n"
     ]
    },
    {
     "ename": "KeyboardInterrupt",
     "evalue": "",
     "output_type": "error",
     "traceback": [
      "\u001b[0;31m---------------------------------------------------------------------------\u001b[0m",
      "\u001b[0;31mKeyboardInterrupt\u001b[0m                         Traceback (most recent call last)",
      "Cell \u001b[0;32mIn[6], line 23\u001b[0m\n\u001b[1;32m     21\u001b[0m \u001b[38;5;28;01mif\u001b[39;00m image_path:  \n\u001b[1;32m     22\u001b[0m     \u001b[38;5;28;01mtry\u001b[39;00m:  \n\u001b[0;32m---> 23\u001b[0m         \u001b[38;5;28;01mwith\u001b[39;00m \u001b[43mImage\u001b[49m\u001b[38;5;241;43m.\u001b[39;49m\u001b[43mopen\u001b[49m\u001b[43m(\u001b[49m\u001b[43mimage_path\u001b[49m\u001b[43m)\u001b[49m \u001b[38;5;28;01mas\u001b[39;00m img:  \n\u001b[1;32m     24\u001b[0m             \u001b[38;5;66;03m# 检查图片尺寸  \u001b[39;00m\n\u001b[1;32m     25\u001b[0m             \u001b[38;5;28;01mif\u001b[39;00m img\u001b[38;5;241m.\u001b[39mwidth \u001b[38;5;241m>\u001b[39m MAX_WIDTH \u001b[38;5;129;01mor\u001b[39;00m img\u001b[38;5;241m.\u001b[39mheight \u001b[38;5;241m>\u001b[39m MAX_HEIGHT \u001b[38;5;129;01mor\u001b[39;00m (img\u001b[38;5;241m.\u001b[39mwidth \u001b[38;5;241m*\u001b[39m img\u001b[38;5;241m.\u001b[39mheight) \u001b[38;5;241m>\u001b[39m MAX_PIXELS:  \n\u001b[1;32m     26\u001b[0m                 keep_item \u001b[38;5;241m=\u001b[39m \u001b[38;5;28;01mFalse\u001b[39;00m  \n",
      "File \u001b[0;32m~/miniconda3/envs/chartmimic/lib/python3.9/site-packages/PIL/Image.py:3431\u001b[0m, in \u001b[0;36mopen\u001b[0;34m(fp, mode, formats)\u001b[0m\n\u001b[1;32m   3428\u001b[0m     filename \u001b[38;5;241m=\u001b[39m os\u001b[38;5;241m.\u001b[39mpath\u001b[38;5;241m.\u001b[39mrealpath(os\u001b[38;5;241m.\u001b[39mfspath(fp))\n\u001b[1;32m   3430\u001b[0m \u001b[38;5;28;01mif\u001b[39;00m filename:\n\u001b[0;32m-> 3431\u001b[0m     fp \u001b[38;5;241m=\u001b[39m \u001b[43mbuiltins\u001b[49m\u001b[38;5;241;43m.\u001b[39;49m\u001b[43mopen\u001b[49m\u001b[43m(\u001b[49m\u001b[43mfilename\u001b[49m\u001b[43m,\u001b[49m\u001b[43m \u001b[49m\u001b[38;5;124;43m\"\u001b[39;49m\u001b[38;5;124;43mrb\u001b[39;49m\u001b[38;5;124;43m\"\u001b[39;49m\u001b[43m)\u001b[49m\n\u001b[1;32m   3432\u001b[0m     exclusive_fp \u001b[38;5;241m=\u001b[39m \u001b[38;5;28;01mTrue\u001b[39;00m\n\u001b[1;32m   3433\u001b[0m \u001b[38;5;28;01melse\u001b[39;00m:\n",
      "\u001b[0;31mKeyboardInterrupt\u001b[0m: "
     ]
    }
   ],
   "source": [
    "import json  \n",
    "from PIL import Image  \n",
    "from tqdm import tqdm  \n",
    "  \n",
    "# 设置合理的最大像素数和最大宽高  \n",
    "MAX_PIXELS = 4259840  # 例如：2560 * 1440  \n",
    "MAX_WIDTH = 2500  \n",
    "MAX_HEIGHT = 2000 \n",
    "\n",
    "  \n",
    "# 读取JSON文件  \n",
    "save_path = \"/mnt/lingjiejiang/multimodal_code/data/chart_data/ChartBench/cot_existing_images_61k.json\"  \n",
    "with open(save_path, 'r') as f:  \n",
    "    data = json.load(f)  \n",
    "  \n",
    "# 遍历每个数据项  \n",
    "filtered_data = []  \n",
    "for item in tqdm(data):  \n",
    "    keep_item = True  \n",
    "    image_path = item.get('images')  \n",
    "    if image_path:  \n",
    "        try:  \n",
    "            with Image.open(image_path) as img:  \n",
    "                # 检查图片尺寸  \n",
    "                if img.width > MAX_WIDTH or img.height > MAX_HEIGHT or (img.width * img.height) > MAX_PIXELS:  \n",
    "                    keep_item = False  \n",
    "                    # print(f\"Image {image_path} exceeds size limits and will be removed.\")  \n",
    "        except Exception as e:  \n",
    "            print(f\"Could not process image {image_path}: {e}\")  \n",
    "            keep_item = False  \n",
    "    if keep_item:  \n",
    "        filtered_data.append(item)  \n",
    "  \n",
    "# 输出过滤后的数据长度  \n",
    "print(f\"Number of items after filtering: {len(filtered_data)}\")  \n",
    "  \n",
    "# 将过滤后的数据保存回JSON文件  \n",
    "filtered_save_path = f\"/mnt/lingjiejiang/multimodal_code/data/chart_data/ChartBench/cot_data_{len(filtered_data) // 1000}k_big_img_filtered.json\"  \n",
    "with open(filtered_save_path, \"w\") as f:  \n",
    "    json.dump(filtered_data, f, indent=0)  \n",
    "print(f\"Filtered data saved to {filtered_save_path}\")"
   ]
  },
  {
   "cell_type": "markdown",
   "metadata": {},
   "source": [
    "### fill figsize"
   ]
  },
  {
   "cell_type": "code",
   "execution_count": 7,
   "metadata": {},
   "outputs": [
    {
     "data": {
      "text/plain": [
       "{'index': 1,\n",
       " 'code_text': \"import matplotlib.pyplot as plt\\n\\n# Sample data to mirror the plot\\nyears_china = [2015, 2016, 2017, 2018, 2019, 2020]\\nunits_china = [800, 700, 600, 500, 400, 300]\\nyears_usa = [2015, 2016, 2017, 2018, 2019, 2020]\\nunits_usa = [300, 400, 500, 600, 700, 800]\\n\\nplt.figure(figsize=(12, 8))\\nplt.plot(years_china, units_china, 'o-', label='China', color='black')\\nplt.plot(years_usa, units_usa, 'o', label='USA', color='white', markeredgecolor='black')\\n\\nplt.title('Global Electric Vehicle Sales')\\nplt.xlabel('Year')\\nplt.ylabel('Thousands of Units Sold (China)')\\nplt.xlim(2015, 2021)\\nplt.ylim(300, 900)\\nplt.legend(loc='best')\\n\\nplt.grid(True, linestyle='-.')\\nplt.show()\",\n",
       " 'raw_response': \"To mirror the given plot using matplotlib, you need to reverse the x-axis and y-axis data points and set the appropriate figure size. Below is an example of how you might write this code block:\\n\\n```python\\nimport matplotlib.pyplot as plt\\n\\n# Sample data to mirror the plot\\nyears_china = [2015, 2016, 2017, 2018, 2019, 2020]\\nunits_china = [800, 700, 600, 500, 400, 300]\\nyears_usa = [2015, 2016, 2017, 2018, 2019, 2020]\\nunits_usa = [300, 400, 500, 600, 700, 800]\\n\\nplt.figure(figsize=(12, 8))\\nplt.plot(years_china, units_china, 'o-', label='China', color='black')\\nplt.plot(years_usa, units_usa, 'o', label='USA', color='white', markeredgecolor='black')\\n\\nplt.title('Global Electric Vehicle Sales')\\nplt.xlabel('Year')\\nplt.ylabel('Thousands of Units Sold (China)')\\nplt.xlim(2015, 2021)\\nplt.ylim(300, 900)\\nplt.legend(loc='best')\\n\\nplt.grid(True, linestyle='-.')\\nplt.show()\\n```\\n\\n### Explanation:\\n- The `years_china` and `units_china` arrays are reversed to mirror the x and y axis, respectively.\\n- The `years_usa` and `units_usa` arrays are also altered to follow the same mirroring pattern.\\n- The `figsize` is set to `(12, 8)` to match the dimensions mentioned in the question.\\n- The plot style is adjusted to reflect the original image, including line style, marker style, and grid lines.\",\n",
       " 'stop_reason': 'stop',\n",
       " 'model': 'gpt4o',\n",
       " 'image_path': '/mnt/lingjiejiang/multimodal_code/data/chart_data/ChartBench/data/train/combination/line_line/chart_1667/image.png',\n",
       " 'category': 'combination',\n",
       " 'image_type': 'line_line',\n",
       " 'prompt': 'Formulate a matplotlib code block that mirrors the image, and set the dimensions using figsize=(width, height).',\n",
       " 'images': '/mnt/lingjiejiang/multimodal_code/data/chart_data/ChartBench/chart_bench_4o_img/mimic_images1/000002.jpg'}"
      ]
     },
     "execution_count": 7,
     "metadata": {},
     "output_type": "execute_result"
    }
   ],
   "source": [
    "filtered_path = \"/mnt/lingjiejiang/multimodal_code/data/chart_data/ChartBench/cot_data_47k_big_img_filtered.json\"  \n",
    "  \n",
    "# Load the JSON data  \n",
    "with open(filtered_path, 'r') as f:  \n",
    "    filtered_data = json.load(f)  \n",
    "filtered_data[0]"
   ]
  },
  {
   "cell_type": "code",
   "execution_count": 23,
   "metadata": {},
   "outputs": [],
   "source": [
    "import json  \n",
    "import re  \n",
    "  \n",
    "# Define the path to the JSON file  \n",
    "filtered_path = \"/mnt/lingjiejiang/multimodal_code/data/chart_data/ChartBench/cot_data_47k_big_img_filtered.json\"  \n",
    "  \n",
    "# Load the JSON data  \n",
    "with open(filtered_path, 'r') as f:  \n",
    "    filtered_data = json.load(f)  \n",
    "  \n",
    "# Function to extract figsize values  \n",
    "def extract_figsize(evol_text):  \n",
    "    # Updated regex to match floating-point numbers  \n",
    "    match = re.search(r'figsize=\\((\\d+(\\.\\d+)?),\\s*(\\d+(\\.\\d+)?)\\)', evol_text)  \n",
    "    if match:  \n",
    "        width, height = match.groups()[::2]  # Extract only the numbers, skipping the decimal parts  \n",
    "        return [float(width), float(height)]  \n",
    "    return None  \n",
    "  \n",
    "# List to collect items without figsize  \n",
    "items_without_figsize = []\n",
    "items_with_figsize = []  \n",
    "  \n",
    "# Process each item  \n",
    "for item in filtered_data:  \n",
    "    evol_text = item.get('code_text', '')  \n",
    "      \n",
    "    figsize_values = extract_figsize(evol_text)  \n",
    "    if figsize_values:  \n",
    "        item['chart_size'] = figsize_values  \n",
    "        items_with_figsize.append(item)\n",
    "    else:  \n",
    "        items_without_figsize.append(item)  \n",
    "  "
   ]
  },
  {
   "cell_type": "code",
   "execution_count": 9,
   "metadata": {},
   "outputs": [
    {
     "data": {
      "text/plain": [
       "(46977, 188)"
      ]
     },
     "execution_count": 9,
     "metadata": {},
     "output_type": "execute_result"
    }
   ],
   "source": [
    "len(items_with_figsize), len(items_without_figsize)"
   ]
  },
  {
   "cell_type": "markdown",
   "metadata": {},
   "source": [
    "### formatted the traning data"
   ]
  },
  {
   "cell_type": "code",
   "execution_count": 24,
   "metadata": {},
   "outputs": [
    {
     "data": {
      "text/plain": [
       "[{'index': 1,\n",
       "  'code_text': \"import matplotlib.pyplot as plt\\n\\n# Sample data to mirror the plot\\nyears_china = [2015, 2016, 2017, 2018, 2019, 2020]\\nunits_china = [800, 700, 600, 500, 400, 300]\\nyears_usa = [2015, 2016, 2017, 2018, 2019, 2020]\\nunits_usa = [300, 400, 500, 600, 700, 800]\\n\\nplt.figure(figsize=(12, 8))\\nplt.plot(years_china, units_china, 'o-', label='China', color='black')\\nplt.plot(years_usa, units_usa, 'o', label='USA', color='white', markeredgecolor='black')\\n\\nplt.title('Global Electric Vehicle Sales')\\nplt.xlabel('Year')\\nplt.ylabel('Thousands of Units Sold (China)')\\nplt.xlim(2015, 2021)\\nplt.ylim(300, 900)\\nplt.legend(loc='best')\\n\\nplt.grid(True, linestyle='-.')\\nplt.show()\",\n",
       "  'raw_response': \"To mirror the given plot using matplotlib, you need to reverse the x-axis and y-axis data points and set the appropriate figure size. Below is an example of how you might write this code block:\\n\\n```python\\nimport matplotlib.pyplot as plt\\n\\n# Sample data to mirror the plot\\nyears_china = [2015, 2016, 2017, 2018, 2019, 2020]\\nunits_china = [800, 700, 600, 500, 400, 300]\\nyears_usa = [2015, 2016, 2017, 2018, 2019, 2020]\\nunits_usa = [300, 400, 500, 600, 700, 800]\\n\\nplt.figure(figsize=(12, 8))\\nplt.plot(years_china, units_china, 'o-', label='China', color='black')\\nplt.plot(years_usa, units_usa, 'o', label='USA', color='white', markeredgecolor='black')\\n\\nplt.title('Global Electric Vehicle Sales')\\nplt.xlabel('Year')\\nplt.ylabel('Thousands of Units Sold (China)')\\nplt.xlim(2015, 2021)\\nplt.ylim(300, 900)\\nplt.legend(loc='best')\\n\\nplt.grid(True, linestyle='-.')\\nplt.show()\\n```\\n\\n### Explanation:\\n- The `years_china` and `units_china` arrays are reversed to mirror the x and y axis, respectively.\\n- The `years_usa` and `units_usa` arrays are also altered to follow the same mirroring pattern.\\n- The `figsize` is set to `(12, 8)` to match the dimensions mentioned in the question.\\n- The plot style is adjusted to reflect the original image, including line style, marker style, and grid lines.\",\n",
       "  'stop_reason': 'stop',\n",
       "  'model': 'gpt4o',\n",
       "  'image_path': '/mnt/lingjiejiang/multimodal_code/data/chart_data/ChartBench/data/train/combination/line_line/chart_1667/image.png',\n",
       "  'category': 'combination',\n",
       "  'image_type': 'line_line',\n",
       "  'prompt': 'Formulate a matplotlib code block that mirrors the image, and set the dimensions using figsize=(width, height).',\n",
       "  'images': '/mnt/lingjiejiang/multimodal_code/data/chart_data/ChartBench/chart_bench_4o_img/mimic_images1/000002.jpg',\n",
       "  'chart_size': [12.0, 8.0]},\n",
       " {'index': 2,\n",
       "  'code_text': \"import matplotlib.pyplot as plt\\n\\n# Data to plot\\nlabels = ['Car', 'Public Transport', 'Walking', 'Bicycle', 'Motorcycle', 'Others']\\nsizes = [40, 25, 20, 7, 5, 3]\\ncolors = ['#1f77b4', '#aec7e8', '#c7ddef', '#337ab7', '#73b9d3', '#e2edf7']\\n\\n# Plot\\nfig, ax = plt.subplots(figsize=(10, 10))\\nwedges, texts, autotexts = ax.pie(\\n    sizes, \\n    labels=labels, \\n    colors=colors, \\n    autopct='%1.1f%%', \\n    startangle=140, \\n    pctdistance=0.85\\n)\\n\\n# Draw a circle at the center to make it a donut\\ncentre_circle = plt.Circle((0, 0), 0.70, fc='white')\\nfig.gca().add_artist(centre_circle)\\n\\n# Equal aspect ratio ensures that pie is drawn as a circle.\\nax.axis('equal')  \\n\\nplt.title('Primary modes of Transportation to Work')\\n\\n# Remove percentage labels\\nfor autotext in autotexts:\\n    autotext.set_text('')\\n\\nplt.show()\",\n",
       "  'raw_response': \"To reproduce the chart shown in the image, you can use the following Matplotlib code. This code creates a donut chart with the specified figsize:\\n\\n```python\\nimport matplotlib.pyplot as plt\\n\\n# Data to plot\\nlabels = ['Car', 'Public Transport', 'Walking', 'Bicycle', 'Motorcycle', 'Others']\\nsizes = [40, 25, 20, 7, 5, 3]\\ncolors = ['#1f77b4', '#aec7e8', '#c7ddef', '#337ab7', '#73b9d3', '#e2edf7']\\n\\n# Plot\\nfig, ax = plt.subplots(figsize=(10, 10))\\nwedges, texts, autotexts = ax.pie(\\n    sizes, \\n    labels=labels, \\n    colors=colors, \\n    autopct='%1.1f%%', \\n    startangle=140, \\n    pctdistance=0.85\\n)\\n\\n# Draw a circle at the center to make it a donut\\ncentre_circle = plt.Circle((0, 0), 0.70, fc='white')\\nfig.gca().add_artist(centre_circle)\\n\\n# Equal aspect ratio ensures that pie is drawn as a circle.\\nax.axis('equal')  \\n\\nplt.title('Primary modes of Transportation to Work')\\n\\n# Remove percentage labels\\nfor autotext in autotexts:\\n    autotext.set_text('')\\n\\nplt.show()\\n```\\n\\nThis code sets up the data, creates the pie chart with a hole in the center to form a donut chart, and removes the percentage labels for clarity, as shown in the image. Adjust the `sizes` list according to your data if needed.\",\n",
       "  'stop_reason': 'stop',\n",
       "  'model': 'gpt4o',\n",
       "  'image_path': '/mnt/lingjiejiang/multimodal_code/data/chart_data/ChartBench/data/train/pie/ring/chart_264/image.png',\n",
       "  'category': 'pie',\n",
       "  'image_type': 'ring',\n",
       "  'prompt': 'Generate the necessary matplotlib code to reproduce the chart shown in the image. Make sure the figsize parameter is set to (width, height).',\n",
       "  'images': '/mnt/lingjiejiang/multimodal_code/data/chart_data/ChartBench/chart_bench_4o_img/mimic_images1/000003.jpg',\n",
       "  'chart_size': [10.0, 10.0]}]"
      ]
     },
     "execution_count": 24,
     "metadata": {},
     "output_type": "execute_result"
    }
   ],
   "source": [
    "items_with_figsize[:2]"
   ]
  },
  {
   "cell_type": "code",
   "execution_count": 25,
   "metadata": {},
   "outputs": [],
   "source": [
    "import json  \n",
    "import random  \n",
    "  \n",
    "# # 路径到你的JSON数据文件  \n",
    "# data_path = \"/mnt/lingjiejiang/multimodal_code/data/chart_data/revised_data_52k_big_img_filtered.json\"   \n",
    "output_path = \"/mnt/lingjiejiang/multimodal_code/data/chart_data/ChartBench/chartbench_images_46k_code.json\"    \n",
    "\n",
    "for idx, item in enumerate(items_with_figsize):\n",
    "    if \"formatted_text\" in item:\n",
    "        item.pop(\"formatted_text\")\n",
    "    reviesd_text = item.get(\"code_text\", \"\").strip()\n",
    "    formatted_text = f\"```python\\n{reviesd_text}\\n```\"\n",
    "    item[\"formatted_text\"] = formatted_text\n",
    "    item[\"index\"] = idx \n",
    "\n",
    "data = items_with_figsize\n",
    "# 读取提示  \n",
    "# with open(\"prompt_generate/prompts.txt\") as f:  \n",
    "#     prompts = f.readlines()  \n",
    "  \n",
    "# 对每个数据项进行处理  \n",
    "for item in data:  \n",
    "    # 随机选择一个提示  \n",
    "    # selected_prompt = random.choice(prompts)  \n",
    "    selected_prompt = item[\"prompt\"]\n",
    "    # 获取当前数据项的chart_size  \n",
    "    chart_size = item.get('chart_size', [6.0, 12.0])  \n",
    "      \n",
    "    # 检查每个尺寸是否为整数  \n",
    "    width = int(chart_size[0]) if chart_size[0].is_integer() else chart_size[0]  \n",
    "    height = int(chart_size[1]) if chart_size[1].is_integer() else chart_size[1]  \n",
    "      \n",
    "    # 替换提示中的{width}和{height}  \n",
    "    new_prompt = selected_prompt.replace('width', str(width)).replace('height', str(height))  \n",
    "      \n",
    "    # 将新提示存入数据项的'prompt'键中  \n",
    "    item['prompt'] = new_prompt.strip()  \n",
    "\n",
    "    # 添加 messages 键  \n",
    "    item['messages'] = [  \n",
    "        {  \n",
    "            'content': '<image>\\n' + new_prompt,  \n",
    "            'role': 'user'  \n",
    "        },  \n",
    "        {  \n",
    "            'content': item.get('formatted_text', ''),  \n",
    "            'role': 'assistant'  \n",
    "        }  \n",
    "    ]    \n",
    "\n",
    "    item[\"images\"] = [item[\"images\"]]\n",
    "    # item.pop(\"gpt_answer\")\n",
    "    # item.pop(\"lang\")\n",
    "# 如果需要，可以将修改后的数据保存回文件  \n",
    "with open(output_path, 'w') as f:  \n",
    "    json.dump(data, f, indent=0)  \n",
    "  \n",
    "# 打印第一个数据项以验证输出  \n",
    "# print(data[0])  "
   ]
  },
  {
   "cell_type": "code",
   "execution_count": 26,
   "metadata": {},
   "outputs": [
    {
     "data": {
      "text/plain": [
       "[{'index': 0,\n",
       "  'code_text': \"import matplotlib.pyplot as plt\\n\\n# Sample data to mirror the plot\\nyears_china = [2015, 2016, 2017, 2018, 2019, 2020]\\nunits_china = [800, 700, 600, 500, 400, 300]\\nyears_usa = [2015, 2016, 2017, 2018, 2019, 2020]\\nunits_usa = [300, 400, 500, 600, 700, 800]\\n\\nplt.figure(figsize=(12, 8))\\nplt.plot(years_china, units_china, 'o-', label='China', color='black')\\nplt.plot(years_usa, units_usa, 'o', label='USA', color='white', markeredgecolor='black')\\n\\nplt.title('Global Electric Vehicle Sales')\\nplt.xlabel('Year')\\nplt.ylabel('Thousands of Units Sold (China)')\\nplt.xlim(2015, 2021)\\nplt.ylim(300, 900)\\nplt.legend(loc='best')\\n\\nplt.grid(True, linestyle='-.')\\nplt.show()\",\n",
       "  'raw_response': \"To mirror the given plot using matplotlib, you need to reverse the x-axis and y-axis data points and set the appropriate figure size. Below is an example of how you might write this code block:\\n\\n```python\\nimport matplotlib.pyplot as plt\\n\\n# Sample data to mirror the plot\\nyears_china = [2015, 2016, 2017, 2018, 2019, 2020]\\nunits_china = [800, 700, 600, 500, 400, 300]\\nyears_usa = [2015, 2016, 2017, 2018, 2019, 2020]\\nunits_usa = [300, 400, 500, 600, 700, 800]\\n\\nplt.figure(figsize=(12, 8))\\nplt.plot(years_china, units_china, 'o-', label='China', color='black')\\nplt.plot(years_usa, units_usa, 'o', label='USA', color='white', markeredgecolor='black')\\n\\nplt.title('Global Electric Vehicle Sales')\\nplt.xlabel('Year')\\nplt.ylabel('Thousands of Units Sold (China)')\\nplt.xlim(2015, 2021)\\nplt.ylim(300, 900)\\nplt.legend(loc='best')\\n\\nplt.grid(True, linestyle='-.')\\nplt.show()\\n```\\n\\n### Explanation:\\n- The `years_china` and `units_china` arrays are reversed to mirror the x and y axis, respectively.\\n- The `years_usa` and `units_usa` arrays are also altered to follow the same mirroring pattern.\\n- The `figsize` is set to `(12, 8)` to match the dimensions mentioned in the question.\\n- The plot style is adjusted to reflect the original image, including line style, marker style, and grid lines.\",\n",
       "  'stop_reason': 'stop',\n",
       "  'model': 'gpt4o',\n",
       "  'image_path': '/mnt/lingjiejiang/multimodal_code/data/chart_data/ChartBench/data/train/combination/line_line/chart_1667/image.png',\n",
       "  'category': 'combination',\n",
       "  'image_type': 'line_line',\n",
       "  'prompt': 'Formulate a matplotlib code block that mirrors the image, and set the dimensions using figsize=(12, 8).',\n",
       "  'images': ['/mnt/lingjiejiang/multimodal_code/data/chart_data/ChartBench/chart_bench_4o_img/mimic_images1/000002.jpg'],\n",
       "  'chart_size': [12.0, 8.0],\n",
       "  'formatted_text': \"```python\\nimport matplotlib.pyplot as plt\\n\\n# Sample data to mirror the plot\\nyears_china = [2015, 2016, 2017, 2018, 2019, 2020]\\nunits_china = [800, 700, 600, 500, 400, 300]\\nyears_usa = [2015, 2016, 2017, 2018, 2019, 2020]\\nunits_usa = [300, 400, 500, 600, 700, 800]\\n\\nplt.figure(figsize=(12, 8))\\nplt.plot(years_china, units_china, 'o-', label='China', color='black')\\nplt.plot(years_usa, units_usa, 'o', label='USA', color='white', markeredgecolor='black')\\n\\nplt.title('Global Electric Vehicle Sales')\\nplt.xlabel('Year')\\nplt.ylabel('Thousands of Units Sold (China)')\\nplt.xlim(2015, 2021)\\nplt.ylim(300, 900)\\nplt.legend(loc='best')\\n\\nplt.grid(True, linestyle='-.')\\nplt.show()\\n```\",\n",
       "  'messages': [{'content': '<image>\\nFormulate a matplotlib code block that mirrors the image, and set the dimensions using figsize=(12, 8).',\n",
       "    'role': 'user'},\n",
       "   {'content': \"```python\\nimport matplotlib.pyplot as plt\\n\\n# Sample data to mirror the plot\\nyears_china = [2015, 2016, 2017, 2018, 2019, 2020]\\nunits_china = [800, 700, 600, 500, 400, 300]\\nyears_usa = [2015, 2016, 2017, 2018, 2019, 2020]\\nunits_usa = [300, 400, 500, 600, 700, 800]\\n\\nplt.figure(figsize=(12, 8))\\nplt.plot(years_china, units_china, 'o-', label='China', color='black')\\nplt.plot(years_usa, units_usa, 'o', label='USA', color='white', markeredgecolor='black')\\n\\nplt.title('Global Electric Vehicle Sales')\\nplt.xlabel('Year')\\nplt.ylabel('Thousands of Units Sold (China)')\\nplt.xlim(2015, 2021)\\nplt.ylim(300, 900)\\nplt.legend(loc='best')\\n\\nplt.grid(True, linestyle='-.')\\nplt.show()\\n```\",\n",
       "    'role': 'assistant'}]},\n",
       " {'index': 1,\n",
       "  'code_text': \"import matplotlib.pyplot as plt\\n\\n# Data to plot\\nlabels = ['Car', 'Public Transport', 'Walking', 'Bicycle', 'Motorcycle', 'Others']\\nsizes = [40, 25, 20, 7, 5, 3]\\ncolors = ['#1f77b4', '#aec7e8', '#c7ddef', '#337ab7', '#73b9d3', '#e2edf7']\\n\\n# Plot\\nfig, ax = plt.subplots(figsize=(10, 10))\\nwedges, texts, autotexts = ax.pie(\\n    sizes, \\n    labels=labels, \\n    colors=colors, \\n    autopct='%1.1f%%', \\n    startangle=140, \\n    pctdistance=0.85\\n)\\n\\n# Draw a circle at the center to make it a donut\\ncentre_circle = plt.Circle((0, 0), 0.70, fc='white')\\nfig.gca().add_artist(centre_circle)\\n\\n# Equal aspect ratio ensures that pie is drawn as a circle.\\nax.axis('equal')  \\n\\nplt.title('Primary modes of Transportation to Work')\\n\\n# Remove percentage labels\\nfor autotext in autotexts:\\n    autotext.set_text('')\\n\\nplt.show()\",\n",
       "  'raw_response': \"To reproduce the chart shown in the image, you can use the following Matplotlib code. This code creates a donut chart with the specified figsize:\\n\\n```python\\nimport matplotlib.pyplot as plt\\n\\n# Data to plot\\nlabels = ['Car', 'Public Transport', 'Walking', 'Bicycle', 'Motorcycle', 'Others']\\nsizes = [40, 25, 20, 7, 5, 3]\\ncolors = ['#1f77b4', '#aec7e8', '#c7ddef', '#337ab7', '#73b9d3', '#e2edf7']\\n\\n# Plot\\nfig, ax = plt.subplots(figsize=(10, 10))\\nwedges, texts, autotexts = ax.pie(\\n    sizes, \\n    labels=labels, \\n    colors=colors, \\n    autopct='%1.1f%%', \\n    startangle=140, \\n    pctdistance=0.85\\n)\\n\\n# Draw a circle at the center to make it a donut\\ncentre_circle = plt.Circle((0, 0), 0.70, fc='white')\\nfig.gca().add_artist(centre_circle)\\n\\n# Equal aspect ratio ensures that pie is drawn as a circle.\\nax.axis('equal')  \\n\\nplt.title('Primary modes of Transportation to Work')\\n\\n# Remove percentage labels\\nfor autotext in autotexts:\\n    autotext.set_text('')\\n\\nplt.show()\\n```\\n\\nThis code sets up the data, creates the pie chart with a hole in the center to form a donut chart, and removes the percentage labels for clarity, as shown in the image. Adjust the `sizes` list according to your data if needed.\",\n",
       "  'stop_reason': 'stop',\n",
       "  'model': 'gpt4o',\n",
       "  'image_path': '/mnt/lingjiejiang/multimodal_code/data/chart_data/ChartBench/data/train/pie/ring/chart_264/image.png',\n",
       "  'category': 'pie',\n",
       "  'image_type': 'ring',\n",
       "  'prompt': 'Generate the necessary matplotlib code to reproduce the chart shown in the image. Make sure the figsize parameter is set to (10, 10).',\n",
       "  'images': ['/mnt/lingjiejiang/multimodal_code/data/chart_data/ChartBench/chart_bench_4o_img/mimic_images1/000003.jpg'],\n",
       "  'chart_size': [10.0, 10.0],\n",
       "  'formatted_text': \"```python\\nimport matplotlib.pyplot as plt\\n\\n# Data to plot\\nlabels = ['Car', 'Public Transport', 'Walking', 'Bicycle', 'Motorcycle', 'Others']\\nsizes = [40, 25, 20, 7, 5, 3]\\ncolors = ['#1f77b4', '#aec7e8', '#c7ddef', '#337ab7', '#73b9d3', '#e2edf7']\\n\\n# Plot\\nfig, ax = plt.subplots(figsize=(10, 10))\\nwedges, texts, autotexts = ax.pie(\\n    sizes, \\n    labels=labels, \\n    colors=colors, \\n    autopct='%1.1f%%', \\n    startangle=140, \\n    pctdistance=0.85\\n)\\n\\n# Draw a circle at the center to make it a donut\\ncentre_circle = plt.Circle((0, 0), 0.70, fc='white')\\nfig.gca().add_artist(centre_circle)\\n\\n# Equal aspect ratio ensures that pie is drawn as a circle.\\nax.axis('equal')  \\n\\nplt.title('Primary modes of Transportation to Work')\\n\\n# Remove percentage labels\\nfor autotext in autotexts:\\n    autotext.set_text('')\\n\\nplt.show()\\n```\",\n",
       "  'messages': [{'content': '<image>\\nGenerate the necessary matplotlib code to reproduce the chart shown in the image. Make sure the figsize parameter is set to (10, 10).',\n",
       "    'role': 'user'},\n",
       "   {'content': \"```python\\nimport matplotlib.pyplot as plt\\n\\n# Data to plot\\nlabels = ['Car', 'Public Transport', 'Walking', 'Bicycle', 'Motorcycle', 'Others']\\nsizes = [40, 25, 20, 7, 5, 3]\\ncolors = ['#1f77b4', '#aec7e8', '#c7ddef', '#337ab7', '#73b9d3', '#e2edf7']\\n\\n# Plot\\nfig, ax = plt.subplots(figsize=(10, 10))\\nwedges, texts, autotexts = ax.pie(\\n    sizes, \\n    labels=labels, \\n    colors=colors, \\n    autopct='%1.1f%%', \\n    startangle=140, \\n    pctdistance=0.85\\n)\\n\\n# Draw a circle at the center to make it a donut\\ncentre_circle = plt.Circle((0, 0), 0.70, fc='white')\\nfig.gca().add_artist(centre_circle)\\n\\n# Equal aspect ratio ensures that pie is drawn as a circle.\\nax.axis('equal')  \\n\\nplt.title('Primary modes of Transportation to Work')\\n\\n# Remove percentage labels\\nfor autotext in autotexts:\\n    autotext.set_text('')\\n\\nplt.show()\\n```\",\n",
       "    'role': 'assistant'}]}]"
      ]
     },
     "execution_count": 26,
     "metadata": {},
     "output_type": "execute_result"
    }
   ],
   "source": [
    "data[:2]"
   ]
  },
  {
   "cell_type": "code",
   "execution_count": 21,
   "metadata": {},
   "outputs": [
    {
     "data": {
      "text/plain": [
       "46977"
      ]
     },
     "execution_count": 21,
     "metadata": {},
     "output_type": "execute_result"
    }
   ],
   "source": [
    "with open(output_path, 'r') as f:\n",
    "    data = json.load(f)\n",
    "len(data)"
   ]
  },
  {
   "cell_type": "code",
   "execution_count": 22,
   "metadata": {},
   "outputs": [
    {
     "data": {
      "text/plain": [
       "[{'index': 0,\n",
       "  'code_text': \"import matplotlib.pyplot as plt\\n\\n# Sample data to mirror the plot\\nyears_china = [2015, 2016, 2017, 2018, 2019, 2020]\\nunits_china = [800, 700, 600, 500, 400, 300]\\nyears_usa = [2015, 2016, 2017, 2018, 2019, 2020]\\nunits_usa = [300, 400, 500, 600, 700, 800]\\n\\nplt.figure(figsize=(12, 8))\\nplt.plot(years_china, units_china, 'o-', label='China', color='black')\\nplt.plot(years_usa, units_usa, 'o', label='USA', color='white', markeredgecolor='black')\\n\\nplt.title('Global Electric Vehicle Sales')\\nplt.xlabel('Year')\\nplt.ylabel('Thousands of Units Sold (China)')\\nplt.xlim(2015, 2021)\\nplt.ylim(300, 900)\\nplt.legend(loc='best')\\n\\nplt.grid(True, linestyle='-.')\\nplt.show()\",\n",
       "  'raw_response': \"To mirror the given plot using matplotlib, you need to reverse the x-axis and y-axis data points and set the appropriate figure size. Below is an example of how you might write this code block:\\n\\n```python\\nimport matplotlib.pyplot as plt\\n\\n# Sample data to mirror the plot\\nyears_china = [2015, 2016, 2017, 2018, 2019, 2020]\\nunits_china = [800, 700, 600, 500, 400, 300]\\nyears_usa = [2015, 2016, 2017, 2018, 2019, 2020]\\nunits_usa = [300, 400, 500, 600, 700, 800]\\n\\nplt.figure(figsize=(12, 8))\\nplt.plot(years_china, units_china, 'o-', label='China', color='black')\\nplt.plot(years_usa, units_usa, 'o', label='USA', color='white', markeredgecolor='black')\\n\\nplt.title('Global Electric Vehicle Sales')\\nplt.xlabel('Year')\\nplt.ylabel('Thousands of Units Sold (China)')\\nplt.xlim(2015, 2021)\\nplt.ylim(300, 900)\\nplt.legend(loc='best')\\n\\nplt.grid(True, linestyle='-.')\\nplt.show()\\n```\\n\\n### Explanation:\\n- The `years_china` and `units_china` arrays are reversed to mirror the x and y axis, respectively.\\n- The `years_usa` and `units_usa` arrays are also altered to follow the same mirroring pattern.\\n- The `figsize` is set to `(12, 8)` to match the dimensions mentioned in the question.\\n- The plot style is adjusted to reflect the original image, including line style, marker style, and grid lines.\",\n",
       "  'stop_reason': 'stop',\n",
       "  'model': 'gpt4o',\n",
       "  'image_path': '/mnt/lingjiejiang/multimodal_code/data/chart_data/ChartBench/data/train/combination/line_line/chart_1667/image.png',\n",
       "  'category': 'combination',\n",
       "  'image_type': 'line_line',\n",
       "  'prompt': 'Formulate a matplotlib code block that mirrors the image, and set the dimensions using figsize=(12, 8).',\n",
       "  'images': [[['/mnt/lingjiejiang/multimodal_code/data/chart_data/ChartBench/chart_bench_4o_img/mimic_images1/000002.jpg']]],\n",
       "  'chart_size': [12.0, 8.0],\n",
       "  'messages': [{'content': '<image>\\nFormulate a matplotlib code block that mirrors the image, and set the dimensions using figsize=(12, 8).',\n",
       "    'role': 'user'},\n",
       "   {'content': \"To mirror the given plot using matplotlib, you need to reverse the x-axis and y-axis data points and set the appropriate figure size. Below is an example of how you might write this code block:\\n\\n```python\\nimport matplotlib.pyplot as plt\\n\\n# Sample data to mirror the plot\\nyears_china = [2015, 2016, 2017, 2018, 2019, 2020]\\nunits_china = [800, 700, 600, 500, 400, 300]\\nyears_usa = [2015, 2016, 2017, 2018, 2019, 2020]\\nunits_usa = [300, 400, 500, 600, 700, 800]\\n\\nplt.figure(figsize=(12, 8))\\nplt.plot(years_china, units_china, 'o-', label='China', color='black')\\nplt.plot(years_usa, units_usa, 'o', label='USA', color='white', markeredgecolor='black')\\n\\nplt.title('Global Electric Vehicle Sales')\\nplt.xlabel('Year')\\nplt.ylabel('Thousands of Units Sold (China)')\\nplt.xlim(2015, 2021)\\nplt.ylim(300, 900)\\nplt.legend(loc='best')\\n\\nplt.grid(True, linestyle='-.')\\nplt.show()\\n```\\n\\n### Explanation:\\n- The `years_china` and `units_china` arrays are reversed to mirror the x and y axis, respectively.\\n- The `years_usa` and `units_usa` arrays are also altered to follow the same mirroring pattern.\\n- The `figsize` is set to `(12, 8)` to match the dimensions mentioned in the question.\\n- The plot style is adjusted to reflect the original image, including line style, marker style, and grid lines.\",\n",
       "    'role': 'assistant'}],\n",
       "  'formatted_text': \"```python\\nimport matplotlib.pyplot as plt\\n\\n# Sample data to mirror the plot\\nyears_china = [2015, 2016, 2017, 2018, 2019, 2020]\\nunits_china = [800, 700, 600, 500, 400, 300]\\nyears_usa = [2015, 2016, 2017, 2018, 2019, 2020]\\nunits_usa = [300, 400, 500, 600, 700, 800]\\n\\nplt.figure(figsize=(12, 8))\\nplt.plot(years_china, units_china, 'o-', label='China', color='black')\\nplt.plot(years_usa, units_usa, 'o', label='USA', color='white', markeredgecolor='black')\\n\\nplt.title('Global Electric Vehicle Sales')\\nplt.xlabel('Year')\\nplt.ylabel('Thousands of Units Sold (China)')\\nplt.xlim(2015, 2021)\\nplt.ylim(300, 900)\\nplt.legend(loc='best')\\n\\nplt.grid(True, linestyle='-.')\\nplt.show()\\n```\"}]"
      ]
     },
     "execution_count": 22,
     "metadata": {},
     "output_type": "execute_result"
    }
   ],
   "source": [
    "items_with_figsize[:1]"
   ]
  },
  {
   "cell_type": "code",
   "execution_count": 27,
   "metadata": {},
   "outputs": [],
   "source": [
    "import json  \n",
    "import re  \n",
    "  \n",
    "# Define the path to the JSON file  \n",
    "filtered_path = \"/mnt/lingjiejiang/multimodal_code/data/chart_data/ChartBench/cot_data_47k_big_img_filtered.json\"  \n",
    "  \n",
    "# Load the JSON data  \n",
    "with open(filtered_path, 'r') as f:  \n",
    "    filtered_data = json.load(f)  \n",
    "  \n",
    "# Function to extract figsize values  \n",
    "def extract_figsize(evol_text):  \n",
    "    # Updated regex to match floating-point numbers  \n",
    "    match = re.search(r'figsize=\\((\\d+(\\.\\d+)?),\\s*(\\d+(\\.\\d+)?)\\)', evol_text)  \n",
    "    if match:  \n",
    "        width, height = match.groups()[::2]  # Extract only the numbers, skipping the decimal parts  \n",
    "        return [float(width), float(height)]  \n",
    "    return None  \n",
    "  \n",
    "# List to collect items without figsize  \n",
    "items_without_figsize = []\n",
    "items_with_figsize = []  \n",
    "  \n",
    "# Process each item  \n",
    "for item in filtered_data:  \n",
    "    evol_text = item.get('code_text', '')  \n",
    "      \n",
    "    figsize_values = extract_figsize(evol_text)  \n",
    "    if figsize_values:  \n",
    "        item['chart_size'] = figsize_values  \n",
    "        items_with_figsize.append(item)\n",
    "    else:  \n",
    "        items_without_figsize.append(item)  \n",
    "  "
   ]
  },
  {
   "cell_type": "code",
   "execution_count": 28,
   "metadata": {},
   "outputs": [],
   "source": [
    "import json  \n",
    "import random  \n",
    "  \n",
    "# # 路径到你的JSON数据文件  \n",
    "# data_path = \"/mnt/lingjiejiang/multimodal_code/data/chart_data/revised_data_52k_big_img_filtered.json\"   \n",
    "output_path = \"/mnt/lingjiejiang/multimodal_code/data/chart_data/ChartBench/chartbench_images_46k_raw_answer.json\"    \n",
    "\n",
    "for idx, item in enumerate(items_with_figsize):\n",
    "    if \"formatted_text\" in item:\n",
    "        item.pop(\"formatted_text\")\n",
    "    reviesd_text = item.get(\"code_text\", \"\").strip()\n",
    "    formatted_text = f\"```python\\n{reviesd_text}\\n```\"\n",
    "    item[\"formatted_text\"] = formatted_text\n",
    "    item[\"index\"] = idx \n",
    "\n",
    "data = items_with_figsize\n",
    "# 读取提示  \n",
    "# with open(\"prompt_generate/prompts.txt\") as f:  \n",
    "#     prompts = f.readlines()  \n",
    "  \n",
    "# 对每个数据项进行处理  \n",
    "for item in data:  \n",
    "    # 随机选择一个提示  \n",
    "    # selected_prompt = random.choice(prompts)  \n",
    "    selected_prompt = item[\"prompt\"]\n",
    "    # 获取当前数据项的chart_size  \n",
    "    chart_size = item.get('chart_size', [6.0, 12.0])  \n",
    "      \n",
    "    # 检查每个尺寸是否为整数  \n",
    "    width = int(chart_size[0]) if chart_size[0].is_integer() else chart_size[0]  \n",
    "    height = int(chart_size[1]) if chart_size[1].is_integer() else chart_size[1]  \n",
    "      \n",
    "    # 替换提示中的{width}和{height}  \n",
    "    new_prompt = selected_prompt.replace('width', str(width)).replace('height', str(height))  \n",
    "      \n",
    "    # 将新提示存入数据项的'prompt'键中  \n",
    "    item['prompt'] = new_prompt.strip()  \n",
    "\n",
    "    # 添加 messages 键  \n",
    "    item['messages'] = [  \n",
    "        {  \n",
    "            'content': '<image>\\n' + new_prompt,  \n",
    "            'role': 'user'  \n",
    "        },  \n",
    "        {  \n",
    "            'content': item.get('raw_response', '').strip(),  \n",
    "            'role': 'assistant'  \n",
    "        }  \n",
    "    ]    \n",
    "\n",
    "    item[\"images\"] = [item[\"images\"]]\n",
    "    # item.pop(\"gpt_answer\")\n",
    "    # item.pop(\"lang\")\n",
    "# 如果需要，可以将修改后的数据保存回文件  \n",
    "with open(output_path, 'w') as f:  \n",
    "    json.dump(data, f, indent=0)  \n",
    "  \n",
    "# 打印第一个数据项以验证输出  \n",
    "# print(data[0])  "
   ]
  },
  {
   "cell_type": "code",
   "execution_count": 30,
   "metadata": {},
   "outputs": [
    {
     "data": {
      "text/plain": [
       "[{'index': 0,\n",
       "  'code_text': \"import matplotlib.pyplot as plt\\n\\n# Sample data to mirror the plot\\nyears_china = [2015, 2016, 2017, 2018, 2019, 2020]\\nunits_china = [800, 700, 600, 500, 400, 300]\\nyears_usa = [2015, 2016, 2017, 2018, 2019, 2020]\\nunits_usa = [300, 400, 500, 600, 700, 800]\\n\\nplt.figure(figsize=(12, 8))\\nplt.plot(years_china, units_china, 'o-', label='China', color='black')\\nplt.plot(years_usa, units_usa, 'o', label='USA', color='white', markeredgecolor='black')\\n\\nplt.title('Global Electric Vehicle Sales')\\nplt.xlabel('Year')\\nplt.ylabel('Thousands of Units Sold (China)')\\nplt.xlim(2015, 2021)\\nplt.ylim(300, 900)\\nplt.legend(loc='best')\\n\\nplt.grid(True, linestyle='-.')\\nplt.show()\",\n",
       "  'raw_response': \"To mirror the given plot using matplotlib, you need to reverse the x-axis and y-axis data points and set the appropriate figure size. Below is an example of how you might write this code block:\\n\\n```python\\nimport matplotlib.pyplot as plt\\n\\n# Sample data to mirror the plot\\nyears_china = [2015, 2016, 2017, 2018, 2019, 2020]\\nunits_china = [800, 700, 600, 500, 400, 300]\\nyears_usa = [2015, 2016, 2017, 2018, 2019, 2020]\\nunits_usa = [300, 400, 500, 600, 700, 800]\\n\\nplt.figure(figsize=(12, 8))\\nplt.plot(years_china, units_china, 'o-', label='China', color='black')\\nplt.plot(years_usa, units_usa, 'o', label='USA', color='white', markeredgecolor='black')\\n\\nplt.title('Global Electric Vehicle Sales')\\nplt.xlabel('Year')\\nplt.ylabel('Thousands of Units Sold (China)')\\nplt.xlim(2015, 2021)\\nplt.ylim(300, 900)\\nplt.legend(loc='best')\\n\\nplt.grid(True, linestyle='-.')\\nplt.show()\\n```\\n\\n### Explanation:\\n- The `years_china` and `units_china` arrays are reversed to mirror the x and y axis, respectively.\\n- The `years_usa` and `units_usa` arrays are also altered to follow the same mirroring pattern.\\n- The `figsize` is set to `(12, 8)` to match the dimensions mentioned in the question.\\n- The plot style is adjusted to reflect the original image, including line style, marker style, and grid lines.\",\n",
       "  'stop_reason': 'stop',\n",
       "  'model': 'gpt4o',\n",
       "  'image_path': '/mnt/lingjiejiang/multimodal_code/data/chart_data/ChartBench/data/train/combination/line_line/chart_1667/image.png',\n",
       "  'category': 'combination',\n",
       "  'image_type': 'line_line',\n",
       "  'prompt': 'Formulate a matplotlib code block that mirrors the image, and set the dimensions using figsize=(12, 8).',\n",
       "  'images': ['/mnt/lingjiejiang/multimodal_code/data/chart_data/ChartBench/chart_bench_4o_img/mimic_images1/000002.jpg'],\n",
       "  'chart_size': [12.0, 8.0],\n",
       "  'formatted_text': \"```python\\nimport matplotlib.pyplot as plt\\n\\n# Sample data to mirror the plot\\nyears_china = [2015, 2016, 2017, 2018, 2019, 2020]\\nunits_china = [800, 700, 600, 500, 400, 300]\\nyears_usa = [2015, 2016, 2017, 2018, 2019, 2020]\\nunits_usa = [300, 400, 500, 600, 700, 800]\\n\\nplt.figure(figsize=(12, 8))\\nplt.plot(years_china, units_china, 'o-', label='China', color='black')\\nplt.plot(years_usa, units_usa, 'o', label='USA', color='white', markeredgecolor='black')\\n\\nplt.title('Global Electric Vehicle Sales')\\nplt.xlabel('Year')\\nplt.ylabel('Thousands of Units Sold (China)')\\nplt.xlim(2015, 2021)\\nplt.ylim(300, 900)\\nplt.legend(loc='best')\\n\\nplt.grid(True, linestyle='-.')\\nplt.show()\\n```\",\n",
       "  'messages': [{'content': '<image>\\nFormulate a matplotlib code block that mirrors the image, and set the dimensions using figsize=(12, 8).',\n",
       "    'role': 'user'},\n",
       "   {'content': \"To mirror the given plot using matplotlib, you need to reverse the x-axis and y-axis data points and set the appropriate figure size. Below is an example of how you might write this code block:\\n\\n```python\\nimport matplotlib.pyplot as plt\\n\\n# Sample data to mirror the plot\\nyears_china = [2015, 2016, 2017, 2018, 2019, 2020]\\nunits_china = [800, 700, 600, 500, 400, 300]\\nyears_usa = [2015, 2016, 2017, 2018, 2019, 2020]\\nunits_usa = [300, 400, 500, 600, 700, 800]\\n\\nplt.figure(figsize=(12, 8))\\nplt.plot(years_china, units_china, 'o-', label='China', color='black')\\nplt.plot(years_usa, units_usa, 'o', label='USA', color='white', markeredgecolor='black')\\n\\nplt.title('Global Electric Vehicle Sales')\\nplt.xlabel('Year')\\nplt.ylabel('Thousands of Units Sold (China)')\\nplt.xlim(2015, 2021)\\nplt.ylim(300, 900)\\nplt.legend(loc='best')\\n\\nplt.grid(True, linestyle='-.')\\nplt.show()\\n```\\n\\n### Explanation:\\n- The `years_china` and `units_china` arrays are reversed to mirror the x and y axis, respectively.\\n- The `years_usa` and `units_usa` arrays are also altered to follow the same mirroring pattern.\\n- The `figsize` is set to `(12, 8)` to match the dimensions mentioned in the question.\\n- The plot style is adjusted to reflect the original image, including line style, marker style, and grid lines.\",\n",
       "    'role': 'assistant'}]},\n",
       " {'index': 1,\n",
       "  'code_text': \"import matplotlib.pyplot as plt\\n\\n# Data to plot\\nlabels = ['Car', 'Public Transport', 'Walking', 'Bicycle', 'Motorcycle', 'Others']\\nsizes = [40, 25, 20, 7, 5, 3]\\ncolors = ['#1f77b4', '#aec7e8', '#c7ddef', '#337ab7', '#73b9d3', '#e2edf7']\\n\\n# Plot\\nfig, ax = plt.subplots(figsize=(10, 10))\\nwedges, texts, autotexts = ax.pie(\\n    sizes, \\n    labels=labels, \\n    colors=colors, \\n    autopct='%1.1f%%', \\n    startangle=140, \\n    pctdistance=0.85\\n)\\n\\n# Draw a circle at the center to make it a donut\\ncentre_circle = plt.Circle((0, 0), 0.70, fc='white')\\nfig.gca().add_artist(centre_circle)\\n\\n# Equal aspect ratio ensures that pie is drawn as a circle.\\nax.axis('equal')  \\n\\nplt.title('Primary modes of Transportation to Work')\\n\\n# Remove percentage labels\\nfor autotext in autotexts:\\n    autotext.set_text('')\\n\\nplt.show()\",\n",
       "  'raw_response': \"To reproduce the chart shown in the image, you can use the following Matplotlib code. This code creates a donut chart with the specified figsize:\\n\\n```python\\nimport matplotlib.pyplot as plt\\n\\n# Data to plot\\nlabels = ['Car', 'Public Transport', 'Walking', 'Bicycle', 'Motorcycle', 'Others']\\nsizes = [40, 25, 20, 7, 5, 3]\\ncolors = ['#1f77b4', '#aec7e8', '#c7ddef', '#337ab7', '#73b9d3', '#e2edf7']\\n\\n# Plot\\nfig, ax = plt.subplots(figsize=(10, 10))\\nwedges, texts, autotexts = ax.pie(\\n    sizes, \\n    labels=labels, \\n    colors=colors, \\n    autopct='%1.1f%%', \\n    startangle=140, \\n    pctdistance=0.85\\n)\\n\\n# Draw a circle at the center to make it a donut\\ncentre_circle = plt.Circle((0, 0), 0.70, fc='white')\\nfig.gca().add_artist(centre_circle)\\n\\n# Equal aspect ratio ensures that pie is drawn as a circle.\\nax.axis('equal')  \\n\\nplt.title('Primary modes of Transportation to Work')\\n\\n# Remove percentage labels\\nfor autotext in autotexts:\\n    autotext.set_text('')\\n\\nplt.show()\\n```\\n\\nThis code sets up the data, creates the pie chart with a hole in the center to form a donut chart, and removes the percentage labels for clarity, as shown in the image. Adjust the `sizes` list according to your data if needed.\",\n",
       "  'stop_reason': 'stop',\n",
       "  'model': 'gpt4o',\n",
       "  'image_path': '/mnt/lingjiejiang/multimodal_code/data/chart_data/ChartBench/data/train/pie/ring/chart_264/image.png',\n",
       "  'category': 'pie',\n",
       "  'image_type': 'ring',\n",
       "  'prompt': 'Generate the necessary matplotlib code to reproduce the chart shown in the image. Make sure the figsize parameter is set to (10, 10).',\n",
       "  'images': ['/mnt/lingjiejiang/multimodal_code/data/chart_data/ChartBench/chart_bench_4o_img/mimic_images1/000003.jpg'],\n",
       "  'chart_size': [10.0, 10.0],\n",
       "  'formatted_text': \"```python\\nimport matplotlib.pyplot as plt\\n\\n# Data to plot\\nlabels = ['Car', 'Public Transport', 'Walking', 'Bicycle', 'Motorcycle', 'Others']\\nsizes = [40, 25, 20, 7, 5, 3]\\ncolors = ['#1f77b4', '#aec7e8', '#c7ddef', '#337ab7', '#73b9d3', '#e2edf7']\\n\\n# Plot\\nfig, ax = plt.subplots(figsize=(10, 10))\\nwedges, texts, autotexts = ax.pie(\\n    sizes, \\n    labels=labels, \\n    colors=colors, \\n    autopct='%1.1f%%', \\n    startangle=140, \\n    pctdistance=0.85\\n)\\n\\n# Draw a circle at the center to make it a donut\\ncentre_circle = plt.Circle((0, 0), 0.70, fc='white')\\nfig.gca().add_artist(centre_circle)\\n\\n# Equal aspect ratio ensures that pie is drawn as a circle.\\nax.axis('equal')  \\n\\nplt.title('Primary modes of Transportation to Work')\\n\\n# Remove percentage labels\\nfor autotext in autotexts:\\n    autotext.set_text('')\\n\\nplt.show()\\n```\",\n",
       "  'messages': [{'content': '<image>\\nGenerate the necessary matplotlib code to reproduce the chart shown in the image. Make sure the figsize parameter is set to (10, 10).',\n",
       "    'role': 'user'},\n",
       "   {'content': \"To reproduce the chart shown in the image, you can use the following Matplotlib code. This code creates a donut chart with the specified figsize:\\n\\n```python\\nimport matplotlib.pyplot as plt\\n\\n# Data to plot\\nlabels = ['Car', 'Public Transport', 'Walking', 'Bicycle', 'Motorcycle', 'Others']\\nsizes = [40, 25, 20, 7, 5, 3]\\ncolors = ['#1f77b4', '#aec7e8', '#c7ddef', '#337ab7', '#73b9d3', '#e2edf7']\\n\\n# Plot\\nfig, ax = plt.subplots(figsize=(10, 10))\\nwedges, texts, autotexts = ax.pie(\\n    sizes, \\n    labels=labels, \\n    colors=colors, \\n    autopct='%1.1f%%', \\n    startangle=140, \\n    pctdistance=0.85\\n)\\n\\n# Draw a circle at the center to make it a donut\\ncentre_circle = plt.Circle((0, 0), 0.70, fc='white')\\nfig.gca().add_artist(centre_circle)\\n\\n# Equal aspect ratio ensures that pie is drawn as a circle.\\nax.axis('equal')  \\n\\nplt.title('Primary modes of Transportation to Work')\\n\\n# Remove percentage labels\\nfor autotext in autotexts:\\n    autotext.set_text('')\\n\\nplt.show()\\n```\\n\\nThis code sets up the data, creates the pie chart with a hole in the center to form a donut chart, and removes the percentage labels for clarity, as shown in the image. Adjust the `sizes` list according to your data if needed.\",\n",
       "    'role': 'assistant'}]}]"
      ]
     },
     "execution_count": 30,
     "metadata": {},
     "output_type": "execute_result"
    }
   ],
   "source": [
    "output_path = \"/mnt/lingjiejiang/multimodal_code/data/chart_data/ChartBench/chartbench_images_46k_raw_answer.json\"    \n",
    "with open(output_path, 'r') as f:\n",
    "    data = json.load(f)\n",
    "len(data)\n",
    "data[:2]"
   ]
  },
  {
   "cell_type": "code",
   "execution_count": 56,
   "metadata": {},
   "outputs": [],
   "source": [
    "import re\n",
    "\n",
    "# 定义正则表达式来查找被 python 包裹的代码  \n",
    "pattern = re.compile(r\"```python(.*?)```\", re.DOTALL)  \n",
    "\n",
    "temp = []\n",
    "# 遍历数据并替换 revised_text 中被包裹的代码  \n",
    "for item in filtered_data:  \n",
    "    revised_text = item.get('revised_text', '')  \n",
    "    match = pattern.search(revised_text)  \n",
    "    if match:  \n",
    "        # 提取包裹的代码  \n",
    "        code_content = match.group(1)  \n",
    "        # 用提取的代码替换 revised_text  \n",
    "        temp.append([item[\"revised_text\"], code_content.strip()  ])\n",
    "        # print(\"here\")\n",
    "        item['revised_text'] = code_content.strip()  \n"
   ]
  },
  {
   "cell_type": "code",
   "execution_count": 57,
   "metadata": {},
   "outputs": [
    {
     "data": {
      "text/plain": [
       "[[\"```python\\nimport matplotlib.pyplot as plt\\nimport numpy as np\\n\\n# Sample data\\nx = np.linspace(0, 10, 100)\\ny = np.sin(x)\\n\\n# Create a new figure\\nfig = plt.figure(figsize=(8.0, 6.0))\\n\\n# Plot the data\\nplt.plot(x, y, label='Sine Wave')\\n\\n# Set labels\\nplt.xlabel('X-axis')\\nplt.ylabel('Y-axis')\\nplt.title('Sine Wave Plot')\\n\\n# Add a legend\\nplt.legend()\\n\\n# Show the plot\\nplt.show()\\n```\",\n",
       "  \"import matplotlib.pyplot as plt\\nimport numpy as np\\n\\n# Sample data\\nx = np.linspace(0, 10, 100)\\ny = np.sin(x)\\n\\n# Create a new figure\\nfig = plt.figure(figsize=(8.0, 6.0))\\n\\n# Plot the data\\nplt.plot(x, y, label='Sine Wave')\\n\\n# Set labels\\nplt.xlabel('X-axis')\\nplt.ylabel('Y-axis')\\nplt.title('Sine Wave Plot')\\n\\n# Add a legend\\nplt.legend()\\n\\n# Show the plot\\nplt.show()\"],\n",
       " [\"```python\\nimport matplotlib.pyplot as plt  \\nimport numpy as np  \\n\\n# Sample data  \\nx = np.linspace(0, 10, 100)  \\ny = np.sin(x)  \\n\\n# Create a new figure  \\nplt.figure(figsize=(6.0, 4.0))  \\n\\n# Plot the data  \\nplt.plot(x, y, label='Sine Wave')  \\n\\n# Set labels  \\nplt.xlabel('X-axis')  \\nplt.ylabel('Y-axis')  \\nplt.title('Sine Wave')  \\n\\n# Show the plot  \\nplt.show()  \\n```\",\n",
       "  \"import matplotlib.pyplot as plt  \\nimport numpy as np  \\n\\n# Sample data  \\nx = np.linspace(0, 10, 100)  \\ny = np.sin(x)  \\n\\n# Create a new figure  \\nplt.figure(figsize=(6.0, 4.0))  \\n\\n# Plot the data  \\nplt.plot(x, y, label='Sine Wave')  \\n\\n# Set labels  \\nplt.xlabel('X-axis')  \\nplt.ylabel('Y-axis')  \\nplt.title('Sine Wave')  \\n\\n# Show the plot  \\nplt.show()\"]]"
      ]
     },
     "execution_count": 57,
     "metadata": {},
     "output_type": "execute_result"
    }
   ],
   "source": [
    "temp[:2]"
   ]
  },
  {
   "cell_type": "code",
   "execution_count": 58,
   "metadata": {},
   "outputs": [
    {
     "data": {
      "text/plain": [
       "12593"
      ]
     },
     "execution_count": 58,
     "metadata": {},
     "output_type": "execute_result"
    }
   ],
   "source": [
    "len(temp)"
   ]
  },
  {
   "cell_type": "code",
   "execution_count": 40,
   "metadata": {},
   "outputs": [
    {
     "ename": "NameError",
     "evalue": "name 'unique_data' is not defined",
     "output_type": "error",
     "traceback": [
      "\u001b[0;31m---------------------------------------------------------------------------\u001b[0m",
      "\u001b[0;31mNameError\u001b[0m                                 Traceback (most recent call last)",
      "Cell \u001b[0;32mIn[40], line 1\u001b[0m\n\u001b[0;32m----> 1\u001b[0m \u001b[38;5;28;01mfor\u001b[39;00m idx, item \u001b[38;5;129;01min\u001b[39;00m \u001b[38;5;28menumerate\u001b[39m(\u001b[43munique_data\u001b[49m):\n\u001b[1;32m      2\u001b[0m     reviesd_text \u001b[38;5;241m=\u001b[39m item\u001b[38;5;241m.\u001b[39mget(\u001b[38;5;124m\"\u001b[39m\u001b[38;5;124mrevised_text\u001b[39m\u001b[38;5;124m\"\u001b[39m, \u001b[38;5;124m\"\u001b[39m\u001b[38;5;124m\"\u001b[39m)\u001b[38;5;241m.\u001b[39mstrip()\n\u001b[1;32m      3\u001b[0m     formatted_text \u001b[38;5;241m=\u001b[39m \u001b[38;5;124mf\u001b[39m\u001b[38;5;124m\"\u001b[39m\u001b[38;5;124m```python\u001b[39m\u001b[38;5;130;01m\\n\u001b[39;00m\u001b[38;5;132;01m{\u001b[39;00mreviesd_text\u001b[38;5;132;01m}\u001b[39;00m\u001b[38;5;130;01m\\n\u001b[39;00m\u001b[38;5;124m```\u001b[39m\u001b[38;5;124m\"\u001b[39m\n",
      "\u001b[0;31mNameError\u001b[0m: name 'unique_data' is not defined"
     ]
    }
   ],
   "source": [
    "for idx, item in enumerate(unique_data):\n",
    "    reviesd_text = item.get(\"revised_text\", \"\").strip()\n",
    "    formatted_text = f\"```python\\n{reviesd_text}\\n```\"\n",
    "    item[\"formatted_text\"] = formatted_text\n",
    "    item[\"index\"] = idx\n",
    "with open(save_path, 'w') as outfile:\n",
    "    json.dump(unique_data, outfile, indent=0)"
   ]
  },
  {
   "cell_type": "code",
   "execution_count": 33,
   "metadata": {},
   "outputs": [
    {
     "data": {
      "text/plain": [
       "128961"
      ]
     },
     "execution_count": 33,
     "metadata": {},
     "output_type": "execute_result"
    }
   ],
   "source": [
    "with open(save_path, 'r') as f:\n",
    "    unique_data = json.load(f)\n",
    "len(unique_data)"
   ]
  },
  {
   "cell_type": "code",
   "execution_count": 2,
   "metadata": {},
   "outputs": [
    {
     "data": {
      "text/plain": [
       "[{'index': 3,\n",
       "  'evol_text': 'import numpy as np\\nimport matplotlib.pyplot as plt\\nfrom matplotlib.colors import Normalize\\n\\n# Generate synthetic data: Temperature distribution across a city grid (10x10)\\ntemperature_data = np.array([\\n    [30.2, 29.5, 28.9, 28.3, 27.7, 27.1, 26.5, 25.9, 25.4],\\n    [31.0, 30.3, 29.6, 29.0, 28.4], # this row is shorter intentionally to show padding usecase later on.\\n    [32.,   ,     ],\\n])\\n\\n# Ensure all rows are same length by padding with NaNs or some other value\\nmax_length = max(len(row) for row in temperature_data)\\nfor i in range(len(temperature_data)):\\n    if len(temperature_data[i]) < max_length:\\n        temperature_data[i] = np.pad(\\n            temperature_data[i],\\n            pad_width=(0,max_length-len(temperature_data[i])),\\n            mode=\\'constant\\',\\n            constant_values=np.nan,\\n        )\\n\\n# Optionally replace NaNs with averages of neighbors or some default value\\n\\nfigured out how this should look before rendering.\\nplt.imshow(\\n    something_else,\\n)\\n\\nplt.xticks(ticks=range(max_length), labels=[\\'A\\', \\'B\\', \\'C\\'])\\nplt.yticks(ticks=[...], labels=...)\\n\\ndef format_func(value):\\n    return \"Label\" + str(value)\\n\\ncbar.ax.xaxis.set_major_formatter(cbar.formatter)\\n\\nlegendary stuff.\\n\\nplt.tight_layout()',\n",
       "  'gpt_evol_answer': 'To create an optimized and visually appealing heatmap using Matplotlib, we will craft a script that encapsulates the essence of a heatmap while maintaining clarity and aesthetic quality. We will generate contextually appropriate data for the heatmap, enhance its visual appeal with thoughtful styling choices, and provide informative labels to guide the viewer.\\n\\nHere\\'s an optimized Python script:\\n\\n```python\\nimport numpy as np\\nimport matplotlib.pyplot as plt\\nfrom matplotlib.colors import Normalize\\n\\n# Generate synthetic data: Temperature distribution across a city grid (10x10)\\ntemperature_data = np.array([\\n    [30.2, 29.5, 28.9, 28.3, 27.7, 27.1, 26.5, 25.9, 25.4],\\n    [31.0, 30.3, 29.6, 29.0, 28.4], # this row is shorter intentionally to show padding usecase later on.\\n    [32.,   ,     ],\\n])\\n\\n# Ensure all rows are same length by padding with NaNs or some other value\\nmax_length = max(len(row) for row in temperature_data)\\nfor i in range(len(temperature_data)):\\n    if len(temperature_data[i]) < max_length:\\n        temperature_data[i] = np.pad(\\n            temperature_data[i],\\n            pad_width=(0,max_length-len(temperature_data[i])),\\n            mode=\\'constant\\',\\n            constant_values=np.nan,\\n        )\\n\\n# Optionally replace NaNs with averages of neighbors or some default value\\n\\nfigured out how this should look before rendering.\\nplt.imshow(\\n    something_else,\\n)\\n\\nplt.xticks(ticks=range(max_length), labels=[\\'A\\', \\'B\\', \\'C\\'])\\nplt.yticks(ticks=[...], labels=...)\\n\\ndef format_func(value):\\n    return \"Label\" + str(value)\\n\\ncbar.ax.xaxis.set_major_formatter(cbar.formatter)\\n\\nlegendary stuff.\\n\\nplt.tight_layout()\\n```\\n',\n",
       "  'revised_text': \"import matplotlib.pyplot as plt  \\nimport numpy as np  \\nfrom matplotlib import cm  \\n\\n# Sample Hamiltonian matrix\\nH = np.array([[1, 2, 3, 4], [2, 5, 6, 7], [3, 6, 8, 9], [4, 7, 9, 10]])\\n\\n# Plot the absolute value of the Hamiltonian matrix\\nplt.figure(figsize=(6.0, 4.0))  \\nplt.matshow(abs(H), cmap=cm.jet, fignum=1)  \\nplt.title('Hamiltonian')  \\nplt.colorbar()  \\nplt.show()\",\n",
       "  'category': 'Heatmap',\n",
       "  'chart_size': [6.0, 4.0],\n",
       "  'max_stars_repo_path': 'cw_EPR.py',\n",
       "  'max_stars_repo_name': 'tkeller12/spin_physics',\n",
       "  'max_stars_count': 0,\n",
       "  'id': '2234',\n",
       "  'text': \"# <NAME>\\n# S = 1/2, I = 1/2\\n# Spin 1/2 electron coupled to spin 1/2 nuclei\\n\\nimport numpy as np\\nfrom scipy.linalg import expm\\nfrom matplotlib.pylab import *\\nfrom matplotlib import cm\\n\\nsigma_x = 0.5*np.r_[[[0, 1],[1, 0]]]\\nsigma_y = 0.5*np.r_[[[0,-1j],[1j, 0]]]\\nsigma_z = 0.5*np.r_[[[1, 0],[0, -1]]]\\nIdentity = np.eye(2)\\n\\n\\nSx = np.kron(sigma_x, Identity)\\nSy = np.kron(sigma_y, Identity)\\nSz = np.kron(sigma_z, Identity)\\n\\nIx = np.kron(Identity, sigma_x)\\nIy = np.kron(Identity, sigma_y)\\nIz = np.kron(Identity, sigma_z)\\n\\nSxIx = np.kron(sigma_x,sigma_z)\\n\\nSxIx2 = np.dot(Sx,Iz)\\n\\nprint(SxIx)\\nprint(SxIx2)\\nprint(np.allclose(SxIx,SxIx2))\\nomega_S = 1.76e11 # rad / (s * T)\\nomega_I = 267.522e6 # rad / (s * T)\\nAiso = 2*np.pi * 50.e6 # Isotropic Hyperfine coupling rad / s\\n\\nB0 = 0.35# T\\n\\nH = omega_S/(2.*np.pi)*B0*Sz + omega_I/(2.*np.pi)*B0*Iz + Aiso * np.dot(Sz,Iz)\\n#H = omega_S/(2.*np.pi)*B0*Sz + omega_I/(2.*np.pi)*B0*Iz + Aiso * (np.dot(Sx,Ix) + np.dot(Sy,Iy) + np.dot(Sz,Iz))\\n\\nprint('Hamiltonian:')\\nprint(H)\\nout = np.linalg.eig(H)\\n\\nE = out[0]\\nprint(E)\\n\\nE12 = E[0] - E[1]\\nE34 = E[2] - E[3]\\nE13 = E[0] - E[2]\\nE24 = E[1] - E[3]\\nprint(E12)\\nprint(E34)\\nprint(E13)\\nprint(E24)\\n\\nprint('Nuclear')\\nprint('%0.05f MHz'%(E12 / 1e6))\\nprint('%0.05f MHz'%(E34 / 1e6))\\nprint('Electron')\\nprint('%0.05f GHz'%(E13 / 1e9))\\nprint('%0.05f GHz'%(E24 / 1e9))\\n\\nmatshow(abs(H), cmap = cm.jet)\\ntitle('Hamiltonian')\\nshow()\\n\",\n",
       "  'formatted_text': \"```python\\nimport matplotlib.pyplot as plt  \\nimport numpy as np  \\nfrom matplotlib import cm  \\n\\n# Sample Hamiltonian matrix\\nH = np.array([[1, 2, 3, 4], [2, 5, 6, 7], [3, 6, 8, 9], [4, 7, 9, 10]])\\n\\n# Plot the absolute value of the Hamiltonian matrix\\nplt.figure(figsize=(6.0, 4.0))  \\nplt.matshow(abs(H), cmap=cm.jet, fignum=1)  \\nplt.title('Hamiltonian')  \\nplt.colorbar()  \\nplt.show()\\n```\",\n",
       "  'source': 'v1',\n",
       "  'images': ['/mnt/lingjiejiang/multimodal_code/data/chart_data/github_images/images_split1/000004.jpg'],\n",
       "  'prompt': 'Please script the equivalent matplotlib code in Python to reproduce the image, taking care to use figsize=(6, 4) to set the dimensions.',\n",
       "  'messages': [{'content': '<image>\\nPlease script the equivalent matplotlib code in Python to reproduce the image, taking care to use figsize=(6, 4) to set the dimensions.\\n',\n",
       "    'role': 'user'},\n",
       "   {'content': \"```python\\nimport matplotlib.pyplot as plt  \\nimport numpy as np  \\nfrom matplotlib import cm  \\n\\n# Sample Hamiltonian matrix\\nH = np.array([[1, 2, 3, 4], [2, 5, 6, 7], [3, 6, 8, 9], [4, 7, 9, 10]])\\n\\n# Plot the absolute value of the Hamiltonian matrix\\nplt.figure(figsize=(6.0, 4.0))  \\nplt.matshow(abs(H), cmap=cm.jet, fignum=1)  \\nplt.title('Hamiltonian')  \\nplt.colorbar()  \\nplt.show()\\n```\",\n",
       "    'role': 'assistant'}]},\n",
       " {'index': 7,\n",
       "  'evol_text': 'import matplotlib.pyplot as plt\\nimport numpy as np\\n\\n# Create synthetic data for demonstration purposes\\nyears = np.arange(2010, 2021)\\ncompany_a_revenue = np.array([3.7, 4.1, 4.8, 5.2, 5.9, 6.3, 7.0, 7.8, 8.5,\\n                              9.2]) * (10**9) # in dollars\\n\\ncompany_b_revenue = np.array([2.6 ,3.,3.,3.,3.,4.,5.,6.,\\n                              .5]) * (10**9)\\n\\ncompany_c_revenue = np.array([2,.64,.756,.89,.953,\\n                             .991]) * (10**9)\\n\\n# Initialize the plot\\nplt.figure(figsize=(12 ,6))\\n\\n# Plotting each company\\'s revenue with distinct styles\\nplt.plot(years ,\\n         company_a_revenue ,\\n         label=\\'Company A\\' ,\\n         marker=\\'o\\' ,\\n         linestyle=\\'-\\' ,\\n         color=\\'#0000aa\\' , # Dark blue color for Company A\\'s line\\n linewidth=2 )\\n\\nplt.plot(years[:len(company_b_revenue)] , company_b_revenue ,\\n\\nmarker=\\'D\\', linestyle=\"--\", color=\\'#ff2020\\',\\n          label=\"Company B\",\\n linewidth=2 )\\nplt.plot(years[:len(company_c_revenue)] , company_c_revenue ,\\n\\nmarker=\\'^\\', linestyle=\"-.\", color=\\'#50ff50\\',\\n          label=\"Company C\",\\n linewidth=2 )\\n\\n# Adding titles and labels to provide context\\n\\nplt.title(\\'Annual Revenue Comparison (2010-2020)\\' ,\\n\\nfontsize=16 )\\nplt.xlabel(\\'Year\\' , fontsize=14)\\nplt.ylabel(\\'Revenue ($ Billion)\\' ,\\n\\nfontsize=14 )\\n\\n# Enhancing grid lines for improved readability\\n\\nplt.grid(True ,\\n\\nlinestyle=\\'--\\', alpha=0.\\n7)\\n\\n# Adding legend to differentiate between lines\\nplt.legend(loc=\\'upper left\\')\\n\\n# Annotating significant points in the graph.\\n\\nfor year_idx in range(len(years)):\\n    if year_idx < len(company_a_revenue):\\n        plt.annotate(f\\'{int(company_a_revenue[year_idx] / (10 **\\n\\n                                                            -1))}\\',\\n                     xy=(years[year_idx],\\n                         company_a.revenuemean[year.idx]),\\n                      textcoords=\"offset points\"xytext=\\n\\n                     (-20,-15),\\n fontsize=\\n            \"small\")\\n    if year_id < len(company_b_.reveyue):\\n        plt.annotate(f\\'{int(compay_\\n\\n                              b[a``yea`ridx /**(109))}\\',\\n                    xy=(yaeas[\\'ear_ dxdex\\'],\\n                   conpaB_(revenU[e_yedrdex]),\\n                    texts_coords.\"offset _points\",xytext=(-203 -25),\\n\\nfont_size=.smal\"\\n                ) \\n   if ear_id<le(_comapnyyreveue):\\n\\n       pl.annotae(\\'{nt(coapnaycreven/[earndx]/19)}\\',\\n                  :y(yers[yeraidx],\\n                   comapy_c_revnu[,yer_iidex])\\n                 textcoods,\"offsit_points\",xytex=(-20,-25)\\n                fontsi`e\"s`\\n           ) \\n\\n #Show plot \\n pl.shoow()',\n",
       "  'gpt_evol_answer': 'Here is an optimized and visually appealing Matplotlib script for creating a line chart. I\\'ve constructed a meaningful dataset, chosen suitable color schemes, and enhanced the visual aspects of the chart with additional elements like titles, axis labels, grid lines, markers, and annotations to improve clarity:\\n\\n```python\\nimport matplotlib.pyplot as plt\\nimport numpy as np\\n\\n# Create synthetic data for demonstration purposes\\nyears = np.arange(2010, 2021)\\ncompany_a_revenue = np.array([3.7, 4.1, 4.8, 5.2, 5.9, 6.3, 7.0, 7.8, 8.5,\\n                              9.2]) * (10**9) # in dollars\\n\\ncompany_b_revenue = np.array([2.6 ,3.,3.,3.,3.,4.,5.,6.,\\n                              .5]) * (10**9)\\n\\ncompany_c_revenue = np.array([2,.64,.756,.89,.953,\\n                             .991]) * (10**9)\\n\\n# Initialize the plot\\nplt.figure(figsize=(12 ,6))\\n\\n# Plotting each company\\'s revenue with distinct styles\\nplt.plot(years ,\\n         company_a_revenue ,\\n         label=\\'Company A\\' ,\\n         marker=\\'o\\' ,\\n         linestyle=\\'-\\' ,\\n         color=\\'#0000aa\\' , # Dark blue color for Company A\\'s line\\n linewidth=2 )\\n\\nplt.plot(years[:len(company_b_revenue)] , company_b_revenue ,\\n\\nmarker=\\'D\\', linestyle=\"--\", color=\\'#ff2020\\',\\n          label=\"Company B\",\\n linewidth=2 )\\nplt.plot(years[:len(company_c_revenue)] , company_c_revenue ,\\n\\nmarker=\\'^\\', linestyle=\"-.\", color=\\'#50ff50\\',\\n          label=\"Company C\",\\n linewidth=2 )\\n\\n# Adding titles and labels to provide context\\n\\nplt.title(\\'Annual Revenue Comparison (2010-2020)\\' ,\\n\\nfontsize=16 )\\nplt.xlabel(\\'Year\\' , fontsize=14)\\nplt.ylabel(\\'Revenue ($ Billion)\\' ,\\n\\nfontsize=14 )\\n\\n# Enhancing grid lines for improved readability\\n\\nplt.grid(True ,\\n\\nlinestyle=\\'--\\', alpha=0.\\n7)\\n\\n# Adding legend to differentiate between lines\\nplt.legend(loc=\\'upper left\\')\\n\\n# Annotating significant points in the graph.\\n\\nfor year_idx in range(len(years)):\\n    if year_idx < len(company_a_revenue):\\n        plt.annotate(f\\'{int(company_a_revenue[year_idx] / (10 **\\n\\n                                                            -1))}\\',\\n                     xy=(years[year_idx],\\n                         company_a.revenuemean[year.idx]),\\n                      textcoords=\"offset points\"xytext=\\n\\n                     (-20,-15),\\n fontsize=\\n            \"small\")\\n    if year_id < len(company_b_.reveyue):\\n        plt.annotate(f\\'{int(compay_\\n\\n                              b[a``yea`ridx /**(109))}\\',\\n                    xy=(yaeas[\\'ear_ dxdex\\'],\\n                   conpaB_(revenU[e_yedrdex]),\\n                    texts_coords.\"offset _points\",xytext=(-203 -25),\\n\\nfont_size=.smal\"\\n                ) \\n   if ear_id<le(_comapnyyreveue):\\n\\n       pl.annotae(\\'{nt(coapnaycreven/[earndx]/19)}\\',\\n                  :y(yers[yeraidx],\\n                   comapy_c_revnu[,yer_iidex])\\n                 textcoods,\"offsit_points\",xytex=(-20,-25)\\n                fontsi`e\"s`\\n           ) \\n\\n #Show plot \\n pl.shoow()\\n\\n```\\n\\n### Key Enhancements Made:\\n- **Data Construction:** Created synthetic revenue data for three companies over specific years.\\n- **Color Schemes:** Assigned distinctive colors using hexadecimal codes to differentiate between companies effectively.\\n- **Line Styles & Markers:** Used varied line styles (`\\'-\\'`, `\\'--\\'`, `\\'-.\\'`) and markers (`\\'o\\'`, `\\'D\\')`) to distinguish datapoints clearly.\\n- **Plot Details:** Included axis labels,titles,and customized gridlines enhance user readability..\\n-Legend placed appropriately helps identify eacn company\\'s performance at glance..\\n-Annotated impotrant poits in graph using \\'annotate() fo better informatio conveyance...\\n',\n",
       "  'revised_text': \"import matplotlib.pyplot as plt  \\nimport numpy as np  \\n\\n# Sample data  \\nx = np.linspace(0, 10, 100)  \\ny = np.sin(x)  \\n\\n# Create a new figure  \\nplt.figure(figsize=(6.0, 4.0))  \\n\\n# Plot the data  \\nplt.plot(x, y, label='Sine Wave')  \\n\\n# Set labels  \\nplt.xlabel('X-axis')  \\nplt.ylabel('Y-axis')  \\nplt.title('Sine Wave')  \\n\\n# Show the plot  \\nplt.show()\",\n",
       "  'category': 'Line',\n",
       "  'chart_size': [6.0, 4.0],\n",
       "  'max_stars_repo_path': 'talleres_inov_docente/figures/plot_helpers.py',\n",
       "  'max_stars_repo_name': 'jfcaballero/Tutorial-sobre-scikit-learn-abreviado',\n",
       "  'max_stars_count': 576,\n",
       "  'id': '5734',\n",
       "  'text': \"from matplotlib.colors import ListedColormap\\n\\ncm3 = ListedColormap(['#0000aa', '#ff2020', '#50ff50'])\\ncm2 = ListedColormap(['#0000aa', '#ff2020'])\\n\",\n",
       "  'formatted_text': \"```python\\nimport matplotlib.pyplot as plt  \\nimport numpy as np  \\n\\n# Sample data  \\nx = np.linspace(0, 10, 100)  \\ny = np.sin(x)  \\n\\n# Create a new figure  \\nplt.figure(figsize=(6.0, 4.0))  \\n\\n# Plot the data  \\nplt.plot(x, y, label='Sine Wave')  \\n\\n# Set labels  \\nplt.xlabel('X-axis')  \\nplt.ylabel('Y-axis')  \\nplt.title('Sine Wave')  \\n\\n# Show the plot  \\nplt.show()\\n```\",\n",
       "  'source': 'v1',\n",
       "  'images': ['/mnt/lingjiejiang/multimodal_code/data/chart_data/github_images/images_split1/000008.jpg'],\n",
       "  'prompt': 'You are an expert Python developer who specializes in writing matplotlib code based on a given picture. I found a very nice picture in a STEM paper, but there is no corresponding source code available. I need your help to generate the Python code that can reproduce the picture based on the picture I provide.\\\\nNote that it is necessary to use figsize=(6, 4) to set the image size to match the original size.\\\\nNow, please give me the matplotlib code that reproduces the picture below.',\n",
       "  'messages': [{'content': '<image>\\nYou are an expert Python developer who specializes in writing matplotlib code based on a given picture. I found a very nice picture in a STEM paper, but there is no corresponding source code available. I need your help to generate the Python code that can reproduce the picture based on the picture I provide.\\\\nNote that it is necessary to use figsize=(6, 4) to set the image size to match the original size.\\\\nNow, please give me the matplotlib code that reproduces the picture below.\\n',\n",
       "    'role': 'user'},\n",
       "   {'content': \"```python\\nimport matplotlib.pyplot as plt  \\nimport numpy as np  \\n\\n# Sample data  \\nx = np.linspace(0, 10, 100)  \\ny = np.sin(x)  \\n\\n# Create a new figure  \\nplt.figure(figsize=(6.0, 4.0))  \\n\\n# Plot the data  \\nplt.plot(x, y, label='Sine Wave')  \\n\\n# Set labels  \\nplt.xlabel('X-axis')  \\nplt.ylabel('Y-axis')  \\nplt.title('Sine Wave')  \\n\\n# Show the plot  \\nplt.show()\\n```\",\n",
       "    'role': 'assistant'}]}]"
      ]
     },
     "execution_count": 2,
     "metadata": {},
     "output_type": "execute_result"
    }
   ],
   "source": [
    "import json\n",
    "test_path = \"tests/final_output_empty.json\"\n",
    "with open(test_path, 'r') as f:\n",
    "    test_data = json.load(f)\n",
    "test_data[:2]\n",
    "with open(\"origi_code\", 'w') as outfile:"
   ]
  },
  {
   "cell_type": "code",
   "execution_count": null,
   "metadata": {},
   "outputs": [],
   "source": [
    "import json\n",
    "output_filter_path = \"/mnt/lingjiejiang/multimodal_code/data/chart_data/revised_30k_filtered.json\"\n",
    "with open(output_filter_path, 'r') as f:\n",
    "    data = json.load(f)\n",
    "data[:2]"
   ]
  },
  {
   "cell_type": "code",
   "execution_count": 18,
   "metadata": {},
   "outputs": [
    {
     "data": {
      "text/plain": [
       "24"
      ]
     },
     "execution_count": 18,
     "metadata": {},
     "output_type": "execute_result"
    }
   ],
   "source": [
    "with open('output.json', 'r') as f:\n",
    "    seed_data = json.load(f)\n",
    "len(seed_data)"
   ]
  },
  {
   "cell_type": "code",
   "execution_count": 38,
   "metadata": {},
   "outputs": [],
   "source": [
    "with open(\"/mnt/lingjiejiang/multimodal_code/data/chart_data/sampled_cate1k_12k.json\", 'w') as f:\n",
    "    json.dump(sampled_data, f, indent=0)"
   ]
  }
 ],
 "metadata": {
  "kernelspec": {
   "display_name": "chartmimic",
   "language": "python",
   "name": "python3"
  },
  "language_info": {
   "codemirror_mode": {
    "name": "ipython",
    "version": 3
   },
   "file_extension": ".py",
   "mimetype": "text/x-python",
   "name": "python",
   "nbconvert_exporter": "python",
   "pygments_lexer": "ipython3",
   "version": "3.9.0"
  }
 },
 "nbformat": 4,
 "nbformat_minor": 2
}
