{
 "cells": [
  {
   "cell_type": "code",
   "execution_count": 2,
   "metadata": {},
   "outputs": [],
   "source": [
    "import os  \n",
    "import json  \n",
    "  \n",
    "# 目录路径  \n",
    "directory_path = '/mnt/unilm/shaohanh/data/code/matplotlib/'  \n",
    "# 输出文件路径  \n",
    "output_file_path = os.path.join(directory_path, 'merged_v4.jsonl')  \n",
    "  \n",
    "# 获取目录下所有的 .jsonl 文件  \n",
    "files_to_merge = [f for f in os.listdir(directory_path) if f.endswith('.jsonl')]  \n",
    "  \n",
    "# 初始化一个列表来存储所有的 JSON 对象  \n",
    "merged_data_1 = []  \n",
    "  \n",
    "# 逐个读取每个文件  \n",
    "for filename in files_to_merge:  \n",
    "    file_path = os.path.join(directory_path, filename)  \n",
    "    with open(file_path, 'r') as infile:  \n",
    "        # 逐行读取文件内容  \n",
    "        for line in infile:  \n",
    "            # 将 JSON 字符串解析为 Python 对象并添加到列表中  \n",
    "            merged_data_1.append(json.loads(line))  \n",
    "  \n"
   ]
  },
  {
   "cell_type": "code",
   "execution_count": 3,
   "metadata": {},
   "outputs": [],
   "source": [
    "import os  \n",
    "import json  \n",
    "  \n",
    "# 目录路径  \n",
    "directory_path = '/mnt/unilm/shaohanh/data/code/matplotlib_v2/'  \n",
    "# 输出文件路径  \n",
    "output_file_path = os.path.join(directory_path, 'merged_v4.jsonl')  \n",
    "  \n",
    "# 获取目录下所有的 .jsonl 文件  \n",
    "files_to_merge = [f for f in os.listdir(directory_path) if f.endswith('.jsonl')]  \n",
    "  \n",
    "# 初始化一个列表来存储所有的 JSON 对象  \n",
    "merged_data_2 = []  \n",
    "  \n",
    "# 逐个读取每个文件  \n",
    "for filename in files_to_merge:  \n",
    "    file_path = os.path.join(directory_path, filename)  \n",
    "    with open(file_path, 'r') as infile:  \n",
    "        # 逐行读取文件内容  \n",
    "        for line in infile:  \n",
    "            # 将 JSON 字符串解析为 Python 对象并添加到列表中  \n",
    "            merged_data_2.append(json.loads(line))  "
   ]
  },
  {
   "cell_type": "code",
   "execution_count": 11,
   "metadata": {},
   "outputs": [],
   "source": [
    "import os  \n",
    "import json  \n",
    "  \n",
    "# 目录路径  \n",
    "directory_path = '/mnt/unilm/shaohanh/data/code/matplotlib_v2.1'  \n",
    "# 输出文件路径  \n",
    "output_file_path = os.path.join(directory_path, 'merged_v4.jsonl')  \n",
    "  \n",
    "# 获取目录下所有的 .jsonl 文件  \n",
    "files_to_merge = [f for f in os.listdir(directory_path) if f.endswith('.jsonl')]  \n",
    "  \n",
    "# 初始化一个列表来存储所有的 JSON 对象  \n",
    "merged_data_3 = []  \n",
    "  \n",
    "# 逐个读取每个文件  \n",
    "for filename in files_to_merge:  \n",
    "    file_path = os.path.join(directory_path, filename)  \n",
    "    with open(file_path, 'r') as infile:  \n",
    "        # 逐行读取文件内容  \n",
    "        for line in infile:  \n",
    "            # 将 JSON 字符串解析为 Python 对象并添加到列表中  \n",
    "            merged_data_3.append(json.loads(line))  "
   ]
  },
  {
   "cell_type": "code",
   "execution_count": 12,
   "metadata": {},
   "outputs": [
    {
     "data": {
      "text/plain": [
       "(10727, 75492, 75848)"
      ]
     },
     "execution_count": 12,
     "metadata": {},
     "output_type": "execute_result"
    }
   ],
   "source": [
    "len(merged_data_1), len(merged_data_2), len(merged_data_3)"
   ]
  },
  {
   "cell_type": "code",
   "execution_count": 13,
   "metadata": {},
   "outputs": [
    {
     "data": {
      "text/plain": [
       "162067"
      ]
     },
     "execution_count": 13,
     "metadata": {},
     "output_type": "execute_result"
    }
   ],
   "source": [
    "all_data = merged_data_1 + merged_data_2 + merged_data_3\n",
    "len(all_data)"
   ]
  },
  {
   "cell_type": "code",
   "execution_count": 16,
   "metadata": {},
   "outputs": [
    {
     "data": {
      "text/plain": [
       "[{'hexsha': 'd000409402ef009d26e17b970178fd968b1a4056',\n",
       "  'size': 2572,\n",
       "  'ext': 'py',\n",
       "  'lang': 'python',\n",
       "  'max_stars_repo_path': 'SimpleFilterDesign/FIR_Filtering/FIRBP/FIR_Bandpass.py',\n",
       "  'max_stars_repo_name': 'shmillo/SimplePythonExamples',\n",
       "  'max_stars_repo_head_hexsha': '1ed23af998220448c510cebc03af5ccdbd37a131',\n",
       "  'max_stars_repo_licenses': ['MIT'],\n",
       "  'max_stars_count': None,\n",
       "  'max_stars_repo_stars_event_min_datetime': None,\n",
       "  'max_stars_repo_stars_event_max_datetime': None,\n",
       "  'max_issues_repo_path': 'SimpleFilterDesign/FIR_Filtering/FIRBP/FIR_Bandpass.py',\n",
       "  'max_issues_repo_name': 'shmillo/SimplePythonExamples',\n",
       "  'max_issues_repo_head_hexsha': '1ed23af998220448c510cebc03af5ccdbd37a131',\n",
       "  'max_issues_repo_licenses': ['MIT'],\n",
       "  'max_issues_count': None,\n",
       "  'max_issues_repo_issues_event_min_datetime': None,\n",
       "  'max_issues_repo_issues_event_max_datetime': None,\n",
       "  'max_forks_repo_path': 'SimpleFilterDesign/FIR_Filtering/FIRBP/FIR_Bandpass.py',\n",
       "  'max_forks_repo_name': 'shmillo/SimplePythonExamples',\n",
       "  'max_forks_repo_head_hexsha': '1ed23af998220448c510cebc03af5ccdbd37a131',\n",
       "  'max_forks_repo_licenses': ['MIT'],\n",
       "  'max_forks_count': None,\n",
       "  'max_forks_repo_forks_event_min_datetime': None,\n",
       "  'max_forks_repo_forks_event_max_datetime': None,\n",
       "  'avg_line_length': 20.2519685039,\n",
       "  'max_line_length': 86,\n",
       "  'alphanum_fraction': 0.4362363919,\n",
       "  'text': 'from ast import BitAnd\\nimport importlib\\nfrom cmath import cos, exp, log, log10, pi, sin\\nimport matplotlib.pyplot as mplt\\n\\n##################### ##################### #####################\\n##################### ##################### #####################\\n\\nTWOPI = 2.0 * pi\\n\\nfs = 44100.0\\ndt = 1.0 / fs\\n\\nBW = 0.01\\n\\nfc = 200.0\\nbandwidth = 8000.0\\nfc2 = fc + bandwidth\\n\\nfc /= fs\\nwc = TWOPI * fc\\n\\nfc2 /= fs\\nwc2 = TWOPI * fc2\\n\\nmax = int( 4.0 / BW )\\nmax += 1\\n\\nprint( \"kernelLength = \", max )\\n\\nmiddle = int( max * 0.5 )\\n\\n##################### \\n\\nh = [0.0] * max \\nw = [0.0] * max\\ntaps = [0.0] * max\\nx = [0.0] * max\\n\\n##################### \\n\\nsum = 0\\ni = 0\\nfor n in range(-middle, middle):\\n\\n    nm = n + middle\\n\\n    w[i] = 0.42 - (0.5 * cos((TWOPI*i) / max)) + (0.08 * cos(((2.0*TWOPI) * i) / max))\\n\\n    if n == 0:\\n         h[nm] = (2.0 * fc2) - (2.0 * fc)\\n    else:\\n        h[nm] = (sin(wc2 * n)/(pi * n)) - (sin(wc * n)/(pi * n))\\n      \\n    h[nm] *= w[i] \\n    i += 1\\n\\n\\n##################### ##################### #####################\\n##################### ##################### #####################\\n\\nnumberOfSeconds = 0.15\\nsimulationLength = int( numberOfSeconds * fs )\\n\\nsineSweepData = [0.0] * simulationLength\\n\\nstartFrequency = 1.0\\nendFrequency = 20000.0\\n\\nT = numberOfSeconds\\ntempOne = TWOPI * startFrequency * T\\ntempTwo = TWOPI * endFrequency * T\\ntempThree = log( tempTwo / tempOne )\\ntempFour = tempOne / tempThree\\n\\ntime = 0.0\\nfor i in range( 0, simulationLength ):\\n    sineSweepData[ i ] = sin( tempFour * (exp((time / T) * tempThree) - 1.0) )\\n    time += dt\\n\\n\\n##################### ##################### #####################\\n##################### ##################### #####################\\n\\nconvolvedOutput = [0.0] * simulationLength\\ntemporary = [0.0] * max\\n\\nxIndex = 0\\nnewest = 0\\n\\nfor i in range( 0, simulationLength ):\\n\\n    if newest == max:\\n        newest = 0\\n        \\n    temporary[ newest ] = sineSweepData[ i ]\\n    xIndex = newest\\n\\n    accum = 0.0\\n    kernel = 0.0\\n    for j in range( 0, max ):\\n\\n        accum += h[ j ] * temporary[ xIndex ]\\n        kernel += h[ j ]\\n\\n        xIndex -= 1\\n        if xIndex == -1:\\n            xIndex = max - 1\\n\\n    convolvedOutput[i] = accum\\n    newest += 1\\n\\t\\t\\t\\n##################### ##################### #####################\\n##################### ##################### #####################\\n\\nfig, (ax1, ax2, ax3) = mplt.subplots(3)\\n\\nax1.axis([ 0, max, -1.0, 1.0 ])\\nax1.plot( h )\\n\\nax2.axis([ 0, simulationLength, -1.1, 1.1])\\nax2.plot( sineSweepData )\\n\\nax3.axis([ 0, simulationLength, -1.1, 1.1])\\nax3.plot( convolvedOutput )\\n\\nmplt.show()'},\n",
       " {'hexsha': 'd001b16c54a35719236f19de824f031b76b3d51a',\n",
       "  'size': 1329,\n",
       "  'ext': 'py',\n",
       "  'lang': 'python',\n",
       "  'max_stars_repo_path': 'test/hp_test.py',\n",
       "  'max_stars_repo_name': 'Tianhao-Y/Automatic-Control-System-for-Heat-Pump',\n",
       "  'max_stars_repo_head_hexsha': 'd708d325e22f5ef75729c3914b270e7b66eca5bb',\n",
       "  'max_stars_repo_licenses': ['MIT'],\n",
       "  'max_stars_count': 3,\n",
       "  'max_stars_repo_stars_event_min_datetime': '2020-05-10T04:09:34.000Z',\n",
       "  'max_stars_repo_stars_event_max_datetime': '2020-05-10T14:34:19.000Z',\n",
       "  'max_issues_repo_path': 'test/hp_test.py',\n",
       "  'max_issues_repo_name': 'Tianhao-Y/Automatic-Control-System-for-Heat-Pump',\n",
       "  'max_issues_repo_head_hexsha': 'd708d325e22f5ef75729c3914b270e7b66eca5bb',\n",
       "  'max_issues_repo_licenses': ['MIT'],\n",
       "  'max_issues_count': None,\n",
       "  'max_issues_repo_issues_event_min_datetime': None,\n",
       "  'max_issues_repo_issues_event_max_datetime': None,\n",
       "  'max_forks_repo_path': 'test/hp_test.py',\n",
       "  'max_forks_repo_name': 'Tianhao-Y/Automatic-Control-System-for-Heat-Pump',\n",
       "  'max_forks_repo_head_hexsha': 'd708d325e22f5ef75729c3914b270e7b66eca5bb',\n",
       "  'max_forks_repo_licenses': ['MIT'],\n",
       "  'max_forks_count': 1,\n",
       "  'max_forks_repo_forks_event_min_datetime': '2021-08-17T03:28:00.000Z',\n",
       "  'max_forks_repo_forks_event_max_datetime': '2021-08-17T03:28:00.000Z',\n",
       "  'avg_line_length': 17.72,\n",
       "  'max_line_length': 78,\n",
       "  'alphanum_fraction': 0.6290443943,\n",
       "  'text': 'from hp_model import operation\\nimport matplotlib.pyplot as plt\\n\\n\\ninit = 0\\nstate = 0\\ni = 0\\n\\ncp1 = []\\ncp2 = []\\nerp = []\\npu = []\\nefflist = []\\nlast_state = 0\\ntemperature = []\\nstate_list = []\\nQ_list = []\\nwhile 1:\\n    if i >= 30:\\n        state = 0\\n    state_list.append(state)\\n    last_q = init\\n    Q, P_total, COP, P, eff, T, current_q = operation(state, last_q, \\'Heater\\')\\n    cp1.append(P[0])\\n    cp2.append(P[1])\\n    erp.append(P[2])\\n    pu.append(P[3])\\n    efflist.append(eff)\\n    temperature.append(T)\\n    Q_list.append(current_q)\\n    i += 1\\n    init = Q\\n    last_state = state\\n    state = 100\\n    if i == 50:\\n        break\\n\\nplt.figure()\\nplt.plot(cp1, label=\\'cp1\\')\\nplt.plot(cp2, label=\\'cp2\\')\\nplt.plot(erp, label=\\'erp\\')\\nplt.plot(pu, label=\\'pu\\')\\nplt.legend()\\nplt.xlabel(\\'Minutes\\')\\nplt.ylabel(\\'Power\\')\\nplt.show()\\n\\nplt.figure()\\nplt.plot(efflist)\\nplt.xlabel(\\'Minutes\\')\\nplt.ylabel(\\'Efficiency\\')\\nplt.show()\\n\\nplt.figure()\\nplt.plot(temperature)\\nplt.xlabel(\\'Minutes\\')\\nplt.ylabel(\\'Temperature\\')\\nplt.show()\\n\\nplt.figure()\\nplt.plot(state_list)\\nplt.xlabel(\\'Minutes\\')\\nplt.ylabel(\\'State\\')\\nplt.show()\\n\\nplt.figure()\\nplt.plot(Q_list)\\nplt.xlabel(\\'Minutes\\')\\nplt.ylabel(\\'Q\\')\\nplt.show()\\n\\nprint(\"Thermal input to the Room: %10.3f\" % Q + \"\\\\n\",\\n      \"Total power consumption: %10.3f\" % P_total + \"\\\\n\",\\n      \"Energy efficiency of heat pump: %10.3f\" % COP)\\n'}]"
      ]
     },
     "execution_count": 16,
     "metadata": {},
     "output_type": "execute_result"
    }
   ],
   "source": [
    "merged_data_3[:2]"
   ]
  },
  {
   "cell_type": "code",
   "execution_count": 17,
   "metadata": {},
   "outputs": [],
   "source": [
    "# 用于存储去重后的数据  \n",
    "unique_data = {}  \n",
    "  \n",
    "# 遍历所有数据项  \n",
    "for entry in all_data:  \n",
    "    # 使用 'text' 字段的值作为字典的键来去重  \n",
    "    text = entry['text']  \n",
    "    if text not in unique_data:  \n",
    "        unique_data[text] = entry  \n",
    "  \n",
    "# 将字典的值转换回列表  \n",
    "deduplicated_data = list(unique_data.values())  "
   ]
  },
  {
   "cell_type": "code",
   "execution_count": 18,
   "metadata": {},
   "outputs": [
    {
     "data": {
      "text/plain": [
       "129262"
      ]
     },
     "execution_count": 18,
     "metadata": {},
     "output_type": "execute_result"
    }
   ],
   "source": [
    "len(deduplicated_data)"
   ]
  },
  {
   "cell_type": "code",
   "execution_count": 19,
   "metadata": {},
   "outputs": [],
   "source": [
    "len(deduplicated_data)\n",
    "save_path = '/mnt/lingjiejiang/multimodal_code/data/chart_data/github_chart/merged_v1_v2_3.json'\n",
    "with open(save_path, 'w') as outfile:  \n",
    "    json.dump(deduplicated_data, outfile, indent=4)"
   ]
  },
  {
   "cell_type": "code",
   "execution_count": 4,
   "metadata": {},
   "outputs": [
    {
     "data": {
      "text/plain": [
       "129262"
      ]
     },
     "execution_count": 4,
     "metadata": {},
     "output_type": "execute_result"
    }
   ],
   "source": [
    "import json\n",
    "save_path = '/mnt/lingjiejiang/multimodal_code/data/chart_data/github_chart/merged_v1_v2_3.json'\n",
    "with open(save_path, 'r') as f:\n",
    "    data = json.load(f)\n",
    "len(data)"
   ]
  },
  {
   "cell_type": "code",
   "execution_count": 5,
   "metadata": {},
   "outputs": [
    {
     "data": {
      "text/plain": [
       "[{'max_stars_repo_path': 'cw_EPR.py',\n",
       "  'max_stars_repo_name': 'tkeller12/spin_physics',\n",
       "  'max_stars_count': 0,\n",
       "  'id': '2234',\n",
       "  'text': \"# <NAME>\\n# S = 1/2, I = 1/2\\n# Spin 1/2 electron coupled to spin 1/2 nuclei\\n\\nimport numpy as np\\nfrom scipy.linalg import expm\\nfrom matplotlib.pylab import *\\nfrom matplotlib import cm\\n\\nsigma_x = 0.5*np.r_[[[0, 1],[1, 0]]]\\nsigma_y = 0.5*np.r_[[[0,-1j],[1j, 0]]]\\nsigma_z = 0.5*np.r_[[[1, 0],[0, -1]]]\\nIdentity = np.eye(2)\\n\\n\\nSx = np.kron(sigma_x, Identity)\\nSy = np.kron(sigma_y, Identity)\\nSz = np.kron(sigma_z, Identity)\\n\\nIx = np.kron(Identity, sigma_x)\\nIy = np.kron(Identity, sigma_y)\\nIz = np.kron(Identity, sigma_z)\\n\\nSxIx = np.kron(sigma_x,sigma_z)\\n\\nSxIx2 = np.dot(Sx,Iz)\\n\\nprint(SxIx)\\nprint(SxIx2)\\nprint(np.allclose(SxIx,SxIx2))\\nomega_S = 1.76e11 # rad / (s * T)\\nomega_I = 267.522e6 # rad / (s * T)\\nAiso = 2*np.pi * 50.e6 # Isotropic Hyperfine coupling rad / s\\n\\nB0 = 0.35# T\\n\\nH = omega_S/(2.*np.pi)*B0*Sz + omega_I/(2.*np.pi)*B0*Iz + Aiso * np.dot(Sz,Iz)\\n#H = omega_S/(2.*np.pi)*B0*Sz + omega_I/(2.*np.pi)*B0*Iz + Aiso * (np.dot(Sx,Ix) + np.dot(Sy,Iy) + np.dot(Sz,Iz))\\n\\nprint('Hamiltonian:')\\nprint(H)\\nout = np.linalg.eig(H)\\n\\nE = out[0]\\nprint(E)\\n\\nE12 = E[0] - E[1]\\nE34 = E[2] - E[3]\\nE13 = E[0] - E[2]\\nE24 = E[1] - E[3]\\nprint(E12)\\nprint(E34)\\nprint(E13)\\nprint(E24)\\n\\nprint('Nuclear')\\nprint('%0.05f MHz'%(E12 / 1e6))\\nprint('%0.05f MHz'%(E34 / 1e6))\\nprint('Electron')\\nprint('%0.05f GHz'%(E13 / 1e9))\\nprint('%0.05f GHz'%(E24 / 1e9))\\n\\nmatshow(abs(H), cmap = cm.jet)\\ntitle('Hamiltonian')\\nshow()\\n\",\n",
       "  'lang': 'python'},\n",
       " {'max_stars_repo_path': 'yolo3/utils.py',\n",
       "  'max_stars_repo_name': 'gaxu/keras-yolo3',\n",
       "  'max_stars_count': 0,\n",
       "  'id': '2561',\n",
       "  'text': '\"\"\"Miscellaneous utility functions.\"\"\"\\n\\nfrom functools import reduce\\n\\nfrom PIL import Image\\nimport numpy as np\\nfrom matplotlib.colors import rgb_to_hsv, hsv_to_rgb\\n\\ndef compose(*funcs):\\n    \"\"\"Compose arbitrarily many functions, evaluated left to right.\\n\\n    Reference: https://mathieularose.com/function-composition-in-python/\\n    \"\"\"\\n    # return lambda x: reduce(lambda v, f: f(v), funcs, x)\\n    if funcs:\\n        return reduce(lambda f, g: lambda *a, **kw: g(f(*a, **kw)), funcs)\\n    else:\\n        raise ValueError(\\'Composition of empty sequence not supported.\\')\\n\\ndef letterbox_image(image, size):\\n    \\'\\'\\'resize image with unchanged aspect ratio using padding\\'\\'\\'\\n    iw, ih = image.size\\n    w, h = size\\n    scale = min(w/iw, h/ih)\\n    nw = int(iw*scale)\\n    nh = int(ih*scale)\\n\\n    image = image.resize((nw,nh), Image.BICUBIC)\\n    new_image = Image.new(\\'RGB\\', size, (128,128,128))\\n    new_image.paste(image, ((w-nw)//2, (h-nh)//2))\\n    return new_image\\n\\ndef rand(a=0, b=1):\\n    return np.random.rand()*(b-a) + a\\n\\ndef get_random_data(annotation_line, input_shape, random=True, max_boxes=20, jitter=.3, hue=.1, sat=1.5, val=1.5, proc_img=True):\\n    \\'\\'\\'random preprocessing for real-time data augmentation\\'\\'\\'\\n    line = annotation_line.split()\\n    image = Image.open(line[0])\\n    iw, ih = image.size\\n    h, w = input_shape\\n    box = np.array([np.array(list(map(int,box.split(\\',\\')))) for box in line[1:]])\\n\\n    if not random:\\n        # resize image\\n        scale = min(w/iw, h/ih)\\n        nw = int(iw*scale)\\n        nh = int(ih*scale)\\n        dx = (w-nw)//2\\n        dy = (h-nh)//2\\n        image_data=0\\n        if proc_img:\\n            image = image.resize((nw,nh), Image.BICUBIC)\\n            new_image = Image.new(\\'RGB\\', (w,h), (128,128,128))\\n            new_image.paste(image, (dx, dy))\\n            image_data = np.array(new_image)/255.\\n\\n        # correct boxes\\n        box_data = np.zeros((max_boxes,5))\\n        if len(box)>0:\\n            np.random.shuffle(box)\\n            if len(box)>max_boxes: box = box[:max_boxes]\\n            box[:, [0,2]] = box[:, [0,2]]*scale + dx\\n            box[:, [1,3]] = box[:, [1,3]]*scale + dy\\n            box_data[:len(box)] = box\\n\\n        return image_data, box_data\\n\\n    # resize image\\n    new_ar = w/h * rand(1-jitter,1+jitter)/rand(1-jitter,1+jitter)\\n    scale = rand(.25, 2)\\n    if new_ar < 1:\\n        nh = int(scale*h)\\n        nw = int(nh*new_ar)\\n    else:\\n        nw = int(scale*w)\\n        nh = int(nw/new_ar)\\n    image = image.resize((nw,nh), Image.BICUBIC)\\n\\n    # place image\\n    dx = int(rand(0, w-nw))\\n    dy = int(rand(0, h-nh))\\n    new_image = Image.new(\\'RGB\\', (w,h), (128,128,128))\\n    new_image.paste(image, (dx, dy))\\n    image = new_image\\n\\n    # flip image or not\\n    flip = rand()<.5\\n    if flip: image = image.transpose(Image.FLIP_LEFT_RIGHT)\\n\\n    # distort image\\n    hue = rand(-hue, hue)\\n    sat = rand(1, sat) if rand()<.5 else 1/rand(1, sat)\\n    val = rand(1, val) if rand()<.5 else 1/rand(1, val)\\n    x = rgb_to_hsv(np.array(image)/255.)\\n    x[..., 0] += hue\\n    x[..., 0][x[..., 0]>1] -= 1\\n    x[..., 0][x[..., 0]<0] += 1\\n    x[..., 1] *= sat\\n    x[..., 2] *= val\\n    x[x>1] = 1\\n    x[x<0] = 0\\n    image_data = hsv_to_rgb(x) # numpy array, 0 to 1\\n\\n    # correct boxes\\n    box_data = np.zeros((max_boxes,5))\\n    if len(box)>0:\\n        np.random.shuffle(box)\\n        box[:, [0,2]] = box[:, [0,2]]*nw/iw + dx\\n        box[:, [1,3]] = box[:, [1,3]]*nh/ih + dy\\n        if flip: box[:, [0,2]] = w - box[:, [2,0]]\\n        box[:, 0:2][box[:, 0:2]<0] = 0\\n        box[:, 2][box[:, 2]>w] = w\\n        box[:, 3][box[:, 3]>h] = h\\n        box_w = box[:, 2] - box[:, 0]\\n        box_h = box[:, 3] - box[:, 1]\\n        box = box[np.logical_and(box_w>1, box_h>1)] # discard invalid box\\n        if len(box)>max_boxes: box = box[:max_boxes]\\n        box_data[:len(box)] = box\\n\\n    return image_data, box_data\\n\\ndef get_random_data2(annotation_line, input_shape, random=True, max_boxes=20, jitter=.3, hue=.1, sat=1.5, val=1.5, proc_img=True):\\n    \\'\\'\\'random preprocessing for real-time data augmentation\\'\\'\\'\\n   \\n\\n    line = annotation_line.split()\\n    image = Image.open(line[0])\\n\\n    w, h = image.size #13 14\\n    dx, dy = input_shape\\n    box = np.array([np.array(list(map(int,box.split(\\',\\')))) for box in line[1:]])\\n\\n    x_min = w\\n    x_max = 0\\n    y_min = h\\n    y_max = 0\\n    for bbox in box:\\n       x_min = min(x_min, bbox[0])\\n       y_min = min(y_min, bbox[1])\\n       x_max = max(x_max, bbox[2])\\n       y_max = max(y_max, bbox[3])\\n       name = bbox[4]\\n\\n    # 包含所有目标框的最小框到各个边的距离\\n    d_to_left = x_min\\n    d_to_right = w - x_max\\n    d_to_top = y_min\\n    d_to_bottom = h - y_max\\n\\n\\n    # 随机扩展这个最小范围\\n    crop_x_min = int(x_min - rand(0, d_to_left))\\n    crop_y_min = int(y_min - rand(0, d_to_top))\\n    crop_x_max = int(x_max + rand(0, d_to_right))\\n    crop_y_max = int(y_max + rand(0, d_to_bottom))\\n\\n\\n    # 确保不出界\\n    crop_x_min = max(0, crop_x_min)\\n    crop_y_min = max(0, crop_y_min)\\n    crop_x_max = min(w, crop_x_max)\\n    crop_y_max = min(h, crop_y_max)\\n\\n    cropped = image.crop((crop_x_min, crop_y_min, crop_x_max, crop_y_max))  # (left, upper, right, lower)\\n    new_image = Image.new(\\'RGB\\', (w,h), (128,128,128))\\n    new_image.paste(cropped, (dx, dy))\\n    image_data = np.array(new_image)/255.\\n\\n    box_data = np.zeros((max_boxes,5))\\n    if len(box)>0:\\n        np.random.shuffle(box)\\n        if len(box)>max_boxes: box = box[:max_boxes]\\n        box[:,0] = box[:,0]-crop_y_min\\n        box[:,1] = box[:,1]-crop_y_min\\n        box[:,2] = box[:,2]-crop_x_min\\n        box[:,3] = box[:,3]-crop_y_min\\n\\n        box_data[:len(box)] = box\\n\\n    return image_data, box_data\\n\\ndef get_random_data2(annotation_line, input_shape, max_boxes=20, jitter=.3, hue=.1, sat=1.5, val=1.5, proc_img=True):\\n    \\n    line = annotation_line.split()\\n    img = cv2.imread(line[0])\\n    h_img, w_img, _ = img.shape\\n    w, h = input_shape\\n\\n    box = np.array([np.array(list(map(int,box.split(\\',\\')))) for box in line[1:]])\\n    max_bbox = np.concatenate([np.min(box[:, 0:2], axis=0), np.max(box[:, 2:4], axis=0)], axis=-1)# 取得所有bbox中的最大bbox\\n\\n \\n    #包含所有目標框的最大框到各個邊的距離   \\n    max_l_trans = max_bbox[0]\\n    max_u_trans = max_bbox[1]\\n    max_r_trans = w_img - max_bbox[2]\\n    max_d_trans = h_img - max_bbox[3]\\n\\n    #隨機擴展框最大範圍\\n    crop_xmin = max(0, int(max_bbox[0] - random.uniform(0, max_l_trans)*2))\\n    crop_ymin = max(0, int(max_bbox[1] - random.uniform(0, max_u_trans)*2))\\n    crop_xmax = max(w_img, int(max_bbox[2] + random.uniform(0, max_r_trans)*2))\\n    crop_ymax = max(h_img, int(max_bbox[3] + random.uniform(0, max_d_trans)*2))\\n\\n    img = img[crop_ymin : crop_ymax, crop_xmin : crop_xmax] #進行裁剪\\n    image = Image.fromarray(cv2.cvtColor(img,cv2.COLOR_BGR2RGB)) #因為目前圖片格式是cv2,因此要轉換為PIL格式做貼上的語法\\n    new_image = Image.new(\\'RGB\\', (w,h), (128,128,128)) #產出一個(416,416)的灰色圖片\\n    new_image.paste(image, (0, 0)) #將轉為PIL格式的圖片 貼到灰色圖片中\\n    img2 = cv2.cvtColor(np.asarray(new_image),cv2.COLOR_RGB2BGR) #再將格式轉回cv2\\n\\n    box_data = np.zeros((max_boxes,5)) #box最多有max_boxes個，即shap->(20,5)\\n\\n    #將剪裁後位移的框與原始框進行相減，避免變換之後的值過大或過小，並去除異常的box \\n    if len(box)>0:\\n        np.random.shuffle(box)\\n        if len(box)>max_boxes: box = box[:max_boxes]\\n\\n        box[:, [0, 2]] = box[:, [0, 2]] - crop_xmin\\n        box[:, [1, 3]] = box[:, [1, 3]] - crop_ymin\\n        box[:, 2][box[:, 2]>w] = w\\n        box[:, 3][box[:, 3]>h] = h\\n        box_w = box[:, 2] - box[:, 0]\\n        box_h = box[:, 3] - box[:, 1]\\n        box = box[np.logical_and(box_w>1, box_h>1)] # discard invalid box\\n        if len(box)>max_boxes: box = box[:max_boxes]\\n        box_data[:len(box)] = box\\n\\n        #標框線\\n        # light_blue = (255,200,100)\\n        # for boxs in box:\\n        #     cv2.rectangle(img2,(boxs[0],boxs[1]),(boxs[2],boxs[3]),light_blue,2)\\n\\n    # writename=os.path.basename(line[0]) #取檔名\\n\\n    # cv2.imshow(\\'My Image\\', img2)\\n    # cv2.waitKey(0)\\n\\n    \\n    return img2, box_data\\n',\n",
       "  'lang': 'python'}]"
      ]
     },
     "execution_count": 5,
     "metadata": {},
     "output_type": "execute_result"
    }
   ],
   "source": [
    "data[:2]"
   ]
  },
  {
   "cell_type": "code",
   "execution_count": 4,
   "metadata": {},
   "outputs": [
    {
     "data": {
      "text/plain": [
       "129262"
      ]
     },
     "execution_count": 4,
     "metadata": {},
     "output_type": "execute_result"
    }
   ],
   "source": [
    "revised_path = \"/mnt/lingjiejiang/multimodal_code/data/chart_data/revised_code/final_output.json\"\n",
    "with open(revised_path, 'r') as f:\n",
    "    revised_data = json.load(f)\n",
    "len(revised_data)"
   ]
  },
  {
   "cell_type": "code",
   "execution_count": 9,
   "metadata": {},
   "outputs": [
    {
     "data": {
      "text/plain": [
       "96396"
      ]
     },
     "execution_count": 9,
     "metadata": {},
     "output_type": "execute_result"
    }
   ],
   "source": [
    "inempty_data = [item for item in revised_data if item[\"revised_text\"] != \"\"]\n",
    "len(inempty_data)"
   ]
  },
  {
   "cell_type": "code",
   "execution_count": 10,
   "metadata": {},
   "outputs": [
    {
     "data": {
      "text/plain": [
       "32866"
      ]
     },
     "execution_count": 10,
     "metadata": {},
     "output_type": "execute_result"
    }
   ],
   "source": [
    "empty_data = [item for item in revised_data if item[\"revised_text\"] == \"\"]\n",
    "len(empty_data)"
   ]
  },
  {
   "cell_type": "code",
   "execution_count": 11,
   "metadata": {},
   "outputs": [],
   "source": [
    "save_path = '/mnt/lingjiejiang/multimodal_code/data/chart_data/github_chart/merged_empty_data.json'\n",
    "with open(save_path, 'w') as outfile:  \n",
    "    json.dump(empty_data, outfile, indent=4)"
   ]
  },
  {
   "cell_type": "code",
   "execution_count": 12,
   "metadata": {},
   "outputs": [
    {
     "data": {
      "text/plain": [
       "32866"
      ]
     },
     "execution_count": 12,
     "metadata": {},
     "output_type": "execute_result"
    }
   ],
   "source": [
    "with open(save_path, 'r') as f:\n",
    "    empty_data = json.load(f)\n",
    "len(empty_data)"
   ]
  },
  {
   "cell_type": "code",
   "execution_count": 13,
   "metadata": {},
   "outputs": [
    {
     "data": {
      "text/plain": [
       "[{'index': 7,\n",
       "  'revised_text': '',\n",
       "  'category': 'Heatmap',\n",
       "  'chart_size': [8.0, 6.0],\n",
       "  'gpt_answer': \"## Code needs to be revised:\\n\\n```python\\nimport matplotlib.pyplot as plt\\nimport numpy as np\\n\\n# Create a random matrix\\nmatrix = np.random.rand(64, 64)\\n\\n# Set the figure size\\nplt.figure(figsize=(8.0, 6.0))\\n\\n# Display the matrix with a grayscale colormap\\nplt.matshow(matrix, cmap='gray')\\n\\n# Show the plot\\nplt.show()\\n```\\n\\n<CATEGORY>: [Heatmap]  \\n<CHART SIZE>: (8.0, 6.0)  \",\n",
       "  'max_stars_repo_path': 'examples/pylab_examples/matshow.py',\n",
       "  'max_stars_repo_name': 'jbbrokaw/matplotlib',\n",
       "  'max_stars_count': 16,\n",
       "  'id': '6572',\n",
       "  'text': '\"\"\"Simple matshow() example.\"\"\"\\nfrom matplotlib.pylab import *\\n\\n\\ndef samplemat(dims):\\n    \"\"\"Make a matrix with all zeros and increasing elements on the diagonal\"\"\"\\n    aa = zeros(dims)\\n    for i in range(min(dims)):\\n        aa[i, i] = i\\n    return aa\\n\\n\\n# Display 2 matrices of different sizes\\ndimlist = [(12, 12), (15, 35)]\\nfor d in dimlist:\\n    matshow(samplemat(d))\\n\\n# Display a random matrix with a specified figure number and a grayscale\\n# colormap\\nmatshow(rand(64, 64), fignum=100, cmap=cm.gray)\\n\\nshow()\\n',\n",
       "  'lang': 'python'},\n",
       " {'index': 17,\n",
       "  'revised_text': '',\n",
       "  'category': 'Line',\n",
       "  'chart_size': [8.0, 6.0],\n",
       "  'gpt_answer': \"## Code needs to be revised:\\n\\n```python\\nimport matplotlib.pyplot as plt\\nimport numpy as np\\n\\n# Sample data\\nx = np.linspace(0, 10, 100)\\ny = np.sin(x)\\n\\n# Create a new figure\\nfig = plt.figure(figsize=(8.0, 6.0))\\n\\n# Plot the data\\nplt.plot(x, y, label='Sine Wave')\\n\\n# Set labels\\nplt.xlabel('X-axis')\\nplt.ylabel('Y-axis')\\n\\n# Add a legend\\nplt.legend()\\n\\n# Show the plot\\nplt.show()\\n```\\n\\n<CATEGORY>: [Line]  \\n<CHART SIZE>: (8.0, 6.0)  \",\n",
       "  'max_stars_repo_path': 'settings.py',\n",
       "  'max_stars_repo_name': 'gyyang/olfaction_evolution',\n",
       "  'max_stars_count': 9,\n",
       "  'id': '21175',\n",
       "  'text': '\"\"\"User specific settings.\"\"\"\\n\\nimport matplotlib as mpl\\nimport matplotlib.pyplot as plt\\n\\nmpl.rcParams[\\'font.size\\'] = 7\\nmpl.rcParams[\\'pdf.fonttype\\'] = 42\\nmpl.rcParams[\\'ps.fonttype\\'] = 42\\nmpl.rcParams[\\'font.family\\'] = \\'arial\\'\\nmpl.rcParams[\\'mathtext.fontset\\'] = \\'stix\\'\\n\\nseqcmap = mpl.cm.cool_r\\ntry:\\n    import seaborn as sns\\n    plt.rcParams[\\'axes.prop_cycle\\'] = plt.cycler(color=sns.color_palette(\\'deep\\'))\\n    # seqcmap = sns.color_palette(\"crest_r\", as_cmap=True)\\nexcept ImportError as e:\\n    print(\\'Seaborn not available, default to matplotlib color scheme\\')\\n\\nuse_torch = True\\ncluster_path = \\'/share/ctn/users/gy2259/olfaction_evolution\\'\\n',\n",
       "  'lang': 'python'}]"
      ]
     },
     "execution_count": 13,
     "metadata": {},
     "output_type": "execute_result"
    }
   ],
   "source": [
    "empty_data[:2]"
   ]
  },
  {
   "cell_type": "code",
   "execution_count": 21,
   "metadata": {},
   "outputs": [
    {
     "name": "stdout",
     "output_type": "stream",
     "text": [
      "32866\n"
     ]
    }
   ],
   "source": [
    "import json  \n",
    "import re  \n",
    "  \n",
    "# 文件路径  \n",
    "output_file_path = '/mnt/lingjiejiang/multimodal_code/data/chart_data/github_chart/merged_empty_data.json'  \n",
    "  \n",
    "# 读取 JSON 数据  \n",
    "with open(output_file_path, 'r') as f:  \n",
    "    chart_data = json.load(f)  \n",
    "print(len(chart_data)) \n",
    "# 正则表达式模式  \n",
    "pattern = r'\"\"\".*?\"\"\"'  \n",
    "  \n",
    "# 处理每个字典中的 `text` 字段  \n",
    "for item in chart_data:  \n",
    "    if 'text' in item:  \n",
    "        item['text'] = re.sub(pattern, '', item['text'], flags=re.DOTALL)  \n",
    "        item[\"text\"] = item[\"text\"].strip()\n",
    "        item.pop(\"revised_text\")\n",
    "        item.pop(\"gpt_answer\")\n",
    "        item.pop(\"category\")\n",
    "        item.pop(\"chart_size\")\n",
    "# # 如果你想将修改后的数据保存回文件中，可以使用以下代码  \n",
    "# with open(output_file_path, 'w') as f:  \n",
    "#     json.dump(chart_data, f, indent=4)  \n",
    "  \n",
    "modify_path = \"/mnt/lingjiejiang/multimodal_code/data/chart_data/github_chart/merged_empty_data_processed.json\"\n",
    "# 如果你不想覆盖原始文件，可以将其保存到另一个文件中  \n",
    "with open(modify_path, 'w') as f:  \n",
    "    json.dump(chart_data, f, indent=4)  "
   ]
  },
  {
   "cell_type": "code",
   "execution_count": 19,
   "metadata": {},
   "outputs": [
    {
     "data": {
      "text/plain": [
       "32866"
      ]
     },
     "execution_count": 19,
     "metadata": {},
     "output_type": "execute_result"
    }
   ],
   "source": [
    "with open(modify_path, 'r') as f:\n",
    "    empty_data = json.load(f)\n",
    "len(empty_data)"
   ]
  },
  {
   "cell_type": "code",
   "execution_count": 7,
   "metadata": {},
   "outputs": [
    {
     "data": {
      "text/plain": [
       "[{'index': 31,\n",
       "  'revised_text': 'import matplotlib.pyplot as plt  \\nimport numpy as np  \\n\\n# Data\\nx = np.array([0, 5, 2])  \\ny = np.array([0, 1, 3])  \\n\\n# Create a figure\\nfig = plt.figure(figsize=(6.0, 4.0))  \\nax = fig.add_subplot(111)  \\n\\n# Plot the data\\nax.plot(x, y)  \\n\\n# Show the plot\\nplt.show()',\n",
       "  'category': 'Line',\n",
       "  'chart_size': [6.0, 4.0],\n",
       "  'gpt_answer': \"Sure, let's modify the code according to the requirements:\\n\\n<REVISED CODE BEGIN>  \\nimport matplotlib.pyplot as plt  \\nimport numpy as np  \\n\\n# Data\\nx = np.array([0, 5, 2])  \\ny = np.array([0, 1, 3])  \\n\\n# Create a figure\\nfig = plt.figure(figsize=(6.0, 4.0))  \\nax = fig.add_subplot(111)  \\n\\n# Plot the data\\nax.plot(x, y)  \\n\\n# Show the plot\\nplt.show()  \\n<REVISED CODE END>  \\n  \\n<CATEGORY>: [Line]  \\n<CHART SIZE>: (6.0, 4.0)  \",\n",
       "  'max_stars_repo_path': 'basicplot.py',\n",
       "  'max_stars_repo_name': 'sirgogo/docker-meep',\n",
       "  'max_stars_count': 2,\n",
       "  'id': '28045',\n",
       "  'text': \"import matplotlib\\nmatplotlib.use('Agg') # this lets us do some headless stuff\\nimport matplotlib.pylab as plt\\nimport numpy as np\\n\\nx = np.asarray([0,5,2])\\ny = np.asarray([0,1,3])\\nf = plt.figure()\\nax = f.add_subplot(111)\\nax.plot(x,y)\\n#plt.show() # we have a headless display, can't do this!\\nf.savefig('basicplot.eps',format='eps',orientation='portrait',transparent=True,dpi=5e4)\",\n",
       "  'lang': 'python'},\n",
       " {'index': 9,\n",
       "  'revised_text': 'import numpy as np  \\nimport matplotlib.pyplot as plt  \\n  \\n# Create a new figure  \\nfig = plt.figure(figsize=(5, 4))  \\naxes = fig.add_axes([0.01, 0.01, .98, 0.98])  \\n\\n# Sample data for the plot\\nX = np.linspace(0, 2, 200)  \\nY = np.sin(2 * np.pi * X)  \\n\\n# Plot the data\\nplt.plot(X, Y, lw=2)  \\n\\n# Set limits and grid\\nplt.ylim(-1.1, 1.1)  \\nplt.grid()  \\n\\n# Display the plot\\nplt.show()',\n",
       "  'category': 'Line',\n",
       "  'chart_size': [5.0, 4.0],\n",
       "  'gpt_answer': '<REVISED CODE BEGIN>  \\nimport numpy as np  \\nimport matplotlib.pyplot as plt  \\n  \\n# Create a new figure  \\nfig = plt.figure(figsize=(5, 4))  \\naxes = fig.add_axes([0.01, 0.01, .98, 0.98])  \\n\\n# Sample data for the plot\\nX = np.linspace(0, 2, 200)  \\nY = np.sin(2 * np.pi * X)  \\n\\n# Plot the data\\nplt.plot(X, Y, lw=2)  \\n\\n# Set limits and grid\\nplt.ylim(-1.1, 1.1)  \\nplt.grid()  \\n\\n# Display the plot\\nplt.show()  \\n<REVISED CODE END>  \\n  \\n<CATEGORY>: [Line]  \\n<CHART SIZE>: (5.0, 4.0)  ',\n",
       "  'max_stars_repo_path': 'intro/matplotlib/examples/plot_good.py',\n",
       "  'max_stars_repo_name': 'zmoon/scipy-lecture-notes',\n",
       "  'max_stars_count': 2538,\n",
       "  'id': '8883',\n",
       "  'text': \"import numpy as np\\nimport matplotlib\\nmatplotlib.use('Agg')\\nimport matplotlib.pyplot as plt\\n\\nfig = plt.figure(figsize=(5, 4), dpi=72)\\naxes = fig.add_axes([0.01, 0.01, .98, 0.98])\\nX = np.linspace(0, 2, 200)\\nY = np.sin(2*np.pi*X)\\nplt.plot(X, Y, lw=2)\\nplt.ylim(-1.1, 1.1)\\nplt.grid()\\n\\nplt.show()\",\n",
       "  'lang': 'python'}]"
      ]
     },
     "execution_count": 7,
     "metadata": {},
     "output_type": "execute_result"
    }
   ],
   "source": [
    "import json\n",
    "input_path = '/mnt/lingjiejiang/multimodal_code/data/chart_data/revised_code_supply/final_output_empty.json'\n",
    "with open(input_path, 'r') as f:\n",
    "    revised_data_v2 = json.load(f)\n",
    "revised_data_v2[:2]"
   ]
  },
  {
   "cell_type": "code",
   "execution_count": 3,
   "metadata": {},
   "outputs": [
    {
     "data": {
      "text/plain": [
       "32565"
      ]
     },
     "execution_count": 3,
     "metadata": {},
     "output_type": "execute_result"
    }
   ],
   "source": [
    "non_empty_data = [item for item in revised_data if item[\"revised_text\"] != \"\"]\n",
    "len(non_empty_data)"
   ]
  },
  {
   "cell_type": "code",
   "execution_count": 5,
   "metadata": {},
   "outputs": [
    {
     "data": {
      "text/plain": [
       "129262"
      ]
     },
     "execution_count": 5,
     "metadata": {},
     "output_type": "execute_result"
    }
   ],
   "source": [
    "revised_path = \"/mnt/lingjiejiang/multimodal_code/data/chart_data/revised_code/final_output.json\"\n",
    "with open(revised_path, 'r') as f:\n",
    "    revised_data = json.load(f)\n",
    "len(revised_data)"
   ]
  },
  {
   "cell_type": "code",
   "execution_count": 6,
   "metadata": {},
   "outputs": [
    {
     "data": {
      "text/plain": [
       "96396"
      ]
     },
     "execution_count": 6,
     "metadata": {},
     "output_type": "execute_result"
    }
   ],
   "source": [
    "non_empty_data_v1 = [item for item in revised_data if item[\"revised_text\"] != \"\"]\n",
    "len(non_empty_data_v1)"
   ]
  },
  {
   "cell_type": "code",
   "execution_count": null,
   "metadata": {},
   "outputs": [],
   "source": []
  },
  {
   "cell_type": "code",
   "execution_count": 9,
   "metadata": {},
   "outputs": [
    {
     "data": {
      "text/plain": [
       "32565"
      ]
     },
     "execution_count": 9,
     "metadata": {},
     "output_type": "execute_result"
    }
   ],
   "source": [
    "non_empty_data_v2 = [item for item in revised_data_v2 if item[\"revised_text\"] != \"\"]\n",
    "len(non_empty_data_v2)"
   ]
  },
  {
   "cell_type": "code",
   "execution_count": 28,
   "metadata": {},
   "outputs": [],
   "source": [
    "for item in non_empty_data_v1:\n",
    "    item[\"source\"] = \"v1\"  \n",
    "for item in non_empty_data_v2:\n",
    "    item[\"source\"] = \"v2\""
   ]
  },
  {
   "cell_type": "code",
   "execution_count": 29,
   "metadata": {},
   "outputs": [
    {
     "data": {
      "text/plain": [
       "128961"
      ]
     },
     "execution_count": 29,
     "metadata": {},
     "output_type": "execute_result"
    }
   ],
   "source": [
    "merged_data = non_empty_data_v1 + non_empty_data_v2\n",
    "len(merged_data)"
   ]
  },
  {
   "cell_type": "code",
   "execution_count": 30,
   "metadata": {},
   "outputs": [
    {
     "data": {
      "text/plain": [
       "128961"
      ]
     },
     "execution_count": 30,
     "metadata": {},
     "output_type": "execute_result"
    }
   ],
   "source": [
    "unique_idx = set()\n",
    "unique_data = []\n",
    "for item in merged_data:\n",
    "    if item[\"index\"] not in unique_idx:\n",
    "        unique_idx.add(item[\"index\"])\n",
    "        unique_data.append(item)\n",
    "len(unique_data)"
   ]
  },
  {
   "cell_type": "code",
   "execution_count": 15,
   "metadata": {},
   "outputs": [],
   "source": [
    "save_path = \"/mnt/lingjiejiang/multimodal_code/data/chart_data/unique_revised_data_128k.json\"\n",
    "with open(save_path, 'w') as outfile:  \n",
    "    json.dump(unique_data, outfile, indent=0)"
   ]
  },
  {
   "cell_type": "code",
   "execution_count": 61,
   "metadata": {},
   "outputs": [
    {
     "data": {
      "text/plain": [
       "128961"
      ]
     },
     "execution_count": 61,
     "metadata": {},
     "output_type": "execute_result"
    }
   ],
   "source": [
    "save_path = \"/mnt/lingjiejiang/multimodal_code/data/chart_data/unique_revised_data_128k.json\"\n",
    "with open(save_path, 'r') as f:\n",
    "    unique_data = json.load(f)\n",
    "len(unique_data)"
   ]
  },
  {
   "cell_type": "code",
   "execution_count": 76,
   "metadata": {},
   "outputs": [
    {
     "data": {
      "text/plain": [
       "128957"
      ]
     },
     "execution_count": 76,
     "metadata": {},
     "output_type": "execute_result"
    }
   ],
   "source": [
    "filtered_data = [item for item in unique_data if 'xkcd()' not in item[\"revised_text\"]] \n",
    "for idx, item in enumerate(filtered_data):\n",
    "    item[\"index\"] = idx\n",
    "len(filtered_data)"
   ]
  },
  {
   "cell_type": "code",
   "execution_count": null,
   "metadata": {},
   "outputs": [],
   "source": []
  },
  {
   "cell_type": "code",
   "execution_count": 80,
   "metadata": {},
   "outputs": [],
   "source": [
    "base_dir = \"/mnt/lingjiejiang/multimodal_code/data/chart_data/github_images/images_split\"  \n",
    "split_size = 35000  \n",
    "  \n",
    "for item in filtered_data:  \n",
    "    index = item[\"index\"]  \n",
    "    index_name = f\"{index + 1:06d}\"  \n",
    "      \n",
    "    # 计算当前文件应该放到哪个目录  \n",
    "    split_index = index // split_size + 1  \n",
    "    directory = f\"{base_dir}{split_index}\"  \n",
    "      \n",
    "    # 创建该目录的路径  \n",
    "    item[\"images\"] = f\"{directory}/{index_name}.jpg\"  "
   ]
  },
  {
   "cell_type": "code",
   "execution_count": 87,
   "metadata": {},
   "outputs": [
    {
     "data": {
      "text/plain": [
       "{'index': 120000,\n",
       " 'revised_text': 'import matplotlib.pyplot as plt\\nimport numpy as np\\n\\n# Sample data\\nx = np.array([0, 1, 2, 3])\\ny = np.array([3, 8, 1, 10])\\n\\n# Create a new figure with specified size\\nplt.figure(figsize=(6.0, 4.0))\\n\\n# Plot the data\\nplt.plot(x, y)\\n\\n# Set labels for axes and title\\nplt.xlabel(\"X-axis\")\\nplt.ylabel(\"Y-axis\")\\nplt.title(\"Sample Line Plot\")\\n\\n# Show the plot\\nplt.show()',\n",
       " 'category': 'Line',\n",
       " 'chart_size': [6.0, 4.0],\n",
       " 'gpt_answer': '```python\\n<REVISED CODE BEGIN>\\nimport matplotlib.pyplot as plt\\nimport numpy as np\\n\\n# Sample data\\nx = np.array([0, 1, 2, 3])\\ny = np.array([3, 8, 1, 10])\\n\\n# Create a new figure with specified size\\nplt.figure(figsize=(6.0, 4.0))\\n\\n# Plot the data\\nplt.plot(x, y)\\n\\n# Set labels for axes and title\\nplt.xlabel(\"X-axis\")\\nplt.ylabel(\"Y-axis\")\\nplt.title(\"Sample Line Plot\")\\n\\n# Show the plot\\nplt.show()\\n<REVISED CODE END>\\n\\n<CATEGORY>: [Line]\\n<CHART SIZE>: (6.0, 4.0)\\n```',\n",
       " 'max_stars_repo_path': 'W3Schools/matplotlib.py',\n",
       " 'max_stars_repo_name': 'FRX-DEV/Python-Practice-Challenges',\n",
       " 'max_stars_count': 0,\n",
       " 'id': '9423995',\n",
       " 'text': '<filename>W3Schools/matplotlib.py<gh_stars>0\\nimport matplotlib\\n\\nprint(matplotlib.__version__)\\n\\nimport matplotlib.pyplot as plt\\nimport numpy as np\\n\\nxpoints = np.array([0, 6])\\nypoints = np.array([0, 250])\\n\\nplt.plot(xpoints, ypoints)\\nplt.show()\\n\\nxpoints = np.array([1, 8])\\nypoints = np.array([3, 10])\\n\\nplt.plot(xpoints, ypoints, \\'o\\')\\nplt.show()\\n\\n# Draw a line in a diagram from position (1, 3) to (2, 8) then to (6, 1) and finally to position (8, 10)\\nxpoints = np.array([1, 2, 6, 8])\\nypoints = np.array([3, 8, 1, 10])\\n\\nplt.plot(xpoints, ypoints)\\nplt.show()\\n\\nypoints = np.array([3, 8, 1, 10, 5, 7])\\n\\nplt.plot(ypoints)\\nplt.show()\\n\\nypoints = np.array([3, 8, 1, 10])\\n\\nplt.plot(ypoints, marker = \\'o\\')\\nplt.show()\\n\\nplt.plot(ypoints, marker = \\'*\\')\\nplt.show()\\n\\nplt.plot(ypoints, \\'o:r\\')\\nplt.show()\\n\\nplt.plot(ypoints, marker = \\'o\\', ms = 20)\\nplt.show()\\n\\nplt.plot(ypoints, marker = \\'o\\', ms = 20, mec = \\'r\\')\\nplt.show()\\n\\nplt.plot(ypoints, marker = \\'o\\', ms = 20, mfc = \\'r\\')\\nplt.show()\\n\\nplt.plot(ypoints, marker = \\'o\\', ms = 20, mec = \\'r\\', mfc = \\'r\\')\\nplt.show()\\n\\nplt.plot(ypoints, marker = \\'o\\', ms = 20, mec = \\'#4CAF50\\', mfc = \\'#4CAF50\\')\\nplt.show()\\n\\nplt.plot(ypoints, marker = \\'o\\', ms = 20, mec = \\'hotpink\\', mfc = \\'hotpink\\')\\nplt.show()\\n\\nplt.plot(ypoints, linestyle = \\'dotted\\')\\nplt.show()\\n\\nplt.plot(ypoints, linestyle = \\'dashed\\')\\nplt.show()\\n\\nplt.plot(ypoints, ls = \\':\\')\\nplt.show()\\n\\nplt.plot(ypoints, color = \\'r\\')\\nplt.show()\\n\\nplt.plot(ypoints, color = \\'#4CAF50\\')\\nplt.show()\\n\\nplt.plot(ypoints, color = \\'hotpink\\')\\nplt.show()\\n\\nplt.plot(ypoints, linewidth = 20.5)\\nplt.show()\\n\\ny1 = np.array([3, 8, 1, 10])\\ny2 = np.array([6, 2, 7, 11])\\n\\nplt.plot(y1)\\nplt.plot(y2)\\n\\nplt.show()\\n\\nx1 = np.array([0, 1, 2, 3])\\ny1 = np.array([3, 8, 1, 10])\\nx2 = np.array([0, 1, 2, 3])\\ny2 = np.array([6, 2, 7, 11])\\n\\nplt.plot(x1, y1, x2, y2)\\nplt.show()\\n\\nx = np.array([80, 85, 90, 95, 100, 105, 110, 115, 120, 125])\\ny = np.array([240, 250, 260, 270, 280, 290, 300, 310, 320, 330])\\n\\nfont1 = {\\'family\\':\\'serif\\', \\'color\\':\\'blue\\', \\'size\\':20}\\nfont2 = {\\'family\\':\\'serif\\', \\'color\\':\\'darkred\\', \\'size\\':15}\\n\\n\\nplt.title(\"Sports Watch Data\", fontdict = font1)\\nplt.xlabel(\"Average Pulse\", fontdict = font2)\\nplt.ylabel(\"Calorie Burnage\", fontdict = font2)\\n\\nplt.plot(x, y)\\nplt.show()\\n\\nplt.title(\"Sports Watch Data\", loc = \\'left\\')\\nplt.xlabel(\"Average Pulse\")\\nplt.ylabel(\"Calorie Burnage\")\\n\\nplt.plot(x, y)\\nplt.show()\\n\\nplt.title(\"Sports Watch Data\")\\nplt.xlabel(\"Average Pulse\")\\nplt.ylabel(\"Calorie Burnage\")\\n\\nplt.plot(x, y)\\nplt.grid(axis = \\'y\\')\\nplt.show()\\n\\nplt.plot(x, y)\\nplt.grid(color = \\'green\\', linestyle = \\'--\\', linewidth = 0.5)\\n\\nx = np.array([0, 1, 2, 3])\\ny = np.array([3, 8, 1, 10])\\n\\nplt.subplot(1, 2, 1)\\nplt.plot(x, y)\\n\\nx = np.array([0, 1, 2, 3])\\ny = np.array([10, 20, 30, 40])\\n\\nplt.subplot(1, 2, 2)\\nplt.plot(x, y)\\n\\nplt.show()\\n\\nx = np.array([0, 1, 2, 3])\\ny = np.array([3, 8, 1, 10])\\n\\nplt.subplot(2, 1, 1)\\nplt.plot(x, y)\\n\\nx = np.array([0, 1, 2, 3])\\ny = np.array([10, 20, 30, 40])\\n\\nplt.subplot(2, 1, 2)\\nplt.plot(x, y)\\n\\nplt.show()\\n\\nx = np.array([0, 1, 2, 3])\\ny = np.array([3, 8, 1, 10])\\n\\nplt.subplot(2, 3, 1)\\nplt.plot(x, y)\\n\\nx = np.array([0, 1, 2, 3])\\ny = np.array([10, 20, 30, 40])\\n\\nplt.subplot(2, 3, 2)\\nplt.plot(x, y)\\n\\nx = np.array([0, 1, 2, 3])\\ny = np.array([3, 8, 1, 10])\\n\\nplt.subplot(2, 3, 3)\\nplt.plot(x, y)\\n\\nx = np.array([0, 1, 2, 3])\\ny = np.array([10, 20, 30, 40])\\n\\nplt.subplot(2, 3, 4)\\nplt.plot(x, y)\\n\\nx = np.array([0, 1, 2, 3])\\ny = np.array([3, 8, 1, 10])\\n\\nplt.subplot(2, 3, 5)\\nplt.plot(x, y)\\n\\nx = np.array([0, 1, 2, 3])\\ny = np.array([10, 20, 30, 40])\\n\\nplt.subplot(2, 3, 6)\\nplt.plot(x, y)\\n\\nplt.show()\\n\\nx = np.array([0, 1, 2, 3])\\ny = np.array([3, 8, 1, 10])\\n\\nplt.subplot(1, 2, 1)\\nplt.plot(x, y)\\nplt.title(\"SALES\")\\n\\nx = np.array([0, 1, 2, 3])\\ny = np.array([10, 20, 30, 40])\\n\\nplt.subplot(1, 2, 2)\\nplt.plot(x, y)\\nplt.title(\"INCOME\")\\n\\nplt.suptitle(\"MY SHOP\")\\nplt.show()\\n\\nx = np.array([5,7,8,7,2,17,2,9,4,11,12,9,6])\\ny = np.array([99,86,87,88,111,86,103,87,94,78,77,85,86])\\nplt.scatter(x, y, color = \\'hotpink\\')\\n\\nx = np.array([2,2,8,1,15,8,12,9,7,3,11,4,7,14,12])\\ny = np.array([100,105,84,105,90,99,90,95,94,100,79,112,91,80,85])\\nplt.scatter(x, y, color = \\'#88c999\\')\\n\\nplt.show()\\n\\nx = np.array([5,7,8,7,2,17,2,9,4,11,12,9,6])\\ny = np.array([99,86,87,88,111,86,103,87,94,78,77,85,86])\\ncolors = np.array([\"red\",\"green\",\"blue\",\"yellow\",\"pink\",\"black\",\"orange\",\"purple\",\"beige\",\"brown\",\"gray\",\"cyan\",\"magenta\"])\\n\\nplt.scatter(x, y, c = colors)\\nplt.show()\\n\\nx = np.array([5,7,8,7,2,17,2,9,4,11,12,9,6])\\ny = np.array([99,86,87,88,111,86,103,87,94,78,77,85,86])\\ncolors = colors = np.array([0, 10, 20, 30, 40, 45, 50, 55, 60, 70, 80, 90, 100])\\n\\nplt.scatter(x, y, c = colors, cmap = \\'viridis\\')\\nplt.colorbar()\\nplt.show()\\n\\nx = np.array([5,7,8,7,2,17,2,9,4,11,12,9,6])\\ny = np.array([99,86,87,88,111,86,103,87,94,78,77,85,86])\\nsizes = np.array([20,50,100,200,500,1000,60,90,10,300,600,800,75])\\n\\nplt.scatter(x, y, s = sizes, alpha = 0.5)\\nplt.show()\\n\\nx = np.random.randint(100, size = (100))\\ny = np.random.randint(100, size = (100))\\ncolors = np.random.randint(100, size = (100))\\nsizes = 10 * np.random.randint(100, size = (100))\\n\\nplt.scatter(x, y, c = colors, s = sizes, alpha = 0.5, cmap = \\'nipy_spectral\\')\\nplt.colorbar()\\nplt.show()\\n\\nx = np.array([\"A\", \"B\", \"C\", \"D\"])\\ny = np.array([3, 8, 1, 10])\\n\\nplt.bar(x, y)\\nplt.show()\\n\\nx = [\"APPLES\", \"BANANAS\"]\\ny = [400, 350]\\n\\nplt.bar(x, y)\\nplt.show()\\n\\nx = np.array([\"A\", \"B\", \"C\", \"D\"])\\ny = np.array([3, 8, 1, 10])\\n\\nplt.barh(x, y)\\nplt.show()\\n\\nplt.bar(x, y, color = \\'red\\')\\nplt.show()\\n\\nplt.bar(x, y, color = \\'hotpink\\')\\nplt.show()\\n\\nplt.bar(x, y, color = \\'#4CAF50\\')\\nplt.show()\\n\\nplt.bar(x, y, width = 0.1)\\nplt.show()\\n\\nplt.barh(x, y, height = 0.1)\\nplt.show()\\n\\nx = np.random.normal(170, 10, 250)\\n\\nplt.hist(x)\\nplt.show()\\n\\ny = np.array([35, 25, 25, 15])\\nmylabels = [\"Apples\", \"Bananas\", \"Cherries\", \"Dates\"]\\nmycolors = [\"black\", \"hotpink\", \"b\", \"#4CAF50\"]\\nmyexplode = [0.2, 0, 0, 0]\\n\\nplt.pie(y, labels = mylabels, startangle = 90)\\nplt.show()\\n\\nplt.pie(y, labels = mylabels, explode = myexplode, shadow = True)\\nplt.show()\\n\\nplt.pie(y, labels = mylabels, colors = mycolors)\\nplt.show()\\n\\nplt.pie(y, labels = mylabels)\\nplt.legend(title = \"Four Fruits:\")\\nplt.show()',\n",
       " 'lang': 'python',\n",
       " 'formatted_text': '```python\\nimport matplotlib.pyplot as plt\\nimport numpy as np\\n\\n# Sample data\\nx = np.array([0, 1, 2, 3])\\ny = np.array([3, 8, 1, 10])\\n\\n# Create a new figure with specified size\\nplt.figure(figsize=(6.0, 4.0))\\n\\n# Plot the data\\nplt.plot(x, y)\\n\\n# Set labels for axes and title\\nplt.xlabel(\"X-axis\")\\nplt.ylabel(\"Y-axis\")\\nplt.title(\"Sample Line Plot\")\\n\\n# Show the plot\\nplt.show()\\n```',\n",
       " 'source': 'v2',\n",
       " 'images': '/mnt/lingjiejiang/multimodal_code/data/chart_data/github_images/images_split4/120001.jpg'}"
      ]
     },
     "execution_count": 87,
     "metadata": {},
     "output_type": "execute_result"
    }
   ],
   "source": [
    "filtered_data[120000]"
   ]
  },
  {
   "cell_type": "code",
   "execution_count": 74,
   "metadata": {},
   "outputs": [
    {
     "data": {
      "text/plain": [
       "{'index': 34999,\n",
       " 'revised_text': \"import matplotlib.pyplot as plt  \\nimport numpy as np  \\n\\n# Sample data\\nx = np.array([1, 2, 3, 4, 5])\\ny = np.array([2, 3, 5, 7, 11])\\n\\n# Create a new figure\\nplt.figure(figsize=(8.0, 6.0))\\n\\n# Plot the data\\nplt.plot(x, y, marker='o', label='Sample Data')\\n\\n# Set labels\\nplt.xlabel('Number of Carriers')\\nplt.ylabel('Throughput per gNB, Mbps')\\n\\n# Add a legend\\nplt.legend()\\n\\n# Show the plot\\nplt.show()\",\n",
       " 'category': 'Line',\n",
       " 'chart_size': [8.0, 6.0],\n",
       " 'gpt_answer': \"<REVISED CODE BEGIN>  \\nimport matplotlib.pyplot as plt  \\nimport numpy as np  \\n\\n# Sample data\\nx = np.array([1, 2, 3, 4, 5])\\ny = np.array([2, 3, 5, 7, 11])\\n\\n# Create a new figure\\nplt.figure(figsize=(8.0, 6.0))\\n\\n# Plot the data\\nplt.plot(x, y, marker='o', label='Sample Data')\\n\\n# Set labels\\nplt.xlabel('Number of Carriers')\\nplt.ylabel('Throughput per gNB, Mbps')\\n\\n# Add a legend\\nplt.legend()\\n\\n# Show the plot\\nplt.show()  \\n<REVISED CODE END>  \\n\\n<CATEGORY>: [Line]  \\n<CHART SIZE>: (8.0, 6.0)  \",\n",
       " 'max_stars_repo_path': 'scenarios/scripts/plot_scenario1.py',\n",
       " 'max_stars_repo_name': 'ZeronSix/nru-wifi-coexistence-simulator',\n",
       " 'max_stars_count': 0,\n",
       " 'id': '938148',\n",
       " 'text': \"#!/usr/bin/env python3\\n\\nimport pandas as pd\\nimport numpy as np\\nimport matplotlib.pyplot as plt\\n\\ndf = pd.read_csv('../results/scenario1.tsv', sep='\\\\t', index_col=False, header=0)\\nbianchi_df = pd.read_csv('../results/bianchi.tsv', sep='\\\\t', index_col=False, header=0)\\n\\nnum_enbs = [1, 2, 5, 7, 10]\\ncarriers = [1, 5, 6, 7, 8, 9, 10, 11, 12, 13, 16, 24, 32]\\nnum_wifi_stas = [0, 1, 2]\\n\\nfor N in num_enbs:\\n    for NW in num_wifi_stas:\\n        plt.cla()\\n\\n        T = 'numEnbs'\\n        X = 'numCarriers'\\n\\n        data = df[(df[T] == N) & (df['numWifiStas'] == NW)]\\n        lbt_a1_nosd = data[(data['lbtType'] == 'A1') & (data['D'] == 0)].groupby(X).agg([np.mean]).reset_index()\\n        lbt_a2_nosd = data[(data['lbtType'] == 'A2') & (data['D'] == 0)].groupby(X).agg([np.mean]).reset_index()\\n        lbt_a1_sd = data[(data['lbtType'] == 'A1') & (data['D'] == 10)].groupby(X).agg([np.mean]).reset_index()\\n        lbt_a2_sd = data[(data['lbtType'] == 'A2') & (data['D'] == 10)].groupby(X).agg([np.mean]).reset_index()\\n        lbt_b_f = data[(data['lbtType'] == 'B') & (data['primary'] == 'fixed')].groupby(X).agg([np.mean]).reset_index()\\n        lbt_b_rr = data[(data['lbtType'] == 'B') & (data['primary'] == 'roundrobin')].groupby(X).agg([np.mean]).reset_index()\\n        lbt_b_rand = data[(data['lbtType'] == 'B') & (data['primary'] == 'random')].groupby(X).agg([np.mean]).reset_index()\\n        lbt_b2_f = data[(data['lbtType'] == 'B2') & (data['primary'] == 'fixed')].groupby(X).agg([np.mean]).reset_index()\\n        lbt_b2_rr = data[(data['lbtType'] == 'B2') & (data['primary'] == 'roundrobin')].groupby(X).agg([np.mean]).reset_index()\\n        lbt_b2_rand = data[(data['lbtType'] == 'B2') & (data['primary'] == 'random')].groupby(X).agg([np.mean]).reset_index()\\n\\n        max_throughput = N ##lbt_a1_nosd[X] # lbt_a1[X] # lbt_a1['numCarriers'] * 75 * N\\n        # if N == 5 and NW == 0:\\n        #     print(list(lbt_a1_nosd[X]))\\n        #     print(list(lbt_a1_nosd['laaThroughput']['mean'] / max_throughput))\\n        #     print(list(lbt_a2_nosd['laaThroughput']['mean'] / max_throughput))\\n        #     print(list(lbt_a2_sd['laaThroughput']['mean'] / max_throughput))\\n        #     print(list(lbt_a2_sd['laaThroughput']['mean'] / max_throughput))\\n        #     print(list(lbt_b_rr['laaThroughput']['mean'] / max_throughput))\\n        plt.plot(lbt_a1_nosd[X], lbt_a1_nosd['laaThroughput']['mean'] / max_throughput, label=f'A1 без SD', marker='^')\\n        plt.plot(lbt_a2_nosd[X], lbt_a2_nosd['laaThroughput']['mean'] / max_throughput, label=f'A2 без SD', marker='*')\\n        plt.plot(lbt_a1_sd[X], lbt_a1_sd['laaThroughput']['mean'] / max_throughput, label=f'A1 с SD', marker='v')\\n        plt.plot(lbt_a2_sd[X], lbt_a2_sd['laaThroughput']['mean'] / max_throughput, label=f'A2 с SD', marker='o')\\n        # plt.plot(lbt_b_f[X], lbt_b_f['laaThroughput']['mean'] / max_throughput, label=f'B1 Fixed', marker='d', linestyle='--', color='r')\\n        plt.plot(lbt_b_rr[X], lbt_b_rr['laaThroughput']['mean'] / max_throughput, label=f'B1 Even', marker='x', linestyle='-.')\\n        # plt.plot(lbt_b_rand[X], lbt_b_rand['laaThroughput']['mean'] / max_throughput, label=f'B1 Random', marker='|', linestyle=':', linewidth=2, color='r')\\n\\n        # plt.plot(lbt_b2_f[X], lbt_b2_f['laaThroughput']['mean'] / max_throughput, label=f'B2 Fixed', marker='d', linestyle='--', color='b')\\n        plt.plot(lbt_b2_rr[X], lbt_b2_rr['laaThroughput']['mean'] / max_throughput, label=f'B2 Even', marker='|', linestyle='-.')\\n        # plt.plot(lbt_b2_rand[X], lbt_b2_rand['laaThroughput']['mean'] / max_throughput, label=f'B2 Random', marker='|', linestyle=':', linewidth=2, color='b')\\n\\n        plt.grid(True)\\n        plt.legend(loc='best')\\n        # plt.xlabel('Number of channels')\\n        # plt.ylabel('NR-U throughput per gNB, Mbps')\\n        plt.xlabel('Число каналов')\\n        plt.ylabel('Пропускная способность NR-U в расчете на gNB, Мбит/с')\\n        plt.tight_layout()\\n        plt.savefig(f'../plots/pdf/scenario1_nru_Z_{N}_{NW}.pdf')\\n        plt.savefig(f'../plots/png/scenario1_nru_Z_{N}_{NW}.png')\\n        plt.show()\\n\\nfor N in num_enbs:\\n    for NW in num_wifi_stas:\\n        plt.cla()\\n\\n        T = 'numEnbs'\\n        X = 'numCarriers'\\n\\n        data = df[(df[T] == N) & (df['numWifiStas'] == NW)]\\n        lbt_a1_nosd = data[(data['lbtType'] == 'A1') & (data['D'] == 0)].groupby(X).agg([np.mean]).reset_index()\\n        lbt_a2_nosd = data[(data['lbtType'] == 'A2') & (data['D'] == 0)].groupby(X).agg([np.mean]).reset_index()\\n        lbt_a1_sd = data[(data['lbtType'] == 'A1') & (data['D'] == 10)].groupby(X).agg([np.mean]).reset_index()\\n        lbt_a2_sd = data[(data['lbtType'] == 'A2') & (data['D'] == 10)].groupby(X).agg([np.mean]).reset_index()\\n        lbt_b1_f = data[(data['lbtType'] == 'B') & (data['primary'] == 'fixed')].groupby(X).agg([np.mean]).reset_index()\\n        lbt_b1_rr = data[(data['lbtType'] == 'B') & (data['primary'] == 'roundrobin')].groupby(X).agg([np.mean]).reset_index()\\n        lbt_b1_rand = data[(data['lbtType'] == 'B') & (data['primary'] == 'random')].groupby(X).agg([np.mean]).reset_index()\\n        lbt_b2_f = data[(data['lbtType'] == 'B2') & (data['primary'] == 'fixed')].groupby(X).agg([np.mean]).reset_index()\\n        lbt_b2_rr = data[(data['lbtType'] == 'B2') & (data['primary'] == 'roundrobin')].groupby(X).agg([np.mean]).reset_index()\\n        lbt_b2_rand = data[(data['lbtType'] == 'B2') & (data['primary'] == 'random')].groupby(X).agg([np.mean]).reset_index()\\n\\n        baseline = lbt_a1_nosd[X] * 75 / 100.0\\n\\n        plt.plot(lbt_a1_nosd[X], (lbt_a1_nosd['laaThroughput']['mean'] + lbt_a1_nosd['wifiThroughput']['mean']) / baseline, label=f'A1 без SD', marker='^')\\n        plt.plot(lbt_a2_nosd[X], (lbt_a2_nosd['laaThroughput']['mean'] + lbt_a2_nosd['wifiThroughput']['mean']) / baseline, label=f'A2 без SD', marker='*')\\n        plt.plot(lbt_a1_sd[X], (lbt_a1_sd['laaThroughput']['mean'] + lbt_a1_sd['wifiThroughput']['mean']) / baseline, label=f'A1 с SD', marker='v')\\n        plt.plot(lbt_a2_sd[X], (lbt_a2_sd['laaThroughput']['mean'] + lbt_a2_sd['wifiThroughput']['mean']) / baseline, label=f'A2 c SD', marker='o')\\n        #plt.plot(lbt_b1_f[X], (lbt_b1_f['laaThroughput']['mean'] + lbt_b1_f['wifiThroughput']['mean']) / baseline, label=f'B1 Fixed', marker='d', linestyle='--')\\n        plt.plot(lbt_b1_rr[X], (lbt_b1_rr['laaThroughput']['mean'] + lbt_b1_rr['wifiThroughput']['mean']) / baseline, label=f'B1 Even', marker='x', linestyle='-.')\\n        #plt.plot(lbt_b1_rand[X], (lbt_b1_rand['laaThroughput']['mean'] + lbt_b1_rand['wifiThroughput']['mean']) / baseline, label=f'B1 Random', marker='|', linestyle=':', linewidth=2)\\n        #plt.plot(lbt_b2_f[X], (lbt_b2_f['laaThroughput']['mean'] + lbt_b2_f['wifiThroughput']['mean']) / baseline, label=f'B2 Fixed', marker='d', linestyle='--')\\n        plt.plot(lbt_b2_rr[X], (lbt_b2_rr['laaThroughput']['mean'] + lbt_b2_rr['wifiThroughput']['mean']) / baseline, label=f'B2 Even', marker='|', linestyle='-.')\\n        #plt.plot(lbt_b2_rand[X], (lbt_b2_rand['laaThroughput']['mean'] + lbt_b2_rand['wifiThroughput']['mean']) / baseline, label=f'B2 Random', marker='x', linestyle=':', linewidth=2)\\n\\n        plt.grid(True)\\n        plt.legend(loc='best')\\n        # plt.xlabel('Number of channels')\\n        # plt.ylabel('Channel utilization, %')\\n        plt.xlabel('Число каналов')\\n        plt.ylabel('Коэффициент использования, %')\\n        plt.tight_layout()\\n        plt.savefig(f'../plots/pdf/scenario1_total_Z_{N}_{NW}.pdf')\\n        plt.savefig(f'../plots/png/scenario1_total_Z_{N}_{NW}.png')\\n        plt.show()\\n\\n\",\n",
       " 'lang': 'python',\n",
       " 'formatted_text': \"```python\\nimport matplotlib.pyplot as plt  \\nimport numpy as np  \\n\\n# Sample data\\nx = np.array([1, 2, 3, 4, 5])\\ny = np.array([2, 3, 5, 7, 11])\\n\\n# Create a new figure\\nplt.figure(figsize=(8.0, 6.0))\\n\\n# Plot the data\\nplt.plot(x, y, marker='o', label='Sample Data')\\n\\n# Set labels\\nplt.xlabel('Number of Carriers')\\nplt.ylabel('Throughput per gNB, Mbps')\\n\\n# Add a legend\\nplt.legend()\\n\\n# Show the plot\\nplt.show()\\n```\",\n",
       " 'source': 'v1',\n",
       " 'images': '/mnt/lingjiejiang/multimodal_code/data/chart_data/github_images/images_split1/035000.jpg'}"
      ]
     },
     "execution_count": 74,
     "metadata": {},
     "output_type": "execute_result"
    }
   ],
   "source": [
    "filtered_data[34997]"
   ]
  },
  {
   "cell_type": "code",
   "execution_count": 88,
   "metadata": {},
   "outputs": [],
   "source": [
    "filtered_data_path = \"/mnt/lingjiejiang/multimodal_code/data/chart_data/unique_revised_data_128k_filtered.json\"\n",
    "with open(filtered_data_path, 'w') as outfile:\n",
    "    json.dump(filtered_data, outfile, indent=0)"
   ]
  },
  {
   "cell_type": "code",
   "execution_count": 40,
   "metadata": {},
   "outputs": [
    {
     "data": {
      "text/plain": [
       "{'index': 12,\n",
       " 'revised_text': \"```python\\nimport matplotlib.pyplot as plt\\nimport numpy as np\\n\\n# Sample data\\nx = np.linspace(0, 10, 100)\\ny = np.sin(x)\\n\\n# Create a new figure\\nfig = plt.figure(figsize=(6.0, 4.0))\\n\\n# Plot the data\\nplt.plot(x, y, label='Sine Wave')\\n\\n# Set labels\\nplt.xlabel('X-axis')\\nplt.ylabel('Y-axis')\\n\\n# Add a legend\\nplt.legend()\\n\\n# Show the plot\\nplt.show()\\n```\",\n",
       " 'category': 'Line',\n",
       " 'chart_size': [6.0, 4.0],\n",
       " 'gpt_answer': \"## Code needs to be revised:\\n\\n```python\\nfrom matplotlib import colors\\nimport numpy as np\\n\\nclass SaveOutput:\\n    def __init__(self):\\n        self.outputs = []\\n\\n    def __call__(self, module, module_in, module_out):\\n        self.outputs.append(module_out)\\n\\n    def clear(self):\\n        self.outputs = []\\n\\nclass MidpointNormalize(colors.Normalize):\\n    def __init__(self, vmin=None, vmax=None, vcenter=None, clip=False):\\n        self.vcenter = vcenter\\n        colors.Normalize.__init__(self, vmin, vmax, clip)\\n\\n    def __call__(self, value, clip=None):\\n        # I'm ignoring masked values and all kinds of edge cases to make a\\n        # simple example...\\n        x, y = [self.vmin, self.vcenter, self.vmax], [self.vmin, self.vcenter, self.vmax]\\n        return np.ma.masked_array(np.interp(value, x, y))\\n```\\n\\n<REVISED CODE BEGIN>\\n```python\\nimport matplotlib.pyplot as plt\\nimport numpy as np\\n\\n# Sample data\\nx = np.linspace(0, 10, 100)\\ny = np.sin(x)\\n\\n# Create a new figure\\nfig = plt.figure(figsize=(6.0, 4.0))\\n\\n# Plot the data\\nplt.plot(x, y, label='Sine Wave')\\n\\n# Set labels\\nplt.xlabel('X-axis')\\nplt.ylabel('Y-axis')\\n\\n# Add a legend\\nplt.legend()\\n\\n# Show the plot\\nplt.show()\\n```\\n<REVISED CODE END>\\n\\n<CATEGORY>: [Line]  \\n<CHART SIZE>: (6.0, 4.0)  \",\n",
       " 'max_stars_repo_path': 'src/utils.py',\n",
       " 'max_stars_repo_name': 'f-grimaldi/explain_ML',\n",
       " 'max_stars_count': 1,\n",
       " 'id': '3656',\n",
       " 'text': \"from matplotlib import colors\\nimport numpy as np\\n\\nclass SaveOutput:\\n    def __init__(self):\\n        self.outputs = []\\n\\n    def __call__(self, module, module_in, module_out):\\n        self.outputs.append(module_out)\\n\\n    def clear(self):\\n        self.outputs = []\\n\\nclass MidpointNormalize(colors.Normalize):\\n    def __init__(self, vmin=None, vmax=None, vcenter=None, clip=False):\\n        self.vcenter = vcenter\\n        colors.Normalize.__init__(self, vmin, vmax, clip)\\n\\n    def __call__(self, value, clip=None):\\n        # I'm ignoring masked values and all kinds of edge cases to make a\\n        # simple example...\\n        x, y = [self.vmin, self.vcenter, self.vmax], [self.vmin, self.vcenter, self.vmax]\\n        return np.ma.masked_array(np.interp(value, x, y))\\n\",\n",
       " 'lang': 'python',\n",
       " 'formatted_text': \"'''python\\n```python\\nimport matplotlib.pyplot as plt\\nimport numpy as np\\n\\n# Sample data\\nx = np.linspace(0, 10, 100)\\ny = np.sin(x)\\n\\n# Create a new figure\\nfig = plt.figure(figsize=(6.0, 4.0))\\n\\n# Plot the data\\nplt.plot(x, y, label='Sine Wave')\\n\\n# Set labels\\nplt.xlabel('X-axis')\\nplt.ylabel('Y-axis')\\n\\n# Add a legend\\nplt.legend()\\n\\n# Show the plot\\nplt.show()\\n```\\n'''\",\n",
       " 'source': 'v1'}"
      ]
     },
     "execution_count": 40,
     "metadata": {},
     "output_type": "execute_result"
    }
   ],
   "source": [
    "unique_data[12]"
   ]
  },
  {
   "cell_type": "code",
   "execution_count": 56,
   "metadata": {},
   "outputs": [],
   "source": [
    "import re\n",
    "\n",
    "# 定义正则表达式来查找被 python 包裹的代码  \n",
    "pattern = re.compile(r\"```python(.*?)```\", re.DOTALL)  \n",
    "\n",
    "temp = []\n",
    "# 遍历数据并替换 revised_text 中被包裹的代码  \n",
    "for item in unique_data:  \n",
    "    revised_text = item.get('revised_text', '')  \n",
    "    match = pattern.search(revised_text)  \n",
    "    if match:  \n",
    "        # 提取包裹的代码  \n",
    "        code_content = match.group(1)  \n",
    "        # 用提取的代码替换 revised_text  \n",
    "        temp.append([item[\"revised_text\"], code_content.strip()  ])\n",
    "        # print(\"here\")\n",
    "        item['revised_text'] = code_content.strip()  \n"
   ]
  },
  {
   "cell_type": "code",
   "execution_count": 57,
   "metadata": {},
   "outputs": [
    {
     "data": {
      "text/plain": [
       "[[\"```python\\nimport matplotlib.pyplot as plt\\nimport numpy as np\\n\\n# Sample data\\nx = np.linspace(0, 10, 100)\\ny = np.sin(x)\\n\\n# Create a new figure\\nfig = plt.figure(figsize=(8.0, 6.0))\\n\\n# Plot the data\\nplt.plot(x, y, label='Sine Wave')\\n\\n# Set labels\\nplt.xlabel('X-axis')\\nplt.ylabel('Y-axis')\\nplt.title('Sine Wave Plot')\\n\\n# Add a legend\\nplt.legend()\\n\\n# Show the plot\\nplt.show()\\n```\",\n",
       "  \"import matplotlib.pyplot as plt\\nimport numpy as np\\n\\n# Sample data\\nx = np.linspace(0, 10, 100)\\ny = np.sin(x)\\n\\n# Create a new figure\\nfig = plt.figure(figsize=(8.0, 6.0))\\n\\n# Plot the data\\nplt.plot(x, y, label='Sine Wave')\\n\\n# Set labels\\nplt.xlabel('X-axis')\\nplt.ylabel('Y-axis')\\nplt.title('Sine Wave Plot')\\n\\n# Add a legend\\nplt.legend()\\n\\n# Show the plot\\nplt.show()\"],\n",
       " [\"```python\\nimport matplotlib.pyplot as plt  \\nimport numpy as np  \\n\\n# Sample data  \\nx = np.linspace(0, 10, 100)  \\ny = np.sin(x)  \\n\\n# Create a new figure  \\nplt.figure(figsize=(6.0, 4.0))  \\n\\n# Plot the data  \\nplt.plot(x, y, label='Sine Wave')  \\n\\n# Set labels  \\nplt.xlabel('X-axis')  \\nplt.ylabel('Y-axis')  \\nplt.title('Sine Wave')  \\n\\n# Show the plot  \\nplt.show()  \\n```\",\n",
       "  \"import matplotlib.pyplot as plt  \\nimport numpy as np  \\n\\n# Sample data  \\nx = np.linspace(0, 10, 100)  \\ny = np.sin(x)  \\n\\n# Create a new figure  \\nplt.figure(figsize=(6.0, 4.0))  \\n\\n# Plot the data  \\nplt.plot(x, y, label='Sine Wave')  \\n\\n# Set labels  \\nplt.xlabel('X-axis')  \\nplt.ylabel('Y-axis')  \\nplt.title('Sine Wave')  \\n\\n# Show the plot  \\nplt.show()\"]]"
      ]
     },
     "execution_count": 57,
     "metadata": {},
     "output_type": "execute_result"
    }
   ],
   "source": [
    "temp[:2]"
   ]
  },
  {
   "cell_type": "code",
   "execution_count": 58,
   "metadata": {},
   "outputs": [
    {
     "data": {
      "text/plain": [
       "12593"
      ]
     },
     "execution_count": 58,
     "metadata": {},
     "output_type": "execute_result"
    }
   ],
   "source": [
    "len(temp)"
   ]
  },
  {
   "cell_type": "code",
   "execution_count": 36,
   "metadata": {},
   "outputs": [
    {
     "data": {
      "text/plain": [
       "[{'index': 0,\n",
       "  'revised_text': \"import matplotlib.pyplot as plt  \\nimport numpy as np  \\n\\n# Sample data\\nnp.random.seed(0)\\nmatrix = np.random.rand(10, 10)\\n\\n# Create a new figure\\nplt.figure(figsize=(6, 12))\\n\\n# Plot the heatmap\\nplt.imshow(matrix, cmap='viridis', aspect='auto')\\n\\n# Set ticks\\nplt.xticks(np.arange(10))\\nplt.yticks(np.arange(10))\\n\\n# Show the plot\\nplt.show()\",\n",
       "  'category': 'Heatmap',\n",
       "  'chart_size': [6.0, 12.0],\n",
       "  'gpt_answer': \"<REVISED CODE BEGIN>  \\nimport matplotlib.pyplot as plt  \\nimport numpy as np  \\n\\n# Sample data\\nnp.random.seed(0)\\nmatrix = np.random.rand(10, 10)\\n\\n# Create a new figure\\nplt.figure(figsize=(6, 12))\\n\\n# Plot the heatmap\\nplt.imshow(matrix, cmap='viridis', aspect='auto')\\n\\n# Set ticks\\nplt.xticks(np.arange(10))\\nplt.yticks(np.arange(10))\\n\\n# Show the plot\\nplt.show()  \\n<REVISED CODE END>  \\n\\n<CATEGORY>: [Heatmap]  \\n<CHART SIZE>: (6, 12)  \",\n",
       "  'max_stars_repo_path': 'ml_datasets/utils.py',\n",
       "  'max_stars_repo_name': 'abkoesdw/ml-datasets',\n",
       "  'max_stars_count': 1,\n",
       "  'id': '2963',\n",
       "  'text': 'import matplotlib.pyplot as plt\\nimport matplotlib.gridspec as gridspec\\nimport sys\\nimport numpy as np\\nfrom matplotlib.colors import LinearSegmentedColormap\\nfrom matplotlib.colors import BoundaryNorm\\n\\n\\ndef plot_images(\\n    num_sample_perclass=10, x=None, y=None, labels=None, title=None, cmap=None\\n):\\n    grid_x = num_sample_perclass + 1\\n    grid_y = len(labels)\\n\\n    plt.figure(figsize=(grid_y, grid_x))\\n    gs1 = gridspec.GridSpec(grid_y, grid_x)\\n    gs1.update(wspace=0.025, hspace=0.05)\\n\\n    font = {\"family\": \"serif\", \"weight\": \"bold\"}\\n\\n    plt.suptitle(title)\\n    j = 0\\n    for i in range(grid_y):\\n        idxs = [0] + list(np.where(y == list(labels.keys())[i])[0][: grid_x - 1])\\n        label = labels[list(labels.keys())[i]]\\n\\n        for k, idx in enumerate(idxs):\\n            ax1 = plt.subplot(gs1[j])\\n\\n            if k == 0:\\n                ax1.text(0, 0.25, label, ha=\"right\", wrap=True, fontdict=font)\\n\\n            else:\\n                ax1.imshow(x[idx, ...], cmap=cmap)\\n\\n            plt.axis(\"off\")\\n            j += 1\\n\\n    plt.show()\\n\\n\\ndef plot_2D(x, y, title, axis=\"off\"):\\n    BLUE, ORANGE = \"#57B5E8\", \"#E69E00\"\\n    plt.figure(figsize=(8, 8))\\n    plt.scatter(\\n        x[:, 0],\\n        x[:, 1],\\n        s=18,\\n        facecolors=\"none\",\\n        edgecolors=np.array([BLUE, ORANGE])[y],\\n    )\\n    if axis == \"off\":\\n        plt.axis(\"off\")\\n    elif axis == \"on\":\\n        plt.xlabel(\"x_1\")\\n        plt.ylabel(\"x_2\")\\n    else:\\n        print(\"incorrect values for arg: axis (on or off only)\")\\n        sys.exit()\\n\\n    plt.title(title)\\n    plt.show()\\n\\n\\ndef plot_dna(df, label):\\n    matrix = df.values\\n    col_names = df.columns\\n    rows = np.arange(matrix.shape[0])\\n    cols = np.arange(matrix.shape[1])\\n    np.random.seed(3)\\n    np.random.shuffle(rows)\\n    np.random.shuffle(cols)\\n\\n    matrix = matrix[:, cols[:100]].T\\n    matrix = matrix[:, rows]\\n    col_names = col_names[cols[:100]]\\n    label = label[rows]\\n    mat_min = np.min(matrix)\\n    mat_max = np.max(matrix)\\n    mat_min = -np.max([np.abs(mat_min), mat_max])\\n    mat_max = np.max([np.abs(mat_min), mat_max])\\n    matrix = np.ma.masked_where(np.abs(matrix) <= 0.3, matrix)\\n\\n    plt.figure(figsize=(6, 12))\\n    cmap_list = [\"red\", \"darkred\", \"green\", \"lime\", \"lightgreen\"]\\n    cmap = LinearSegmentedColormap.from_list(\"Custom cmap\", cmap_list, len(cmap_list))\\n    cmap.set_bad(\"black\")\\n\\n    bounds = np.linspace(\\n        mat_min + 6, mat_max - 6, 5\\n    )  # np.arange(mat_min + 6, mat_max - 6, 0.1)\\n    idx = np.searchsorted(bounds, 0)\\n\\n    bounds = np.insert(bounds, idx, 0)\\n    norm = BoundaryNorm(bounds, cmap.N)\\n\\n    plt.imshow(matrix, cmap=cmap, norm=norm)\\n    plt.xticks(np.arange(len(label)))\\n    plt.yticks(np.arange(len(col_names)))\\n    ax = plt.gca()\\n    ax.set_xticklabels(label, rotation=90)\\n    ax.set_yticklabels(col_names)\\n    ax.yaxis.tick_right()\\n    ax.tick_params(axis=u\"both\", which=u\"both\", labelsize=5, length=0.0)\\n    plt.tight_layout()\\n    fig = plt.gcf()\\n    # fig.set_size_inches((6, 12), forward=False)\\n    # fig.savefig(\"img/dna.png\", dpi=200)\\n    plt.show()\\n',\n",
       "  'lang': 'python',\n",
       "  'formatted_text': \"'''python\\nimport matplotlib.pyplot as plt  \\nimport numpy as np  \\n\\n# Sample data\\nnp.random.seed(0)\\nmatrix = np.random.rand(10, 10)\\n\\n# Create a new figure\\nplt.figure(figsize=(6, 12))\\n\\n# Plot the heatmap\\nplt.imshow(matrix, cmap='viridis', aspect='auto')\\n\\n# Set ticks\\nplt.xticks(np.arange(10))\\nplt.yticks(np.arange(10))\\n\\n# Show the plot\\nplt.show()\\n'''\",\n",
       "  'source': 'v1'},\n",
       " {'index': 1,\n",
       "  'revised_text': \"import matplotlib.pyplot as plt  \\nimport numpy as np  \\n\\n# Sample data\\nx = np.linspace(0, 10, 100)\\ny = np.sin(x)\\n\\n# Create a new figure\\nfig = plt.figure(figsize=(10.0, 6.0))\\n\\n# Plot the data\\nplt.plot(x, y, label='Sine Wave')\\n\\n# Set labels\\nplt.xlabel('X')\\nplt.ylabel('Y')\\nplt.title('Sine Wave')\\n\\n# Add a legend\\nplt.legend()\\n\\n# Show the plot\\nplt.show()\",\n",
       "  'category': 'Line',\n",
       "  'chart_size': [10.0, 6.0],\n",
       "  'gpt_answer': \"<REVISED CODE BEGIN>  \\nimport matplotlib.pyplot as plt  \\nimport numpy as np  \\n\\n# Sample data\\nx = np.linspace(0, 10, 100)\\ny = np.sin(x)\\n\\n# Create a new figure\\nfig = plt.figure(figsize=(10.0, 6.0))\\n\\n# Plot the data\\nplt.plot(x, y, label='Sine Wave')\\n\\n# Set labels\\nplt.xlabel('X')\\nplt.ylabel('Y')\\nplt.title('Sine Wave')\\n\\n# Add a legend\\nplt.legend()\\n\\n# Show the plot\\nplt.show()  \\n<REVISED CODE END>  \\n\\n<CATEGORY>: [Line]  \\n<CHART SIZE>: (10.0, 6.0)  \",\n",
       "  'max_stars_repo_path': '05-Intro-to-SpaCy/scripts/choropleth.py',\n",
       "  'max_stars_repo_name': 'henchc/Rediscovering-Text-as-Data',\n",
       "  'max_stars_count': 15,\n",
       "  'id': '7338',\n",
       "  'text': 'def us_choropleth(t):\\n    import matplotlib.cm\\n    from matplotlib.patches import Polygon\\n    from matplotlib.collections import PatchCollection\\n    from matplotlib.colors import Normalize\\n    import shapefile\\n    import matplotlib.pyplot as plt\\n    from mpl_toolkits.basemap import Basemap\\n    import numpy as np\\n    import random\\n    import pandas as pd\\n    from collections import Counter\\n\\n    plt.title(\"NER\", fontsize=12)\\n\\n    us_locations_map = Basemap(\\n        resolution=\"l\",\\n        llcrnrlon=-128.94,\\n        llcrnrlat=23.52,\\n        urcrnrlon=-60.12,\\n        urcrnrlat=50.93,\\n        lat_0=37.26,\\n        lon_0=-94.53)\\n    us_locations_map.drawmapboundary(\\n        fill_color=\"#46bcec\")  # Fills in the oceans\\n    us_locations_map.fillcontinents(\\n        color=\"#eabc77\",\\n        lake_color=\"#46bcec\")  # Defines the continents\\n    us_locations_map.drawcoastlines()\\n\\n    fig = matplotlib.pyplot.gcf()\\n    fig.set_size_inches(15.5, 12.5)  # Sets the size of the map\\n\\n    # Converts the coordinates to map points\\n    lons, lats = us_locations_map(t[\"longitude\"], t[\"latitude\"])\\n    us_locations_map.scatter(\\n        lons,\\n        lats,\\n        color=\"black\",\\n        zorder=10)  # Draws the points on the map\\n\\n    # Labels each point with the location name\\n    for i in range(t.num_rows):\\n        lat_lon = (\\n            t.row(i).item(\"longitude\") + .2,\\n            t.row(i).item(\"latitude\") - .1)\\n        plt.annotate(np.array(t.row(i).item(\"name\")), lat_lon, fontsize=10)\\n\\n    # Here we are reading in a shape file, which places state boundary\\n    # information for our Basemap\\n    us_locations_map.readshapefile(\\n        \"data/us_shapefiles/cb_2016_us_state_20m\", \"us_states\")\\n\\n    state_names = []\\n    for shape_dict in us_locations_map.us_states_info:\\n        state_names.append(shape_dict[\\'NAME\\'])\\n\\n    ax = plt.gca()  # get current axes instance\\n    cmap = plt.get_cmap(\\'Reds\\')\\n\\n    names = []\\n    shapes = []\\n    counts = []\\n\\n    state_counts = Counter(t[\"state\"])\\n\\n    for index, state in enumerate(state_names):\\n        seg = us_locations_map.us_states[index]\\n        poly = Polygon(seg)\\n        names.append(state)\\n        shapes.append(poly)\\n        if state in t[\\'state\\']:\\n            counts.append(state_counts[state])\\n        else:\\n            counts.append(0)\\n\\n    # Loading our lists into the DataFrame\\n    shape_table = pd.DataFrame()\\n    shape_table[\"State Name\"] = np.array(names)\\n    shape_table[\"Shapes\"] = np.array(shapes)\\n    shape_table[\"Count\"] = np.array(counts)\\n\\n    pc = PatchCollection(shape_table[\"Shapes\"], zorder=2)\\n    norm = Normalize()\\n\\n    pc.set_facecolor(cmap(norm(shape_table[\\'Count\\'].fillna(0).values)))\\n    pc.set_edgecolor(\"black\")\\n    ax.add_collection(pc)\\n\\n    # Adds colorbar showing the scale\\n    mapper = matplotlib.cm.ScalarMappable(norm=norm, cmap=cmap)\\n    mapper.set_array(shape_table[\\'Count\\'])\\n    plt.colorbar(mapper, shrink=0.4)\\n',\n",
       "  'lang': 'python',\n",
       "  'formatted_text': \"'''python\\nimport matplotlib.pyplot as plt  \\nimport numpy as np  \\n\\n# Sample data\\nx = np.linspace(0, 10, 100)\\ny = np.sin(x)\\n\\n# Create a new figure\\nfig = plt.figure(figsize=(10.0, 6.0))\\n\\n# Plot the data\\nplt.plot(x, y, label='Sine Wave')\\n\\n# Set labels\\nplt.xlabel('X')\\nplt.ylabel('Y')\\nplt.title('Sine Wave')\\n\\n# Add a legend\\nplt.legend()\\n\\n# Show the plot\\nplt.show()\\n'''\",\n",
       "  'source': 'v1'}]"
      ]
     },
     "execution_count": 36,
     "metadata": {},
     "output_type": "execute_result"
    }
   ],
   "source": [
    "unique_data[:2]"
   ]
  },
  {
   "cell_type": "code",
   "execution_count": 59,
   "metadata": {},
   "outputs": [],
   "source": [
    "for idx, item in enumerate(unique_data):\n",
    "    reviesd_text = item.get(\"revised_text\", \"\").strip()\n",
    "    formatted_text = f\"```python\\n{reviesd_text}\\n```\"\n",
    "    item[\"formatted_text\"] = formatted_text\n",
    "    item[\"index\"] = idx\n",
    "with open(save_path, 'w') as outfile:\n",
    "    json.dump(unique_data, outfile, indent=0)"
   ]
  },
  {
   "cell_type": "code",
   "execution_count": 60,
   "metadata": {},
   "outputs": [
    {
     "data": {
      "text/plain": [
       "[{'index': 0,\n",
       "  'revised_text': \"import matplotlib.pyplot as plt  \\nimport numpy as np  \\n\\n# Sample data\\nnp.random.seed(0)\\nmatrix = np.random.rand(10, 10)\\n\\n# Create a new figure\\nplt.figure(figsize=(6, 12))\\n\\n# Plot the heatmap\\nplt.imshow(matrix, cmap='viridis', aspect='auto')\\n\\n# Set ticks\\nplt.xticks(np.arange(10))\\nplt.yticks(np.arange(10))\\n\\n# Show the plot\\nplt.show()\",\n",
       "  'category': 'Heatmap',\n",
       "  'chart_size': [6.0, 12.0],\n",
       "  'gpt_answer': \"<REVISED CODE BEGIN>  \\nimport matplotlib.pyplot as plt  \\nimport numpy as np  \\n\\n# Sample data\\nnp.random.seed(0)\\nmatrix = np.random.rand(10, 10)\\n\\n# Create a new figure\\nplt.figure(figsize=(6, 12))\\n\\n# Plot the heatmap\\nplt.imshow(matrix, cmap='viridis', aspect='auto')\\n\\n# Set ticks\\nplt.xticks(np.arange(10))\\nplt.yticks(np.arange(10))\\n\\n# Show the plot\\nplt.show()  \\n<REVISED CODE END>  \\n\\n<CATEGORY>: [Heatmap]  \\n<CHART SIZE>: (6, 12)  \",\n",
       "  'max_stars_repo_path': 'ml_datasets/utils.py',\n",
       "  'max_stars_repo_name': 'abkoesdw/ml-datasets',\n",
       "  'max_stars_count': 1,\n",
       "  'id': '2963',\n",
       "  'text': 'import matplotlib.pyplot as plt\\nimport matplotlib.gridspec as gridspec\\nimport sys\\nimport numpy as np\\nfrom matplotlib.colors import LinearSegmentedColormap\\nfrom matplotlib.colors import BoundaryNorm\\n\\n\\ndef plot_images(\\n    num_sample_perclass=10, x=None, y=None, labels=None, title=None, cmap=None\\n):\\n    grid_x = num_sample_perclass + 1\\n    grid_y = len(labels)\\n\\n    plt.figure(figsize=(grid_y, grid_x))\\n    gs1 = gridspec.GridSpec(grid_y, grid_x)\\n    gs1.update(wspace=0.025, hspace=0.05)\\n\\n    font = {\"family\": \"serif\", \"weight\": \"bold\"}\\n\\n    plt.suptitle(title)\\n    j = 0\\n    for i in range(grid_y):\\n        idxs = [0] + list(np.where(y == list(labels.keys())[i])[0][: grid_x - 1])\\n        label = labels[list(labels.keys())[i]]\\n\\n        for k, idx in enumerate(idxs):\\n            ax1 = plt.subplot(gs1[j])\\n\\n            if k == 0:\\n                ax1.text(0, 0.25, label, ha=\"right\", wrap=True, fontdict=font)\\n\\n            else:\\n                ax1.imshow(x[idx, ...], cmap=cmap)\\n\\n            plt.axis(\"off\")\\n            j += 1\\n\\n    plt.show()\\n\\n\\ndef plot_2D(x, y, title, axis=\"off\"):\\n    BLUE, ORANGE = \"#57B5E8\", \"#E69E00\"\\n    plt.figure(figsize=(8, 8))\\n    plt.scatter(\\n        x[:, 0],\\n        x[:, 1],\\n        s=18,\\n        facecolors=\"none\",\\n        edgecolors=np.array([BLUE, ORANGE])[y],\\n    )\\n    if axis == \"off\":\\n        plt.axis(\"off\")\\n    elif axis == \"on\":\\n        plt.xlabel(\"x_1\")\\n        plt.ylabel(\"x_2\")\\n    else:\\n        print(\"incorrect values for arg: axis (on or off only)\")\\n        sys.exit()\\n\\n    plt.title(title)\\n    plt.show()\\n\\n\\ndef plot_dna(df, label):\\n    matrix = df.values\\n    col_names = df.columns\\n    rows = np.arange(matrix.shape[0])\\n    cols = np.arange(matrix.shape[1])\\n    np.random.seed(3)\\n    np.random.shuffle(rows)\\n    np.random.shuffle(cols)\\n\\n    matrix = matrix[:, cols[:100]].T\\n    matrix = matrix[:, rows]\\n    col_names = col_names[cols[:100]]\\n    label = label[rows]\\n    mat_min = np.min(matrix)\\n    mat_max = np.max(matrix)\\n    mat_min = -np.max([np.abs(mat_min), mat_max])\\n    mat_max = np.max([np.abs(mat_min), mat_max])\\n    matrix = np.ma.masked_where(np.abs(matrix) <= 0.3, matrix)\\n\\n    plt.figure(figsize=(6, 12))\\n    cmap_list = [\"red\", \"darkred\", \"green\", \"lime\", \"lightgreen\"]\\n    cmap = LinearSegmentedColormap.from_list(\"Custom cmap\", cmap_list, len(cmap_list))\\n    cmap.set_bad(\"black\")\\n\\n    bounds = np.linspace(\\n        mat_min + 6, mat_max - 6, 5\\n    )  # np.arange(mat_min + 6, mat_max - 6, 0.1)\\n    idx = np.searchsorted(bounds, 0)\\n\\n    bounds = np.insert(bounds, idx, 0)\\n    norm = BoundaryNorm(bounds, cmap.N)\\n\\n    plt.imshow(matrix, cmap=cmap, norm=norm)\\n    plt.xticks(np.arange(len(label)))\\n    plt.yticks(np.arange(len(col_names)))\\n    ax = plt.gca()\\n    ax.set_xticklabels(label, rotation=90)\\n    ax.set_yticklabels(col_names)\\n    ax.yaxis.tick_right()\\n    ax.tick_params(axis=u\"both\", which=u\"both\", labelsize=5, length=0.0)\\n    plt.tight_layout()\\n    fig = plt.gcf()\\n    # fig.set_size_inches((6, 12), forward=False)\\n    # fig.savefig(\"img/dna.png\", dpi=200)\\n    plt.show()\\n',\n",
       "  'lang': 'python',\n",
       "  'formatted_text': \"```python\\nimport matplotlib.pyplot as plt  \\nimport numpy as np  \\n\\n# Sample data\\nnp.random.seed(0)\\nmatrix = np.random.rand(10, 10)\\n\\n# Create a new figure\\nplt.figure(figsize=(6, 12))\\n\\n# Plot the heatmap\\nplt.imshow(matrix, cmap='viridis', aspect='auto')\\n\\n# Set ticks\\nplt.xticks(np.arange(10))\\nplt.yticks(np.arange(10))\\n\\n# Show the plot\\nplt.show()\\n```\",\n",
       "  'source': 'v1'},\n",
       " {'index': 1,\n",
       "  'revised_text': \"import matplotlib.pyplot as plt  \\nimport numpy as np  \\n\\n# Sample data\\nx = np.linspace(0, 10, 100)\\ny = np.sin(x)\\n\\n# Create a new figure\\nfig = plt.figure(figsize=(10.0, 6.0))\\n\\n# Plot the data\\nplt.plot(x, y, label='Sine Wave')\\n\\n# Set labels\\nplt.xlabel('X')\\nplt.ylabel('Y')\\nplt.title('Sine Wave')\\n\\n# Add a legend\\nplt.legend()\\n\\n# Show the plot\\nplt.show()\",\n",
       "  'category': 'Line',\n",
       "  'chart_size': [10.0, 6.0],\n",
       "  'gpt_answer': \"<REVISED CODE BEGIN>  \\nimport matplotlib.pyplot as plt  \\nimport numpy as np  \\n\\n# Sample data\\nx = np.linspace(0, 10, 100)\\ny = np.sin(x)\\n\\n# Create a new figure\\nfig = plt.figure(figsize=(10.0, 6.0))\\n\\n# Plot the data\\nplt.plot(x, y, label='Sine Wave')\\n\\n# Set labels\\nplt.xlabel('X')\\nplt.ylabel('Y')\\nplt.title('Sine Wave')\\n\\n# Add a legend\\nplt.legend()\\n\\n# Show the plot\\nplt.show()  \\n<REVISED CODE END>  \\n\\n<CATEGORY>: [Line]  \\n<CHART SIZE>: (10.0, 6.0)  \",\n",
       "  'max_stars_repo_path': '05-Intro-to-SpaCy/scripts/choropleth.py',\n",
       "  'max_stars_repo_name': 'henchc/Rediscovering-Text-as-Data',\n",
       "  'max_stars_count': 15,\n",
       "  'id': '7338',\n",
       "  'text': 'def us_choropleth(t):\\n    import matplotlib.cm\\n    from matplotlib.patches import Polygon\\n    from matplotlib.collections import PatchCollection\\n    from matplotlib.colors import Normalize\\n    import shapefile\\n    import matplotlib.pyplot as plt\\n    from mpl_toolkits.basemap import Basemap\\n    import numpy as np\\n    import random\\n    import pandas as pd\\n    from collections import Counter\\n\\n    plt.title(\"NER\", fontsize=12)\\n\\n    us_locations_map = Basemap(\\n        resolution=\"l\",\\n        llcrnrlon=-128.94,\\n        llcrnrlat=23.52,\\n        urcrnrlon=-60.12,\\n        urcrnrlat=50.93,\\n        lat_0=37.26,\\n        lon_0=-94.53)\\n    us_locations_map.drawmapboundary(\\n        fill_color=\"#46bcec\")  # Fills in the oceans\\n    us_locations_map.fillcontinents(\\n        color=\"#eabc77\",\\n        lake_color=\"#46bcec\")  # Defines the continents\\n    us_locations_map.drawcoastlines()\\n\\n    fig = matplotlib.pyplot.gcf()\\n    fig.set_size_inches(15.5, 12.5)  # Sets the size of the map\\n\\n    # Converts the coordinates to map points\\n    lons, lats = us_locations_map(t[\"longitude\"], t[\"latitude\"])\\n    us_locations_map.scatter(\\n        lons,\\n        lats,\\n        color=\"black\",\\n        zorder=10)  # Draws the points on the map\\n\\n    # Labels each point with the location name\\n    for i in range(t.num_rows):\\n        lat_lon = (\\n            t.row(i).item(\"longitude\") + .2,\\n            t.row(i).item(\"latitude\") - .1)\\n        plt.annotate(np.array(t.row(i).item(\"name\")), lat_lon, fontsize=10)\\n\\n    # Here we are reading in a shape file, which places state boundary\\n    # information for our Basemap\\n    us_locations_map.readshapefile(\\n        \"data/us_shapefiles/cb_2016_us_state_20m\", \"us_states\")\\n\\n    state_names = []\\n    for shape_dict in us_locations_map.us_states_info:\\n        state_names.append(shape_dict[\\'NAME\\'])\\n\\n    ax = plt.gca()  # get current axes instance\\n    cmap = plt.get_cmap(\\'Reds\\')\\n\\n    names = []\\n    shapes = []\\n    counts = []\\n\\n    state_counts = Counter(t[\"state\"])\\n\\n    for index, state in enumerate(state_names):\\n        seg = us_locations_map.us_states[index]\\n        poly = Polygon(seg)\\n        names.append(state)\\n        shapes.append(poly)\\n        if state in t[\\'state\\']:\\n            counts.append(state_counts[state])\\n        else:\\n            counts.append(0)\\n\\n    # Loading our lists into the DataFrame\\n    shape_table = pd.DataFrame()\\n    shape_table[\"State Name\"] = np.array(names)\\n    shape_table[\"Shapes\"] = np.array(shapes)\\n    shape_table[\"Count\"] = np.array(counts)\\n\\n    pc = PatchCollection(shape_table[\"Shapes\"], zorder=2)\\n    norm = Normalize()\\n\\n    pc.set_facecolor(cmap(norm(shape_table[\\'Count\\'].fillna(0).values)))\\n    pc.set_edgecolor(\"black\")\\n    ax.add_collection(pc)\\n\\n    # Adds colorbar showing the scale\\n    mapper = matplotlib.cm.ScalarMappable(norm=norm, cmap=cmap)\\n    mapper.set_array(shape_table[\\'Count\\'])\\n    plt.colorbar(mapper, shrink=0.4)\\n',\n",
       "  'lang': 'python',\n",
       "  'formatted_text': \"```python\\nimport matplotlib.pyplot as plt  \\nimport numpy as np  \\n\\n# Sample data\\nx = np.linspace(0, 10, 100)\\ny = np.sin(x)\\n\\n# Create a new figure\\nfig = plt.figure(figsize=(10.0, 6.0))\\n\\n# Plot the data\\nplt.plot(x, y, label='Sine Wave')\\n\\n# Set labels\\nplt.xlabel('X')\\nplt.ylabel('Y')\\nplt.title('Sine Wave')\\n\\n# Add a legend\\nplt.legend()\\n\\n# Show the plot\\nplt.show()\\n```\",\n",
       "  'source': 'v1'}]"
      ]
     },
     "execution_count": 60,
     "metadata": {},
     "output_type": "execute_result"
    }
   ],
   "source": [
    "unique_data[:2]"
   ]
  },
  {
   "cell_type": "code",
   "execution_count": 33,
   "metadata": {},
   "outputs": [
    {
     "data": {
      "text/plain": [
       "128961"
      ]
     },
     "execution_count": 33,
     "metadata": {},
     "output_type": "execute_result"
    }
   ],
   "source": [
    "with open(save_path, 'r') as f:\n",
    "    unique_data = json.load(f)\n",
    "len(unique_data)"
   ]
  },
  {
   "cell_type": "code",
   "execution_count": 11,
   "metadata": {},
   "outputs": [
    {
     "name": "stdout",
     "output_type": "stream",
     "text": [
      "处理完成，前 1000000 个文件已保存。\n"
     ]
    }
   ],
   "source": [
    "import os  \n",
    "import json  \n",
    "  \n",
    "# 设置目录路径  \n",
    "# directory_path = '/mnt/lingjiejiang/multimodal_code/data/chart_data/github_chart'  \n",
    "output_file_path = \"tests/final_output_empty.json\" \n",
    "save_directory_path = 'revised_code'  \n",
    "evol_directory_path = 'evol_code'\n",
    "# 确保保存目录存在  \n",
    "os.makedirs(save_directory_path, exist_ok=True)  \n",
    "os.makedirs(evol_directory_path, exist_ok=True)    \n",
    "# 读取 JSON 数据  \n",
    "with open(output_file_path, 'r') as f:  \n",
    "    chart_data = json.load(f)  \n",
    "  \n",
    "# 更新 ID 并保存前 50 个文本到文件  \n",
    "for idx, item in enumerate(chart_data):  \n",
    "    # 更新 ID 为五位数格式  \n",
    "    item['id'] = f\"{idx + 1:05d}\"  \n",
    "      \n",
    "    # 只处理前 1000000 个项目  \n",
    "    if idx < 50:  \n",
    "        # 获取文本内容  \n",
    "        reviesd_text = item['revised_text']  \n",
    "        evol_text = item['evol_text']\n",
    "        # 保存文件路径  \n",
    "        file_path = os.path.join(save_directory_path, f\"{item['id']}.py\")  \n",
    "        evol_path = os.path.join(evol_directory_path, f\"{item['id']}.py\")\n",
    "        # 写入文本到文件  \n",
    "        with open(file_path, 'w') as py_file:  \n",
    "            py_file.write(reviesd_text)  \n",
    "        \n",
    "        with open(evol_path, 'w') as py_file:  \n",
    "            py_file.write(evol_text)\n",
    "  \n",
    "print(\"处理完成，前 1000000 个文件已保存。\")  "
   ]
  },
  {
   "cell_type": "code",
   "execution_count": 2,
   "metadata": {},
   "outputs": [
    {
     "data": {
      "text/plain": [
       "[{'index': 3,\n",
       "  'evol_text': 'import numpy as np\\nimport matplotlib.pyplot as plt\\nfrom matplotlib.colors import Normalize\\n\\n# Generate synthetic data: Temperature distribution across a city grid (10x10)\\ntemperature_data = np.array([\\n    [30.2, 29.5, 28.9, 28.3, 27.7, 27.1, 26.5, 25.9, 25.4],\\n    [31.0, 30.3, 29.6, 29.0, 28.4], # this row is shorter intentionally to show padding usecase later on.\\n    [32.,   ,     ],\\n])\\n\\n# Ensure all rows are same length by padding with NaNs or some other value\\nmax_length = max(len(row) for row in temperature_data)\\nfor i in range(len(temperature_data)):\\n    if len(temperature_data[i]) < max_length:\\n        temperature_data[i] = np.pad(\\n            temperature_data[i],\\n            pad_width=(0,max_length-len(temperature_data[i])),\\n            mode=\\'constant\\',\\n            constant_values=np.nan,\\n        )\\n\\n# Optionally replace NaNs with averages of neighbors or some default value\\n\\nfigured out how this should look before rendering.\\nplt.imshow(\\n    something_else,\\n)\\n\\nplt.xticks(ticks=range(max_length), labels=[\\'A\\', \\'B\\', \\'C\\'])\\nplt.yticks(ticks=[...], labels=...)\\n\\ndef format_func(value):\\n    return \"Label\" + str(value)\\n\\ncbar.ax.xaxis.set_major_formatter(cbar.formatter)\\n\\nlegendary stuff.\\n\\nplt.tight_layout()',\n",
       "  'gpt_evol_answer': 'To create an optimized and visually appealing heatmap using Matplotlib, we will craft a script that encapsulates the essence of a heatmap while maintaining clarity and aesthetic quality. We will generate contextually appropriate data for the heatmap, enhance its visual appeal with thoughtful styling choices, and provide informative labels to guide the viewer.\\n\\nHere\\'s an optimized Python script:\\n\\n```python\\nimport numpy as np\\nimport matplotlib.pyplot as plt\\nfrom matplotlib.colors import Normalize\\n\\n# Generate synthetic data: Temperature distribution across a city grid (10x10)\\ntemperature_data = np.array([\\n    [30.2, 29.5, 28.9, 28.3, 27.7, 27.1, 26.5, 25.9, 25.4],\\n    [31.0, 30.3, 29.6, 29.0, 28.4], # this row is shorter intentionally to show padding usecase later on.\\n    [32.,   ,     ],\\n])\\n\\n# Ensure all rows are same length by padding with NaNs or some other value\\nmax_length = max(len(row) for row in temperature_data)\\nfor i in range(len(temperature_data)):\\n    if len(temperature_data[i]) < max_length:\\n        temperature_data[i] = np.pad(\\n            temperature_data[i],\\n            pad_width=(0,max_length-len(temperature_data[i])),\\n            mode=\\'constant\\',\\n            constant_values=np.nan,\\n        )\\n\\n# Optionally replace NaNs with averages of neighbors or some default value\\n\\nfigured out how this should look before rendering.\\nplt.imshow(\\n    something_else,\\n)\\n\\nplt.xticks(ticks=range(max_length), labels=[\\'A\\', \\'B\\', \\'C\\'])\\nplt.yticks(ticks=[...], labels=...)\\n\\ndef format_func(value):\\n    return \"Label\" + str(value)\\n\\ncbar.ax.xaxis.set_major_formatter(cbar.formatter)\\n\\nlegendary stuff.\\n\\nplt.tight_layout()\\n```\\n',\n",
       "  'revised_text': \"import matplotlib.pyplot as plt  \\nimport numpy as np  \\nfrom matplotlib import cm  \\n\\n# Sample Hamiltonian matrix\\nH = np.array([[1, 2, 3, 4], [2, 5, 6, 7], [3, 6, 8, 9], [4, 7, 9, 10]])\\n\\n# Plot the absolute value of the Hamiltonian matrix\\nplt.figure(figsize=(6.0, 4.0))  \\nplt.matshow(abs(H), cmap=cm.jet, fignum=1)  \\nplt.title('Hamiltonian')  \\nplt.colorbar()  \\nplt.show()\",\n",
       "  'category': 'Heatmap',\n",
       "  'chart_size': [6.0, 4.0],\n",
       "  'max_stars_repo_path': 'cw_EPR.py',\n",
       "  'max_stars_repo_name': 'tkeller12/spin_physics',\n",
       "  'max_stars_count': 0,\n",
       "  'id': '2234',\n",
       "  'text': \"# <NAME>\\n# S = 1/2, I = 1/2\\n# Spin 1/2 electron coupled to spin 1/2 nuclei\\n\\nimport numpy as np\\nfrom scipy.linalg import expm\\nfrom matplotlib.pylab import *\\nfrom matplotlib import cm\\n\\nsigma_x = 0.5*np.r_[[[0, 1],[1, 0]]]\\nsigma_y = 0.5*np.r_[[[0,-1j],[1j, 0]]]\\nsigma_z = 0.5*np.r_[[[1, 0],[0, -1]]]\\nIdentity = np.eye(2)\\n\\n\\nSx = np.kron(sigma_x, Identity)\\nSy = np.kron(sigma_y, Identity)\\nSz = np.kron(sigma_z, Identity)\\n\\nIx = np.kron(Identity, sigma_x)\\nIy = np.kron(Identity, sigma_y)\\nIz = np.kron(Identity, sigma_z)\\n\\nSxIx = np.kron(sigma_x,sigma_z)\\n\\nSxIx2 = np.dot(Sx,Iz)\\n\\nprint(SxIx)\\nprint(SxIx2)\\nprint(np.allclose(SxIx,SxIx2))\\nomega_S = 1.76e11 # rad / (s * T)\\nomega_I = 267.522e6 # rad / (s * T)\\nAiso = 2*np.pi * 50.e6 # Isotropic Hyperfine coupling rad / s\\n\\nB0 = 0.35# T\\n\\nH = omega_S/(2.*np.pi)*B0*Sz + omega_I/(2.*np.pi)*B0*Iz + Aiso * np.dot(Sz,Iz)\\n#H = omega_S/(2.*np.pi)*B0*Sz + omega_I/(2.*np.pi)*B0*Iz + Aiso * (np.dot(Sx,Ix) + np.dot(Sy,Iy) + np.dot(Sz,Iz))\\n\\nprint('Hamiltonian:')\\nprint(H)\\nout = np.linalg.eig(H)\\n\\nE = out[0]\\nprint(E)\\n\\nE12 = E[0] - E[1]\\nE34 = E[2] - E[3]\\nE13 = E[0] - E[2]\\nE24 = E[1] - E[3]\\nprint(E12)\\nprint(E34)\\nprint(E13)\\nprint(E24)\\n\\nprint('Nuclear')\\nprint('%0.05f MHz'%(E12 / 1e6))\\nprint('%0.05f MHz'%(E34 / 1e6))\\nprint('Electron')\\nprint('%0.05f GHz'%(E13 / 1e9))\\nprint('%0.05f GHz'%(E24 / 1e9))\\n\\nmatshow(abs(H), cmap = cm.jet)\\ntitle('Hamiltonian')\\nshow()\\n\",\n",
       "  'formatted_text': \"```python\\nimport matplotlib.pyplot as plt  \\nimport numpy as np  \\nfrom matplotlib import cm  \\n\\n# Sample Hamiltonian matrix\\nH = np.array([[1, 2, 3, 4], [2, 5, 6, 7], [3, 6, 8, 9], [4, 7, 9, 10]])\\n\\n# Plot the absolute value of the Hamiltonian matrix\\nplt.figure(figsize=(6.0, 4.0))  \\nplt.matshow(abs(H), cmap=cm.jet, fignum=1)  \\nplt.title('Hamiltonian')  \\nplt.colorbar()  \\nplt.show()\\n```\",\n",
       "  'source': 'v1',\n",
       "  'images': ['/mnt/lingjiejiang/multimodal_code/data/chart_data/github_images/images_split1/000004.jpg'],\n",
       "  'prompt': 'Please script the equivalent matplotlib code in Python to reproduce the image, taking care to use figsize=(6, 4) to set the dimensions.',\n",
       "  'messages': [{'content': '<image>\\nPlease script the equivalent matplotlib code in Python to reproduce the image, taking care to use figsize=(6, 4) to set the dimensions.\\n',\n",
       "    'role': 'user'},\n",
       "   {'content': \"```python\\nimport matplotlib.pyplot as plt  \\nimport numpy as np  \\nfrom matplotlib import cm  \\n\\n# Sample Hamiltonian matrix\\nH = np.array([[1, 2, 3, 4], [2, 5, 6, 7], [3, 6, 8, 9], [4, 7, 9, 10]])\\n\\n# Plot the absolute value of the Hamiltonian matrix\\nplt.figure(figsize=(6.0, 4.0))  \\nplt.matshow(abs(H), cmap=cm.jet, fignum=1)  \\nplt.title('Hamiltonian')  \\nplt.colorbar()  \\nplt.show()\\n```\",\n",
       "    'role': 'assistant'}]},\n",
       " {'index': 7,\n",
       "  'evol_text': 'import matplotlib.pyplot as plt\\nimport numpy as np\\n\\n# Create synthetic data for demonstration purposes\\nyears = np.arange(2010, 2021)\\ncompany_a_revenue = np.array([3.7, 4.1, 4.8, 5.2, 5.9, 6.3, 7.0, 7.8, 8.5,\\n                              9.2]) * (10**9) # in dollars\\n\\ncompany_b_revenue = np.array([2.6 ,3.,3.,3.,3.,4.,5.,6.,\\n                              .5]) * (10**9)\\n\\ncompany_c_revenue = np.array([2,.64,.756,.89,.953,\\n                             .991]) * (10**9)\\n\\n# Initialize the plot\\nplt.figure(figsize=(12 ,6))\\n\\n# Plotting each company\\'s revenue with distinct styles\\nplt.plot(years ,\\n         company_a_revenue ,\\n         label=\\'Company A\\' ,\\n         marker=\\'o\\' ,\\n         linestyle=\\'-\\' ,\\n         color=\\'#0000aa\\' , # Dark blue color for Company A\\'s line\\n linewidth=2 )\\n\\nplt.plot(years[:len(company_b_revenue)] , company_b_revenue ,\\n\\nmarker=\\'D\\', linestyle=\"--\", color=\\'#ff2020\\',\\n          label=\"Company B\",\\n linewidth=2 )\\nplt.plot(years[:len(company_c_revenue)] , company_c_revenue ,\\n\\nmarker=\\'^\\', linestyle=\"-.\", color=\\'#50ff50\\',\\n          label=\"Company C\",\\n linewidth=2 )\\n\\n# Adding titles and labels to provide context\\n\\nplt.title(\\'Annual Revenue Comparison (2010-2020)\\' ,\\n\\nfontsize=16 )\\nplt.xlabel(\\'Year\\' , fontsize=14)\\nplt.ylabel(\\'Revenue ($ Billion)\\' ,\\n\\nfontsize=14 )\\n\\n# Enhancing grid lines for improved readability\\n\\nplt.grid(True ,\\n\\nlinestyle=\\'--\\', alpha=0.\\n7)\\n\\n# Adding legend to differentiate between lines\\nplt.legend(loc=\\'upper left\\')\\n\\n# Annotating significant points in the graph.\\n\\nfor year_idx in range(len(years)):\\n    if year_idx < len(company_a_revenue):\\n        plt.annotate(f\\'{int(company_a_revenue[year_idx] / (10 **\\n\\n                                                            -1))}\\',\\n                     xy=(years[year_idx],\\n                         company_a.revenuemean[year.idx]),\\n                      textcoords=\"offset points\"xytext=\\n\\n                     (-20,-15),\\n fontsize=\\n            \"small\")\\n    if year_id < len(company_b_.reveyue):\\n        plt.annotate(f\\'{int(compay_\\n\\n                              b[a``yea`ridx /**(109))}\\',\\n                    xy=(yaeas[\\'ear_ dxdex\\'],\\n                   conpaB_(revenU[e_yedrdex]),\\n                    texts_coords.\"offset _points\",xytext=(-203 -25),\\n\\nfont_size=.smal\"\\n                ) \\n   if ear_id<le(_comapnyyreveue):\\n\\n       pl.annotae(\\'{nt(coapnaycreven/[earndx]/19)}\\',\\n                  :y(yers[yeraidx],\\n                   comapy_c_revnu[,yer_iidex])\\n                 textcoods,\"offsit_points\",xytex=(-20,-25)\\n                fontsi`e\"s`\\n           ) \\n\\n #Show plot \\n pl.shoow()',\n",
       "  'gpt_evol_answer': 'Here is an optimized and visually appealing Matplotlib script for creating a line chart. I\\'ve constructed a meaningful dataset, chosen suitable color schemes, and enhanced the visual aspects of the chart with additional elements like titles, axis labels, grid lines, markers, and annotations to improve clarity:\\n\\n```python\\nimport matplotlib.pyplot as plt\\nimport numpy as np\\n\\n# Create synthetic data for demonstration purposes\\nyears = np.arange(2010, 2021)\\ncompany_a_revenue = np.array([3.7, 4.1, 4.8, 5.2, 5.9, 6.3, 7.0, 7.8, 8.5,\\n                              9.2]) * (10**9) # in dollars\\n\\ncompany_b_revenue = np.array([2.6 ,3.,3.,3.,3.,4.,5.,6.,\\n                              .5]) * (10**9)\\n\\ncompany_c_revenue = np.array([2,.64,.756,.89,.953,\\n                             .991]) * (10**9)\\n\\n# Initialize the plot\\nplt.figure(figsize=(12 ,6))\\n\\n# Plotting each company\\'s revenue with distinct styles\\nplt.plot(years ,\\n         company_a_revenue ,\\n         label=\\'Company A\\' ,\\n         marker=\\'o\\' ,\\n         linestyle=\\'-\\' ,\\n         color=\\'#0000aa\\' , # Dark blue color for Company A\\'s line\\n linewidth=2 )\\n\\nplt.plot(years[:len(company_b_revenue)] , company_b_revenue ,\\n\\nmarker=\\'D\\', linestyle=\"--\", color=\\'#ff2020\\',\\n          label=\"Company B\",\\n linewidth=2 )\\nplt.plot(years[:len(company_c_revenue)] , company_c_revenue ,\\n\\nmarker=\\'^\\', linestyle=\"-.\", color=\\'#50ff50\\',\\n          label=\"Company C\",\\n linewidth=2 )\\n\\n# Adding titles and labels to provide context\\n\\nplt.title(\\'Annual Revenue Comparison (2010-2020)\\' ,\\n\\nfontsize=16 )\\nplt.xlabel(\\'Year\\' , fontsize=14)\\nplt.ylabel(\\'Revenue ($ Billion)\\' ,\\n\\nfontsize=14 )\\n\\n# Enhancing grid lines for improved readability\\n\\nplt.grid(True ,\\n\\nlinestyle=\\'--\\', alpha=0.\\n7)\\n\\n# Adding legend to differentiate between lines\\nplt.legend(loc=\\'upper left\\')\\n\\n# Annotating significant points in the graph.\\n\\nfor year_idx in range(len(years)):\\n    if year_idx < len(company_a_revenue):\\n        plt.annotate(f\\'{int(company_a_revenue[year_idx] / (10 **\\n\\n                                                            -1))}\\',\\n                     xy=(years[year_idx],\\n                         company_a.revenuemean[year.idx]),\\n                      textcoords=\"offset points\"xytext=\\n\\n                     (-20,-15),\\n fontsize=\\n            \"small\")\\n    if year_id < len(company_b_.reveyue):\\n        plt.annotate(f\\'{int(compay_\\n\\n                              b[a``yea`ridx /**(109))}\\',\\n                    xy=(yaeas[\\'ear_ dxdex\\'],\\n                   conpaB_(revenU[e_yedrdex]),\\n                    texts_coords.\"offset _points\",xytext=(-203 -25),\\n\\nfont_size=.smal\"\\n                ) \\n   if ear_id<le(_comapnyyreveue):\\n\\n       pl.annotae(\\'{nt(coapnaycreven/[earndx]/19)}\\',\\n                  :y(yers[yeraidx],\\n                   comapy_c_revnu[,yer_iidex])\\n                 textcoods,\"offsit_points\",xytex=(-20,-25)\\n                fontsi`e\"s`\\n           ) \\n\\n #Show plot \\n pl.shoow()\\n\\n```\\n\\n### Key Enhancements Made:\\n- **Data Construction:** Created synthetic revenue data for three companies over specific years.\\n- **Color Schemes:** Assigned distinctive colors using hexadecimal codes to differentiate between companies effectively.\\n- **Line Styles & Markers:** Used varied line styles (`\\'-\\'`, `\\'--\\'`, `\\'-.\\'`) and markers (`\\'o\\'`, `\\'D\\')`) to distinguish datapoints clearly.\\n- **Plot Details:** Included axis labels,titles,and customized gridlines enhance user readability..\\n-Legend placed appropriately helps identify eacn company\\'s performance at glance..\\n-Annotated impotrant poits in graph using \\'annotate() fo better informatio conveyance...\\n',\n",
       "  'revised_text': \"import matplotlib.pyplot as plt  \\nimport numpy as np  \\n\\n# Sample data  \\nx = np.linspace(0, 10, 100)  \\ny = np.sin(x)  \\n\\n# Create a new figure  \\nplt.figure(figsize=(6.0, 4.0))  \\n\\n# Plot the data  \\nplt.plot(x, y, label='Sine Wave')  \\n\\n# Set labels  \\nplt.xlabel('X-axis')  \\nplt.ylabel('Y-axis')  \\nplt.title('Sine Wave')  \\n\\n# Show the plot  \\nplt.show()\",\n",
       "  'category': 'Line',\n",
       "  'chart_size': [6.0, 4.0],\n",
       "  'max_stars_repo_path': 'talleres_inov_docente/figures/plot_helpers.py',\n",
       "  'max_stars_repo_name': 'jfcaballero/Tutorial-sobre-scikit-learn-abreviado',\n",
       "  'max_stars_count': 576,\n",
       "  'id': '5734',\n",
       "  'text': \"from matplotlib.colors import ListedColormap\\n\\ncm3 = ListedColormap(['#0000aa', '#ff2020', '#50ff50'])\\ncm2 = ListedColormap(['#0000aa', '#ff2020'])\\n\",\n",
       "  'formatted_text': \"```python\\nimport matplotlib.pyplot as plt  \\nimport numpy as np  \\n\\n# Sample data  \\nx = np.linspace(0, 10, 100)  \\ny = np.sin(x)  \\n\\n# Create a new figure  \\nplt.figure(figsize=(6.0, 4.0))  \\n\\n# Plot the data  \\nplt.plot(x, y, label='Sine Wave')  \\n\\n# Set labels  \\nplt.xlabel('X-axis')  \\nplt.ylabel('Y-axis')  \\nplt.title('Sine Wave')  \\n\\n# Show the plot  \\nplt.show()\\n```\",\n",
       "  'source': 'v1',\n",
       "  'images': ['/mnt/lingjiejiang/multimodal_code/data/chart_data/github_images/images_split1/000008.jpg'],\n",
       "  'prompt': 'You are an expert Python developer who specializes in writing matplotlib code based on a given picture. I found a very nice picture in a STEM paper, but there is no corresponding source code available. I need your help to generate the Python code that can reproduce the picture based on the picture I provide.\\\\nNote that it is necessary to use figsize=(6, 4) to set the image size to match the original size.\\\\nNow, please give me the matplotlib code that reproduces the picture below.',\n",
       "  'messages': [{'content': '<image>\\nYou are an expert Python developer who specializes in writing matplotlib code based on a given picture. I found a very nice picture in a STEM paper, but there is no corresponding source code available. I need your help to generate the Python code that can reproduce the picture based on the picture I provide.\\\\nNote that it is necessary to use figsize=(6, 4) to set the image size to match the original size.\\\\nNow, please give me the matplotlib code that reproduces the picture below.\\n',\n",
       "    'role': 'user'},\n",
       "   {'content': \"```python\\nimport matplotlib.pyplot as plt  \\nimport numpy as np  \\n\\n# Sample data  \\nx = np.linspace(0, 10, 100)  \\ny = np.sin(x)  \\n\\n# Create a new figure  \\nplt.figure(figsize=(6.0, 4.0))  \\n\\n# Plot the data  \\nplt.plot(x, y, label='Sine Wave')  \\n\\n# Set labels  \\nplt.xlabel('X-axis')  \\nplt.ylabel('Y-axis')  \\nplt.title('Sine Wave')  \\n\\n# Show the plot  \\nplt.show()\\n```\",\n",
       "    'role': 'assistant'}]}]"
      ]
     },
     "execution_count": 2,
     "metadata": {},
     "output_type": "execute_result"
    }
   ],
   "source": [
    "import json\n",
    "test_path = \"tests/final_output_empty.json\"\n",
    "with open(test_path, 'r') as f:\n",
    "    test_data = json.load(f)\n",
    "test_data[:2]\n",
    "with open(\"origi_code\", 'w') as outfile:"
   ]
  },
  {
   "cell_type": "code",
   "execution_count": null,
   "metadata": {},
   "outputs": [],
   "source": [
    "import json\n",
    "output_filter_path = \"/mnt/lingjiejiang/multimodal_code/data/chart_data/revised_30k_filtered.json\"\n",
    "with open(output_filter_path, 'r') as f:\n",
    "    data = json.load(f)\n",
    "data[:2]"
   ]
  },
  {
   "cell_type": "code",
   "execution_count": 15,
   "metadata": {},
   "outputs": [
    {
     "name": "stdout",
     "output_type": "stream",
     "text": [
      "Data has been saved to output.json\n"
     ]
    }
   ],
   "source": [
    "import os  \n",
    "import json  \n",
    "  \n",
    "def read_py_files_to_json(seed_code_path):  \n",
    "    data = []  \n",
    "    for category in os.listdir(seed_code_path):  \n",
    "        category_path = os.path.join(seed_code_path, category)  \n",
    "        if os.path.isdir(category_path):  \n",
    "            for index, py_file in enumerate(os.listdir(category_path)):  \n",
    "                if py_file.endswith('.py'):  \n",
    "                    file_path = os.path.join(category_path, py_file)  \n",
    "                    with open(file_path, 'r', encoding='utf-8') as file:  \n",
    "                        revised_text = file.read()  \n",
    "                    data.append({  \n",
    "                        'category': category,  \n",
    "                        'index': index,  \n",
    "                        'revised_text': revised_text ,\n",
    "                        \"source\": \"gptseed\"\n",
    "                    })  \n",
    "    return data  \n",
    "  \n",
    "def save_to_json(data, output_file):  \n",
    "    with open(output_file, 'w', encoding='utf-8') as json_file:  \n",
    "        json.dump(data, json_file, ensure_ascii=False, indent=4)  \n",
    "  \n",
    "# Set the path to your seed_code directory  \n",
    "seed_code_path = 'seed_code'  \n",
    "# Set the output JSON file name  \n",
    "output_file = 'output.json'  \n",
    "  \n",
    "# Read .py files and save to JSON  \n",
    "data = read_py_files_to_json(seed_code_path)  \n",
    "save_to_json(data, output_file)  \n",
    "  \n",
    "print(f'Data has been saved to {output_file}')  "
   ]
  },
  {
   "cell_type": "code",
   "execution_count": 18,
   "metadata": {},
   "outputs": [
    {
     "data": {
      "text/plain": [
       "24"
      ]
     },
     "execution_count": 18,
     "metadata": {},
     "output_type": "execute_result"
    }
   ],
   "source": [
    "with open('output.json', 'r') as f:\n",
    "    seed_data = json.load(f)\n",
    "len(seed_data)"
   ]
  },
  {
   "cell_type": "code",
   "execution_count": 20,
   "metadata": {},
   "outputs": [
    {
     "data": {
      "text/plain": [
       "30479"
      ]
     },
     "execution_count": 20,
     "metadata": {},
     "output_type": "execute_result"
    }
   ],
   "source": [
    "with open(\"/mnt/lingjiejiang/multimodal_code/data/chart_data/revised_30k_filtered.json\", 'r') as f:\n",
    "    revised_data = json.load(f)\n",
    "len(revised_data)"
   ]
  },
  {
   "cell_type": "code",
   "execution_count": 21,
   "metadata": {},
   "outputs": [
    {
     "data": {
      "text/plain": [
       "75569"
      ]
     },
     "execution_count": 21,
     "metadata": {},
     "output_type": "execute_result"
    }
   ],
   "source": [
    "with open(\"/mnt/lingjiejiang/multimodal_code/data/chart_data/revised_75k_filtered.json\", 'r') as f:\n",
    "    revised_data_75k = json.load(f)\n",
    "len(revised_data_75k)"
   ]
  },
  {
   "cell_type": "code",
   "execution_count": 22,
   "metadata": {},
   "outputs": [
    {
     "data": {
      "text/plain": [
       "[{'index': 1,\n",
       "  'revised_text': \"import matplotlib.pyplot as plt  \\nimport numpy as np  \\n\\n# Sample data\\nx = np.linspace(0, 10, 100)\\ny = np.sin(x)\\n\\n# Create a new figure\\nfig = plt.figure(figsize=(10.0, 6.0))\\n\\n# Plot the data\\nplt.plot(x, y, label='Sine Wave')\\n\\n# Set labels\\nplt.xlabel('X')\\nplt.ylabel('Y')\\nplt.title('Sine Wave')\\n\\n# Add a legend\\nplt.legend()\\n\\n# Show the plot\\nplt.show()\",\n",
       "  'category': 'Line',\n",
       "  'chart_size': [10.0, 6.0],\n",
       "  'gpt_answer': \"<REVISED CODE BEGIN>  \\nimport matplotlib.pyplot as plt  \\nimport numpy as np  \\n\\n# Sample data\\nx = np.linspace(0, 10, 100)\\ny = np.sin(x)\\n\\n# Create a new figure\\nfig = plt.figure(figsize=(10.0, 6.0))\\n\\n# Plot the data\\nplt.plot(x, y, label='Sine Wave')\\n\\n# Set labels\\nplt.xlabel('X')\\nplt.ylabel('Y')\\nplt.title('Sine Wave')\\n\\n# Add a legend\\nplt.legend()\\n\\n# Show the plot\\nplt.show()  \\n<REVISED CODE END>  \\n\\n<CATEGORY>: [Line]  \\n<CHART SIZE>: (10.0, 6.0)  \",\n",
       "  'max_stars_repo_path': '05-Intro-to-SpaCy/scripts/choropleth.py',\n",
       "  'max_stars_repo_name': 'henchc/Rediscovering-Text-as-Data',\n",
       "  'max_stars_count': 15,\n",
       "  'id': '7338',\n",
       "  'text': 'def us_choropleth(t):\\n    import matplotlib.cm\\n    from matplotlib.patches import Polygon\\n    from matplotlib.collections import PatchCollection\\n    from matplotlib.colors import Normalize\\n    import shapefile\\n    import matplotlib.pyplot as plt\\n    from mpl_toolkits.basemap import Basemap\\n    import numpy as np\\n    import random\\n    import pandas as pd\\n    from collections import Counter\\n\\n    plt.title(\"NER\", fontsize=12)\\n\\n    us_locations_map = Basemap(\\n        resolution=\"l\",\\n        llcrnrlon=-128.94,\\n        llcrnrlat=23.52,\\n        urcrnrlon=-60.12,\\n        urcrnrlat=50.93,\\n        lat_0=37.26,\\n        lon_0=-94.53)\\n    us_locations_map.drawmapboundary(\\n        fill_color=\"#46bcec\")  # Fills in the oceans\\n    us_locations_map.fillcontinents(\\n        color=\"#eabc77\",\\n        lake_color=\"#46bcec\")  # Defines the continents\\n    us_locations_map.drawcoastlines()\\n\\n    fig = matplotlib.pyplot.gcf()\\n    fig.set_size_inches(15.5, 12.5)  # Sets the size of the map\\n\\n    # Converts the coordinates to map points\\n    lons, lats = us_locations_map(t[\"longitude\"], t[\"latitude\"])\\n    us_locations_map.scatter(\\n        lons,\\n        lats,\\n        color=\"black\",\\n        zorder=10)  # Draws the points on the map\\n\\n    # Labels each point with the location name\\n    for i in range(t.num_rows):\\n        lat_lon = (\\n            t.row(i).item(\"longitude\") + .2,\\n            t.row(i).item(\"latitude\") - .1)\\n        plt.annotate(np.array(t.row(i).item(\"name\")), lat_lon, fontsize=10)\\n\\n    # Here we are reading in a shape file, which places state boundary\\n    # information for our Basemap\\n    us_locations_map.readshapefile(\\n        \"data/us_shapefiles/cb_2016_us_state_20m\", \"us_states\")\\n\\n    state_names = []\\n    for shape_dict in us_locations_map.us_states_info:\\n        state_names.append(shape_dict[\\'NAME\\'])\\n\\n    ax = plt.gca()  # get current axes instance\\n    cmap = plt.get_cmap(\\'Reds\\')\\n\\n    names = []\\n    shapes = []\\n    counts = []\\n\\n    state_counts = Counter(t[\"state\"])\\n\\n    for index, state in enumerate(state_names):\\n        seg = us_locations_map.us_states[index]\\n        poly = Polygon(seg)\\n        names.append(state)\\n        shapes.append(poly)\\n        if state in t[\\'state\\']:\\n            counts.append(state_counts[state])\\n        else:\\n            counts.append(0)\\n\\n    # Loading our lists into the DataFrame\\n    shape_table = pd.DataFrame()\\n    shape_table[\"State Name\"] = np.array(names)\\n    shape_table[\"Shapes\"] = np.array(shapes)\\n    shape_table[\"Count\"] = np.array(counts)\\n\\n    pc = PatchCollection(shape_table[\"Shapes\"], zorder=2)\\n    norm = Normalize()\\n\\n    pc.set_facecolor(cmap(norm(shape_table[\\'Count\\'].fillna(0).values)))\\n    pc.set_edgecolor(\"black\")\\n    ax.add_collection(pc)\\n\\n    # Adds colorbar showing the scale\\n    mapper = matplotlib.cm.ScalarMappable(norm=norm, cmap=cmap)\\n    mapper.set_array(shape_table[\\'Count\\'])\\n    plt.colorbar(mapper, shrink=0.4)\\n',\n",
       "  'lang': 'python',\n",
       "  'formatted_text': \"```python\\nimport matplotlib.pyplot as plt  \\nimport numpy as np  \\n\\n# Sample data\\nx = np.linspace(0, 10, 100)\\ny = np.sin(x)\\n\\n# Create a new figure\\nfig = plt.figure(figsize=(10.0, 6.0))\\n\\n# Plot the data\\nplt.plot(x, y, label='Sine Wave')\\n\\n# Set labels\\nplt.xlabel('X')\\nplt.ylabel('Y')\\nplt.title('Sine Wave')\\n\\n# Add a legend\\nplt.legend()\\n\\n# Show the plot\\nplt.show()\\n```\",\n",
       "  'source': 'v1',\n",
       "  'images': '/mnt/lingjiejiang/multimodal_code/data/chart_data/github_images/images_split1/000002.jpg'},\n",
       " {'index': 2,\n",
       "  'revised_text': \"import matplotlib.pyplot as plt  \\nimport numpy as np  \\n\\n# Sample data\\nx = np.linspace(0, 10, 100)\\ny = np.sin(x)\\n\\n# Create a new figure\\nfig = plt.figure(figsize=(8.0, 6.0))\\nax = fig.add_subplot(111)\\n\\n# Plot the data\\nax.plot(x, y, label='Sine Wave')\\n\\n# Set labels\\nax.set_xlabel('X-axis')\\nax.set_ylabel('Y-axis')\\nax.set_title('Sine Wave Plot')\\n\\n# Add a legend\\nax.legend()\\n\\n# Show the plot\\nplt.show()\",\n",
       "  'category': 'Line',\n",
       "  'chart_size': [8.0, 6.0],\n",
       "  'gpt_answer': \"<REVISED CODE BEGIN>  \\nimport matplotlib.pyplot as plt  \\nimport numpy as np  \\n\\n# Sample data\\nx = np.linspace(0, 10, 100)\\ny = np.sin(x)\\n\\n# Create a new figure\\nfig = plt.figure(figsize=(8.0, 6.0))\\nax = fig.add_subplot(111)\\n\\n# Plot the data\\nax.plot(x, y, label='Sine Wave')\\n\\n# Set labels\\nax.set_xlabel('X-axis')\\nax.set_ylabel('Y-axis')\\nax.set_title('Sine Wave Plot')\\n\\n# Add a legend\\nax.legend()\\n\\n# Show the plot\\nplt.show()  \\n<REVISED CODE END>  \\n\\n<CATEGORY>: [Line]  \\n<CHART SIZE>: (8.0, 6.0)  \",\n",
       "  'max_stars_repo_path': 'netpyne/plotting/plotter.py',\n",
       "  'max_stars_repo_name': 'sanjayankur31/netpyne',\n",
       "  'max_stars_count': 0,\n",
       "  'id': '5006',\n",
       "  'text': '\"\"\"\\nModule for plotting analyses\\n\\n\"\"\"\\n\\nimport matplotlib as mpl\\nimport matplotlib.pyplot as plt\\nimport numpy as np\\nfrom copy import deepcopy\\nimport pickle, json\\nimport os\\nfrom matplotlib.offsetbox import AnchoredOffsetbox\\n\\ntry:\\n    basestring\\nexcept NameError:\\n    basestring = str\\n\\n\\ncolorList = [[0.42, 0.67, 0.84], [0.90, 0.76, 0.00], [0.42, 0.83, 0.59], [0.90, 0.32, 0.00], [0.34, 0.67, 0.67], [0.90, 0.59, 0.00], [0.42, 0.82, 0.83], [1.00, 0.85, 0.00], [0.33, 0.67, 0.47], [1.00, 0.38, 0.60], [0.57, 0.67, 0.33], [0.50, 0.20, 0.00], [0.71, 0.82, 0.41], [0.00, 0.20, 0.50], [0.70, 0.32, 0.10]] * 3\\n\\n\\n\\nclass MetaFigure:\\n    \"\"\"A class which defines a figure object\"\"\"\\n\\n    def __init__(self, kind, sim=None, subplots=None, rcParams=None, autosize=0.35, **kwargs):\\n\\n        if not sim:\\n            from .. import sim\\n        self.sim = sim\\n\\n        self.kind = kind\\n\\n        # Make a copy of the current matplotlib rcParams and update them\\n        self.orig_rcParams = deepcopy(mpl.rcParamsDefault)\\n        if rcParams:\\n            for rcParam in rcParams:\\n                if rcParam in mpl.rcParams:\\n                    mpl.rcParams[rcParam] = rcParams[rcParam]\\n                else:\\n                    print(rcParam, \\'not found in matplotlib.rcParams\\')\\n            self.rcParams = rcParams\\n        else:\\n            self.rcParams = self.orig_rcParams\\n\\n        # Set up any subplots\\n        if not subplots:\\n            nrows = 1\\n            ncols = 1\\n        elif type(subplots) == int:\\n            nrows = subplots\\n            ncols = 1\\n        elif type(subplots) == list:\\n            nrows = subplots[0]\\n            ncols = subplots[1] \\n\\n        # Create figure\\n        if \\'figSize\\' in kwargs:\\n            figSize = kwargs[\\'figSize\\']\\n        else:\\n            figSize = self.rcParams[\\'figure.figsize\\']\\n        if \\'dpi\\' in kwargs:\\n            dpi = kwargs[\\'dpi\\']\\n        else:\\n            dpi = self.rcParams[\\'figure.dpi\\']\\n        \\n        if autosize:\\n            maxplots = np.max([nrows, ncols])\\n            figSize0 = figSize[0] + (maxplots-1)*(figSize[0]*autosize)\\n            figSize1 = figSize[1] + (maxplots-1)*(figSize[1]*autosize)\\n            figSize = [figSize0, figSize1]\\n\\n        self.fig, self.ax = plt.subplots(nrows, ncols, figsize=figSize, dpi=dpi)\\n\\n        self.plotters = []\\n\\n\\n    def saveFig(self, sim=None, fileName=None, fileDesc=None, fileType=\\'png\\', fileDir=None, overwrite=True, **kwargs):\\n        \"\"\"\\n        \\'eps\\': \\'Encapsulated Postscript\\',\\n        \\'jpg\\': \\'Joint Photographic Experts Group\\',\\n        \\'jpeg\\': \\'Joint Photographic Experts Group\\',\\n        \\'pdf\\': \\'Portable Document Format\\',\\n        \\'pgf\\': \\'PGF code for LaTeX\\',\\n        \\'png\\': \\'Portable Network Graphics\\',\\n        \\'ps\\': \\'Postscript\\',\\n        \\'raw\\': \\'Raw RGBA bitmap\\',\\n        \\'rgba\\': \\'Raw RGBA bitmap\\',\\n        \\'svg\\': \\'Scalable Vector Graphics\\',\\n        \\'svgz\\': \\'Scalable Vector Graphics\\',\\n        \\'tif\\': \\'Tagged Image File Format\\',\\n        \\'tiff\\': \\'Tagged Image File Format\\'\\n        \"\"\"\\n\\n        if not sim:\\n            from .. import sim\\n\\n        if fileDesc is not None:\\n            fileDesc = \\'_\\' + str(fileDesc)\\n        else:\\n            fileDesc = \\'_\\' + self.kind\\n\\n        if fileType not in self.fig.canvas.get_supported_filetypes():\\n            raise Exception(\\'fileType not recognized in saveFig\\')\\n        else:\\n            fileExt = \\'.\\' + fileType\\n\\n        if not fileName or not isinstance(fileName, basestring):\\n            fileName = self.sim.cfg.filename + fileDesc + fileExt\\n        else:\\n            if fileName.endswith(fileExt):\\n                fileName = fileName.split(fileExt)[0] + fileDesc + fileExt\\n            else:\\n                fileName = fileName + fileDesc + fileExt\\n\\n        if fileDir is not None:\\n            fileName = os.path.join(fileDir, fileName)\\n\\n        if not overwrite:\\n            while os.path.isfile(fileName):\\n                try:\\n                    fileNumStr = fileName.split(fileExt)[0].split(\\'_\\')[-1]\\n                    fileNumStrNew = str(int(fileNumStr) + 1).zfill(2)\\n                    fileName = fileName.split(\\'_\\' + fileNumStr)[0]\\n                except:\\n                    fileNumStr = fileNumStrNew = \\'01\\'\\n                    fileName = fileName.split(fileExt)[0]\\n                \\n                fileName = fileName.split(fileNumStr)[0] + \\'_\\' + fileNumStrNew + fileExt   \\n        \\n        self.fig.savefig(fileName)\\n        self.fileName = fileName\\n\\n        return fileName\\n\\n\\n    def showFig(self, **kwargs):\\n        try:\\n            self.fig.show(block=False)\\n        except:\\n            self.fig.show()\\n\\n\\n    def addSuptitle(self, **kwargs):\\n        self.fig.suptitle(**kwargs)\\n\\n\\n    def finishFig(self, **kwargs):\\n\\n        if \\'suptitle\\' in kwargs:\\n            if kwargs[\\'suptitle\\']:\\n                self.addSuptitle(**kwargs[\\'suptitle\\'])\\n\\n        if \\'tightLayout\\' not in kwargs:\\n            plt.tight_layout()\\n        elif kwargs[\\'tightLayout\\']:\\n            plt.tight_layout()\\n\\n        if \\'saveFig\\' in kwargs:\\n            if kwargs[\\'saveFig\\']:\\n                self.saveFig(**kwargs)\\n        \\n        if \\'showFig\\' in kwargs:\\n            if kwargs[\\'showFig\\']:   \\n                self.showFig(**kwargs)\\n        else:\\n            plt.close(self.fig)\\n\\n        # Reset the matplotlib rcParams to their original settings\\n        mpl.style.use(self.orig_rcParams)\\n\\n\\n\\n\\nclass GeneralPlotter:\\n    \"\"\"A class used for plotting\"\"\"\\n\\n    def __init__(self, data, kind, axis=None, sim=None, rcParams=None, metafig=None, **kwargs):\\n        \"\"\"\\n        Parameters\\n        ----------\\n        data : dict, str\\n\\n        axis : matplotlib axis\\n            The axis to plot into.  If axis is set to None, a new figure and axis are created and plotted into.  If plotting into an existing axis, more options are available: xtwin, ytwin,\\n        \\n        \"\"\"\\n        self.kind = kind\\n\\n        # Load data\\n        if type(data) == str:\\n            if os.path.isfile(data):\\n                self.data = self.loadData(data)\\n            else:\\n                raise Exception(\\'In Plotter, if data is a string, it must be the path to a data file.\\')\\n        else:\\n            self.data = data\\n\\n        if not sim:\\n            from .. import sim\\n        \\n        self.sim = sim\\n        self.axis = axis\\n\\n        if metafig:\\n            self.metafig = metafig\\n\\n        # If an axis is input, plot there; otherwise make a new figure and axis\\n        if self.axis is None:\\n            final = True\\n            self.metafig = MetaFigure(kind=self.kind, **kwargs)\\n            self.fig = self.metafig.fig\\n            self.axis = self.metafig.ax\\n        else:\\n            self.fig = self.axis.figure\\n\\n        # Attach plotter to its MetaFigure\\n        self.metafig.plotters.append(self)\\n\\n\\n    def loadData(self, fileName, fileDir=None, sim=None):\\n        from ..analysis import loadData\\n        self.data = loadData(fileName=fileName, fileDir=fileDir, sim=None)\\n        \\n\\n\\n    def saveData(self, fileName=None, fileDesc=None, fileType=None, fileDir=None, sim=None, **kwargs):\\n        from ..analysis import saveData as saveFigData\\n        saveFigData(self.data, fileName=fileName, fileDesc=fileDesc, fileType=fileType, fileDir=fileDir, sim=sim, **kwargs)\\n    \\n\\n    def formatAxis(self, **kwargs):\\n        \\n        if \\'title\\' in kwargs:\\n            self.axis.set_title(kwargs[\\'title\\'])\\n\\n        if \\'xlabel\\' in kwargs:\\n            self.axis.set_xlabel(kwargs[\\'xlabel\\'])\\n\\n        if \\'ylabel\\' in kwargs:\\n            self.axis.set_ylabel(kwargs[\\'ylabel\\'])\\n\\n        if \\'xlim\\' in kwargs:\\n            if kwargs[\\'xlim\\'] is not None:\\n                self.axis.set_xlim(kwargs[\\'xlim\\'])\\n\\n        if \\'ylim\\' in kwargs:\\n            if kwargs[\\'ylim\\'] is not None:\\n                self.axis.set_ylim(kwargs[\\'ylim\\'])\\n\\n        if \\'invert_yaxis\\' in kwargs:\\n            if kwargs[\\'invert_yaxis\\'] is True:\\n                self.axis.invert_yaxis()\\n\\n\\n    def addLegend(self, handles=None, labels=None, **kwargs):\\n\\n        legendParams = [\\'loc\\', \\'bbox_to_anchor\\', \\'fontsize\\', \\'numpoints\\', \\'scatterpoints\\', \\'scatteryoffsets\\', \\'markerscale\\', \\'markerfirst\\', \\'frameon\\', \\'fancybox\\', \\'shadow\\', \\'framealpha\\', \\'facecolor\\', \\'edgecolor\\', \\'mode\\', \\'bbox_transform\\', \\'title\\', \\'title_fontsize\\', \\'borderpad\\', \\'labelspacing\\', \\'handlelength\\', \\'handletextpad\\', \\'borderaxespad\\', \\'columnspacing\\', \\'handler_map\\']\\n\\n        # Check for and apply any legend parameters in the kwargs\\n        legendKwargs = {}\\n        for kwarg in kwargs:\\n            if kwarg in legendParams:\\n                legendKwargs[kwarg] = kwargs[kwarg]\\n\\n        # If \\'legendKwargs\\' is found in kwargs, use those values instead of the defaults\\n        if \\'legendKwargs\\' in kwargs:\\n            legendKwargs_new = kwargs[\\'legendKwargs\\']\\n            for key in legendKwargs_new:\\n                if key in legendParams:\\n                    legendKwargs[key] = legendKwargs_new[key]\\n\\n        cur_handles, cur_labels = self.axis.get_legend_handles_labels()\\n\\n        if not handles:\\n            handles = cur_handles\\n        if not labels:\\n            labels = cur_labels\\n\\n        self.axis.legend(handles, labels, **legendKwargs)\\n\\n\\n    def addScalebar(self, matchx=True, matchy=True, hidex=True, hidey=True, unitsx=None, unitsy=None, scalex=1.0, scaley=1.0, xmax=None, ymax=None, space=None, **kwargs):\\n\\n        add_scalebar(self.axis, matchx=matchx, matchy=matchy, hidex=hidex, hidey=hidey, unitsx=unitsx, unitsy=unitsy, scalex=scalex, scaley=scaley, xmax=xmax, ymax=ymax, space=space, **kwargs)\\n\\n\\n    def addColorbar(self, **kwargs):\\n        plt.colorbar(mappable=self.axis.get_images()[0], ax=self.axis, **kwargs)\\n\\n\\n    def finishAxis(self, **kwargs):\\n\\n        self.formatAxis(**kwargs)\\n        \\n        if \\'saveData\\' in kwargs:\\n            if kwargs[\\'saveData\\']:\\n                self.saveData(**kwargs)\\n\\n        if \\'dpi\\' in kwargs:\\n            if kwargs[\\'dpi\\']:\\n                self.fig.set_dpi(kwargs[\\'dpi\\'])\\n\\n        if \\'figSize\\' in kwargs:\\n            if kwargs[\\'figSize\\']:\\n                self.fig.set_size_inches(kwargs[\\'figSize\\'])\\n\\n        if \\'legend\\' in kwargs:\\n            if kwargs[\\'legend\\'] is True:\\n                self.addLegend(**kwargs)\\n            elif type(kwargs[\\'legend\\']) == dict:\\n                self.addLegend(**kwargs[\\'legend\\'])\\n\\n        if \\'scalebar\\' in kwargs:\\n            if kwargs[\\'scalebar\\'] is True:\\n                self.addScalebar()\\n            elif type(kwargs[\\'scalebar\\']) == dict:\\n                self.addScalebar(**kwargs[\\'scalebar\\'])\\n\\n        if \\'colorbar\\' in kwargs:\\n            if kwargs[\\'colorbar\\'] is True:\\n                self.addColorbar()\\n            elif type(kwargs[\\'colorbar\\']) == dict:\\n                self.addColorbar(**kwargs[\\'colorbar\\'])\\n\\n        if \\'grid\\' in kwargs:\\n            self.axis.minorticks_on()\\n            if kwargs[\\'grid\\'] is True:\\n                self.axis.grid()\\n            elif type(kwargs[\\'grid\\']) == dict:\\n                self.axis.grid(**kwargs[\\'grid\\'])\\n\\n        # If this is the only axis on the figure, finish the figure\\n        if type(self.metafig.ax) != list:\\n            self.metafig.finishFig(**kwargs)\\n\\n\\n\\n        # Reset the matplotlib rcParams to their original settings\\n        mpl.style.use(self.metafig.orig_rcParams)\\n                \\n\\nclass ScatterPlotter(GeneralPlotter):\\n    \"\"\"A class used for scatter plotting\"\"\"\\n\\n    def __init__(self, data, axis=None, **kwargs):\\n        \\n        super().__init__(data=data, axis=axis, **kwargs)\\n\\n        self.kind       = \\'scatter\\'\\n        self.x          = data.get(\\'x\\')\\n        self.y          = data.get(\\'y\\')\\n        self.s          = data.get(\\'s\\')\\n        self.c          = data.get(\\'c\\')\\n        self.marker     = data.get(\\'marker\\')\\n        self.linewidth  = data.get(\\'linewidth\\')\\n        self.cmap       = data.get(\\'cmap\\')\\n        self.norm       = data.get(\\'norm\\')\\n        self.alpha      = data.get(\\'alpha\\')\\n        self.linewidths = data.get(\\'linewidths\\')\\n\\n\\n    def plot(self, **kwargs):\\n\\n        scatterPlot = self.axis.scatter(x=self.x, y=self.y, s=self.s, c=self.c, marker=self.marker, linewidth=self.linewidth, cmap=self.cmap, norm=self.norm, alpha=self.alpha, linewidths=self.linewidths)\\n\\n        self.finishAxis(**kwargs)\\n\\n        return self.fig\\n\\n\\nclass LinePlotter(GeneralPlotter):\\n    \"\"\"A class used for plotting one line per subplot\"\"\"\\n\\n    def __init__(self, data, axis=None, options={}, **kwargs):\\n        \\n        super().__init__(data=data, axis=axis, **kwargs)\\n\\n        self.kind       = \\'line\\'\\n        self.x          = np.array(data.get(\\'x\\'))\\n        self.y          = np.array(data.get(\\'y\\'))\\n        self.color      = data.get(\\'color\\')\\n        self.marker     = data.get(\\'marker\\')\\n        self.markersize = data.get(\\'markersize\\')\\n        self.linewidth  = data.get(\\'linewidth\\')\\n        self.alpha      = data.get(\\'alpha\\')\\n\\n\\n    def plot(self, **kwargs):\\n\\n        linePlot = self.axis.plot(self.x, self.y, color=self.color, marker=self.marker, markersize=self.markersize, linewidth=self.linewidth, alpha=self.alpha)\\n\\n        self.finishAxis(**kwargs)\\n\\n        return self.fig\\n\\n\\n\\n\\nclass LinesPlotter(GeneralPlotter):\\n    \"\"\"A class used for plotting multiple lines on the same axis\"\"\"\\n\\n    def __init__(self, data, axis=None, options={}, **kwargs):\\n        \\n        super().__init__(data=data, axis=axis, **kwargs)\\n\\n        self.kind       = \\'lines\\'\\n        self.x          = np.array(data.get(\\'x\\'))\\n        self.y          = np.array(data.get(\\'y\\'))\\n        self.color      = data.get(\\'color\\')\\n        self.marker     = data.get(\\'marker\\')\\n        self.markersize = data.get(\\'markersize\\')\\n        self.linewidth  = data.get(\\'linewidth\\')\\n        self.alpha      = data.get(\\'alpha\\')\\n        self.label      = data.get(\\'label\\')\\n\\n\\n    def plot(self, **kwargs):\\n\\n        numLines = len(self.y)\\n\\n        if type(self.color) != list:\\n            colors = [self.color for line in range(numLines)]\\n        else:\\n            colors = self.color\\n\\n        if type(self.marker) != list:\\n            markers = [self.marker for line in range(numLines)]\\n        else:\\n            markers = self.marker\\n\\n        if type(self.markersize) != list:\\n            markersizes = [self.markersize for line in range(numLines)]\\n        else:\\n            markersizes = self.markersize\\n\\n        if type(self.linewidth) != list:\\n            linewidths = [self.linewidth for line in range(numLines)]\\n        else:\\n            linewidths = self.linewidth\\n\\n        if type(self.alpha) != list:\\n            alphas = [self.alpha for line in range(numLines)]\\n        else:\\n            alphas = self.alpha\\n\\n        if self.label is None:\\n            labels = [None for line in range(numLines)]\\n        else:\\n            labels = self.label\\n\\n        for index, line in enumerate(self.y):\\n            self.axis.plot(\\n                self.x, \\n                self.y[index], \\n                color=colors[index], \\n                marker=markers[index], \\n                markersize=markersizes[index], \\n                linewidth=linewidths[index], \\n                alpha=alphas[index], \\n                label=labels[index],\\n                )\\n\\n        self.finishAxis(**kwargs)\\n\\n        return self.fig\\n\\n\\n\\nclass HistPlotter(GeneralPlotter):\\n    \"\"\"A class used for histogram plotting\"\"\"\\n\\n    def __init__(self, data, axis=None, options={}, **kwargs):\\n        \\n        super().__init__(data=data, axis=axis, **kwargs)\\n\\n        self.kind        = \\'histogram\\'\\n        self.x           = data.get(\\'x\\')\\n        self.bins        = data.get(\\'bins\\', None) \\n        self.range       = data.get(\\'range\\', None) \\n        self.density     = data.get(\\'density\\', False) \\n        self.weights     = data.get(\\'weights\\', None) \\n        self.cumulative  = data.get(\\'cumulative\\', False) \\n        self.bottom      = data.get(\\'bottom\\', None) \\n        self.histtype    = data.get(\\'histtype\\', \\'bar\\') \\n        self.align       = data.get(\\'align\\', \\'mid\\')\\n        self.orientation = data.get(\\'orientation\\', \\'vertical\\') \\n        self.rwidth      = data.get(\\'rwidth\\', None)\\n        self.log         = data.get(\\'log\\', False) \\n        self.color       = data.get(\\'color\\', None)\\n        self.alpha       = data.get(\\'alpha\\', None)\\n        self.label       = data.get(\\'label\\', None)\\n        self.stacked     = data.get(\\'stacked\\', False)\\n        self.data        = data.get(\\'data\\', None)\\n\\n    def plot(self, **kwargs):\\n\\n        histPlot = self.axis.hist(self.x, bins=self.bins, range=self.range, density=self.density, weights=self.weights, cumulative=self.cumulative, bottom=self.bottom, histtype=self.histtype, align=self.align, orientation=self.orientation, rwidth=self.rwidth, log=self.log, color=self.color, alpha=self.alpha, label=self.label, stacked=self.stacked, data=self.data)\\n\\n        self.finishAxis(**kwargs)\\n\\n        return self.fig\\n\\n\\n\\nclass ImagePlotter(GeneralPlotter):\\n    \"\"\"A class used for image plotting using plt.imshow\"\"\"\\n\\n    def __init__(self, data, axis=None, options={}, **kwargs):\\n        \\n        super().__init__(data=data, axis=axis, **kwargs)\\n\\n        self.kind          = \\'image\\'\\n        self.X             = data.get(\\'X\\') \\n        self.cmap          = data.get(\\'cmap\\', None)\\n        self.norm          = data.get(\\'norm\\', None)\\n        self.aspect        = data.get(\\'aspect\\', None) \\n        self.interpolation = data.get(\\'interpolation\\', None) \\n        self.alpha         = data.get(\\'alpha\\', None) \\n        self.vmin          = data.get(\\'vmin\\', None) \\n        self.vmax          = data.get(\\'vmax\\', None) \\n        self.origin        = data.get(\\'origin\\', None) \\n        self.extent        = data.get(\\'extent\\', None) \\n        self.aspect        = data.get(\\'aspect\\', None) \\n        self.interpolation = data.get(\\'interpolation\\', None)\\n        self.filternorm    = data.get(\\'filternorm\\', True)\\n        self.filterrad     = data.get(\\'filterrad\\', 4.0)\\n        self.resample      = data.get(\\'resample\\', None)  \\n        self.url           = data.get(\\'url\\', None)  \\n        self.data          = data.get(\\'data\\', None) \\n\\n    def plot(self, **kwargs):\\n\\n        imagePlot = self.axis.imshow(self.X, cmap=self.cmap, norm=self.norm, aspect=self.aspect, interpolation=self.interpolation, alpha=self.alpha, vmin=self.vmin, vmax=self.vmax, origin=self.origin, extent=self.extent, filternorm=self.filternorm, filterrad=self.filterrad, resample=self.resample, url=self.url, data=self.data)\\n\\n        self.finishAxis(**kwargs)\\n\\n        return self.fig\\n\\n\\n\\n\\nclass AnchoredScaleBar(AnchoredOffsetbox):\\n    \"\"\"\\n    A class used for adding scale bars to plots\\n    \"\"\"\\n    \\n    def __init__(self, axis, sizex=0, sizey=0, labelx=None, labely=None, loc=4, pad=0.1, borderpad=0.1, sep=2, prop=None, barcolor=\"black\", barwidth=None, **kwargs):\\n        \"\"\"\\n        Draw a horizontal and/or vertical  bar with the size in data coordinate\\n        of the give axes. A label will be drawn underneath (center-aligned).\\n\\n        - transform : the coordinate frame (typically axes.transData)\\n        - sizex,sizey : width of x,y bar, in data units. 0 to omit\\n        - labelx,labely : labels for x,y bars; None to omit\\n        - loc : position in containing axes\\n        - pad, borderpad : padding, in fraction of the legend font size (or prop)\\n        - sep : separation between labels and bars in points.\\n        - **kwargs : additional arguments passed to base class constructor\\n        \"\"\"\\n        from matplotlib.patches import Rectangle\\n        from matplotlib.offsetbox import AuxTransformBox, VPacker, HPacker, TextArea, DrawingArea\\n        bars = AuxTransformBox(axis.transData)\\n        if sizex:\\n            if axis.xaxis_inverted():\\n                sizex = -sizex\\n            bars.add_artist(Rectangle((0,0), sizex, 0, ec=barcolor, lw=barwidth, fc=\"none\"))\\n        if sizey:\\n            if axis.yaxis_inverted():\\n                sizey = -sizey\\n            bars.add_artist(Rectangle((0,0), 0, sizey, ec=barcolor, lw=barwidth, fc=\"none\"))\\n\\n        if sizex and labelx:\\n            self.xlabel = TextArea(labelx)\\n            bars = VPacker(children=[bars, self.xlabel], align=\"center\", pad=0, sep=sep)\\n        if sizey and labely:\\n            self.ylabel = TextArea(labely)\\n            bars = HPacker(children=[self.ylabel, bars], align=\"center\", pad=0, sep=sep)\\n\\n        AnchoredOffsetbox.__init__(self, loc, pad=pad, borderpad=borderpad, child=bars, prop=prop, frameon=False, **kwargs)\\n\\n\\ndef add_scalebar(axis, matchx=True, matchy=True, hidex=True, hidey=True, unitsx=None, unitsy=None, scalex=1.0, scaley=1.0, xmax=None, ymax=None, space=None, **kwargs):\\n    \"\"\"\\n    Add scalebars to axes\\n\\n    Adds a set of scale bars to *ax*, matching the size to the ticks of the plot and optionally hiding the x and y axes\\n\\n    - axis : the axis to attach ticks to\\n    - matchx,matchy : if True, set size of scale bars to spacing between ticks, if False, set size using sizex and sizey params\\n    - hidex,hidey : if True, hide x-axis and y-axis of parent\\n    - **kwargs : additional arguments passed to AnchoredScaleBars\\n\\n    Returns created scalebar object\\n    \"\"\"\\n    def get_tick_size(subaxis):\\n        tick_size = None\\n        tick_locs = subaxis.get_majorticklocs()\\n        if len(tick_locs)>1:\\n            tick_size = np.abs(tick_locs[1] - tick_locs[0])\\n        return tick_size\\n        \\n    if matchx:\\n        sizex = get_tick_size(axis.xaxis)\\n    if matchy:\\n        sizey = get_tick_size(axis.yaxis)\\n\\n    if \\'sizex\\' in kwargs:\\n        sizex = kwargs[\\'sizex\\']\\n    if \\'sizey\\' in kwargs:\\n        sizey = kwargs[\\'sizey\\']\\n    \\n    def autosize(value, maxvalue, scale, n=1, m=10):\\n        round_to_n = lambda value, n, m: int(np.ceil(round(value, -int(np.floor(np.log10(abs(value)))) + (n - 1)) / m)) * m\\n        while value > maxvalue:\\n            try:\\n                value = round_to_n(0.8 * maxvalue * scale, n, m) / scale\\n            except:\\n                value /= 10.0\\n            m /= 10.0\\n        return value\\n\\n    if ymax is not None and sizey>ymax:\\n        sizey = autosize(sizey, ymax, scaley)\\n    if xmax is not None and sizex>xmax:\\n        sizex = autosize(sizex, xmax, scalex)\\n\\n    kwargs[\\'sizex\\'] = sizex\\n    kwargs[\\'sizey\\'] = sizey\\n\\n    if unitsx is None:\\n        unitsx = \\'\\'\\n    if unitsy is None:\\n        unitsy = \\'\\'\\n\\n    if \\'labelx\\' not in kwargs or kwargs[\\'labelx\\'] is None:\\n        kwargs[\\'labelx\\'] = \\'%.3g %s\\'%(kwargs[\\'sizex\\'] * scalex, unitsx)\\n    if \\'labely\\' not in kwargs or kwargs[\\'labely\\'] is None:\\n        kwargs[\\'labely\\'] = \\'%.3g %s\\'%(kwargs[\\'sizey\\'] * scaley, unitsy)\\n        \\n    # add space for scalebar\\n    if space is not None:\\n        ylim0, ylim1 = axis.get_ylim()\\n        ylim = (ylim0 - space, ylim1)\\n        if ylim0 > ylim1: # if y axis is inverted\\n            ylim = (ylim0 + space, ylim1)\\n        axis.set_ylim(ylim)\\n\\n    scalebar = AnchoredScaleBar(axis, **kwargs)\\n    axis.add_artist(scalebar)\\n\\n    if hidex: \\n        axis.xaxis.set_visible(False)\\n    if hidey: \\n        axis.yaxis.set_visible(False)\\n    if hidex and hidey: \\n        axis.set_frame_on(False)\\n\\n    return scalebar\\n',\n",
       "  'lang': 'python',\n",
       "  'formatted_text': \"```python\\nimport matplotlib.pyplot as plt  \\nimport numpy as np  \\n\\n# Sample data\\nx = np.linspace(0, 10, 100)\\ny = np.sin(x)\\n\\n# Create a new figure\\nfig = plt.figure(figsize=(8.0, 6.0))\\nax = fig.add_subplot(111)\\n\\n# Plot the data\\nax.plot(x, y, label='Sine Wave')\\n\\n# Set labels\\nax.set_xlabel('X-axis')\\nax.set_ylabel('Y-axis')\\nax.set_title('Sine Wave Plot')\\n\\n# Add a legend\\nax.legend()\\n\\n# Show the plot\\nplt.show()\\n```\",\n",
       "  'source': 'v1',\n",
       "  'images': '/mnt/lingjiejiang/multimodal_code/data/chart_data/github_images/images_split1/000003.jpg'}]"
      ]
     },
     "execution_count": 22,
     "metadata": {},
     "output_type": "execute_result"
    }
   ],
   "source": [
    "revised_data_75k[:2]"
   ]
  },
  {
   "cell_type": "code",
   "execution_count": 26,
   "metadata": {},
   "outputs": [
    {
     "data": {
      "text/plain": [
       "22590"
      ]
     },
     "execution_count": 26,
     "metadata": {},
     "output_type": "execute_result"
    }
   ],
   "source": [
    "line_data = [item for item in revised_data if item[\"category\"] == \"Line\"]\n",
    "len(line_data)"
   ]
  },
  {
   "cell_type": "code",
   "execution_count": 24,
   "metadata": {},
   "outputs": [
    {
     "data": {
      "text/plain": [
       "16721"
      ]
     },
     "execution_count": 24,
     "metadata": {},
     "output_type": "execute_result"
    }
   ],
   "source": [
    "filter_line_data = [item for item in revised_data_75k if item[\"category\"] != \"Line\"]\n",
    "len(filter_line_data)"
   ]
  },
  {
   "cell_type": "code",
   "execution_count": 28,
   "metadata": {},
   "outputs": [
    {
     "data": {
      "text/plain": [
       "39335"
      ]
     },
     "execution_count": 28,
     "metadata": {},
     "output_type": "execute_result"
    }
   ],
   "source": [
    "merged_data = line_data + filter_line_data + seed_data \n",
    "len(merged_data)"
   ]
  },
  {
   "cell_type": "code",
   "execution_count": 30,
   "metadata": {},
   "outputs": [],
   "source": [
    "with open(\"/mnt/lingjiejiang/multimodal_code/data/chart_data/direct_revised_39k.json\", 'w') as f:\n",
    "    json.dump(merged_data, f, indent=0)"
   ]
  },
  {
   "cell_type": "code",
   "execution_count": 35,
   "metadata": {},
   "outputs": [],
   "source": [
    "import json  \n",
    "import random  \n",
    "# 创建一个字典来存储每个类别的数据  \n",
    "category_data = {}  \n",
    "for item in merged_data:  \n",
    "    category = item['category']  \n",
    "    if category not in category_data:  \n",
    "        category_data[category] = []  \n",
    "    category_data[category].append(item)  \n",
    "  \n",
    "# 创建一个列表来存储所有抽样到的数据  \n",
    "sampled_data = []  \n",
    "  \n",
    "# 对每个类别进行处理  \n",
    "for category, items in category_data.items():  \n",
    "    if len(items) < 1000:  \n",
    "        # 计算需要补充的数量  \n",
    "        additional_count = 1000 - len(items)  \n",
    "        # 从当前类别的数据中抽样补充  \n",
    "        sampled_items = random.choices(items, k=additional_count)  \n",
    "        # 将抽样到的项直接添加到结果列表中  \n",
    "        sampled_data.extend(sampled_items)"
   ]
  },
  {
   "cell_type": "code",
   "execution_count": 38,
   "metadata": {},
   "outputs": [],
   "source": [
    "with open(\"/mnt/lingjiejiang/multimodal_code/data/chart_data/sampled_cate1k_12k.json\", 'w') as f:\n",
    "    json.dump(sampled_data, f, indent=0)"
   ]
  },
  {
   "cell_type": "code",
   "execution_count": 36,
   "metadata": {},
   "outputs": [
    {
     "name": "stdout",
     "output_type": "stream",
     "text": [
      "统计结果已写入 prompt_generate/category_statistics_sampled.txt\n"
     ]
    }
   ],
   "source": [
    "import json  \n",
    "from collections import Counter  \n",
    "  \n",
    "# # 示例数据  \n",
    "# data = [  \n",
    "#     {'category': 'Heatmap', 'id': '2234'},  \n",
    "#     {'category': 'Line', 'id': '2235'},  \n",
    "#     {'category': 'Bar', 'id': '2236'},  \n",
    "#     # 更多数据...  \n",
    "# ]  \n",
    "  \n",
    "# 需要检查的类别列表  \n",
    "categories_to_check = [  \n",
    "    \"Bar\", \"Line\", \"ErrorBar\", \"Heatmap\", \"Box\", \"Scatters\", \"Hist\", \"Radar\",  \n",
    "    \"3D\", \"Pie\", \"ErrorPoint\", \"Violin\", \"Area\", \"Contour\", \"Density\", \"Graph\",  \n",
    "    \"Quiver\", \"Treemap\", \"Combination\", \"HR\", \"Multidiff\", \"PIP\"  \n",
    "]  \n",
    "  \n",
    "# 统计每个类别的数量  \n",
    "category_counts = Counter(item['category'] for item in sampled_data)  \n",
    "  \n",
    "# 找出没有出现的类别  \n",
    "categories_not_in_data = [category for category in categories_to_check if category not in category_counts]  \n",
    "  \n",
    "# 输出结果到文件  \n",
    "output_path = 'prompt_generate/category_statistics_sampled.txt'  \n",
    "with open(output_path, 'w') as file:  \n",
    "    file.write(\"Category Counts:\\n\")  \n",
    "    for category, count in category_counts.items():  \n",
    "        file.write(f\"{category}: {count}\\n\")  \n",
    "    file.write(\"\\nCategories not in data:\\n\")  \n",
    "    for category in categories_not_in_data:  \n",
    "        file.write(f\"{category}\\n\")  \n",
    "  \n",
    "print(f\"统计结果已写入 {output_path}\")  "
   ]
  },
  {
   "cell_type": "code",
   "execution_count": 37,
   "metadata": {},
   "outputs": [
    {
     "data": {
      "text/plain": [
       "12793"
      ]
     },
     "execution_count": 37,
     "metadata": {},
     "output_type": "execute_result"
    }
   ],
   "source": [
    "len(sampled_data)"
   ]
  }
 ],
 "metadata": {
  "kernelspec": {
   "display_name": "chartmimic",
   "language": "python",
   "name": "python3"
  },
  "language_info": {
   "codemirror_mode": {
    "name": "ipython",
    "version": 3
   },
   "file_extension": ".py",
   "mimetype": "text/x-python",
   "name": "python",
   "nbconvert_exporter": "python",
   "pygments_lexer": "ipython3",
   "version": "3.9.0"
  }
 },
 "nbformat": 4,
 "nbformat_minor": 2
}
