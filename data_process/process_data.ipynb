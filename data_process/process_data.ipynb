{
 "cells": [
  {
   "cell_type": "code",
   "execution_count": 2,
   "metadata": {},
   "outputs": [],
   "source": [
    "import os  \n",
    "import json  \n",
    "  \n",
    "# 目录路径  \n",
    "directory_path = '/mnt/unilm/shaohanh/data/code/matplotlib/'  \n",
    "# 输出文件路径  \n",
    "output_file_path = os.path.join(directory_path, 'merged_v4.jsonl')  \n",
    "  \n",
    "# 获取目录下所有的 .jsonl 文件  \n",
    "files_to_merge = [f for f in os.listdir(directory_path) if f.endswith('.jsonl')]  \n",
    "  \n",
    "# 初始化一个列表来存储所有的 JSON 对象  \n",
    "merged_data_1 = []  \n",
    "  \n",
    "# 逐个读取每个文件  \n",
    "for filename in files_to_merge:  \n",
    "    file_path = os.path.join(directory_path, filename)  \n",
    "    with open(file_path, 'r') as infile:  \n",
    "        # 逐行读取文件内容  \n",
    "        for line in infile:  \n",
    "            # 将 JSON 字符串解析为 Python 对象并添加到列表中  \n",
    "            merged_data_1.append(json.loads(line))  \n",
    "  \n"
   ]
  },
  {
   "cell_type": "code",
   "execution_count": 3,
   "metadata": {},
   "outputs": [],
   "source": [
    "import os  \n",
    "import json  \n",
    "  \n",
    "# 目录路径  \n",
    "directory_path = '/mnt/unilm/shaohanh/data/code/matplotlib_v2/'  \n",
    "# 输出文件路径  \n",
    "output_file_path = os.path.join(directory_path, 'merged_v4.jsonl')  \n",
    "  \n",
    "# 获取目录下所有的 .jsonl 文件  \n",
    "files_to_merge = [f for f in os.listdir(directory_path) if f.endswith('.jsonl')]  \n",
    "  \n",
    "# 初始化一个列表来存储所有的 JSON 对象  \n",
    "merged_data_2 = []  \n",
    "  \n",
    "# 逐个读取每个文件  \n",
    "for filename in files_to_merge:  \n",
    "    file_path = os.path.join(directory_path, filename)  \n",
    "    with open(file_path, 'r') as infile:  \n",
    "        # 逐行读取文件内容  \n",
    "        for line in infile:  \n",
    "            # 将 JSON 字符串解析为 Python 对象并添加到列表中  \n",
    "            merged_data_2.append(json.loads(line))  "
   ]
  },
  {
   "cell_type": "code",
   "execution_count": 11,
   "metadata": {},
   "outputs": [],
   "source": [
    "import os  \n",
    "import json  \n",
    "  \n",
    "# 目录路径  \n",
    "directory_path = '/mnt/unilm/shaohanh/data/code/matplotlib_v2.1'  \n",
    "# 输出文件路径  \n",
    "output_file_path = os.path.join(directory_path, 'merged_v4.jsonl')  \n",
    "  \n",
    "# 获取目录下所有的 .jsonl 文件  \n",
    "files_to_merge = [f for f in os.listdir(directory_path) if f.endswith('.jsonl')]  \n",
    "  \n",
    "# 初始化一个列表来存储所有的 JSON 对象  \n",
    "merged_data_3 = []  \n",
    "  \n",
    "# 逐个读取每个文件  \n",
    "for filename in files_to_merge:  \n",
    "    file_path = os.path.join(directory_path, filename)  \n",
    "    with open(file_path, 'r') as infile:  \n",
    "        # 逐行读取文件内容  \n",
    "        for line in infile:  \n",
    "            # 将 JSON 字符串解析为 Python 对象并添加到列表中  \n",
    "            merged_data_3.append(json.loads(line))  "
   ]
  },
  {
   "cell_type": "code",
   "execution_count": 12,
   "metadata": {},
   "outputs": [
    {
     "data": {
      "text/plain": [
       "(10727, 75492, 75848)"
      ]
     },
     "execution_count": 12,
     "metadata": {},
     "output_type": "execute_result"
    }
   ],
   "source": [
    "len(merged_data_1), len(merged_data_2), len(merged_data_3)"
   ]
  },
  {
   "cell_type": "code",
   "execution_count": 13,
   "metadata": {},
   "outputs": [
    {
     "data": {
      "text/plain": [
       "162067"
      ]
     },
     "execution_count": 13,
     "metadata": {},
     "output_type": "execute_result"
    }
   ],
   "source": [
    "all_data = merged_data_1 + merged_data_2 + merged_data_3\n",
    "len(all_data)"
   ]
  },
  {
   "cell_type": "code",
   "execution_count": 16,
   "metadata": {},
   "outputs": [
    {
     "data": {
      "text/plain": [
       "[{'hexsha': 'd000409402ef009d26e17b970178fd968b1a4056',\n",
       "  'size': 2572,\n",
       "  'ext': 'py',\n",
       "  'lang': 'python',\n",
       "  'max_stars_repo_path': 'SimpleFilterDesign/FIR_Filtering/FIRBP/FIR_Bandpass.py',\n",
       "  'max_stars_repo_name': 'shmillo/SimplePythonExamples',\n",
       "  'max_stars_repo_head_hexsha': '1ed23af998220448c510cebc03af5ccdbd37a131',\n",
       "  'max_stars_repo_licenses': ['MIT'],\n",
       "  'max_stars_count': None,\n",
       "  'max_stars_repo_stars_event_min_datetime': None,\n",
       "  'max_stars_repo_stars_event_max_datetime': None,\n",
       "  'max_issues_repo_path': 'SimpleFilterDesign/FIR_Filtering/FIRBP/FIR_Bandpass.py',\n",
       "  'max_issues_repo_name': 'shmillo/SimplePythonExamples',\n",
       "  'max_issues_repo_head_hexsha': '1ed23af998220448c510cebc03af5ccdbd37a131',\n",
       "  'max_issues_repo_licenses': ['MIT'],\n",
       "  'max_issues_count': None,\n",
       "  'max_issues_repo_issues_event_min_datetime': None,\n",
       "  'max_issues_repo_issues_event_max_datetime': None,\n",
       "  'max_forks_repo_path': 'SimpleFilterDesign/FIR_Filtering/FIRBP/FIR_Bandpass.py',\n",
       "  'max_forks_repo_name': 'shmillo/SimplePythonExamples',\n",
       "  'max_forks_repo_head_hexsha': '1ed23af998220448c510cebc03af5ccdbd37a131',\n",
       "  'max_forks_repo_licenses': ['MIT'],\n",
       "  'max_forks_count': None,\n",
       "  'max_forks_repo_forks_event_min_datetime': None,\n",
       "  'max_forks_repo_forks_event_max_datetime': None,\n",
       "  'avg_line_length': 20.2519685039,\n",
       "  'max_line_length': 86,\n",
       "  'alphanum_fraction': 0.4362363919,\n",
       "  'text': 'from ast import BitAnd\\nimport importlib\\nfrom cmath import cos, exp, log, log10, pi, sin\\nimport matplotlib.pyplot as mplt\\n\\n##################### ##################### #####################\\n##################### ##################### #####################\\n\\nTWOPI = 2.0 * pi\\n\\nfs = 44100.0\\ndt = 1.0 / fs\\n\\nBW = 0.01\\n\\nfc = 200.0\\nbandwidth = 8000.0\\nfc2 = fc + bandwidth\\n\\nfc /= fs\\nwc = TWOPI * fc\\n\\nfc2 /= fs\\nwc2 = TWOPI * fc2\\n\\nmax = int( 4.0 / BW )\\nmax += 1\\n\\nprint( \"kernelLength = \", max )\\n\\nmiddle = int( max * 0.5 )\\n\\n##################### \\n\\nh = [0.0] * max \\nw = [0.0] * max\\ntaps = [0.0] * max\\nx = [0.0] * max\\n\\n##################### \\n\\nsum = 0\\ni = 0\\nfor n in range(-middle, middle):\\n\\n    nm = n + middle\\n\\n    w[i] = 0.42 - (0.5 * cos((TWOPI*i) / max)) + (0.08 * cos(((2.0*TWOPI) * i) / max))\\n\\n    if n == 0:\\n         h[nm] = (2.0 * fc2) - (2.0 * fc)\\n    else:\\n        h[nm] = (sin(wc2 * n)/(pi * n)) - (sin(wc * n)/(pi * n))\\n      \\n    h[nm] *= w[i] \\n    i += 1\\n\\n\\n##################### ##################### #####################\\n##################### ##################### #####################\\n\\nnumberOfSeconds = 0.15\\nsimulationLength = int( numberOfSeconds * fs )\\n\\nsineSweepData = [0.0] * simulationLength\\n\\nstartFrequency = 1.0\\nendFrequency = 20000.0\\n\\nT = numberOfSeconds\\ntempOne = TWOPI * startFrequency * T\\ntempTwo = TWOPI * endFrequency * T\\ntempThree = log( tempTwo / tempOne )\\ntempFour = tempOne / tempThree\\n\\ntime = 0.0\\nfor i in range( 0, simulationLength ):\\n    sineSweepData[ i ] = sin( tempFour * (exp((time / T) * tempThree) - 1.0) )\\n    time += dt\\n\\n\\n##################### ##################### #####################\\n##################### ##################### #####################\\n\\nconvolvedOutput = [0.0] * simulationLength\\ntemporary = [0.0] * max\\n\\nxIndex = 0\\nnewest = 0\\n\\nfor i in range( 0, simulationLength ):\\n\\n    if newest == max:\\n        newest = 0\\n        \\n    temporary[ newest ] = sineSweepData[ i ]\\n    xIndex = newest\\n\\n    accum = 0.0\\n    kernel = 0.0\\n    for j in range( 0, max ):\\n\\n        accum += h[ j ] * temporary[ xIndex ]\\n        kernel += h[ j ]\\n\\n        xIndex -= 1\\n        if xIndex == -1:\\n            xIndex = max - 1\\n\\n    convolvedOutput[i] = accum\\n    newest += 1\\n\\t\\t\\t\\n##################### ##################### #####################\\n##################### ##################### #####################\\n\\nfig, (ax1, ax2, ax3) = mplt.subplots(3)\\n\\nax1.axis([ 0, max, -1.0, 1.0 ])\\nax1.plot( h )\\n\\nax2.axis([ 0, simulationLength, -1.1, 1.1])\\nax2.plot( sineSweepData )\\n\\nax3.axis([ 0, simulationLength, -1.1, 1.1])\\nax3.plot( convolvedOutput )\\n\\nmplt.show()'},\n",
       " {'hexsha': 'd001b16c54a35719236f19de824f031b76b3d51a',\n",
       "  'size': 1329,\n",
       "  'ext': 'py',\n",
       "  'lang': 'python',\n",
       "  'max_stars_repo_path': 'test/hp_test.py',\n",
       "  'max_stars_repo_name': 'Tianhao-Y/Automatic-Control-System-for-Heat-Pump',\n",
       "  'max_stars_repo_head_hexsha': 'd708d325e22f5ef75729c3914b270e7b66eca5bb',\n",
       "  'max_stars_repo_licenses': ['MIT'],\n",
       "  'max_stars_count': 3,\n",
       "  'max_stars_repo_stars_event_min_datetime': '2020-05-10T04:09:34.000Z',\n",
       "  'max_stars_repo_stars_event_max_datetime': '2020-05-10T14:34:19.000Z',\n",
       "  'max_issues_repo_path': 'test/hp_test.py',\n",
       "  'max_issues_repo_name': 'Tianhao-Y/Automatic-Control-System-for-Heat-Pump',\n",
       "  'max_issues_repo_head_hexsha': 'd708d325e22f5ef75729c3914b270e7b66eca5bb',\n",
       "  'max_issues_repo_licenses': ['MIT'],\n",
       "  'max_issues_count': None,\n",
       "  'max_issues_repo_issues_event_min_datetime': None,\n",
       "  'max_issues_repo_issues_event_max_datetime': None,\n",
       "  'max_forks_repo_path': 'test/hp_test.py',\n",
       "  'max_forks_repo_name': 'Tianhao-Y/Automatic-Control-System-for-Heat-Pump',\n",
       "  'max_forks_repo_head_hexsha': 'd708d325e22f5ef75729c3914b270e7b66eca5bb',\n",
       "  'max_forks_repo_licenses': ['MIT'],\n",
       "  'max_forks_count': 1,\n",
       "  'max_forks_repo_forks_event_min_datetime': '2021-08-17T03:28:00.000Z',\n",
       "  'max_forks_repo_forks_event_max_datetime': '2021-08-17T03:28:00.000Z',\n",
       "  'avg_line_length': 17.72,\n",
       "  'max_line_length': 78,\n",
       "  'alphanum_fraction': 0.6290443943,\n",
       "  'text': 'from hp_model import operation\\nimport matplotlib.pyplot as plt\\n\\n\\ninit = 0\\nstate = 0\\ni = 0\\n\\ncp1 = []\\ncp2 = []\\nerp = []\\npu = []\\nefflist = []\\nlast_state = 0\\ntemperature = []\\nstate_list = []\\nQ_list = []\\nwhile 1:\\n    if i >= 30:\\n        state = 0\\n    state_list.append(state)\\n    last_q = init\\n    Q, P_total, COP, P, eff, T, current_q = operation(state, last_q, \\'Heater\\')\\n    cp1.append(P[0])\\n    cp2.append(P[1])\\n    erp.append(P[2])\\n    pu.append(P[3])\\n    efflist.append(eff)\\n    temperature.append(T)\\n    Q_list.append(current_q)\\n    i += 1\\n    init = Q\\n    last_state = state\\n    state = 100\\n    if i == 50:\\n        break\\n\\nplt.figure()\\nplt.plot(cp1, label=\\'cp1\\')\\nplt.plot(cp2, label=\\'cp2\\')\\nplt.plot(erp, label=\\'erp\\')\\nplt.plot(pu, label=\\'pu\\')\\nplt.legend()\\nplt.xlabel(\\'Minutes\\')\\nplt.ylabel(\\'Power\\')\\nplt.show()\\n\\nplt.figure()\\nplt.plot(efflist)\\nplt.xlabel(\\'Minutes\\')\\nplt.ylabel(\\'Efficiency\\')\\nplt.show()\\n\\nplt.figure()\\nplt.plot(temperature)\\nplt.xlabel(\\'Minutes\\')\\nplt.ylabel(\\'Temperature\\')\\nplt.show()\\n\\nplt.figure()\\nplt.plot(state_list)\\nplt.xlabel(\\'Minutes\\')\\nplt.ylabel(\\'State\\')\\nplt.show()\\n\\nplt.figure()\\nplt.plot(Q_list)\\nplt.xlabel(\\'Minutes\\')\\nplt.ylabel(\\'Q\\')\\nplt.show()\\n\\nprint(\"Thermal input to the Room: %10.3f\" % Q + \"\\\\n\",\\n      \"Total power consumption: %10.3f\" % P_total + \"\\\\n\",\\n      \"Energy efficiency of heat pump: %10.3f\" % COP)\\n'}]"
      ]
     },
     "execution_count": 16,
     "metadata": {},
     "output_type": "execute_result"
    }
   ],
   "source": [
    "merged_data_3[:2]"
   ]
  },
  {
   "cell_type": "code",
   "execution_count": 17,
   "metadata": {},
   "outputs": [],
   "source": [
    "# 用于存储去重后的数据  \n",
    "unique_data = {}  \n",
    "  \n",
    "# 遍历所有数据项  \n",
    "for entry in all_data:  \n",
    "    # 使用 'text' 字段的值作为字典的键来去重  \n",
    "    text = entry['text']  \n",
    "    if text not in unique_data:  \n",
    "        unique_data[text] = entry  \n",
    "  \n",
    "# 将字典的值转换回列表  \n",
    "deduplicated_data = list(unique_data.values())  "
   ]
  },
  {
   "cell_type": "code",
   "execution_count": 18,
   "metadata": {},
   "outputs": [
    {
     "data": {
      "text/plain": [
       "129262"
      ]
     },
     "execution_count": 18,
     "metadata": {},
     "output_type": "execute_result"
    }
   ],
   "source": [
    "len(deduplicated_data)"
   ]
  },
  {
   "cell_type": "code",
   "execution_count": 19,
   "metadata": {},
   "outputs": [],
   "source": [
    "len(deduplicated_data)\n",
    "save_path = '/mnt/lingjiejiang/multimodal_code/data/chart_data/github_chart/merged_v1_v2_3.json'\n",
    "with open(save_path, 'w') as outfile:  \n",
    "    json.dump(deduplicated_data, outfile, indent=4)"
   ]
  },
  {
   "cell_type": "code",
   "execution_count": 4,
   "metadata": {},
   "outputs": [
    {
     "data": {
      "text/plain": [
       "129262"
      ]
     },
     "execution_count": 4,
     "metadata": {},
     "output_type": "execute_result"
    }
   ],
   "source": [
    "import json\n",
    "save_path = '/mnt/lingjiejiang/multimodal_code/data/chart_data/github_chart/merged_v1_v2_3.json'\n",
    "with open(save_path, 'r') as f:\n",
    "    data = json.load(f)\n",
    "len(data)"
   ]
  },
  {
   "cell_type": "code",
   "execution_count": 5,
   "metadata": {},
   "outputs": [
    {
     "data": {
      "text/plain": [
       "[{'max_stars_repo_path': 'cw_EPR.py',\n",
       "  'max_stars_repo_name': 'tkeller12/spin_physics',\n",
       "  'max_stars_count': 0,\n",
       "  'id': '2234',\n",
       "  'text': \"# <NAME>\\n# S = 1/2, I = 1/2\\n# Spin 1/2 electron coupled to spin 1/2 nuclei\\n\\nimport numpy as np\\nfrom scipy.linalg import expm\\nfrom matplotlib.pylab import *\\nfrom matplotlib import cm\\n\\nsigma_x = 0.5*np.r_[[[0, 1],[1, 0]]]\\nsigma_y = 0.5*np.r_[[[0,-1j],[1j, 0]]]\\nsigma_z = 0.5*np.r_[[[1, 0],[0, -1]]]\\nIdentity = np.eye(2)\\n\\n\\nSx = np.kron(sigma_x, Identity)\\nSy = np.kron(sigma_y, Identity)\\nSz = np.kron(sigma_z, Identity)\\n\\nIx = np.kron(Identity, sigma_x)\\nIy = np.kron(Identity, sigma_y)\\nIz = np.kron(Identity, sigma_z)\\n\\nSxIx = np.kron(sigma_x,sigma_z)\\n\\nSxIx2 = np.dot(Sx,Iz)\\n\\nprint(SxIx)\\nprint(SxIx2)\\nprint(np.allclose(SxIx,SxIx2))\\nomega_S = 1.76e11 # rad / (s * T)\\nomega_I = 267.522e6 # rad / (s * T)\\nAiso = 2*np.pi * 50.e6 # Isotropic Hyperfine coupling rad / s\\n\\nB0 = 0.35# T\\n\\nH = omega_S/(2.*np.pi)*B0*Sz + omega_I/(2.*np.pi)*B0*Iz + Aiso * np.dot(Sz,Iz)\\n#H = omega_S/(2.*np.pi)*B0*Sz + omega_I/(2.*np.pi)*B0*Iz + Aiso * (np.dot(Sx,Ix) + np.dot(Sy,Iy) + np.dot(Sz,Iz))\\n\\nprint('Hamiltonian:')\\nprint(H)\\nout = np.linalg.eig(H)\\n\\nE = out[0]\\nprint(E)\\n\\nE12 = E[0] - E[1]\\nE34 = E[2] - E[3]\\nE13 = E[0] - E[2]\\nE24 = E[1] - E[3]\\nprint(E12)\\nprint(E34)\\nprint(E13)\\nprint(E24)\\n\\nprint('Nuclear')\\nprint('%0.05f MHz'%(E12 / 1e6))\\nprint('%0.05f MHz'%(E34 / 1e6))\\nprint('Electron')\\nprint('%0.05f GHz'%(E13 / 1e9))\\nprint('%0.05f GHz'%(E24 / 1e9))\\n\\nmatshow(abs(H), cmap = cm.jet)\\ntitle('Hamiltonian')\\nshow()\\n\",\n",
       "  'lang': 'python'},\n",
       " {'max_stars_repo_path': 'yolo3/utils.py',\n",
       "  'max_stars_repo_name': 'gaxu/keras-yolo3',\n",
       "  'max_stars_count': 0,\n",
       "  'id': '2561',\n",
       "  'text': '\"\"\"Miscellaneous utility functions.\"\"\"\\n\\nfrom functools import reduce\\n\\nfrom PIL import Image\\nimport numpy as np\\nfrom matplotlib.colors import rgb_to_hsv, hsv_to_rgb\\n\\ndef compose(*funcs):\\n    \"\"\"Compose arbitrarily many functions, evaluated left to right.\\n\\n    Reference: https://mathieularose.com/function-composition-in-python/\\n    \"\"\"\\n    # return lambda x: reduce(lambda v, f: f(v), funcs, x)\\n    if funcs:\\n        return reduce(lambda f, g: lambda *a, **kw: g(f(*a, **kw)), funcs)\\n    else:\\n        raise ValueError(\\'Composition of empty sequence not supported.\\')\\n\\ndef letterbox_image(image, size):\\n    \\'\\'\\'resize image with unchanged aspect ratio using padding\\'\\'\\'\\n    iw, ih = image.size\\n    w, h = size\\n    scale = min(w/iw, h/ih)\\n    nw = int(iw*scale)\\n    nh = int(ih*scale)\\n\\n    image = image.resize((nw,nh), Image.BICUBIC)\\n    new_image = Image.new(\\'RGB\\', size, (128,128,128))\\n    new_image.paste(image, ((w-nw)//2, (h-nh)//2))\\n    return new_image\\n\\ndef rand(a=0, b=1):\\n    return np.random.rand()*(b-a) + a\\n\\ndef get_random_data(annotation_line, input_shape, random=True, max_boxes=20, jitter=.3, hue=.1, sat=1.5, val=1.5, proc_img=True):\\n    \\'\\'\\'random preprocessing for real-time data augmentation\\'\\'\\'\\n    line = annotation_line.split()\\n    image = Image.open(line[0])\\n    iw, ih = image.size\\n    h, w = input_shape\\n    box = np.array([np.array(list(map(int,box.split(\\',\\')))) for box in line[1:]])\\n\\n    if not random:\\n        # resize image\\n        scale = min(w/iw, h/ih)\\n        nw = int(iw*scale)\\n        nh = int(ih*scale)\\n        dx = (w-nw)//2\\n        dy = (h-nh)//2\\n        image_data=0\\n        if proc_img:\\n            image = image.resize((nw,nh), Image.BICUBIC)\\n            new_image = Image.new(\\'RGB\\', (w,h), (128,128,128))\\n            new_image.paste(image, (dx, dy))\\n            image_data = np.array(new_image)/255.\\n\\n        # correct boxes\\n        box_data = np.zeros((max_boxes,5))\\n        if len(box)>0:\\n            np.random.shuffle(box)\\n            if len(box)>max_boxes: box = box[:max_boxes]\\n            box[:, [0,2]] = box[:, [0,2]]*scale + dx\\n            box[:, [1,3]] = box[:, [1,3]]*scale + dy\\n            box_data[:len(box)] = box\\n\\n        return image_data, box_data\\n\\n    # resize image\\n    new_ar = w/h * rand(1-jitter,1+jitter)/rand(1-jitter,1+jitter)\\n    scale = rand(.25, 2)\\n    if new_ar < 1:\\n        nh = int(scale*h)\\n        nw = int(nh*new_ar)\\n    else:\\n        nw = int(scale*w)\\n        nh = int(nw/new_ar)\\n    image = image.resize((nw,nh), Image.BICUBIC)\\n\\n    # place image\\n    dx = int(rand(0, w-nw))\\n    dy = int(rand(0, h-nh))\\n    new_image = Image.new(\\'RGB\\', (w,h), (128,128,128))\\n    new_image.paste(image, (dx, dy))\\n    image = new_image\\n\\n    # flip image or not\\n    flip = rand()<.5\\n    if flip: image = image.transpose(Image.FLIP_LEFT_RIGHT)\\n\\n    # distort image\\n    hue = rand(-hue, hue)\\n    sat = rand(1, sat) if rand()<.5 else 1/rand(1, sat)\\n    val = rand(1, val) if rand()<.5 else 1/rand(1, val)\\n    x = rgb_to_hsv(np.array(image)/255.)\\n    x[..., 0] += hue\\n    x[..., 0][x[..., 0]>1] -= 1\\n    x[..., 0][x[..., 0]<0] += 1\\n    x[..., 1] *= sat\\n    x[..., 2] *= val\\n    x[x>1] = 1\\n    x[x<0] = 0\\n    image_data = hsv_to_rgb(x) # numpy array, 0 to 1\\n\\n    # correct boxes\\n    box_data = np.zeros((max_boxes,5))\\n    if len(box)>0:\\n        np.random.shuffle(box)\\n        box[:, [0,2]] = box[:, [0,2]]*nw/iw + dx\\n        box[:, [1,3]] = box[:, [1,3]]*nh/ih + dy\\n        if flip: box[:, [0,2]] = w - box[:, [2,0]]\\n        box[:, 0:2][box[:, 0:2]<0] = 0\\n        box[:, 2][box[:, 2]>w] = w\\n        box[:, 3][box[:, 3]>h] = h\\n        box_w = box[:, 2] - box[:, 0]\\n        box_h = box[:, 3] - box[:, 1]\\n        box = box[np.logical_and(box_w>1, box_h>1)] # discard invalid box\\n        if len(box)>max_boxes: box = box[:max_boxes]\\n        box_data[:len(box)] = box\\n\\n    return image_data, box_data\\n\\ndef get_random_data2(annotation_line, input_shape, random=True, max_boxes=20, jitter=.3, hue=.1, sat=1.5, val=1.5, proc_img=True):\\n    \\'\\'\\'random preprocessing for real-time data augmentation\\'\\'\\'\\n   \\n\\n    line = annotation_line.split()\\n    image = Image.open(line[0])\\n\\n    w, h = image.size #13 14\\n    dx, dy = input_shape\\n    box = np.array([np.array(list(map(int,box.split(\\',\\')))) for box in line[1:]])\\n\\n    x_min = w\\n    x_max = 0\\n    y_min = h\\n    y_max = 0\\n    for bbox in box:\\n       x_min = min(x_min, bbox[0])\\n       y_min = min(y_min, bbox[1])\\n       x_max = max(x_max, bbox[2])\\n       y_max = max(y_max, bbox[3])\\n       name = bbox[4]\\n\\n    # 包含所有目标框的最小框到各个边的距离\\n    d_to_left = x_min\\n    d_to_right = w - x_max\\n    d_to_top = y_min\\n    d_to_bottom = h - y_max\\n\\n\\n    # 随机扩展这个最小范围\\n    crop_x_min = int(x_min - rand(0, d_to_left))\\n    crop_y_min = int(y_min - rand(0, d_to_top))\\n    crop_x_max = int(x_max + rand(0, d_to_right))\\n    crop_y_max = int(y_max + rand(0, d_to_bottom))\\n\\n\\n    # 确保不出界\\n    crop_x_min = max(0, crop_x_min)\\n    crop_y_min = max(0, crop_y_min)\\n    crop_x_max = min(w, crop_x_max)\\n    crop_y_max = min(h, crop_y_max)\\n\\n    cropped = image.crop((crop_x_min, crop_y_min, crop_x_max, crop_y_max))  # (left, upper, right, lower)\\n    new_image = Image.new(\\'RGB\\', (w,h), (128,128,128))\\n    new_image.paste(cropped, (dx, dy))\\n    image_data = np.array(new_image)/255.\\n\\n    box_data = np.zeros((max_boxes,5))\\n    if len(box)>0:\\n        np.random.shuffle(box)\\n        if len(box)>max_boxes: box = box[:max_boxes]\\n        box[:,0] = box[:,0]-crop_y_min\\n        box[:,1] = box[:,1]-crop_y_min\\n        box[:,2] = box[:,2]-crop_x_min\\n        box[:,3] = box[:,3]-crop_y_min\\n\\n        box_data[:len(box)] = box\\n\\n    return image_data, box_data\\n\\ndef get_random_data2(annotation_line, input_shape, max_boxes=20, jitter=.3, hue=.1, sat=1.5, val=1.5, proc_img=True):\\n    \\n    line = annotation_line.split()\\n    img = cv2.imread(line[0])\\n    h_img, w_img, _ = img.shape\\n    w, h = input_shape\\n\\n    box = np.array([np.array(list(map(int,box.split(\\',\\')))) for box in line[1:]])\\n    max_bbox = np.concatenate([np.min(box[:, 0:2], axis=0), np.max(box[:, 2:4], axis=0)], axis=-1)# 取得所有bbox中的最大bbox\\n\\n \\n    #包含所有目標框的最大框到各個邊的距離   \\n    max_l_trans = max_bbox[0]\\n    max_u_trans = max_bbox[1]\\n    max_r_trans = w_img - max_bbox[2]\\n    max_d_trans = h_img - max_bbox[3]\\n\\n    #隨機擴展框最大範圍\\n    crop_xmin = max(0, int(max_bbox[0] - random.uniform(0, max_l_trans)*2))\\n    crop_ymin = max(0, int(max_bbox[1] - random.uniform(0, max_u_trans)*2))\\n    crop_xmax = max(w_img, int(max_bbox[2] + random.uniform(0, max_r_trans)*2))\\n    crop_ymax = max(h_img, int(max_bbox[3] + random.uniform(0, max_d_trans)*2))\\n\\n    img = img[crop_ymin : crop_ymax, crop_xmin : crop_xmax] #進行裁剪\\n    image = Image.fromarray(cv2.cvtColor(img,cv2.COLOR_BGR2RGB)) #因為目前圖片格式是cv2,因此要轉換為PIL格式做貼上的語法\\n    new_image = Image.new(\\'RGB\\', (w,h), (128,128,128)) #產出一個(416,416)的灰色圖片\\n    new_image.paste(image, (0, 0)) #將轉為PIL格式的圖片 貼到灰色圖片中\\n    img2 = cv2.cvtColor(np.asarray(new_image),cv2.COLOR_RGB2BGR) #再將格式轉回cv2\\n\\n    box_data = np.zeros((max_boxes,5)) #box最多有max_boxes個，即shap->(20,5)\\n\\n    #將剪裁後位移的框與原始框進行相減，避免變換之後的值過大或過小，並去除異常的box \\n    if len(box)>0:\\n        np.random.shuffle(box)\\n        if len(box)>max_boxes: box = box[:max_boxes]\\n\\n        box[:, [0, 2]] = box[:, [0, 2]] - crop_xmin\\n        box[:, [1, 3]] = box[:, [1, 3]] - crop_ymin\\n        box[:, 2][box[:, 2]>w] = w\\n        box[:, 3][box[:, 3]>h] = h\\n        box_w = box[:, 2] - box[:, 0]\\n        box_h = box[:, 3] - box[:, 1]\\n        box = box[np.logical_and(box_w>1, box_h>1)] # discard invalid box\\n        if len(box)>max_boxes: box = box[:max_boxes]\\n        box_data[:len(box)] = box\\n\\n        #標框線\\n        # light_blue = (255,200,100)\\n        # for boxs in box:\\n        #     cv2.rectangle(img2,(boxs[0],boxs[1]),(boxs[2],boxs[3]),light_blue,2)\\n\\n    # writename=os.path.basename(line[0]) #取檔名\\n\\n    # cv2.imshow(\\'My Image\\', img2)\\n    # cv2.waitKey(0)\\n\\n    \\n    return img2, box_data\\n',\n",
       "  'lang': 'python'}]"
      ]
     },
     "execution_count": 5,
     "metadata": {},
     "output_type": "execute_result"
    }
   ],
   "source": [
    "data[:2]"
   ]
  },
  {
   "cell_type": "code",
   "execution_count": 4,
   "metadata": {},
   "outputs": [
    {
     "data": {
      "text/plain": [
       "129262"
      ]
     },
     "execution_count": 4,
     "metadata": {},
     "output_type": "execute_result"
    }
   ],
   "source": [
    "revised_path = \"/mnt/lingjiejiang/multimodal_code/data/chart_data/revised_code/final_output.json\"\n",
    "with open(revised_path, 'r') as f:\n",
    "    revised_data = json.load(f)\n",
    "len(revised_data)"
   ]
  },
  {
   "cell_type": "code",
   "execution_count": 9,
   "metadata": {},
   "outputs": [
    {
     "data": {
      "text/plain": [
       "96396"
      ]
     },
     "execution_count": 9,
     "metadata": {},
     "output_type": "execute_result"
    }
   ],
   "source": [
    "inempty_data = [item for item in revised_data if item[\"revised_text\"] != \"\"]\n",
    "len(inempty_data)"
   ]
  },
  {
   "cell_type": "code",
   "execution_count": 10,
   "metadata": {},
   "outputs": [
    {
     "data": {
      "text/plain": [
       "32866"
      ]
     },
     "execution_count": 10,
     "metadata": {},
     "output_type": "execute_result"
    }
   ],
   "source": [
    "empty_data = [item for item in revised_data if item[\"revised_text\"] == \"\"]\n",
    "len(empty_data)"
   ]
  },
  {
   "cell_type": "code",
   "execution_count": 11,
   "metadata": {},
   "outputs": [],
   "source": [
    "save_path = '/mnt/lingjiejiang/multimodal_code/data/chart_data/github_chart/merged_empty_data.json'\n",
    "with open(save_path, 'w') as outfile:  \n",
    "    json.dump(empty_data, outfile, indent=4)"
   ]
  },
  {
   "cell_type": "code",
   "execution_count": 12,
   "metadata": {},
   "outputs": [
    {
     "data": {
      "text/plain": [
       "32866"
      ]
     },
     "execution_count": 12,
     "metadata": {},
     "output_type": "execute_result"
    }
   ],
   "source": [
    "with open(save_path, 'r') as f:\n",
    "    empty_data = json.load(f)\n",
    "len(empty_data)"
   ]
  },
  {
   "cell_type": "code",
   "execution_count": 13,
   "metadata": {},
   "outputs": [
    {
     "data": {
      "text/plain": [
       "[{'index': 7,\n",
       "  'revised_text': '',\n",
       "  'category': 'Heatmap',\n",
       "  'chart_size': [8.0, 6.0],\n",
       "  'gpt_answer': \"## Code needs to be revised:\\n\\n```python\\nimport matplotlib.pyplot as plt\\nimport numpy as np\\n\\n# Create a random matrix\\nmatrix = np.random.rand(64, 64)\\n\\n# Set the figure size\\nplt.figure(figsize=(8.0, 6.0))\\n\\n# Display the matrix with a grayscale colormap\\nplt.matshow(matrix, cmap='gray')\\n\\n# Show the plot\\nplt.show()\\n```\\n\\n<CATEGORY>: [Heatmap]  \\n<CHART SIZE>: (8.0, 6.0)  \",\n",
       "  'max_stars_repo_path': 'examples/pylab_examples/matshow.py',\n",
       "  'max_stars_repo_name': 'jbbrokaw/matplotlib',\n",
       "  'max_stars_count': 16,\n",
       "  'id': '6572',\n",
       "  'text': '\"\"\"Simple matshow() example.\"\"\"\\nfrom matplotlib.pylab import *\\n\\n\\ndef samplemat(dims):\\n    \"\"\"Make a matrix with all zeros and increasing elements on the diagonal\"\"\"\\n    aa = zeros(dims)\\n    for i in range(min(dims)):\\n        aa[i, i] = i\\n    return aa\\n\\n\\n# Display 2 matrices of different sizes\\ndimlist = [(12, 12), (15, 35)]\\nfor d in dimlist:\\n    matshow(samplemat(d))\\n\\n# Display a random matrix with a specified figure number and a grayscale\\n# colormap\\nmatshow(rand(64, 64), fignum=100, cmap=cm.gray)\\n\\nshow()\\n',\n",
       "  'lang': 'python'},\n",
       " {'index': 17,\n",
       "  'revised_text': '',\n",
       "  'category': 'Line',\n",
       "  'chart_size': [8.0, 6.0],\n",
       "  'gpt_answer': \"## Code needs to be revised:\\n\\n```python\\nimport matplotlib.pyplot as plt\\nimport numpy as np\\n\\n# Sample data\\nx = np.linspace(0, 10, 100)\\ny = np.sin(x)\\n\\n# Create a new figure\\nfig = plt.figure(figsize=(8.0, 6.0))\\n\\n# Plot the data\\nplt.plot(x, y, label='Sine Wave')\\n\\n# Set labels\\nplt.xlabel('X-axis')\\nplt.ylabel('Y-axis')\\n\\n# Add a legend\\nplt.legend()\\n\\n# Show the plot\\nplt.show()\\n```\\n\\n<CATEGORY>: [Line]  \\n<CHART SIZE>: (8.0, 6.0)  \",\n",
       "  'max_stars_repo_path': 'settings.py',\n",
       "  'max_stars_repo_name': 'gyyang/olfaction_evolution',\n",
       "  'max_stars_count': 9,\n",
       "  'id': '21175',\n",
       "  'text': '\"\"\"User specific settings.\"\"\"\\n\\nimport matplotlib as mpl\\nimport matplotlib.pyplot as plt\\n\\nmpl.rcParams[\\'font.size\\'] = 7\\nmpl.rcParams[\\'pdf.fonttype\\'] = 42\\nmpl.rcParams[\\'ps.fonttype\\'] = 42\\nmpl.rcParams[\\'font.family\\'] = \\'arial\\'\\nmpl.rcParams[\\'mathtext.fontset\\'] = \\'stix\\'\\n\\nseqcmap = mpl.cm.cool_r\\ntry:\\n    import seaborn as sns\\n    plt.rcParams[\\'axes.prop_cycle\\'] = plt.cycler(color=sns.color_palette(\\'deep\\'))\\n    # seqcmap = sns.color_palette(\"crest_r\", as_cmap=True)\\nexcept ImportError as e:\\n    print(\\'Seaborn not available, default to matplotlib color scheme\\')\\n\\nuse_torch = True\\ncluster_path = \\'/share/ctn/users/gy2259/olfaction_evolution\\'\\n',\n",
       "  'lang': 'python'}]"
      ]
     },
     "execution_count": 13,
     "metadata": {},
     "output_type": "execute_result"
    }
   ],
   "source": [
    "empty_data[:2]"
   ]
  },
  {
   "cell_type": "code",
   "execution_count": 21,
   "metadata": {},
   "outputs": [
    {
     "name": "stdout",
     "output_type": "stream",
     "text": [
      "32866\n"
     ]
    }
   ],
   "source": [
    "import json  \n",
    "import re  \n",
    "  \n",
    "# 文件路径  \n",
    "output_file_path = '/mnt/lingjiejiang/multimodal_code/data/chart_data/github_chart/merged_empty_data.json'  \n",
    "  \n",
    "# 读取 JSON 数据  \n",
    "with open(output_file_path, 'r') as f:  \n",
    "    chart_data = json.load(f)  \n",
    "print(len(chart_data)) \n",
    "# 正则表达式模式  \n",
    "pattern = r'\"\"\".*?\"\"\"'  \n",
    "  \n",
    "# 处理每个字典中的 `text` 字段  \n",
    "for item in chart_data:  \n",
    "    if 'text' in item:  \n",
    "        item['text'] = re.sub(pattern, '', item['text'], flags=re.DOTALL)  \n",
    "        item[\"text\"] = item[\"text\"].strip()\n",
    "        item.pop(\"revised_text\")\n",
    "        item.pop(\"gpt_answer\")\n",
    "        item.pop(\"category\")\n",
    "        item.pop(\"chart_size\")\n",
    "# # 如果你想将修改后的数据保存回文件中，可以使用以下代码  \n",
    "# with open(output_file_path, 'w') as f:  \n",
    "#     json.dump(chart_data, f, indent=4)  \n",
    "  \n",
    "modify_path = \"/mnt/lingjiejiang/multimodal_code/data/chart_data/github_chart/merged_empty_data_processed.json\"\n",
    "# 如果你不想覆盖原始文件，可以将其保存到另一个文件中  \n",
    "with open(modify_path, 'w') as f:  \n",
    "    json.dump(chart_data, f, indent=4)  "
   ]
  },
  {
   "cell_type": "code",
   "execution_count": 19,
   "metadata": {},
   "outputs": [
    {
     "data": {
      "text/plain": [
       "32866"
      ]
     },
     "execution_count": 19,
     "metadata": {},
     "output_type": "execute_result"
    }
   ],
   "source": [
    "with open(modify_path, 'r') as f:\n",
    "    empty_data = json.load(f)\n",
    "len(empty_data)"
   ]
  },
  {
   "cell_type": "code",
   "execution_count": 7,
   "metadata": {},
   "outputs": [
    {
     "data": {
      "text/plain": [
       "[{'index': 31,\n",
       "  'revised_text': 'import matplotlib.pyplot as plt  \\nimport numpy as np  \\n\\n# Data\\nx = np.array([0, 5, 2])  \\ny = np.array([0, 1, 3])  \\n\\n# Create a figure\\nfig = plt.figure(figsize=(6.0, 4.0))  \\nax = fig.add_subplot(111)  \\n\\n# Plot the data\\nax.plot(x, y)  \\n\\n# Show the plot\\nplt.show()',\n",
       "  'category': 'Line',\n",
       "  'chart_size': [6.0, 4.0],\n",
       "  'gpt_answer': \"Sure, let's modify the code according to the requirements:\\n\\n<REVISED CODE BEGIN>  \\nimport matplotlib.pyplot as plt  \\nimport numpy as np  \\n\\n# Data\\nx = np.array([0, 5, 2])  \\ny = np.array([0, 1, 3])  \\n\\n# Create a figure\\nfig = plt.figure(figsize=(6.0, 4.0))  \\nax = fig.add_subplot(111)  \\n\\n# Plot the data\\nax.plot(x, y)  \\n\\n# Show the plot\\nplt.show()  \\n<REVISED CODE END>  \\n  \\n<CATEGORY>: [Line]  \\n<CHART SIZE>: (6.0, 4.0)  \",\n",
       "  'max_stars_repo_path': 'basicplot.py',\n",
       "  'max_stars_repo_name': 'sirgogo/docker-meep',\n",
       "  'max_stars_count': 2,\n",
       "  'id': '28045',\n",
       "  'text': \"import matplotlib\\nmatplotlib.use('Agg') # this lets us do some headless stuff\\nimport matplotlib.pylab as plt\\nimport numpy as np\\n\\nx = np.asarray([0,5,2])\\ny = np.asarray([0,1,3])\\nf = plt.figure()\\nax = f.add_subplot(111)\\nax.plot(x,y)\\n#plt.show() # we have a headless display, can't do this!\\nf.savefig('basicplot.eps',format='eps',orientation='portrait',transparent=True,dpi=5e4)\",\n",
       "  'lang': 'python'},\n",
       " {'index': 9,\n",
       "  'revised_text': 'import numpy as np  \\nimport matplotlib.pyplot as plt  \\n  \\n# Create a new figure  \\nfig = plt.figure(figsize=(5, 4))  \\naxes = fig.add_axes([0.01, 0.01, .98, 0.98])  \\n\\n# Sample data for the plot\\nX = np.linspace(0, 2, 200)  \\nY = np.sin(2 * np.pi * X)  \\n\\n# Plot the data\\nplt.plot(X, Y, lw=2)  \\n\\n# Set limits and grid\\nplt.ylim(-1.1, 1.1)  \\nplt.grid()  \\n\\n# Display the plot\\nplt.show()',\n",
       "  'category': 'Line',\n",
       "  'chart_size': [5.0, 4.0],\n",
       "  'gpt_answer': '<REVISED CODE BEGIN>  \\nimport numpy as np  \\nimport matplotlib.pyplot as plt  \\n  \\n# Create a new figure  \\nfig = plt.figure(figsize=(5, 4))  \\naxes = fig.add_axes([0.01, 0.01, .98, 0.98])  \\n\\n# Sample data for the plot\\nX = np.linspace(0, 2, 200)  \\nY = np.sin(2 * np.pi * X)  \\n\\n# Plot the data\\nplt.plot(X, Y, lw=2)  \\n\\n# Set limits and grid\\nplt.ylim(-1.1, 1.1)  \\nplt.grid()  \\n\\n# Display the plot\\nplt.show()  \\n<REVISED CODE END>  \\n  \\n<CATEGORY>: [Line]  \\n<CHART SIZE>: (5.0, 4.0)  ',\n",
       "  'max_stars_repo_path': 'intro/matplotlib/examples/plot_good.py',\n",
       "  'max_stars_repo_name': 'zmoon/scipy-lecture-notes',\n",
       "  'max_stars_count': 2538,\n",
       "  'id': '8883',\n",
       "  'text': \"import numpy as np\\nimport matplotlib\\nmatplotlib.use('Agg')\\nimport matplotlib.pyplot as plt\\n\\nfig = plt.figure(figsize=(5, 4), dpi=72)\\naxes = fig.add_axes([0.01, 0.01, .98, 0.98])\\nX = np.linspace(0, 2, 200)\\nY = np.sin(2*np.pi*X)\\nplt.plot(X, Y, lw=2)\\nplt.ylim(-1.1, 1.1)\\nplt.grid()\\n\\nplt.show()\",\n",
       "  'lang': 'python'}]"
      ]
     },
     "execution_count": 7,
     "metadata": {},
     "output_type": "execute_result"
    }
   ],
   "source": [
    "import json\n",
    "input_path = '/mnt/lingjiejiang/multimodal_code/data/chart_data/revised_code_supply/final_output_empty.json'\n",
    "with open(input_path, 'r') as f:\n",
    "    revised_data_v2 = json.load(f)\n",
    "revised_data_v2[:2]"
   ]
  },
  {
   "cell_type": "code",
   "execution_count": 3,
   "metadata": {},
   "outputs": [
    {
     "data": {
      "text/plain": [
       "32565"
      ]
     },
     "execution_count": 3,
     "metadata": {},
     "output_type": "execute_result"
    }
   ],
   "source": [
    "non_empty_data = [item for item in revised_data if item[\"revised_text\"] != \"\"]\n",
    "len(non_empty_data)"
   ]
  },
  {
   "cell_type": "code",
   "execution_count": 5,
   "metadata": {},
   "outputs": [
    {
     "data": {
      "text/plain": [
       "129262"
      ]
     },
     "execution_count": 5,
     "metadata": {},
     "output_type": "execute_result"
    }
   ],
   "source": [
    "revised_path = \"/mnt/lingjiejiang/multimodal_code/data/chart_data/revised_code/final_output.json\"\n",
    "with open(revised_path, 'r') as f:\n",
    "    revised_data = json.load(f)\n",
    "len(revised_data)"
   ]
  },
  {
   "cell_type": "code",
   "execution_count": 6,
   "metadata": {},
   "outputs": [
    {
     "data": {
      "text/plain": [
       "96396"
      ]
     },
     "execution_count": 6,
     "metadata": {},
     "output_type": "execute_result"
    }
   ],
   "source": [
    "non_empty_data_v1 = [item for item in revised_data if item[\"revised_text\"] != \"\"]\n",
    "len(non_empty_data_v1)"
   ]
  },
  {
   "cell_type": "code",
   "execution_count": null,
   "metadata": {},
   "outputs": [],
   "source": []
  },
  {
   "cell_type": "code",
   "execution_count": 9,
   "metadata": {},
   "outputs": [
    {
     "data": {
      "text/plain": [
       "32565"
      ]
     },
     "execution_count": 9,
     "metadata": {},
     "output_type": "execute_result"
    }
   ],
   "source": [
    "non_empty_data_v2 = [item for item in revised_data_v2 if item[\"revised_text\"] != \"\"]\n",
    "len(non_empty_data_v2)"
   ]
  },
  {
   "cell_type": "code",
   "execution_count": 28,
   "metadata": {},
   "outputs": [],
   "source": [
    "for item in non_empty_data_v1:\n",
    "    item[\"source\"] = \"v1\"  \n",
    "for item in non_empty_data_v2:\n",
    "    item[\"source\"] = \"v2\""
   ]
  },
  {
   "cell_type": "code",
   "execution_count": 29,
   "metadata": {},
   "outputs": [
    {
     "data": {
      "text/plain": [
       "128961"
      ]
     },
     "execution_count": 29,
     "metadata": {},
     "output_type": "execute_result"
    }
   ],
   "source": [
    "merged_data = non_empty_data_v1 + non_empty_data_v2\n",
    "len(merged_data)"
   ]
  },
  {
   "cell_type": "code",
   "execution_count": 30,
   "metadata": {},
   "outputs": [
    {
     "data": {
      "text/plain": [
       "128961"
      ]
     },
     "execution_count": 30,
     "metadata": {},
     "output_type": "execute_result"
    }
   ],
   "source": [
    "unique_idx = set()\n",
    "unique_data = []\n",
    "for item in merged_data:\n",
    "    if item[\"index\"] not in unique_idx:\n",
    "        unique_idx.add(item[\"index\"])\n",
    "        unique_data.append(item)\n",
    "len(unique_data)"
   ]
  },
  {
   "cell_type": "code",
   "execution_count": 15,
   "metadata": {},
   "outputs": [],
   "source": [
    "save_path = \"/mnt/lingjiejiang/multimodal_code/data/chart_data/unique_revised_data_128k.json\"\n",
    "with open(save_path, 'w') as outfile:  \n",
    "    json.dump(unique_data, outfile, indent=0)"
   ]
  },
  {
   "cell_type": "code",
   "execution_count": 61,
   "metadata": {},
   "outputs": [
    {
     "data": {
      "text/plain": [
       "128961"
      ]
     },
     "execution_count": 61,
     "metadata": {},
     "output_type": "execute_result"
    }
   ],
   "source": [
    "save_path = \"/mnt/lingjiejiang/multimodal_code/data/chart_data/unique_revised_data_128k.json\"\n",
    "with open(save_path, 'r') as f:\n",
    "    unique_data = json.load(f)\n",
    "len(unique_data)"
   ]
  },
  {
   "cell_type": "code",
   "execution_count": 76,
   "metadata": {},
   "outputs": [
    {
     "data": {
      "text/plain": [
       "128957"
      ]
     },
     "execution_count": 76,
     "metadata": {},
     "output_type": "execute_result"
    }
   ],
   "source": [
    "filtered_data = [item for item in unique_data if 'xkcd()' not in item[\"revised_text\"]] \n",
    "for idx, item in enumerate(filtered_data):\n",
    "    item[\"index\"] = idx\n",
    "len(filtered_data)"
   ]
  },
  {
   "cell_type": "code",
   "execution_count": null,
   "metadata": {},
   "outputs": [],
   "source": []
  },
  {
   "cell_type": "code",
   "execution_count": 80,
   "metadata": {},
   "outputs": [],
   "source": [
    "base_dir = \"/mnt/lingjiejiang/multimodal_code/data/chart_data/github_images/images_split\"  \n",
    "split_size = 35000  \n",
    "  \n",
    "for item in filtered_data:  \n",
    "    index = item[\"index\"]  \n",
    "    index_name = f\"{index + 1:06d}\"  \n",
    "      \n",
    "    # 计算当前文件应该放到哪个目录  \n",
    "    split_index = index // split_size + 1  \n",
    "    directory = f\"{base_dir}{split_index}\"  \n",
    "      \n",
    "    # 创建该目录的路径  \n",
    "    item[\"images\"] = f\"{directory}/{index_name}.jpg\"  "
   ]
  },
  {
   "cell_type": "code",
   "execution_count": 87,
   "metadata": {},
   "outputs": [
    {
     "data": {
      "text/plain": [
       "{'index': 120000,\n",
       " 'revised_text': 'import matplotlib.pyplot as plt\\nimport numpy as np\\n\\n# Sample data\\nx = np.array([0, 1, 2, 3])\\ny = np.array([3, 8, 1, 10])\\n\\n# Create a new figure with specified size\\nplt.figure(figsize=(6.0, 4.0))\\n\\n# Plot the data\\nplt.plot(x, y)\\n\\n# Set labels for axes and title\\nplt.xlabel(\"X-axis\")\\nplt.ylabel(\"Y-axis\")\\nplt.title(\"Sample Line Plot\")\\n\\n# Show the plot\\nplt.show()',\n",
       " 'category': 'Line',\n",
       " 'chart_size': [6.0, 4.0],\n",
       " 'gpt_answer': '```python\\n<REVISED CODE BEGIN>\\nimport matplotlib.pyplot as plt\\nimport numpy as np\\n\\n# Sample data\\nx = np.array([0, 1, 2, 3])\\ny = np.array([3, 8, 1, 10])\\n\\n# Create a new figure with specified size\\nplt.figure(figsize=(6.0, 4.0))\\n\\n# Plot the data\\nplt.plot(x, y)\\n\\n# Set labels for axes and title\\nplt.xlabel(\"X-axis\")\\nplt.ylabel(\"Y-axis\")\\nplt.title(\"Sample Line Plot\")\\n\\n# Show the plot\\nplt.show()\\n<REVISED CODE END>\\n\\n<CATEGORY>: [Line]\\n<CHART SIZE>: (6.0, 4.0)\\n```',\n",
       " 'max_stars_repo_path': 'W3Schools/matplotlib.py',\n",
       " 'max_stars_repo_name': 'FRX-DEV/Python-Practice-Challenges',\n",
       " 'max_stars_count': 0,\n",
       " 'id': '9423995',\n",
       " 'text': '<filename>W3Schools/matplotlib.py<gh_stars>0\\nimport matplotlib\\n\\nprint(matplotlib.__version__)\\n\\nimport matplotlib.pyplot as plt\\nimport numpy as np\\n\\nxpoints = np.array([0, 6])\\nypoints = np.array([0, 250])\\n\\nplt.plot(xpoints, ypoints)\\nplt.show()\\n\\nxpoints = np.array([1, 8])\\nypoints = np.array([3, 10])\\n\\nplt.plot(xpoints, ypoints, \\'o\\')\\nplt.show()\\n\\n# Draw a line in a diagram from position (1, 3) to (2, 8) then to (6, 1) and finally to position (8, 10)\\nxpoints = np.array([1, 2, 6, 8])\\nypoints = np.array([3, 8, 1, 10])\\n\\nplt.plot(xpoints, ypoints)\\nplt.show()\\n\\nypoints = np.array([3, 8, 1, 10, 5, 7])\\n\\nplt.plot(ypoints)\\nplt.show()\\n\\nypoints = np.array([3, 8, 1, 10])\\n\\nplt.plot(ypoints, marker = \\'o\\')\\nplt.show()\\n\\nplt.plot(ypoints, marker = \\'*\\')\\nplt.show()\\n\\nplt.plot(ypoints, \\'o:r\\')\\nplt.show()\\n\\nplt.plot(ypoints, marker = \\'o\\', ms = 20)\\nplt.show()\\n\\nplt.plot(ypoints, marker = \\'o\\', ms = 20, mec = \\'r\\')\\nplt.show()\\n\\nplt.plot(ypoints, marker = \\'o\\', ms = 20, mfc = \\'r\\')\\nplt.show()\\n\\nplt.plot(ypoints, marker = \\'o\\', ms = 20, mec = \\'r\\', mfc = \\'r\\')\\nplt.show()\\n\\nplt.plot(ypoints, marker = \\'o\\', ms = 20, mec = \\'#4CAF50\\', mfc = \\'#4CAF50\\')\\nplt.show()\\n\\nplt.plot(ypoints, marker = \\'o\\', ms = 20, mec = \\'hotpink\\', mfc = \\'hotpink\\')\\nplt.show()\\n\\nplt.plot(ypoints, linestyle = \\'dotted\\')\\nplt.show()\\n\\nplt.plot(ypoints, linestyle = \\'dashed\\')\\nplt.show()\\n\\nplt.plot(ypoints, ls = \\':\\')\\nplt.show()\\n\\nplt.plot(ypoints, color = \\'r\\')\\nplt.show()\\n\\nplt.plot(ypoints, color = \\'#4CAF50\\')\\nplt.show()\\n\\nplt.plot(ypoints, color = \\'hotpink\\')\\nplt.show()\\n\\nplt.plot(ypoints, linewidth = 20.5)\\nplt.show()\\n\\ny1 = np.array([3, 8, 1, 10])\\ny2 = np.array([6, 2, 7, 11])\\n\\nplt.plot(y1)\\nplt.plot(y2)\\n\\nplt.show()\\n\\nx1 = np.array([0, 1, 2, 3])\\ny1 = np.array([3, 8, 1, 10])\\nx2 = np.array([0, 1, 2, 3])\\ny2 = np.array([6, 2, 7, 11])\\n\\nplt.plot(x1, y1, x2, y2)\\nplt.show()\\n\\nx = np.array([80, 85, 90, 95, 100, 105, 110, 115, 120, 125])\\ny = np.array([240, 250, 260, 270, 280, 290, 300, 310, 320, 330])\\n\\nfont1 = {\\'family\\':\\'serif\\', \\'color\\':\\'blue\\', \\'size\\':20}\\nfont2 = {\\'family\\':\\'serif\\', \\'color\\':\\'darkred\\', \\'size\\':15}\\n\\n\\nplt.title(\"Sports Watch Data\", fontdict = font1)\\nplt.xlabel(\"Average Pulse\", fontdict = font2)\\nplt.ylabel(\"Calorie Burnage\", fontdict = font2)\\n\\nplt.plot(x, y)\\nplt.show()\\n\\nplt.title(\"Sports Watch Data\", loc = \\'left\\')\\nplt.xlabel(\"Average Pulse\")\\nplt.ylabel(\"Calorie Burnage\")\\n\\nplt.plot(x, y)\\nplt.show()\\n\\nplt.title(\"Sports Watch Data\")\\nplt.xlabel(\"Average Pulse\")\\nplt.ylabel(\"Calorie Burnage\")\\n\\nplt.plot(x, y)\\nplt.grid(axis = \\'y\\')\\nplt.show()\\n\\nplt.plot(x, y)\\nplt.grid(color = \\'green\\', linestyle = \\'--\\', linewidth = 0.5)\\n\\nx = np.array([0, 1, 2, 3])\\ny = np.array([3, 8, 1, 10])\\n\\nplt.subplot(1, 2, 1)\\nplt.plot(x, y)\\n\\nx = np.array([0, 1, 2, 3])\\ny = np.array([10, 20, 30, 40])\\n\\nplt.subplot(1, 2, 2)\\nplt.plot(x, y)\\n\\nplt.show()\\n\\nx = np.array([0, 1, 2, 3])\\ny = np.array([3, 8, 1, 10])\\n\\nplt.subplot(2, 1, 1)\\nplt.plot(x, y)\\n\\nx = np.array([0, 1, 2, 3])\\ny = np.array([10, 20, 30, 40])\\n\\nplt.subplot(2, 1, 2)\\nplt.plot(x, y)\\n\\nplt.show()\\n\\nx = np.array([0, 1, 2, 3])\\ny = np.array([3, 8, 1, 10])\\n\\nplt.subplot(2, 3, 1)\\nplt.plot(x, y)\\n\\nx = np.array([0, 1, 2, 3])\\ny = np.array([10, 20, 30, 40])\\n\\nplt.subplot(2, 3, 2)\\nplt.plot(x, y)\\n\\nx = np.array([0, 1, 2, 3])\\ny = np.array([3, 8, 1, 10])\\n\\nplt.subplot(2, 3, 3)\\nplt.plot(x, y)\\n\\nx = np.array([0, 1, 2, 3])\\ny = np.array([10, 20, 30, 40])\\n\\nplt.subplot(2, 3, 4)\\nplt.plot(x, y)\\n\\nx = np.array([0, 1, 2, 3])\\ny = np.array([3, 8, 1, 10])\\n\\nplt.subplot(2, 3, 5)\\nplt.plot(x, y)\\n\\nx = np.array([0, 1, 2, 3])\\ny = np.array([10, 20, 30, 40])\\n\\nplt.subplot(2, 3, 6)\\nplt.plot(x, y)\\n\\nplt.show()\\n\\nx = np.array([0, 1, 2, 3])\\ny = np.array([3, 8, 1, 10])\\n\\nplt.subplot(1, 2, 1)\\nplt.plot(x, y)\\nplt.title(\"SALES\")\\n\\nx = np.array([0, 1, 2, 3])\\ny = np.array([10, 20, 30, 40])\\n\\nplt.subplot(1, 2, 2)\\nplt.plot(x, y)\\nplt.title(\"INCOME\")\\n\\nplt.suptitle(\"MY SHOP\")\\nplt.show()\\n\\nx = np.array([5,7,8,7,2,17,2,9,4,11,12,9,6])\\ny = np.array([99,86,87,88,111,86,103,87,94,78,77,85,86])\\nplt.scatter(x, y, color = \\'hotpink\\')\\n\\nx = np.array([2,2,8,1,15,8,12,9,7,3,11,4,7,14,12])\\ny = np.array([100,105,84,105,90,99,90,95,94,100,79,112,91,80,85])\\nplt.scatter(x, y, color = \\'#88c999\\')\\n\\nplt.show()\\n\\nx = np.array([5,7,8,7,2,17,2,9,4,11,12,9,6])\\ny = np.array([99,86,87,88,111,86,103,87,94,78,77,85,86])\\ncolors = np.array([\"red\",\"green\",\"blue\",\"yellow\",\"pink\",\"black\",\"orange\",\"purple\",\"beige\",\"brown\",\"gray\",\"cyan\",\"magenta\"])\\n\\nplt.scatter(x, y, c = colors)\\nplt.show()\\n\\nx = np.array([5,7,8,7,2,17,2,9,4,11,12,9,6])\\ny = np.array([99,86,87,88,111,86,103,87,94,78,77,85,86])\\ncolors = colors = np.array([0, 10, 20, 30, 40, 45, 50, 55, 60, 70, 80, 90, 100])\\n\\nplt.scatter(x, y, c = colors, cmap = \\'viridis\\')\\nplt.colorbar()\\nplt.show()\\n\\nx = np.array([5,7,8,7,2,17,2,9,4,11,12,9,6])\\ny = np.array([99,86,87,88,111,86,103,87,94,78,77,85,86])\\nsizes = np.array([20,50,100,200,500,1000,60,90,10,300,600,800,75])\\n\\nplt.scatter(x, y, s = sizes, alpha = 0.5)\\nplt.show()\\n\\nx = np.random.randint(100, size = (100))\\ny = np.random.randint(100, size = (100))\\ncolors = np.random.randint(100, size = (100))\\nsizes = 10 * np.random.randint(100, size = (100))\\n\\nplt.scatter(x, y, c = colors, s = sizes, alpha = 0.5, cmap = \\'nipy_spectral\\')\\nplt.colorbar()\\nplt.show()\\n\\nx = np.array([\"A\", \"B\", \"C\", \"D\"])\\ny = np.array([3, 8, 1, 10])\\n\\nplt.bar(x, y)\\nplt.show()\\n\\nx = [\"APPLES\", \"BANANAS\"]\\ny = [400, 350]\\n\\nplt.bar(x, y)\\nplt.show()\\n\\nx = np.array([\"A\", \"B\", \"C\", \"D\"])\\ny = np.array([3, 8, 1, 10])\\n\\nplt.barh(x, y)\\nplt.show()\\n\\nplt.bar(x, y, color = \\'red\\')\\nplt.show()\\n\\nplt.bar(x, y, color = \\'hotpink\\')\\nplt.show()\\n\\nplt.bar(x, y, color = \\'#4CAF50\\')\\nplt.show()\\n\\nplt.bar(x, y, width = 0.1)\\nplt.show()\\n\\nplt.barh(x, y, height = 0.1)\\nplt.show()\\n\\nx = np.random.normal(170, 10, 250)\\n\\nplt.hist(x)\\nplt.show()\\n\\ny = np.array([35, 25, 25, 15])\\nmylabels = [\"Apples\", \"Bananas\", \"Cherries\", \"Dates\"]\\nmycolors = [\"black\", \"hotpink\", \"b\", \"#4CAF50\"]\\nmyexplode = [0.2, 0, 0, 0]\\n\\nplt.pie(y, labels = mylabels, startangle = 90)\\nplt.show()\\n\\nplt.pie(y, labels = mylabels, explode = myexplode, shadow = True)\\nplt.show()\\n\\nplt.pie(y, labels = mylabels, colors = mycolors)\\nplt.show()\\n\\nplt.pie(y, labels = mylabels)\\nplt.legend(title = \"Four Fruits:\")\\nplt.show()',\n",
       " 'lang': 'python',\n",
       " 'formatted_text': '```python\\nimport matplotlib.pyplot as plt\\nimport numpy as np\\n\\n# Sample data\\nx = np.array([0, 1, 2, 3])\\ny = np.array([3, 8, 1, 10])\\n\\n# Create a new figure with specified size\\nplt.figure(figsize=(6.0, 4.0))\\n\\n# Plot the data\\nplt.plot(x, y)\\n\\n# Set labels for axes and title\\nplt.xlabel(\"X-axis\")\\nplt.ylabel(\"Y-axis\")\\nplt.title(\"Sample Line Plot\")\\n\\n# Show the plot\\nplt.show()\\n```',\n",
       " 'source': 'v2',\n",
       " 'images': '/mnt/lingjiejiang/multimodal_code/data/chart_data/github_images/images_split4/120001.jpg'}"
      ]
     },
     "execution_count": 87,
     "metadata": {},
     "output_type": "execute_result"
    }
   ],
   "source": [
    "filtered_data[120000]"
   ]
  },
  {
   "cell_type": "code",
   "execution_count": 74,
   "metadata": {},
   "outputs": [
    {
     "data": {
      "text/plain": [
       "{'index': 34999,\n",
       " 'revised_text': \"import matplotlib.pyplot as plt  \\nimport numpy as np  \\n\\n# Sample data\\nx = np.array([1, 2, 3, 4, 5])\\ny = np.array([2, 3, 5, 7, 11])\\n\\n# Create a new figure\\nplt.figure(figsize=(8.0, 6.0))\\n\\n# Plot the data\\nplt.plot(x, y, marker='o', label='Sample Data')\\n\\n# Set labels\\nplt.xlabel('Number of Carriers')\\nplt.ylabel('Throughput per gNB, Mbps')\\n\\n# Add a legend\\nplt.legend()\\n\\n# Show the plot\\nplt.show()\",\n",
       " 'category': 'Line',\n",
       " 'chart_size': [8.0, 6.0],\n",
       " 'gpt_answer': \"<REVISED CODE BEGIN>  \\nimport matplotlib.pyplot as plt  \\nimport numpy as np  \\n\\n# Sample data\\nx = np.array([1, 2, 3, 4, 5])\\ny = np.array([2, 3, 5, 7, 11])\\n\\n# Create a new figure\\nplt.figure(figsize=(8.0, 6.0))\\n\\n# Plot the data\\nplt.plot(x, y, marker='o', label='Sample Data')\\n\\n# Set labels\\nplt.xlabel('Number of Carriers')\\nplt.ylabel('Throughput per gNB, Mbps')\\n\\n# Add a legend\\nplt.legend()\\n\\n# Show the plot\\nplt.show()  \\n<REVISED CODE END>  \\n\\n<CATEGORY>: [Line]  \\n<CHART SIZE>: (8.0, 6.0)  \",\n",
       " 'max_stars_repo_path': 'scenarios/scripts/plot_scenario1.py',\n",
       " 'max_stars_repo_name': 'ZeronSix/nru-wifi-coexistence-simulator',\n",
       " 'max_stars_count': 0,\n",
       " 'id': '938148',\n",
       " 'text': \"#!/usr/bin/env python3\\n\\nimport pandas as pd\\nimport numpy as np\\nimport matplotlib.pyplot as plt\\n\\ndf = pd.read_csv('../results/scenario1.tsv', sep='\\\\t', index_col=False, header=0)\\nbianchi_df = pd.read_csv('../results/bianchi.tsv', sep='\\\\t', index_col=False, header=0)\\n\\nnum_enbs = [1, 2, 5, 7, 10]\\ncarriers = [1, 5, 6, 7, 8, 9, 10, 11, 12, 13, 16, 24, 32]\\nnum_wifi_stas = [0, 1, 2]\\n\\nfor N in num_enbs:\\n    for NW in num_wifi_stas:\\n        plt.cla()\\n\\n        T = 'numEnbs'\\n        X = 'numCarriers'\\n\\n        data = df[(df[T] == N) & (df['numWifiStas'] == NW)]\\n        lbt_a1_nosd = data[(data['lbtType'] == 'A1') & (data['D'] == 0)].groupby(X).agg([np.mean]).reset_index()\\n        lbt_a2_nosd = data[(data['lbtType'] == 'A2') & (data['D'] == 0)].groupby(X).agg([np.mean]).reset_index()\\n        lbt_a1_sd = data[(data['lbtType'] == 'A1') & (data['D'] == 10)].groupby(X).agg([np.mean]).reset_index()\\n        lbt_a2_sd = data[(data['lbtType'] == 'A2') & (data['D'] == 10)].groupby(X).agg([np.mean]).reset_index()\\n        lbt_b_f = data[(data['lbtType'] == 'B') & (data['primary'] == 'fixed')].groupby(X).agg([np.mean]).reset_index()\\n        lbt_b_rr = data[(data['lbtType'] == 'B') & (data['primary'] == 'roundrobin')].groupby(X).agg([np.mean]).reset_index()\\n        lbt_b_rand = data[(data['lbtType'] == 'B') & (data['primary'] == 'random')].groupby(X).agg([np.mean]).reset_index()\\n        lbt_b2_f = data[(data['lbtType'] == 'B2') & (data['primary'] == 'fixed')].groupby(X).agg([np.mean]).reset_index()\\n        lbt_b2_rr = data[(data['lbtType'] == 'B2') & (data['primary'] == 'roundrobin')].groupby(X).agg([np.mean]).reset_index()\\n        lbt_b2_rand = data[(data['lbtType'] == 'B2') & (data['primary'] == 'random')].groupby(X).agg([np.mean]).reset_index()\\n\\n        max_throughput = N ##lbt_a1_nosd[X] # lbt_a1[X] # lbt_a1['numCarriers'] * 75 * N\\n        # if N == 5 and NW == 0:\\n        #     print(list(lbt_a1_nosd[X]))\\n        #     print(list(lbt_a1_nosd['laaThroughput']['mean'] / max_throughput))\\n        #     print(list(lbt_a2_nosd['laaThroughput']['mean'] / max_throughput))\\n        #     print(list(lbt_a2_sd['laaThroughput']['mean'] / max_throughput))\\n        #     print(list(lbt_a2_sd['laaThroughput']['mean'] / max_throughput))\\n        #     print(list(lbt_b_rr['laaThroughput']['mean'] / max_throughput))\\n        plt.plot(lbt_a1_nosd[X], lbt_a1_nosd['laaThroughput']['mean'] / max_throughput, label=f'A1 без SD', marker='^')\\n        plt.plot(lbt_a2_nosd[X], lbt_a2_nosd['laaThroughput']['mean'] / max_throughput, label=f'A2 без SD', marker='*')\\n        plt.plot(lbt_a1_sd[X], lbt_a1_sd['laaThroughput']['mean'] / max_throughput, label=f'A1 с SD', marker='v')\\n        plt.plot(lbt_a2_sd[X], lbt_a2_sd['laaThroughput']['mean'] / max_throughput, label=f'A2 с SD', marker='o')\\n        # plt.plot(lbt_b_f[X], lbt_b_f['laaThroughput']['mean'] / max_throughput, label=f'B1 Fixed', marker='d', linestyle='--', color='r')\\n        plt.plot(lbt_b_rr[X], lbt_b_rr['laaThroughput']['mean'] / max_throughput, label=f'B1 Even', marker='x', linestyle='-.')\\n        # plt.plot(lbt_b_rand[X], lbt_b_rand['laaThroughput']['mean'] / max_throughput, label=f'B1 Random', marker='|', linestyle=':', linewidth=2, color='r')\\n\\n        # plt.plot(lbt_b2_f[X], lbt_b2_f['laaThroughput']['mean'] / max_throughput, label=f'B2 Fixed', marker='d', linestyle='--', color='b')\\n        plt.plot(lbt_b2_rr[X], lbt_b2_rr['laaThroughput']['mean'] / max_throughput, label=f'B2 Even', marker='|', linestyle='-.')\\n        # plt.plot(lbt_b2_rand[X], lbt_b2_rand['laaThroughput']['mean'] / max_throughput, label=f'B2 Random', marker='|', linestyle=':', linewidth=2, color='b')\\n\\n        plt.grid(True)\\n        plt.legend(loc='best')\\n        # plt.xlabel('Number of channels')\\n        # plt.ylabel('NR-U throughput per gNB, Mbps')\\n        plt.xlabel('Число каналов')\\n        plt.ylabel('Пропускная способность NR-U в расчете на gNB, Мбит/с')\\n        plt.tight_layout()\\n        plt.savefig(f'../plots/pdf/scenario1_nru_Z_{N}_{NW}.pdf')\\n        plt.savefig(f'../plots/png/scenario1_nru_Z_{N}_{NW}.png')\\n        plt.show()\\n\\nfor N in num_enbs:\\n    for NW in num_wifi_stas:\\n        plt.cla()\\n\\n        T = 'numEnbs'\\n        X = 'numCarriers'\\n\\n        data = df[(df[T] == N) & (df['numWifiStas'] == NW)]\\n        lbt_a1_nosd = data[(data['lbtType'] == 'A1') & (data['D'] == 0)].groupby(X).agg([np.mean]).reset_index()\\n        lbt_a2_nosd = data[(data['lbtType'] == 'A2') & (data['D'] == 0)].groupby(X).agg([np.mean]).reset_index()\\n        lbt_a1_sd = data[(data['lbtType'] == 'A1') & (data['D'] == 10)].groupby(X).agg([np.mean]).reset_index()\\n        lbt_a2_sd = data[(data['lbtType'] == 'A2') & (data['D'] == 10)].groupby(X).agg([np.mean]).reset_index()\\n        lbt_b1_f = data[(data['lbtType'] == 'B') & (data['primary'] == 'fixed')].groupby(X).agg([np.mean]).reset_index()\\n        lbt_b1_rr = data[(data['lbtType'] == 'B') & (data['primary'] == 'roundrobin')].groupby(X).agg([np.mean]).reset_index()\\n        lbt_b1_rand = data[(data['lbtType'] == 'B') & (data['primary'] == 'random')].groupby(X).agg([np.mean]).reset_index()\\n        lbt_b2_f = data[(data['lbtType'] == 'B2') & (data['primary'] == 'fixed')].groupby(X).agg([np.mean]).reset_index()\\n        lbt_b2_rr = data[(data['lbtType'] == 'B2') & (data['primary'] == 'roundrobin')].groupby(X).agg([np.mean]).reset_index()\\n        lbt_b2_rand = data[(data['lbtType'] == 'B2') & (data['primary'] == 'random')].groupby(X).agg([np.mean]).reset_index()\\n\\n        baseline = lbt_a1_nosd[X] * 75 / 100.0\\n\\n        plt.plot(lbt_a1_nosd[X], (lbt_a1_nosd['laaThroughput']['mean'] + lbt_a1_nosd['wifiThroughput']['mean']) / baseline, label=f'A1 без SD', marker='^')\\n        plt.plot(lbt_a2_nosd[X], (lbt_a2_nosd['laaThroughput']['mean'] + lbt_a2_nosd['wifiThroughput']['mean']) / baseline, label=f'A2 без SD', marker='*')\\n        plt.plot(lbt_a1_sd[X], (lbt_a1_sd['laaThroughput']['mean'] + lbt_a1_sd['wifiThroughput']['mean']) / baseline, label=f'A1 с SD', marker='v')\\n        plt.plot(lbt_a2_sd[X], (lbt_a2_sd['laaThroughput']['mean'] + lbt_a2_sd['wifiThroughput']['mean']) / baseline, label=f'A2 c SD', marker='o')\\n        #plt.plot(lbt_b1_f[X], (lbt_b1_f['laaThroughput']['mean'] + lbt_b1_f['wifiThroughput']['mean']) / baseline, label=f'B1 Fixed', marker='d', linestyle='--')\\n        plt.plot(lbt_b1_rr[X], (lbt_b1_rr['laaThroughput']['mean'] + lbt_b1_rr['wifiThroughput']['mean']) / baseline, label=f'B1 Even', marker='x', linestyle='-.')\\n        #plt.plot(lbt_b1_rand[X], (lbt_b1_rand['laaThroughput']['mean'] + lbt_b1_rand['wifiThroughput']['mean']) / baseline, label=f'B1 Random', marker='|', linestyle=':', linewidth=2)\\n        #plt.plot(lbt_b2_f[X], (lbt_b2_f['laaThroughput']['mean'] + lbt_b2_f['wifiThroughput']['mean']) / baseline, label=f'B2 Fixed', marker='d', linestyle='--')\\n        plt.plot(lbt_b2_rr[X], (lbt_b2_rr['laaThroughput']['mean'] + lbt_b2_rr['wifiThroughput']['mean']) / baseline, label=f'B2 Even', marker='|', linestyle='-.')\\n        #plt.plot(lbt_b2_rand[X], (lbt_b2_rand['laaThroughput']['mean'] + lbt_b2_rand['wifiThroughput']['mean']) / baseline, label=f'B2 Random', marker='x', linestyle=':', linewidth=2)\\n\\n        plt.grid(True)\\n        plt.legend(loc='best')\\n        # plt.xlabel('Number of channels')\\n        # plt.ylabel('Channel utilization, %')\\n        plt.xlabel('Число каналов')\\n        plt.ylabel('Коэффициент использования, %')\\n        plt.tight_layout()\\n        plt.savefig(f'../plots/pdf/scenario1_total_Z_{N}_{NW}.pdf')\\n        plt.savefig(f'../plots/png/scenario1_total_Z_{N}_{NW}.png')\\n        plt.show()\\n\\n\",\n",
       " 'lang': 'python',\n",
       " 'formatted_text': \"```python\\nimport matplotlib.pyplot as plt  \\nimport numpy as np  \\n\\n# Sample data\\nx = np.array([1, 2, 3, 4, 5])\\ny = np.array([2, 3, 5, 7, 11])\\n\\n# Create a new figure\\nplt.figure(figsize=(8.0, 6.0))\\n\\n# Plot the data\\nplt.plot(x, y, marker='o', label='Sample Data')\\n\\n# Set labels\\nplt.xlabel('Number of Carriers')\\nplt.ylabel('Throughput per gNB, Mbps')\\n\\n# Add a legend\\nplt.legend()\\n\\n# Show the plot\\nplt.show()\\n```\",\n",
       " 'source': 'v1',\n",
       " 'images': '/mnt/lingjiejiang/multimodal_code/data/chart_data/github_images/images_split1/035000.jpg'}"
      ]
     },
     "execution_count": 74,
     "metadata": {},
     "output_type": "execute_result"
    }
   ],
   "source": [
    "filtered_data[34997]"
   ]
  },
  {
   "cell_type": "code",
   "execution_count": 88,
   "metadata": {},
   "outputs": [],
   "source": [
    "filtered_data_path = \"/mnt/lingjiejiang/multimodal_code/data/chart_data/unique_revised_data_128k_filtered.json\"\n",
    "with open(filtered_data_path, 'w') as outfile:\n",
    "    json.dump(filtered_data, outfile, indent=0)"
   ]
  },
  {
   "cell_type": "code",
   "execution_count": 40,
   "metadata": {},
   "outputs": [
    {
     "data": {
      "text/plain": [
       "{'index': 12,\n",
       " 'revised_text': \"```python\\nimport matplotlib.pyplot as plt\\nimport numpy as np\\n\\n# Sample data\\nx = np.linspace(0, 10, 100)\\ny = np.sin(x)\\n\\n# Create a new figure\\nfig = plt.figure(figsize=(6.0, 4.0))\\n\\n# Plot the data\\nplt.plot(x, y, label='Sine Wave')\\n\\n# Set labels\\nplt.xlabel('X-axis')\\nplt.ylabel('Y-axis')\\n\\n# Add a legend\\nplt.legend()\\n\\n# Show the plot\\nplt.show()\\n```\",\n",
       " 'category': 'Line',\n",
       " 'chart_size': [6.0, 4.0],\n",
       " 'gpt_answer': \"## Code needs to be revised:\\n\\n```python\\nfrom matplotlib import colors\\nimport numpy as np\\n\\nclass SaveOutput:\\n    def __init__(self):\\n        self.outputs = []\\n\\n    def __call__(self, module, module_in, module_out):\\n        self.outputs.append(module_out)\\n\\n    def clear(self):\\n        self.outputs = []\\n\\nclass MidpointNormalize(colors.Normalize):\\n    def __init__(self, vmin=None, vmax=None, vcenter=None, clip=False):\\n        self.vcenter = vcenter\\n        colors.Normalize.__init__(self, vmin, vmax, clip)\\n\\n    def __call__(self, value, clip=None):\\n        # I'm ignoring masked values and all kinds of edge cases to make a\\n        # simple example...\\n        x, y = [self.vmin, self.vcenter, self.vmax], [self.vmin, self.vcenter, self.vmax]\\n        return np.ma.masked_array(np.interp(value, x, y))\\n```\\n\\n<REVISED CODE BEGIN>\\n```python\\nimport matplotlib.pyplot as plt\\nimport numpy as np\\n\\n# Sample data\\nx = np.linspace(0, 10, 100)\\ny = np.sin(x)\\n\\n# Create a new figure\\nfig = plt.figure(figsize=(6.0, 4.0))\\n\\n# Plot the data\\nplt.plot(x, y, label='Sine Wave')\\n\\n# Set labels\\nplt.xlabel('X-axis')\\nplt.ylabel('Y-axis')\\n\\n# Add a legend\\nplt.legend()\\n\\n# Show the plot\\nplt.show()\\n```\\n<REVISED CODE END>\\n\\n<CATEGORY>: [Line]  \\n<CHART SIZE>: (6.0, 4.0)  \",\n",
       " 'max_stars_repo_path': 'src/utils.py',\n",
       " 'max_stars_repo_name': 'f-grimaldi/explain_ML',\n",
       " 'max_stars_count': 1,\n",
       " 'id': '3656',\n",
       " 'text': \"from matplotlib import colors\\nimport numpy as np\\n\\nclass SaveOutput:\\n    def __init__(self):\\n        self.outputs = []\\n\\n    def __call__(self, module, module_in, module_out):\\n        self.outputs.append(module_out)\\n\\n    def clear(self):\\n        self.outputs = []\\n\\nclass MidpointNormalize(colors.Normalize):\\n    def __init__(self, vmin=None, vmax=None, vcenter=None, clip=False):\\n        self.vcenter = vcenter\\n        colors.Normalize.__init__(self, vmin, vmax, clip)\\n\\n    def __call__(self, value, clip=None):\\n        # I'm ignoring masked values and all kinds of edge cases to make a\\n        # simple example...\\n        x, y = [self.vmin, self.vcenter, self.vmax], [self.vmin, self.vcenter, self.vmax]\\n        return np.ma.masked_array(np.interp(value, x, y))\\n\",\n",
       " 'lang': 'python',\n",
       " 'formatted_text': \"'''python\\n```python\\nimport matplotlib.pyplot as plt\\nimport numpy as np\\n\\n# Sample data\\nx = np.linspace(0, 10, 100)\\ny = np.sin(x)\\n\\n# Create a new figure\\nfig = plt.figure(figsize=(6.0, 4.0))\\n\\n# Plot the data\\nplt.plot(x, y, label='Sine Wave')\\n\\n# Set labels\\nplt.xlabel('X-axis')\\nplt.ylabel('Y-axis')\\n\\n# Add a legend\\nplt.legend()\\n\\n# Show the plot\\nplt.show()\\n```\\n'''\",\n",
       " 'source': 'v1'}"
      ]
     },
     "execution_count": 40,
     "metadata": {},
     "output_type": "execute_result"
    }
   ],
   "source": [
    "unique_data[12]"
   ]
  },
  {
   "cell_type": "code",
   "execution_count": 56,
   "metadata": {},
   "outputs": [],
   "source": [
    "import re\n",
    "\n",
    "# 定义正则表达式来查找被 python 包裹的代码  \n",
    "pattern = re.compile(r\"```python(.*?)```\", re.DOTALL)  \n",
    "\n",
    "temp = []\n",
    "# 遍历数据并替换 revised_text 中被包裹的代码  \n",
    "for item in unique_data:  \n",
    "    revised_text = item.get('revised_text', '')  \n",
    "    match = pattern.search(revised_text)  \n",
    "    if match:  \n",
    "        # 提取包裹的代码  \n",
    "        code_content = match.group(1)  \n",
    "        # 用提取的代码替换 revised_text  \n",
    "        temp.append([item[\"revised_text\"], code_content.strip()  ])\n",
    "        # print(\"here\")\n",
    "        item['revised_text'] = code_content.strip()  \n"
   ]
  },
  {
   "cell_type": "code",
   "execution_count": 57,
   "metadata": {},
   "outputs": [
    {
     "data": {
      "text/plain": [
       "[[\"```python\\nimport matplotlib.pyplot as plt\\nimport numpy as np\\n\\n# Sample data\\nx = np.linspace(0, 10, 100)\\ny = np.sin(x)\\n\\n# Create a new figure\\nfig = plt.figure(figsize=(8.0, 6.0))\\n\\n# Plot the data\\nplt.plot(x, y, label='Sine Wave')\\n\\n# Set labels\\nplt.xlabel('X-axis')\\nplt.ylabel('Y-axis')\\nplt.title('Sine Wave Plot')\\n\\n# Add a legend\\nplt.legend()\\n\\n# Show the plot\\nplt.show()\\n```\",\n",
       "  \"import matplotlib.pyplot as plt\\nimport numpy as np\\n\\n# Sample data\\nx = np.linspace(0, 10, 100)\\ny = np.sin(x)\\n\\n# Create a new figure\\nfig = plt.figure(figsize=(8.0, 6.0))\\n\\n# Plot the data\\nplt.plot(x, y, label='Sine Wave')\\n\\n# Set labels\\nplt.xlabel('X-axis')\\nplt.ylabel('Y-axis')\\nplt.title('Sine Wave Plot')\\n\\n# Add a legend\\nplt.legend()\\n\\n# Show the plot\\nplt.show()\"],\n",
       " [\"```python\\nimport matplotlib.pyplot as plt  \\nimport numpy as np  \\n\\n# Sample data  \\nx = np.linspace(0, 10, 100)  \\ny = np.sin(x)  \\n\\n# Create a new figure  \\nplt.figure(figsize=(6.0, 4.0))  \\n\\n# Plot the data  \\nplt.plot(x, y, label='Sine Wave')  \\n\\n# Set labels  \\nplt.xlabel('X-axis')  \\nplt.ylabel('Y-axis')  \\nplt.title('Sine Wave')  \\n\\n# Show the plot  \\nplt.show()  \\n```\",\n",
       "  \"import matplotlib.pyplot as plt  \\nimport numpy as np  \\n\\n# Sample data  \\nx = np.linspace(0, 10, 100)  \\ny = np.sin(x)  \\n\\n# Create a new figure  \\nplt.figure(figsize=(6.0, 4.0))  \\n\\n# Plot the data  \\nplt.plot(x, y, label='Sine Wave')  \\n\\n# Set labels  \\nplt.xlabel('X-axis')  \\nplt.ylabel('Y-axis')  \\nplt.title('Sine Wave')  \\n\\n# Show the plot  \\nplt.show()\"]]"
      ]
     },
     "execution_count": 57,
     "metadata": {},
     "output_type": "execute_result"
    }
   ],
   "source": [
    "temp[:2]"
   ]
  },
  {
   "cell_type": "code",
   "execution_count": 58,
   "metadata": {},
   "outputs": [
    {
     "data": {
      "text/plain": [
       "12593"
      ]
     },
     "execution_count": 58,
     "metadata": {},
     "output_type": "execute_result"
    }
   ],
   "source": [
    "len(temp)"
   ]
  },
  {
   "cell_type": "code",
   "execution_count": 36,
   "metadata": {},
   "outputs": [
    {
     "data": {
      "text/plain": [
       "[{'index': 0,\n",
       "  'revised_text': \"import matplotlib.pyplot as plt  \\nimport numpy as np  \\n\\n# Sample data\\nnp.random.seed(0)\\nmatrix = np.random.rand(10, 10)\\n\\n# Create a new figure\\nplt.figure(figsize=(6, 12))\\n\\n# Plot the heatmap\\nplt.imshow(matrix, cmap='viridis', aspect='auto')\\n\\n# Set ticks\\nplt.xticks(np.arange(10))\\nplt.yticks(np.arange(10))\\n\\n# Show the plot\\nplt.show()\",\n",
       "  'category': 'Heatmap',\n",
       "  'chart_size': [6.0, 12.0],\n",
       "  'gpt_answer': \"<REVISED CODE BEGIN>  \\nimport matplotlib.pyplot as plt  \\nimport numpy as np  \\n\\n# Sample data\\nnp.random.seed(0)\\nmatrix = np.random.rand(10, 10)\\n\\n# Create a new figure\\nplt.figure(figsize=(6, 12))\\n\\n# Plot the heatmap\\nplt.imshow(matrix, cmap='viridis', aspect='auto')\\n\\n# Set ticks\\nplt.xticks(np.arange(10))\\nplt.yticks(np.arange(10))\\n\\n# Show the plot\\nplt.show()  \\n<REVISED CODE END>  \\n\\n<CATEGORY>: [Heatmap]  \\n<CHART SIZE>: (6, 12)  \",\n",
       "  'max_stars_repo_path': 'ml_datasets/utils.py',\n",
       "  'max_stars_repo_name': 'abkoesdw/ml-datasets',\n",
       "  'max_stars_count': 1,\n",
       "  'id': '2963',\n",
       "  'text': 'import matplotlib.pyplot as plt\\nimport matplotlib.gridspec as gridspec\\nimport sys\\nimport numpy as np\\nfrom matplotlib.colors import LinearSegmentedColormap\\nfrom matplotlib.colors import BoundaryNorm\\n\\n\\ndef plot_images(\\n    num_sample_perclass=10, x=None, y=None, labels=None, title=None, cmap=None\\n):\\n    grid_x = num_sample_perclass + 1\\n    grid_y = len(labels)\\n\\n    plt.figure(figsize=(grid_y, grid_x))\\n    gs1 = gridspec.GridSpec(grid_y, grid_x)\\n    gs1.update(wspace=0.025, hspace=0.05)\\n\\n    font = {\"family\": \"serif\", \"weight\": \"bold\"}\\n\\n    plt.suptitle(title)\\n    j = 0\\n    for i in range(grid_y):\\n        idxs = [0] + list(np.where(y == list(labels.keys())[i])[0][: grid_x - 1])\\n        label = labels[list(labels.keys())[i]]\\n\\n        for k, idx in enumerate(idxs):\\n            ax1 = plt.subplot(gs1[j])\\n\\n            if k == 0:\\n                ax1.text(0, 0.25, label, ha=\"right\", wrap=True, fontdict=font)\\n\\n            else:\\n                ax1.imshow(x[idx, ...], cmap=cmap)\\n\\n            plt.axis(\"off\")\\n            j += 1\\n\\n    plt.show()\\n\\n\\ndef plot_2D(x, y, title, axis=\"off\"):\\n    BLUE, ORANGE = \"#57B5E8\", \"#E69E00\"\\n    plt.figure(figsize=(8, 8))\\n    plt.scatter(\\n        x[:, 0],\\n        x[:, 1],\\n        s=18,\\n        facecolors=\"none\",\\n        edgecolors=np.array([BLUE, ORANGE])[y],\\n    )\\n    if axis == \"off\":\\n        plt.axis(\"off\")\\n    elif axis == \"on\":\\n        plt.xlabel(\"x_1\")\\n        plt.ylabel(\"x_2\")\\n    else:\\n        print(\"incorrect values for arg: axis (on or off only)\")\\n        sys.exit()\\n\\n    plt.title(title)\\n    plt.show()\\n\\n\\ndef plot_dna(df, label):\\n    matrix = df.values\\n    col_names = df.columns\\n    rows = np.arange(matrix.shape[0])\\n    cols = np.arange(matrix.shape[1])\\n    np.random.seed(3)\\n    np.random.shuffle(rows)\\n    np.random.shuffle(cols)\\n\\n    matrix = matrix[:, cols[:100]].T\\n    matrix = matrix[:, rows]\\n    col_names = col_names[cols[:100]]\\n    label = label[rows]\\n    mat_min = np.min(matrix)\\n    mat_max = np.max(matrix)\\n    mat_min = -np.max([np.abs(mat_min), mat_max])\\n    mat_max = np.max([np.abs(mat_min), mat_max])\\n    matrix = np.ma.masked_where(np.abs(matrix) <= 0.3, matrix)\\n\\n    plt.figure(figsize=(6, 12))\\n    cmap_list = [\"red\", \"darkred\", \"green\", \"lime\", \"lightgreen\"]\\n    cmap = LinearSegmentedColormap.from_list(\"Custom cmap\", cmap_list, len(cmap_list))\\n    cmap.set_bad(\"black\")\\n\\n    bounds = np.linspace(\\n        mat_min + 6, mat_max - 6, 5\\n    )  # np.arange(mat_min + 6, mat_max - 6, 0.1)\\n    idx = np.searchsorted(bounds, 0)\\n\\n    bounds = np.insert(bounds, idx, 0)\\n    norm = BoundaryNorm(bounds, cmap.N)\\n\\n    plt.imshow(matrix, cmap=cmap, norm=norm)\\n    plt.xticks(np.arange(len(label)))\\n    plt.yticks(np.arange(len(col_names)))\\n    ax = plt.gca()\\n    ax.set_xticklabels(label, rotation=90)\\n    ax.set_yticklabels(col_names)\\n    ax.yaxis.tick_right()\\n    ax.tick_params(axis=u\"both\", which=u\"both\", labelsize=5, length=0.0)\\n    plt.tight_layout()\\n    fig = plt.gcf()\\n    # fig.set_size_inches((6, 12), forward=False)\\n    # fig.savefig(\"img/dna.png\", dpi=200)\\n    plt.show()\\n',\n",
       "  'lang': 'python',\n",
       "  'formatted_text': \"'''python\\nimport matplotlib.pyplot as plt  \\nimport numpy as np  \\n\\n# Sample data\\nnp.random.seed(0)\\nmatrix = np.random.rand(10, 10)\\n\\n# Create a new figure\\nplt.figure(figsize=(6, 12))\\n\\n# Plot the heatmap\\nplt.imshow(matrix, cmap='viridis', aspect='auto')\\n\\n# Set ticks\\nplt.xticks(np.arange(10))\\nplt.yticks(np.arange(10))\\n\\n# Show the plot\\nplt.show()\\n'''\",\n",
       "  'source': 'v1'},\n",
       " {'index': 1,\n",
       "  'revised_text': \"import matplotlib.pyplot as plt  \\nimport numpy as np  \\n\\n# Sample data\\nx = np.linspace(0, 10, 100)\\ny = np.sin(x)\\n\\n# Create a new figure\\nfig = plt.figure(figsize=(10.0, 6.0))\\n\\n# Plot the data\\nplt.plot(x, y, label='Sine Wave')\\n\\n# Set labels\\nplt.xlabel('X')\\nplt.ylabel('Y')\\nplt.title('Sine Wave')\\n\\n# Add a legend\\nplt.legend()\\n\\n# Show the plot\\nplt.show()\",\n",
       "  'category': 'Line',\n",
       "  'chart_size': [10.0, 6.0],\n",
       "  'gpt_answer': \"<REVISED CODE BEGIN>  \\nimport matplotlib.pyplot as plt  \\nimport numpy as np  \\n\\n# Sample data\\nx = np.linspace(0, 10, 100)\\ny = np.sin(x)\\n\\n# Create a new figure\\nfig = plt.figure(figsize=(10.0, 6.0))\\n\\n# Plot the data\\nplt.plot(x, y, label='Sine Wave')\\n\\n# Set labels\\nplt.xlabel('X')\\nplt.ylabel('Y')\\nplt.title('Sine Wave')\\n\\n# Add a legend\\nplt.legend()\\n\\n# Show the plot\\nplt.show()  \\n<REVISED CODE END>  \\n\\n<CATEGORY>: [Line]  \\n<CHART SIZE>: (10.0, 6.0)  \",\n",
       "  'max_stars_repo_path': '05-Intro-to-SpaCy/scripts/choropleth.py',\n",
       "  'max_stars_repo_name': 'henchc/Rediscovering-Text-as-Data',\n",
       "  'max_stars_count': 15,\n",
       "  'id': '7338',\n",
       "  'text': 'def us_choropleth(t):\\n    import matplotlib.cm\\n    from matplotlib.patches import Polygon\\n    from matplotlib.collections import PatchCollection\\n    from matplotlib.colors import Normalize\\n    import shapefile\\n    import matplotlib.pyplot as plt\\n    from mpl_toolkits.basemap import Basemap\\n    import numpy as np\\n    import random\\n    import pandas as pd\\n    from collections import Counter\\n\\n    plt.title(\"NER\", fontsize=12)\\n\\n    us_locations_map = Basemap(\\n        resolution=\"l\",\\n        llcrnrlon=-128.94,\\n        llcrnrlat=23.52,\\n        urcrnrlon=-60.12,\\n        urcrnrlat=50.93,\\n        lat_0=37.26,\\n        lon_0=-94.53)\\n    us_locations_map.drawmapboundary(\\n        fill_color=\"#46bcec\")  # Fills in the oceans\\n    us_locations_map.fillcontinents(\\n        color=\"#eabc77\",\\n        lake_color=\"#46bcec\")  # Defines the continents\\n    us_locations_map.drawcoastlines()\\n\\n    fig = matplotlib.pyplot.gcf()\\n    fig.set_size_inches(15.5, 12.5)  # Sets the size of the map\\n\\n    # Converts the coordinates to map points\\n    lons, lats = us_locations_map(t[\"longitude\"], t[\"latitude\"])\\n    us_locations_map.scatter(\\n        lons,\\n        lats,\\n        color=\"black\",\\n        zorder=10)  # Draws the points on the map\\n\\n    # Labels each point with the location name\\n    for i in range(t.num_rows):\\n        lat_lon = (\\n            t.row(i).item(\"longitude\") + .2,\\n            t.row(i).item(\"latitude\") - .1)\\n        plt.annotate(np.array(t.row(i).item(\"name\")), lat_lon, fontsize=10)\\n\\n    # Here we are reading in a shape file, which places state boundary\\n    # information for our Basemap\\n    us_locations_map.readshapefile(\\n        \"data/us_shapefiles/cb_2016_us_state_20m\", \"us_states\")\\n\\n    state_names = []\\n    for shape_dict in us_locations_map.us_states_info:\\n        state_names.append(shape_dict[\\'NAME\\'])\\n\\n    ax = plt.gca()  # get current axes instance\\n    cmap = plt.get_cmap(\\'Reds\\')\\n\\n    names = []\\n    shapes = []\\n    counts = []\\n\\n    state_counts = Counter(t[\"state\"])\\n\\n    for index, state in enumerate(state_names):\\n        seg = us_locations_map.us_states[index]\\n        poly = Polygon(seg)\\n        names.append(state)\\n        shapes.append(poly)\\n        if state in t[\\'state\\']:\\n            counts.append(state_counts[state])\\n        else:\\n            counts.append(0)\\n\\n    # Loading our lists into the DataFrame\\n    shape_table = pd.DataFrame()\\n    shape_table[\"State Name\"] = np.array(names)\\n    shape_table[\"Shapes\"] = np.array(shapes)\\n    shape_table[\"Count\"] = np.array(counts)\\n\\n    pc = PatchCollection(shape_table[\"Shapes\"], zorder=2)\\n    norm = Normalize()\\n\\n    pc.set_facecolor(cmap(norm(shape_table[\\'Count\\'].fillna(0).values)))\\n    pc.set_edgecolor(\"black\")\\n    ax.add_collection(pc)\\n\\n    # Adds colorbar showing the scale\\n    mapper = matplotlib.cm.ScalarMappable(norm=norm, cmap=cmap)\\n    mapper.set_array(shape_table[\\'Count\\'])\\n    plt.colorbar(mapper, shrink=0.4)\\n',\n",
       "  'lang': 'python',\n",
       "  'formatted_text': \"'''python\\nimport matplotlib.pyplot as plt  \\nimport numpy as np  \\n\\n# Sample data\\nx = np.linspace(0, 10, 100)\\ny = np.sin(x)\\n\\n# Create a new figure\\nfig = plt.figure(figsize=(10.0, 6.0))\\n\\n# Plot the data\\nplt.plot(x, y, label='Sine Wave')\\n\\n# Set labels\\nplt.xlabel('X')\\nplt.ylabel('Y')\\nplt.title('Sine Wave')\\n\\n# Add a legend\\nplt.legend()\\n\\n# Show the plot\\nplt.show()\\n'''\",\n",
       "  'source': 'v1'}]"
      ]
     },
     "execution_count": 36,
     "metadata": {},
     "output_type": "execute_result"
    }
   ],
   "source": [
    "unique_data[:2]"
   ]
  },
  {
   "cell_type": "code",
   "execution_count": 59,
   "metadata": {},
   "outputs": [],
   "source": [
    "for idx, item in enumerate(unique_data):\n",
    "    reviesd_text = item.get(\"revised_text\", \"\").strip()\n",
    "    formatted_text = f\"```python\\n{reviesd_text}\\n```\"\n",
    "    item[\"formatted_text\"] = formatted_text\n",
    "    item[\"index\"] = idx\n",
    "with open(save_path, 'w') as outfile:\n",
    "    json.dump(unique_data, outfile, indent=0)"
   ]
  },
  {
   "cell_type": "code",
   "execution_count": 60,
   "metadata": {},
   "outputs": [
    {
     "data": {
      "text/plain": [
       "[{'index': 0,\n",
       "  'revised_text': \"import matplotlib.pyplot as plt  \\nimport numpy as np  \\n\\n# Sample data\\nnp.random.seed(0)\\nmatrix = np.random.rand(10, 10)\\n\\n# Create a new figure\\nplt.figure(figsize=(6, 12))\\n\\n# Plot the heatmap\\nplt.imshow(matrix, cmap='viridis', aspect='auto')\\n\\n# Set ticks\\nplt.xticks(np.arange(10))\\nplt.yticks(np.arange(10))\\n\\n# Show the plot\\nplt.show()\",\n",
       "  'category': 'Heatmap',\n",
       "  'chart_size': [6.0, 12.0],\n",
       "  'gpt_answer': \"<REVISED CODE BEGIN>  \\nimport matplotlib.pyplot as plt  \\nimport numpy as np  \\n\\n# Sample data\\nnp.random.seed(0)\\nmatrix = np.random.rand(10, 10)\\n\\n# Create a new figure\\nplt.figure(figsize=(6, 12))\\n\\n# Plot the heatmap\\nplt.imshow(matrix, cmap='viridis', aspect='auto')\\n\\n# Set ticks\\nplt.xticks(np.arange(10))\\nplt.yticks(np.arange(10))\\n\\n# Show the plot\\nplt.show()  \\n<REVISED CODE END>  \\n\\n<CATEGORY>: [Heatmap]  \\n<CHART SIZE>: (6, 12)  \",\n",
       "  'max_stars_repo_path': 'ml_datasets/utils.py',\n",
       "  'max_stars_repo_name': 'abkoesdw/ml-datasets',\n",
       "  'max_stars_count': 1,\n",
       "  'id': '2963',\n",
       "  'text': 'import matplotlib.pyplot as plt\\nimport matplotlib.gridspec as gridspec\\nimport sys\\nimport numpy as np\\nfrom matplotlib.colors import LinearSegmentedColormap\\nfrom matplotlib.colors import BoundaryNorm\\n\\n\\ndef plot_images(\\n    num_sample_perclass=10, x=None, y=None, labels=None, title=None, cmap=None\\n):\\n    grid_x = num_sample_perclass + 1\\n    grid_y = len(labels)\\n\\n    plt.figure(figsize=(grid_y, grid_x))\\n    gs1 = gridspec.GridSpec(grid_y, grid_x)\\n    gs1.update(wspace=0.025, hspace=0.05)\\n\\n    font = {\"family\": \"serif\", \"weight\": \"bold\"}\\n\\n    plt.suptitle(title)\\n    j = 0\\n    for i in range(grid_y):\\n        idxs = [0] + list(np.where(y == list(labels.keys())[i])[0][: grid_x - 1])\\n        label = labels[list(labels.keys())[i]]\\n\\n        for k, idx in enumerate(idxs):\\n            ax1 = plt.subplot(gs1[j])\\n\\n            if k == 0:\\n                ax1.text(0, 0.25, label, ha=\"right\", wrap=True, fontdict=font)\\n\\n            else:\\n                ax1.imshow(x[idx, ...], cmap=cmap)\\n\\n            plt.axis(\"off\")\\n            j += 1\\n\\n    plt.show()\\n\\n\\ndef plot_2D(x, y, title, axis=\"off\"):\\n    BLUE, ORANGE = \"#57B5E8\", \"#E69E00\"\\n    plt.figure(figsize=(8, 8))\\n    plt.scatter(\\n        x[:, 0],\\n        x[:, 1],\\n        s=18,\\n        facecolors=\"none\",\\n        edgecolors=np.array([BLUE, ORANGE])[y],\\n    )\\n    if axis == \"off\":\\n        plt.axis(\"off\")\\n    elif axis == \"on\":\\n        plt.xlabel(\"x_1\")\\n        plt.ylabel(\"x_2\")\\n    else:\\n        print(\"incorrect values for arg: axis (on or off only)\")\\n        sys.exit()\\n\\n    plt.title(title)\\n    plt.show()\\n\\n\\ndef plot_dna(df, label):\\n    matrix = df.values\\n    col_names = df.columns\\n    rows = np.arange(matrix.shape[0])\\n    cols = np.arange(matrix.shape[1])\\n    np.random.seed(3)\\n    np.random.shuffle(rows)\\n    np.random.shuffle(cols)\\n\\n    matrix = matrix[:, cols[:100]].T\\n    matrix = matrix[:, rows]\\n    col_names = col_names[cols[:100]]\\n    label = label[rows]\\n    mat_min = np.min(matrix)\\n    mat_max = np.max(matrix)\\n    mat_min = -np.max([np.abs(mat_min), mat_max])\\n    mat_max = np.max([np.abs(mat_min), mat_max])\\n    matrix = np.ma.masked_where(np.abs(matrix) <= 0.3, matrix)\\n\\n    plt.figure(figsize=(6, 12))\\n    cmap_list = [\"red\", \"darkred\", \"green\", \"lime\", \"lightgreen\"]\\n    cmap = LinearSegmentedColormap.from_list(\"Custom cmap\", cmap_list, len(cmap_list))\\n    cmap.set_bad(\"black\")\\n\\n    bounds = np.linspace(\\n        mat_min + 6, mat_max - 6, 5\\n    )  # np.arange(mat_min + 6, mat_max - 6, 0.1)\\n    idx = np.searchsorted(bounds, 0)\\n\\n    bounds = np.insert(bounds, idx, 0)\\n    norm = BoundaryNorm(bounds, cmap.N)\\n\\n    plt.imshow(matrix, cmap=cmap, norm=norm)\\n    plt.xticks(np.arange(len(label)))\\n    plt.yticks(np.arange(len(col_names)))\\n    ax = plt.gca()\\n    ax.set_xticklabels(label, rotation=90)\\n    ax.set_yticklabels(col_names)\\n    ax.yaxis.tick_right()\\n    ax.tick_params(axis=u\"both\", which=u\"both\", labelsize=5, length=0.0)\\n    plt.tight_layout()\\n    fig = plt.gcf()\\n    # fig.set_size_inches((6, 12), forward=False)\\n    # fig.savefig(\"img/dna.png\", dpi=200)\\n    plt.show()\\n',\n",
       "  'lang': 'python',\n",
       "  'formatted_text': \"```python\\nimport matplotlib.pyplot as plt  \\nimport numpy as np  \\n\\n# Sample data\\nnp.random.seed(0)\\nmatrix = np.random.rand(10, 10)\\n\\n# Create a new figure\\nplt.figure(figsize=(6, 12))\\n\\n# Plot the heatmap\\nplt.imshow(matrix, cmap='viridis', aspect='auto')\\n\\n# Set ticks\\nplt.xticks(np.arange(10))\\nplt.yticks(np.arange(10))\\n\\n# Show the plot\\nplt.show()\\n```\",\n",
       "  'source': 'v1'},\n",
       " {'index': 1,\n",
       "  'revised_text': \"import matplotlib.pyplot as plt  \\nimport numpy as np  \\n\\n# Sample data\\nx = np.linspace(0, 10, 100)\\ny = np.sin(x)\\n\\n# Create a new figure\\nfig = plt.figure(figsize=(10.0, 6.0))\\n\\n# Plot the data\\nplt.plot(x, y, label='Sine Wave')\\n\\n# Set labels\\nplt.xlabel('X')\\nplt.ylabel('Y')\\nplt.title('Sine Wave')\\n\\n# Add a legend\\nplt.legend()\\n\\n# Show the plot\\nplt.show()\",\n",
       "  'category': 'Line',\n",
       "  'chart_size': [10.0, 6.0],\n",
       "  'gpt_answer': \"<REVISED CODE BEGIN>  \\nimport matplotlib.pyplot as plt  \\nimport numpy as np  \\n\\n# Sample data\\nx = np.linspace(0, 10, 100)\\ny = np.sin(x)\\n\\n# Create a new figure\\nfig = plt.figure(figsize=(10.0, 6.0))\\n\\n# Plot the data\\nplt.plot(x, y, label='Sine Wave')\\n\\n# Set labels\\nplt.xlabel('X')\\nplt.ylabel('Y')\\nplt.title('Sine Wave')\\n\\n# Add a legend\\nplt.legend()\\n\\n# Show the plot\\nplt.show()  \\n<REVISED CODE END>  \\n\\n<CATEGORY>: [Line]  \\n<CHART SIZE>: (10.0, 6.0)  \",\n",
       "  'max_stars_repo_path': '05-Intro-to-SpaCy/scripts/choropleth.py',\n",
       "  'max_stars_repo_name': 'henchc/Rediscovering-Text-as-Data',\n",
       "  'max_stars_count': 15,\n",
       "  'id': '7338',\n",
       "  'text': 'def us_choropleth(t):\\n    import matplotlib.cm\\n    from matplotlib.patches import Polygon\\n    from matplotlib.collections import PatchCollection\\n    from matplotlib.colors import Normalize\\n    import shapefile\\n    import matplotlib.pyplot as plt\\n    from mpl_toolkits.basemap import Basemap\\n    import numpy as np\\n    import random\\n    import pandas as pd\\n    from collections import Counter\\n\\n    plt.title(\"NER\", fontsize=12)\\n\\n    us_locations_map = Basemap(\\n        resolution=\"l\",\\n        llcrnrlon=-128.94,\\n        llcrnrlat=23.52,\\n        urcrnrlon=-60.12,\\n        urcrnrlat=50.93,\\n        lat_0=37.26,\\n        lon_0=-94.53)\\n    us_locations_map.drawmapboundary(\\n        fill_color=\"#46bcec\")  # Fills in the oceans\\n    us_locations_map.fillcontinents(\\n        color=\"#eabc77\",\\n        lake_color=\"#46bcec\")  # Defines the continents\\n    us_locations_map.drawcoastlines()\\n\\n    fig = matplotlib.pyplot.gcf()\\n    fig.set_size_inches(15.5, 12.5)  # Sets the size of the map\\n\\n    # Converts the coordinates to map points\\n    lons, lats = us_locations_map(t[\"longitude\"], t[\"latitude\"])\\n    us_locations_map.scatter(\\n        lons,\\n        lats,\\n        color=\"black\",\\n        zorder=10)  # Draws the points on the map\\n\\n    # Labels each point with the location name\\n    for i in range(t.num_rows):\\n        lat_lon = (\\n            t.row(i).item(\"longitude\") + .2,\\n            t.row(i).item(\"latitude\") - .1)\\n        plt.annotate(np.array(t.row(i).item(\"name\")), lat_lon, fontsize=10)\\n\\n    # Here we are reading in a shape file, which places state boundary\\n    # information for our Basemap\\n    us_locations_map.readshapefile(\\n        \"data/us_shapefiles/cb_2016_us_state_20m\", \"us_states\")\\n\\n    state_names = []\\n    for shape_dict in us_locations_map.us_states_info:\\n        state_names.append(shape_dict[\\'NAME\\'])\\n\\n    ax = plt.gca()  # get current axes instance\\n    cmap = plt.get_cmap(\\'Reds\\')\\n\\n    names = []\\n    shapes = []\\n    counts = []\\n\\n    state_counts = Counter(t[\"state\"])\\n\\n    for index, state in enumerate(state_names):\\n        seg = us_locations_map.us_states[index]\\n        poly = Polygon(seg)\\n        names.append(state)\\n        shapes.append(poly)\\n        if state in t[\\'state\\']:\\n            counts.append(state_counts[state])\\n        else:\\n            counts.append(0)\\n\\n    # Loading our lists into the DataFrame\\n    shape_table = pd.DataFrame()\\n    shape_table[\"State Name\"] = np.array(names)\\n    shape_table[\"Shapes\"] = np.array(shapes)\\n    shape_table[\"Count\"] = np.array(counts)\\n\\n    pc = PatchCollection(shape_table[\"Shapes\"], zorder=2)\\n    norm = Normalize()\\n\\n    pc.set_facecolor(cmap(norm(shape_table[\\'Count\\'].fillna(0).values)))\\n    pc.set_edgecolor(\"black\")\\n    ax.add_collection(pc)\\n\\n    # Adds colorbar showing the scale\\n    mapper = matplotlib.cm.ScalarMappable(norm=norm, cmap=cmap)\\n    mapper.set_array(shape_table[\\'Count\\'])\\n    plt.colorbar(mapper, shrink=0.4)\\n',\n",
       "  'lang': 'python',\n",
       "  'formatted_text': \"```python\\nimport matplotlib.pyplot as plt  \\nimport numpy as np  \\n\\n# Sample data\\nx = np.linspace(0, 10, 100)\\ny = np.sin(x)\\n\\n# Create a new figure\\nfig = plt.figure(figsize=(10.0, 6.0))\\n\\n# Plot the data\\nplt.plot(x, y, label='Sine Wave')\\n\\n# Set labels\\nplt.xlabel('X')\\nplt.ylabel('Y')\\nplt.title('Sine Wave')\\n\\n# Add a legend\\nplt.legend()\\n\\n# Show the plot\\nplt.show()\\n```\",\n",
       "  'source': 'v1'}]"
      ]
     },
     "execution_count": 60,
     "metadata": {},
     "output_type": "execute_result"
    }
   ],
   "source": [
    "unique_data[:2]"
   ]
  },
  {
   "cell_type": "code",
   "execution_count": 33,
   "metadata": {},
   "outputs": [
    {
     "data": {
      "text/plain": [
       "128961"
      ]
     },
     "execution_count": 33,
     "metadata": {},
     "output_type": "execute_result"
    }
   ],
   "source": [
    "with open(save_path, 'r') as f:\n",
    "    unique_data = json.load(f)\n",
    "len(unique_data)"
   ]
  }
 ],
 "metadata": {
  "kernelspec": {
   "display_name": "chartmimic",
   "language": "python",
   "name": "python3"
  },
  "language_info": {
   "codemirror_mode": {
    "name": "ipython",
    "version": 3
   },
   "file_extension": ".py",
   "mimetype": "text/x-python",
   "name": "python",
   "nbconvert_exporter": "python",
   "pygments_lexer": "ipython3",
   "version": "3.9.0"
  }
 },
 "nbformat": 4,
 "nbformat_minor": 2
}
