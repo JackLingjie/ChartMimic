{
 "cells": [
  {
   "cell_type": "code",
   "execution_count": 4,
   "metadata": {},
   "outputs": [
    {
     "data": {
      "text/plain": [
       "129262"
      ]
     },
     "execution_count": 4,
     "metadata": {},
     "output_type": "execute_result"
    }
   ],
   "source": [
    "revised_path = \"/mnt/lingjiejiang/multimodal_code/data/chart_data/revised_code/final_output.json\"\n",
    "with open(revised_path, 'r') as f:\n",
    "    revised_data = json.load(f)\n",
    "len(revised_data)"
   ]
  },
  {
   "cell_type": "code",
   "execution_count": 9,
   "metadata": {},
   "outputs": [
    {
     "data": {
      "text/plain": [
       "96396"
      ]
     },
     "execution_count": 9,
     "metadata": {},
     "output_type": "execute_result"
    }
   ],
   "source": [
    "inempty_data = [item for item in revised_data if item[\"revised_text\"] != \"\"]\n",
    "len(inempty_data)"
   ]
  },
  {
   "cell_type": "code",
   "execution_count": 10,
   "metadata": {},
   "outputs": [
    {
     "data": {
      "text/plain": [
       "32866"
      ]
     },
     "execution_count": 10,
     "metadata": {},
     "output_type": "execute_result"
    }
   ],
   "source": [
    "empty_data = [item for item in revised_data if item[\"revised_text\"] == \"\"]\n",
    "len(empty_data)"
   ]
  },
  {
   "cell_type": "code",
   "execution_count": 11,
   "metadata": {},
   "outputs": [],
   "source": [
    "save_path = '/mnt/lingjiejiang/multimodal_code/data/chart_data/github_chart/merged_empty_data.json'\n",
    "with open(save_path, 'w') as outfile:  \n",
    "    json.dump(empty_data, outfile, indent=4)"
   ]
  },
  {
   "cell_type": "code",
   "execution_count": 12,
   "metadata": {},
   "outputs": [
    {
     "data": {
      "text/plain": [
       "32866"
      ]
     },
     "execution_count": 12,
     "metadata": {},
     "output_type": "execute_result"
    }
   ],
   "source": [
    "with open(save_path, 'r') as f:\n",
    "    empty_data = json.load(f)\n",
    "len(empty_data)"
   ]
  },
  {
   "cell_type": "code",
   "execution_count": 2,
   "metadata": {},
   "outputs": [
    {
     "data": {
      "text/plain": [
       "(13111, 13111, 13113, 3976)"
      ]
     },
     "execution_count": 2,
     "metadata": {},
     "output_type": "execute_result"
    }
   ],
   "source": [
    "import json\n",
    "data_1_path = \"/mnt/lingjiejiang/multimodal_code/data/chart_data/chart_code_evol_1/final_output.json\"\n",
    "data_2_path = \"/mnt/lingjiejiang/multimodal_code/data/chart_data/chart_code_evol_2/final_output.json\"\n",
    "data_3_path = \"/mnt/lingjiejiang/multimodal_code/data/chart_data/chart_code_evol_3/final_output.json\"\n",
    "seed_data_path = \"/mnt/lingjiejiang/multimodal_code/data/chart_data/chart_code_evol_sampled_seed_4k_supply/final_output_empty.json\"\n",
    "\n",
    "def load_data(data_path):\n",
    "    with open(data_path, 'r') as f:\n",
    "        data = json.load(f)\n",
    "    return data\n",
    "\n",
    "data_1 = load_data(data_1_path)\n",
    "data_2 = load_data(data_2_path)\n",
    "data_3 = load_data(data_3_path)\n",
    "seed_data = load_data(seed_data_path)\n",
    "len(data_1), len(data_2), len(data_3), len(seed_data)"
   ]
  },
  {
   "cell_type": "code",
   "execution_count": 8,
   "metadata": {},
   "outputs": [
    {
     "data": {
      "text/plain": [
       "43311"
      ]
     },
     "execution_count": 8,
     "metadata": {},
     "output_type": "execute_result"
    }
   ],
   "source": [
    "merged_data = data_1 + data_2 + data_3 + seed_data\n",
    "len(merged_data)"
   ]
  },
  {
   "cell_type": "code",
   "execution_count": 13,
   "metadata": {},
   "outputs": [
    {
     "name": "stdout",
     "output_type": "stream",
     "text": [
      "Len of filtered_empty_data: 43076\n"
     ]
    }
   ],
   "source": [
    "import re\n",
    "merged_data[:2]\n",
    "def extract_python_code(gpt_answer):  \n",
    "    # Use regex to find the code block marked with ```python  \n",
    "    match = re.search(r\"```python(.*?)```\", gpt_answer, re.DOTALL)  \n",
    "    return match.group(1).strip() if match else \"\"  \n",
    " \n",
    "temp = []\n",
    "for item in merged_data:\n",
    "    match = re.search(r\"```python(.*?)```\", item[\"evol_text\"], re.DOTALL) \n",
    "    if match:\n",
    "        temp.append(item)\n",
    "\n",
    "filtered_empty_data = [item for item in merged_data if item[\"evol_text\"] != \"\"]\n",
    "print(f\"Len of filtered_empty_data: {len(filtered_empty_data)}\")"
   ]
  },
  {
   "cell_type": "code",
   "execution_count": 14,
   "metadata": {},
   "outputs": [
    {
     "data": {
      "text/plain": [
       "43076"
      ]
     },
     "execution_count": 14,
     "metadata": {},
     "output_type": "execute_result"
    }
   ],
   "source": [
    "filtered_data = [item for item in filtered_empty_data if 'xkcd()' not in item[\"evol_text\"]] \n",
    "for idx, item in enumerate(filtered_data):\n",
    "    item[\"index\"] = idx\n",
    "len(filtered_data)"
   ]
  },
  {
   "cell_type": "code",
   "execution_count": null,
   "metadata": {},
   "outputs": [],
   "source": []
  },
  {
   "cell_type": "code",
   "execution_count": 19,
   "metadata": {},
   "outputs": [],
   "source": [
    "base_dir = \"/mnt/lingjiejiang/multimodal_code/data/chart_data/evol_images\"  \n",
    "split_size = 25000  \n",
    "  \n",
    "for item in filtered_data:  \n",
    "    index = item[\"index\"]  \n",
    "    index_name = f\"{index + 1:06d}\"  \n",
    "    item[\"evol_text\"] = item[\"evol_text\"].strip()\n",
    "    # 计算当前文件应该放到哪个目录  \n",
    "    split_index = index // split_size + 1  \n",
    "    directory = f\"{base_dir}{split_index}\"  \n",
    "      \n",
    "    # 创建该目录的路径  \n",
    "    item[\"images\"] = f\"{directory}/{index_name}.jpg\"  "
   ]
  },
  {
   "cell_type": "code",
   "execution_count": 20,
   "metadata": {},
   "outputs": [
    {
     "data": {
      "text/plain": [
       "{'index': 20000,\n",
       " 'evol_text': \"import numpy as np\\nimport matplotlib.pyplot as plt\\n\\n# Create sample data representing monthly sales over a year\\nmonths = np.arange(1, 13)\\nsales_2022 = np.array([100, 120, 130, 115, 140, 155, 160, 170, 180, 190, 200, 210])\\nsales_2023 = np.array([110, 125, 135, 120, 145, 160, 165, 175, 185, 195, 205, 215])\\n\\n# Create a new figure with specified size\\nplt.figure(figsize=(10, 6))\\n\\n# Plot the sales data for 2022\\nplt.plot(months, sales_2022, label='2022 Sales', color='blue', linewidth=2, linestyle='-', marker='o', markersize=8)\\n\\n# Plot the sales data for 2023\\nplt.plot(months, sales_2023, label='2023 Sales', color='green', linewidth=2, linestyle='--', marker='s', markersize=8)\\n\\n# Adding grid for better readability\\nplt.grid(True, which='both', linestyle='--', linewidth=0.5, alpha=0.7)\\n\\n# Set labels and title\\nplt.xlabel('Month', fontsize=12)\\nplt.ylabel('Sales ($)', fontsize=12)\\nplt.title('Monthly Sales Comparison: 2022 vs 2023', fontsize=14, fontweight='bold')\\n\\n# Set the ticks for x-axis\\nplt.xticks(months)\\n\\n# Adding a legend to distinguish between 2022 and 2023 data\\nplt.legend(loc='upper left', fontsize=10)\\n\\n# Annotating the maximum sales point for 2023\\nmax_sales_2023_idx = np.argmax(sales_2023)\\nplt.annotate(\\n    f'Max Sales: ${sales_2023[max_sales_2023_idx]}',\\n    xy=(months[max_sales_2023_idx], sales_2023[max_sales_2023_idx]),\\n    xytext=(months[max_sales_2023_idx]-2, sales_2023[max_sales_2023_idx]+10),\\n    arrowprops=dict(facecolor='black', shrink=0.05),\\n    fontsize=10\\n)\\n\\n# Show the plot\\nplt.tight_layout()\\nplt.show()\",\n",
       " 'gpt_evol_answer': \"Below is an optimized and enhanced version of the original Python script using Matplotlib. I've focused on creating a visually appealing line chart with meaningful data and annotations:\\n\\n```python\\nimport numpy as np\\nimport matplotlib.pyplot as plt\\n\\n# Create sample data representing monthly sales over a year\\nmonths = np.arange(1, 13)\\nsales_2022 = np.array([100, 120, 130, 115, 140, 155, 160, 170, 180, 190, 200, 210])\\nsales_2023 = np.array([110, 125, 135, 120, 145, 160, 165, 175, 185, 195, 205, 215])\\n\\n# Create a new figure with specified size\\nplt.figure(figsize=(10, 6))\\n\\n# Plot the sales data for 2022\\nplt.plot(months, sales_2022, label='2022 Sales', color='blue', linewidth=2, linestyle='-', marker='o', markersize=8)\\n\\n# Plot the sales data for 2023\\nplt.plot(months, sales_2023, label='2023 Sales', color='green', linewidth=2, linestyle='--', marker='s', markersize=8)\\n\\n# Adding grid for better readability\\nplt.grid(True, which='both', linestyle='--', linewidth=0.5, alpha=0.7)\\n\\n# Set labels and title\\nplt.xlabel('Month', fontsize=12)\\nplt.ylabel('Sales ($)', fontsize=12)\\nplt.title('Monthly Sales Comparison: 2022 vs 2023', fontsize=14, fontweight='bold')\\n\\n# Set the ticks for x-axis\\nplt.xticks(months)\\n\\n# Adding a legend to distinguish between 2022 and 2023 data\\nplt.legend(loc='upper left', fontsize=10)\\n\\n# Annotating the maximum sales point for 2023\\nmax_sales_2023_idx = np.argmax(sales_2023)\\nplt.annotate(\\n    f'Max Sales: ${sales_2023[max_sales_2023_idx]}',\\n    xy=(months[max_sales_2023_idx], sales_2023[max_sales_2023_idx]),\\n    xytext=(months[max_sales_2023_idx]-2, sales_2023[max_sales_2023_idx]+10),\\n    arrowprops=dict(facecolor='black', shrink=0.05),\\n    fontsize=10\\n)\\n\\n# Show the plot\\nplt.tight_layout()\\nplt.show()\\n```\\n\\n### Key Enhancements:\\n1. **Data Context**: I've created a dataset that represents monthly sales over two years, which is a common scenario for line charts.\\n2. **Line Styles**: Different line styles and markers are used for each year's data to distinguish them visually (solid line with circles for 2022, dashed line with squares for 2023).\\n3. **Grid**: A semi-transparent grid enhances readability without overwhelming the visual.\\n4. **Annotations**: An annotation highlights the maximum sales point for 2023, adding a narrative element.\\n5. **Legend and Labels**: Clear labels, title, and a legend are included to make the chart informative.\\n6. **Figure Size and Layout**: The figure size is increased for better clarity and a professional look, and `tight_layout()` ensures no elements are cut off.\",\n",
       " 'revised_text': \"import numpy as np  \\nimport matplotlib.pyplot as plt  \\n\\n# Sample data\\nn = np.arange(-1, 6)  \\nxN_11 = [1, 2, 3, 4, 5, 0, None]  \\n\\n# Create a new figure with specified size\\nplt.figure(figsize=(6.0, 4.0))  \\n\\n# Plot the discrete time signals\\nplt.stem(n, xN_11)  \\n\\n# Set labels and title in English\\nplt.xlabel('n')  \\nplt.ylabel('x[n+1]')  \\nplt.title('Discrete Time Signals')  \\n\\n# Show the plot\\nplt.show()\",\n",
       " 'category': 'Line',\n",
       " 'chart_size': [6.0, 4.0],\n",
       " 'max_stars_repo_path': '2 Discrete time signals/DiscreteTimeSignals.py',\n",
       " 'max_stars_repo_name': 'Alja9/Plot-Signal-Processing-with-Python',\n",
       " 'max_stars_count': 0,\n",
       " 'id': '6745635',\n",
       " 'text': \"<gh_stars>0\\nimport numpy as np\\nfrom matplotlib import pyplot as plt\\n\\nn = np.arange(-1,6)\\nxN = np.array([0,1,2,3,4,5,0])\\nxN_1 = n+1\\nxN_11 = [None] * len(n)\\nx=0\\nfor l in xN:\\n       if xN_1[x] == 0:\\n              xN_11[x] = 1\\n       elif xN_1[x] == 1:\\n              xN_11[x] = 2\\n       elif xN_1[x] == 2:\\n              xN_11[x] = 3\\n       elif xN_1[x] == 3:\\n              xN_11[x] = 4\\n       elif xN_1[x] == 4:\\n              xN_11[x] = 5\\n       else:\\n              xN_11[x] = 0\\n       x+=1\\n\\nplt.xlabel('n')\\nplt.ylabel('x[n+1]')\\nplt.title('Discrete Time Signals')\\nplt.stem(n,xN_11)\\nplt.show()\",\n",
       " 'formatted_text': \"```python\\nimport numpy as np  \\nimport matplotlib.pyplot as plt  \\n\\n# Sample data\\nn = np.arange(-1, 6)  \\nxN_11 = [1, 2, 3, 4, 5, 0, None]  \\n\\n# Create a new figure with specified size\\nplt.figure(figsize=(6.0, 4.0))  \\n\\n# Plot the discrete time signals\\nplt.stem(n, xN_11)  \\n\\n# Set labels and title in English\\nplt.xlabel('n')  \\nplt.ylabel('x[n+1]')  \\nplt.title('Discrete Time Signals')  \\n\\n# Show the plot\\nplt.show()\\n```\",\n",
       " 'source': 'v2',\n",
       " 'images': '/mnt/lingjiejiang/multimodal_code/data/chart_data/evol_images1/020001.jpg',\n",
       " 'prompt': 'Kindly write the Python code utilizing matplotlib that duplicates the illustration in the picture. Ensure the image dimensions are set using figsize=(6, 4).',\n",
       " 'messages': [{'content': '<image>\\nKindly write the Python code utilizing matplotlib that duplicates the illustration in the picture. Ensure the image dimensions are set using figsize=(6, 4).\\n',\n",
       "   'role': 'user'},\n",
       "  {'content': \"```python\\nimport numpy as np  \\nimport matplotlib.pyplot as plt  \\n\\n# Sample data\\nn = np.arange(-1, 6)  \\nxN_11 = [1, 2, 3, 4, 5, 0, None]  \\n\\n# Create a new figure with specified size\\nplt.figure(figsize=(6.0, 4.0))  \\n\\n# Plot the discrete time signals\\nplt.stem(n, xN_11)  \\n\\n# Set labels and title in English\\nplt.xlabel('n')  \\nplt.ylabel('x[n+1]')  \\nplt.title('Discrete Time Signals')  \\n\\n# Show the plot\\nplt.show()\\n```\",\n",
       "   'role': 'assistant'}]}"
      ]
     },
     "execution_count": 20,
     "metadata": {},
     "output_type": "execute_result"
    }
   ],
   "source": [
    "filtered_data[20000]"
   ]
  },
  {
   "cell_type": "code",
   "execution_count": 17,
   "metadata": {},
   "outputs": [
    {
     "data": {
      "text/plain": [
       "{'index': 25001,\n",
       " 'evol_text': \"import matplotlib.pyplot as plt\\nimport numpy as np\\n\\n# Create sample data: execution times (in seconds) for different algorithms\\nnp.random.seed(42)  # For reproducibility\\ngaussian_times = np.random.normal(loc=0.002, scale=0.0005, size=100)\\nlaplacian_times = np.random.normal(loc=0.0025, scale=0.0007, size=100)\\ncauchy_times = np.random.normal(loc=0.003, scale=0.0006, size=100)\\ninverse_multiquadric_times = np.random.normal(loc=0.0035, scale=0.0008, size=100)\\n\\ndata = [gaussian_times, laplacian_times, cauchy_times, inverse_multiquadric_times]\\nkernel_to_test = ['Gaussian', 'Laplacian', 'Cauchy', 'Inverse Multiquadric']\\n\\n# Plot violin plot\\nplt.figure(figsize=(10, 6))\\nparts = plt.violinplot(data, showmeans=False, showmedians=True)\\n\\n# Customize the violin plot\\ncolors = ['#FF9999', '#66B3FF', '#99FF99', '#FFCC99']\\nfor pc, color in zip(parts['bodies'], colors):\\n    pc.set_facecolor(color)\\n    pc.set_edgecolor('black')\\n    pc.set_alpha(0.7)\\n\\n# Set median color and style\\nparts['cmedians'].set_color('black')\\nparts['cmedians'].set_linewidth(2)\\n\\n# Add title and labels\\nplt.title('Execution Time Distribution Across Different Kernels', fontsize=14, fontweight='bold')\\nplt.xlabel('Kernel Type', fontsize=12)\\nplt.ylabel('Execution Time (seconds)', fontsize=12)\\n\\n# Customize x-ticks\\nplt.xticks([1, 2, 3, 4], kernel_to_test)\\n\\n# Add grid for y-axis\\nplt.grid(axis='y', linestyle='--', alpha=0.7)\\n\\n# Annotate mean values for each kernel\\nmeans = [np.mean(d) for d in data]\\nfor i, mean in enumerate(means, start=1):\\n    plt.text(i, mean, f'{mean:.4f}', horizontalalignment='center', color='black', fontsize=10)\\n\\n# Show the plot\\nplt.tight_layout()\\nplt.show()\",\n",
       " 'gpt_evol_answer': \"To enhance the visual appeal and clarity of the Violin chart, we can make several improvements to the original script. We'll create a dataset that is more meaningful for a Violin plot, such as simulating execution times for different algorithms or processes. Additionally, we'll add aesthetic enhancements like color coding, grid improvements, and annotations to enrich the chart's narrative. Here's the optimized code:\\n\\n```python\\nimport matplotlib.pyplot as plt\\nimport numpy as np\\n\\n# Create sample data: execution times (in seconds) for different algorithms\\nnp.random.seed(42)  # For reproducibility\\ngaussian_times = np.random.normal(loc=0.002, scale=0.0005, size=100)\\nlaplacian_times = np.random.normal(loc=0.0025, scale=0.0007, size=100)\\ncauchy_times = np.random.normal(loc=0.003, scale=0.0006, size=100)\\ninverse_multiquadric_times = np.random.normal(loc=0.0035, scale=0.0008, size=100)\\n\\ndata = [gaussian_times, laplacian_times, cauchy_times, inverse_multiquadric_times]\\nkernel_to_test = ['Gaussian', 'Laplacian', 'Cauchy', 'Inverse Multiquadric']\\n\\n# Plot violin plot\\nplt.figure(figsize=(10, 6))\\nparts = plt.violinplot(data, showmeans=False, showmedians=True)\\n\\n# Customize the violin plot\\ncolors = ['#FF9999', '#66B3FF', '#99FF99', '#FFCC99']\\nfor pc, color in zip(parts['bodies'], colors):\\n    pc.set_facecolor(color)\\n    pc.set_edgecolor('black')\\n    pc.set_alpha(0.7)\\n\\n# Set median color and style\\nparts['cmedians'].set_color('black')\\nparts['cmedians'].set_linewidth(2)\\n\\n# Add title and labels\\nplt.title('Execution Time Distribution Across Different Kernels', fontsize=14, fontweight='bold')\\nplt.xlabel('Kernel Type', fontsize=12)\\nplt.ylabel('Execution Time (seconds)', fontsize=12)\\n\\n# Customize x-ticks\\nplt.xticks([1, 2, 3, 4], kernel_to_test)\\n\\n# Add grid for y-axis\\nplt.grid(axis='y', linestyle='--', alpha=0.7)\\n\\n# Annotate mean values for each kernel\\nmeans = [np.mean(d) for d in data]\\nfor i, mean in enumerate(means, start=1):\\n    plt.text(i, mean, f'{mean:.4f}', horizontalalignment='center', color='black', fontsize=10)\\n\\n# Show the plot\\nplt.tight_layout()\\nplt.show()\\n```\\n\\n### Key Enhancements:\\n- **Data Generation**: Created synthetic data for each kernel type to represent execution times, using normal distributions with slight variations.\\n- **Color and Aesthetics**: Applied distinct colors to each violin section and customized edges and transparency.\\n- **Annotations**: Added mean annotations for each violin to provide more information.\\n- **Grid and Ticks**: Improved grid lines for better readability and customized x-ticks.\\n- **Title and Labels**: Enhanced the title and axis labels for clarity and context.\",\n",
       " 'revised_text': \"import matplotlib.pyplot as plt  \\nimport numpy as np  \\n\\n# Sample data\\nspeed_numpy = {'gaussian': 0.001, 'laplacian': 0.002, 'cauchy': 0.003, 'inverse_multiquadric': 0.004}\\nkernel_to_test = ['gaussian', 'laplacian', 'cauchy', 'inverse_multiquadric']\\n\\n# Plot violin plot\\nplt.figure(figsize=(7.0, 5.0))\\nplt.violinplot(list(speed_numpy.values()), showmeans=False, showmedians=True)\\n\\nplt.xticks([1, 2, 3, 4], kernel_to_test)\\nplt.yscale('log')\\nplt.grid(True)\\nplt.xlabel('Kernel type')\\nplt.ylabel('Time in seconds')\\n\\nplt.show()\",\n",
       " 'category': 'Violin',\n",
       " 'chart_size': [7.0, 5.0],\n",
       " 'gpt_answer': \"<REVISED CODE BEGIN>  \\nimport matplotlib.pyplot as plt  \\nimport numpy as np  \\n\\n# Sample data\\nspeed_numpy = {'gaussian': 0.001, 'laplacian': 0.002, 'cauchy': 0.003, 'inverse_multiquadric': 0.004}\\nkernel_to_test = ['gaussian', 'laplacian', 'cauchy', 'inverse_multiquadric']\\n\\n# Plot violin plot\\nplt.figure(figsize=(7.0, 5.0))\\nplt.violinplot(list(speed_numpy.values()), showmeans=False, showmedians=True)\\n\\nplt.xticks([1, 2, 3, 4], kernel_to_test)\\nplt.yscale('log')\\nplt.grid(True)\\nplt.xlabel('Kernel type')\\nplt.ylabel('Time in seconds')\\n\\nplt.show()  \\n<REVISED CODE END>  \\n\\n<CATEGORY>: [Violin]  \\n<CHART SIZE>: (7.0, 5.0)  \",\n",
       " 'max_stars_repo_path': 'pykeops/benchmarks/plot_benchmark_grad1convolutions.py',\n",
       " 'max_stars_repo_name': 'MrHuff/keops',\n",
       " 'max_stars_count': 1,\n",
       " 'id': '9832618',\n",
       " 'text': '\"\"\"\\nGradient of Radial kernels convolutions\\n========================================\\n\\nThis benchmark compares the performances of KeOps versus Numpy and Torch on various gradient of radial\\nkernels convolutions. Namely it computes:\\n\\n.. math::\\n\\n   c_i^u = \\\\sum_{j=1}^N \\\\partial_{x_i^u} f\\\\Big(\\\\\\\\frac{\\\\|x_i-y_j\\\\|}{\\\\sigma}\\\\Big) \\\\langle b_j,  a_i \\\\\\\\rangle, \\\\quad \\\\\\\\text{ for all } i=1,\\\\cdots,M, \\\\, u=1,\\\\cdots,D\\n\\nwhere :math:`f` is a Gauss or Cauchy or Laplace or inverse multiquadric kernel. See e.g. `wikipedia  <https://en.wikipedia.org/wiki/Radial_basis_function>`_\\n\\n \\n\"\"\"\\n\\n#####################################################################\\n# Setup\\n# ------\\n# Standard imports:\\n\\nimport numpy as np\\nimport timeit\\nimport matplotlib\\nfrom matplotlib import pyplot as plt\\nfrom pykeops.numpy.utils import grad_np_kernel, chain_rules\\n\\n\\n######################################################################\\n# Benchmark specifications:\\n#\\n\\n\\nM = 10000  # Number of points x_i\\nN = 10000  # Number of points y_j\\nD = 3      # Dimension of the x_i\\'s and y_j\\'s\\nE = 3      # Dimension of the b_j\\'s\\nREPEAT = 10  # Number of loops per test\\n\\nuse_numpy = True\\nuse_vanilla = True\\n\\ndtype = \\'float32\\'\\n\\n######################################################################\\n# Create some random input data:\\n#\\n\\na = np.random.rand(N, E).astype(dtype)  # Gradient to backprop\\nx = np.random.rand(N, D).astype(dtype)  # Target points\\ny = np.random.rand(M, D).astype(dtype)  # Source points\\nb = np.random.rand(M, E).astype(dtype)  # Source signals\\nsigma = np.array([0.4]).astype(dtype)   # Kernel radius\\n\\n\\n######################################################################\\n# And load it as PyTorch variables:\\n#\\ntry:\\n    import torch\\n    \\n    use_cuda = torch.cuda.is_available()\\n    device = \\'cuda\\' if use_cuda else \\'cpu\\'\\n    torchtype = torch.float32 if dtype == \\'float32\\' else torch.float64\\n\\n    ac = torch.tensor(a, dtype=torchtype, device=device)\\n    xc = torch.tensor(x, dtype=torchtype, device=device, requires_grad=True)\\n    yc = torch.tensor(y, dtype=torchtype, device=device)\\n    bc = torch.tensor(b, dtype=torchtype, device=device)\\n    sigmac = torch.tensor(sigma, dtype=torchtype, device=device)\\n\\nexcept:\\n    pass\\n\\n\\n\\n####################################################################\\n# Convolution Gradient Benchmarks\\n# -----------------------------------\\n# \\n# We loop over four different kernels:\\n#\\n\\nkernel_to_test = [\\'gaussian\\', \\'laplacian\\', \\'cauchy\\', \\'inverse_multiquadric\\']\\n\\n#####################################################################\\n# With four backends: Numpy, vanilla PyTorch, Generic KeOps reductions\\n# and a specific, handmade legacy CUDA code for kernel convolution gradients:\\n#\\n\\nspeed_numpy = {i:np.nan for i in kernel_to_test}\\nspeed_pykeops = {i:np.nan for i in kernel_to_test}\\nspeed_pytorch = {i:np.nan for i in kernel_to_test}\\nspeed_pykeops_specific = {i:np.nan for i in kernel_to_test}\\n\\nprint(\\'Timings for {}x{} convolution gradients:\\'.format(M, N))\\n\\nfor k in kernel_to_test:\\n    print(\\'kernel: \\' + k)\\n\\n    # Pure numpy\\n    if use_numpy :\\n        gnumpy = chain_rules(a, x, y, grad_np_kernel(x, y, sigma, kernel=k), b)\\n        speed_numpy[k] = timeit.repeat(\\'gnumpy = chain_rules(a, x, y, grad_np_kernel(x, y, sigma, kernel=k), b)\\', \\n            globals=globals(), repeat=3, number=1)\\n        print(\\'Time for NumPy:               {:.4f}s\\'.format(np.median(speed_numpy[k])))\\n    else :\\n        gnumpy = torch.zeros_like(xc).data.cpu().numpy()\\n    \\n\\n    # Vanilla pytorch (with cuda if available, and cpu otherwise)\\n    if use_vanilla :\\n        try:\\n            from pykeops.torch import Kernel, kernel_product\\n            \\n            params = {\\n                \\'id\\': Kernel(k + \\'(x,y)\\'),\\n                \\'gamma\\': 1. / (sigmac**2),\\n                \\'backend\\': \\'pytorch\\',\\n            }\\n            \\n            aKxy_b = torch.dot(ac.view(-1), kernel_product(params, xc, yc, bc, mode=\\'sum\\').view(-1))\\n            g3 = torch.autograd.grad(aKxy_b, xc, create_graph=False)[0].cpu()\\n            torch.cuda.synchronize()\\n            speed_pytorch[k] =  np.array(timeit.repeat(\\n                setup = \"cost = torch.dot(ac.view(-1), kernel_product(params, xc, yc, bc, mode=\\'sum\\').view(-1))\",\\n                stmt  = \"g3 = torch.autograd.grad(cost, xc, create_graph=False)[0] ; torch.cuda.synchronize()\",\\n                globals=globals(), repeat=REPEAT, number=1))\\n            print(\\'Time for PyTorch:             {:.4f}s\\'.format(np.median(speed_pytorch[k])), end=\\'\\')\\n            print(\\'   (absolute error:       \\', np.max(np.abs(g3.data.numpy() - gnumpy)), \\')\\')\\n        except:\\n            print(\\'Time for PyTorch:             Not Done\\')\\n    \\n    \\n\\n    # Keops: generic tiled implementation (with cuda if available, and cpu otherwise)\\n    try:\\n        from pykeops.torch import Kernel, kernel_product\\n\\n        params = {\\n            \\'id\\': Kernel(k + \\'(x,y)\\'),\\n            \\'gamma\\': 1. / (sigmac**2),\\n            \\'backend\\': \\'auto\\',\\n        }\\n\\n        aKxy_b = torch.dot(ac.view(-1), kernel_product(params, xc, yc, bc, mode=\\'sum\\').view(-1))\\n        g3 = torch.autograd.grad(aKxy_b, xc, create_graph=False)[0].cpu()\\n        torch.cuda.synchronize()\\n        speed_pykeops[k] =  np.array(timeit.repeat(\\n            setup = \"cost = torch.dot(ac.view(-1), kernel_product(params, xc, yc, bc, mode=\\'sum\\').view(-1))\",\\n            stmt  = \"g3 = torch.autograd.grad(cost, xc, create_graph=False)[0] ; torch.cuda.synchronize()\", \\n            globals=globals(), repeat=REPEAT, number=1))\\n        print(\\'Time for KeOps generic:       {:.4f}s\\'.format(np.median(speed_pykeops[k])), end=\\'\\')\\n        print(\\'   (absolute error:       \\', np.max(np.abs(g3.data.numpy() - gnumpy)), \\')\\')\\n    except:\\n        print(\\'Time for KeOps generic:       Not Done\\')\\n    \\n    \\n    # Specific cuda tiled implementation (if cuda is available)\\n    try:\\n        from pykeops.numpy import RadialKernelGrad1conv\\n        my_conv = RadialKernelGrad1conv(dtype)\\n        g1 = my_conv(a, x, y, b, sigma, kernel=k)\\n        torch.cuda.synchronize()\\n        speed_pykeops_specific[k] =  np.array(timeit.repeat(\\n            \\'g1 = my_conv(a, x, y, b, sigma, kernel=k)\\', \\n            globals=globals(), repeat=REPEAT, number=1))\\n        print(\\'Time for KeOps cuda specific: {:.4f}s\\'.format(np.median(speed_pykeops_specific[k])), end=\\'\\')\\n        print(\\'   (absolute error:       \\', np.max(np.abs (g1 - gnumpy)), \\')\\')\\n    except:\\n        print(\\'Time for KeOps cuda specific: Not Done\\')\\n\\n\\n####################################################################\\n# Display results\\n# ---------------\\n#\\n\\n# plot violin plot\\nplt.violinplot(list(speed_numpy.values()),\\n               showmeans=False,\\n               showmedians=True,\\n               )\\nplt.violinplot(list(speed_pytorch.values()),\\n               showmeans=False,\\n               showmedians=True,\\n               )\\nplt.violinplot(list(speed_pykeops.values()),\\n               showmeans=False,\\n               showmedians=True,\\n               )\\nplt.violinplot(list(speed_pykeops_specific.values()),\\n               showmeans=False,\\n               showmedians=True,\\n               )\\n\\nplt.xticks([1, 2, 3, 4], kernel_to_test)\\nplt.yscale(\\'log\\')\\n#\\xa0plt.ylim((0, .01))\\n\\nplt.grid(True)\\nplt.xlabel(\\'kernel type\\')\\nplt.ylabel(\\'time in s.\\')\\n\\ncmap = plt.get_cmap(\"tab10\")\\nfake_handles = [matplotlib.patches.Patch(color=cmap(i)) for i in range(4)]\\n\\nplt.legend(fake_handles, [\\'NumPy\\', \\'PyTorch\\', \\'KeOps\\', \\'KeOps specific\\'], loc=\\'best\\')\\n\\nplt.show()\\n',\n",
       " 'lang': 'python',\n",
       " 'formatted_text': \"```python\\nimport matplotlib.pyplot as plt  \\nimport numpy as np  \\n\\n# Sample data\\nspeed_numpy = {'gaussian': 0.001, 'laplacian': 0.002, 'cauchy': 0.003, 'inverse_multiquadric': 0.004}\\nkernel_to_test = ['gaussian', 'laplacian', 'cauchy', 'inverse_multiquadric']\\n\\n# Plot violin plot\\nplt.figure(figsize=(7.0, 5.0))\\nplt.violinplot(list(speed_numpy.values()), showmeans=False, showmedians=True)\\n\\nplt.xticks([1, 2, 3, 4], kernel_to_test)\\nplt.yscale('log')\\nplt.grid(True)\\nplt.xlabel('Kernel type')\\nplt.ylabel('Time in seconds')\\n\\nplt.show()\\n```\",\n",
       " 'source': 'v1',\n",
       " 'images': '/mnt/lingjiejiang/multimodal_code/data/chart_data/evol_images2/025002.jpg'}"
      ]
     },
     "execution_count": 17,
     "metadata": {},
     "output_type": "execute_result"
    }
   ],
   "source": [
    "filtered_data[25001]"
   ]
  },
  {
   "cell_type": "code",
   "execution_count": 21,
   "metadata": {},
   "outputs": [],
   "source": [
    "filtered_data_path = \"/mnt/lingjiejiang/multimodal_code/data/chart_data/evol_data_43k.json\"\n",
    "with open(filtered_data_path, 'w') as outfile:\n",
    "    json.dump(filtered_data, outfile, indent=0)"
   ]
  },
  {
   "cell_type": "code",
   "execution_count": 22,
   "metadata": {},
   "outputs": [
    {
     "data": {
      "text/plain": [
       "[{'index': 0,\n",
       "  'evol_text': \"import matplotlib.pyplot as plt\\nimport numpy as np\\n\\n# Create a more complex dataset\\nx = np.linspace(0, 10, 200)\\ny1 = np.sin(x)  # Original sine wave\\ny2 = np.cos(x)  # Additional cosine wave\\n\\n# Create a new figure with a larger size for better visibility\\nplt.figure(figsize=(10, 6))\\n\\n# Plot the sine wave with enhanced styling\\nplt.plot(x, y1, label='Sine Wave', color='royalblue', linewidth=2, linestyle='-', marker='o', markersize=5, markerfacecolor='orange')\\n\\n# Plot the cosine wave with a contrasting style\\nplt.plot(x, y2, label='Cosine Wave', color='tomato', linewidth=2, linestyle='--', marker='s', markersize=5, markerfacecolor='yellow')\\n\\n# Enhance the chart with titles and labels\\nplt.title('Trigonometric Functions: Sine and Cosine', fontsize=16, fontweight='bold')\\nplt.xlabel('Angle (radians)', fontsize=12)\\nplt.ylabel('Function Value', fontsize=12)\\n\\n# Add a grid for better readability\\nplt.grid(True, which='both', linestyle='--', linewidth=0.5)\\n\\n# Add a legend with a shadow for better distinction\\nplt.legend(loc='upper right', fontsize=12, shadow=True)\\n\\n# Customize x and y axis ticks\\nplt.xticks(np.arange(0, 11, 1))\\nplt.yticks(np.arange(-1, 1.5, 0.5))\\n\\n# Optimize layout to prevent clipping of elements\\nplt.tight_layout()\\n\\n# Show the enhanced plot\\nplt.show()\",\n",
       "  'gpt_evol_answer': \"To create a visually appealing and informative line chart using Matplotlib, we can enhance the original code by improving the aesthetics and adding meaningful details to the plot. Here's an optimized version of the code with improved styling and a more contextually appropriate dataset:\\n\\n```python\\nimport matplotlib.pyplot as plt\\nimport numpy as np\\n\\n# Create a more complex dataset\\nx = np.linspace(0, 10, 200)\\ny1 = np.sin(x)  # Original sine wave\\ny2 = np.cos(x)  # Additional cosine wave\\n\\n# Create a new figure with a larger size for better visibility\\nplt.figure(figsize=(10, 6))\\n\\n# Plot the sine wave with enhanced styling\\nplt.plot(x, y1, label='Sine Wave', color='royalblue', linewidth=2, linestyle='-', marker='o', markersize=5, markerfacecolor='orange')\\n\\n# Plot the cosine wave with a contrasting style\\nplt.plot(x, y2, label='Cosine Wave', color='tomato', linewidth=2, linestyle='--', marker='s', markersize=5, markerfacecolor='yellow')\\n\\n# Enhance the chart with titles and labels\\nplt.title('Trigonometric Functions: Sine and Cosine', fontsize=16, fontweight='bold')\\nplt.xlabel('Angle (radians)', fontsize=12)\\nplt.ylabel('Function Value', fontsize=12)\\n\\n# Add a grid for better readability\\nplt.grid(True, which='both', linestyle='--', linewidth=0.5)\\n\\n# Add a legend with a shadow for better distinction\\nplt.legend(loc='upper right', fontsize=12, shadow=True)\\n\\n# Customize x and y axis ticks\\nplt.xticks(np.arange(0, 11, 1))\\nplt.yticks(np.arange(-1, 1.5, 0.5))\\n\\n# Optimize layout to prevent clipping of elements\\nplt.tight_layout()\\n\\n# Show the enhanced plot\\nplt.show()\\n```\\n\\n### Enhancements Made:\\n\\n1. **Dataset Enrichment**: Added a cosine wave alongside the sine wave for comparison.\\n2. **Figure Size**: Increased the figure size to make the plot more readable.\\n3. **Line Styles and Markers**: Applied distinct line styles, colors, and markers to differentiate the sine and cosine waves.\\n4. **Titles and Labels**: Enhanced the title with a more descriptive name and increased font sizes for better readability.\\n5. **Grid**: Added a subtle grid to improve readability and reference.\\n6. **Legend**: Improved the legend's appearance with a shadow, making it more distinct.\\n7. **Ticks Customization**: Set custom ticks on both axes for clarity and precision.\\n8. **Layout Optimization**: Used `plt.tight_layout()` to ensure that all plot elements are nicely contained within the figure area.\\n\\nThese improvements make the chart not only more visually appealing but also more informative, enhancing the user's ability to interpret the data effectively.\",\n",
       "  'revised_text': \"import matplotlib.pyplot as plt  \\nimport numpy as np  \\n\\n# Sample data  \\nx = np.linspace(0, 10, 100)  \\ny = np.sin(x)  \\n\\n# Create a new figure  \\nplt.figure(figsize=(6.0, 4.0))  \\n\\n# Plot the data  \\nplt.plot(x, y, label='Sine Wave')  \\n\\n# Set labels  \\nplt.xlabel('X-axis')  \\nplt.ylabel('Y-axis')  \\nplt.title('Sine Wave')  \\n\\n# Show the plot  \\nplt.show()\",\n",
       "  'category': 'Line',\n",
       "  'chart_size': [6.0, 4.0],\n",
       "  'max_stars_repo_path': 'talleres_inov_docente/figures/plot_helpers.py',\n",
       "  'max_stars_repo_name': 'jfcaballero/Tutorial-sobre-scikit-learn-abreviado',\n",
       "  'max_stars_count': 576,\n",
       "  'id': '5734',\n",
       "  'text': \"from matplotlib.colors import ListedColormap\\n\\ncm3 = ListedColormap(['#0000aa', '#ff2020', '#50ff50'])\\ncm2 = ListedColormap(['#0000aa', '#ff2020'])\\n\",\n",
       "  'formatted_text': \"```python\\nimport matplotlib.pyplot as plt  \\nimport numpy as np  \\n\\n# Sample data  \\nx = np.linspace(0, 10, 100)  \\ny = np.sin(x)  \\n\\n# Create a new figure  \\nplt.figure(figsize=(6.0, 4.0))  \\n\\n# Plot the data  \\nplt.plot(x, y, label='Sine Wave')  \\n\\n# Set labels  \\nplt.xlabel('X-axis')  \\nplt.ylabel('Y-axis')  \\nplt.title('Sine Wave')  \\n\\n# Show the plot  \\nplt.show()\\n```\",\n",
       "  'source': 'v1',\n",
       "  'images': '/mnt/lingjiejiang/multimodal_code/data/chart_data/evol_images1/000001.jpg',\n",
       "  'prompt': 'You are an expert Python developer who specializes in writing matplotlib code based on a given picture. I found a very nice picture in a STEM paper, but there is no corresponding source code available. I need your help to generate the Python code that can reproduce the picture based on the picture I provide.\\\\nNote that it is necessary to use figsize=(6, 4) to set the image size to match the original size.\\\\nNow, please give me the matplotlib code that reproduces the picture below.',\n",
       "  'messages': [{'content': '<image>\\nYou are an expert Python developer who specializes in writing matplotlib code based on a given picture. I found a very nice picture in a STEM paper, but there is no corresponding source code available. I need your help to generate the Python code that can reproduce the picture based on the picture I provide.\\\\nNote that it is necessary to use figsize=(6, 4) to set the image size to match the original size.\\\\nNow, please give me the matplotlib code that reproduces the picture below.\\n',\n",
       "    'role': 'user'},\n",
       "   {'content': \"```python\\nimport matplotlib.pyplot as plt  \\nimport numpy as np  \\n\\n# Sample data  \\nx = np.linspace(0, 10, 100)  \\ny = np.sin(x)  \\n\\n# Create a new figure  \\nplt.figure(figsize=(6.0, 4.0))  \\n\\n# Plot the data  \\nplt.plot(x, y, label='Sine Wave')  \\n\\n# Set labels  \\nplt.xlabel('X-axis')  \\nplt.ylabel('Y-axis')  \\nplt.title('Sine Wave')  \\n\\n# Show the plot  \\nplt.show()\\n```\",\n",
       "    'role': 'assistant'}]},\n",
       " {'index': 1,\n",
       "  'evol_text': \"import matplotlib.pyplot as plt\\nimport numpy as np\\n\\n# Create sample data\\nx = np.linspace(0, 10, 100)\\ny1 = np.sin(x)  # Sine wave\\ny2 = np.cos(x)  # Cosine wave\\ny3 = np.tan(x)  # Tangent wave, limited to avoid extreme values\\n\\n# Create a new figure\\nfig, ax = plt.subplots(figsize=(10, 6))\\n\\n# Plot the data with different styles\\nax.plot(x, y1, color='royalblue', linewidth=2, linestyle='-', marker='o', markersize=5, label='Sine Wave')\\nax.plot(x, y2, color='darkorange', linewidth=2, linestyle='--', marker='s', markersize=5, label='Cosine Wave')\\nax.plot(x, y3, color='green', linewidth=2, linestyle=':', marker='^', markersize=5, label='Tangent Wave', alpha=0.7)\\nax.set_ylim(-2, 2)  # Limit y-axis to avoid displaying extreme tangent values\\n\\n# Set labels\\nax.set_xlabel('Angle (radians)', fontsize=12, fontweight='bold')\\nax.set_ylabel('Value', fontsize=12, fontweight='bold')\\nax.set_title('Trigonometric Functions', fontsize=14, fontweight='bold')\\n\\n# Add grid for better readability\\nax.grid(True, linestyle='--', alpha=0.6)\\n\\n# Add a legend\\nax.legend(loc='upper right', fontsize=10)\\n\\n# Improve layout\\nplt.tight_layout()\\n\\n# Show the plot\\nplt.show()\",\n",
       "  'gpt_evol_answer': \"Below is an optimized and enhanced version of the original code. The improvements include the use of multiple line styles, customized markers, a grid for better readability, and more detailed labels and title. The data is crafted to demonstrate a scenario of comparing mathematical functions.\\n\\n```python\\nimport matplotlib.pyplot as plt\\nimport numpy as np\\n\\n# Create sample data\\nx = np.linspace(0, 10, 100)\\ny1 = np.sin(x)  # Sine wave\\ny2 = np.cos(x)  # Cosine wave\\ny3 = np.tan(x)  # Tangent wave, limited to avoid extreme values\\n\\n# Create a new figure\\nfig, ax = plt.subplots(figsize=(10, 6))\\n\\n# Plot the data with different styles\\nax.plot(x, y1, color='royalblue', linewidth=2, linestyle='-', marker='o', markersize=5, label='Sine Wave')\\nax.plot(x, y2, color='darkorange', linewidth=2, linestyle='--', marker='s', markersize=5, label='Cosine Wave')\\nax.plot(x, y3, color='green', linewidth=2, linestyle=':', marker='^', markersize=5, label='Tangent Wave', alpha=0.7)\\nax.set_ylim(-2, 2)  # Limit y-axis to avoid displaying extreme tangent values\\n\\n# Set labels\\nax.set_xlabel('Angle (radians)', fontsize=12, fontweight='bold')\\nax.set_ylabel('Value', fontsize=12, fontweight='bold')\\nax.set_title('Trigonometric Functions', fontsize=14, fontweight='bold')\\n\\n# Add grid for better readability\\nax.grid(True, linestyle='--', alpha=0.6)\\n\\n# Add a legend\\nax.legend(loc='upper right', fontsize=10)\\n\\n# Improve layout\\nplt.tight_layout()\\n\\n# Show the plot\\nplt.show()\\n```\\n\\n### Key Enhancements:\\n- **Multiple Lines**: Added cosine and tangent waves to compare different trigonometric functions.\\n- **Line Styles and Markers**: Used different line styles (`-`, `--`, `:`) and markers (`o`, `s`, `^`) to differentiate the lines.\\n- **Axis Limits**: Set the y-axis limit to avoid extreme tangent values, ensuring the plot remains readable.\\n- **Grid**: Added a grid to improve readability and help users follow the lines across the plot.\\n- **Labels and Titles**: Enhanced axis labels and title with detailed descriptions and formatted with bold fonts.\\n- **Legend Placement**: Positioned the legend in the upper right corner for better visibility.\\n\\nThis enriched chart provides a more informative and visually appealing representation of the data.\",\n",
       "  'revised_text': \"import matplotlib.pyplot as plt  \\nimport numpy as np  \\n\\n# Sample data\\nx = np.linspace(0, 10, 100)\\ny = np.sin(x)\\n\\n# Create a new figure\\nfig = plt.figure(figsize=(7.5, 6))\\n\\n# Plot the data\\nplt.plot(x, y, color='blue', label='Sine Wave')\\n\\n# Set labels\\nplt.xlabel('X')\\nplt.ylabel('Y')\\nplt.title('Sine Wave')\\n\\n# Add a legend\\nplt.legend()\\n\\n# Show the plot\\nplt.show()\",\n",
       "  'category': 'Line',\n",
       "  'chart_size': [7.5, 6.0],\n",
       "  'max_stars_repo_path': 'src/utils.py',\n",
       "  'max_stars_repo_name': 'mmin0/SigDFP',\n",
       "  'max_stars_count': 0,\n",
       "  'id': '18481',\n",
       "  'text': '\\n\\nimport torch\\nimport matplotlib\\nmatplotlib.use(\"Agg\")\\nimport matplotlib.pyplot as plt\\nfrom matplotlib.legend_handler import HandlerTuple\\nfrom matplotlib.ticker import FormatStrFormatter\\n#from tqdm import tqdm\\n\\nmatplotlib.rcParams[\\'pdf.fonttype\\'] = 42\\nmatplotlib.rcParams[\\'ps.fonttype\\'] = 42\\n\\n\\nplt.rc(\\'xtick\\', labelsize=22)    # fontsize of the tick labels\\nplt.rc(\\'ytick\\', labelsize=22)\\nplt.rc(\\'legend\\', fontsize=25) \\nplt.rc(\\'axes\\', labelsize=25)\\nplt.rcParams[\"figure.figsize\"] = (7.5, 6)\\ncolors = [\\'lightcoral\\', \\'mediumseagreen\\', \\'darkorange\\']\\n\\ndef epoch_time(start_time, end_time):\\n    elap_time = end_time - start_time\\n    elap_min = elap_time//60\\n    elap_sec = elap_time % 60\\n    return elap_min, elap_sec\\n\\n\\ndef train(model, dataloader, optimizer, criterion, initial, prev_m, device, depth=4):\\n    \"\"\"\\n    train model for alpha for one loop over dataloader\\n    \"\"\"\\n    epoch_loss = 0\\n    \\n    model.train() # set model to train mode\\n    i = 0\\n    for batch in dataloader:\\n        optimizer.zero_grad()\\n    \\n        bm, cn = batch\\n        \\n        X = model(bm.to(device), \\n                  cn.to(device), \\n                  prev_m[i*dataloader.batch_size:(i+1)*dataloader.batch_size], \\n                  initial[i*dataloader.batch_size:(i+1)*dataloader.batch_size].to(device))\\n        strategy = model.strategy\\n        loss = criterion(X, prev_m[i*dataloader.batch_size:(i+1)*dataloader.batch_size], strategy)\\n        \\n        loss.backward(retain_graph=True)\\n        optimizer.step()\\n\\n        epoch_loss += loss.item()\\n        i+=1\\n    return epoch_loss/len(dataloader)\\n\\n\\ndef evaluate(model, dataloader, criterion, initial, prev_m, device, depth=4):\\n    \\n    epoch_loss = 0\\n    #initialize\\n    #N = prev_m.size()[0] - 1\\n    #m = torch.zeros(N+1, 1, device=device)\\n    #sigs = torch.zeros(signatory.signature_channels(2, depth), device=device)\\n    model.eval() # set model to train mode\\n    i = 0\\n    for batch in dataloader:\\n        bm, cn = batch\\n        X = model(bm.to(device), \\n                  cn.to(device), \\n                  prev_m[i*dataloader.batch_size:(i+1)*dataloader.batch_size], \\n                  initial[i*dataloader.batch_size:(i+1)*dataloader.batch_size].to(device))\\n        strategy = model.strategy\\n        loss = criterion(X, prev_m[i*dataloader.batch_size:(i+1)*dataloader.batch_size], strategy)\\n\\n        epoch_loss += loss.item()\\n        i+=1\\n    return epoch_loss/len(dataloader)\\n\\n\\n\\ndef train1(model, dataloader, optimizer, criterion, initial, prev_m, device, depth=4):\\n    \"\"\"\\n    train model for alpha for one loop over dataloader\\n    \"\"\"\\n    epoch_loss = 0\\n    \\n    model.train() # set model to train mode\\n    i = 0\\n    for batch in dataloader:\\n        \\n        optimizer.zero_grad()\\n    \\n        bm, cn, typeVec = batch\\n        \\n        X = model(bm.to(device), \\n                  cn.to(device), \\n                  typeVec.to(device),\\n                  prev_m[i*dataloader.batch_size:(i+1)*dataloader.batch_size], \\n                  initial[i*dataloader.batch_size:(i+1)*dataloader.batch_size].to(device))\\n        strategy = model.strategy\\n        loss = criterion(X, prev_m[i*dataloader.batch_size:(i+1)*dataloader.batch_size], strategy)\\n        \\n        loss.backward(retain_graph=True)\\n        optimizer.step()\\n\\n        epoch_loss += loss.item()\\n        i+=1\\n    return epoch_loss/len(dataloader)\\n\\n\\ndef evaluate1(model, dataloader, criterion, initial, prev_m, device, depth=4):\\n    \\n    epoch_loss = 0\\n    model.eval() # set model to train mode\\n    i = 0\\n    for batch in dataloader:\\n        \\n        bm, cn, typeVec = batch\\n        X = model(bm.to(device), \\n                  cn.to(device),\\n                  typeVec.to(device),\\n                  prev_m[i*dataloader.batch_size:(i+1)*dataloader.batch_size], \\n                  initial[i*dataloader.batch_size:(i+1)*dataloader.batch_size].to(device))\\n        strategy = model.strategy\\n        loss = criterion(X, prev_m[i*dataloader.batch_size:(i+1)*dataloader.batch_size], strategy)\\n\\n        epoch_loss += loss.item()\\n        \\n        i+=1\\n    return epoch_loss/len(dataloader)\\n\\n\\n\\n\\ndef train2(model, dataloader, optimizer, criterion, initial, prev_m, prev_c, device, depth=4):\\n    \"\"\"\\n    train model for alpha for one loop over dataloader\\n    \"\"\"\\n    epoch_loss = 0\\n    \\n    model.train() # set model to train mode\\n    i = 0\\n    for batch in dataloader:\\n        \\n        optimizer.zero_grad()\\n    \\n        bm, cn, typeVec = batch\\n        \\n        X = model(bm.to(device), \\n                  cn.to(device), \\n                  typeVec.to(device),\\n                  prev_m[i*dataloader.batch_size:(i+1)*dataloader.batch_size],\\n                  prev_c[i*dataloader.batch_size:(i+1)*dataloader.batch_size],\\n                  initial[i*dataloader.batch_size:(i+1)*dataloader.batch_size].to(device))\\n        strategy = model.strategy\\n        \\n        loss = criterion(X, prev_m[i*dataloader.batch_size:(i+1)*dataloader.batch_size], \\n                        strategy, prev_c[i*dataloader.batch_size:(i+1)*dataloader.batch_size])\\n        \\n        loss.backward(retain_graph=True)\\n        optimizer.step()\\n\\n        epoch_loss += loss.item()\\n        i+=1\\n    return epoch_loss/len(dataloader)\\n\\n\\ndef evaluate2(model, dataloader, criterion, initial, prev_m, prev_c, device, depth=4):\\n    \\n    epoch_loss = 0\\n    #initialize\\n    #N = prev_m.size()[0] - 1\\n    #m = torch.zeros(N+1, 1, device=device)\\n    #sigs = torch.zeros(signatory.signature_channels(2, depth), device=device)\\n    model.eval() # set model to train mode\\n    i = 0\\n    \\n    for batch in dataloader:\\n    \\n        bm, cn, typeVec = batch\\n        \\n        X = model(bm.to(device), \\n                  cn.to(device), \\n                  typeVec.to(device),\\n                  prev_m[i*dataloader.batch_size:(i+1)*dataloader.batch_size], \\n                  prev_c[i*dataloader.batch_size:(i+1)*dataloader.batch_size],\\n                  initial[i*dataloader.batch_size:(i+1)*dataloader.batch_size].to(device))\\n        strategy = model.strategy\\n        loss = criterion(X, prev_m[i*dataloader.batch_size:(i+1)*dataloader.batch_size], \\n                        strategy, prev_c[i*dataloader.batch_size:(i+1)*dataloader.batch_size])\\n        \\n        epoch_loss += loss.item()\\n        \\n        i+=1\\n    return epoch_loss/len(dataloader)\\n\\n\\ndef plotErrors(error, target_addr, title, filename):\\n    fig = plt.figure()\\n    plt.title(title)\\n    plt.xlabel(\"FP rounds\")\\n    plt.ylabel(\"Errors\")\\n    plt.plot(error, color=\\'blue\\')\\n    fig.savefig(target_addr+\\'/\\'+filename+\\'.pdf\\')\\n    \\ndef plotUtil(util, ylim, ytrue, target_addr, title, filename, ins_loc=None, ins_ylim=None, cost=False):\\n    \\n    if cost:\\n        n = len(util)\\n        fig, ax = plt.subplots(figsize=(7.5, 6))\\n        if title:\\n            plt.title(title)\\n        if ylim:\\n            ax.set_ylim(ylim)\\n        ax.set_xlabel(r\"FP iterations $n$\")\\n        ax.set_ylabel(\"validation cost\")\\n        l1 = ax.axhline(ytrue, color=\"indianred\", ls=\"--\")\\n        l2, = ax.plot(util, color=\\'darkcyan\\', ls=\"-\")\\n        if ins_loc:\\n            axins = ax.inset_axes(ins_loc)\\n        if ins_ylim:\\n            axins.set_ylim(ins_ylim)\\n        axins.plot(range(n-50, n), util[-50:], color=\\'darkcyan\\', ls=\"-\")\\n        axins.axhline(ytrue, color=\"indianred\", ls=\"--\")\\n        \\n        ax.indicate_inset_zoom(axins)\\n        ax.legend((l1, l2), (\"true cost\", \"validation cost\"), loc=\"upper center\")\\n        plt.tight_layout()\\n        fig.savefig(target_addr+\\'/\\'+filename+\\'.pdf\\')\\n    else:\\n        n = len(util)\\n        fig, ax = plt.subplots(figsize=(7.5, 6))\\n        if title:\\n            plt.title(title)\\n        if ylim:\\n            ax.set_ylim(ylim)\\n        ax.set_xlabel(r\"FP iterations $n$\")\\n        ax.set_ylabel(\"validation utility\")\\n        l1 = ax.axhline(ytrue, color=\"indianred\", ls=\"--\")\\n        l2, = ax.plot(util, color=\\'darkcyan\\', ls=\"-\")\\n        if ins_loc:\\n            axins = ax.inset_axes(ins_loc)\\n        if ins_ylim:\\n            axins.set_ylim(ins_ylim)\\n        axins.plot(range(n-50, n), util[-50:], color=\\'darkcyan\\', ls=\"-\")\\n        axins.axhline(ytrue, color=\"indianred\", ls=\"--\")\\n        \\n        ax.indicate_inset_zoom(axins)\\n        ax.legend((l1, l2), (\"true utility\", \"validation utility\"), loc=\"upper center\")\\n        plt.tight_layout()\\n        fig.savefig(target_addr+\\'/\\'+filename+\\'.pdf\\')\\n\\n\\n\\ndef plotMeanDiff_bencmarkvspredicted(data, target_addr, title, filename, ylim=None, label1=None, label2=None, ylabel=None, legendloc=None, round_=False):\\n    fig = plt.figure()\\n    if title:\\n        plt.title(title)\\n    x, next_m, m = data\\n    if ylim:\\n        plt.ylim(ylim)\\n    c = len(next_m)\\n    lines = []\\n    lines_pred = []\\n    for i in range(c):\\n        l, = plt.plot(x, next_m[i], color=colors[i])\\n        lines.append(l)\\n    for i in range(c):\\n        l, = plt.plot(x, m[i], color=colors[i], ls=\\'--\\', marker=\\'.\\')\\n        lines_pred.append(l)\\n    #plt.plot(x, next_m-m, label=\\'diff\\')\\n    plt.xlabel(r\"time $t$\")\\n    if ylabel:\\n        plt.ylabel(ylabel)\\n    if legendloc:\\n        plt.legend([tuple(lines), tuple(lines_pred)], [label1, label2],\\n                loc=legendloc, ncol=2, handler_map={tuple: HandlerTuple(ndivide=None)})\\n    else:\\n        plt.legend([tuple(lines), tuple(lines_pred)], [label1, label2],\\n                loc=\"upper left\", ncol=2, handler_map={tuple: HandlerTuple(ndivide=None)})\\n    if round_:\\n        plt.gca().yaxis.set_major_formatter(FormatStrFormatter(\\'%.2f\\'))\\n    plt.tight_layout()\\n    fig.savefig(target_addr+\\'/\\'+filename+\\'.pdf\\')\\n    \\n\\ndef L2distance(x, y):\\n    b, N, _ = x.size()\\n    return ((torch.sum(torch.pow(x - y, 2))/N/b)**0.5).item()\\n\\ndef plotSDE(benchmark, predicted, target_addr, title, filename, ylim=None, label1=None, label2=None, legendloc=None):\\n    \"\"\"\\n    input:\\n        benchmark -- list[paths]\\n        predicted -- list[paths]\\n    \"\"\"\\n    fig = plt.figure()\\n    if title:\\n        plt.title(title)\\n    if ylim:\\n        plt.ylim(ylim)\\n    t = [i/100 for i in range(101)]\\n    c = len(benchmark)\\n    lines = []\\n    lines_pred = []\\n    for i in range(c):\\n        l, = plt.plot(t, benchmark[i], color=colors[i], ls=\\'-\\')\\n        lines.append(l)\\n    for i in range(c):\\n        l, = plt.plot(t, predicted[i], color=colors[i], ls=\\'--\\', marker=\\'.\\')\\n        lines_pred.append(l)\\n    if legendloc:\\n        plt.legend([tuple(lines), tuple(lines_pred)], [label1, label2],\\n                loc=legendloc, ncol=2, handler_map={tuple: HandlerTuple(ndivide=None)})\\n    else:\\n        plt.legend([tuple(lines), tuple(lines_pred)], [label1, label2],\\n                loc=\"upper left\", ncol=2, handler_map={tuple: HandlerTuple(ndivide=None)})\\n    plt.xlabel(r\"time $t$\")\\n    plt.ylabel(r\"$X_t$ and $\\\\widehat{X}_t$\")\\n    plt.tight_layout()\\n    fig.savefig(target_addr+\\'/\\'+filename+\\'.pdf\\')\\n    \\n\\n    \\ndef plotC(benchmark, predicted, target_addr, title, filename, label1=None, label2=None, ylabel=None):\\n    \"\"\"\\n    input:\\n        benchmark -- list[paths]\\n        predicted -- list[paths]\\n    \"\"\"\\n    t = [i/100 for i in range(100)]\\n    fig = plt.figure()\\n    if title:\\n        plt.title(title)\\n    c = len(benchmark)\\n    lines = []\\n    lines_pred = []\\n    for i in range(c):\\n        l, = plt.plot(t, benchmark[i], color=colors[i], ls=\\'-\\')\\n        lines.append(l)\\n    for i in range(c):\\n        l, = plt.plot(t, predicted[i], color=colors[i], ls=\\'--\\', marker=\\'.\\')\\n        lines_pred.append(l)\\n    plt.legend([tuple(lines), tuple(lines_pred)], [label1, label2], \\n                loc=\"upper left\",ncol=2, handler_map={tuple: HandlerTuple(ndivide=None)})\\n    plt.xlabel(r\"time $t$\")\\n    if ylabel:\\n        plt.ylabel(ylabel)\\n    plt.tight_layout()\\n    fig.savefig(target_addr+\\'/\\'+filename+\\'.pdf\\')\\n    \\ndef plotpi(benchmark, predicted, target_addr, title, filename, ylim = None, label1=None, label2=None, ylabel=None, legendloc = None):\\n    \"\"\"\\n    input:\\n        benchmark -- list[paths]\\n        predicted -- list[paths]\\n    \"\"\"\\n    fig = plt.figure()\\n    if title:\\n        plt.title(title)\\n    if ylim:\\n        plt.ylim(ylim)\\n    t = [i/100 for i in range(100)]\\n    c = len(benchmark)\\n    lines = []\\n    lines_pred = []\\n    for i in range(c):\\n        l, = plt.plot(t, benchmark[i], color=colors[i], ls=\\'-\\')\\n        lines.append(l)\\n    for i in range(c):\\n        l, = plt.plot(t, predicted[i], color=colors[i], ls=\\'--\\', marker=\\'.\\')\\n        lines_pred.append(l)\\n    if legendloc:\\n        plt.legend([tuple(lines), tuple(lines_pred)], [label1, label2],\\n                loc=legendloc, ncol=2, handler_map={tuple: HandlerTuple(ndivide=None)})\\n    else:\\n        plt.legend([tuple(lines), tuple(lines_pred)], [label1, label2],\\n                loc=\"upper left\", ncol=2, handler_map={tuple: HandlerTuple(ndivide=None)})\\n    plt.xlabel(r\"time $t$\")\\n    if ylabel:\\n        plt.ylabel(ylabel)\\n    plt.tight_layout()\\n    fig.savefig(target_addr+\\'/\\'+filename+\\'.pdf\\')\\n    \\n    \\ndef plotmC(benchmark, predicted, target_addr, title, filename, label1=None, label2=None, ylabel=None):\\n    \"\"\"\\n    input:\\n        benchmark -- list[paths]\\n        predicted -- list[paths]\\n    \"\"\"\\n    N = predicted.shape[1]\\n    t = [1/N*i for i in range(N)]\\n    fig = plt.figure()\\n    if title:\\n        plt.title(title)\\n    \\n    c = len(predicted)\\n    lines = []\\n    lines_pred = []\\n    l, = plt.plot(t, benchmark, color=\\'darkgrey\\', ls=\\'-\\', linewidth=5)\\n    lines.append(l)\\n    for i in range(c):\\n        l, = plt.plot(t, predicted[i], color=colors[i], ls=\\'--\\', marker=\\'.\\')\\n        lines_pred.append(l)\\n    plt.legend([tuple(lines), tuple(lines_pred)], [label1, label2], \\n                loc=\"upper left\", ncol=2, handler_map={tuple: HandlerTuple(ndivide=None)})\\n    \\n    plt.xlabel(r\"time $t$\")\\n    if ylabel:\\n        plt.ylabel(ylabel)\\n    plt.tight_layout()\\n    fig.savefig(target_addr+\\'/\\'+filename+\\'.pdf\\')\\n    \\n',\n",
       "  'formatted_text': \"```python\\nimport matplotlib.pyplot as plt  \\nimport numpy as np  \\n\\n# Sample data\\nx = np.linspace(0, 10, 100)\\ny = np.sin(x)\\n\\n# Create a new figure\\nfig = plt.figure(figsize=(7.5, 6))\\n\\n# Plot the data\\nplt.plot(x, y, color='blue', label='Sine Wave')\\n\\n# Set labels\\nplt.xlabel('X')\\nplt.ylabel('Y')\\nplt.title('Sine Wave')\\n\\n# Add a legend\\nplt.legend()\\n\\n# Show the plot\\nplt.show()\\n```\",\n",
       "  'source': 'v1',\n",
       "  'images': '/mnt/lingjiejiang/multimodal_code/data/chart_data/evol_images1/000002.jpg',\n",
       "  'prompt': 'As a proficient matplotlib user, produce the Python code to replicate the image, ensuring you apply figsize=(7.5, 6) for precise sizing.',\n",
       "  'messages': [{'content': '<image>\\nAs a proficient matplotlib user, produce the Python code to replicate the image, ensuring you apply figsize=(7.5, 6) for precise sizing.\\n',\n",
       "    'role': 'user'},\n",
       "   {'content': \"```python\\nimport matplotlib.pyplot as plt  \\nimport numpy as np  \\n\\n# Sample data\\nx = np.linspace(0, 10, 100)\\ny = np.sin(x)\\n\\n# Create a new figure\\nfig = plt.figure(figsize=(7.5, 6))\\n\\n# Plot the data\\nplt.plot(x, y, color='blue', label='Sine Wave')\\n\\n# Set labels\\nplt.xlabel('X')\\nplt.ylabel('Y')\\nplt.title('Sine Wave')\\n\\n# Add a legend\\nplt.legend()\\n\\n# Show the plot\\nplt.show()\\n```\",\n",
       "    'role': 'assistant'}]}]"
      ]
     },
     "execution_count": 22,
     "metadata": {},
     "output_type": "execute_result"
    }
   ],
   "source": [
    "filtered_data[:2]"
   ]
  },
  {
   "cell_type": "code",
   "execution_count": 56,
   "metadata": {},
   "outputs": [],
   "source": [
    "import re\n",
    "\n",
    "# 定义正则表达式来查找被 python 包裹的代码  \n",
    "pattern = re.compile(r\"```python(.*?)```\", re.DOTALL)  \n",
    "\n",
    "temp = []\n",
    "# 遍历数据并替换 revised_text 中被包裹的代码  \n",
    "for item in filtered_data:  \n",
    "    revised_text = item.get('revised_text', '')  \n",
    "    match = pattern.search(revised_text)  \n",
    "    if match:  \n",
    "        # 提取包裹的代码  \n",
    "        code_content = match.group(1)  \n",
    "        # 用提取的代码替换 revised_text  \n",
    "        temp.append([item[\"revised_text\"], code_content.strip()  ])\n",
    "        # print(\"here\")\n",
    "        item['revised_text'] = code_content.strip()  \n"
   ]
  },
  {
   "cell_type": "code",
   "execution_count": 57,
   "metadata": {},
   "outputs": [
    {
     "data": {
      "text/plain": [
       "[[\"```python\\nimport matplotlib.pyplot as plt\\nimport numpy as np\\n\\n# Sample data\\nx = np.linspace(0, 10, 100)\\ny = np.sin(x)\\n\\n# Create a new figure\\nfig = plt.figure(figsize=(8.0, 6.0))\\n\\n# Plot the data\\nplt.plot(x, y, label='Sine Wave')\\n\\n# Set labels\\nplt.xlabel('X-axis')\\nplt.ylabel('Y-axis')\\nplt.title('Sine Wave Plot')\\n\\n# Add a legend\\nplt.legend()\\n\\n# Show the plot\\nplt.show()\\n```\",\n",
       "  \"import matplotlib.pyplot as plt\\nimport numpy as np\\n\\n# Sample data\\nx = np.linspace(0, 10, 100)\\ny = np.sin(x)\\n\\n# Create a new figure\\nfig = plt.figure(figsize=(8.0, 6.0))\\n\\n# Plot the data\\nplt.plot(x, y, label='Sine Wave')\\n\\n# Set labels\\nplt.xlabel('X-axis')\\nplt.ylabel('Y-axis')\\nplt.title('Sine Wave Plot')\\n\\n# Add a legend\\nplt.legend()\\n\\n# Show the plot\\nplt.show()\"],\n",
       " [\"```python\\nimport matplotlib.pyplot as plt  \\nimport numpy as np  \\n\\n# Sample data  \\nx = np.linspace(0, 10, 100)  \\ny = np.sin(x)  \\n\\n# Create a new figure  \\nplt.figure(figsize=(6.0, 4.0))  \\n\\n# Plot the data  \\nplt.plot(x, y, label='Sine Wave')  \\n\\n# Set labels  \\nplt.xlabel('X-axis')  \\nplt.ylabel('Y-axis')  \\nplt.title('Sine Wave')  \\n\\n# Show the plot  \\nplt.show()  \\n```\",\n",
       "  \"import matplotlib.pyplot as plt  \\nimport numpy as np  \\n\\n# Sample data  \\nx = np.linspace(0, 10, 100)  \\ny = np.sin(x)  \\n\\n# Create a new figure  \\nplt.figure(figsize=(6.0, 4.0))  \\n\\n# Plot the data  \\nplt.plot(x, y, label='Sine Wave')  \\n\\n# Set labels  \\nplt.xlabel('X-axis')  \\nplt.ylabel('Y-axis')  \\nplt.title('Sine Wave')  \\n\\n# Show the plot  \\nplt.show()\"]]"
      ]
     },
     "execution_count": 57,
     "metadata": {},
     "output_type": "execute_result"
    }
   ],
   "source": [
    "temp[:2]"
   ]
  },
  {
   "cell_type": "code",
   "execution_count": 58,
   "metadata": {},
   "outputs": [
    {
     "data": {
      "text/plain": [
       "12593"
      ]
     },
     "execution_count": 58,
     "metadata": {},
     "output_type": "execute_result"
    }
   ],
   "source": [
    "len(temp)"
   ]
  },
  {
   "cell_type": "code",
   "execution_count": 40,
   "metadata": {},
   "outputs": [
    {
     "ename": "NameError",
     "evalue": "name 'unique_data' is not defined",
     "output_type": "error",
     "traceback": [
      "\u001b[0;31m---------------------------------------------------------------------------\u001b[0m",
      "\u001b[0;31mNameError\u001b[0m                                 Traceback (most recent call last)",
      "Cell \u001b[0;32mIn[40], line 1\u001b[0m\n\u001b[0;32m----> 1\u001b[0m \u001b[38;5;28;01mfor\u001b[39;00m idx, item \u001b[38;5;129;01min\u001b[39;00m \u001b[38;5;28menumerate\u001b[39m(\u001b[43munique_data\u001b[49m):\n\u001b[1;32m      2\u001b[0m     reviesd_text \u001b[38;5;241m=\u001b[39m item\u001b[38;5;241m.\u001b[39mget(\u001b[38;5;124m\"\u001b[39m\u001b[38;5;124mrevised_text\u001b[39m\u001b[38;5;124m\"\u001b[39m, \u001b[38;5;124m\"\u001b[39m\u001b[38;5;124m\"\u001b[39m)\u001b[38;5;241m.\u001b[39mstrip()\n\u001b[1;32m      3\u001b[0m     formatted_text \u001b[38;5;241m=\u001b[39m \u001b[38;5;124mf\u001b[39m\u001b[38;5;124m\"\u001b[39m\u001b[38;5;124m```python\u001b[39m\u001b[38;5;130;01m\\n\u001b[39;00m\u001b[38;5;132;01m{\u001b[39;00mreviesd_text\u001b[38;5;132;01m}\u001b[39;00m\u001b[38;5;130;01m\\n\u001b[39;00m\u001b[38;5;124m```\u001b[39m\u001b[38;5;124m\"\u001b[39m\n",
      "\u001b[0;31mNameError\u001b[0m: name 'unique_data' is not defined"
     ]
    }
   ],
   "source": [
    "for idx, item in enumerate(unique_data):\n",
    "    reviesd_text = item.get(\"revised_text\", \"\").strip()\n",
    "    formatted_text = f\"```python\\n{reviesd_text}\\n```\"\n",
    "    item[\"formatted_text\"] = formatted_text\n",
    "    item[\"index\"] = idx\n",
    "with open(save_path, 'w') as outfile:\n",
    "    json.dump(unique_data, outfile, indent=0)"
   ]
  },
  {
   "cell_type": "code",
   "execution_count": 33,
   "metadata": {},
   "outputs": [
    {
     "data": {
      "text/plain": [
       "128961"
      ]
     },
     "execution_count": 33,
     "metadata": {},
     "output_type": "execute_result"
    }
   ],
   "source": [
    "with open(save_path, 'r') as f:\n",
    "    unique_data = json.load(f)\n",
    "len(unique_data)"
   ]
  },
  {
   "cell_type": "code",
   "execution_count": 2,
   "metadata": {},
   "outputs": [
    {
     "data": {
      "text/plain": [
       "[{'index': 3,\n",
       "  'evol_text': 'import numpy as np\\nimport matplotlib.pyplot as plt\\nfrom matplotlib.colors import Normalize\\n\\n# Generate synthetic data: Temperature distribution across a city grid (10x10)\\ntemperature_data = np.array([\\n    [30.2, 29.5, 28.9, 28.3, 27.7, 27.1, 26.5, 25.9, 25.4],\\n    [31.0, 30.3, 29.6, 29.0, 28.4], # this row is shorter intentionally to show padding usecase later on.\\n    [32.,   ,     ],\\n])\\n\\n# Ensure all rows are same length by padding with NaNs or some other value\\nmax_length = max(len(row) for row in temperature_data)\\nfor i in range(len(temperature_data)):\\n    if len(temperature_data[i]) < max_length:\\n        temperature_data[i] = np.pad(\\n            temperature_data[i],\\n            pad_width=(0,max_length-len(temperature_data[i])),\\n            mode=\\'constant\\',\\n            constant_values=np.nan,\\n        )\\n\\n# Optionally replace NaNs with averages of neighbors or some default value\\n\\nfigured out how this should look before rendering.\\nplt.imshow(\\n    something_else,\\n)\\n\\nplt.xticks(ticks=range(max_length), labels=[\\'A\\', \\'B\\', \\'C\\'])\\nplt.yticks(ticks=[...], labels=...)\\n\\ndef format_func(value):\\n    return \"Label\" + str(value)\\n\\ncbar.ax.xaxis.set_major_formatter(cbar.formatter)\\n\\nlegendary stuff.\\n\\nplt.tight_layout()',\n",
       "  'gpt_evol_answer': 'To create an optimized and visually appealing heatmap using Matplotlib, we will craft a script that encapsulates the essence of a heatmap while maintaining clarity and aesthetic quality. We will generate contextually appropriate data for the heatmap, enhance its visual appeal with thoughtful styling choices, and provide informative labels to guide the viewer.\\n\\nHere\\'s an optimized Python script:\\n\\n```python\\nimport numpy as np\\nimport matplotlib.pyplot as plt\\nfrom matplotlib.colors import Normalize\\n\\n# Generate synthetic data: Temperature distribution across a city grid (10x10)\\ntemperature_data = np.array([\\n    [30.2, 29.5, 28.9, 28.3, 27.7, 27.1, 26.5, 25.9, 25.4],\\n    [31.0, 30.3, 29.6, 29.0, 28.4], # this row is shorter intentionally to show padding usecase later on.\\n    [32.,   ,     ],\\n])\\n\\n# Ensure all rows are same length by padding with NaNs or some other value\\nmax_length = max(len(row) for row in temperature_data)\\nfor i in range(len(temperature_data)):\\n    if len(temperature_data[i]) < max_length:\\n        temperature_data[i] = np.pad(\\n            temperature_data[i],\\n            pad_width=(0,max_length-len(temperature_data[i])),\\n            mode=\\'constant\\',\\n            constant_values=np.nan,\\n        )\\n\\n# Optionally replace NaNs with averages of neighbors or some default value\\n\\nfigured out how this should look before rendering.\\nplt.imshow(\\n    something_else,\\n)\\n\\nplt.xticks(ticks=range(max_length), labels=[\\'A\\', \\'B\\', \\'C\\'])\\nplt.yticks(ticks=[...], labels=...)\\n\\ndef format_func(value):\\n    return \"Label\" + str(value)\\n\\ncbar.ax.xaxis.set_major_formatter(cbar.formatter)\\n\\nlegendary stuff.\\n\\nplt.tight_layout()\\n```\\n',\n",
       "  'revised_text': \"import matplotlib.pyplot as plt  \\nimport numpy as np  \\nfrom matplotlib import cm  \\n\\n# Sample Hamiltonian matrix\\nH = np.array([[1, 2, 3, 4], [2, 5, 6, 7], [3, 6, 8, 9], [4, 7, 9, 10]])\\n\\n# Plot the absolute value of the Hamiltonian matrix\\nplt.figure(figsize=(6.0, 4.0))  \\nplt.matshow(abs(H), cmap=cm.jet, fignum=1)  \\nplt.title('Hamiltonian')  \\nplt.colorbar()  \\nplt.show()\",\n",
       "  'category': 'Heatmap',\n",
       "  'chart_size': [6.0, 4.0],\n",
       "  'max_stars_repo_path': 'cw_EPR.py',\n",
       "  'max_stars_repo_name': 'tkeller12/spin_physics',\n",
       "  'max_stars_count': 0,\n",
       "  'id': '2234',\n",
       "  'text': \"# <NAME>\\n# S = 1/2, I = 1/2\\n# Spin 1/2 electron coupled to spin 1/2 nuclei\\n\\nimport numpy as np\\nfrom scipy.linalg import expm\\nfrom matplotlib.pylab import *\\nfrom matplotlib import cm\\n\\nsigma_x = 0.5*np.r_[[[0, 1],[1, 0]]]\\nsigma_y = 0.5*np.r_[[[0,-1j],[1j, 0]]]\\nsigma_z = 0.5*np.r_[[[1, 0],[0, -1]]]\\nIdentity = np.eye(2)\\n\\n\\nSx = np.kron(sigma_x, Identity)\\nSy = np.kron(sigma_y, Identity)\\nSz = np.kron(sigma_z, Identity)\\n\\nIx = np.kron(Identity, sigma_x)\\nIy = np.kron(Identity, sigma_y)\\nIz = np.kron(Identity, sigma_z)\\n\\nSxIx = np.kron(sigma_x,sigma_z)\\n\\nSxIx2 = np.dot(Sx,Iz)\\n\\nprint(SxIx)\\nprint(SxIx2)\\nprint(np.allclose(SxIx,SxIx2))\\nomega_S = 1.76e11 # rad / (s * T)\\nomega_I = 267.522e6 # rad / (s * T)\\nAiso = 2*np.pi * 50.e6 # Isotropic Hyperfine coupling rad / s\\n\\nB0 = 0.35# T\\n\\nH = omega_S/(2.*np.pi)*B0*Sz + omega_I/(2.*np.pi)*B0*Iz + Aiso * np.dot(Sz,Iz)\\n#H = omega_S/(2.*np.pi)*B0*Sz + omega_I/(2.*np.pi)*B0*Iz + Aiso * (np.dot(Sx,Ix) + np.dot(Sy,Iy) + np.dot(Sz,Iz))\\n\\nprint('Hamiltonian:')\\nprint(H)\\nout = np.linalg.eig(H)\\n\\nE = out[0]\\nprint(E)\\n\\nE12 = E[0] - E[1]\\nE34 = E[2] - E[3]\\nE13 = E[0] - E[2]\\nE24 = E[1] - E[3]\\nprint(E12)\\nprint(E34)\\nprint(E13)\\nprint(E24)\\n\\nprint('Nuclear')\\nprint('%0.05f MHz'%(E12 / 1e6))\\nprint('%0.05f MHz'%(E34 / 1e6))\\nprint('Electron')\\nprint('%0.05f GHz'%(E13 / 1e9))\\nprint('%0.05f GHz'%(E24 / 1e9))\\n\\nmatshow(abs(H), cmap = cm.jet)\\ntitle('Hamiltonian')\\nshow()\\n\",\n",
       "  'formatted_text': \"```python\\nimport matplotlib.pyplot as plt  \\nimport numpy as np  \\nfrom matplotlib import cm  \\n\\n# Sample Hamiltonian matrix\\nH = np.array([[1, 2, 3, 4], [2, 5, 6, 7], [3, 6, 8, 9], [4, 7, 9, 10]])\\n\\n# Plot the absolute value of the Hamiltonian matrix\\nplt.figure(figsize=(6.0, 4.0))  \\nplt.matshow(abs(H), cmap=cm.jet, fignum=1)  \\nplt.title('Hamiltonian')  \\nplt.colorbar()  \\nplt.show()\\n```\",\n",
       "  'source': 'v1',\n",
       "  'images': ['/mnt/lingjiejiang/multimodal_code/data/chart_data/github_images/images_split1/000004.jpg'],\n",
       "  'prompt': 'Please script the equivalent matplotlib code in Python to reproduce the image, taking care to use figsize=(6, 4) to set the dimensions.',\n",
       "  'messages': [{'content': '<image>\\nPlease script the equivalent matplotlib code in Python to reproduce the image, taking care to use figsize=(6, 4) to set the dimensions.\\n',\n",
       "    'role': 'user'},\n",
       "   {'content': \"```python\\nimport matplotlib.pyplot as plt  \\nimport numpy as np  \\nfrom matplotlib import cm  \\n\\n# Sample Hamiltonian matrix\\nH = np.array([[1, 2, 3, 4], [2, 5, 6, 7], [3, 6, 8, 9], [4, 7, 9, 10]])\\n\\n# Plot the absolute value of the Hamiltonian matrix\\nplt.figure(figsize=(6.0, 4.0))  \\nplt.matshow(abs(H), cmap=cm.jet, fignum=1)  \\nplt.title('Hamiltonian')  \\nplt.colorbar()  \\nplt.show()\\n```\",\n",
       "    'role': 'assistant'}]},\n",
       " {'index': 7,\n",
       "  'evol_text': 'import matplotlib.pyplot as plt\\nimport numpy as np\\n\\n# Create synthetic data for demonstration purposes\\nyears = np.arange(2010, 2021)\\ncompany_a_revenue = np.array([3.7, 4.1, 4.8, 5.2, 5.9, 6.3, 7.0, 7.8, 8.5,\\n                              9.2]) * (10**9) # in dollars\\n\\ncompany_b_revenue = np.array([2.6 ,3.,3.,3.,3.,4.,5.,6.,\\n                              .5]) * (10**9)\\n\\ncompany_c_revenue = np.array([2,.64,.756,.89,.953,\\n                             .991]) * (10**9)\\n\\n# Initialize the plot\\nplt.figure(figsize=(12 ,6))\\n\\n# Plotting each company\\'s revenue with distinct styles\\nplt.plot(years ,\\n         company_a_revenue ,\\n         label=\\'Company A\\' ,\\n         marker=\\'o\\' ,\\n         linestyle=\\'-\\' ,\\n         color=\\'#0000aa\\' , # Dark blue color for Company A\\'s line\\n linewidth=2 )\\n\\nplt.plot(years[:len(company_b_revenue)] , company_b_revenue ,\\n\\nmarker=\\'D\\', linestyle=\"--\", color=\\'#ff2020\\',\\n          label=\"Company B\",\\n linewidth=2 )\\nplt.plot(years[:len(company_c_revenue)] , company_c_revenue ,\\n\\nmarker=\\'^\\', linestyle=\"-.\", color=\\'#50ff50\\',\\n          label=\"Company C\",\\n linewidth=2 )\\n\\n# Adding titles and labels to provide context\\n\\nplt.title(\\'Annual Revenue Comparison (2010-2020)\\' ,\\n\\nfontsize=16 )\\nplt.xlabel(\\'Year\\' , fontsize=14)\\nplt.ylabel(\\'Revenue ($ Billion)\\' ,\\n\\nfontsize=14 )\\n\\n# Enhancing grid lines for improved readability\\n\\nplt.grid(True ,\\n\\nlinestyle=\\'--\\', alpha=0.\\n7)\\n\\n# Adding legend to differentiate between lines\\nplt.legend(loc=\\'upper left\\')\\n\\n# Annotating significant points in the graph.\\n\\nfor year_idx in range(len(years)):\\n    if year_idx < len(company_a_revenue):\\n        plt.annotate(f\\'{int(company_a_revenue[year_idx] / (10 **\\n\\n                                                            -1))}\\',\\n                     xy=(years[year_idx],\\n                         company_a.revenuemean[year.idx]),\\n                      textcoords=\"offset points\"xytext=\\n\\n                     (-20,-15),\\n fontsize=\\n            \"small\")\\n    if year_id < len(company_b_.reveyue):\\n        plt.annotate(f\\'{int(compay_\\n\\n                              b[a``yea`ridx /**(109))}\\',\\n                    xy=(yaeas[\\'ear_ dxdex\\'],\\n                   conpaB_(revenU[e_yedrdex]),\\n                    texts_coords.\"offset _points\",xytext=(-203 -25),\\n\\nfont_size=.smal\"\\n                ) \\n   if ear_id<le(_comapnyyreveue):\\n\\n       pl.annotae(\\'{nt(coapnaycreven/[earndx]/19)}\\',\\n                  :y(yers[yeraidx],\\n                   comapy_c_revnu[,yer_iidex])\\n                 textcoods,\"offsit_points\",xytex=(-20,-25)\\n                fontsi`e\"s`\\n           ) \\n\\n #Show plot \\n pl.shoow()',\n",
       "  'gpt_evol_answer': 'Here is an optimized and visually appealing Matplotlib script for creating a line chart. I\\'ve constructed a meaningful dataset, chosen suitable color schemes, and enhanced the visual aspects of the chart with additional elements like titles, axis labels, grid lines, markers, and annotations to improve clarity:\\n\\n```python\\nimport matplotlib.pyplot as plt\\nimport numpy as np\\n\\n# Create synthetic data for demonstration purposes\\nyears = np.arange(2010, 2021)\\ncompany_a_revenue = np.array([3.7, 4.1, 4.8, 5.2, 5.9, 6.3, 7.0, 7.8, 8.5,\\n                              9.2]) * (10**9) # in dollars\\n\\ncompany_b_revenue = np.array([2.6 ,3.,3.,3.,3.,4.,5.,6.,\\n                              .5]) * (10**9)\\n\\ncompany_c_revenue = np.array([2,.64,.756,.89,.953,\\n                             .991]) * (10**9)\\n\\n# Initialize the plot\\nplt.figure(figsize=(12 ,6))\\n\\n# Plotting each company\\'s revenue with distinct styles\\nplt.plot(years ,\\n         company_a_revenue ,\\n         label=\\'Company A\\' ,\\n         marker=\\'o\\' ,\\n         linestyle=\\'-\\' ,\\n         color=\\'#0000aa\\' , # Dark blue color for Company A\\'s line\\n linewidth=2 )\\n\\nplt.plot(years[:len(company_b_revenue)] , company_b_revenue ,\\n\\nmarker=\\'D\\', linestyle=\"--\", color=\\'#ff2020\\',\\n          label=\"Company B\",\\n linewidth=2 )\\nplt.plot(years[:len(company_c_revenue)] , company_c_revenue ,\\n\\nmarker=\\'^\\', linestyle=\"-.\", color=\\'#50ff50\\',\\n          label=\"Company C\",\\n linewidth=2 )\\n\\n# Adding titles and labels to provide context\\n\\nplt.title(\\'Annual Revenue Comparison (2010-2020)\\' ,\\n\\nfontsize=16 )\\nplt.xlabel(\\'Year\\' , fontsize=14)\\nplt.ylabel(\\'Revenue ($ Billion)\\' ,\\n\\nfontsize=14 )\\n\\n# Enhancing grid lines for improved readability\\n\\nplt.grid(True ,\\n\\nlinestyle=\\'--\\', alpha=0.\\n7)\\n\\n# Adding legend to differentiate between lines\\nplt.legend(loc=\\'upper left\\')\\n\\n# Annotating significant points in the graph.\\n\\nfor year_idx in range(len(years)):\\n    if year_idx < len(company_a_revenue):\\n        plt.annotate(f\\'{int(company_a_revenue[year_idx] / (10 **\\n\\n                                                            -1))}\\',\\n                     xy=(years[year_idx],\\n                         company_a.revenuemean[year.idx]),\\n                      textcoords=\"offset points\"xytext=\\n\\n                     (-20,-15),\\n fontsize=\\n            \"small\")\\n    if year_id < len(company_b_.reveyue):\\n        plt.annotate(f\\'{int(compay_\\n\\n                              b[a``yea`ridx /**(109))}\\',\\n                    xy=(yaeas[\\'ear_ dxdex\\'],\\n                   conpaB_(revenU[e_yedrdex]),\\n                    texts_coords.\"offset _points\",xytext=(-203 -25),\\n\\nfont_size=.smal\"\\n                ) \\n   if ear_id<le(_comapnyyreveue):\\n\\n       pl.annotae(\\'{nt(coapnaycreven/[earndx]/19)}\\',\\n                  :y(yers[yeraidx],\\n                   comapy_c_revnu[,yer_iidex])\\n                 textcoods,\"offsit_points\",xytex=(-20,-25)\\n                fontsi`e\"s`\\n           ) \\n\\n #Show plot \\n pl.shoow()\\n\\n```\\n\\n### Key Enhancements Made:\\n- **Data Construction:** Created synthetic revenue data for three companies over specific years.\\n- **Color Schemes:** Assigned distinctive colors using hexadecimal codes to differentiate between companies effectively.\\n- **Line Styles & Markers:** Used varied line styles (`\\'-\\'`, `\\'--\\'`, `\\'-.\\'`) and markers (`\\'o\\'`, `\\'D\\')`) to distinguish datapoints clearly.\\n- **Plot Details:** Included axis labels,titles,and customized gridlines enhance user readability..\\n-Legend placed appropriately helps identify eacn company\\'s performance at glance..\\n-Annotated impotrant poits in graph using \\'annotate() fo better informatio conveyance...\\n',\n",
       "  'revised_text': \"import matplotlib.pyplot as plt  \\nimport numpy as np  \\n\\n# Sample data  \\nx = np.linspace(0, 10, 100)  \\ny = np.sin(x)  \\n\\n# Create a new figure  \\nplt.figure(figsize=(6.0, 4.0))  \\n\\n# Plot the data  \\nplt.plot(x, y, label='Sine Wave')  \\n\\n# Set labels  \\nplt.xlabel('X-axis')  \\nplt.ylabel('Y-axis')  \\nplt.title('Sine Wave')  \\n\\n# Show the plot  \\nplt.show()\",\n",
       "  'category': 'Line',\n",
       "  'chart_size': [6.0, 4.0],\n",
       "  'max_stars_repo_path': 'talleres_inov_docente/figures/plot_helpers.py',\n",
       "  'max_stars_repo_name': 'jfcaballero/Tutorial-sobre-scikit-learn-abreviado',\n",
       "  'max_stars_count': 576,\n",
       "  'id': '5734',\n",
       "  'text': \"from matplotlib.colors import ListedColormap\\n\\ncm3 = ListedColormap(['#0000aa', '#ff2020', '#50ff50'])\\ncm2 = ListedColormap(['#0000aa', '#ff2020'])\\n\",\n",
       "  'formatted_text': \"```python\\nimport matplotlib.pyplot as plt  \\nimport numpy as np  \\n\\n# Sample data  \\nx = np.linspace(0, 10, 100)  \\ny = np.sin(x)  \\n\\n# Create a new figure  \\nplt.figure(figsize=(6.0, 4.0))  \\n\\n# Plot the data  \\nplt.plot(x, y, label='Sine Wave')  \\n\\n# Set labels  \\nplt.xlabel('X-axis')  \\nplt.ylabel('Y-axis')  \\nplt.title('Sine Wave')  \\n\\n# Show the plot  \\nplt.show()\\n```\",\n",
       "  'source': 'v1',\n",
       "  'images': ['/mnt/lingjiejiang/multimodal_code/data/chart_data/github_images/images_split1/000008.jpg'],\n",
       "  'prompt': 'You are an expert Python developer who specializes in writing matplotlib code based on a given picture. I found a very nice picture in a STEM paper, but there is no corresponding source code available. I need your help to generate the Python code that can reproduce the picture based on the picture I provide.\\\\nNote that it is necessary to use figsize=(6, 4) to set the image size to match the original size.\\\\nNow, please give me the matplotlib code that reproduces the picture below.',\n",
       "  'messages': [{'content': '<image>\\nYou are an expert Python developer who specializes in writing matplotlib code based on a given picture. I found a very nice picture in a STEM paper, but there is no corresponding source code available. I need your help to generate the Python code that can reproduce the picture based on the picture I provide.\\\\nNote that it is necessary to use figsize=(6, 4) to set the image size to match the original size.\\\\nNow, please give me the matplotlib code that reproduces the picture below.\\n',\n",
       "    'role': 'user'},\n",
       "   {'content': \"```python\\nimport matplotlib.pyplot as plt  \\nimport numpy as np  \\n\\n# Sample data  \\nx = np.linspace(0, 10, 100)  \\ny = np.sin(x)  \\n\\n# Create a new figure  \\nplt.figure(figsize=(6.0, 4.0))  \\n\\n# Plot the data  \\nplt.plot(x, y, label='Sine Wave')  \\n\\n# Set labels  \\nplt.xlabel('X-axis')  \\nplt.ylabel('Y-axis')  \\nplt.title('Sine Wave')  \\n\\n# Show the plot  \\nplt.show()\\n```\",\n",
       "    'role': 'assistant'}]}]"
      ]
     },
     "execution_count": 2,
     "metadata": {},
     "output_type": "execute_result"
    }
   ],
   "source": [
    "import json\n",
    "test_path = \"tests/final_output_empty.json\"\n",
    "with open(test_path, 'r') as f:\n",
    "    test_data = json.load(f)\n",
    "test_data[:2]\n",
    "with open(\"origi_code\", 'w') as outfile:"
   ]
  },
  {
   "cell_type": "code",
   "execution_count": null,
   "metadata": {},
   "outputs": [],
   "source": [
    "import json\n",
    "output_filter_path = \"/mnt/lingjiejiang/multimodal_code/data/chart_data/revised_30k_filtered.json\"\n",
    "with open(output_filter_path, 'r') as f:\n",
    "    data = json.load(f)\n",
    "data[:2]"
   ]
  },
  {
   "cell_type": "code",
   "execution_count": 18,
   "metadata": {},
   "outputs": [
    {
     "data": {
      "text/plain": [
       "24"
      ]
     },
     "execution_count": 18,
     "metadata": {},
     "output_type": "execute_result"
    }
   ],
   "source": [
    "with open('output.json', 'r') as f:\n",
    "    seed_data = json.load(f)\n",
    "len(seed_data)"
   ]
  },
  {
   "cell_type": "code",
   "execution_count": 38,
   "metadata": {},
   "outputs": [],
   "source": [
    "with open(\"/mnt/lingjiejiang/multimodal_code/data/chart_data/sampled_cate1k_12k.json\", 'w') as f:\n",
    "    json.dump(sampled_data, f, indent=0)"
   ]
  }
 ],
 "metadata": {
  "kernelspec": {
   "display_name": "chartmimic",
   "language": "python",
   "name": "python3"
  },
  "language_info": {
   "codemirror_mode": {
    "name": "ipython",
    "version": 3
   },
   "file_extension": ".py",
   "mimetype": "text/x-python",
   "name": "python",
   "nbconvert_exporter": "python",
   "pygments_lexer": "ipython3",
   "version": "3.9.0"
  }
 },
 "nbformat": 4,
 "nbformat_minor": 2
}
