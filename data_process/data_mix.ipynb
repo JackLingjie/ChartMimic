{
 "cells": [
  {
   "cell_type": "code",
   "execution_count": 1,
   "metadata": {},
   "outputs": [
    {
     "data": {
      "text/plain": [
       "(39587, 40221)"
      ]
     },
     "execution_count": 1,
     "metadata": {},
     "output_type": "execute_result"
    }
   ],
   "source": [
    "import json  \n",
    "import re  \n",
    "import json\n",
    "output_path = \"/mnt/lingjiejiang/multimodal_code/data/chart_data/evol_data_filter_images_40k_sharegpt_format.json\"   \n",
    "with open(output_path, 'r') as f:  \n",
    "    data = json.load(f)  \n",
    "# 定义要检查的随机函数、wordcloud 调用和 misc 导入语句的正则表达式  \n",
    "random_patterns = re.compile(r'\\brandn\\b|\\brandom\\b|\\brand\\b')  \n",
    "wordcloud_patterns = re.compile(r'\\bwordcloud\\b', re.IGNORECASE)  \n",
    "misc_patterns = re.compile(r'\\bimport\\s+.*misc\\b|\\bfrom\\s+.*misc\\s+import\\b', re.IGNORECASE)  \n",
    "  \n",
    "  \n",
    "\n",
    "# 过滤掉包含随机函数调用、wordcloud 调用和 misc 导入的项  \n",
    "filtered_rand_data = [  \n",
    "    item for item in data  \n",
    "    if not random_patterns.search(item.get('evol_text', '') )  \n",
    "    and not wordcloud_patterns.search(item.get('evol_text', ''))  \n",
    "    and not misc_patterns.search(item.get('evol_text', '') )  \n",
    "] \n",
    "len(filtered_rand_data), len(data)"
   ]
  },
  {
   "cell_type": "code",
   "execution_count": 2,
   "metadata": {},
   "outputs": [
    {
     "data": {
      "text/plain": [
       "30479"
      ]
     },
     "execution_count": 2,
     "metadata": {},
     "output_type": "execute_result"
    }
   ],
   "source": [
    "import json\n",
    "with open(\"/mnt/lingjiejiang/multimodal_code/data/chart_data/revised_30k_filtered.json\", 'r') as f:\n",
    "    revised_data = json.load(f)\n",
    "len(revised_data)"
   ]
  },
  {
   "cell_type": "code",
   "execution_count": 4,
   "metadata": {},
   "outputs": [
    {
     "data": {
      "text/plain": [
       "(7889, 22590)"
      ]
     },
     "execution_count": 4,
     "metadata": {},
     "output_type": "execute_result"
    }
   ],
   "source": [
    "revised_data_noline = [item for item in revised_data if item['category'] != \"Line\"]\n",
    "revised_data_line = [item for item in revised_data if item['category'] == \"Line\"]\n",
    "len(revised_data_noline), len(revised_data_line)"
   ]
  },
  {
   "cell_type": "code",
   "execution_count": null,
   "metadata": {},
   "outputs": [],
   "source": []
  },
  {
   "cell_type": "code",
   "execution_count": 5,
   "metadata": {},
   "outputs": [],
   "source": [
    "import json  \n",
    "import random  \n",
    "revised_data_line_3k = random.sample(revised_data_line, k=3000)  "
   ]
  },
  {
   "cell_type": "code",
   "execution_count": 11,
   "metadata": {},
   "outputs": [
    {
     "data": {
      "text/plain": [
       "50476"
      ]
     },
     "execution_count": 11,
     "metadata": {},
     "output_type": "execute_result"
    }
   ],
   "source": [
    "mix_data_v1 = filtered_rand_data + revised_data_noline + revised_data_line_3k\n",
    "len(mix_data_v1)"
   ]
  },
  {
   "cell_type": "code",
   "execution_count": 12,
   "metadata": {},
   "outputs": [],
   "source": [
    "with open(\"/mnt/lingjiejiang/multimodal_code/data/chart_data/revised_evol_50k.json\", 'w') as f:\n",
    "    json.dump(mix_data_v1, f, indent=0)"
   ]
  },
  {
   "cell_type": "code",
   "execution_count": null,
   "metadata": {},
   "outputs": [],
   "source": []
  },
  {
   "cell_type": "code",
   "execution_count": 10,
   "metadata": {},
   "outputs": [
    {
     "data": {
      "text/plain": [
       "10889"
      ]
     },
     "execution_count": 10,
     "metadata": {},
     "output_type": "execute_result"
    }
   ],
   "source": [
    "origin_sampled = revised_data_line_3k + revised_data_noline\n",
    "len(origin_sampled)"
   ]
  },
  {
   "cell_type": "code",
   "execution_count": 8,
   "metadata": {},
   "outputs": [
    {
     "data": {
      "text/plain": [
       "[{'index': 71319,\n",
       "  'revised_text': \"import matplotlib.pyplot as plt\\nimport numpy as np\\n\\n# Sample data\\nprecision = np.linspace(0, 1, 100)\\nrecall = np.sqrt(1 - precision**2)\\n\\n# Create a new figure\\nplt.figure(figsize=(6.0, 4.0))\\n\\n# Plot the precision-recall curve\\nplt.plot(precision, recall, label='Precision-Recall Curve')\\n\\n# Set labels and title\\nplt.title('Precision/Recall Curve')\\nplt.xlabel('Recall')\\nplt.ylabel('Precision')\\n\\n# Show the plot\\nplt.show()\",\n",
       "  'category': 'Line',\n",
       "  'chart_size': [6.0, 4.0],\n",
       "  'hexsha': '1148b1f56e4157004c97259be993fdbffff28d2e',\n",
       "  'size': 854,\n",
       "  'ext': 'py',\n",
       "  'max_stars_repo_path': 'vision code/vision2.py',\n",
       "  'max_stars_repo_name': 'Rye-Catcher-ZCH/HITSZ-2020-Bioinformatics-Course-Project-Two-Team-zchnb',\n",
       "  'max_stars_repo_head_hexsha': '80fb3abf62c95d5a09c54dc15d2ec48c3e2547e9',\n",
       "  'max_stars_repo_licenses': ['MIT'],\n",
       "  'max_stars_count': 1,\n",
       "  'max_stars_repo_stars_event_min_datetime': '2021-07-12T02:14:58.000Z',\n",
       "  'max_stars_repo_stars_event_max_datetime': '2021-07-12T02:14:58.000Z',\n",
       "  'max_issues_repo_path': 'vision code/vision2.py',\n",
       "  'max_issues_repo_name': 'Rye-Catcher-ZCH/HITSZ-2020-Bioinformatics-Course-Project-Two-Team-zchnb',\n",
       "  'max_issues_repo_head_hexsha': '80fb3abf62c95d5a09c54dc15d2ec48c3e2547e9',\n",
       "  'max_issues_repo_licenses': ['MIT'],\n",
       "  'max_issues_count': None,\n",
       "  'max_issues_repo_issues_event_min_datetime': None,\n",
       "  'max_issues_repo_issues_event_max_datetime': None,\n",
       "  'max_forks_repo_path': 'vision code/vision2.py',\n",
       "  'max_forks_repo_name': 'Rye-Catcher-ZCH/HITSZ-2020-Bioinformatics-Course-Project-Two-Team-zchnb',\n",
       "  'max_forks_repo_head_hexsha': '80fb3abf62c95d5a09c54dc15d2ec48c3e2547e9',\n",
       "  'max_forks_repo_licenses': ['MIT'],\n",
       "  'max_forks_count': None,\n",
       "  'max_forks_repo_forks_event_min_datetime': None,\n",
       "  'max_forks_repo_forks_event_max_datetime': None,\n",
       "  'avg_line_length': 25.8787878788,\n",
       "  'max_line_length': 72,\n",
       "  'alphanum_fraction': 0.7201405152,\n",
       "  'text': '#coding:utf-8\\nimport matplotlib\\n#matplotlib.use(\"Agg\")\\nimport numpy as np\\nimport matplotlib.pyplot as plt\\nfrom sklearn.metrics import precision_recall_curve\\nimport csv\\nfrom scipy import interpolate\\n\\nplt.figure(1) # 创建图表1\\nplt.title(\\'Precision/Recall Curve\\')# give plot a title\\nplt.xlabel(\\'Recall\\')# make axis labels\\nplt.ylabel(\\'Precision\\')\\nresult = np.zeros([2,8000])\\ni = 0\\nwith open(\\'test_results.csv\\',\\'r\\') as csvfile:\\n    reader = csv.reader(csvfile)\\n    for row in reader:\\n        result[0][i] = row[0]\\n        result[1][i] = row[3]\\n        i = i+1\\n\\n#y_true和y_scores分别是gt label和predict score\\ny_true = result[1]\\ny_scores = result[0]\\nprecision, recall, thresholds = precision_recall_curve(y_true, y_scores)\\nplt.figure(1)\\n#f = interpolate.interp1d(precision,recall,kind=\\'cubic\\')\\n#x = np.linspace(0,1,8000)\\n#y = f(x)\\nplt.plot(precision, recall)\\nplt.show()\\n',\n",
       "  'formatted_text': \"```python\\nimport matplotlib.pyplot as plt\\nimport numpy as np\\n\\n# Sample data\\nprecision = np.linspace(0, 1, 100)\\nrecall = np.sqrt(1 - precision**2)\\n\\n# Create a new figure\\nplt.figure(figsize=(6.0, 4.0))\\n\\n# Plot the precision-recall curve\\nplt.plot(precision, recall, label='Precision-Recall Curve')\\n\\n# Set labels and title\\nplt.title('Precision/Recall Curve')\\nplt.xlabel('Recall')\\nplt.ylabel('Precision')\\n\\n# Show the plot\\nplt.show()\\n```\",\n",
       "  'source': 'v1',\n",
       "  'images': ['/mnt/lingjiejiang/multimodal_code/data/chart_data/github_images/images_split3/071320.jpg'],\n",
       "  'prompt': 'Can you draft Python code using matplotlib to recreate this visual, making sure to adjust the size with figsize=(6, 4)?',\n",
       "  'messages': [{'content': '<image>\\nCan you draft Python code using matplotlib to recreate this visual, making sure to adjust the size with figsize=(6, 4)?\\n',\n",
       "    'role': 'user'},\n",
       "   {'content': \"```python\\nimport matplotlib.pyplot as plt\\nimport numpy as np\\n\\n# Sample data\\nprecision = np.linspace(0, 1, 100)\\nrecall = np.sqrt(1 - precision**2)\\n\\n# Create a new figure\\nplt.figure(figsize=(6.0, 4.0))\\n\\n# Plot the precision-recall curve\\nplt.plot(precision, recall, label='Precision-Recall Curve')\\n\\n# Set labels and title\\nplt.title('Precision/Recall Curve')\\nplt.xlabel('Recall')\\nplt.ylabel('Precision')\\n\\n# Show the plot\\nplt.show()\\n```\",\n",
       "    'role': 'assistant'}]},\n",
       " {'index': 85162,\n",
       "  'revised_text': \"import matplotlib.pyplot as plt\\nimport numpy as np\\n\\n# Sample data\\nx = np.linspace(0, 10, 100)\\ny = np.sin(x)\\n\\n# Create a new figure\\nfig = plt.figure(figsize=(6.0, 4.0))\\n\\n# Plot the data\\nplt.plot(x, y, label='Sine Wave')\\n\\n# Set labels\\nplt.xlabel('X')\\nplt.ylabel('Y')\\n\\n# Add a legend\\nplt.legend()\\n\\n# Show the plot\\nplt.show()\",\n",
       "  'category': 'Line',\n",
       "  'chart_size': [6.0, 4.0],\n",
       "  'hexsha': '4fa92bd5aeee8c9e2c054c1e7ed428cea1506c2c',\n",
       "  'size': 942,\n",
       "  'ext': 'py',\n",
       "  'max_stars_repo_path': 'examples/plot_transect.py',\n",
       "  'max_stars_repo_name': 'tkarna/galene',\n",
       "  'max_stars_repo_head_hexsha': 'a05463d3d0c9191c51893df4593d9ce0252d25fb',\n",
       "  'max_stars_repo_licenses': ['MIT'],\n",
       "  'max_stars_count': None,\n",
       "  'max_stars_repo_stars_event_min_datetime': None,\n",
       "  'max_stars_repo_stars_event_max_datetime': None,\n",
       "  'max_issues_repo_path': 'examples/plot_transect.py',\n",
       "  'max_issues_repo_name': 'tkarna/galene',\n",
       "  'max_issues_repo_head_hexsha': 'a05463d3d0c9191c51893df4593d9ce0252d25fb',\n",
       "  'max_issues_repo_licenses': ['MIT'],\n",
       "  'max_issues_count': None,\n",
       "  'max_issues_repo_issues_event_min_datetime': None,\n",
       "  'max_issues_repo_issues_event_max_datetime': None,\n",
       "  'max_forks_repo_path': 'examples/plot_transect.py',\n",
       "  'max_forks_repo_name': 'tkarna/galene',\n",
       "  'max_forks_repo_head_hexsha': 'a05463d3d0c9191c51893df4593d9ce0252d25fb',\n",
       "  'max_forks_repo_licenses': ['MIT'],\n",
       "  'max_forks_count': None,\n",
       "  'max_forks_repo_forks_event_min_datetime': None,\n",
       "  'max_forks_repo_forks_event_max_datetime': None,\n",
       "  'avg_line_length': 26.1666666667,\n",
       "  'max_line_length': 75,\n",
       "  'alphanum_fraction': 0.7420382166,\n",
       "  'text': \"import numpy\\nimport matplotlib.pyplot as plt\\nimport galene as ga\\nfrom galene.numpy_interface import create_transect_cube\\nimport iris\\n\\nnpoints = 40\\nndepth = 12\\n\\n# generate coordinates\\nlat = numpy.linspace(61.0, 61.5, npoints)\\nlon = numpy.linspace(20.5, 19.5, npoints)\\ndepth = numpy.linspace(0, 40, ndepth)\\ntime = numpy.linspace(0, 5*24*3600., npoints)\\n\\n# generate artificial data\\ndistance = numpy.linspace(0, 1, npoints)\\na, b = numpy.meshgrid(depth, distance, indexing='ij')\\nvalues = numpy.sin(10*b) * a/20\\n\\n# add required metadata\\nattributes = {}\\nattributes['dataset_id'] = 'testdata'  # e.g. mission name, uivelo-20211\\nattributes['location_name'] = 'transectA'  # e.g. transect name, segment4-5\\n\\ncube = create_transect_cube(lat, lon, depth, values, time,\\n    'sea_water_practical_salinity', '1e-3', attributes=attributes)\\nprint(cube)\\n\\n# save in standard format\\nga.save_cube(cube)\\n\\n# plot\\nga.save_timetransect_figure([cube], None)\\nplt.show()\\n\",\n",
       "  'formatted_text': \"```python\\nimport matplotlib.pyplot as plt\\nimport numpy as np\\n\\n# Sample data\\nx = np.linspace(0, 10, 100)\\ny = np.sin(x)\\n\\n# Create a new figure\\nfig = plt.figure(figsize=(6.0, 4.0))\\n\\n# Plot the data\\nplt.plot(x, y, label='Sine Wave')\\n\\n# Set labels\\nplt.xlabel('X')\\nplt.ylabel('Y')\\n\\n# Add a legend\\nplt.legend()\\n\\n# Show the plot\\nplt.show()\\n```\",\n",
       "  'source': 'v1',\n",
       "  'images': ['/mnt/lingjiejiang/multimodal_code/data/chart_data/github_images/images_split3/085163.jpg'],\n",
       "  'prompt': 'Your challenge is to write the Python code using matplotlib that duplicates the image, ensuring the use of figsize=(6, 4) for size accuracy.',\n",
       "  'messages': [{'content': '<image>\\nYour challenge is to write the Python code using matplotlib that duplicates the image, ensuring the use of figsize=(6, 4) for size accuracy.\\n',\n",
       "    'role': 'user'},\n",
       "   {'content': \"```python\\nimport matplotlib.pyplot as plt\\nimport numpy as np\\n\\n# Sample data\\nx = np.linspace(0, 10, 100)\\ny = np.sin(x)\\n\\n# Create a new figure\\nfig = plt.figure(figsize=(6.0, 4.0))\\n\\n# Plot the data\\nplt.plot(x, y, label='Sine Wave')\\n\\n# Set labels\\nplt.xlabel('X')\\nplt.ylabel('Y')\\n\\n# Add a legend\\nplt.legend()\\n\\n# Show the plot\\nplt.show()\\n```\",\n",
       "    'role': 'assistant'}]}]"
      ]
     },
     "execution_count": 8,
     "metadata": {},
     "output_type": "execute_result"
    }
   ],
   "source": [
    "revised_data_line_3k[:2]"
   ]
  },
  {
   "cell_type": "code",
   "execution_count": 2,
   "metadata": {},
   "outputs": [
    {
     "data": {
      "text/plain": [
       "80061"
      ]
     },
     "execution_count": 2,
     "metadata": {},
     "output_type": "execute_result"
    }
   ],
   "source": [
    "import json\n",
    "html_path = \"/mnt/lingjiejiang/multimodal_code/data/Web2code_gpt4o/revised_html_tag_80k_v2.json\"\n",
    "with open(html_path, 'r') as f:\n",
    "    html_data = json.load(f)\n",
    "len(html_data)"
   ]
  },
  {
   "cell_type": "code",
   "execution_count": 4,
   "metadata": {},
   "outputs": [],
   "source": [
    "html_chart_mix_v1 = html_data + filtered_rand_data\n",
    "len(html_chart_mix_v1)\n",
    "with open(\"/mnt/lingjiejiang/multimodal_code/data/chart_data/html_chart_mix_v1_119k.json\", 'w') as f:\n",
    "    json.dump(html_chart_mix_v1, f, indent=0)"
   ]
  },
  {
   "cell_type": "code",
   "execution_count": 5,
   "metadata": {},
   "outputs": [
    {
     "data": {
      "text/plain": [
       "50476"
      ]
     },
     "execution_count": 5,
     "metadata": {},
     "output_type": "execute_result"
    }
   ],
   "source": [
    "with open(\"/mnt/lingjiejiang/multimodal_code/data/chart_data/revised_evol_50k.json\", 'r') as f:\n",
    "    char_mix_data_v1 = json.load(f)\n",
    "len(char_mix_data_v1)"
   ]
  },
  {
   "cell_type": "code",
   "execution_count": 7,
   "metadata": {},
   "outputs": [],
   "source": [
    "html_chart_mix_v2 = html_data + char_mix_data_v1\n",
    "len(html_chart_mix_v2)\n",
    "with open(\"/mnt/lingjiejiang/multimodal_code/data/chart_data/html_chart_mix_v2_130k.json\", 'w') as f:\n",
    "    json.dump(html_chart_mix_v2, f, indent=0)"
   ]
  },
  {
   "cell_type": "code",
   "execution_count": 3,
   "metadata": {},
   "outputs": [
    {
     "data": {
      "text/plain": [
       "130537"
      ]
     },
     "execution_count": 3,
     "metadata": {},
     "output_type": "execute_result"
    }
   ],
   "source": [
    "import json\n",
    "with open(\"/mnt/lingjiejiang/multimodal_code/data/chart_data/html_chart_mix_v2_130k.json\", 'r') as f:\n",
    "    html_chart_mix_v1 = json.load(f)\n",
    "len(html_chart_mix_v1)"
   ]
  },
  {
   "cell_type": "code",
   "execution_count": 4,
   "metadata": {},
   "outputs": [
    {
     "data": {
      "text/plain": [
       "119648"
      ]
     },
     "execution_count": 4,
     "metadata": {},
     "output_type": "execute_result"
    }
   ],
   "source": [
    "with open(\"/mnt/lingjiejiang/multimodal_code/data/chart_data/html_chart_mix_v1_119k.json\", 'r') as f:\n",
    "    html_chart_mix_v1 = json.load(f)\n",
    "len(html_chart_mix_v1)"
   ]
  }
 ],
 "metadata": {
  "kernelspec": {
   "display_name": "llama",
   "language": "python",
   "name": "python3"
  },
  "language_info": {
   "codemirror_mode": {
    "name": "ipython",
    "version": 3
   },
   "file_extension": ".py",
   "mimetype": "text/x-python",
   "name": "python",
   "nbconvert_exporter": "python",
   "pygments_lexer": "ipython3",
   "version": "3.10.16"
  }
 },
 "nbformat": 4,
 "nbformat_minor": 2
}
